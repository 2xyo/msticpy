{
 "cells": [
  {
   "cell_type": "markdown",
   "metadata": {},
   "source": [
    "# Title: msticpy - nbwidgets\n",
    "## Description:\n",
    "This contains a few aggregated widgets using IPyWidgets that help speed things up during an investigation.\n",
    "\n"
   ]
  },
  {
   "cell_type": "markdown",
   "metadata": {},
   "source": [
    "<a id='contents'></a>\n",
    "## Table of Contents\n",
    "- [Setting query start/end times](#QueryTime)\n",
    "- [Simple time range](#Lookback)\n",
    "- [Selecting and Displaying Alerts](#AlertSelector)\n",
    "- [Selecting from list or dict](#SelectString)\n",
    "- [Getting a value from environment](#GetEnvironmentKey)\n"
   ]
  },
  {
   "cell_type": "code",
   "execution_count": 1,
   "metadata": {
    "ExecuteTime": {
     "end_time": "2019-12-19T22:12:36.439490Z",
     "start_time": "2019-12-19T22:12:34.694845Z"
    },
    "scrolled": true
   },
   "outputs": [],
   "source": [
    "# Imports\n",
    "import sys\n",
    "MIN_REQ_PYTHON = (3,6)\n",
    "if sys.version_info < MIN_REQ_PYTHON:\n",
    "    print('Check the Kernel->Change Kernel menu and ensure that Python 3.6')\n",
    "    print('or later is selected as the active kernel.')\n",
    "    sys.exit(\"Python %s.%s or later is required.\\n\" % MIN_REQ_PYTHON)\n",
    "\n",
    "from IPython.display import display, Markdown\n",
    "import pandas as pd\n",
    "# Import nbtools package\n",
    "from msticpy.nbtools import *\n"
   ]
  },
  {
   "cell_type": "markdown",
   "metadata": {},
   "source": [
    "<a id='QueryTime'></a>[Contents](#contents)\n",
    "## QueryTime\n",
    "\n",
    "This widget is used to specify time boundaries - designed to be used with the built-in msticpy queries and custom queries.\n",
    "The `start` and `end` times are exposed as datetime properties.\n",
    "\n",
    "```\n",
    "QueryTime.\n",
    "\n",
    "Composite widget to capture date and time origin\n",
    "and set start and end times for queries.\n",
    "\n",
    "Parameters\n",
    "----------\n",
    "QueryParamProvider : QueryParamProvider\n",
    "    Abstract base class\n",
    "\n",
    "Parameters\n",
    "----------\n",
    "origin_time : datetime, optional\n",
    "    The origin time (the default is `datetime.utcnow()`)\n",
    "label : str, optional\n",
    "    The description to display\n",
    "    (the default is 'Select time ({units}) to look back')\n",
    "before : int, optional\n",
    "    The default number of `units` before the `origin_time`\n",
    "    (the default is 60)\n",
    "after : int, optional\n",
    "    The default number of `units` after the `origin_time`\n",
    "    (the default is 10)\n",
    "max_before : int, optional\n",
    "    The largest value for `before` (the default is 600)\n",
    "max_after : int, optional\n",
    "    The largest value for `after` (the default is 100)\n",
    "units : str, optional\n",
    "    Time unit (the default is 'min')\n",
    "    Permissable values are 'day', 'hour', 'minute', 'second'\n",
    "    These can all be abbreviated down to initial characters\n",
    "    ('d', 'm', etc.)\n",
    "auto_display : bool, optional\n",
    "    Whether to display on instantiation (the default is False)\n",
    "```"
   ]
  },
  {
   "cell_type": "code",
   "execution_count": 2,
   "metadata": {
    "ExecuteTime": {
     "end_time": "2019-12-19T22:12:42.494790Z",
     "start_time": "2019-12-19T22:12:42.453819Z"
    }
   },
   "outputs": [
    {
     "data": {
      "application/vnd.jupyter.widget-view+json": {
       "model_id": "6bd6dda5e2d14a1ca986e723e624fe20",
       "version_major": 2,
       "version_minor": 0
      },
      "text/plain": [
       "HTML(value='<h4>Set query time boundaries</h4>')"
      ]
     },
     "metadata": {},
     "output_type": "display_data"
    },
    {
     "data": {
      "application/vnd.jupyter.widget-view+json": {
       "model_id": "73a81457875b458f95c7700873fbecc4",
       "version_major": 2,
       "version_minor": 0
      },
      "text/plain": [
       "HBox(children=(DatePicker(value=datetime.date(2020, 6, 12), description='Origin Date'), Text(value='19:13:56.2…"
      ]
     },
     "metadata": {},
     "output_type": "display_data"
    },
    {
     "data": {
      "application/vnd.jupyter.widget-view+json": {
       "model_id": "12335acffb6541f79d567f358898e6d9",
       "version_major": 2,
       "version_minor": 0
      },
      "text/plain": [
       "VBox(children=(IntRangeSlider(value=(-5, 1), description='Time Range (day):', layout=Layout(width='80%'), max=…"
      ]
     },
     "metadata": {},
     "output_type": "display_data"
    }
   ],
   "source": [
    "q_times = nbwidgets.QueryTime(units='day', max_before=20, before=5, max_after=1)\n",
    "q_times.display()"
   ]
  },
  {
   "cell_type": "code",
   "execution_count": 3,
   "metadata": {
    "ExecuteTime": {
     "end_time": "2019-09-02T23:37:00.573557Z",
     "start_time": "2019-09-02T23:37:00.569561Z"
    }
   },
   "outputs": [
    {
     "name": "stdout",
     "output_type": "stream",
     "text": [
      "2020-06-07 19:13:56.217508 .... 2020-06-13 19:13:56.217508\n"
     ]
    }
   ],
   "source": [
    "print(q_times.start, '....', q_times.end)"
   ]
  },
  {
   "cell_type": "markdown",
   "metadata": {},
   "source": [
    "Keep multiple query boundaries aligged by having QueryTime instances reference the time of the same alert or event, or have them chained from one another by referencing the origin_time of an earlier QueryTimes object"
   ]
  },
  {
   "cell_type": "code",
   "execution_count": 4,
   "metadata": {
    "ExecuteTime": {
     "end_time": "2019-12-19T22:29:50.924729Z",
     "start_time": "2019-12-19T22:29:50.845790Z"
    },
    "scrolled": true
   },
   "outputs": [
    {
     "data": {
      "application/vnd.jupyter.widget-view+json": {
       "model_id": "9033e797157346c49d366377dd7b1ecf",
       "version_major": 2,
       "version_minor": 0
      },
      "text/plain": [
       "HTML(value='<h4>Set query time boundaries</h4>')"
      ]
     },
     "metadata": {},
     "output_type": "display_data"
    },
    {
     "data": {
      "application/vnd.jupyter.widget-view+json": {
       "model_id": "182eeea445b94a319aaaa2ed59649be0",
       "version_major": 2,
       "version_minor": 0
      },
      "text/plain": [
       "HBox(children=(DatePicker(value=datetime.date(2020, 5, 28), description='Origin Date'), Text(value='19:13:56.2…"
      ]
     },
     "metadata": {},
     "output_type": "display_data"
    },
    {
     "data": {
      "application/vnd.jupyter.widget-view+json": {
       "model_id": "743dc7d0d05c438b912d4fa3cc3b14be",
       "version_major": 2,
       "version_minor": 0
      },
      "text/plain": [
       "VBox(children=(IntRangeSlider(value=(-1, 1), description='Time Range (hour):', layout=Layout(width='80%'), max…"
      ]
     },
     "metadata": {},
     "output_type": "display_data"
    },
    {
     "data": {
      "application/vnd.jupyter.widget-view+json": {
       "model_id": "b2a335b7f2764a8d994376d8f6b44cec",
       "version_major": 2,
       "version_minor": 0
      },
      "text/plain": [
       "HTML(value='<h4>Set query time boundaries</h4>')"
      ]
     },
     "metadata": {},
     "output_type": "display_data"
    },
    {
     "data": {
      "application/vnd.jupyter.widget-view+json": {
       "model_id": "ba819ce52e1c40ab837ecf2f763d2bd9",
       "version_major": 2,
       "version_minor": 0
      },
      "text/plain": [
       "HBox(children=(DatePicker(value=datetime.date(2020, 5, 28), description='Origin Date'), Text(value='19:13:56.2…"
      ]
     },
     "metadata": {},
     "output_type": "display_data"
    },
    {
     "data": {
      "application/vnd.jupyter.widget-view+json": {
       "model_id": "4384a6d5936949f089c1cb047c3fcd15",
       "version_major": 2,
       "version_minor": 0
      },
      "text/plain": [
       "VBox(children=(IntRangeSlider(value=(-4, 2), description='Time Range (hour):', layout=Layout(width='80%'), max…"
      ]
     },
     "metadata": {},
     "output_type": "display_data"
    }
   ],
   "source": [
    "from datetime import datetime, timedelta\n",
    "class MyAlert:\n",
    "    pass\n",
    "alert = MyAlert()\n",
    "alert.TimeGenerated = datetime.utcnow() - timedelta(15)\n",
    "alert.TimeGenerated\n",
    "\n",
    "q_times1 = nbwidgets.QueryTime(units='hour', max_before=20, before=1, max_after=1, \n",
    "                             origin_time=alert.TimeGenerated, auto_display=True)\n",
    "\n",
    "q_times2 = nbwidgets.QueryTime(units='hour', max_before=20, before=4, max_after=2, \n",
    "                             origin_time=alert.TimeGenerated, auto_display=True)"
   ]
  },
  {
   "cell_type": "code",
   "execution_count": 5,
   "metadata": {
    "ExecuteTime": {
     "end_time": "2019-12-19T22:29:53.682587Z",
     "start_time": "2019-12-19T22:29:53.608644Z"
    },
    "scrolled": true
   },
   "outputs": [
    {
     "data": {
      "application/vnd.jupyter.widget-view+json": {
       "model_id": "d1c5a7b006c041c885f3ebf2b9323569",
       "version_major": 2,
       "version_minor": 0
      },
      "text/plain": [
       "HTML(value='<h4>Set query time boundaries</h4>')"
      ]
     },
     "metadata": {},
     "output_type": "display_data"
    },
    {
     "data": {
      "application/vnd.jupyter.widget-view+json": {
       "model_id": "6e6bd1984c0e44749e7ff792e662d07e",
       "version_major": 2,
       "version_minor": 0
      },
      "text/plain": [
       "HBox(children=(DatePicker(value=datetime.date(2020, 6, 12), description='Origin Date'), Text(value='19:13:56.4…"
      ]
     },
     "metadata": {},
     "output_type": "display_data"
    },
    {
     "data": {
      "application/vnd.jupyter.widget-view+json": {
       "model_id": "c5184c4097d14a4fbad60c9cc914c682",
       "version_major": 2,
       "version_minor": 0
      },
      "text/plain": [
       "VBox(children=(IntRangeSlider(value=(-1, 1), description='Time Range (hour):', layout=Layout(width='80%'), max…"
      ]
     },
     "metadata": {},
     "output_type": "display_data"
    },
    {
     "data": {
      "application/vnd.jupyter.widget-view+json": {
       "model_id": "e9324f18c9bc42a091f24a8de5fc97e8",
       "version_major": 2,
       "version_minor": 0
      },
      "text/plain": [
       "HTML(value='<h4>Set query time boundaries</h4>')"
      ]
     },
     "metadata": {},
     "output_type": "display_data"
    },
    {
     "data": {
      "application/vnd.jupyter.widget-view+json": {
       "model_id": "657033fa03704fc88f2e1ed13bae0c22",
       "version_major": 2,
       "version_minor": 0
      },
      "text/plain": [
       "HBox(children=(DatePicker(value=datetime.date(2020, 5, 28), description='Origin Date'), Text(value='19:13:56.2…"
      ]
     },
     "metadata": {},
     "output_type": "display_data"
    },
    {
     "data": {
      "application/vnd.jupyter.widget-view+json": {
       "model_id": "63dc1a99f3e34599845691ed53d9db29",
       "version_major": 2,
       "version_minor": 0
      },
      "text/plain": [
       "VBox(children=(IntRangeSlider(value=(-4, 2), description='Time Range (hour):', layout=Layout(width='80%'), max…"
      ]
     },
     "metadata": {},
     "output_type": "display_data"
    }
   ],
   "source": [
    "alert.TimeGenerated = datetime.utcnow()\n",
    "q_times1 = nbwidgets.QueryTime(units='hour', max_before=20, before=1, max_after=1, \n",
    "                             origin_time=alert.TimeGenerated, auto_display=True)\n",
    "\n",
    "q_times2 = nbwidgets.QueryTime(units='hour', max_before=20, before=4, max_after=2, \n",
    "                             origin_time=q_times2.origin_time, auto_display=True)"
   ]
  },
  {
   "cell_type": "code",
   "execution_count": 6,
   "metadata": {
    "ExecuteTime": {
     "end_time": "2019-09-02T23:37:04.725203Z",
     "start_time": "2019-09-02T23:37:04.721208Z"
    },
    "scrolled": true
   },
   "outputs": [
    {
     "name": "stdout",
     "output_type": "stream",
     "text": [
      "\n",
      "SecurityAlert \n",
      "| where TimeGenerated >= datetime(2020-06-12 18:13:56.437039)\n",
      "| where TimeGenerated <= datetime(2020-06-12 20:13:56.437039)\n"
     ]
    }
   ],
   "source": [
    "# Use the values in a query\n",
    "my_kql = f'''\n",
    "SecurityAlert \n",
    "| where TimeGenerated >= datetime({q_times1.start})\n",
    "| where TimeGenerated <= datetime({q_times1.end})'''\n",
    "print(my_kql)"
   ]
  },
  {
   "cell_type": "markdown",
   "metadata": {},
   "source": [
    "<a id='Lookback'></a>[Contents](#contents)\n",
    "## Lookback\n",
    "Simpler version with single slider value\n",
    "\n",
    "Docstring:\n",
    "`nbtools.Lookback?`"
   ]
  },
  {
   "cell_type": "code",
   "execution_count": 7,
   "metadata": {
    "ExecuteTime": {
     "end_time": "2019-12-19T22:29:59.905261Z",
     "start_time": "2019-12-19T22:29:59.893270Z"
    },
    "scrolled": true
   },
   "outputs": [
    {
     "data": {
      "application/vnd.jupyter.widget-view+json": {
       "model_id": "8ea9be5c1f334d4893d4f6b3f214dea5",
       "version_major": 2,
       "version_minor": 0
      },
      "text/plain": [
       "IntSlider(value=4, description='Select time (hour) to look back', layout=Layout(height='50px', width='60%'), m…"
      ]
     },
     "metadata": {},
     "output_type": "display_data"
    }
   ],
   "source": [
    "alert.TimeGenerated = datetime.utcnow() - timedelta(5)\n",
    "lb = nbwidgets.Lookback(origin_time=alert.TimeGenerated, auto_display=True, max_value=48)"
   ]
  },
  {
   "cell_type": "code",
   "execution_count": 8,
   "metadata": {
    "ExecuteTime": {
     "end_time": "2019-09-02T23:37:09.268885Z",
     "start_time": "2019-09-02T23:37:09.265888Z"
    }
   },
   "outputs": [
    {
     "name": "stdout",
     "output_type": "stream",
     "text": [
      "2020-06-07 15:13:56.578558 .... 2020-06-07 19:13:56.578558\n"
     ]
    }
   ],
   "source": [
    "print(lb.start, '....', lb.end)"
   ]
  },
  {
   "cell_type": "markdown",
   "metadata": {},
   "source": [
    "<a id='AlertSelector'></a>[Contents](#contents)\n",
    "## Alert Browser\n",
    "\n",
    "```\n",
    "SelectAlert.\n",
    "\n",
    "View list of alerts and select one for investigation.\n",
    "Optionally provide and action to call with the selected alert as a parameter\n",
    "(typically used to display the alert.)\n",
    "\n",
    "Attributes:\n",
    "    selected_alert: the selected alert\n",
    "    alert_id: the ID of the selected alert\n",
    "    alerts: the current alert list (DataFrame)\n",
    "Init docstring:\n",
    "Create a new instance of AlertSelector.\n",
    "\n",
    "Parameters\n",
    "----------\n",
    "alerts : pd.DataFrame\n",
    "    DataFrame of alerts.\n",
    "action : Callable[..., None], optional\n",
    "    Optional function to execute for each selected alert.\n",
    "    (the default is None)\n",
    "columns : list, optional\n",
    "    Override the default column names to use from `alerts`\n",
    "    (the default is ['StartTimeUtc', 'AlertName',\n",
    "    'CompromisedEntity', 'SystemAlertId'])\n",
    "auto_display : bool, optional\n",
    "    Whether to display on instantiation (the default is False)\n",
    "```"
   ]
  },
  {
   "cell_type": "markdown",
   "metadata": {},
   "source": [
    "### Simple alert selector\n",
    "Selected alert is available as `select_alert_widget.selected_alert` property"
   ]
  },
  {
   "cell_type": "code",
   "execution_count": 21,
   "metadata": {
    "ExecuteTime": {
     "end_time": "2019-12-19T22:33:01.169572Z",
     "start_time": "2019-12-19T22:33:01.108619Z"
    }
   },
   "outputs": [
    {
     "data": {
      "text/markdown": [
       "### Simple alert selector"
      ],
      "text/plain": [
       "<IPython.core.display.Markdown object>"
      ]
     },
     "metadata": {},
     "output_type": "display_data"
    },
    {
     "data": {
      "text/markdown": [
       "Selected alert is available as `select_alert_widget.selected_alert`"
      ],
      "text/plain": [
       "<IPython.core.display.Markdown object>"
      ]
     },
     "metadata": {},
     "output_type": "display_data"
    },
    {
     "data": {
      "application/vnd.jupyter.widget-view+json": {
       "model_id": "53fd05d2bdb14280aa9b9b59ecf43eeb",
       "version_major": 2,
       "version_minor": 0
      },
      "text/plain": [
       "VBox(children=(Text(value='', description='Filter alerts by title:', style=DescriptionStyle(description_width=…"
      ]
     },
     "metadata": {},
     "output_type": "display_data"
    },
    {
     "data": {
      "text/html": [
       "<hr>"
      ],
      "text/plain": [
       "<IPython.core.display.HTML object>"
      ]
     },
     "metadata": {},
     "output_type": "display_data"
    }
   ],
   "source": [
    "# Load test data\n",
    "alerts = pd.read_csv('data/alertlist.csv')\n",
    "\n",
    "display(Markdown('### Simple alert selector'))\n",
    "display(Markdown('Selected alert is available as `select_alert_widget.selected_alert`'))\n",
    "alert_select = nbwidgets.SelectAlert(alerts=alerts)\n",
    "alert_select.display()"
   ]
  },
  {
   "cell_type": "markdown",
   "metadata": {},
   "source": [
    "### Alert selector with action=SecurityAlert'\n",
    "You can pass a function that returns one or more displayable objects.\n",
    "You can also pass a class (in this case we're passing `SecurityAlert`) that produces an IPython displayable object.\n",
    "\n",
    "The `action` class/function is passed the raw alert row as a parameter, as it is selected from the list"
   ]
  },
  {
   "cell_type": "code",
   "execution_count": 23,
   "metadata": {
    "ExecuteTime": {
     "end_time": "2019-12-19T22:33:22.044868Z",
     "start_time": "2019-12-19T22:33:21.987913Z"
    }
   },
   "outputs": [
    {
     "data": {
      "application/vnd.jupyter.widget-view+json": {
       "model_id": "4a9c5eaeefd043bc8032a4000e6204c7",
       "version_major": 2,
       "version_minor": 0
      },
      "text/plain": [
       "VBox(children=(Text(value='', description='Filter alerts by title:', style=DescriptionStyle(description_width=…"
      ]
     },
     "metadata": {},
     "output_type": "display_data"
    },
    {
     "data": {
      "text/html": [
       "<hr>"
      ],
      "text/plain": [
       "<IPython.core.display.HTML object>"
      ]
     },
     "metadata": {},
     "output_type": "display_data"
    },
    {
     "data": {
      "text/html": [
       "\n",
       "            <h3>Alert: 'DC local group addition - Demo'</h3>\n",
       "            <b>Alert_time:</b> 2019-01-11 06:31:40,\n",
       "            <b>Compr_entity:</b> nan,\n",
       "            <b>Alert_id:</b> 047f47d6-79b7-4502-824b-97abc4905a73\n",
       "            <table border=\"1\" class=\"dataframe\">\n",
       "  <thead>\n",
       "    <tr style=\"text-align: right;\">\n",
       "      <th></th>\n",
       "      <th>0</th>\n",
       "    </tr>\n",
       "  </thead>\n",
       "  <tbody>\n",
       "    <tr>\n",
       "      <th>Unnamed: 0</th>\n",
       "      <td>0</td>\n",
       "    </tr>\n",
       "    <tr>\n",
       "      <th>TenantId</th>\n",
       "      <td>802d39e1-9d70-404d-832c-2de5e2478eda</td>\n",
       "    </tr>\n",
       "    <tr>\n",
       "      <th>StartTimeUtc</th>\n",
       "      <td>2019-01-11 06:31:40</td>\n",
       "    </tr>\n",
       "    <tr>\n",
       "      <th>EndTimeUtc</th>\n",
       "      <td>2019-01-12 06:31:40</td>\n",
       "    </tr>\n",
       "    <tr>\n",
       "      <th>ProviderAlertId</th>\n",
       "      <td>e0c9484b-ad5f-4161-b73b-388676c05818</td>\n",
       "    </tr>\n",
       "    <tr>\n",
       "      <th>SystemAlertId</th>\n",
       "      <td>047f47d6-79b7-4502-824b-97abc4905a73</td>\n",
       "    </tr>\n",
       "    <tr>\n",
       "      <th>ProviderName</th>\n",
       "      <td>CustomAlertRule</td>\n",
       "    </tr>\n",
       "    <tr>\n",
       "      <th>VendorName</th>\n",
       "      <td>Alert Rule</td>\n",
       "    </tr>\n",
       "    <tr>\n",
       "      <th>AlertType</th>\n",
       "      <td>DC local group addition - Demo</td>\n",
       "    </tr>\n",
       "    <tr>\n",
       "      <th>AlertName</th>\n",
       "      <td>DC local group addition - Demo</td>\n",
       "    </tr>\n",
       "    <tr>\n",
       "      <th>AlertDisplayName</th>\n",
       "      <td>DC local group addition - Demo</td>\n",
       "    </tr>\n",
       "    <tr>\n",
       "      <th>Description</th>\n",
       "      <td>Domain controllers local group addition</td>\n",
       "    </tr>\n",
       "    <tr>\n",
       "      <th>Severity</th>\n",
       "      <td>Low</td>\n",
       "    </tr>\n",
       "    <tr>\n",
       "      <th>IsIncident</th>\n",
       "      <td>False</td>\n",
       "    </tr>\n",
       "    <tr>\n",
       "      <th>ExtendedProperties</th>\n",
       "      <td>{'Alert Mode': 'Aggregated', 'Search Query': '{\"detailBladeInputs\":{\"id\":\"/subscriptions/3c1bb38c-82e3-4f8d-a115-a7110ba70d05/resourcegroups/contoso77/providers/microsoft.operationalinsights/workspaces/contoso77\",\"parameters\":{\"q\":\"SecurityEvent\\n| where EventID == 4625\\n| extend IPCustomEntity = \\\"75.10.91.22\\\"\\n| extend HostCustomEntity = Computer\\n| extend AccountCustomEntity = Account\",\"timeInterval\":{\"intervalDuration\":86400,\"intervalEnd\":\"2019-01-12T06%3A31%3A40.000Z\"}}},\"detailBlade\":\"SearchBlade\",\"displayValue\":\"SecurityEvent\\n| where EventID == 4625\\n| extend IPCustomEntity = \\\"75.10.91.22\\\"\\n| extend HostCustomEntity = Computer\\n| extend AccountCustomEntity = Account\",\"extension\":\"Microsoft_OperationsManagementSuite_Workspace\",\"kind\":\"OpenBlade\"}', 'Search Query Results Overall Count': '23034', 'Threshold Operator': 'Greater Than', 'Threshold Value': '10000', 'Query Interval in Minutes': '1440', 'Suppression in Minutes': '800', 'Total Account Entities': '1563', 'Total IP Entities': '1', 'Total Host Entities': '1'}</td>\n",
       "    </tr>\n",
       "    <tr>\n",
       "      <th>Entities</th>\n",
       "      <td>[{'$id': '3', 'Address': '75.10.91.22', 'Type': 'ip', 'Count': 23034}, {'$id': '4', 'HostName': 'DHCPContoso77', 'Type': 'host', 'Count': 23034}, {'$id': '5', 'Name': 'ADMINISTRATOR', 'NTDomain': '', 'Host': {'$ref': '4'}, 'IsDomainJoined': False, 'Type': 'account', 'Count': 5909}, {'$id': '6', 'Name': 'ADMIN', 'NTDomain': '', 'Host': {'$ref': '4'}, 'IsDomainJoined': False, 'Type': 'account', 'Count': 878}, {'$id': '7', 'Name': 'USER', 'NTDomain': '', 'Host': {'$ref': '4'}, 'IsDomainJoined': False, 'Type': 'account', 'Count': 486}]</td>\n",
       "    </tr>\n",
       "    <tr>\n",
       "      <th>ConfidenceLevel</th>\n",
       "      <td>Unknown</td>\n",
       "    </tr>\n",
       "    <tr>\n",
       "      <th>ConfidenceScore</th>\n",
       "      <td>NaN</td>\n",
       "    </tr>\n",
       "    <tr>\n",
       "      <th>ExtendedLinks</th>\n",
       "      <td>NaN</td>\n",
       "    </tr>\n",
       "    <tr>\n",
       "      <th>WorkspaceSubscriptionId</th>\n",
       "      <td>3c1bb38c-82e3-4f8d-a115-a7110ba70d05</td>\n",
       "    </tr>\n",
       "    <tr>\n",
       "      <th>WorkspaceResourceGroup</th>\n",
       "      <td>contoso77</td>\n",
       "    </tr>\n",
       "    <tr>\n",
       "      <th>TimeGenerated</th>\n",
       "      <td>2019-01-12 06:41:44</td>\n",
       "    </tr>\n",
       "    <tr>\n",
       "      <th>ResourceId</th>\n",
       "      <td>NaN</td>\n",
       "    </tr>\n",
       "    <tr>\n",
       "      <th>SourceComputerId</th>\n",
       "      <td>NaN</td>\n",
       "    </tr>\n",
       "    <tr>\n",
       "      <th>CompromisedEntity</th>\n",
       "      <td>NaN</td>\n",
       "    </tr>\n",
       "  </tbody>\n",
       "</table><br/><h3>ExtendedProperties:</h3><table border=\"1\" class=\"dataframe\">\n",
       "  <thead>\n",
       "    <tr style=\"text-align: right;\">\n",
       "      <th></th>\n",
       "      <th>0</th>\n",
       "    </tr>\n",
       "  </thead>\n",
       "  <tbody>\n",
       "    <tr>\n",
       "      <th>Alert Mode</th>\n",
       "      <td>Aggregated</td>\n",
       "    </tr>\n",
       "    <tr>\n",
       "      <th>Search Query</th>\n",
       "      <td>{\"detailBladeInputs\":{\"id\":\"/subscriptions/3c1bb38c-82e3-4f8d-a115-a7110ba70d05/resourcegroups/contoso77/providers/microsoft.operationalinsights/workspaces/contoso77\",\"parameters\":{\"q\":\"SecurityEvent\\n| where EventID == 4625\\n| extend IPCustomEntity = \\\"75.10.91.22\\\"\\n| extend HostCustomEntity = Computer\\n| extend AccountCustomEntity = Account\",\"timeInterval\":{\"intervalDuration\":86400,\"intervalEnd\":\"2019-01-12T06%3A31%3A40.000Z\"}}},\"detailBlade\":\"SearchBlade\",\"displayValue\":\"SecurityEvent\\n| where EventID == 4625\\n| extend IPCustomEntity = \\\"75.10.91.22\\\"\\n| extend HostCustomEntity = Computer\\n| extend AccountCustomEntity = Account\",\"extension\":\"Microsoft_OperationsManagementSuite_Workspace\",\"kind\":\"OpenBlade\"}</td>\n",
       "    </tr>\n",
       "    <tr>\n",
       "      <th>Search Query Results Overall Count</th>\n",
       "      <td>23034</td>\n",
       "    </tr>\n",
       "    <tr>\n",
       "      <th>Threshold Operator</th>\n",
       "      <td>Greater Than</td>\n",
       "    </tr>\n",
       "    <tr>\n",
       "      <th>Threshold Value</th>\n",
       "      <td>10000</td>\n",
       "    </tr>\n",
       "    <tr>\n",
       "      <th>Query Interval in Minutes</th>\n",
       "      <td>1440</td>\n",
       "    </tr>\n",
       "    <tr>\n",
       "      <th>Suppression in Minutes</th>\n",
       "      <td>800</td>\n",
       "    </tr>\n",
       "    <tr>\n",
       "      <th>Total Account Entities</th>\n",
       "      <td>1563</td>\n",
       "    </tr>\n",
       "    <tr>\n",
       "      <th>Total IP Entities</th>\n",
       "      <td>1</td>\n",
       "    </tr>\n",
       "    <tr>\n",
       "      <th>Total Host Entities</th>\n",
       "      <td>1</td>\n",
       "    </tr>\n",
       "  </tbody>\n",
       "</table><h3>Entity counts: </h3>ip: 1, host: 1, account: 3"
      ],
      "text/plain": [
       "SecurityAlert(Unnamed: 0=0, TenantId=802d39e1-9d70-404d-832c-2de5e2478eda, StartTimeUtc=2019-0...)"
      ]
     },
     "metadata": {},
     "output_type": "display_data"
    }
   ],
   "source": [
    "alert_select = nbwidgets.SelectAlert(alerts=alerts, action=SecurityAlert)\n",
    "alert_select.display()"
   ]
  },
  {
   "cell_type": "code",
   "execution_count": 26,
   "metadata": {
    "ExecuteTime": {
     "end_time": "2019-12-19T22:39:52.652753Z",
     "start_time": "2019-12-19T22:39:52.584806Z"
    },
    "scrolled": true
   },
   "outputs": [
    {
     "data": {
      "text/markdown": [
       "### Or a more detailed display with extracted entities"
      ],
      "text/plain": [
       "<IPython.core.display.Markdown object>"
      ]
     },
     "metadata": {},
     "output_type": "display_data"
    },
    {
     "data": {
      "application/vnd.jupyter.widget-view+json": {
       "model_id": "c8988196513c47d8807436cf196b5066",
       "version_major": 2,
       "version_minor": 0
      },
      "text/plain": [
       "VBox(children=(Text(value='', description='Filter alerts by title:', style=DescriptionStyle(description_width=…"
      ]
     },
     "metadata": {},
     "output_type": "display_data"
    },
    {
     "data": {
      "text/html": [
       "<hr>"
      ],
      "text/plain": [
       "<IPython.core.display.HTML object>"
      ]
     },
     "metadata": {},
     "output_type": "display_data"
    },
    {
     "data": {
      "text/html": [
       "\n",
       "            <h3>Alert: 'Digital currency mining related behavior detected'</h3>\n",
       "            <b>Alert_time:</b> 2019-01-15 05:15:11,\n",
       "            <b>Compr_entity:</b> MSTICALERTSWIN1,\n",
       "            <b>Alert_id:</b> 2518547714887413669_4fa0022e-f431-4ba1-ae5f-ee23247e0853\n",
       "            <table border=\"1\" class=\"dataframe\">\n",
       "  <thead>\n",
       "    <tr style=\"text-align: right;\">\n",
       "      <th></th>\n",
       "      <th>77</th>\n",
       "    </tr>\n",
       "  </thead>\n",
       "  <tbody>\n",
       "    <tr>\n",
       "      <th>Unnamed: 0</th>\n",
       "      <td>77</td>\n",
       "    </tr>\n",
       "    <tr>\n",
       "      <th>TenantId</th>\n",
       "      <td>802d39e1-9d70-404d-832c-2de5e2478eda</td>\n",
       "    </tr>\n",
       "    <tr>\n",
       "      <th>StartTimeUtc</th>\n",
       "      <td>2019-01-15 05:15:11</td>\n",
       "    </tr>\n",
       "    <tr>\n",
       "      <th>EndTimeUtc</th>\n",
       "      <td>2019-01-15 05:15:11</td>\n",
       "    </tr>\n",
       "    <tr>\n",
       "      <th>ProviderAlertId</th>\n",
       "      <td>4fa0022e-f431-4ba1-ae5f-ee23247e0853</td>\n",
       "    </tr>\n",
       "    <tr>\n",
       "      <th>SystemAlertId</th>\n",
       "      <td>2518547714887413669_4fa0022e-f431-4ba1-ae5f-ee23247e0853</td>\n",
       "    </tr>\n",
       "    <tr>\n",
       "      <th>ProviderName</th>\n",
       "      <td>Detection</td>\n",
       "    </tr>\n",
       "    <tr>\n",
       "      <th>VendorName</th>\n",
       "      <td>Microsoft</td>\n",
       "    </tr>\n",
       "    <tr>\n",
       "      <th>AlertType</th>\n",
       "      <td>Digital currency mining related behavior detected</td>\n",
       "    </tr>\n",
       "    <tr>\n",
       "      <th>AlertName</th>\n",
       "      <td>Digital currency mining related behavior detected</td>\n",
       "    </tr>\n",
       "    <tr>\n",
       "      <th>AlertDisplayName</th>\n",
       "      <td>Digital currency mining related behavior detected</td>\n",
       "    </tr>\n",
       "    <tr>\n",
       "      <th>Description</th>\n",
       "      <td>Analysis of host data on MSTICALERTSWIN1 detected the execution of a process or command normally associated with digital currency mining.</td>\n",
       "    </tr>\n",
       "    <tr>\n",
       "      <th>Severity</th>\n",
       "      <td>High</td>\n",
       "    </tr>\n",
       "    <tr>\n",
       "      <th>IsIncident</th>\n",
       "      <td>False</td>\n",
       "    </tr>\n",
       "    <tr>\n",
       "      <th>ExtendedProperties</th>\n",
       "      <td>{'Compromised Host': 'MSTICALERTSWIN1', 'User Name': 'MSTICALERTSWIN1\\MSTICAdmin', 'Account Session Id': '0xfaac27', 'Suspicious Process': 'c:\\diagnostics\\usertmp\\suchost.exe', 'Suspicious Command Line': '.\\suchost.exe   -a cryptonight -o bcn -u bond007.01 -p x -t 4', 'Parent Process': 'c:\\windows\\system32\\cmd.exe', 'Suspicious Process Id': '0x103c', 'resourceType': 'Virtual Machine', 'ServiceId': '14fa08c7-c48e-4c18-950c-8148024b4398', 'ReportingSystem': 'Azure', 'OccuringDatacenter': 'eastus'}</td>\n",
       "    </tr>\n",
       "    <tr>\n",
       "      <th>Entities</th>\n",
       "      <td>[{'$id': '4', 'DnsDomain': '', 'NTDomain': '', 'HostName': 'MSTICALERTSWIN1', 'NetBiosName': 'MSTICALERTSWIN1', 'OSFamily': 'Windows', 'OSVersion': 'Windows', 'IsDomainJoined': False, 'Type': 'host'}, {'$id': '5', 'Directory': 'c:\\windows\\system32', 'Name': 'cmd.exe', 'Type': 'file'}, {'$id': '6', 'ProcessId': '0xbc8', 'CommandLine': '', 'ImageFile': {'$ref': '5'}, 'Host': {'$ref': '4'}, 'Type': 'process'}, {'$id': '7', 'Name': 'MSTICAdmin', 'NTDomain': 'MSTICAlertsWin1', 'Host': {'$ref': '4'}, 'Sid': 'S-1-5-21-996632719-2361334927-4038480536-500', 'IsDomainJoined': False, 'Type': 'account', 'LogonId': '0xfaac27'}, {'$id': '8', 'Directory': 'c:\\diagnostics\\usertmp', 'Name': 'suchost.exe', 'Type': 'file'}, {'$id': '9', 'ProcessId': '0x103c', 'CommandLine': '.\\suchost.exe   -a cryptonight -o bcn -u bond007.01 -p x -t 4', 'ElevationToken': 'Default', 'CreationTimeUtc': '2019-01-15T05:15:11.258633Z', 'ImageFile': {'$ref': '8'}, 'Account': {'$ref': '7'}, 'ParentProcess': {'$ref': '6'}, 'Host': {'$ref': '4'}, 'Type': 'process'}, {'$id': '10', 'SessionId': '0xfaac27', 'StartTimeUtc': '2019-01-15T05:15:11.258633Z', 'EndTimeUtc': '2019-01-15T05:15:11.258633Z', 'Type': 'host-logon-session', 'Host': {'$ref': '4'}, 'Account': {'$ref': '7'}}]</td>\n",
       "    </tr>\n",
       "    <tr>\n",
       "      <th>ConfidenceLevel</th>\n",
       "      <td>Unknown</td>\n",
       "    </tr>\n",
       "    <tr>\n",
       "      <th>ConfidenceScore</th>\n",
       "      <td>NaN</td>\n",
       "    </tr>\n",
       "    <tr>\n",
       "      <th>ExtendedLinks</th>\n",
       "      <td>NaN</td>\n",
       "    </tr>\n",
       "    <tr>\n",
       "      <th>WorkspaceSubscriptionId</th>\n",
       "      <td>3c1bb38c-82e3-4f8d-a115-a7110ba70d05</td>\n",
       "    </tr>\n",
       "    <tr>\n",
       "      <th>WorkspaceResourceGroup</th>\n",
       "      <td>contoso77</td>\n",
       "    </tr>\n",
       "    <tr>\n",
       "      <th>TimeGenerated</th>\n",
       "      <td>2019-01-15 05:15:14</td>\n",
       "    </tr>\n",
       "    <tr>\n",
       "      <th>ResourceId</th>\n",
       "      <td>/subscriptions/40dcc8bf-0478-4f3b-b275-ed0a94f2c013/resourceGroups/ASIHuntOMSWorkspaceRG/providers/Microsoft.Compute/virtualMachines/MSTICAlertsWin1</td>\n",
       "    </tr>\n",
       "    <tr>\n",
       "      <th>SourceComputerId</th>\n",
       "      <td>46fe7078-61bb-4bed-9430-7ac01d91c273</td>\n",
       "    </tr>\n",
       "    <tr>\n",
       "      <th>CompromisedEntity</th>\n",
       "      <td>MSTICALERTSWIN1</td>\n",
       "    </tr>\n",
       "  </tbody>\n",
       "</table><br/><h3>ExtendedProperties:</h3><table border=\"1\" class=\"dataframe\">\n",
       "  <thead>\n",
       "    <tr style=\"text-align: right;\">\n",
       "      <th></th>\n",
       "      <th>0</th>\n",
       "    </tr>\n",
       "  </thead>\n",
       "  <tbody>\n",
       "    <tr>\n",
       "      <th>Compromised Host</th>\n",
       "      <td>MSTICALERTSWIN1</td>\n",
       "    </tr>\n",
       "    <tr>\n",
       "      <th>User Name</th>\n",
       "      <td>MSTICALERTSWIN1\\MSTICAdmin</td>\n",
       "    </tr>\n",
       "    <tr>\n",
       "      <th>Account Session Id</th>\n",
       "      <td>0xfaac27</td>\n",
       "    </tr>\n",
       "    <tr>\n",
       "      <th>Suspicious Process</th>\n",
       "      <td>c:\\diagnostics\\usertmp\\suchost.exe</td>\n",
       "    </tr>\n",
       "    <tr>\n",
       "      <th>Suspicious Command Line</th>\n",
       "      <td>.\\suchost.exe   -a cryptonight -o bcn -u bond007.01 -p x -t 4</td>\n",
       "    </tr>\n",
       "    <tr>\n",
       "      <th>Parent Process</th>\n",
       "      <td>c:\\windows\\system32\\cmd.exe</td>\n",
       "    </tr>\n",
       "    <tr>\n",
       "      <th>Suspicious Process Id</th>\n",
       "      <td>0x103c</td>\n",
       "    </tr>\n",
       "    <tr>\n",
       "      <th>resourceType</th>\n",
       "      <td>Virtual Machine</td>\n",
       "    </tr>\n",
       "    <tr>\n",
       "      <th>ServiceId</th>\n",
       "      <td>14fa08c7-c48e-4c18-950c-8148024b4398</td>\n",
       "    </tr>\n",
       "    <tr>\n",
       "      <th>ReportingSystem</th>\n",
       "      <td>Azure</td>\n",
       "    </tr>\n",
       "    <tr>\n",
       "      <th>OccuringDatacenter</th>\n",
       "      <td>eastus</td>\n",
       "    </tr>\n",
       "  </tbody>\n",
       "</table><br/><h3>Entities:</h3><br/>{ &#x27;AdditionalData&#x27;: {},,   &#x27;DnsDomain&#x27;: &#x27;&#x27;,,   &#x27;HostName&#x27;: &#x27;MSTICALERTSWIN1&#x27;,,   &#x27;IsDomainJoined&#x27;: False,,   &#x27;NTDomain&#x27;: &#x27;&#x27;,,   &#x27;NetBiosName&#x27;: &#x27;MSTICALERTSWIN1&#x27;,,   &#x27;OSFamily&#x27;: &#x27;Windows&#x27;,,   &#x27;Type&#x27;: &#x27;host&#x27;}<br/>{ &#x27;AdditionalData&#x27;: {},,   &#x27;Directory&#x27;: &#x27;c:\\\\windows\\\\system32&#x27;,,   &#x27;FullPath&#x27;: &#x27;c:\\\\windows\\\\system32\\\\cmd.exe&#x27;,,   &#x27;Name&#x27;: &#x27;cmd.exe&#x27;,,   &#x27;Type&#x27;: &#x27;file&#x27;}<br/>{ &#x27;AdditionalData&#x27;: {},,   &#x27;CommandLine&#x27;: &#x27;&#x27;,,   &#x27;Host&#x27;: { &#x27;AdditionalData&#x27;: {},,             &#x27;DnsDomain&#x27;: &#x27;&#x27;,,             &#x27;HostName&#x27;: &#x27;MSTICALERTSWIN1&#x27;,,             &#x27;IsDomainJoined&#x27;: False,,             &#x27;NTDomain&#x27;: &#x27;&#x27;,,             &#x27;NetBiosName&#x27;: &#x27;MSTICALERTSWIN1&#x27;,,             &#x27;OSFamily&#x27;: &#x27;Windows&#x27;,,             &#x27;Type&#x27;: &#x27;host&#x27;},,   &#x27;ImageFile&#x27;: { &#x27;AdditionalData&#x27;: {},,                  &#x27;Directory&#x27;: &#x27;c:\\\\windows\\\\system32&#x27;,,                  &#x27;FullPath&#x27;: &#x27;c:\\\\windows\\\\system32\\\\cmd.exe&#x27;,,                  &#x27;Name&#x27;: &#x27;cmd.exe&#x27;,,                  &#x27;Type&#x27;: &#x27;file&#x27;},,   &#x27;ProcessId&#x27;: &#x27;0xbc8&#x27;,,   &#x27;Type&#x27;: &#x27;process&#x27;}<br/>{ &#x27;AdditionalData&#x27;: {},,   &#x27;Host&#x27;: { &#x27;AdditionalData&#x27;: {},,             &#x27;DnsDomain&#x27;: &#x27;&#x27;,,             &#x27;HostName&#x27;: &#x27;MSTICALERTSWIN1&#x27;,,             &#x27;IsDomainJoined&#x27;: False,,             &#x27;NTDomain&#x27;: &#x27;&#x27;,,             &#x27;NetBiosName&#x27;: &#x27;MSTICALERTSWIN1&#x27;,,             &#x27;OSFamily&#x27;: &#x27;Windows&#x27;,,             &#x27;Type&#x27;: &#x27;host&#x27;},,   &#x27;IsDomainJoined&#x27;: False,,   &#x27;LogonId&#x27;: &#x27;0xfaac27&#x27;,,   &#x27;NTDomain&#x27;: &#x27;MSTICAlertsWin1&#x27;,,   &#x27;Name&#x27;: &#x27;MSTICAdmin&#x27;,,   &#x27;Sid&#x27;: &#x27;S-1-5-21-996632719-2361334927-4038480536-500&#x27;,,   &#x27;Type&#x27;: &#x27;account&#x27;}<br/>{ &#x27;AdditionalData&#x27;: {},,   &#x27;Directory&#x27;: &#x27;c:\\\\diagnostics\\\\usertmp&#x27;,,   &#x27;FullPath&#x27;: &#x27;c:\\\\diagnostics\\\\usertmp\\\\suchost.exe&#x27;,,   &#x27;Name&#x27;: &#x27;suchost.exe&#x27;,,   &#x27;Type&#x27;: &#x27;file&#x27;}<br/>{ &#x27;Account&#x27;: { &#x27;AdditionalData&#x27;: {},,                &#x27;Host&#x27;: { &#x27;AdditionalData&#x27;: {},,                          &#x27;DnsDomain&#x27;: &#x27;&#x27;,,                          &#x27;HostName&#x27;: &#x27;MSTICALERTSWIN1&#x27;,,                          &#x27;IsDomainJoined&#x27;: False,,                          &#x27;NTDomain&#x27;: &#x27;&#x27;,,                          &#x27;NetBiosName&#x27;: &#x27;MSTICALERTSWIN1&#x27;,,                          &#x27;OSFamily&#x27;: &#x27;Windows&#x27;,,                          &#x27;Type&#x27;: &#x27;host&#x27;},,                &#x27;IsDomainJoined&#x27;: False,,                &#x27;LogonId&#x27;: &#x27;0xfaac27&#x27;,,                &#x27;NTDomain&#x27;: &#x27;MSTICAlertsWin1&#x27;,,                &#x27;Name&#x27;: &#x27;MSTICAdmin&#x27;,,                &#x27;Sid&#x27;: &#x27;S-1-5-21-996632719-2361334927-4038480536-500&#x27;,,                &#x27;Type&#x27;: &#x27;account&#x27;},,   &#x27;AdditionalData&#x27;: {},,   &#x27;CommandLine&#x27;: &#x27;.\\\\suchost.exe   -a cryptonight -o bcn -u bond007.01 -p x -t 4&#x27;,,   &#x27;CreationTimeUtc&#x27;: &#x27;2019-01-15T05:15:11.258633Z&#x27;,,   &#x27;ElevationToken&#x27;: &#x27;Default&#x27;,,   &#x27;Host&#x27;: { &#x27;AdditionalData&#x27;: {},,             &#x27;DnsDomain&#x27;: &#x27;&#x27;,,             &#x27;HostName&#x27;: &#x27;MSTICALERTSWIN1&#x27;,,             &#x27;IsDomainJoined&#x27;: False,,             &#x27;NTDomain&#x27;: &#x27;&#x27;,,             &#x27;NetBiosName&#x27;: &#x27;MSTICALERTSWIN1&#x27;,,             &#x27;OSFamily&#x27;: &#x27;Windows&#x27;,,             &#x27;Type&#x27;: &#x27;host&#x27;},,   &#x27;ImageFile&#x27;: { &#x27;AdditionalData&#x27;: {},,                  &#x27;Directory&#x27;: &#x27;c:\\\\diagnostics\\\\usertmp&#x27;,,                  &#x27;FullPath&#x27;: &#x27;c:\\\\diagnostics\\\\usertmp\\\\suchost.exe&#x27;,,                  &#x27;Name&#x27;: &#x27;suchost.exe&#x27;,,                  &#x27;Type&#x27;: &#x27;file&#x27;},,   &#x27;ParentProcess&#x27;: { &#x27;AdditionalData&#x27;: {},,                      &#x27;CommandLine&#x27;: &#x27;&#x27;,,                      &#x27;Host&#x27;: { &#x27;AdditionalData&#x27;: {},,                                &#x27;DnsDomain&#x27;: &#x27;&#x27;,,                                &#x27;HostName&#x27;: &#x27;MSTICALERTSWIN1&#x27;,,                                &#x27;IsDomainJoined&#x27;: False,,                                &#x27;NTDomain&#x27;: &#x27;&#x27;,,                                &#x27;NetBiosName&#x27;: &#x27;MSTICALERTSWIN1&#x27;,,                                &#x27;OSFamily&#x27;: &#x27;Windows&#x27;,,                                &#x27;Type&#x27;: &#x27;host&#x27;},,                      &#x27;ImageFile&#x27;: { &#x27;AdditionalData&#x27;: {},,                                     &#x27;Directory&#x27;: &#x27;c:\\\\windows\\\\system32&#x27;,,                                     &#x27;FullPath&#x27;: &#x27;c:\\\\windows\\\\system32\\\\cmd.exe&#x27;,,                                     &#x27;Name&#x27;: &#x27;cmd.exe&#x27;,,                                     &#x27;Type&#x27;: &#x27;file&#x27;},,                      &#x27;ProcessId&#x27;: &#x27;0xbc8&#x27;,,                      &#x27;Type&#x27;: &#x27;process&#x27;},,   &#x27;ProcessId&#x27;: &#x27;0x103c&#x27;,,   &#x27;Type&#x27;: &#x27;process&#x27;}<br/>{ &#x27;Account&#x27;: { &#x27;AdditionalData&#x27;: {},,                &#x27;Host&#x27;: { &#x27;AdditionalData&#x27;: {},,                          &#x27;DnsDomain&#x27;: &#x27;&#x27;,,                          &#x27;HostName&#x27;: &#x27;MSTICALERTSWIN1&#x27;,,                          &#x27;IsDomainJoined&#x27;: False,,                          &#x27;NTDomain&#x27;: &#x27;&#x27;,,                          &#x27;NetBiosName&#x27;: &#x27;MSTICALERTSWIN1&#x27;,,                          &#x27;OSFamily&#x27;: &#x27;Windows&#x27;,,                          &#x27;Type&#x27;: &#x27;host&#x27;},,                &#x27;IsDomainJoined&#x27;: False,,                &#x27;LogonId&#x27;: &#x27;0xfaac27&#x27;,,                &#x27;NTDomain&#x27;: &#x27;MSTICAlertsWin1&#x27;,,                &#x27;Name&#x27;: &#x27;MSTICAdmin&#x27;,,                &#x27;Sid&#x27;: &#x27;S-1-5-21-996632719-2361334927-4038480536-500&#x27;,,                &#x27;Type&#x27;: &#x27;account&#x27;},,   &#x27;AdditionalData&#x27;: {},,   &#x27;EndTimeUtc&#x27;: &#x27;2019-01-15T05:15:11.258633Z&#x27;,,   &#x27;Host&#x27;: { &#x27;AdditionalData&#x27;: {},,             &#x27;DnsDomain&#x27;: &#x27;&#x27;,,             &#x27;HostName&#x27;: &#x27;MSTICALERTSWIN1&#x27;,,             &#x27;IsDomainJoined&#x27;: False,,             &#x27;NTDomain&#x27;: &#x27;&#x27;,,             &#x27;NetBiosName&#x27;: &#x27;MSTICALERTSWIN1&#x27;,,             &#x27;OSFamily&#x27;: &#x27;Windows&#x27;,,             &#x27;Type&#x27;: &#x27;host&#x27;},,   &#x27;SessionId&#x27;: &#x27;0xfaac27&#x27;,,   &#x27;StartTimeUtc&#x27;: &#x27;2019-01-15T05:15:11.258633Z&#x27;,,   &#x27;Type&#x27;: &#x27;host-logon-session&#x27;}"
      ],
      "text/plain": [
       "<IPython.core.display.HTML object>"
      ]
     },
     "metadata": {},
     "output_type": "display_data"
    }
   ],
   "source": [
    "from IPython.display import HTML\n",
    "security_alert = None\n",
    "\n",
    "# create a function to get the displayable object\n",
    "def alert_with_entities(alert):\n",
    "    return HTML(SecurityAlert(alert).to_html(show_entities=True))\n",
    "                \n",
    "alert_select = nbwidgets.SelectAlert(alerts=alerts.query('CompromisedEntity == \"MSTICALERTSWIN1\"'), \n",
    "                                     action=alert_with_entities)\n",
    "display(Markdown('### Or a more detailed display with extracted entities'))\n",
    "alert_select"
   ]
  },
  {
   "cell_type": "markdown",
   "metadata": {},
   "source": [
    "<a id='SelectItem'></a>[Contents](#contents)\n",
    "## SelectItem\n",
    "\n",
    "Similar to AlertSelector but simpler and allows you to use any list or dictionary of items.\n",
    "\n",
    "```\n",
    "Selection list from list or dict.\n",
    "\n",
    "Attributes:\n",
    "    value : The selected value.\n",
    "Init docstring:\n",
    "Select an item from a list or dict.\n",
    "\n",
    "Parameters\n",
    "----------\n",
    "description : str, optional\n",
    "    The widget label to display (the default is None)\n",
    "item_list : List[str], optional\n",
    "    A `list` of items to select from (the default is None)\n",
    "item_dict : Mapping[str, str], optional\n",
    "    A `dict` of items to select from. When using `item_dict`\n",
    "    the keys are displayed as the selectable items and value\n",
    "    corresponding to the selected key is set as the `value`\n",
    "    property.\n",
    "    (the default is None)\n",
    "action : Callable[..., None], optional\n",
    "    function to call when item selected (passed a single\n",
    "    parameter - the value of the currently selected item)\n",
    "    (the default is None)\n",
    "auto_display : bool, optional\n",
    "    Whether to display on instantiation (the default is False)\n",
    "height : str, optional\n",
    "    Selection list height (the default is '100px')\n",
    "width : str, optional\n",
    "    Selection list width (the default is '50%')\n",
    "```"
   ]
  },
  {
   "cell_type": "code",
   "execution_count": 32,
   "metadata": {
    "ExecuteTime": {
     "end_time": "2019-12-19T22:40:00.225872Z",
     "start_time": "2019-12-19T22:40:00.198893Z"
    }
   },
   "outputs": [
    {
     "data": {
      "application/vnd.jupyter.widget-view+json": {
       "model_id": "d4fa0d6ea67342d7bbb27bf4183ffdad",
       "version_major": 2,
       "version_minor": 0
      },
      "text/plain": [
       "VBox(children=(Text(value='', description='Filter:', style=DescriptionStyle(description_width='initial')), Sel…"
      ]
     },
     "metadata": {},
     "output_type": "display_data"
    },
    {
     "data": {
      "text/html": [
       "<hr>"
      ],
      "text/plain": [
       "<IPython.core.display.HTML object>"
      ]
     },
     "metadata": {},
     "output_type": "display_data"
    },
    {
     "data": {
      "text/html": [
       "<h3>host-logon-session</h3>{&nbsp;'Account':&nbsp;{&nbsp;'AdditionalData':&nbsp;{},<br>&nbsp;&nbsp;&nbsp;&nbsp;&nbsp;&nbsp;&nbsp;&nbsp;&nbsp;&nbsp;&nbsp;&nbsp;&nbsp;&nbsp;&nbsp;'Host':&nbsp;{&nbsp;'AdditionalData':&nbsp;{},<br>&nbsp;&nbsp;&nbsp;&nbsp;&nbsp;&nbsp;&nbsp;&nbsp;&nbsp;&nbsp;&nbsp;&nbsp;&nbsp;&nbsp;&nbsp;&nbsp;&nbsp;&nbsp;&nbsp;&nbsp;&nbsp;&nbsp;&nbsp;&nbsp;&nbsp;'DnsDomain':&nbsp;'',<br>&nbsp;&nbsp;&nbsp;&nbsp;&nbsp;&nbsp;&nbsp;&nbsp;&nbsp;&nbsp;&nbsp;&nbsp;&nbsp;&nbsp;&nbsp;&nbsp;&nbsp;&nbsp;&nbsp;&nbsp;&nbsp;&nbsp;&nbsp;&nbsp;&nbsp;'HostName':&nbsp;'MSTICALERTSWIN1',<br>&nbsp;&nbsp;&nbsp;&nbsp;&nbsp;&nbsp;&nbsp;&nbsp;&nbsp;&nbsp;&nbsp;&nbsp;&nbsp;&nbsp;&nbsp;&nbsp;&nbsp;&nbsp;&nbsp;&nbsp;&nbsp;&nbsp;&nbsp;&nbsp;&nbsp;'IsDomainJoined':&nbsp;False,<br>&nbsp;&nbsp;&nbsp;&nbsp;&nbsp;&nbsp;&nbsp;&nbsp;&nbsp;&nbsp;&nbsp;&nbsp;&nbsp;&nbsp;&nbsp;&nbsp;&nbsp;&nbsp;&nbsp;&nbsp;&nbsp;&nbsp;&nbsp;&nbsp;&nbsp;'NTDomain':&nbsp;'',<br>&nbsp;&nbsp;&nbsp;&nbsp;&nbsp;&nbsp;&nbsp;&nbsp;&nbsp;&nbsp;&nbsp;&nbsp;&nbsp;&nbsp;&nbsp;&nbsp;&nbsp;&nbsp;&nbsp;&nbsp;&nbsp;&nbsp;&nbsp;&nbsp;&nbsp;'NetBiosName':&nbsp;'MSTICALERTSWIN1',<br>&nbsp;&nbsp;&nbsp;&nbsp;&nbsp;&nbsp;&nbsp;&nbsp;&nbsp;&nbsp;&nbsp;&nbsp;&nbsp;&nbsp;&nbsp;&nbsp;&nbsp;&nbsp;&nbsp;&nbsp;&nbsp;&nbsp;&nbsp;&nbsp;&nbsp;'OSFamily':&nbsp;'Windows',<br>&nbsp;&nbsp;&nbsp;&nbsp;&nbsp;&nbsp;&nbsp;&nbsp;&nbsp;&nbsp;&nbsp;&nbsp;&nbsp;&nbsp;&nbsp;&nbsp;&nbsp;&nbsp;&nbsp;&nbsp;&nbsp;&nbsp;&nbsp;&nbsp;&nbsp;'Type':&nbsp;'host'},<br>&nbsp;&nbsp;&nbsp;&nbsp;&nbsp;&nbsp;&nbsp;&nbsp;&nbsp;&nbsp;&nbsp;&nbsp;&nbsp;&nbsp;&nbsp;'IsDomainJoined':&nbsp;False,<br>&nbsp;&nbsp;&nbsp;&nbsp;&nbsp;&nbsp;&nbsp;&nbsp;&nbsp;&nbsp;&nbsp;&nbsp;&nbsp;&nbsp;&nbsp;'LogonId':&nbsp;'0xfaac27',<br>&nbsp;&nbsp;&nbsp;&nbsp;&nbsp;&nbsp;&nbsp;&nbsp;&nbsp;&nbsp;&nbsp;&nbsp;&nbsp;&nbsp;&nbsp;'NTDomain':&nbsp;'MSTICAlertsWin1',<br>&nbsp;&nbsp;&nbsp;&nbsp;&nbsp;&nbsp;&nbsp;&nbsp;&nbsp;&nbsp;&nbsp;&nbsp;&nbsp;&nbsp;&nbsp;'Name':&nbsp;'MSTICAdmin',<br>&nbsp;&nbsp;&nbsp;&nbsp;&nbsp;&nbsp;&nbsp;&nbsp;&nbsp;&nbsp;&nbsp;&nbsp;&nbsp;&nbsp;&nbsp;'Sid':&nbsp;'S-1-5-21-996632719-2361334927-4038480536-500',<br>&nbsp;&nbsp;&nbsp;&nbsp;&nbsp;&nbsp;&nbsp;&nbsp;&nbsp;&nbsp;&nbsp;&nbsp;&nbsp;&nbsp;&nbsp;'Type':&nbsp;'account'},<br>&nbsp;&nbsp;'AdditionalData':&nbsp;{},<br>&nbsp;&nbsp;'EndTimeUtc':&nbsp;'2019-01-15T05:15:11.258633Z',<br>&nbsp;&nbsp;'Host':&nbsp;{&nbsp;'AdditionalData':&nbsp;{},<br>&nbsp;&nbsp;&nbsp;&nbsp;&nbsp;&nbsp;&nbsp;&nbsp;&nbsp;&nbsp;&nbsp;&nbsp;'DnsDomain':&nbsp;'',<br>&nbsp;&nbsp;&nbsp;&nbsp;&nbsp;&nbsp;&nbsp;&nbsp;&nbsp;&nbsp;&nbsp;&nbsp;'HostName':&nbsp;'MSTICALERTSWIN1',<br>&nbsp;&nbsp;&nbsp;&nbsp;&nbsp;&nbsp;&nbsp;&nbsp;&nbsp;&nbsp;&nbsp;&nbsp;'IsDomainJoined':&nbsp;False,<br>&nbsp;&nbsp;&nbsp;&nbsp;&nbsp;&nbsp;&nbsp;&nbsp;&nbsp;&nbsp;&nbsp;&nbsp;'NTDomain':&nbsp;'',<br>&nbsp;&nbsp;&nbsp;&nbsp;&nbsp;&nbsp;&nbsp;&nbsp;&nbsp;&nbsp;&nbsp;&nbsp;'NetBiosName':&nbsp;'MSTICALERTSWIN1',<br>&nbsp;&nbsp;&nbsp;&nbsp;&nbsp;&nbsp;&nbsp;&nbsp;&nbsp;&nbsp;&nbsp;&nbsp;'OSFamily':&nbsp;'Windows',<br>&nbsp;&nbsp;&nbsp;&nbsp;&nbsp;&nbsp;&nbsp;&nbsp;&nbsp;&nbsp;&nbsp;&nbsp;'Type':&nbsp;'host'},<br>&nbsp;&nbsp;'SessionId':&nbsp;'0xfaac27',<br>&nbsp;&nbsp;'StartTimeUtc':&nbsp;'2019-01-15T05:15:11.258633Z',<br>&nbsp;&nbsp;'Type':&nbsp;'host-logon-session'}"
      ],
      "text/plain": [
       "HostLogonSession(Type=host-logon-session, Account={ 'AdditionalData': {},\n",
       "  'Host': { 'Additional...)"
      ]
     },
     "metadata": {},
     "output_type": "display_data"
    }
   ],
   "source": [
    "# extract the entities from the previously selected alert\n",
    "security_alert = SecurityAlert(alert_select.selected_alert)\n",
    "if security_alert is None:\n",
    "    security_alert = SecurityAlert(alerts.iloc[1])\n",
    "ent_dict = {ent['Type']:ent for ent in security_alert.entities}\n",
    "\n",
    "# from IPython.display import HTML\n",
    "\n",
    "# # create a display function for the entities\n",
    "# def entity_to_html(entity):\n",
    "#     e_text = str(entity)\n",
    "#     e_type = entity.Type\n",
    "#     e_text = e_text.replace(\"\\n\", \"<br>\").replace(\" \", \"&nbsp;\")\n",
    "#     return HTML(f\"<h3>{e_type}</h3>{e_text}\")\n",
    "    \n",
    "nbwidgets.SelectItem(item_dict=ent_dict,\n",
    "                       description='Select an item',\n",
    "                       action=lambda x: x,\n",
    "                       auto_display=True);\n"
   ]
  },
  {
   "cell_type": "markdown",
   "metadata": {},
   "source": [
    "<a id='GetEnvironmentKey'></a>[Contents](#contents)\n",
    "## GetEnvironmentKey\n",
    "Get editable value of environment variable. Common use would be retrieving an API key from your environment or allowing you to paste in a value if the environment key isn't set.\n",
    "\n",
    "Note setting the variable only persists in the python kernel process running at the time. So you can retrieve it later in the notebook but not in other processes."
   ]
  },
  {
   "cell_type": "code",
   "execution_count": 14,
   "metadata": {
    "ExecuteTime": {
     "end_time": "2019-12-19T22:43:18.702480Z",
     "start_time": "2019-12-19T22:43:18.680497Z"
    },
    "scrolled": true
   },
   "outputs": [
    {
     "data": {
      "application/vnd.jupyter.widget-view+json": {
       "model_id": "6e41921f78844e2ab9dac27d3f896996",
       "version_major": 2,
       "version_minor": 0
      },
      "text/plain": [
       "HBox(children=(Text(value='C:\\\\Users\\\\Ian', description='Enter the value: ', layout=Layout(width='50%'), style…"
      ]
     },
     "metadata": {},
     "output_type": "display_data"
    }
   ],
   "source": [
    "nbwidgets.GetEnvironmentKey(env_var='userprofile', auto_display=True);"
   ]
  },
  {
   "cell_type": "markdown",
   "metadata": {},
   "source": [
    "<a id='SelectSubset'></a>[Contents](#contents)\n",
    "## SelectSubset\n",
    "Allows you to select one or multiple items from a list to populate an output set.\n",
    "\n",
    "```\n",
    "Class to select a subset from an input list.\n",
    "\n",
    "    Attributes\n",
    "    ----------\n",
    "    selected_values : List[Any]\n",
    "        The selected item values.\n",
    "    selected_items : List[Any]\n",
    "        The selected items label and value\n",
    "        \n",
    "Init docstring:\n",
    "Create instance of SelectSubset widget.\n",
    "\n",
    "Parameters\n",
    "----------\n",
    "source_items : Union[Dict[str, str], List[Any]]\n",
    "    List of source items - either a dictionary(label, value),\n",
    "    a simple list or\n",
    "    a list of (label, value) tuples.\n",
    "default_selected : Union[Dict[str, str], List[Any]]\n",
    "    Populate the selected list with values - either\n",
    "    a dictionary(label, value),\n",
    "    a simple list or\n",
    "    a list of (label, value) tuples.\n",
    "```"
   ]
  },
  {
   "cell_type": "code",
   "execution_count": 15,
   "metadata": {
    "ExecuteTime": {
     "end_time": "2019-12-19T22:52:10.297759Z",
     "start_time": "2019-12-19T22:52:10.252790Z"
    }
   },
   "outputs": [
    {
     "data": {
      "application/vnd.jupyter.widget-view+json": {
       "model_id": "75b1cb9211c0434697dc118f510c157b",
       "version_major": 2,
       "version_minor": 0
      },
      "text/plain": [
       "VBox(children=(Text(value='', description='Filter:', style=DescriptionStyle(description_width='initial')), HBo…"
      ]
     },
     "metadata": {},
     "output_type": "display_data"
    }
   ],
   "source": [
    "# Simple list\n",
    "items = list(alerts[\"AlertName\"].values)\n",
    "sel_sub = nbwidgets.SelectSubset(source_items=items)"
   ]
  },
  {
   "cell_type": "code",
   "execution_count": 16,
   "metadata": {
    "ExecuteTime": {
     "end_time": "2019-12-19T22:52:37.922930Z",
     "start_time": "2019-12-19T22:52:37.880962Z"
    },
    "scrolled": true
   },
   "outputs": [
    {
     "data": {
      "application/vnd.jupyter.widget-view+json": {
       "model_id": "79bd0087cbf74916945870e284ef86a3",
       "version_major": 2,
       "version_minor": 0
      },
      "text/plain": [
       "VBox(children=(Text(value='', description='Filter:', style=DescriptionStyle(description_width='initial')), HBo…"
      ]
     },
     "metadata": {},
     "output_type": "display_data"
    }
   ],
   "source": [
    "# Label/Value pair items with a a subset of pre-selected items\n",
    "items = {v: k for k, v in alerts[\"AlertName\"].to_dict().items()}\n",
    "pre_selected = {v: k for k, v in alerts[\"AlertName\"].to_dict().items() if \"commandline\" in v}\n",
    "sel_sub = nbwidgets.SelectSubset(source_items=items, default_selected=pre_selected)\n"
   ]
  },
  {
   "cell_type": "code",
   "execution_count": 17,
   "metadata": {
    "ExecuteTime": {
     "end_time": "2019-09-02T23:54:08.581230Z",
     "start_time": "2019-09-02T23:54:08.577235Z"
    },
    "scrolled": true
   },
   "outputs": [
    {
     "name": "stdout",
     "output_type": "stream",
     "text": [
      "Values: [79, 109, 83] \n",
      "\n",
      "Items: [('Detected suspicious commandline arguments', 79), ('Detected suspicious commandline used to start all executables in a directory', 109), ('Detected suspicious credentials in commandline', 83)]\n"
     ]
    }
   ],
   "source": [
    "print(\"Values:\", sel_sub.selected_values, \"\\n\")\n",
    "print(\"Items:\", sel_sub.selected_items)"
   ]
  },
  {
   "cell_type": "markdown",
   "metadata": {},
   "source": [
    "## Progress Indicator"
   ]
  },
  {
   "cell_type": "code",
   "execution_count": 18,
   "metadata": {
    "ExecuteTime": {
     "end_time": "2019-12-19T23:04:17.717178Z",
     "start_time": "2019-12-19T23:04:14.399755Z"
    }
   },
   "outputs": [
    {
     "data": {
      "application/vnd.jupyter.widget-view+json": {
       "model_id": "8aebb3457f35438591457955b4ed8b4a",
       "version_major": 2,
       "version_minor": 0
      },
      "text/plain": [
       "HBox(children=(IntProgress(value=0, bar_style='info', description='Progress:'), Label(value='0%')))"
      ]
     },
     "metadata": {},
     "output_type": "display_data"
    },
    {
     "data": {
      "application/vnd.jupyter.widget-view+json": {
       "model_id": "99e98487f7084c678b1640207927d121",
       "version_major": 2,
       "version_minor": 0
      },
      "text/plain": [
       "HBox(children=(IntProgress(value=0, bar_style='info', description='Progress:'), Label(value='0%')))"
      ]
     },
     "metadata": {},
     "output_type": "display_data"
    },
    {
     "name": "stdout",
     "output_type": "stream",
     "text": [
      "Volume goes to eleven!\n"
     ]
    }
   ],
   "source": [
    "from time import sleep\n",
    "progress = nbwidgets.Progress(completed_len=2000)\n",
    "for i in range(0, 2100, 100):\n",
    "    progress.update_progress(new_total=i)\n",
    "    sleep(0.1)\n",
    "    \n",
    "inc_progress = nbwidgets.Progress(completed_len=10)\n",
    "for i in range(0, 11):\n",
    "    inc_progress.update_progress(delta=1)\n",
    "    sleep(0.1)\n",
    "print(\"Volume goes to eleven!\")"
   ]
  },
  {
   "cell_type": "markdown",
   "metadata": {},
   "source": [
    "## Logon Display\n",
    "Display logon details for a Windows or Linux logon"
   ]
  },
  {
   "cell_type": "code",
   "execution_count": 34,
   "metadata": {},
   "outputs": [
    {
     "data": {
      "application/vnd.jupyter.widget-view+json": {
       "model_id": "6293dddeb0d94278ad416cea6da60ddf",
       "version_major": 2,
       "version_minor": 0
      },
      "text/plain": [
       "VBox(children=(Text(value='', description='Filter:', style=DescriptionStyle(description_width='initial')), Sel…"
      ]
     },
     "metadata": {},
     "output_type": "display_data"
    },
    {
     "data": {
      "text/html": [
       "<hr>"
      ],
      "text/plain": [
       "<IPython.core.display.HTML object>"
      ]
     },
     "metadata": {},
     "output_type": "display_data"
    },
    {
     "data": {
      "text/html": [
       "\n",
       "        <style>\n",
       "            table, td, th {border: 1px solid #ddd !important; text-align: left !important;}\n",
       "            table {border-collapse: collapse; width: 30%;}\n",
       "            th, td {padding: 15px !important;}\n",
       "        </style>\n",
       "        <table><tr><td><b>Account: </b>MSTICAdmin<br><b>Account Domain: </b>MSTICAlertsWin1<br><b>Logon Time: </b>2019-01-15 04:28:33.090<br><b>Logon type: </b>4(Batch)<br><b>User Id/SID: </b>S-1-5-21-996632719-2361334927-4038480536-500<br>&nbsp;&nbsp;SID S-1-5-21-996632719-2361334927-4038480536-500 is administrator<br>&nbsp;&nbsp;SID S-1-5-21-996632719-2361334927-4038480536-500 is local machine or domain account<br><br><b>Subject (source) account: </b>WORKGROUP/MSTICAlertsWin1$<br><b>Logon process: </b>Advapi  <br><b>Authentication: </b>Negotiate<br><b>Source IpAddress: </b>-<br><b>Source Host: </b>MSTICAlertsWin1<br><b>Logon status: </b>nan<br></td></tr></table>"
      ],
      "text/plain": [
       "<IPython.core.display.HTML object>"
      ]
     },
     "metadata": {},
     "output_type": "display_data"
    }
   ],
   "source": [
    "win_logons = pd.read_csv(\"data/host_logons.csv\")\n",
    "user_dict = win_logons.apply(lambda x: f\"{x.TargetDomainName}/{x.TargetUserName}   ({x.TimeGenerated})\", axis=1).to_dict()\n",
    "user_dict = {v: k for k, v in user_dict.items()}\n",
    "\n",
    "from msticpy.nbtools.nbdisplay import format_logon\n",
    "# create a display function for the entities\n",
    "def disp_logon(index):\n",
    "    print\n",
    "    logons = win_logons[win_logons.index == index]\n",
    "    return format_logon(logons)\n",
    "    \n",
    "acct_select = nbwidgets.SelectItem(item_dict=user_dict,\n",
    "                       description='Select an item',\n",
    "                       action=disp_logon,\n",
    "                       auto_display=True);"
   ]
  },
  {
   "cell_type": "markdown",
   "metadata": {},
   "source": [
    "#### Display a list of logons"
   ]
  },
  {
   "cell_type": "code",
   "execution_count": 36,
   "metadata": {},
   "outputs": [
    {
     "data": {
      "text/html": [
       "\n",
       "        <style>\n",
       "            table, td, th {border: 1px solid #ddd !important; text-align: left !important;}\n",
       "            table {border-collapse: collapse; width: 30%;}\n",
       "            th, td {padding: 15px !important;}\n",
       "        </style>\n",
       "        <table><tr><td><b>Account: </b>MSTICAdmin<br><b>Account Domain: </b>MSTICAlertsWin1<br><b>Logon Time: </b>2019-01-15 05:15:02.980<br><b>Logon type: </b>4(Batch)<br><b>User Id/SID: </b>S-1-5-21-996632719-2361334927-4038480536-500<br>&nbsp;&nbsp;SID S-1-5-21-996632719-2361334927-4038480536-500 is administrator<br>&nbsp;&nbsp;SID S-1-5-21-996632719-2361334927-4038480536-500 is local machine or domain account<br><br><b>Subject (source) account: </b>WORKGROUP/MSTICAlertsWin1$<br><b>Logon process: </b>Advapi  <br><b>Authentication: </b>Negotiate<br><b>Source IpAddress: </b>-<br><b>Source Host: </b>MSTICAlertsWin1<br><b>Logon status: </b>nan<br></td></tr><tr><td><b>Account: </b>SYSTEM<br><b>Account Domain: </b>NT AUTHORITY<br><b>Logon Time: </b>2019-01-15 05:15:04.503<br><b>Logon type: </b>5(Service)<br><b>User Id/SID: </b>S-1-5-18<br>&nbsp;&nbsp;SID S-1-5-18 is LOCAL_SYSTEM<br><br><b>Subject (source) account: </b>WORKGROUP/MSTICAlertsWin1$<br><b>Logon process: </b>Advapi  <br><b>Authentication: </b>Negotiate<br><b>Source IpAddress: </b>-<br><b>Source Host: </b>-<br><b>Logon status: </b>nan<br></td></tr><tr><td><b>Account: </b>adm1nistrator<br><b>Account Domain: </b>MSTICAlertsWin1<br><b>Logon Time: </b>2019-01-15 05:15:06.363<br><b>Logon type: </b>3(Network)<br><b>User Id/SID: </b>S-1-5-21-996632719-2361334927-4038480536-1066<br>&nbsp;&nbsp;SID S-1-5-21-996632719-2361334927-4038480536-1066 is local machine or domain account<br><br><b>Subject (source) account: </b>-/-<br><b>Logon process: </b>NtLmSsp <br><b>Authentication: </b>NTLM<br><b>Source IpAddress: </b>fe80::38dc:e4a9:61bd:b458<br><b>Source Host: </b>MSTICAlertsWin1<br><b>Logon status: </b>nan<br></td></tr><tr><td><b>Account: </b>SYSTEM<br><b>Account Domain: </b>NT AUTHORITY<br><b>Logon Time: </b>2019-01-15 05:15:10.813<br><b>Logon type: </b>5(Service)<br><b>User Id/SID: </b>S-1-5-18<br>&nbsp;&nbsp;SID S-1-5-18 is LOCAL_SYSTEM<br><br><b>Subject (source) account: </b>WORKGROUP/MSTICAlertsWin1$<br><b>Logon process: </b>Advapi  <br><b>Authentication: </b>Negotiate<br><b>Source IpAddress: </b>-<br><b>Source Host: </b>-<br><b>Logon status: </b>nan<br></td></tr><tr><td><b>Account: </b>SYSTEM<br><b>Account Domain: </b>NT AUTHORITY<br><b>Logon Time: </b>2019-01-15 05:15:14.453<br><b>Logon type: </b>5(Service)<br><b>User Id/SID: </b>S-1-5-18<br>&nbsp;&nbsp;SID S-1-5-18 is LOCAL_SYSTEM<br><br><b>Subject (source) account: </b>WORKGROUP/MSTICAlertsWin1$<br><b>Logon process: </b>Advapi  <br><b>Authentication: </b>Negotiate<br><b>Source IpAddress: </b>-<br><b>Source Host: </b>-<br><b>Logon status: </b>nan<br></td></tr></table>"
      ],
      "text/plain": [
       "<IPython.core.display.HTML object>"
      ]
     },
     "metadata": {},
     "output_type": "display_data"
    }
   ],
   "source": [
    "# display a list of logons\n",
    "display(format_logon(win_logons.head(5)))"
   ]
  }
 ],
 "metadata": {
  "hide_input": false,
  "kernelspec": {
   "display_name": "Python 3.6.7 64-bit",
   "language": "python",
   "name": "python36764bit5248c27440094c529a61105b4d9945f7"
  },
  "language_info": {
   "codemirror_mode": {
    "name": "ipython",
    "version": 3
   },
   "file_extension": ".py",
   "mimetype": "text/x-python",
   "name": "python",
   "nbconvert_exporter": "python",
   "pygments_lexer": "ipython3",
   "version": "3.6.7"
  },
  "latex_envs": {
   "LaTeX_envs_menu_present": true,
   "autoclose": false,
   "autocomplete": true,
   "bibliofile": "biblio.bib",
   "cite_by": "apalike",
   "current_citInitial": 1,
   "eqLabelWithNumbers": true,
   "eqNumInitial": 1,
   "hotkeys": {
    "equation": "Ctrl-E",
    "itemize": "Ctrl-I"
   },
   "labels_anchors": false,
   "latex_user_defs": false,
   "report_style_numbering": false,
   "user_envs_cfg": false
  },
  "toc": {
   "base_numbering": 1,
   "nav_menu": {},
   "number_sections": false,
   "sideBar": true,
   "skip_h1_title": false,
   "title_cell": "Table of Contents",
   "title_sidebar": "Contents",
   "toc_cell": false,
   "toc_position": {},
   "toc_section_display": true,
   "toc_window_display": false
  },
  "varInspector": {
   "cols": {
    "lenName": 16,
    "lenType": 16,
    "lenVar": 40
   },
   "kernels_config": {
    "python": {
     "delete_cmd_postfix": "",
     "delete_cmd_prefix": "del ",
     "library": "var_list.py",
     "varRefreshCmd": "print(var_dic_list())"
    },
    "r": {
     "delete_cmd_postfix": ") ",
     "delete_cmd_prefix": "rm(",
     "library": "var_list.r",
     "varRefreshCmd": "cat(var_dic_list()) "
    }
   },
   "types_to_exclude": [
    "module",
    "function",
    "builtin_function_or_method",
    "instance",
    "_Feature"
   ],
   "window_display": false
  },
  "widgets": {
   "application/vnd.jupyter.widget-state+json": {
    "state": {
     "006d67fe0e4749f3a24792233bbea943": {
      "model_module": "@jupyter-widgets/controls",
      "model_module_version": "1.5.0",
      "model_name": "SelectModel",
      "state": {
       "_options_labels": [
        "MSTICAlertsWin1/MSTICAdmin   (2019-01-15 05:15:02.980)",
        "NT AUTHORITY/SYSTEM   (2019-01-15 05:15:04.503)",
        "MSTICAlertsWin1/adm1nistrator   (2019-01-15 05:15:06.363)",
        "NT AUTHORITY/SYSTEM   (2019-01-15 05:15:10.813)",
        "NT AUTHORITY/SYSTEM   (2019-01-15 05:15:14.453)",
        "MSTICAlertsWin1/MSTICAdmin   (2019-01-15 04:28:33.090)",
        "NT AUTHORITY/SYSTEM   (2019-01-15 03:21:49.617)",
        "NT AUTHORITY/SYSTEM   (2019-01-15 03:21:51.957)",
        "NT AUTHORITY/SYSTEM   (2019-01-15 02:45:49.393)",
        "NT AUTHORITY/SYSTEM   (2019-01-15 02:45:51.727)",
        "NT AUTHORITY/SYSTEM   (2019-01-15 01:42:28.340)",
        "NT AUTHORITY/SYSTEM   (2019-01-15 01:45:23.610)",
        "NT AUTHORITY/SYSTEM   (2019-01-15 03:09:49.353)",
        "NT AUTHORITY/SYSTEM   (2019-01-15 03:09:51.707)"
       ],
       "description": "Select an item",
       "index": 1,
       "layout": "IPY_MODEL_873f261e69584f66b94a10201eface74",
       "style": "IPY_MODEL_745c66eaa32644fa949a4d4729bfb6b0"
      }
     },
     "03619e74e8f54ebb9b70c026dd36a4aa": {
      "model_module": "@jupyter-widgets/controls",
      "model_module_version": "1.5.0",
      "model_name": "HBoxModel",
      "state": {
       "children": [
        "IPY_MODEL_681605cd70a74eb6b1d2564188e02712",
        "IPY_MODEL_3f053af86eac4e419cc6c23d01253c1b",
        "IPY_MODEL_c13125efe82b457583f84c9baf422b84"
       ],
       "layout": "IPY_MODEL_e1d8c257decb4efb9610232c8af8edd5"
      }
     },
     "03f5084388f646b4bdc7996131dc97dc": {
      "model_module": "@jupyter-widgets/controls",
      "model_module_version": "1.5.0",
      "model_name": "DescriptionStyleModel",
      "state": {
       "description_width": "initial"
      }
     },
     "040ecb560135412999d5113f3dee2640": {
      "model_module": "@jupyter-widgets/base",
      "model_module_version": "1.2.0",
      "model_name": "LayoutModel",
      "state": {
       "width": "50%"
      }
     },
     "054975e115fa42f1adfbd341cbba5a58": {
      "model_module": "@jupyter-widgets/controls",
      "model_module_version": "1.5.0",
      "model_name": "DescriptionStyleModel",
      "state": {
       "description_width": ""
      }
     },
     "07def27e8507463ca4f6c37ade4a70bd": {
      "model_module": "@jupyter-widgets/base",
      "model_module_version": "1.2.0",
      "model_name": "LayoutModel",
      "state": {
       "height": "200px",
       "width": "40%"
      }
     },
     "0aa29f9f7b3e40368e85a0e1a298d0c0": {
      "model_module": "@jupyter-widgets/controls",
      "model_module_version": "1.5.0",
      "model_name": "DescriptionStyleModel",
      "state": {
       "description_width": "initial"
      }
     },
     "0ac8722e3aa648a0912233257bf72566": {
      "model_module": "@jupyter-widgets/base",
      "model_module_version": "1.2.0",
      "model_name": "LayoutModel",
      "state": {}
     },
     "0bb85c6a880b48cb9be750da806876c2": {
      "model_module": "@jupyter-widgets/controls",
      "model_module_version": "1.5.0",
      "model_name": "TextModel",
      "state": {
       "description": "Filter:",
       "layout": "IPY_MODEL_10e7847566114e89af5c8f767c75afab",
       "style": "IPY_MODEL_20cc1d840d1f446980a48a815d402d4d"
      }
     },
     "0bed31eacbe14555bd0463368ef988de": {
      "model_module": "@jupyter-widgets/controls",
      "model_module_version": "1.5.0",
      "model_name": "SelectModel",
      "state": {
       "_options_labels": [
        "2019-01-15 05:15:03 - Suspicious Account Creation Detected - (MSTICALERTSWIN1)  - [id:2518547714966107270_3c380601-b5ad-4fff-9cdb-24528a3a19fd]",
        "2019-01-15 05:15:10 - Potential attempt to bypass AppLocker detected - (MSTICALERTSWIN1)  - [id:2518547714892475358_9e449abd-e67b-4ec8-a191-e688d7d63e26]",
        "2019-01-15 05:15:11 - Detected suspicious credentials in commandline - (MSTICALERTSWIN1)  - [id:2518547714880519889_9d6d471a-c94f-4706-b0ff-b2f0301495aa]",
        "2019-01-15 05:15:11 - Detected encoded executable in command line data - (MSTICALERTSWIN1)  - [id:2518547714885867955_290559aa-a3d0-425b-8ed2-e98ccc9f0aa0]",
        "2019-01-15 05:15:11 - Digital currency mining related behavior detected - (MSTICALERTSWIN1)  - [id:2518547714887413669_4fa0022e-f431-4ba1-ae5f-ee23247e0853]",
        "2019-01-15 05:15:11 - Suspiciously named process detected - (MSTICALERTSWIN1)  - [id:2518547714887413669_1c680842-2a1d-40c0-a6e4-32e5dd144647]",
        "2019-01-15 05:15:11 - Detected decoding of an executable using built-in certutil.exe tool - (MSTICALERTSWIN1)  - [id:2518547714882331861_5c56421d-d894-4437-9b9a-a3b5c6b7e1df]",
        "2019-01-15 05:15:12 - Detected suspicious commandline arguments - (MSTICALERTSWIN1)  - [id:2518547714879317674_226cc394-fccf-483d-888a-beafad2ed4a4]",
        "2019-01-15 05:15:12 - Detected suspicious document credentials - (MSTICALERTSWIN1)  - [id:2518547714879970078_b080127b-d5c1-425e-a7ca-e4bbd873009d]",
        "2019-01-15 05:15:12 - Suspicious Powershell Activity Detected - (MSTICALERTSWIN1)  - [id:2518547714874872692_30d988ff-b8d9-45df-8217-e56b0d4d591c]",
        "2019-01-15 05:15:12 - Suspicious powershell cmdlets executed - (MSTICALERTSWIN1)  - [id:2518547714874872692_3eb0eb4b-0536-430c-8ab6-cd48524c14b1]",
        "2019-01-15 05:15:12 - Suspicious Powershell Activity Detected - (MSTICALERTSWIN1)  - [id:2518547714876077067_953def48-a24b-42a9-bd02-7221be90f84a]",
        "2019-01-15 05:15:12 - Suspicious Powershell Activity Detected - (MSTICALERTSWIN1)  - [id:2518547714873290756_df1b9eb2-05c4-4f7c-8540-cbb18ec5c608]",
        "2019-01-15 05:15:12 - Detected obfuscated command line. - (MSTICALERTSWIN1)  - [id:2518547714871530079_77211491-86de-4295-82bc-38e332fe1112]",
        "2019-01-15 05:15:13 - Suspicious Powershell Activity Detected - (MSTICALERTSWIN1)  - [id:2518547714867787710_76336679-bddf-460f-90fb-35a1386de7a6]",
        "2019-01-15 05:15:14 - Executable found running from a suspicious location - (MSTICALERTSWIN1)  - [id:2518547714853062206_f9ddd8b3-5fa8-4f2f-b811-bdca90091195]",
        "2019-01-15 05:15:14 - Detected suspicious named pipe communications - (MSTICALERTSWIN1)  - [id:2518547714859677078_9b4e4942-d564-4755-862c-7171d52921e3]",
        "2019-01-15 05:15:14 - Suspicious process executed - (MSTICALERTSWIN1)  - [id:2518547714854375707_e2a60bd1-d7c8-466d-a176-4333d4e0d1d5]",
        "2019-01-15 05:15:14 - Suspicious WindowPosition registry value detected - (MSTICALERTSWIN1)  - [id:2518547714858429362_9bfd0e4b-ec93-46bb-8eea-f72e8f1262f1]",
        "2019-01-15 05:15:14 - Executable found running from a suspicious location - (MSTICALERTSWIN1)  - [id:2518547714857061520_f4324711-aeae-4912-a634-331b7e7456b6]",
        "2019-01-15 05:15:15 - Suspicious process executed - (MSTICALERTSWIN1)  - [id:2518547714842732992_ad5981a5-fdcc-406a-8742-e50bd7f84917]",
        "2019-01-15 05:15:15 - Detected anomalous mix of upper and lower case characters in command-line - (MSTICALERTSWIN1)  - [id:2518547714844457503_55cd3e12-3a91-4b06-9be6-833df3365142]",
        "2019-01-15 05:15:15 - Detected change to a registry key that can be abused to bypass UAC - (MSTICALERTSWIN1)  - [id:2518547714844291280_8f71e695-ba9b-4c97-9770-63cdeb34b7b4]",
        "2019-01-15 05:15:15 - Sticky keys attack detected - (MSTICALERTSWIN1)  - [id:2518547714843796759_b3737297-038c-4514-a957-d591384b4256]",
        "2019-01-15 05:15:15 - Detected suspicious use of FTP -s Switch - (MSTICALERTSWIN1)  - [id:2518547714843218505_265472ff-3820-4dad-8da7-00e39e1a99fd]",
        "2019-01-15 05:15:16 - Suspected Kerberos Golden Ticket attack parameters observed - (MSTICALERTSWIN1)  - [id:2518547714838326136_e776fca2-4c01-43eb-ab97-b9845af3529c]",
        "2019-01-15 05:15:16 - Detected suspicious new firewall rule - (MSTICALERTSWIN1)  - [id:2518547714839319574_33edaa83-fe35-47de-9486-fc9792c5b65b]",
        "2019-01-15 05:15:16 - Detected suspicious execution via rundll32.exe - (MSTICALERTSWIN1)  - [id:2518547714834806864_4bb2ecc3-f4aa-40cd-a3d7-802fc9086e89]",
        "2019-01-15 05:15:16 - Detected suspicious execution via rundll32.exe - (MSTICALERTSWIN1)  - [id:2518547714835690929_8e73946b-ebea-4625-aa60-d97b82dcfb07]",
        "2019-01-15 05:15:16 - Detected possible local reconnaissance activity - (MSTICALERTSWIN1)  - [id:2518547714837217151_f0d023fb-376f-46ab-9976-a5825d826bea]",
        "2019-01-15 05:15:16 - Detected suspicious Set-ExecutionPolicy and WinRM changes - (MSTICALERTSWIN1)  - [id:2518547714832788202_b56b9e61-fefb-47a3-a34f-7c1b44f8268a]",
        "2019-01-15 05:15:16 - Detected suspicious commandline used to start all executables in a directory - (MSTICALERTSWIN1)  - [id:2518547714833232927_0e8db234-9727-41f3-a6e0-0773519603d2]",
        "2019-01-15 05:15:16 - Detected potentially suspicious use of Telegram tool - (MSTICALERTSWIN1)  - [id:2518547714833859291_4fa26308-1daf-49ee-8880-b194f950d8b0]",
        "2019-01-15 05:15:16 - Detected actions indicative of disabling and deleting IIS log files. - (MSTICALERTSWIN1)  - [id:2518547714831067013_8df27789-fb10-4035-ac48-cd0883b2e6b0]",
        "2019-01-15 05:15:17 - Random process name detected - (MSTICALERTSWIN1)  - [id:2518547714829244584_9984a237-2dd7-4932-bb8d-23ca535a6254]",
        "2019-01-15 05:15:17 - Azure Security Center test alert (not a threat) - (MSTICALERTSWIN1)  - [id:2518547714824290520_b2d9be9f-58e2-4174-8658-419670393253]",
        "2019-01-15 05:15:18 - Detected suspicious file creation - (MSTICALERTSWIN1)  - [id:2518547714816637303_3252483f-2fdb-411a-93f5-e268d5e56abf]",
        "2019-01-15 05:15:18 - High risk software detected - (MSTICALERTSWIN1)  - [id:2518547714813699414_d12ed618-567b-4b8f-8241-82ad4c1cb28e]",
        "2019-01-15 05:15:18 - Detected possible execution of malware dropper - (MSTICALERTSWIN1)  - [id:2518547714815009424_9a34d332-2fb6-4f3f-beb0-d9817dc9b7cd]",
        "2019-01-15 05:15:18 - Ransomware indicators detected - (MSTICALERTSWIN1)  - [id:2518547714812286467_d5e026fa-6687-495e-878d-c4c93477cc78]",
        "2019-01-15 05:15:18 - Detected possible execution of keygen executable - (MSTICALERTSWIN1)  - [id:2518547714814533914_38d53571-e98a-4bb6-a17f-0361a561019e]",
        "2019-01-15 05:15:18 - Detected suspicious use of Pcalua.exe to launch executable code - (MSTICALERTSWIN1)  - [id:2518547714811337754_ad1fd62a-9565-41e4-b94a-6264942033f6]",
        "2019-01-15 05:15:18 - Detected the disabling of critical services - (MSTICALERTSWIN1)  - [id:2518547714813299511_a5df127a-f7e8-44ff-b404-6d5b37d06488]",
        "2019-01-15 05:15:18 - Detected suspicious file cleanup commands - (MSTICALERTSWIN1)  - [id:2518547714814450855_c0822e2b-785b-41a8-8136-21b7430a0078]",
        "2019-01-15 05:15:18 - Detected Petya ransomware indicators - (MSTICALERTSWIN1)  - [id:2518547714812938298_fa4939d4-a20c-440a-839c-89c0c43e1ccc]",
        "2019-01-15 05:15:18 - Detected suspicious execution of VBScript.Encode command - (MSTICALERTSWIN1)  - [id:2518547714811804858_5b42a152-64c2-4f16-8cc3-887b8b0161fc]",
        "2019-01-15 05:15:18 - Detected suspicious use of Cacls to lower the security state of the system. - (MSTICALERTSWIN1)  - [id:2518547714815952205_1ba5718e-529b-441b-8036-ad06ee862e76]",
        "2019-01-15 05:15:19 - Possible credential dumping detected - (MSTICALERTSWIN1)  - [id:2518547714809416002_76bf04a5-71fa-487a-9742-d54941a7a194]",
        "2019-01-15 05:15:19 - Suspicious download using Certutil detected - (MSTICALERTSWIN1)  - [id:2518547714805546049_03e7bf17-8f77-42ca-8ac1-af8258f4d1ca]",
        "2019-01-15 09:15:03 - Suspicious Account Creation Detected - (MSTICALERTSWIN1)  - [id:2518547570966661760_526e34b6-6578-4fc0-9db6-e126b4d673f0]",
        "2019-01-15 09:15:07 - Potential attempt to bypass AppLocker detected - (MSTICALERTSWIN1)  - [id:2518547570924760670_9868ed7d-397e-4aa4-8dbd-5a1c5f736c1e]",
        "2019-01-15 09:15:10 - Suspiciously named process detected - (MSTICALERTSWIN1)  - [id:2518547570895430544_4ea6c432-6d20-4986-9679-ecf58ac4854d]",
        "2019-01-15 09:15:10 - Digital currency mining related behavior detected - (MSTICALERTSWIN1)  - [id:2518547570895430544_72351be4-ae78-4cc6-9f6a-1ff87c31baeb]",
        "2019-01-15 09:15:11 - Suspicious Powershell Activity Detected - (MSTICALERTSWIN1)  - [id:2518547570884378777_92a2f884-5827-4fb6-acf8-b0087b76aa73]",
        "2019-01-15 09:15:11 - Suspicious Powershell Activity Detected - (MSTICALERTSWIN1)  - [id:2518547570881721037_4ca5c629-673c-4372-9bd3-ab7bf6d6e6f0]",
        "2019-01-15 09:15:11 - Suspicious Powershell Activity Detected - (MSTICALERTSWIN1)  - [id:2518547570883109415_c762b0f7-a0f5-4dda-ab48-54b5ae6eade4]",
        "2019-01-15 09:15:11 - Detected obfuscated command line. - (MSTICALERTSWIN1)  - [id:2518547570880067443_c1a9004f-7f64-4144-8ce0-8f76f9041703]",
        "2019-01-15 09:15:12 - Suspicious Powershell Activity Detected - (MSTICALERTSWIN1)  - [id:2518547570876432155_ce7c7361-8ac9-47be-b8fb-7a87c87ee178]",
        "2019-01-15 09:15:13 - Suspicious WindowPosition registry value detected - (MSTICALERTSWIN1)  - [id:2518547570866947129_1b074412-133c-4ac9-8e3f-24103159b03e]",
        "2019-01-15 09:15:13 - Executable found running from a suspicious location - (MSTICALERTSWIN1)  - [id:2518547570865502616_c6f3dea2-fe36-4e65-b161-1b1cd1104eb3]",
        "2019-01-15 09:15:13 - Executable found running from a suspicious location - (MSTICALERTSWIN1)  - [id:2518547570860979996_bddac8c5-cba5-4da2-a6dd-c0a39fc2b256]",
        "2019-01-15 09:15:13 - Suspicious process executed - (MSTICALERTSWIN1)  - [id:2518547570862568702_029c9c95-c1fe-4419-bc3b-a6d832c87e65]",
        "2019-01-15 09:15:14 - Detected anomalous mix of upper and lower case characters in command-line - (MSTICALERTSWIN1)  - [id:2518547570852901341_3ca6ca5a-8bf2-417f-b8c9-3cea37c84f4b]",
        "2019-01-15 09:15:14 - Suspicious process executed - (MSTICALERTSWIN1)  - [id:2518547570851316041_43f7d8f3-fea5-4fca-a884-713c2d65203c]",
        "2019-01-15 09:15:16 - Azure Security Center test alert (not a threat) - (MSTICALERTSWIN1)  - [id:2518547570833725387_2df8ae94-03fe-4b9f-a3a9-f3c6dab95c05]",
        "2019-01-15 09:15:17 - Ransomware indicators detected - (MSTICALERTSWIN1)  - [id:2518547570821365949_48327b74-c904-402d-a1d8-2b3a882924e7]",
        "2019-01-15 09:15:17 - Detected Petya ransomware indicators - (MSTICALERTSWIN1)  - [id:2518547570821871899_e647375c-9979-47b5-9f78-f414a1aad26d]",
        "2019-01-15 11:45:00 - Suspicious Account Creation Detected - (MSTICALERTSWIN1)  - [id:2518547480991748435_836318d1-0fa0-4cfe-a3d0-2b1fdbaf2216]",
        "2019-01-15 11:45:01 - Detected obfuscated command line. - (MSTICALERTSWIN1)  - [id:2518547480982511513_adfabbe0-fce0-44f3-be4b-17283bd03bed]",
        "2019-01-15 11:45:01 - Suspiciously named process detected - (MSTICALERTSWIN1)  - [id:2518547480988516756_54bb943e-7fe9-4146-a43e-4064c8e0049f]",
        "2019-01-15 11:45:01 - Digital currency mining related behavior detected - (MSTICALERTSWIN1)  - [id:2518547480988516756_668ed54c-9e73-4d4f-a9c2-b88fd1b13db0]",
        "2019-01-15 11:45:01 - Potential attempt to bypass AppLocker detected - (MSTICALERTSWIN1)  - [id:2518547480989617678_f3490cf7-a303-4001-b7d6-8acf7e83f191]",
        "2019-01-15 11:45:01 - Suspicious Powershell Activity Detected - (MSTICALERTSWIN1)  - [id:2518547480982973701_24a6d6f3-acf1-41bd-a11f-01a1369bac02]",
        "2019-01-15 11:45:01 - Suspicious Powershell Activity Detected - (MSTICALERTSWIN1)  - [id:2518547480984263491_d46877bd-e04d-401a-99bd-eec2a6b25663]",
        "2019-01-15 11:45:01 - Suspicious Powershell Activity Detected - (MSTICALERTSWIN1)  - [id:2518547480983467170_9da8e3df-9c3b-4e20-8bd0-ace00aff9def]",
        "2019-01-15 11:45:01 - Suspicious Powershell Activity Detected - (MSTICALERTSWIN1)  - [id:2518547480980813134_5cb7ab95-6017-4031-afb2-e11518b0f5cc]",
        "2019-01-15 11:45:02 - Executable found running from a suspicious location - (MSTICALERTSWIN1)  - [id:2518547480975043692_7e663699-5412-496f-ac91-e21a7b6f0be5]",
        "2019-01-15 11:45:02 - Suspicious WindowPosition registry value detected - (MSTICALERTSWIN1)  - [id:2518547480977469312_e9ff6947-fd12-42d2-bb63-2d814f04482a]",
        "2019-01-15 11:45:02 - Executable found running from a suspicious location - (MSTICALERTSWIN1)  - [id:2518547480977057409_ed9d92ac-0ab8-4a2e-a1dd-f70ee30a9af1]",
        "2019-01-15 11:45:02 - Detected anomalous mix of upper and lower case characters in command-line - (MSTICALERTSWIN1)  - [id:2518547480970182118_c0558adc-b4a9-4289-b9ad-7e7260f1cde0]",
        "2019-01-15 11:45:02 - Suspicious process executed - (MSTICALERTSWIN1)  - [id:2518547480976076338_2a106d12-acd8-4dd7-9e1c-3c20b4eaa320]",
        "2019-01-15 11:45:03 - Suspicious process executed - (MSTICALERTSWIN1)  - [id:2518547480968677354_88eb8a87-a876-46aa-b8ed-be7298929ea8]",
        "2019-01-15 11:45:04 - Random process name detected - (MSTICALERTSWIN1)  - [id:2518547480956885358_b66e93d7-b38b-4785-baa5-093edc18e649]",
        "2019-01-15 11:45:05 - Azure Security Center test alert (not a threat) - (MSTICALERTSWIN1)  - [id:2518547480945920380_00d33245-c643-4155-8c05-6abc4ee3b3cd]",
        "2019-01-15 11:45:06 - Ransomware indicators detected - (MSTICALERTSWIN1)  - [id:2518547480937987105_ec1678a1-0fe8-44c5-91b5-621c40d2bb8c]",
        "2019-01-15 11:45:06 - Detected Petya ransomware indicators - (MSTICALERTSWIN1)  - [id:2518547480938543829_91a4f9a7-70ad-433b-a568-34314e3f467f]",
        "2019-01-15 13:15:10 - Suspiciously named process detected - (MSTICALERTSWIN1)  - [id:2518547426892072407_171b74b2-a431-4b55-8d69-128e5fb95329]",
        "2019-01-15 13:15:13 - Suspicious WindowPosition registry value detected - (MSTICALERTSWIN1)  - [id:2518547426863814510_75495c57-4fd6-4e27-b94c-c6f81f78bcb5]",
        "2019-01-15 13:15:14 - Suspicious process executed - (MSTICALERTSWIN1)  - [id:2518547426859453218_89d1850f-dccd-4d45-b194-650819d358d9]",
        "2019-01-15 13:15:14 - Executable found running from a suspicious location - (MSTICALERTSWIN1)  - [id:2518547426858055460_51b74398-40e2-4b1b-9d92-89c0004738c9]",
        "2019-01-15 13:15:15 - Suspicious process executed - (MSTICALERTSWIN1)  - [id:2518547426847947731_caa12d6c-4928-4787-90d4-cb27ff94373c]",
        "2019-01-15 13:15:17 - Azure Security Center test alert (not a threat) - (MSTICALERTSWIN1)  - [id:2518547426829675756_846ec406-bb3e-451b-bf6f-9e1e17a69bd6]",
        "2019-01-15 13:15:18 - Ransomware indicators detected - (MSTICALERTSWIN1)  - [id:2518547426817428483_636ab38f-2528-4356-8602-d0910f8ac600]",
        "2019-01-15 13:15:18 - Detected Petya ransomware indicators - (MSTICALERTSWIN1)  - [id:2518547426817928329_a4aa878d-93b5-4cd1-931f-30f85b9e6db2]",
        "2019-01-15 17:15:03 - Suspicious Account Creation Detected - (MSTICALERTSWIN1)  - [id:2518547282966696689_3db7e1e7-2edc-4dd9-8c1d-d908f5b8a904]",
        "2019-01-15 17:15:10 - Suspiciously named process detected - (MSTICALERTSWIN1)  - [id:2518547282892925953_0073e6d8-6c2e-42e4-8966-d1f5a3dd3517]",
        "2019-01-15 17:15:10 - Digital currency mining related behavior detected - (MSTICALERTSWIN1)  - [id:2518547282892925953_35c8d588-ddf7-46b5-a0bf-f47023f9343c]",
        "2019-01-15 17:15:10 - Potential attempt to bypass AppLocker detected - (MSTICALERTSWIN1)  - [id:2518547282896095305_82730ffa-b9ce-43f4-bf3c-a97113107cc5]",
        "2019-01-15 17:15:11 - Suspicious Powershell Activity Detected - (MSTICALERTSWIN1)  - [id:2518547282883193041_31ae6eeb-bd1d-4018-8df9-eeedd60bf1ab]",
        "2019-01-15 17:15:11 - Suspicious Powershell Activity Detected - (MSTICALERTSWIN1)  - [id:2518547282880013417_d65aa787-e867-43b1-9182-025a1a38173a]",
        "2019-01-15 17:15:11 - Suspicious Powershell Activity Detected - (MSTICALERTSWIN1)  - [id:2518547282881581273_ed5bcf39-ffd3-468a-82e3-28e108d4f06f]",
        "2019-01-15 17:15:12 - Suspicious Powershell Activity Detected - (MSTICALERTSWIN1)  - [id:2518547282874783943_bd1a0865-a507-4e2b-b8df-613238a950df]",
        "2019-01-15 17:15:12 - Detected obfuscated command line. - (MSTICALERTSWIN1)  - [id:2518547282878855119_d89d1ab7-e5b7-426c-a98f-eab95deea3ad]",
        "2019-01-15 17:15:13 - Suspicious WindowPosition registry value detected - (MSTICALERTSWIN1)  - [id:2518547282865194453_9895a5cc-6f49-45f5-a0eb-f05c1f11f264]",
        "2019-01-15 17:15:13 - Executable found running from a suspicious location - (MSTICALERTSWIN1)  - [id:2518547282863799328_84ea8dcd-9436-4b4d-82b2-36114028bd61]",
        "2019-01-15 17:15:14 - Suspicious process executed - (MSTICALERTSWIN1)  - [id:2518547282859754476_0c3ae402-a9ea-4d5c-9c09-4274b7847c2c]",
        "2019-01-15 17:15:14 - Executable found running from a suspicious location - (MSTICALERTSWIN1)  - [id:2518547282858353938_58851b10-8f5c-48f1-aade-b1529f4e2c7f]",
        "2019-01-15 17:15:14 - Detected anomalous mix of upper and lower case characters in command-line - (MSTICALERTSWIN1)  - [id:2518547282850984831_7f983018-fd59-4e9e-ba70-295f6beb0e9c]",
        "2019-01-15 17:15:15 - Suspicious process executed - (MSTICALERTSWIN1)  - [id:2518547282845656644_c7318da8-368f-47f8-bff5-e15600a3fb80]",
        "2019-01-15 17:15:18 - Azure Security Center test alert (not a threat) - (MSTICALERTSWIN1)  - [id:2518547282812706885_12ae1e22-347e-454c-ae0d-ebb48cdf189b]",
        "2019-01-15 17:15:19 - Detected Petya ransomware indicators - (MSTICALERTSWIN1)  - [id:2518547282803821916_c76cdb6c-cea0-4b2b-9ab6-1442a5857ed8]",
        "2019-01-15 17:15:19 - Ransomware indicators detected - (MSTICALERTSWIN1)  - [id:2518547282802847718_4a524cc8-7613-4c42-93a9-8c1e466a4476]"
       ],
       "description": "Select alert :",
       "index": 4,
       "layout": "IPY_MODEL_949c1d46ddb44f69a152493aa047499c",
       "style": "IPY_MODEL_6142f51ad5e94ee9a813dba474b41012"
      }
     },
     "0df50a930b774a8095f33a3bcb0278f7": {
      "model_module": "@jupyter-widgets/base",
      "model_module_version": "1.2.0",
      "model_name": "LayoutModel",
      "state": {}
     },
     "0f7969f1221b4b519decd5276c4df09d": {
      "model_module": "@jupyter-widgets/controls",
      "model_module_version": "1.5.0",
      "model_name": "TextModel",
      "state": {
       "description": "Time (24hr)",
       "layout": "IPY_MODEL_2f02afde79b94fb5b7b6409cd48caf49",
       "style": "IPY_MODEL_054975e115fa42f1adfbd341cbba5a58",
       "value": "19:13:56.295512"
      }
     },
     "10e7847566114e89af5c8f767c75afab": {
      "model_module": "@jupyter-widgets/base",
      "model_module_version": "1.2.0",
      "model_name": "LayoutModel",
      "state": {}
     },
     "12335acffb6541f79d567f358898e6d9": {
      "model_module": "@jupyter-widgets/controls",
      "model_module_version": "1.5.0",
      "model_name": "VBoxModel",
      "state": {
       "children": [
        "IPY_MODEL_c9ffae77fa0a4155aef00b74e0dee0cd",
        "IPY_MODEL_a7441d04e9cb4aff80c0eef643aaac53",
        "IPY_MODEL_c29656c3376d45b0a18f996fb72133ed"
       ],
       "layout": "IPY_MODEL_c2d3bb215600446882ef674e07d101b0"
      }
     },
     "128cc24843434f73aff59dfb08c8064a": {
      "model_module": "@jupyter-widgets/controls",
      "model_module_version": "1.5.0",
      "model_name": "SelectModel",
      "state": {
       "_options_labels": [
        "2019-01-15 05:15:03 - Suspicious Account Creation Detected - (MSTICALERTSWIN1)  - [id:2518547714966107270_3c380601-b5ad-4fff-9cdb-24528a3a19fd]",
        "2019-01-15 05:15:10 - Potential attempt to bypass AppLocker detected - (MSTICALERTSWIN1)  - [id:2518547714892475358_9e449abd-e67b-4ec8-a191-e688d7d63e26]",
        "2019-01-15 05:15:11 - Detected suspicious credentials in commandline - (MSTICALERTSWIN1)  - [id:2518547714880519889_9d6d471a-c94f-4706-b0ff-b2f0301495aa]",
        "2019-01-15 05:15:11 - Detected encoded executable in command line data - (MSTICALERTSWIN1)  - [id:2518547714885867955_290559aa-a3d0-425b-8ed2-e98ccc9f0aa0]",
        "2019-01-15 05:15:11 - Digital currency mining related behavior detected - (MSTICALERTSWIN1)  - [id:2518547714887413669_4fa0022e-f431-4ba1-ae5f-ee23247e0853]",
        "2019-01-15 05:15:11 - Suspiciously named process detected - (MSTICALERTSWIN1)  - [id:2518547714887413669_1c680842-2a1d-40c0-a6e4-32e5dd144647]",
        "2019-01-15 05:15:11 - Detected decoding of an executable using built-in certutil.exe tool - (MSTICALERTSWIN1)  - [id:2518547714882331861_5c56421d-d894-4437-9b9a-a3b5c6b7e1df]",
        "2019-01-15 05:15:12 - Detected suspicious commandline arguments - (MSTICALERTSWIN1)  - [id:2518547714879317674_226cc394-fccf-483d-888a-beafad2ed4a4]",
        "2019-01-15 05:15:12 - Detected suspicious document credentials - (MSTICALERTSWIN1)  - [id:2518547714879970078_b080127b-d5c1-425e-a7ca-e4bbd873009d]",
        "2019-01-15 05:15:12 - Suspicious Powershell Activity Detected - (MSTICALERTSWIN1)  - [id:2518547714874872692_30d988ff-b8d9-45df-8217-e56b0d4d591c]",
        "2019-01-15 05:15:12 - Suspicious powershell cmdlets executed - (MSTICALERTSWIN1)  - [id:2518547714874872692_3eb0eb4b-0536-430c-8ab6-cd48524c14b1]",
        "2019-01-15 05:15:12 - Suspicious Powershell Activity Detected - (MSTICALERTSWIN1)  - [id:2518547714876077067_953def48-a24b-42a9-bd02-7221be90f84a]",
        "2019-01-15 05:15:12 - Suspicious Powershell Activity Detected - (MSTICALERTSWIN1)  - [id:2518547714873290756_df1b9eb2-05c4-4f7c-8540-cbb18ec5c608]",
        "2019-01-15 05:15:12 - Detected obfuscated command line. - (MSTICALERTSWIN1)  - [id:2518547714871530079_77211491-86de-4295-82bc-38e332fe1112]",
        "2019-01-15 05:15:13 - Suspicious Powershell Activity Detected - (MSTICALERTSWIN1)  - [id:2518547714867787710_76336679-bddf-460f-90fb-35a1386de7a6]",
        "2019-01-15 05:15:14 - Executable found running from a suspicious location - (MSTICALERTSWIN1)  - [id:2518547714853062206_f9ddd8b3-5fa8-4f2f-b811-bdca90091195]",
        "2019-01-15 05:15:14 - Detected suspicious named pipe communications - (MSTICALERTSWIN1)  - [id:2518547714859677078_9b4e4942-d564-4755-862c-7171d52921e3]",
        "2019-01-15 05:15:14 - Suspicious process executed - (MSTICALERTSWIN1)  - [id:2518547714854375707_e2a60bd1-d7c8-466d-a176-4333d4e0d1d5]",
        "2019-01-15 05:15:14 - Suspicious WindowPosition registry value detected - (MSTICALERTSWIN1)  - [id:2518547714858429362_9bfd0e4b-ec93-46bb-8eea-f72e8f1262f1]",
        "2019-01-15 05:15:14 - Executable found running from a suspicious location - (MSTICALERTSWIN1)  - [id:2518547714857061520_f4324711-aeae-4912-a634-331b7e7456b6]",
        "2019-01-15 05:15:15 - Suspicious process executed - (MSTICALERTSWIN1)  - [id:2518547714842732992_ad5981a5-fdcc-406a-8742-e50bd7f84917]",
        "2019-01-15 05:15:15 - Detected anomalous mix of upper and lower case characters in command-line - (MSTICALERTSWIN1)  - [id:2518547714844457503_55cd3e12-3a91-4b06-9be6-833df3365142]",
        "2019-01-15 05:15:15 - Detected change to a registry key that can be abused to bypass UAC - (MSTICALERTSWIN1)  - [id:2518547714844291280_8f71e695-ba9b-4c97-9770-63cdeb34b7b4]",
        "2019-01-15 05:15:15 - Sticky keys attack detected - (MSTICALERTSWIN1)  - [id:2518547714843796759_b3737297-038c-4514-a957-d591384b4256]",
        "2019-01-15 05:15:15 - Detected suspicious use of FTP -s Switch - (MSTICALERTSWIN1)  - [id:2518547714843218505_265472ff-3820-4dad-8da7-00e39e1a99fd]",
        "2019-01-15 05:15:16 - Suspected Kerberos Golden Ticket attack parameters observed - (MSTICALERTSWIN1)  - [id:2518547714838326136_e776fca2-4c01-43eb-ab97-b9845af3529c]",
        "2019-01-15 05:15:16 - Detected suspicious new firewall rule - (MSTICALERTSWIN1)  - [id:2518547714839319574_33edaa83-fe35-47de-9486-fc9792c5b65b]",
        "2019-01-15 05:15:16 - Detected suspicious execution via rundll32.exe - (MSTICALERTSWIN1)  - [id:2518547714834806864_4bb2ecc3-f4aa-40cd-a3d7-802fc9086e89]",
        "2019-01-15 05:15:16 - Detected suspicious execution via rundll32.exe - (MSTICALERTSWIN1)  - [id:2518547714835690929_8e73946b-ebea-4625-aa60-d97b82dcfb07]",
        "2019-01-15 05:15:16 - Detected possible local reconnaissance activity - (MSTICALERTSWIN1)  - [id:2518547714837217151_f0d023fb-376f-46ab-9976-a5825d826bea]",
        "2019-01-15 05:15:16 - Detected suspicious Set-ExecutionPolicy and WinRM changes - (MSTICALERTSWIN1)  - [id:2518547714832788202_b56b9e61-fefb-47a3-a34f-7c1b44f8268a]",
        "2019-01-15 05:15:16 - Detected suspicious commandline used to start all executables in a directory - (MSTICALERTSWIN1)  - [id:2518547714833232927_0e8db234-9727-41f3-a6e0-0773519603d2]",
        "2019-01-15 05:15:16 - Detected potentially suspicious use of Telegram tool - (MSTICALERTSWIN1)  - [id:2518547714833859291_4fa26308-1daf-49ee-8880-b194f950d8b0]",
        "2019-01-15 05:15:16 - Detected actions indicative of disabling and deleting IIS log files. - (MSTICALERTSWIN1)  - [id:2518547714831067013_8df27789-fb10-4035-ac48-cd0883b2e6b0]",
        "2019-01-15 05:15:17 - Random process name detected - (MSTICALERTSWIN1)  - [id:2518547714829244584_9984a237-2dd7-4932-bb8d-23ca535a6254]",
        "2019-01-15 05:15:17 - Azure Security Center test alert (not a threat) - (MSTICALERTSWIN1)  - [id:2518547714824290520_b2d9be9f-58e2-4174-8658-419670393253]",
        "2019-01-15 05:15:18 - Detected suspicious file creation - (MSTICALERTSWIN1)  - [id:2518547714816637303_3252483f-2fdb-411a-93f5-e268d5e56abf]",
        "2019-01-15 05:15:18 - High risk software detected - (MSTICALERTSWIN1)  - [id:2518547714813699414_d12ed618-567b-4b8f-8241-82ad4c1cb28e]",
        "2019-01-15 05:15:18 - Detected possible execution of malware dropper - (MSTICALERTSWIN1)  - [id:2518547714815009424_9a34d332-2fb6-4f3f-beb0-d9817dc9b7cd]",
        "2019-01-15 05:15:18 - Ransomware indicators detected - (MSTICALERTSWIN1)  - [id:2518547714812286467_d5e026fa-6687-495e-878d-c4c93477cc78]",
        "2019-01-15 05:15:18 - Detected possible execution of keygen executable - (MSTICALERTSWIN1)  - [id:2518547714814533914_38d53571-e98a-4bb6-a17f-0361a561019e]",
        "2019-01-15 05:15:18 - Detected suspicious use of Pcalua.exe to launch executable code - (MSTICALERTSWIN1)  - [id:2518547714811337754_ad1fd62a-9565-41e4-b94a-6264942033f6]",
        "2019-01-15 05:15:18 - Detected the disabling of critical services - (MSTICALERTSWIN1)  - [id:2518547714813299511_a5df127a-f7e8-44ff-b404-6d5b37d06488]",
        "2019-01-15 05:15:18 - Detected suspicious file cleanup commands - (MSTICALERTSWIN1)  - [id:2518547714814450855_c0822e2b-785b-41a8-8136-21b7430a0078]",
        "2019-01-15 05:15:18 - Detected Petya ransomware indicators - (MSTICALERTSWIN1)  - [id:2518547714812938298_fa4939d4-a20c-440a-839c-89c0c43e1ccc]",
        "2019-01-15 05:15:18 - Detected suspicious execution of VBScript.Encode command - (MSTICALERTSWIN1)  - [id:2518547714811804858_5b42a152-64c2-4f16-8cc3-887b8b0161fc]",
        "2019-01-15 05:15:18 - Detected suspicious use of Cacls to lower the security state of the system. - (MSTICALERTSWIN1)  - [id:2518547714815952205_1ba5718e-529b-441b-8036-ad06ee862e76]",
        "2019-01-15 05:15:19 - Possible credential dumping detected - (MSTICALERTSWIN1)  - [id:2518547714809416002_76bf04a5-71fa-487a-9742-d54941a7a194]",
        "2019-01-15 05:15:19 - Suspicious download using Certutil detected - (MSTICALERTSWIN1)  - [id:2518547714805546049_03e7bf17-8f77-42ca-8ac1-af8258f4d1ca]",
        "2019-01-15 09:15:03 - Suspicious Account Creation Detected - (MSTICALERTSWIN1)  - [id:2518547570966661760_526e34b6-6578-4fc0-9db6-e126b4d673f0]",
        "2019-01-15 09:15:07 - Potential attempt to bypass AppLocker detected - (MSTICALERTSWIN1)  - [id:2518547570924760670_9868ed7d-397e-4aa4-8dbd-5a1c5f736c1e]",
        "2019-01-15 09:15:10 - Suspiciously named process detected - (MSTICALERTSWIN1)  - [id:2518547570895430544_4ea6c432-6d20-4986-9679-ecf58ac4854d]",
        "2019-01-15 09:15:10 - Digital currency mining related behavior detected - (MSTICALERTSWIN1)  - [id:2518547570895430544_72351be4-ae78-4cc6-9f6a-1ff87c31baeb]",
        "2019-01-15 09:15:11 - Suspicious Powershell Activity Detected - (MSTICALERTSWIN1)  - [id:2518547570884378777_92a2f884-5827-4fb6-acf8-b0087b76aa73]",
        "2019-01-15 09:15:11 - Suspicious Powershell Activity Detected - (MSTICALERTSWIN1)  - [id:2518547570881721037_4ca5c629-673c-4372-9bd3-ab7bf6d6e6f0]",
        "2019-01-15 09:15:11 - Suspicious Powershell Activity Detected - (MSTICALERTSWIN1)  - [id:2518547570883109415_c762b0f7-a0f5-4dda-ab48-54b5ae6eade4]",
        "2019-01-15 09:15:11 - Detected obfuscated command line. - (MSTICALERTSWIN1)  - [id:2518547570880067443_c1a9004f-7f64-4144-8ce0-8f76f9041703]",
        "2019-01-15 09:15:12 - Suspicious Powershell Activity Detected - (MSTICALERTSWIN1)  - [id:2518547570876432155_ce7c7361-8ac9-47be-b8fb-7a87c87ee178]",
        "2019-01-15 09:15:13 - Suspicious WindowPosition registry value detected - (MSTICALERTSWIN1)  - [id:2518547570866947129_1b074412-133c-4ac9-8e3f-24103159b03e]",
        "2019-01-15 09:15:13 - Executable found running from a suspicious location - (MSTICALERTSWIN1)  - [id:2518547570865502616_c6f3dea2-fe36-4e65-b161-1b1cd1104eb3]",
        "2019-01-15 09:15:13 - Executable found running from a suspicious location - (MSTICALERTSWIN1)  - [id:2518547570860979996_bddac8c5-cba5-4da2-a6dd-c0a39fc2b256]",
        "2019-01-15 09:15:13 - Suspicious process executed - (MSTICALERTSWIN1)  - [id:2518547570862568702_029c9c95-c1fe-4419-bc3b-a6d832c87e65]",
        "2019-01-15 09:15:14 - Detected anomalous mix of upper and lower case characters in command-line - (MSTICALERTSWIN1)  - [id:2518547570852901341_3ca6ca5a-8bf2-417f-b8c9-3cea37c84f4b]",
        "2019-01-15 09:15:14 - Suspicious process executed - (MSTICALERTSWIN1)  - [id:2518547570851316041_43f7d8f3-fea5-4fca-a884-713c2d65203c]",
        "2019-01-15 09:15:16 - Azure Security Center test alert (not a threat) - (MSTICALERTSWIN1)  - [id:2518547570833725387_2df8ae94-03fe-4b9f-a3a9-f3c6dab95c05]",
        "2019-01-15 09:15:17 - Ransomware indicators detected - (MSTICALERTSWIN1)  - [id:2518547570821365949_48327b74-c904-402d-a1d8-2b3a882924e7]",
        "2019-01-15 09:15:17 - Detected Petya ransomware indicators - (MSTICALERTSWIN1)  - [id:2518547570821871899_e647375c-9979-47b5-9f78-f414a1aad26d]",
        "2019-01-15 11:45:00 - Suspicious Account Creation Detected - (MSTICALERTSWIN1)  - [id:2518547480991748435_836318d1-0fa0-4cfe-a3d0-2b1fdbaf2216]",
        "2019-01-15 11:45:01 - Detected obfuscated command line. - (MSTICALERTSWIN1)  - [id:2518547480982511513_adfabbe0-fce0-44f3-be4b-17283bd03bed]",
        "2019-01-15 11:45:01 - Suspiciously named process detected - (MSTICALERTSWIN1)  - [id:2518547480988516756_54bb943e-7fe9-4146-a43e-4064c8e0049f]",
        "2019-01-15 11:45:01 - Digital currency mining related behavior detected - (MSTICALERTSWIN1)  - [id:2518547480988516756_668ed54c-9e73-4d4f-a9c2-b88fd1b13db0]",
        "2019-01-15 11:45:01 - Potential attempt to bypass AppLocker detected - (MSTICALERTSWIN1)  - [id:2518547480989617678_f3490cf7-a303-4001-b7d6-8acf7e83f191]",
        "2019-01-15 11:45:01 - Suspicious Powershell Activity Detected - (MSTICALERTSWIN1)  - [id:2518547480982973701_24a6d6f3-acf1-41bd-a11f-01a1369bac02]",
        "2019-01-15 11:45:01 - Suspicious Powershell Activity Detected - (MSTICALERTSWIN1)  - [id:2518547480984263491_d46877bd-e04d-401a-99bd-eec2a6b25663]",
        "2019-01-15 11:45:01 - Suspicious Powershell Activity Detected - (MSTICALERTSWIN1)  - [id:2518547480983467170_9da8e3df-9c3b-4e20-8bd0-ace00aff9def]",
        "2019-01-15 11:45:01 - Suspicious Powershell Activity Detected - (MSTICALERTSWIN1)  - [id:2518547480980813134_5cb7ab95-6017-4031-afb2-e11518b0f5cc]",
        "2019-01-15 11:45:02 - Executable found running from a suspicious location - (MSTICALERTSWIN1)  - [id:2518547480975043692_7e663699-5412-496f-ac91-e21a7b6f0be5]",
        "2019-01-15 11:45:02 - Suspicious WindowPosition registry value detected - (MSTICALERTSWIN1)  - [id:2518547480977469312_e9ff6947-fd12-42d2-bb63-2d814f04482a]",
        "2019-01-15 11:45:02 - Executable found running from a suspicious location - (MSTICALERTSWIN1)  - [id:2518547480977057409_ed9d92ac-0ab8-4a2e-a1dd-f70ee30a9af1]",
        "2019-01-15 11:45:02 - Detected anomalous mix of upper and lower case characters in command-line - (MSTICALERTSWIN1)  - [id:2518547480970182118_c0558adc-b4a9-4289-b9ad-7e7260f1cde0]",
        "2019-01-15 11:45:02 - Suspicious process executed - (MSTICALERTSWIN1)  - [id:2518547480976076338_2a106d12-acd8-4dd7-9e1c-3c20b4eaa320]",
        "2019-01-15 11:45:03 - Suspicious process executed - (MSTICALERTSWIN1)  - [id:2518547480968677354_88eb8a87-a876-46aa-b8ed-be7298929ea8]",
        "2019-01-15 11:45:04 - Random process name detected - (MSTICALERTSWIN1)  - [id:2518547480956885358_b66e93d7-b38b-4785-baa5-093edc18e649]",
        "2019-01-15 11:45:05 - Azure Security Center test alert (not a threat) - (MSTICALERTSWIN1)  - [id:2518547480945920380_00d33245-c643-4155-8c05-6abc4ee3b3cd]",
        "2019-01-15 11:45:06 - Ransomware indicators detected - (MSTICALERTSWIN1)  - [id:2518547480937987105_ec1678a1-0fe8-44c5-91b5-621c40d2bb8c]",
        "2019-01-15 11:45:06 - Detected Petya ransomware indicators - (MSTICALERTSWIN1)  - [id:2518547480938543829_91a4f9a7-70ad-433b-a568-34314e3f467f]",
        "2019-01-15 13:15:10 - Suspiciously named process detected - (MSTICALERTSWIN1)  - [id:2518547426892072407_171b74b2-a431-4b55-8d69-128e5fb95329]",
        "2019-01-15 13:15:13 - Suspicious WindowPosition registry value detected - (MSTICALERTSWIN1)  - [id:2518547426863814510_75495c57-4fd6-4e27-b94c-c6f81f78bcb5]",
        "2019-01-15 13:15:14 - Suspicious process executed - (MSTICALERTSWIN1)  - [id:2518547426859453218_89d1850f-dccd-4d45-b194-650819d358d9]",
        "2019-01-15 13:15:14 - Executable found running from a suspicious location - (MSTICALERTSWIN1)  - [id:2518547426858055460_51b74398-40e2-4b1b-9d92-89c0004738c9]",
        "2019-01-15 13:15:15 - Suspicious process executed - (MSTICALERTSWIN1)  - [id:2518547426847947731_caa12d6c-4928-4787-90d4-cb27ff94373c]",
        "2019-01-15 13:15:17 - Azure Security Center test alert (not a threat) - (MSTICALERTSWIN1)  - [id:2518547426829675756_846ec406-bb3e-451b-bf6f-9e1e17a69bd6]",
        "2019-01-15 13:15:18 - Ransomware indicators detected - (MSTICALERTSWIN1)  - [id:2518547426817428483_636ab38f-2528-4356-8602-d0910f8ac600]",
        "2019-01-15 13:15:18 - Detected Petya ransomware indicators - (MSTICALERTSWIN1)  - [id:2518547426817928329_a4aa878d-93b5-4cd1-931f-30f85b9e6db2]",
        "2019-01-15 17:15:03 - Suspicious Account Creation Detected - (MSTICALERTSWIN1)  - [id:2518547282966696689_3db7e1e7-2edc-4dd9-8c1d-d908f5b8a904]",
        "2019-01-15 17:15:10 - Suspiciously named process detected - (MSTICALERTSWIN1)  - [id:2518547282892925953_0073e6d8-6c2e-42e4-8966-d1f5a3dd3517]",
        "2019-01-15 17:15:10 - Digital currency mining related behavior detected - (MSTICALERTSWIN1)  - [id:2518547282892925953_35c8d588-ddf7-46b5-a0bf-f47023f9343c]",
        "2019-01-15 17:15:10 - Potential attempt to bypass AppLocker detected - (MSTICALERTSWIN1)  - [id:2518547282896095305_82730ffa-b9ce-43f4-bf3c-a97113107cc5]",
        "2019-01-15 17:15:11 - Suspicious Powershell Activity Detected - (MSTICALERTSWIN1)  - [id:2518547282883193041_31ae6eeb-bd1d-4018-8df9-eeedd60bf1ab]",
        "2019-01-15 17:15:11 - Suspicious Powershell Activity Detected - (MSTICALERTSWIN1)  - [id:2518547282880013417_d65aa787-e867-43b1-9182-025a1a38173a]",
        "2019-01-15 17:15:11 - Suspicious Powershell Activity Detected - (MSTICALERTSWIN1)  - [id:2518547282881581273_ed5bcf39-ffd3-468a-82e3-28e108d4f06f]",
        "2019-01-15 17:15:12 - Suspicious Powershell Activity Detected - (MSTICALERTSWIN1)  - [id:2518547282874783943_bd1a0865-a507-4e2b-b8df-613238a950df]",
        "2019-01-15 17:15:12 - Detected obfuscated command line. - (MSTICALERTSWIN1)  - [id:2518547282878855119_d89d1ab7-e5b7-426c-a98f-eab95deea3ad]",
        "2019-01-15 17:15:13 - Suspicious WindowPosition registry value detected - (MSTICALERTSWIN1)  - [id:2518547282865194453_9895a5cc-6f49-45f5-a0eb-f05c1f11f264]",
        "2019-01-15 17:15:13 - Executable found running from a suspicious location - (MSTICALERTSWIN1)  - [id:2518547282863799328_84ea8dcd-9436-4b4d-82b2-36114028bd61]",
        "2019-01-15 17:15:14 - Suspicious process executed - (MSTICALERTSWIN1)  - [id:2518547282859754476_0c3ae402-a9ea-4d5c-9c09-4274b7847c2c]",
        "2019-01-15 17:15:14 - Executable found running from a suspicious location - (MSTICALERTSWIN1)  - [id:2518547282858353938_58851b10-8f5c-48f1-aade-b1529f4e2c7f]",
        "2019-01-15 17:15:14 - Detected anomalous mix of upper and lower case characters in command-line - (MSTICALERTSWIN1)  - [id:2518547282850984831_7f983018-fd59-4e9e-ba70-295f6beb0e9c]",
        "2019-01-15 17:15:15 - Suspicious process executed - (MSTICALERTSWIN1)  - [id:2518547282845656644_c7318da8-368f-47f8-bff5-e15600a3fb80]",
        "2019-01-15 17:15:18 - Azure Security Center test alert (not a threat) - (MSTICALERTSWIN1)  - [id:2518547282812706885_12ae1e22-347e-454c-ae0d-ebb48cdf189b]",
        "2019-01-15 17:15:19 - Detected Petya ransomware indicators - (MSTICALERTSWIN1)  - [id:2518547282803821916_c76cdb6c-cea0-4b2b-9ab6-1442a5857ed8]",
        "2019-01-15 17:15:19 - Ransomware indicators detected - (MSTICALERTSWIN1)  - [id:2518547282802847718_4a524cc8-7613-4c42-93a9-8c1e466a4476]"
       ],
       "description": "Select alert :",
       "index": 0,
       "layout": "IPY_MODEL_4c25d7eca4764594b258d21c03422aa2",
       "style": "IPY_MODEL_a569c7b1f1ad4da2a50f30462e6a91b0"
      }
     },
     "12fbcbaf7f724744a963a4bd4ff59537": {
      "model_module": "@jupyter-widgets/controls",
      "model_module_version": "1.5.0",
      "model_name": "VBoxModel",
      "state": {
       "children": [
        "IPY_MODEL_6247f03c1a2f4740a210e5ab108daf38",
        "IPY_MODEL_539dae59bdd24c13a26dbdca5e3ad745"
       ],
       "layout": "IPY_MODEL_0ac8722e3aa648a0912233257bf72566"
      }
     },
     "13e1901d338c4692b200cc1ca982ce34": {
      "model_module": "@jupyter-widgets/controls",
      "model_module_version": "1.5.0",
      "model_name": "IntProgressModel",
      "state": {
       "bar_style": "info",
       "description": "Progress:",
       "layout": "IPY_MODEL_2984c8ebd18543f6bc241024dc5354ab",
       "style": "IPY_MODEL_9cc81d0a8fcd4662b9779234d1121097",
       "value": 100
      }
     },
     "14655716cb5446f4a43ed85ea6ff2362": {
      "model_module": "@jupyter-widgets/base",
      "model_module_version": "1.2.0",
      "model_name": "LayoutModel",
      "state": {
       "width": "80%"
      }
     },
     "14ba34f8563d4cc990408fff61e5b3f2": {
      "model_module": "@jupyter-widgets/controls",
      "model_module_version": "1.5.0",
      "model_name": "DescriptionStyleModel",
      "state": {
       "description_width": "initial"
      }
     },
     "1536f828dc534696a9dfefb3b1f8955b": {
      "model_module": "@jupyter-widgets/controls",
      "model_module_version": "1.5.0",
      "model_name": "DescriptionStyleModel",
      "state": {
       "description_width": ""
      }
     },
     "164b05c3ce0f474d86e6cdd275fc03fc": {
      "model_module": "@jupyter-widgets/controls",
      "model_module_version": "1.5.0",
      "model_name": "ButtonStyleModel",
      "state": {}
     },
     "1812e71289f843eda822913715620c0c": {
      "model_module": "@jupyter-widgets/controls",
      "model_module_version": "1.5.0",
      "model_name": "DescriptionStyleModel",
      "state": {
       "description_width": "initial"
      }
     },
     "182eeea445b94a319aaaa2ed59649be0": {
      "model_module": "@jupyter-widgets/controls",
      "model_module_version": "1.5.0",
      "model_name": "HBoxModel",
      "state": {
       "children": [
        "IPY_MODEL_88887110f5964708a94a79a9eafa27ea",
        "IPY_MODEL_da667a89c4814a87a8abf35b71509edf"
       ],
       "layout": "IPY_MODEL_c7f8b858c69d47f7904b3bdeb11db572"
      }
     },
     "18aa8d6f58154cfcb3eb5315938664b7": {
      "model_module": "@jupyter-widgets/controls",
      "model_module_version": "1.5.0",
      "model_name": "DescriptionStyleModel",
      "state": {
       "description_width": ""
      }
     },
     "197afd66a7034ed68c4a0f178b32817b": {
      "model_module": "@jupyter-widgets/controls",
      "model_module_version": "1.5.0",
      "model_name": "DescriptionStyleModel",
      "state": {
       "description_width": "initial"
      }
     },
     "1b43caaa78f6480ca0f100aa18a0ba43": {
      "model_module": "@jupyter-widgets/controls",
      "model_module_version": "1.5.0",
      "model_name": "SelectModel",
      "state": {
       "_options_labels": [
        "2019-01-15 05:15:03 - Suspicious Account Creation Detected - (MSTICALERTSWIN1)  - [id:2518547714966107270_3c380601-b5ad-4fff-9cdb-24528a3a19fd]",
        "2019-01-15 05:15:10 - Potential attempt to bypass AppLocker detected - (MSTICALERTSWIN1)  - [id:2518547714892475358_9e449abd-e67b-4ec8-a191-e688d7d63e26]",
        "2019-01-15 05:15:11 - Detected suspicious credentials in commandline - (MSTICALERTSWIN1)  - [id:2518547714880519889_9d6d471a-c94f-4706-b0ff-b2f0301495aa]",
        "2019-01-15 05:15:11 - Detected encoded executable in command line data - (MSTICALERTSWIN1)  - [id:2518547714885867955_290559aa-a3d0-425b-8ed2-e98ccc9f0aa0]",
        "2019-01-15 05:15:11 - Digital currency mining related behavior detected - (MSTICALERTSWIN1)  - [id:2518547714887413669_4fa0022e-f431-4ba1-ae5f-ee23247e0853]",
        "2019-01-15 05:15:11 - Suspiciously named process detected - (MSTICALERTSWIN1)  - [id:2518547714887413669_1c680842-2a1d-40c0-a6e4-32e5dd144647]",
        "2019-01-15 05:15:11 - Detected decoding of an executable using built-in certutil.exe tool - (MSTICALERTSWIN1)  - [id:2518547714882331861_5c56421d-d894-4437-9b9a-a3b5c6b7e1df]",
        "2019-01-15 05:15:12 - Detected suspicious commandline arguments - (MSTICALERTSWIN1)  - [id:2518547714879317674_226cc394-fccf-483d-888a-beafad2ed4a4]",
        "2019-01-15 05:15:12 - Detected suspicious document credentials - (MSTICALERTSWIN1)  - [id:2518547714879970078_b080127b-d5c1-425e-a7ca-e4bbd873009d]",
        "2019-01-15 05:15:12 - Suspicious Powershell Activity Detected - (MSTICALERTSWIN1)  - [id:2518547714874872692_30d988ff-b8d9-45df-8217-e56b0d4d591c]",
        "2019-01-15 05:15:12 - Suspicious powershell cmdlets executed - (MSTICALERTSWIN1)  - [id:2518547714874872692_3eb0eb4b-0536-430c-8ab6-cd48524c14b1]",
        "2019-01-15 05:15:12 - Suspicious Powershell Activity Detected - (MSTICALERTSWIN1)  - [id:2518547714876077067_953def48-a24b-42a9-bd02-7221be90f84a]",
        "2019-01-15 05:15:12 - Suspicious Powershell Activity Detected - (MSTICALERTSWIN1)  - [id:2518547714873290756_df1b9eb2-05c4-4f7c-8540-cbb18ec5c608]",
        "2019-01-15 05:15:12 - Detected obfuscated command line. - (MSTICALERTSWIN1)  - [id:2518547714871530079_77211491-86de-4295-82bc-38e332fe1112]",
        "2019-01-15 05:15:13 - Suspicious Powershell Activity Detected - (MSTICALERTSWIN1)  - [id:2518547714867787710_76336679-bddf-460f-90fb-35a1386de7a6]",
        "2019-01-15 05:15:14 - Executable found running from a suspicious location - (MSTICALERTSWIN1)  - [id:2518547714853062206_f9ddd8b3-5fa8-4f2f-b811-bdca90091195]",
        "2019-01-15 05:15:14 - Detected suspicious named pipe communications - (MSTICALERTSWIN1)  - [id:2518547714859677078_9b4e4942-d564-4755-862c-7171d52921e3]",
        "2019-01-15 05:15:14 - Suspicious process executed - (MSTICALERTSWIN1)  - [id:2518547714854375707_e2a60bd1-d7c8-466d-a176-4333d4e0d1d5]",
        "2019-01-15 05:15:14 - Suspicious WindowPosition registry value detected - (MSTICALERTSWIN1)  - [id:2518547714858429362_9bfd0e4b-ec93-46bb-8eea-f72e8f1262f1]",
        "2019-01-15 05:15:14 - Executable found running from a suspicious location - (MSTICALERTSWIN1)  - [id:2518547714857061520_f4324711-aeae-4912-a634-331b7e7456b6]",
        "2019-01-15 05:15:15 - Suspicious process executed - (MSTICALERTSWIN1)  - [id:2518547714842732992_ad5981a5-fdcc-406a-8742-e50bd7f84917]",
        "2019-01-15 05:15:15 - Detected anomalous mix of upper and lower case characters in command-line - (MSTICALERTSWIN1)  - [id:2518547714844457503_55cd3e12-3a91-4b06-9be6-833df3365142]",
        "2019-01-15 05:15:15 - Detected change to a registry key that can be abused to bypass UAC - (MSTICALERTSWIN1)  - [id:2518547714844291280_8f71e695-ba9b-4c97-9770-63cdeb34b7b4]",
        "2019-01-15 05:15:15 - Sticky keys attack detected - (MSTICALERTSWIN1)  - [id:2518547714843796759_b3737297-038c-4514-a957-d591384b4256]",
        "2019-01-15 05:15:15 - Detected suspicious use of FTP -s Switch - (MSTICALERTSWIN1)  - [id:2518547714843218505_265472ff-3820-4dad-8da7-00e39e1a99fd]",
        "2019-01-15 05:15:16 - Suspected Kerberos Golden Ticket attack parameters observed - (MSTICALERTSWIN1)  - [id:2518547714838326136_e776fca2-4c01-43eb-ab97-b9845af3529c]",
        "2019-01-15 05:15:16 - Detected suspicious new firewall rule - (MSTICALERTSWIN1)  - [id:2518547714839319574_33edaa83-fe35-47de-9486-fc9792c5b65b]",
        "2019-01-15 05:15:16 - Detected suspicious execution via rundll32.exe - (MSTICALERTSWIN1)  - [id:2518547714834806864_4bb2ecc3-f4aa-40cd-a3d7-802fc9086e89]",
        "2019-01-15 05:15:16 - Detected suspicious execution via rundll32.exe - (MSTICALERTSWIN1)  - [id:2518547714835690929_8e73946b-ebea-4625-aa60-d97b82dcfb07]",
        "2019-01-15 05:15:16 - Detected possible local reconnaissance activity - (MSTICALERTSWIN1)  - [id:2518547714837217151_f0d023fb-376f-46ab-9976-a5825d826bea]",
        "2019-01-15 05:15:16 - Detected suspicious Set-ExecutionPolicy and WinRM changes - (MSTICALERTSWIN1)  - [id:2518547714832788202_b56b9e61-fefb-47a3-a34f-7c1b44f8268a]",
        "2019-01-15 05:15:16 - Detected suspicious commandline used to start all executables in a directory - (MSTICALERTSWIN1)  - [id:2518547714833232927_0e8db234-9727-41f3-a6e0-0773519603d2]",
        "2019-01-15 05:15:16 - Detected potentially suspicious use of Telegram tool - (MSTICALERTSWIN1)  - [id:2518547714833859291_4fa26308-1daf-49ee-8880-b194f950d8b0]",
        "2019-01-15 05:15:16 - Detected actions indicative of disabling and deleting IIS log files. - (MSTICALERTSWIN1)  - [id:2518547714831067013_8df27789-fb10-4035-ac48-cd0883b2e6b0]",
        "2019-01-15 05:15:17 - Random process name detected - (MSTICALERTSWIN1)  - [id:2518547714829244584_9984a237-2dd7-4932-bb8d-23ca535a6254]",
        "2019-01-15 05:15:17 - Azure Security Center test alert (not a threat) - (MSTICALERTSWIN1)  - [id:2518547714824290520_b2d9be9f-58e2-4174-8658-419670393253]",
        "2019-01-15 05:15:18 - Detected suspicious file creation - (MSTICALERTSWIN1)  - [id:2518547714816637303_3252483f-2fdb-411a-93f5-e268d5e56abf]",
        "2019-01-15 05:15:18 - High risk software detected - (MSTICALERTSWIN1)  - [id:2518547714813699414_d12ed618-567b-4b8f-8241-82ad4c1cb28e]",
        "2019-01-15 05:15:18 - Detected possible execution of malware dropper - (MSTICALERTSWIN1)  - [id:2518547714815009424_9a34d332-2fb6-4f3f-beb0-d9817dc9b7cd]",
        "2019-01-15 05:15:18 - Ransomware indicators detected - (MSTICALERTSWIN1)  - [id:2518547714812286467_d5e026fa-6687-495e-878d-c4c93477cc78]",
        "2019-01-15 05:15:18 - Detected possible execution of keygen executable - (MSTICALERTSWIN1)  - [id:2518547714814533914_38d53571-e98a-4bb6-a17f-0361a561019e]",
        "2019-01-15 05:15:18 - Detected suspicious use of Pcalua.exe to launch executable code - (MSTICALERTSWIN1)  - [id:2518547714811337754_ad1fd62a-9565-41e4-b94a-6264942033f6]",
        "2019-01-15 05:15:18 - Detected the disabling of critical services - (MSTICALERTSWIN1)  - [id:2518547714813299511_a5df127a-f7e8-44ff-b404-6d5b37d06488]",
        "2019-01-15 05:15:18 - Detected suspicious file cleanup commands - (MSTICALERTSWIN1)  - [id:2518547714814450855_c0822e2b-785b-41a8-8136-21b7430a0078]",
        "2019-01-15 05:15:18 - Detected Petya ransomware indicators - (MSTICALERTSWIN1)  - [id:2518547714812938298_fa4939d4-a20c-440a-839c-89c0c43e1ccc]",
        "2019-01-15 05:15:18 - Detected suspicious execution of VBScript.Encode command - (MSTICALERTSWIN1)  - [id:2518547714811804858_5b42a152-64c2-4f16-8cc3-887b8b0161fc]",
        "2019-01-15 05:15:18 - Detected suspicious use of Cacls to lower the security state of the system. - (MSTICALERTSWIN1)  - [id:2518547714815952205_1ba5718e-529b-441b-8036-ad06ee862e76]",
        "2019-01-15 05:15:19 - Possible credential dumping detected - (MSTICALERTSWIN1)  - [id:2518547714809416002_76bf04a5-71fa-487a-9742-d54941a7a194]",
        "2019-01-15 05:15:19 - Suspicious download using Certutil detected - (MSTICALERTSWIN1)  - [id:2518547714805546049_03e7bf17-8f77-42ca-8ac1-af8258f4d1ca]",
        "2019-01-15 09:15:03 - Suspicious Account Creation Detected - (MSTICALERTSWIN1)  - [id:2518547570966661760_526e34b6-6578-4fc0-9db6-e126b4d673f0]",
        "2019-01-15 09:15:07 - Potential attempt to bypass AppLocker detected - (MSTICALERTSWIN1)  - [id:2518547570924760670_9868ed7d-397e-4aa4-8dbd-5a1c5f736c1e]",
        "2019-01-15 09:15:10 - Suspiciously named process detected - (MSTICALERTSWIN1)  - [id:2518547570895430544_4ea6c432-6d20-4986-9679-ecf58ac4854d]",
        "2019-01-15 09:15:10 - Digital currency mining related behavior detected - (MSTICALERTSWIN1)  - [id:2518547570895430544_72351be4-ae78-4cc6-9f6a-1ff87c31baeb]",
        "2019-01-15 09:15:11 - Suspicious Powershell Activity Detected - (MSTICALERTSWIN1)  - [id:2518547570884378777_92a2f884-5827-4fb6-acf8-b0087b76aa73]",
        "2019-01-15 09:15:11 - Suspicious Powershell Activity Detected - (MSTICALERTSWIN1)  - [id:2518547570881721037_4ca5c629-673c-4372-9bd3-ab7bf6d6e6f0]",
        "2019-01-15 09:15:11 - Suspicious Powershell Activity Detected - (MSTICALERTSWIN1)  - [id:2518547570883109415_c762b0f7-a0f5-4dda-ab48-54b5ae6eade4]",
        "2019-01-15 09:15:11 - Detected obfuscated command line. - (MSTICALERTSWIN1)  - [id:2518547570880067443_c1a9004f-7f64-4144-8ce0-8f76f9041703]",
        "2019-01-15 09:15:12 - Suspicious Powershell Activity Detected - (MSTICALERTSWIN1)  - [id:2518547570876432155_ce7c7361-8ac9-47be-b8fb-7a87c87ee178]",
        "2019-01-15 09:15:13 - Suspicious WindowPosition registry value detected - (MSTICALERTSWIN1)  - [id:2518547570866947129_1b074412-133c-4ac9-8e3f-24103159b03e]",
        "2019-01-15 09:15:13 - Executable found running from a suspicious location - (MSTICALERTSWIN1)  - [id:2518547570865502616_c6f3dea2-fe36-4e65-b161-1b1cd1104eb3]",
        "2019-01-15 09:15:13 - Executable found running from a suspicious location - (MSTICALERTSWIN1)  - [id:2518547570860979996_bddac8c5-cba5-4da2-a6dd-c0a39fc2b256]",
        "2019-01-15 09:15:13 - Suspicious process executed - (MSTICALERTSWIN1)  - [id:2518547570862568702_029c9c95-c1fe-4419-bc3b-a6d832c87e65]",
        "2019-01-15 09:15:14 - Detected anomalous mix of upper and lower case characters in command-line - (MSTICALERTSWIN1)  - [id:2518547570852901341_3ca6ca5a-8bf2-417f-b8c9-3cea37c84f4b]",
        "2019-01-15 09:15:14 - Suspicious process executed - (MSTICALERTSWIN1)  - [id:2518547570851316041_43f7d8f3-fea5-4fca-a884-713c2d65203c]",
        "2019-01-15 09:15:16 - Azure Security Center test alert (not a threat) - (MSTICALERTSWIN1)  - [id:2518547570833725387_2df8ae94-03fe-4b9f-a3a9-f3c6dab95c05]",
        "2019-01-15 09:15:17 - Ransomware indicators detected - (MSTICALERTSWIN1)  - [id:2518547570821365949_48327b74-c904-402d-a1d8-2b3a882924e7]",
        "2019-01-15 09:15:17 - Detected Petya ransomware indicators - (MSTICALERTSWIN1)  - [id:2518547570821871899_e647375c-9979-47b5-9f78-f414a1aad26d]",
        "2019-01-15 11:45:00 - Suspicious Account Creation Detected - (MSTICALERTSWIN1)  - [id:2518547480991748435_836318d1-0fa0-4cfe-a3d0-2b1fdbaf2216]",
        "2019-01-15 11:45:01 - Detected obfuscated command line. - (MSTICALERTSWIN1)  - [id:2518547480982511513_adfabbe0-fce0-44f3-be4b-17283bd03bed]",
        "2019-01-15 11:45:01 - Suspiciously named process detected - (MSTICALERTSWIN1)  - [id:2518547480988516756_54bb943e-7fe9-4146-a43e-4064c8e0049f]",
        "2019-01-15 11:45:01 - Digital currency mining related behavior detected - (MSTICALERTSWIN1)  - [id:2518547480988516756_668ed54c-9e73-4d4f-a9c2-b88fd1b13db0]",
        "2019-01-15 11:45:01 - Potential attempt to bypass AppLocker detected - (MSTICALERTSWIN1)  - [id:2518547480989617678_f3490cf7-a303-4001-b7d6-8acf7e83f191]",
        "2019-01-15 11:45:01 - Suspicious Powershell Activity Detected - (MSTICALERTSWIN1)  - [id:2518547480982973701_24a6d6f3-acf1-41bd-a11f-01a1369bac02]",
        "2019-01-15 11:45:01 - Suspicious Powershell Activity Detected - (MSTICALERTSWIN1)  - [id:2518547480984263491_d46877bd-e04d-401a-99bd-eec2a6b25663]",
        "2019-01-15 11:45:01 - Suspicious Powershell Activity Detected - (MSTICALERTSWIN1)  - [id:2518547480983467170_9da8e3df-9c3b-4e20-8bd0-ace00aff9def]",
        "2019-01-15 11:45:01 - Suspicious Powershell Activity Detected - (MSTICALERTSWIN1)  - [id:2518547480980813134_5cb7ab95-6017-4031-afb2-e11518b0f5cc]",
        "2019-01-15 11:45:02 - Executable found running from a suspicious location - (MSTICALERTSWIN1)  - [id:2518547480975043692_7e663699-5412-496f-ac91-e21a7b6f0be5]",
        "2019-01-15 11:45:02 - Suspicious WindowPosition registry value detected - (MSTICALERTSWIN1)  - [id:2518547480977469312_e9ff6947-fd12-42d2-bb63-2d814f04482a]",
        "2019-01-15 11:45:02 - Executable found running from a suspicious location - (MSTICALERTSWIN1)  - [id:2518547480977057409_ed9d92ac-0ab8-4a2e-a1dd-f70ee30a9af1]",
        "2019-01-15 11:45:02 - Detected anomalous mix of upper and lower case characters in command-line - (MSTICALERTSWIN1)  - [id:2518547480970182118_c0558adc-b4a9-4289-b9ad-7e7260f1cde0]",
        "2019-01-15 11:45:02 - Suspicious process executed - (MSTICALERTSWIN1)  - [id:2518547480976076338_2a106d12-acd8-4dd7-9e1c-3c20b4eaa320]",
        "2019-01-15 11:45:03 - Suspicious process executed - (MSTICALERTSWIN1)  - [id:2518547480968677354_88eb8a87-a876-46aa-b8ed-be7298929ea8]",
        "2019-01-15 11:45:04 - Random process name detected - (MSTICALERTSWIN1)  - [id:2518547480956885358_b66e93d7-b38b-4785-baa5-093edc18e649]",
        "2019-01-15 11:45:05 - Azure Security Center test alert (not a threat) - (MSTICALERTSWIN1)  - [id:2518547480945920380_00d33245-c643-4155-8c05-6abc4ee3b3cd]",
        "2019-01-15 11:45:06 - Ransomware indicators detected - (MSTICALERTSWIN1)  - [id:2518547480937987105_ec1678a1-0fe8-44c5-91b5-621c40d2bb8c]",
        "2019-01-15 11:45:06 - Detected Petya ransomware indicators - (MSTICALERTSWIN1)  - [id:2518547480938543829_91a4f9a7-70ad-433b-a568-34314e3f467f]",
        "2019-01-15 13:15:10 - Suspiciously named process detected - (MSTICALERTSWIN1)  - [id:2518547426892072407_171b74b2-a431-4b55-8d69-128e5fb95329]",
        "2019-01-15 13:15:13 - Suspicious WindowPosition registry value detected - (MSTICALERTSWIN1)  - [id:2518547426863814510_75495c57-4fd6-4e27-b94c-c6f81f78bcb5]",
        "2019-01-15 13:15:14 - Suspicious process executed - (MSTICALERTSWIN1)  - [id:2518547426859453218_89d1850f-dccd-4d45-b194-650819d358d9]",
        "2019-01-15 13:15:14 - Executable found running from a suspicious location - (MSTICALERTSWIN1)  - [id:2518547426858055460_51b74398-40e2-4b1b-9d92-89c0004738c9]",
        "2019-01-15 13:15:15 - Suspicious process executed - (MSTICALERTSWIN1)  - [id:2518547426847947731_caa12d6c-4928-4787-90d4-cb27ff94373c]",
        "2019-01-15 13:15:17 - Azure Security Center test alert (not a threat) - (MSTICALERTSWIN1)  - [id:2518547426829675756_846ec406-bb3e-451b-bf6f-9e1e17a69bd6]",
        "2019-01-15 13:15:18 - Ransomware indicators detected - (MSTICALERTSWIN1)  - [id:2518547426817428483_636ab38f-2528-4356-8602-d0910f8ac600]",
        "2019-01-15 13:15:18 - Detected Petya ransomware indicators - (MSTICALERTSWIN1)  - [id:2518547426817928329_a4aa878d-93b5-4cd1-931f-30f85b9e6db2]",
        "2019-01-15 17:15:03 - Suspicious Account Creation Detected - (MSTICALERTSWIN1)  - [id:2518547282966696689_3db7e1e7-2edc-4dd9-8c1d-d908f5b8a904]",
        "2019-01-15 17:15:10 - Suspiciously named process detected - (MSTICALERTSWIN1)  - [id:2518547282892925953_0073e6d8-6c2e-42e4-8966-d1f5a3dd3517]",
        "2019-01-15 17:15:10 - Digital currency mining related behavior detected - (MSTICALERTSWIN1)  - [id:2518547282892925953_35c8d588-ddf7-46b5-a0bf-f47023f9343c]",
        "2019-01-15 17:15:10 - Potential attempt to bypass AppLocker detected - (MSTICALERTSWIN1)  - [id:2518547282896095305_82730ffa-b9ce-43f4-bf3c-a97113107cc5]",
        "2019-01-15 17:15:11 - Suspicious Powershell Activity Detected - (MSTICALERTSWIN1)  - [id:2518547282883193041_31ae6eeb-bd1d-4018-8df9-eeedd60bf1ab]",
        "2019-01-15 17:15:11 - Suspicious Powershell Activity Detected - (MSTICALERTSWIN1)  - [id:2518547282880013417_d65aa787-e867-43b1-9182-025a1a38173a]",
        "2019-01-15 17:15:11 - Suspicious Powershell Activity Detected - (MSTICALERTSWIN1)  - [id:2518547282881581273_ed5bcf39-ffd3-468a-82e3-28e108d4f06f]",
        "2019-01-15 17:15:12 - Suspicious Powershell Activity Detected - (MSTICALERTSWIN1)  - [id:2518547282874783943_bd1a0865-a507-4e2b-b8df-613238a950df]",
        "2019-01-15 17:15:12 - Detected obfuscated command line. - (MSTICALERTSWIN1)  - [id:2518547282878855119_d89d1ab7-e5b7-426c-a98f-eab95deea3ad]",
        "2019-01-15 17:15:13 - Suspicious WindowPosition registry value detected - (MSTICALERTSWIN1)  - [id:2518547282865194453_9895a5cc-6f49-45f5-a0eb-f05c1f11f264]",
        "2019-01-15 17:15:13 - Executable found running from a suspicious location - (MSTICALERTSWIN1)  - [id:2518547282863799328_84ea8dcd-9436-4b4d-82b2-36114028bd61]",
        "2019-01-15 17:15:14 - Suspicious process executed - (MSTICALERTSWIN1)  - [id:2518547282859754476_0c3ae402-a9ea-4d5c-9c09-4274b7847c2c]",
        "2019-01-15 17:15:14 - Executable found running from a suspicious location - (MSTICALERTSWIN1)  - [id:2518547282858353938_58851b10-8f5c-48f1-aade-b1529f4e2c7f]",
        "2019-01-15 17:15:14 - Detected anomalous mix of upper and lower case characters in command-line - (MSTICALERTSWIN1)  - [id:2518547282850984831_7f983018-fd59-4e9e-ba70-295f6beb0e9c]",
        "2019-01-15 17:15:15 - Suspicious process executed - (MSTICALERTSWIN1)  - [id:2518547282845656644_c7318da8-368f-47f8-bff5-e15600a3fb80]",
        "2019-01-15 17:15:18 - Azure Security Center test alert (not a threat) - (MSTICALERTSWIN1)  - [id:2518547282812706885_12ae1e22-347e-454c-ae0d-ebb48cdf189b]",
        "2019-01-15 17:15:19 - Detected Petya ransomware indicators - (MSTICALERTSWIN1)  - [id:2518547282803821916_c76cdb6c-cea0-4b2b-9ab6-1442a5857ed8]",
        "2019-01-15 17:15:19 - Ransomware indicators detected - (MSTICALERTSWIN1)  - [id:2518547282802847718_4a524cc8-7613-4c42-93a9-8c1e466a4476]"
       ],
       "description": "Select alert :",
       "index": 13,
       "layout": "IPY_MODEL_8854732a30de409694cfbb7432d4f2ee",
       "style": "IPY_MODEL_679e43c8122f4dd8ada38d59798107ed"
      }
     },
     "1c608206d9434bd2aff155d997870885": {
      "model_module": "@jupyter-widgets/base",
      "model_module_version": "1.2.0",
      "model_name": "LayoutModel",
      "state": {
       "height": "300px",
       "width": "95%"
      }
     },
     "1cf1a4d3f7f14c2db3decbc38b6c37ed": {
      "model_module": "@jupyter-widgets/base",
      "model_module_version": "1.2.0",
      "model_name": "LayoutModel",
      "state": {
       "height": "50px",
       "width": "60%"
      }
     },
     "1d934b6dbee748798f136d8ee5351715": {
      "model_module": "@jupyter-widgets/controls",
      "model_module_version": "1.5.0",
      "model_name": "ButtonStyleModel",
      "state": {}
     },
     "1ed201285a6045ad8d7f80e8a8a3ecc5": {
      "model_module": "@jupyter-widgets/base",
      "model_module_version": "1.2.0",
      "model_name": "LayoutModel",
      "state": {}
     },
     "1fe716215acf434caad779a1d2f2eb17": {
      "model_module": "@jupyter-widgets/controls",
      "model_module_version": "1.5.0",
      "model_name": "DescriptionStyleModel",
      "state": {
       "description_width": "initial"
      }
     },
     "20b8ebdbbdec40a09ff04068e38c2101": {
      "model_module": "@jupyter-widgets/controls",
      "model_module_version": "1.5.0",
      "model_name": "ButtonModel",
      "state": {
       "description": "Add ⇾",
       "layout": "IPY_MODEL_54e3a10827ae42b28f45bd085264c05c",
       "style": "IPY_MODEL_fd58b07bece24fa79c50f8e2885eb57c"
      }
     },
     "20cc1d840d1f446980a48a815d402d4d": {
      "model_module": "@jupyter-widgets/controls",
      "model_module_version": "1.5.0",
      "model_name": "DescriptionStyleModel",
      "state": {
       "description_width": "initial"
      }
     },
     "20d76c0464ee43af8af63e643722c7c4": {
      "model_module": "@jupyter-widgets/controls",
      "model_module_version": "1.5.0",
      "model_name": "CheckboxModel",
      "state": {
       "description": "Save as environment var",
       "disabled": false,
       "layout": "IPY_MODEL_e7a3a3e4dc1243b7a9e3f45876d1cc01",
       "style": "IPY_MODEL_f4cb943ef3a8497c9417c241c9d0e4aa",
       "value": true
      }
     },
     "2115e2b86307455398fdba107efc8575": {
      "model_module": "@jupyter-widgets/controls",
      "model_module_version": "1.5.0",
      "model_name": "VBoxModel",
      "state": {
       "children": [
        "IPY_MODEL_e73ac33599c649f49cded63f5bd5dc18",
        "IPY_MODEL_37572e86c8e54e788ace0e7b01a21647",
        "IPY_MODEL_edebaf405f8c497b8df970997fdce9c1",
        "IPY_MODEL_48422ece1b554a3b89a2e8e04abdfee6"
       ],
       "layout": "IPY_MODEL_f6d44c766c49421f853350464bf14205"
      }
     },
     "21657702f0124d4d8f6b45e79755fbf2": {
      "model_module": "@jupyter-widgets/base",
      "model_module_version": "1.2.0",
      "model_name": "LayoutModel",
      "state": {}
     },
     "227a09b641d84825b39efa3647865fff": {
      "model_module": "@jupyter-widgets/base",
      "model_module_version": "1.2.0",
      "model_name": "LayoutModel",
      "state": {}
     },
     "22bfb1985b58412fae8cd49444efecd5": {
      "model_module": "@jupyter-widgets/base",
      "model_module_version": "1.2.0",
      "model_name": "LayoutModel",
      "state": {}
     },
     "2585769a037b4959b01b2fdf8dc086ba": {
      "model_module": "@jupyter-widgets/controls",
      "model_module_version": "1.5.0",
      "model_name": "DescriptionStyleModel",
      "state": {
       "description_width": "initial"
      }
     },
     "25e399692d9f416cbcfbc3e7509c0f12": {
      "model_module": "@jupyter-widgets/base",
      "model_module_version": "1.2.0",
      "model_name": "LayoutModel",
      "state": {}
     },
     "26864270c0fe44d8aeb676da54020b81": {
      "model_module": "@jupyter-widgets/controls",
      "model_module_version": "1.5.0",
      "model_name": "ButtonStyleModel",
      "state": {}
     },
     "275e46ad1e3045f0aca00fa74bfba937": {
      "model_module": "@jupyter-widgets/controls",
      "model_module_version": "1.5.0",
      "model_name": "ButtonStyleModel",
      "state": {}
     },
     "276831529d8641168593efa2458324d8": {
      "model_module": "@jupyter-widgets/controls",
      "model_module_version": "1.5.0",
      "model_name": "DescriptionStyleModel",
      "state": {
       "description_width": "initial"
      }
     },
     "277337aa8f6f4408b7da68359679717f": {
      "model_module": "@jupyter-widgets/base",
      "model_module_version": "1.2.0",
      "model_name": "LayoutModel",
      "state": {
       "height": "100px",
       "width": "50%"
      }
     },
     "2984c8ebd18543f6bc241024dc5354ab": {
      "model_module": "@jupyter-widgets/base",
      "model_module_version": "1.2.0",
      "model_name": "LayoutModel",
      "state": {}
     },
     "2a602e8a1ae94e72ad943971bf681832": {
      "model_module": "@jupyter-widgets/controls",
      "model_module_version": "1.5.0",
      "model_name": "SelectModel",
      "state": {
       "_options_labels": [
        "MSTICAlertsWin1/MSTICAdmin   (2019-01-15 05:15:02.980)",
        "NT AUTHORITY/SYSTEM   (2019-01-15 05:15:04.503)",
        "MSTICAlertsWin1/adm1nistrator   (2019-01-15 05:15:06.363)",
        "NT AUTHORITY/SYSTEM   (2019-01-15 05:15:10.813)",
        "NT AUTHORITY/SYSTEM   (2019-01-15 05:15:14.453)",
        "MSTICAlertsWin1/MSTICAdmin   (2019-01-15 04:28:33.090)",
        "NT AUTHORITY/SYSTEM   (2019-01-15 03:21:49.617)",
        "NT AUTHORITY/SYSTEM   (2019-01-15 03:21:51.957)",
        "NT AUTHORITY/SYSTEM   (2019-01-15 02:45:49.393)",
        "NT AUTHORITY/SYSTEM   (2019-01-15 02:45:51.727)",
        "NT AUTHORITY/SYSTEM   (2019-01-15 01:42:28.340)",
        "NT AUTHORITY/SYSTEM   (2019-01-15 01:45:23.610)",
        "NT AUTHORITY/SYSTEM   (2019-01-15 03:09:49.353)",
        "NT AUTHORITY/SYSTEM   (2019-01-15 03:09:51.707)"
       ],
       "description": "Select an item",
       "index": 5,
       "layout": "IPY_MODEL_e64057054a3745a7bc71d2e4e0c274ba",
       "style": "IPY_MODEL_be137b0303f34ed59fceaee5e796dd31"
      }
     },
     "2abc6b82fe184854ad32b7c667427b55": {
      "model_module": "@jupyter-widgets/controls",
      "model_module_version": "1.5.0",
      "model_name": "TextModel",
      "state": {
       "description": "Filter:",
       "layout": "IPY_MODEL_cc04dc6778494d3fb21bdbce0165989d",
       "style": "IPY_MODEL_c1e5f6f28b6641e4906f954e45701465"
      }
     },
     "2ac7fe2d45cd4853bc65ea68f26b3259": {
      "model_module": "@jupyter-widgets/controls",
      "model_module_version": "1.5.0",
      "model_name": "TextModel",
      "state": {
       "description": "Query start time (UTC):",
       "layout": "IPY_MODEL_f1d749fa6fc64a85a53a6cfb85b257b3",
       "style": "IPY_MODEL_197afd66a7034ed68c4a0f178b32817b",
       "value": "2020-05-28 15:13:56.295512"
      }
     },
     "2c0e6550e8ee43cc9fc45f6e6a7843ca": {
      "model_module": "@jupyter-widgets/base",
      "model_module_version": "1.2.0",
      "model_name": "LayoutModel",
      "state": {}
     },
     "2c11a21566ed4b1c993007a42094a9ad": {
      "model_module": "@jupyter-widgets/base",
      "model_module_version": "1.2.0",
      "model_name": "LayoutModel",
      "state": {
       "width": "50%"
      }
     },
     "2cbe75aff4ae4dcfa1b3914f9e52f18e": {
      "model_module": "@jupyter-widgets/controls",
      "model_module_version": "1.5.0",
      "model_name": "VBoxModel",
      "state": {
       "children": [
        "IPY_MODEL_2abc6b82fe184854ad32b7c667427b55",
        "IPY_MODEL_006d67fe0e4749f3a24792233bbea943"
       ],
       "layout": "IPY_MODEL_6b51935e14cf46dd9afe607cacf1ae5c"
      }
     },
     "2de4160484324f8eb87fa3339ecc97c4": {
      "model_module": "@jupyter-widgets/base",
      "model_module_version": "1.2.0",
      "model_name": "LayoutModel",
      "state": {}
     },
     "2df02707328d40d1afc180306add760d": {
      "model_module": "@jupyter-widgets/base",
      "model_module_version": "1.2.0",
      "model_name": "LayoutModel",
      "state": {}
     },
     "2e039ad64c6544fe9f8c9c73eeae1f5e": {
      "model_module": "@jupyter-widgets/controls",
      "model_module_version": "1.5.0",
      "model_name": "SelectModel",
      "state": {
       "_options_labels": [
        "ip",
        "host",
        "account"
       ],
       "description": "Select an item",
       "index": 2,
       "layout": "IPY_MODEL_b1a165a70fe94ff8af727201da25a0c6",
       "style": "IPY_MODEL_5b601873cb804740a32f53fe52c99a3d"
      }
     },
     "2e365231c5c34cfb9db03194e28e61f4": {
      "model_module": "@jupyter-widgets/base",
      "model_module_version": "1.2.0",
      "model_name": "LayoutModel",
      "state": {}
     },
     "2e4740d3921441928d1c1eb47813af3f": {
      "model_module": "@jupyter-widgets/controls",
      "model_module_version": "1.5.0",
      "model_name": "TextModel",
      "state": {
       "description": "Filter:",
       "layout": "IPY_MODEL_c35fc8b0ab6248e39edf23a0322af835",
       "style": "IPY_MODEL_03f5084388f646b4bdc7996131dc97dc"
      }
     },
     "2f02afde79b94fb5b7b6409cd48caf49": {
      "model_module": "@jupyter-widgets/base",
      "model_module_version": "1.2.0",
      "model_name": "LayoutModel",
      "state": {}
     },
     "2f23866ef96b407b9e750b58e1fdb568": {
      "model_module": "@jupyter-widgets/controls",
      "model_module_version": "1.5.0",
      "model_name": "DescriptionStyleModel",
      "state": {
       "description_width": "initial"
      }
     },
     "3303219121d6479097bed3f6bad461d9": {
      "model_module": "@jupyter-widgets/controls",
      "model_module_version": "1.5.0",
      "model_name": "SliderStyleModel",
      "state": {
       "description_width": "initial"
      }
     },
     "331b08527acf45989785c73937244035": {
      "model_module": "@jupyter-widgets/controls",
      "model_module_version": "1.5.0",
      "model_name": "SelectModel",
      "state": {
       "_options_labels": [
        "2018-12-30 00:02:00 - Network communication with a malicious machine detected - (nan)  - [id:a511e1bb-69e1-41a2-8054-c6fcb6aa2362]",
        "2019-01-01 00:02:00 - Possible compromised machine detected - (nan)  - [id:62ded865-938b-4bb3-afef-605d692607f1]",
        "2019-01-01 00:02:00 - An event log was cleared - (nan)  - [id:48facfa1-fe35-45ff-8c91-7a710cd462b9]",
        "2019-01-03 00:02:00 - Suspicious process executed - (nan)  - [id:a32adc3f-43f7-4e5d-b833-98baa71c2f51]",
        "2019-01-03 00:02:00 - Suspicious double extension file executed - (nan)  - [id:112dc225-bc2d-4328-97fd-a99e0b000b1f]",
        "2019-01-05 01:02:00 - SQL injection blocked - (nan)  - [id:0c68e539-f060-401f-b967-6b64b8f49198]",
        "2019-01-05 02:02:00 - Failed RDP Brute Force Attack - (nan)  - [id:8832e816-d634-4214-bb48-7a6678fdf0b7]",
        "2019-01-06 02:02:00 - Successful RDP brute force attack - (nan)  - [id:3b2b5ecc-ec29-4703-9450-29b29b937fd8]",
        "2019-01-06 03:02:00 - Suspicious SVCHOST process executed - (nan)  - [id:614ae18e-cd79-4d4c-97dc-24431be12b5b]",
        "2019-01-06 04:02:00 - Multiple Domain Accounts Queried - (vm1)  - [id:7b27ffab-7204-4856-a013-908de6c1804e]",
        "2019-01-06 05:02:00 - Network communication with a malicious machine detected - (nan)  - [id:98a6dea6-1b64-41d0-938e-0dec24b234ec]",
        "2019-01-07 05:02:00 - Modified system binary discovered in dump file 5bd767e4-2d08-4714-b744-aaed04b57107__391365252.hdmp - (nan)  - [id:775505ce-0ef9-4945-b697-303f7666d1b6]",
        "2019-01-08 05:02:00 - Possible outgoing spam activity detected - (vm1lin)  - [id:28f9b83a-33e6-44da-a002-0f48bff46a67]",
        "2019-01-09 05:02:00 - Deep Security Agent detected a malware - (nan)  - [id:5fc4f6a0-0687-4b93-998e-a230af39c10b]",
        "2019-01-09 05:38:06 - Global domain trust creation - Demo - (nan)  - [id:9740fe80-b642-4a38-8e86-05fa4d35508b]",
        "2019-01-09 06:25:57 - Maliciuos IP communication - (nan)  - [id:04e14d6f-6d4f-46d4-a5f6-2a26bcd34ce8]",
        "2019-01-09 06:31:40 - DC local group addition - Demo - (nan)  - [id:ace7fb98-ef96-46df-ba7b-9a15a141d368]",
        "2019-01-09 06:31:42 - Palo Alto admin logged on via SSH - Demo - (nan)  - [id:40a5916b-9697-423a-a5e4-95cca7c735e7]",
        "2019-01-09 06:33:55 - DC with MS AM engine failure - Demo - (nan)  - [id:78cc7e02-6116-459d-9cdc-a6dcc40ba937]",
        "2019-01-10 05:02:00 - Potential SQL Injection - (nan)  - [id:5365ee7a-f730-42d2-bcdf-b2e898ab98d7]",
        "2019-01-10 05:38:06 - Global domain trust creation - Demo - (nan)  - [id:401f2680-cc05-4e6f-a1f6-69cff2055cd9]",
        "2019-01-10 06:25:57 - Maliciuos IP communication - (nan)  - [id:b5786d68-7f5e-4be1-92e6-e255010d1d8c]",
        "2019-01-10 06:31:40 - DC local group addition - Demo - (nan)  - [id:01659bf1-1228-4e46-b73b-e7d173d365eb]",
        "2019-01-10 06:31:42 - Palo Alto admin logged on via SSH - Demo - (nan)  - [id:0ce6ad61-302a-4142-8eaa-4da9dfad9ca9]",
        "2019-01-10 06:33:55 - DC with MS AM engine failure - Demo - (nan)  - [id:df9f92cb-6fd2-469b-9b72-28f128df1adf]",
        "2019-01-10 19:18:10 - Suspicious Account Added - (nan)  - [id:b3f02c05-e844-4161-81d6-d736548d91ae]",
        "2019-01-11 05:38:06 - Global domain trust creation - Demo - (nan)  - [id:6b56aa8c-da76-4caf-b09d-8706292a8b89]",
        "2019-01-11 06:25:57 - Maliciuos IP communication - (nan)  - [id:4586bd9e-5c1e-4229-9a01-ecd84ad51448]",
        "2019-01-11 06:31:40 - DC local group addition - Demo - (nan)  - [id:047f47d6-79b7-4502-824b-97abc4905a73]",
        "2019-01-11 06:31:42 - Palo Alto admin logged on via SSH - Demo - (nan)  - [id:2d06cb42-bdff-426d-8091-ccc151bcbc94]",
        "2019-01-11 06:33:55 - DC with MS AM engine failure - Demo - (nan)  - [id:412ca580-63c8-4fd2-87e4-87b1ba4260b3]",
        "2019-01-11 19:18:10 - Suspicious Account Added - (nan)  - [id:42a8b425-1c41-4355-8343-18ad563c43b6]",
        "2019-01-12 05:38:06 - Global domain trust creation - Demo - (nan)  - [id:bc44b302-78c7-4be8-bf70-d39d6935fd74]",
        "2019-01-12 06:25:57 - Maliciuos IP communication - (nan)  - [id:c76f17e2-e739-4e7e-bf17-4dd163fc831f]",
        "2019-01-12 06:31:40 - DC local group addition - Demo - (nan)  - [id:07be11df-3dbf-49a5-8b5a-dcea75d89993]",
        "2019-01-12 06:31:42 - Palo Alto admin logged on via SSH - Demo - (nan)  - [id:09ec519f-96b0-4332-be30-b0379c8cbd04]",
        "2019-01-12 06:33:55 - DC with MS AM engine failure - Demo - (nan)  - [id:6a7aaa2e-a575-4e8b-87ed-0d964bf1005e]",
        "2019-01-12 19:18:10 - Suspicious Account Added - (nan)  - [id:d4638075-fed2-4031-8e52-d37c220b0fe4]",
        "2019-01-13 05:38:06 - Global domain trust creation - Demo - (nan)  - [id:5d733fc8-ff32-436d-a595-beaf8943bd63]",
        "2019-01-13 06:25:57 - Maliciuos IP communication - (nan)  - [id:54a8f6d8-f69b-4872-96f8-ef274d5fc8d4]",
        "2019-01-13 06:31:40 - DC local group addition - Demo - (nan)  - [id:47445dca-b87d-45f5-9073-b713e3c69a56]",
        "2019-01-13 06:31:42 - Palo Alto admin logged on via SSH - Demo - (nan)  - [id:45176796-d3f9-40ce-a8f2-aba9bb3c8063]",
        "2019-01-13 06:33:55 - DC with MS AM engine failure - Demo - (nan)  - [id:985be534-6f40-4b0c-a951-8f3915eacd61]",
        "2019-01-13 19:18:10 - Suspicious Account Added - (nan)  - [id:790217fc-9597-4159-b469-bb383c747435]",
        "2019-01-14 05:38:06 - Global domain trust creation - Demo - (nan)  - [id:fbaf48de-152a-4aa6-8a69-902b219bf972]",
        "2019-01-14 06:25:57 - Maliciuos IP communication - (nan)  - [id:1828afac-b4c2-41d9-acbd-7d23b7219557]",
        "2019-01-14 06:31:40 - DC local group addition - Demo - (nan)  - [id:b34d24c9-2223-4887-af93-7598abf28763]",
        "2019-01-14 06:31:42 - Palo Alto admin logged on via SSH - Demo - (nan)  - [id:9442245d-eaf6-47c5-b715-1c16b2c54fc4]",
        "2019-01-14 06:33:55 - DC with MS AM engine failure - Demo - (nan)  - [id:edc4065d-886f-4aff-b17d-f1397ce4baec]",
        "2019-01-14 21:18:10 - Suspicious Account Added - (nan)  - [id:1cca38a9-e0c5-4165-a78d-491ca2641c1c]",
        "2019-01-15 05:15:03 - Suspicious Account Creation Detected - (MSTICALERTSWIN1)  - [id:2518547714966107270_3c380601-b5ad-4fff-9cdb-24528a3a19fd]",
        "2019-01-15 05:15:03 - Anomalous account creation detected - (nan)  - [id:2518547714966107270_90beedae-1285-43d6-8f33-16bc542af39b]",
        "2019-01-15 05:15:10 - Potential attempt to bypass AppLocker detected - (MSTICALERTSWIN1)  - [id:2518547714892475358_9e449abd-e67b-4ec8-a191-e688d7d63e26]",
        "2019-01-15 05:15:11 - Detected decoding of an executable using built-in certutil.exe tool - (MSTICALERTSWIN1)  - [id:2518547714882331861_5c56421d-d894-4437-9b9a-a3b5c6b7e1df]",
        "2019-01-15 05:15:11 - Detected suspicious credentials in commandline - (MSTICALERTSWIN1)  - [id:2518547714880519889_9d6d471a-c94f-4706-b0ff-b2f0301495aa]",
        "2019-01-15 05:15:11 - Digital currency mining related behavior detected - (MSTICALERTSWIN1)  - [id:2518547714887413669_4fa0022e-f431-4ba1-ae5f-ee23247e0853]",
        "2019-01-15 05:15:11 - Suspiciously named process detected - (MSTICALERTSWIN1)  - [id:2518547714887413669_1c680842-2a1d-40c0-a6e4-32e5dd144647]",
        "2019-01-15 05:15:11 - Detected encoded executable in command line data - (MSTICALERTSWIN1)  - [id:2518547714885867955_290559aa-a3d0-425b-8ed2-e98ccc9f0aa0]",
        "2019-01-15 05:15:12 - Detected suspicious commandline arguments - (MSTICALERTSWIN1)  - [id:2518547714879317674_226cc394-fccf-483d-888a-beafad2ed4a4]",
        "2019-01-15 05:15:12 - Detected suspicious document credentials - (MSTICALERTSWIN1)  - [id:2518547714879970078_b080127b-d5c1-425e-a7ca-e4bbd873009d]",
        "2019-01-15 05:15:12 - Detected obfuscated command line. - (MSTICALERTSWIN1)  - [id:2518547714871530079_77211491-86de-4295-82bc-38e332fe1112]",
        "2019-01-15 05:15:12 - Suspicious powershell cmdlets executed - (MSTICALERTSWIN1)  - [id:2518547714874872692_3eb0eb4b-0536-430c-8ab6-cd48524c14b1]",
        "2019-01-15 05:15:12 - Suspicious Powershell Activity Detected - (MSTICALERTSWIN1)  - [id:2518547714874872692_30d988ff-b8d9-45df-8217-e56b0d4d591c]",
        "2019-01-15 05:15:12 - Suspicious Powershell Activity Detected - (MSTICALERTSWIN1)  - [id:2518547714873290756_df1b9eb2-05c4-4f7c-8540-cbb18ec5c608]",
        "2019-01-15 05:15:12 - Suspicious Powershell Activity Detected - (MSTICALERTSWIN1)  - [id:2518547714876077067_953def48-a24b-42a9-bd02-7221be90f84a]",
        "2019-01-15 05:15:13 - Suspicious Powershell Activity Detected - (MSTICALERTSWIN1)  - [id:2518547714867787710_76336679-bddf-460f-90fb-35a1386de7a6]",
        "2019-01-15 05:15:14 - Executable found running from a suspicious location - (MSTICALERTSWIN1)  - [id:2518547714857061520_f4324711-aeae-4912-a634-331b7e7456b6]",
        "2019-01-15 05:15:14 - Suspicious system process executed - (nan)  - [id:2518547714857061520_28f9a2e6-1925-455e-ad97-7af7f92f521d]",
        "2019-01-15 05:15:14 - Suspicious WindowPosition registry value detected - (MSTICALERTSWIN1)  - [id:2518547714858429362_9bfd0e4b-ec93-46bb-8eea-f72e8f1262f1]",
        "2019-01-15 05:15:14 - Suspicious process executed - (MSTICALERTSWIN1)  - [id:2518547714854375707_e2a60bd1-d7c8-466d-a176-4333d4e0d1d5]",
        "2019-01-15 05:15:14 - Detected suspicious named pipe communications - (MSTICALERTSWIN1)  - [id:2518547714859677078_9b4e4942-d564-4755-862c-7171d52921e3]",
        "2019-01-15 05:15:14 - Executable found running from a suspicious location - (MSTICALERTSWIN1)  - [id:2518547714853062206_f9ddd8b3-5fa8-4f2f-b811-bdca90091195]",
        "2019-01-15 05:15:15 - Detected change to a registry key that can be abused to bypass UAC - (MSTICALERTSWIN1)  - [id:2518547714844291280_8f71e695-ba9b-4c97-9770-63cdeb34b7b4]",
        "2019-01-15 05:15:15 - Detected anomalous mix of upper and lower case characters in command-line - (MSTICALERTSWIN1)  - [id:2518547714844457503_55cd3e12-3a91-4b06-9be6-833df3365142]",
        "2019-01-15 05:15:15 - Detected suspicious use of FTP -s Switch - (MSTICALERTSWIN1)  - [id:2518547714843218505_265472ff-3820-4dad-8da7-00e39e1a99fd]",
        "2019-01-15 05:15:15 - Sticky keys attack detected - (MSTICALERTSWIN1)  - [id:2518547714843796759_b3737297-038c-4514-a957-d591384b4256]",
        "2019-01-15 05:15:15 - Suspicious process executed - (MSTICALERTSWIN1)  - [id:2518547714842732992_ad5981a5-fdcc-406a-8742-e50bd7f84917]",
        "2019-01-15 05:15:16 - Detected suspicious new firewall rule - (MSTICALERTSWIN1)  - [id:2518547714839319574_33edaa83-fe35-47de-9486-fc9792c5b65b]",
        "2019-01-15 05:15:16 - Detected suspicious execution via rundll32.exe - (MSTICALERTSWIN1)  - [id:2518547714834806864_4bb2ecc3-f4aa-40cd-a3d7-802fc9086e89]",
        "2019-01-15 05:15:16 - Detected suspicious execution via rundll32.exe - (MSTICALERTSWIN1)  - [id:2518547714835690929_8e73946b-ebea-4625-aa60-d97b82dcfb07]",
        "2019-01-15 05:15:16 - Detected possible local reconnaissance activity - (MSTICALERTSWIN1)  - [id:2518547714837217151_f0d023fb-376f-46ab-9976-a5825d826bea]",
        "2019-01-15 05:15:16 - Detected suspicious Set-ExecutionPolicy and WinRM changes - (MSTICALERTSWIN1)  - [id:2518547714832788202_b56b9e61-fefb-47a3-a34f-7c1b44f8268a]",
        "2019-01-15 05:15:16 - Detected suspicious commandline used to start all executables in a directory - (MSTICALERTSWIN1)  - [id:2518547714833232927_0e8db234-9727-41f3-a6e0-0773519603d2]",
        "2019-01-15 05:15:16 - Detected potentially suspicious use of Telegram tool - (MSTICALERTSWIN1)  - [id:2518547714833859291_4fa26308-1daf-49ee-8880-b194f950d8b0]",
        "2019-01-15 05:15:16 - Suspected Kerberos Golden Ticket attack parameters observed - (MSTICALERTSWIN1)  - [id:2518547714838326136_e776fca2-4c01-43eb-ab97-b9845af3529c]",
        "2019-01-15 05:15:16 - Detected actions indicative of disabling and deleting IIS log files. - (MSTICALERTSWIN1)  - [id:2518547714831067013_8df27789-fb10-4035-ac48-cd0883b2e6b0]",
        "2019-01-15 05:15:17 - Azure Security Center test alert (not a threat) - (MSTICALERTSWIN1)  - [id:2518547714824290520_b2d9be9f-58e2-4174-8658-419670393253]",
        "2019-01-15 05:15:17 - Suspicious SVCHOST process executed - (nan)  - [id:2518547714825902697_fcbb6bb7-4c7c-488e-903c-f625e98db7c4]",
        "2019-01-15 05:15:17 - Random process name detected - (MSTICALERTSWIN1)  - [id:2518547714829244584_9984a237-2dd7-4932-bb8d-23ca535a6254]",
        "2019-01-15 05:15:17 - Rare SVCHOST service group executed - (nan)  - [id:2518547714825070946_58694b54-2bee-4160-9595-30903b466f6e]",
        "2019-01-15 05:15:17 - Suspicious double extension file executed - (nan)  - [id:2518547714828736209_2b2ff728-1a2a-46e8-a49a-6991e074a740]",
        "2019-01-15 05:15:17 - Suspicious Volume Shadow Copy Activity - (nan)  - [id:2518547714828638992_6c6836bb-23cd-4b31-b78e-08360c5a4f83]",
        "2019-01-15 05:15:18 - Detected suspicious execution of VBScript.Encode command - (MSTICALERTSWIN1)  - [id:2518547714811804858_5b42a152-64c2-4f16-8cc3-887b8b0161fc]",
        "2019-01-15 05:15:18 - Detected suspicious file cleanup commands - (MSTICALERTSWIN1)  - [id:2518547714814450855_c0822e2b-785b-41a8-8136-21b7430a0078]",
        "2019-01-15 05:15:18 - Detected Petya ransomware indicators - (MSTICALERTSWIN1)  - [id:2518547714812938298_fa4939d4-a20c-440a-839c-89c0c43e1ccc]",
        "2019-01-15 05:15:18 - Detected suspicious file creation - (MSTICALERTSWIN1)  - [id:2518547714816637303_3252483f-2fdb-411a-93f5-e268d5e56abf]",
        "2019-01-15 05:15:18 - Detected suspicious use of Pcalua.exe to launch executable code - (MSTICALERTSWIN1)  - [id:2518547714811337754_ad1fd62a-9565-41e4-b94a-6264942033f6]",
        "2019-01-15 05:15:18 - Detected possible execution of keygen executable - (MSTICALERTSWIN1)  - [id:2518547714814533914_38d53571-e98a-4bb6-a17f-0361a561019e]",
        "2019-01-15 05:15:18 - Detected suspicious use of Cacls to lower the security state of the system. - (MSTICALERTSWIN1)  - [id:2518547714815952205_1ba5718e-529b-441b-8036-ad06ee862e76]",
        "2019-01-15 05:15:18 - Detected the disabling of critical services - (MSTICALERTSWIN1)  - [id:2518547714813299511_a5df127a-f7e8-44ff-b404-6d5b37d06488]",
        "2019-01-15 05:15:18 - Ransomware indicators detected - (MSTICALERTSWIN1)  - [id:2518547714812286467_d5e026fa-6687-495e-878d-c4c93477cc78]",
        "2019-01-15 05:15:18 - Detected possible execution of malware dropper - (MSTICALERTSWIN1)  - [id:2518547714815009424_9a34d332-2fb6-4f3f-beb0-d9817dc9b7cd]",
        "2019-01-15 05:15:18 - High risk software detected - (MSTICALERTSWIN1)  - [id:2518547714813699414_d12ed618-567b-4b8f-8241-82ad4c1cb28e]",
        "2019-01-15 05:15:19 - Possible credential dumping detected - (MSTICALERTSWIN1)  - [id:2518547714809416002_76bf04a5-71fa-487a-9742-d54941a7a194]",
        "2019-01-15 05:15:19 - Suspicious download using Certutil detected - (MSTICALERTSWIN1)  - [id:2518547714805546049_03e7bf17-8f77-42ca-8ac1-af8258f4d1ca]",
        "2019-01-15 09:15:03 - Suspicious Account Creation Detected - (MSTICALERTSWIN1)  - [id:2518547570966661760_526e34b6-6578-4fc0-9db6-e126b4d673f0]",
        "2019-01-15 09:15:07 - Potential attempt to bypass AppLocker detected - (MSTICALERTSWIN1)  - [id:2518547570924760670_9868ed7d-397e-4aa4-8dbd-5a1c5f736c1e]",
        "2019-01-15 09:15:10 - Suspiciously named process detected - (MSTICALERTSWIN1)  - [id:2518547570895430544_4ea6c432-6d20-4986-9679-ecf58ac4854d]",
        "2019-01-15 09:15:10 - Digital currency mining related behavior detected - (MSTICALERTSWIN1)  - [id:2518547570895430544_72351be4-ae78-4cc6-9f6a-1ff87c31baeb]",
        "2019-01-15 09:15:11 - Detected obfuscated command line. - (MSTICALERTSWIN1)  - [id:2518547570880067443_c1a9004f-7f64-4144-8ce0-8f76f9041703]",
        "2019-01-15 09:15:11 - Suspicious Powershell Activity Detected - (MSTICALERTSWIN1)  - [id:2518547570883109415_c762b0f7-a0f5-4dda-ab48-54b5ae6eade4]",
        "2019-01-15 09:15:11 - Suspicious Powershell Activity Detected - (MSTICALERTSWIN1)  - [id:2518547570884378777_92a2f884-5827-4fb6-acf8-b0087b76aa73]",
        "2019-01-15 09:15:11 - Suspicious Powershell Activity Detected - (MSTICALERTSWIN1)  - [id:2518547570881721037_4ca5c629-673c-4372-9bd3-ab7bf6d6e6f0]",
        "2019-01-15 09:15:12 - Suspicious Powershell Activity Detected - (MSTICALERTSWIN1)  - [id:2518547570876432155_ce7c7361-8ac9-47be-b8fb-7a87c87ee178]",
        "2019-01-15 09:15:13 - Suspicious system process executed - (nan)  - [id:2518547570865502616_9d5e263f-55d2-441f-acf4-bf569b4cd976]",
        "2019-01-15 09:15:13 - Executable found running from a suspicious location - (MSTICALERTSWIN1)  - [id:2518547570865502616_c6f3dea2-fe36-4e65-b161-1b1cd1104eb3]",
        "2019-01-15 09:15:13 - Suspicious WindowPosition registry value detected - (MSTICALERTSWIN1)  - [id:2518547570866947129_1b074412-133c-4ac9-8e3f-24103159b03e]",
        "2019-01-15 09:15:13 - Executable found running from a suspicious location - (MSTICALERTSWIN1)  - [id:2518547570860979996_bddac8c5-cba5-4da2-a6dd-c0a39fc2b256]",
        "2019-01-15 09:15:13 - Suspicious process executed - (MSTICALERTSWIN1)  - [id:2518547570862568702_029c9c95-c1fe-4419-bc3b-a6d832c87e65]",
        "2019-01-15 09:15:14 - Suspicious process executed - (MSTICALERTSWIN1)  - [id:2518547570851316041_43f7d8f3-fea5-4fca-a884-713c2d65203c]",
        "2019-01-15 09:15:14 - Detected anomalous mix of upper and lower case characters in command-line - (MSTICALERTSWIN1)  - [id:2518547570852901341_3ca6ca5a-8bf2-417f-b8c9-3cea37c84f4b]",
        "2019-01-15 09:15:16 - Suspicious double extension file executed - (nan)  - [id:2518547570836535349_c45bcb62-9d89-44e8-bea9-7a9e35205576]",
        "2019-01-15 09:15:16 - Rare SVCHOST service group executed - (nan)  - [id:2518547570834399134_26ccc2ad-8ce0-4f60-8215-18f99377b547]",
        "2019-01-15 09:15:16 - Suspicious Volume Shadow Copy Activity - (nan)  - [id:2518547570836431794_b9d79b27-d725-4a87-b7ec-6fc9ec591e8c]",
        "2019-01-15 09:15:16 - Azure Security Center test alert (not a threat) - (MSTICALERTSWIN1)  - [id:2518547570833725387_2df8ae94-03fe-4b9f-a3a9-f3c6dab95c05]",
        "2019-01-15 09:15:16 - Suspicious SVCHOST process executed - (nan)  - [id:2518547570835168086_117b7a02-d1d0-4cf2-bc04-0b19a796b4d3]",
        "2019-01-15 09:15:17 - Ransomware indicators detected - (MSTICALERTSWIN1)  - [id:2518547570821365949_48327b74-c904-402d-a1d8-2b3a882924e7]",
        "2019-01-15 09:15:17 - Detected Petya ransomware indicators - (MSTICALERTSWIN1)  - [id:2518547570821871899_e647375c-9979-47b5-9f78-f414a1aad26d]",
        "2019-01-15 11:45:00 - Suspicious Account Creation Detected - (MSTICALERTSWIN1)  - [id:2518547480991748435_836318d1-0fa0-4cfe-a3d0-2b1fdbaf2216]",
        "2019-01-15 11:45:01 - Suspiciously named process detected - (MSTICALERTSWIN1)  - [id:2518547480988516756_54bb943e-7fe9-4146-a43e-4064c8e0049f]",
        "2019-01-15 11:45:01 - Digital currency mining related behavior detected - (MSTICALERTSWIN1)  - [id:2518547480988516756_668ed54c-9e73-4d4f-a9c2-b88fd1b13db0]",
        "2019-01-15 11:45:01 - Potential attempt to bypass AppLocker detected - (MSTICALERTSWIN1)  - [id:2518547480989617678_f3490cf7-a303-4001-b7d6-8acf7e83f191]",
        "2019-01-15 11:45:01 - Suspicious Powershell Activity Detected - (MSTICALERTSWIN1)  - [id:2518547480982973701_24a6d6f3-acf1-41bd-a11f-01a1369bac02]",
        "2019-01-15 11:45:01 - Suspicious Powershell Activity Detected - (MSTICALERTSWIN1)  - [id:2518547480984263491_d46877bd-e04d-401a-99bd-eec2a6b25663]",
        "2019-01-15 11:45:01 - Detected obfuscated command line. - (MSTICALERTSWIN1)  - [id:2518547480982511513_adfabbe0-fce0-44f3-be4b-17283bd03bed]",
        "2019-01-15 11:45:01 - Suspicious Powershell Activity Detected - (MSTICALERTSWIN1)  - [id:2518547480980813134_5cb7ab95-6017-4031-afb2-e11518b0f5cc]",
        "2019-01-15 11:45:01 - Suspicious Powershell Activity Detected - (MSTICALERTSWIN1)  - [id:2518547480983467170_9da8e3df-9c3b-4e20-8bd0-ace00aff9def]",
        "2019-01-15 11:45:02 - Executable found running from a suspicious location - (MSTICALERTSWIN1)  - [id:2518547480975043692_7e663699-5412-496f-ac91-e21a7b6f0be5]",
        "2019-01-15 11:45:02 - Executable found running from a suspicious location - (MSTICALERTSWIN1)  - [id:2518547480977057409_ed9d92ac-0ab8-4a2e-a1dd-f70ee30a9af1]",
        "2019-01-15 11:45:02 - Suspicious WindowPosition registry value detected - (MSTICALERTSWIN1)  - [id:2518547480977469312_e9ff6947-fd12-42d2-bb63-2d814f04482a]",
        "2019-01-15 11:45:02 - Suspicious process executed - (MSTICALERTSWIN1)  - [id:2518547480976076338_2a106d12-acd8-4dd7-9e1c-3c20b4eaa320]",
        "2019-01-15 11:45:02 - Suspicious system process executed - (nan)  - [id:2518547480977057409_492fbb97-a1fc-4880-95d2-e55ab2f142b6]",
        "2019-01-15 11:45:02 - Detected anomalous mix of upper and lower case characters in command-line - (MSTICALERTSWIN1)  - [id:2518547480970182118_c0558adc-b4a9-4289-b9ad-7e7260f1cde0]",
        "2019-01-15 11:45:03 - Suspicious process executed - (MSTICALERTSWIN1)  - [id:2518547480968677354_88eb8a87-a876-46aa-b8ed-be7298929ea8]",
        "2019-01-15 11:45:04 - Random process name detected - (MSTICALERTSWIN1)  - [id:2518547480956885358_b66e93d7-b38b-4785-baa5-093edc18e649]",
        "2019-01-15 11:45:04 - Suspicious Volume Shadow Copy Activity - (nan)  - [id:2518547480955968326_fa350f8b-2c81-478c-a383-debe0ab0c892]",
        "2019-01-15 11:45:04 - Suspicious double extension file executed - (nan)  - [id:2518547480956378190_2b59c1d5-a815-4562-a8d4-36d9777e6546]",
        "2019-01-15 11:45:05 - Rare SVCHOST service group executed - (nan)  - [id:2518547480946682289_f83c0705-d2ff-4355-a25d-ae858ee39b2d]",
        "2019-01-15 11:45:05 - Suspicious SVCHOST process executed - (nan)  - [id:2518547480947565906_5c82cd9c-60f8-4056-bd39-8ccb2cdb7678]",
        "2019-01-15 11:45:05 - Azure Security Center test alert (not a threat) - (MSTICALERTSWIN1)  - [id:2518547480945920380_00d33245-c643-4155-8c05-6abc4ee3b3cd]",
        "2019-01-15 11:45:06 - Ransomware indicators detected - (MSTICALERTSWIN1)  - [id:2518547480937987105_ec1678a1-0fe8-44c5-91b5-621c40d2bb8c]",
        "2019-01-15 11:45:06 - Detected Petya ransomware indicators - (MSTICALERTSWIN1)  - [id:2518547480938543829_91a4f9a7-70ad-433b-a568-34314e3f467f]",
        "2019-01-15 13:15:10 - Suspiciously named process detected - (MSTICALERTSWIN1)  - [id:2518547426892072407_171b74b2-a431-4b55-8d69-128e5fb95329]",
        "2019-01-15 13:15:13 - Suspicious WindowPosition registry value detected - (MSTICALERTSWIN1)  - [id:2518547426863814510_75495c57-4fd6-4e27-b94c-c6f81f78bcb5]",
        "2019-01-15 13:15:13 - Suspicious system process executed - (nan)  - [id:2518547426862437699_184c075e-64ee-4901-bc37-6eb999e81a11]",
        "2019-01-15 13:15:14 - Suspicious process executed - (MSTICALERTSWIN1)  - [id:2518547426859453218_89d1850f-dccd-4d45-b194-650819d358d9]",
        "2019-01-15 13:15:14 - Executable found running from a suspicious location - (MSTICALERTSWIN1)  - [id:2518547426858055460_51b74398-40e2-4b1b-9d92-89c0004738c9]",
        "2019-01-15 13:15:15 - Suspicious process executed - (MSTICALERTSWIN1)  - [id:2518547426847947731_caa12d6c-4928-4787-90d4-cb27ff94373c]",
        "2019-01-15 13:15:16 - Suspicious SVCHOST process executed - (nan)  - [id:2518547426831794607_a513ab17-2b6a-4b1a-a925-a0b3c21ec38c]",
        "2019-01-15 13:15:16 - Rare SVCHOST service group executed - (nan)  - [id:2518547426830640211_88f9ae7a-e6b5-4b54-b967-08f3fc503d91]",
        "2019-01-15 13:15:16 - Suspicious Volume Shadow Copy Activity - (nan)  - [id:2518547426833434810_b6e594ea-16d3-480e-81a7-2f8fe3af64ba]",
        "2019-01-15 13:15:16 - Suspicious double extension file executed - (nan)  - [id:2518547426833838523_7b30c978-28d5-4a28-a4c2-0985f08ab1c6]",
        "2019-01-15 13:15:17 - Azure Security Center test alert (not a threat) - (MSTICALERTSWIN1)  - [id:2518547426829675756_846ec406-bb3e-451b-bf6f-9e1e17a69bd6]",
        "2019-01-15 13:15:18 - Ransomware indicators detected - (MSTICALERTSWIN1)  - [id:2518547426817428483_636ab38f-2528-4356-8602-d0910f8ac600]",
        "2019-01-15 13:15:18 - Detected Petya ransomware indicators - (MSTICALERTSWIN1)  - [id:2518547426817928329_a4aa878d-93b5-4cd1-931f-30f85b9e6db2]",
        "2019-01-15 17:15:03 - Suspicious Account Creation Detected - (MSTICALERTSWIN1)  - [id:2518547282966696689_3db7e1e7-2edc-4dd9-8c1d-d908f5b8a904]",
        "2019-01-15 17:15:10 - Potential attempt to bypass AppLocker detected - (MSTICALERTSWIN1)  - [id:2518547282896095305_82730ffa-b9ce-43f4-bf3c-a97113107cc5]",
        "2019-01-15 17:15:10 - Suspiciously named process detected - (MSTICALERTSWIN1)  - [id:2518547282892925953_0073e6d8-6c2e-42e4-8966-d1f5a3dd3517]",
        "2019-01-15 17:15:10 - Digital currency mining related behavior detected - (MSTICALERTSWIN1)  - [id:2518547282892925953_35c8d588-ddf7-46b5-a0bf-f47023f9343c]",
        "2019-01-15 17:15:11 - Suspicious Powershell Activity Detected - (MSTICALERTSWIN1)  - [id:2518547282880013417_d65aa787-e867-43b1-9182-025a1a38173a]",
        "2019-01-15 17:15:11 - Suspicious Powershell Activity Detected - (MSTICALERTSWIN1)  - [id:2518547282881581273_ed5bcf39-ffd3-468a-82e3-28e108d4f06f]",
        "2019-01-15 17:15:11 - Suspicious Powershell Activity Detected - (MSTICALERTSWIN1)  - [id:2518547282883193041_31ae6eeb-bd1d-4018-8df9-eeedd60bf1ab]",
        "2019-01-15 17:15:12 - Suspicious Powershell Activity Detected - (MSTICALERTSWIN1)  - [id:2518547282874783943_bd1a0865-a507-4e2b-b8df-613238a950df]",
        "2019-01-15 17:15:12 - Detected obfuscated command line. - (MSTICALERTSWIN1)  - [id:2518547282878855119_d89d1ab7-e5b7-426c-a98f-eab95deea3ad]",
        "2019-01-15 17:15:13 - Suspicious system process executed - (nan)  - [id:2518547282863799328_7e169933-4275-4b94-b37f-490417bcfc98]",
        "2019-01-15 17:15:13 - Suspicious WindowPosition registry value detected - (MSTICALERTSWIN1)  - [id:2518547282865194453_9895a5cc-6f49-45f5-a0eb-f05c1f11f264]",
        "2019-01-15 17:15:13 - Executable found running from a suspicious location - (MSTICALERTSWIN1)  - [id:2518547282863799328_84ea8dcd-9436-4b4d-82b2-36114028bd61]",
        "2019-01-15 17:15:14 - Suspicious process executed - (MSTICALERTSWIN1)  - [id:2518547282859754476_0c3ae402-a9ea-4d5c-9c09-4274b7847c2c]",
        "2019-01-15 17:15:14 - Detected anomalous mix of upper and lower case characters in command-line - (MSTICALERTSWIN1)  - [id:2518547282850984831_7f983018-fd59-4e9e-ba70-295f6beb0e9c]",
        "2019-01-15 17:15:14 - Executable found running from a suspicious location - (MSTICALERTSWIN1)  - [id:2518547282858353938_58851b10-8f5c-48f1-aade-b1529f4e2c7f]",
        "2019-01-15 17:15:15 - Suspicious process executed - (MSTICALERTSWIN1)  - [id:2518547282845656644_c7318da8-368f-47f8-bff5-e15600a3fb80]",
        "2019-01-15 17:15:17 - Suspicious double extension file executed - (nan)  - [id:2518547282825853773_e6c85135-2b91-4537-b9a0-dae7eabb8e9d]",
        "2019-01-15 17:15:17 - Suspicious Volume Shadow Copy Activity - (nan)  - [id:2518547282825448815_6a71b543-4832-4658-8467-825aeafbe031]",
        "2019-01-15 17:15:18 - Rare SVCHOST service group executed - (nan)  - [id:2518547282813841329_a7e8e8c1-4561-48ea-bf75-a22c7bfc2257]",
        "2019-01-15 17:15:18 - Azure Security Center test alert (not a threat) - (MSTICALERTSWIN1)  - [id:2518547282812706885_12ae1e22-347e-454c-ae0d-ebb48cdf189b]",
        "2019-01-15 17:15:18 - Suspicious SVCHOST process executed - (nan)  - [id:2518547282814913644_34cc156e-9179-44c4-bd60-89dd1812e9e7]",
        "2019-01-15 17:15:19 - Detected Petya ransomware indicators - (MSTICALERTSWIN1)  - [id:2518547282803821916_c76cdb6c-cea0-4b2b-9ab6-1442a5857ed8]",
        "2019-01-15 17:15:19 - Ransomware indicators detected - (MSTICALERTSWIN1)  - [id:2518547282802847718_4a524cc8-7613-4c42-93a9-8c1e466a4476]",
        "2019-01-15 21:18:10 - Suspicious Account Added - (nan)  - [id:cbdce694-666c-4844-a29c-e7f4b66e27d1]"
       ],
       "description": "Select alert :",
       "index": 5,
       "layout": "IPY_MODEL_887aad7c0b9e44a39829111dbec5959a",
       "style": "IPY_MODEL_a51815a9163b40e596e4e34d8caa5a21"
      }
     },
     "3384926f5f45432a8e37912aa043d0aa": {
      "model_module": "@jupyter-widgets/controls",
      "model_module_version": "1.5.0",
      "model_name": "SelectModel",
      "state": {
       "_options_labels": [
        "ip",
        "host",
        "account"
       ],
       "description": "Select an item",
       "index": 0,
       "layout": "IPY_MODEL_f984568f1c95402c8d93a6a63e9c49be",
       "style": "IPY_MODEL_a55071a3a5c64767a6225ab64f2deee1"
      }
     },
     "33c9a10604044bd48a99f078ec5807fb": {
      "model_module": "@jupyter-widgets/base",
      "model_module_version": "1.2.0",
      "model_name": "LayoutModel",
      "state": {}
     },
     "33fad2f1e46b4415b6796da10a98606b": {
      "model_module": "@jupyter-widgets/controls",
      "model_module_version": "1.5.0",
      "model_name": "IntRangeSliderModel",
      "state": {
       "_model_name": "IntRangeSliderModel",
       "_view_name": "IntRangeSliderView",
       "description": "Time Range (hour):",
       "layout": "IPY_MODEL_d032459906814007a890e948c0daa849",
       "max": 2,
       "min": -20,
       "style": "IPY_MODEL_7a4439237fd34a7f8d3f773319c0508a",
       "value": [
        -4,
        2
       ]
      }
     },
     "34e6b357c4f64158be58dad0880a8e65": {
      "model_module": "@jupyter-widgets/controls",
      "model_module_version": "1.5.0",
      "model_name": "DescriptionStyleModel",
      "state": {
       "description_width": ""
      }
     },
     "34fe7ff875524dba86d9fd643902dbb1": {
      "model_module": "@jupyter-widgets/controls",
      "model_module_version": "1.5.0",
      "model_name": "DescriptionStyleModel",
      "state": {
       "description_width": "initial"
      }
     },
     "35799364a1604315b2d3b010a9aae16b": {
      "model_module": "@jupyter-widgets/controls",
      "model_module_version": "1.5.0",
      "model_name": "TextModel",
      "state": {
       "description": "Filter alerts by title:",
       "layout": "IPY_MODEL_6405e8b155d34bfc81f26adf2fe647c8",
       "style": "IPY_MODEL_2585769a037b4959b01b2fdf8dc086ba"
      }
     },
     "35efbab1418f4bee8ee3ab8942895bc8": {
      "model_module": "@jupyter-widgets/base",
      "model_module_version": "1.2.0",
      "model_name": "LayoutModel",
      "state": {
       "width": "50%"
      }
     },
     "364e925f67a746229f0524e312ebd712": {
      "model_module": "@jupyter-widgets/controls",
      "model_module_version": "1.5.0",
      "model_name": "DescriptionStyleModel",
      "state": {
       "description_width": ""
      }
     },
     "36ed1e7a216a47c5931d81759de8eff6": {
      "model_module": "@jupyter-widgets/controls",
      "model_module_version": "1.5.0",
      "model_name": "VBoxModel",
      "state": {
       "children": [
        "IPY_MODEL_2e4740d3921441928d1c1eb47813af3f",
        "IPY_MODEL_cf98d68a87c64b408f789c7395821b9e"
       ],
       "layout": "IPY_MODEL_f59bc6a568db4aa39ec7da5a158153c3"
      }
     },
     "37572e86c8e54e788ace0e7b01a21647": {
      "model_module": "@jupyter-widgets/controls",
      "model_module_version": "1.5.0",
      "model_name": "ButtonModel",
      "state": {
       "description": "Add ⇾",
       "layout": "IPY_MODEL_d8b49e746854491c80ed740c3ccf32a5",
       "style": "IPY_MODEL_1d934b6dbee748798f136d8ee5351715"
      }
     },
     "379b620b90df4889a245d094c940831f": {
      "model_module": "@jupyter-widgets/base",
      "model_module_version": "1.2.0",
      "model_name": "LayoutModel",
      "state": {}
     },
     "3f053af86eac4e419cc6c23d01253c1b": {
      "model_module": "@jupyter-widgets/controls",
      "model_module_version": "1.5.0",
      "model_name": "VBoxModel",
      "state": {
       "children": [
        "IPY_MODEL_7c2196f7a842435fb7fc762410017920",
        "IPY_MODEL_20b8ebdbbdec40a09ff04068e38c2101",
        "IPY_MODEL_b82ac6a97a93459e961054429ac63bbe",
        "IPY_MODEL_e893d7b85d194d259c64ebb5d6b2de2d"
       ],
       "layout": "IPY_MODEL_f80a595b408d4ccdb580e3a515e5df92"
      }
     },
     "41f4b70aeb204be1b258291b4c5092d8": {
      "model_module": "@jupyter-widgets/controls",
      "model_module_version": "1.5.0",
      "model_name": "ButtonStyleModel",
      "state": {}
     },
     "41f6a8baec434b8183b55876ddcb195e": {
      "model_module": "@jupyter-widgets/base",
      "model_module_version": "1.2.0",
      "model_name": "LayoutModel",
      "state": {}
     },
     "4238d5e7c7d84585a9ead3ad461cc73f": {
      "model_module": "@jupyter-widgets/base",
      "model_module_version": "1.2.0",
      "model_name": "LayoutModel",
      "state": {}
     },
     "42b719c63b5e48fe9d890fc02620af07": {
      "model_module": "@jupyter-widgets/base",
      "model_module_version": "1.2.0",
      "model_name": "LayoutModel",
      "state": {
       "width": "50%"
      }
     },
     "42e5f7854b1545b0b937ae7f2381a2fa": {
      "model_module": "@jupyter-widgets/base",
      "model_module_version": "1.2.0",
      "model_name": "LayoutModel",
      "state": {}
     },
     "4384a6d5936949f089c1cb047c3fcd15": {
      "model_module": "@jupyter-widgets/controls",
      "model_module_version": "1.5.0",
      "model_name": "VBoxModel",
      "state": {
       "children": [
        "IPY_MODEL_c6d79722e0e546848e41b521243f92f9",
        "IPY_MODEL_6743b62941a54b4a861970e90b068640",
        "IPY_MODEL_a84c769522224b19bb2c0a7c8c0cc284"
       ],
       "layout": "IPY_MODEL_fb1e212bd3a94e419ea51bf048fdd385"
      }
     },
     "43f72bf4fa994156a22655dffb2b45e9": {
      "model_module": "@jupyter-widgets/base",
      "model_module_version": "1.2.0",
      "model_name": "LayoutModel",
      "state": {
       "height": "300px",
       "width": "95%"
      }
     },
     "441026f8df1e42a4a4e3a1449ff7eea8": {
      "model_module": "@jupyter-widgets/controls",
      "model_module_version": "1.5.0",
      "model_name": "SelectMultipleModel",
      "state": {
       "_options_labels": [
        "Detected suspicious commandline arguments",
        "Detected suspicious commandline used to start all executables in a directory",
        "Detected suspicious credentials in commandline"
       ],
       "description": "Selected: ",
       "index": [],
       "layout": "IPY_MODEL_07def27e8507463ca4f6c37ade4a70bd",
       "rows": 5,
       "style": "IPY_MODEL_364e925f67a746229f0524e312ebd712"
      }
     },
     "44fb4b24f44940d18806f0938012332a": {
      "model_module": "@jupyter-widgets/controls",
      "model_module_version": "1.5.0",
      "model_name": "DescriptionStyleModel",
      "state": {
       "description_width": "initial"
      }
     },
     "4519b3f42e284bb1befc0f966ac8818a": {
      "model_module": "@jupyter-widgets/controls",
      "model_module_version": "1.5.0",
      "model_name": "DescriptionStyleModel",
      "state": {
       "description_width": ""
      }
     },
     "455c07c286e64a17858631d5e623f22e": {
      "model_module": "@jupyter-widgets/controls",
      "model_module_version": "1.5.0",
      "model_name": "DescriptionStyleModel",
      "state": {
       "description_width": "initial"
      }
     },
     "48422ece1b554a3b89a2e8e04abdfee6": {
      "model_module": "@jupyter-widgets/controls",
      "model_module_version": "1.5.0",
      "model_name": "ButtonModel",
      "state": {
       "description": "⇽ Remove All",
       "layout": "IPY_MODEL_7ee315c78a7741c4ba33e3db2f268b62",
       "style": "IPY_MODEL_cffef514231e4c3c8303552e3c0dac21"
      }
     },
     "48c613879ea2499ebf61984e30fdb726": {
      "model_module": "@jupyter-widgets/controls",
      "model_module_version": "1.5.0",
      "model_name": "DescriptionStyleModel",
      "state": {
       "description_width": "initial"
      }
     },
     "490f9f961e57492f9056c28ecf704a91": {
      "model_module": "@jupyter-widgets/controls",
      "model_module_version": "1.5.0",
      "model_name": "DescriptionStyleModel",
      "state": {
       "description_width": "initial"
      }
     },
     "4a9c5eaeefd043bc8032a4000e6204c7": {
      "model_module": "@jupyter-widgets/controls",
      "model_module_version": "1.5.0",
      "model_name": "VBoxModel",
      "state": {
       "children": [
        "IPY_MODEL_64f4c7db6b71427595fdac82e407ab41",
        "IPY_MODEL_cf6c9324e51347eb9d15a112f861264a"
       ],
       "layout": "IPY_MODEL_a943f362f3034a569448fd3fa3d647ef"
      }
     },
     "4c25d7eca4764594b258d21c03422aa2": {
      "model_module": "@jupyter-widgets/base",
      "model_module_version": "1.2.0",
      "model_name": "LayoutModel",
      "state": {
       "height": "300px",
       "width": "95%"
      }
     },
     "4c30943175d441b39db56a6c68c8679c": {
      "model_module": "@jupyter-widgets/base",
      "model_module_version": "1.2.0",
      "model_name": "LayoutModel",
      "state": {}
     },
     "4c8a5bf1cb5b42de8bb15d989533bbe2": {
      "model_module": "@jupyter-widgets/controls",
      "model_module_version": "1.5.0",
      "model_name": "DescriptionStyleModel",
      "state": {
       "description_width": ""
      }
     },
     "4d4145536bc74841a20daa544b6928b6": {
      "model_module": "@jupyter-widgets/controls",
      "model_module_version": "1.5.0",
      "model_name": "VBoxModel",
      "state": {
       "children": [
        "IPY_MODEL_9a285c03336c41b2bca5483fc90c84ce",
        "IPY_MODEL_5e3c7989837d4014941f8d76dbe7b995"
       ],
       "layout": "IPY_MODEL_4c30943175d441b39db56a6c68c8679c"
      }
     },
     "508de392a84f441191d36389ed838f55": {
      "model_module": "@jupyter-widgets/controls",
      "model_module_version": "1.5.0",
      "model_name": "DescriptionStyleModel",
      "state": {
       "description_width": "initial"
      }
     },
     "539dae59bdd24c13a26dbdca5e3ad745": {
      "model_module": "@jupyter-widgets/controls",
      "model_module_version": "1.5.0",
      "model_name": "SelectModel",
      "state": {
       "_options_labels": [
        "2018-12-30 00:02:00 - Network communication with a malicious machine detected - (nan)  - [id:a511e1bb-69e1-41a2-8054-c6fcb6aa2362]",
        "2019-01-01 00:02:00 - Possible compromised machine detected - (nan)  - [id:62ded865-938b-4bb3-afef-605d692607f1]",
        "2019-01-01 00:02:00 - An event log was cleared - (nan)  - [id:48facfa1-fe35-45ff-8c91-7a710cd462b9]",
        "2019-01-03 00:02:00 - Suspicious process executed - (nan)  - [id:a32adc3f-43f7-4e5d-b833-98baa71c2f51]",
        "2019-01-03 00:02:00 - Suspicious double extension file executed - (nan)  - [id:112dc225-bc2d-4328-97fd-a99e0b000b1f]",
        "2019-01-05 01:02:00 - SQL injection blocked - (nan)  - [id:0c68e539-f060-401f-b967-6b64b8f49198]",
        "2019-01-05 02:02:00 - Failed RDP Brute Force Attack - (nan)  - [id:8832e816-d634-4214-bb48-7a6678fdf0b7]",
        "2019-01-06 02:02:00 - Successful RDP brute force attack - (nan)  - [id:3b2b5ecc-ec29-4703-9450-29b29b937fd8]",
        "2019-01-06 03:02:00 - Suspicious SVCHOST process executed - (nan)  - [id:614ae18e-cd79-4d4c-97dc-24431be12b5b]",
        "2019-01-06 04:02:00 - Multiple Domain Accounts Queried - (vm1)  - [id:7b27ffab-7204-4856-a013-908de6c1804e]",
        "2019-01-06 05:02:00 - Network communication with a malicious machine detected - (nan)  - [id:98a6dea6-1b64-41d0-938e-0dec24b234ec]",
        "2019-01-07 05:02:00 - Modified system binary discovered in dump file 5bd767e4-2d08-4714-b744-aaed04b57107__391365252.hdmp - (nan)  - [id:775505ce-0ef9-4945-b697-303f7666d1b6]",
        "2019-01-08 05:02:00 - Possible outgoing spam activity detected - (vm1lin)  - [id:28f9b83a-33e6-44da-a002-0f48bff46a67]",
        "2019-01-09 05:02:00 - Deep Security Agent detected a malware - (nan)  - [id:5fc4f6a0-0687-4b93-998e-a230af39c10b]",
        "2019-01-09 05:38:06 - Global domain trust creation - Demo - (nan)  - [id:9740fe80-b642-4a38-8e86-05fa4d35508b]",
        "2019-01-09 06:25:57 - Maliciuos IP communication - (nan)  - [id:04e14d6f-6d4f-46d4-a5f6-2a26bcd34ce8]",
        "2019-01-09 06:31:40 - DC local group addition - Demo - (nan)  - [id:ace7fb98-ef96-46df-ba7b-9a15a141d368]",
        "2019-01-09 06:31:42 - Palo Alto admin logged on via SSH - Demo - (nan)  - [id:40a5916b-9697-423a-a5e4-95cca7c735e7]",
        "2019-01-09 06:33:55 - DC with MS AM engine failure - Demo - (nan)  - [id:78cc7e02-6116-459d-9cdc-a6dcc40ba937]",
        "2019-01-10 05:02:00 - Potential SQL Injection - (nan)  - [id:5365ee7a-f730-42d2-bcdf-b2e898ab98d7]",
        "2019-01-10 05:38:06 - Global domain trust creation - Demo - (nan)  - [id:401f2680-cc05-4e6f-a1f6-69cff2055cd9]",
        "2019-01-10 06:25:57 - Maliciuos IP communication - (nan)  - [id:b5786d68-7f5e-4be1-92e6-e255010d1d8c]",
        "2019-01-10 06:31:40 - DC local group addition - Demo - (nan)  - [id:01659bf1-1228-4e46-b73b-e7d173d365eb]",
        "2019-01-10 06:31:42 - Palo Alto admin logged on via SSH - Demo - (nan)  - [id:0ce6ad61-302a-4142-8eaa-4da9dfad9ca9]",
        "2019-01-10 06:33:55 - DC with MS AM engine failure - Demo - (nan)  - [id:df9f92cb-6fd2-469b-9b72-28f128df1adf]",
        "2019-01-10 19:18:10 - Suspicious Account Added - (nan)  - [id:b3f02c05-e844-4161-81d6-d736548d91ae]",
        "2019-01-11 05:38:06 - Global domain trust creation - Demo - (nan)  - [id:6b56aa8c-da76-4caf-b09d-8706292a8b89]",
        "2019-01-11 06:25:57 - Maliciuos IP communication - (nan)  - [id:4586bd9e-5c1e-4229-9a01-ecd84ad51448]",
        "2019-01-11 06:31:40 - DC local group addition - Demo - (nan)  - [id:047f47d6-79b7-4502-824b-97abc4905a73]",
        "2019-01-11 06:31:42 - Palo Alto admin logged on via SSH - Demo - (nan)  - [id:2d06cb42-bdff-426d-8091-ccc151bcbc94]",
        "2019-01-11 06:33:55 - DC with MS AM engine failure - Demo - (nan)  - [id:412ca580-63c8-4fd2-87e4-87b1ba4260b3]",
        "2019-01-11 19:18:10 - Suspicious Account Added - (nan)  - [id:42a8b425-1c41-4355-8343-18ad563c43b6]",
        "2019-01-12 05:38:06 - Global domain trust creation - Demo - (nan)  - [id:bc44b302-78c7-4be8-bf70-d39d6935fd74]",
        "2019-01-12 06:25:57 - Maliciuos IP communication - (nan)  - [id:c76f17e2-e739-4e7e-bf17-4dd163fc831f]",
        "2019-01-12 06:31:40 - DC local group addition - Demo - (nan)  - [id:07be11df-3dbf-49a5-8b5a-dcea75d89993]",
        "2019-01-12 06:31:42 - Palo Alto admin logged on via SSH - Demo - (nan)  - [id:09ec519f-96b0-4332-be30-b0379c8cbd04]",
        "2019-01-12 06:33:55 - DC with MS AM engine failure - Demo - (nan)  - [id:6a7aaa2e-a575-4e8b-87ed-0d964bf1005e]",
        "2019-01-12 19:18:10 - Suspicious Account Added - (nan)  - [id:d4638075-fed2-4031-8e52-d37c220b0fe4]",
        "2019-01-13 05:38:06 - Global domain trust creation - Demo - (nan)  - [id:5d733fc8-ff32-436d-a595-beaf8943bd63]",
        "2019-01-13 06:25:57 - Maliciuos IP communication - (nan)  - [id:54a8f6d8-f69b-4872-96f8-ef274d5fc8d4]",
        "2019-01-13 06:31:40 - DC local group addition - Demo - (nan)  - [id:47445dca-b87d-45f5-9073-b713e3c69a56]",
        "2019-01-13 06:31:42 - Palo Alto admin logged on via SSH - Demo - (nan)  - [id:45176796-d3f9-40ce-a8f2-aba9bb3c8063]",
        "2019-01-13 06:33:55 - DC with MS AM engine failure - Demo - (nan)  - [id:985be534-6f40-4b0c-a951-8f3915eacd61]",
        "2019-01-13 19:18:10 - Suspicious Account Added - (nan)  - [id:790217fc-9597-4159-b469-bb383c747435]",
        "2019-01-14 05:38:06 - Global domain trust creation - Demo - (nan)  - [id:fbaf48de-152a-4aa6-8a69-902b219bf972]",
        "2019-01-14 06:25:57 - Maliciuos IP communication - (nan)  - [id:1828afac-b4c2-41d9-acbd-7d23b7219557]",
        "2019-01-14 06:31:40 - DC local group addition - Demo - (nan)  - [id:b34d24c9-2223-4887-af93-7598abf28763]",
        "2019-01-14 06:31:42 - Palo Alto admin logged on via SSH - Demo - (nan)  - [id:9442245d-eaf6-47c5-b715-1c16b2c54fc4]",
        "2019-01-14 06:33:55 - DC with MS AM engine failure - Demo - (nan)  - [id:edc4065d-886f-4aff-b17d-f1397ce4baec]",
        "2019-01-14 21:18:10 - Suspicious Account Added - (nan)  - [id:1cca38a9-e0c5-4165-a78d-491ca2641c1c]",
        "2019-01-15 05:15:03 - Suspicious Account Creation Detected - (MSTICALERTSWIN1)  - [id:2518547714966107270_3c380601-b5ad-4fff-9cdb-24528a3a19fd]",
        "2019-01-15 05:15:03 - Anomalous account creation detected - (nan)  - [id:2518547714966107270_90beedae-1285-43d6-8f33-16bc542af39b]",
        "2019-01-15 05:15:10 - Potential attempt to bypass AppLocker detected - (MSTICALERTSWIN1)  - [id:2518547714892475358_9e449abd-e67b-4ec8-a191-e688d7d63e26]",
        "2019-01-15 05:15:11 - Detected decoding of an executable using built-in certutil.exe tool - (MSTICALERTSWIN1)  - [id:2518547714882331861_5c56421d-d894-4437-9b9a-a3b5c6b7e1df]",
        "2019-01-15 05:15:11 - Detected suspicious credentials in commandline - (MSTICALERTSWIN1)  - [id:2518547714880519889_9d6d471a-c94f-4706-b0ff-b2f0301495aa]",
        "2019-01-15 05:15:11 - Digital currency mining related behavior detected - (MSTICALERTSWIN1)  - [id:2518547714887413669_4fa0022e-f431-4ba1-ae5f-ee23247e0853]",
        "2019-01-15 05:15:11 - Suspiciously named process detected - (MSTICALERTSWIN1)  - [id:2518547714887413669_1c680842-2a1d-40c0-a6e4-32e5dd144647]",
        "2019-01-15 05:15:11 - Detected encoded executable in command line data - (MSTICALERTSWIN1)  - [id:2518547714885867955_290559aa-a3d0-425b-8ed2-e98ccc9f0aa0]",
        "2019-01-15 05:15:12 - Detected suspicious commandline arguments - (MSTICALERTSWIN1)  - [id:2518547714879317674_226cc394-fccf-483d-888a-beafad2ed4a4]",
        "2019-01-15 05:15:12 - Detected suspicious document credentials - (MSTICALERTSWIN1)  - [id:2518547714879970078_b080127b-d5c1-425e-a7ca-e4bbd873009d]",
        "2019-01-15 05:15:12 - Detected obfuscated command line. - (MSTICALERTSWIN1)  - [id:2518547714871530079_77211491-86de-4295-82bc-38e332fe1112]",
        "2019-01-15 05:15:12 - Suspicious powershell cmdlets executed - (MSTICALERTSWIN1)  - [id:2518547714874872692_3eb0eb4b-0536-430c-8ab6-cd48524c14b1]",
        "2019-01-15 05:15:12 - Suspicious Powershell Activity Detected - (MSTICALERTSWIN1)  - [id:2518547714874872692_30d988ff-b8d9-45df-8217-e56b0d4d591c]",
        "2019-01-15 05:15:12 - Suspicious Powershell Activity Detected - (MSTICALERTSWIN1)  - [id:2518547714873290756_df1b9eb2-05c4-4f7c-8540-cbb18ec5c608]",
        "2019-01-15 05:15:12 - Suspicious Powershell Activity Detected - (MSTICALERTSWIN1)  - [id:2518547714876077067_953def48-a24b-42a9-bd02-7221be90f84a]",
        "2019-01-15 05:15:13 - Suspicious Powershell Activity Detected - (MSTICALERTSWIN1)  - [id:2518547714867787710_76336679-bddf-460f-90fb-35a1386de7a6]",
        "2019-01-15 05:15:14 - Executable found running from a suspicious location - (MSTICALERTSWIN1)  - [id:2518547714857061520_f4324711-aeae-4912-a634-331b7e7456b6]",
        "2019-01-15 05:15:14 - Suspicious system process executed - (nan)  - [id:2518547714857061520_28f9a2e6-1925-455e-ad97-7af7f92f521d]",
        "2019-01-15 05:15:14 - Suspicious WindowPosition registry value detected - (MSTICALERTSWIN1)  - [id:2518547714858429362_9bfd0e4b-ec93-46bb-8eea-f72e8f1262f1]",
        "2019-01-15 05:15:14 - Suspicious process executed - (MSTICALERTSWIN1)  - [id:2518547714854375707_e2a60bd1-d7c8-466d-a176-4333d4e0d1d5]",
        "2019-01-15 05:15:14 - Detected suspicious named pipe communications - (MSTICALERTSWIN1)  - [id:2518547714859677078_9b4e4942-d564-4755-862c-7171d52921e3]",
        "2019-01-15 05:15:14 - Executable found running from a suspicious location - (MSTICALERTSWIN1)  - [id:2518547714853062206_f9ddd8b3-5fa8-4f2f-b811-bdca90091195]",
        "2019-01-15 05:15:15 - Detected change to a registry key that can be abused to bypass UAC - (MSTICALERTSWIN1)  - [id:2518547714844291280_8f71e695-ba9b-4c97-9770-63cdeb34b7b4]",
        "2019-01-15 05:15:15 - Detected anomalous mix of upper and lower case characters in command-line - (MSTICALERTSWIN1)  - [id:2518547714844457503_55cd3e12-3a91-4b06-9be6-833df3365142]",
        "2019-01-15 05:15:15 - Detected suspicious use of FTP -s Switch - (MSTICALERTSWIN1)  - [id:2518547714843218505_265472ff-3820-4dad-8da7-00e39e1a99fd]",
        "2019-01-15 05:15:15 - Sticky keys attack detected - (MSTICALERTSWIN1)  - [id:2518547714843796759_b3737297-038c-4514-a957-d591384b4256]",
        "2019-01-15 05:15:15 - Suspicious process executed - (MSTICALERTSWIN1)  - [id:2518547714842732992_ad5981a5-fdcc-406a-8742-e50bd7f84917]",
        "2019-01-15 05:15:16 - Detected suspicious new firewall rule - (MSTICALERTSWIN1)  - [id:2518547714839319574_33edaa83-fe35-47de-9486-fc9792c5b65b]",
        "2019-01-15 05:15:16 - Detected suspicious execution via rundll32.exe - (MSTICALERTSWIN1)  - [id:2518547714834806864_4bb2ecc3-f4aa-40cd-a3d7-802fc9086e89]",
        "2019-01-15 05:15:16 - Detected suspicious execution via rundll32.exe - (MSTICALERTSWIN1)  - [id:2518547714835690929_8e73946b-ebea-4625-aa60-d97b82dcfb07]",
        "2019-01-15 05:15:16 - Detected possible local reconnaissance activity - (MSTICALERTSWIN1)  - [id:2518547714837217151_f0d023fb-376f-46ab-9976-a5825d826bea]",
        "2019-01-15 05:15:16 - Detected suspicious Set-ExecutionPolicy and WinRM changes - (MSTICALERTSWIN1)  - [id:2518547714832788202_b56b9e61-fefb-47a3-a34f-7c1b44f8268a]",
        "2019-01-15 05:15:16 - Detected suspicious commandline used to start all executables in a directory - (MSTICALERTSWIN1)  - [id:2518547714833232927_0e8db234-9727-41f3-a6e0-0773519603d2]",
        "2019-01-15 05:15:16 - Detected potentially suspicious use of Telegram tool - (MSTICALERTSWIN1)  - [id:2518547714833859291_4fa26308-1daf-49ee-8880-b194f950d8b0]",
        "2019-01-15 05:15:16 - Suspected Kerberos Golden Ticket attack parameters observed - (MSTICALERTSWIN1)  - [id:2518547714838326136_e776fca2-4c01-43eb-ab97-b9845af3529c]",
        "2019-01-15 05:15:16 - Detected actions indicative of disabling and deleting IIS log files. - (MSTICALERTSWIN1)  - [id:2518547714831067013_8df27789-fb10-4035-ac48-cd0883b2e6b0]",
        "2019-01-15 05:15:17 - Azure Security Center test alert (not a threat) - (MSTICALERTSWIN1)  - [id:2518547714824290520_b2d9be9f-58e2-4174-8658-419670393253]",
        "2019-01-15 05:15:17 - Suspicious SVCHOST process executed - (nan)  - [id:2518547714825902697_fcbb6bb7-4c7c-488e-903c-f625e98db7c4]",
        "2019-01-15 05:15:17 - Random process name detected - (MSTICALERTSWIN1)  - [id:2518547714829244584_9984a237-2dd7-4932-bb8d-23ca535a6254]",
        "2019-01-15 05:15:17 - Rare SVCHOST service group executed - (nan)  - [id:2518547714825070946_58694b54-2bee-4160-9595-30903b466f6e]",
        "2019-01-15 05:15:17 - Suspicious double extension file executed - (nan)  - [id:2518547714828736209_2b2ff728-1a2a-46e8-a49a-6991e074a740]",
        "2019-01-15 05:15:17 - Suspicious Volume Shadow Copy Activity - (nan)  - [id:2518547714828638992_6c6836bb-23cd-4b31-b78e-08360c5a4f83]",
        "2019-01-15 05:15:18 - Detected suspicious execution of VBScript.Encode command - (MSTICALERTSWIN1)  - [id:2518547714811804858_5b42a152-64c2-4f16-8cc3-887b8b0161fc]",
        "2019-01-15 05:15:18 - Detected suspicious file cleanup commands - (MSTICALERTSWIN1)  - [id:2518547714814450855_c0822e2b-785b-41a8-8136-21b7430a0078]",
        "2019-01-15 05:15:18 - Detected Petya ransomware indicators - (MSTICALERTSWIN1)  - [id:2518547714812938298_fa4939d4-a20c-440a-839c-89c0c43e1ccc]",
        "2019-01-15 05:15:18 - Detected suspicious file creation - (MSTICALERTSWIN1)  - [id:2518547714816637303_3252483f-2fdb-411a-93f5-e268d5e56abf]",
        "2019-01-15 05:15:18 - Detected suspicious use of Pcalua.exe to launch executable code - (MSTICALERTSWIN1)  - [id:2518547714811337754_ad1fd62a-9565-41e4-b94a-6264942033f6]",
        "2019-01-15 05:15:18 - Detected possible execution of keygen executable - (MSTICALERTSWIN1)  - [id:2518547714814533914_38d53571-e98a-4bb6-a17f-0361a561019e]",
        "2019-01-15 05:15:18 - Detected suspicious use of Cacls to lower the security state of the system. - (MSTICALERTSWIN1)  - [id:2518547714815952205_1ba5718e-529b-441b-8036-ad06ee862e76]",
        "2019-01-15 05:15:18 - Detected the disabling of critical services - (MSTICALERTSWIN1)  - [id:2518547714813299511_a5df127a-f7e8-44ff-b404-6d5b37d06488]",
        "2019-01-15 05:15:18 - Ransomware indicators detected - (MSTICALERTSWIN1)  - [id:2518547714812286467_d5e026fa-6687-495e-878d-c4c93477cc78]",
        "2019-01-15 05:15:18 - Detected possible execution of malware dropper - (MSTICALERTSWIN1)  - [id:2518547714815009424_9a34d332-2fb6-4f3f-beb0-d9817dc9b7cd]",
        "2019-01-15 05:15:18 - High risk software detected - (MSTICALERTSWIN1)  - [id:2518547714813699414_d12ed618-567b-4b8f-8241-82ad4c1cb28e]",
        "2019-01-15 05:15:19 - Possible credential dumping detected - (MSTICALERTSWIN1)  - [id:2518547714809416002_76bf04a5-71fa-487a-9742-d54941a7a194]",
        "2019-01-15 05:15:19 - Suspicious download using Certutil detected - (MSTICALERTSWIN1)  - [id:2518547714805546049_03e7bf17-8f77-42ca-8ac1-af8258f4d1ca]",
        "2019-01-15 09:15:03 - Suspicious Account Creation Detected - (MSTICALERTSWIN1)  - [id:2518547570966661760_526e34b6-6578-4fc0-9db6-e126b4d673f0]",
        "2019-01-15 09:15:07 - Potential attempt to bypass AppLocker detected - (MSTICALERTSWIN1)  - [id:2518547570924760670_9868ed7d-397e-4aa4-8dbd-5a1c5f736c1e]",
        "2019-01-15 09:15:10 - Suspiciously named process detected - (MSTICALERTSWIN1)  - [id:2518547570895430544_4ea6c432-6d20-4986-9679-ecf58ac4854d]",
        "2019-01-15 09:15:10 - Digital currency mining related behavior detected - (MSTICALERTSWIN1)  - [id:2518547570895430544_72351be4-ae78-4cc6-9f6a-1ff87c31baeb]",
        "2019-01-15 09:15:11 - Detected obfuscated command line. - (MSTICALERTSWIN1)  - [id:2518547570880067443_c1a9004f-7f64-4144-8ce0-8f76f9041703]",
        "2019-01-15 09:15:11 - Suspicious Powershell Activity Detected - (MSTICALERTSWIN1)  - [id:2518547570883109415_c762b0f7-a0f5-4dda-ab48-54b5ae6eade4]",
        "2019-01-15 09:15:11 - Suspicious Powershell Activity Detected - (MSTICALERTSWIN1)  - [id:2518547570884378777_92a2f884-5827-4fb6-acf8-b0087b76aa73]",
        "2019-01-15 09:15:11 - Suspicious Powershell Activity Detected - (MSTICALERTSWIN1)  - [id:2518547570881721037_4ca5c629-673c-4372-9bd3-ab7bf6d6e6f0]",
        "2019-01-15 09:15:12 - Suspicious Powershell Activity Detected - (MSTICALERTSWIN1)  - [id:2518547570876432155_ce7c7361-8ac9-47be-b8fb-7a87c87ee178]",
        "2019-01-15 09:15:13 - Suspicious system process executed - (nan)  - [id:2518547570865502616_9d5e263f-55d2-441f-acf4-bf569b4cd976]",
        "2019-01-15 09:15:13 - Executable found running from a suspicious location - (MSTICALERTSWIN1)  - [id:2518547570865502616_c6f3dea2-fe36-4e65-b161-1b1cd1104eb3]",
        "2019-01-15 09:15:13 - Suspicious WindowPosition registry value detected - (MSTICALERTSWIN1)  - [id:2518547570866947129_1b074412-133c-4ac9-8e3f-24103159b03e]",
        "2019-01-15 09:15:13 - Executable found running from a suspicious location - (MSTICALERTSWIN1)  - [id:2518547570860979996_bddac8c5-cba5-4da2-a6dd-c0a39fc2b256]",
        "2019-01-15 09:15:13 - Suspicious process executed - (MSTICALERTSWIN1)  - [id:2518547570862568702_029c9c95-c1fe-4419-bc3b-a6d832c87e65]",
        "2019-01-15 09:15:14 - Suspicious process executed - (MSTICALERTSWIN1)  - [id:2518547570851316041_43f7d8f3-fea5-4fca-a884-713c2d65203c]",
        "2019-01-15 09:15:14 - Detected anomalous mix of upper and lower case characters in command-line - (MSTICALERTSWIN1)  - [id:2518547570852901341_3ca6ca5a-8bf2-417f-b8c9-3cea37c84f4b]",
        "2019-01-15 09:15:16 - Suspicious double extension file executed - (nan)  - [id:2518547570836535349_c45bcb62-9d89-44e8-bea9-7a9e35205576]",
        "2019-01-15 09:15:16 - Rare SVCHOST service group executed - (nan)  - [id:2518547570834399134_26ccc2ad-8ce0-4f60-8215-18f99377b547]",
        "2019-01-15 09:15:16 - Suspicious Volume Shadow Copy Activity - (nan)  - [id:2518547570836431794_b9d79b27-d725-4a87-b7ec-6fc9ec591e8c]",
        "2019-01-15 09:15:16 - Azure Security Center test alert (not a threat) - (MSTICALERTSWIN1)  - [id:2518547570833725387_2df8ae94-03fe-4b9f-a3a9-f3c6dab95c05]",
        "2019-01-15 09:15:16 - Suspicious SVCHOST process executed - (nan)  - [id:2518547570835168086_117b7a02-d1d0-4cf2-bc04-0b19a796b4d3]",
        "2019-01-15 09:15:17 - Ransomware indicators detected - (MSTICALERTSWIN1)  - [id:2518547570821365949_48327b74-c904-402d-a1d8-2b3a882924e7]",
        "2019-01-15 09:15:17 - Detected Petya ransomware indicators - (MSTICALERTSWIN1)  - [id:2518547570821871899_e647375c-9979-47b5-9f78-f414a1aad26d]",
        "2019-01-15 11:45:00 - Suspicious Account Creation Detected - (MSTICALERTSWIN1)  - [id:2518547480991748435_836318d1-0fa0-4cfe-a3d0-2b1fdbaf2216]",
        "2019-01-15 11:45:01 - Suspiciously named process detected - (MSTICALERTSWIN1)  - [id:2518547480988516756_54bb943e-7fe9-4146-a43e-4064c8e0049f]",
        "2019-01-15 11:45:01 - Digital currency mining related behavior detected - (MSTICALERTSWIN1)  - [id:2518547480988516756_668ed54c-9e73-4d4f-a9c2-b88fd1b13db0]",
        "2019-01-15 11:45:01 - Potential attempt to bypass AppLocker detected - (MSTICALERTSWIN1)  - [id:2518547480989617678_f3490cf7-a303-4001-b7d6-8acf7e83f191]",
        "2019-01-15 11:45:01 - Suspicious Powershell Activity Detected - (MSTICALERTSWIN1)  - [id:2518547480982973701_24a6d6f3-acf1-41bd-a11f-01a1369bac02]",
        "2019-01-15 11:45:01 - Suspicious Powershell Activity Detected - (MSTICALERTSWIN1)  - [id:2518547480984263491_d46877bd-e04d-401a-99bd-eec2a6b25663]",
        "2019-01-15 11:45:01 - Detected obfuscated command line. - (MSTICALERTSWIN1)  - [id:2518547480982511513_adfabbe0-fce0-44f3-be4b-17283bd03bed]",
        "2019-01-15 11:45:01 - Suspicious Powershell Activity Detected - (MSTICALERTSWIN1)  - [id:2518547480980813134_5cb7ab95-6017-4031-afb2-e11518b0f5cc]",
        "2019-01-15 11:45:01 - Suspicious Powershell Activity Detected - (MSTICALERTSWIN1)  - [id:2518547480983467170_9da8e3df-9c3b-4e20-8bd0-ace00aff9def]",
        "2019-01-15 11:45:02 - Executable found running from a suspicious location - (MSTICALERTSWIN1)  - [id:2518547480975043692_7e663699-5412-496f-ac91-e21a7b6f0be5]",
        "2019-01-15 11:45:02 - Executable found running from a suspicious location - (MSTICALERTSWIN1)  - [id:2518547480977057409_ed9d92ac-0ab8-4a2e-a1dd-f70ee30a9af1]",
        "2019-01-15 11:45:02 - Suspicious WindowPosition registry value detected - (MSTICALERTSWIN1)  - [id:2518547480977469312_e9ff6947-fd12-42d2-bb63-2d814f04482a]",
        "2019-01-15 11:45:02 - Suspicious process executed - (MSTICALERTSWIN1)  - [id:2518547480976076338_2a106d12-acd8-4dd7-9e1c-3c20b4eaa320]",
        "2019-01-15 11:45:02 - Suspicious system process executed - (nan)  - [id:2518547480977057409_492fbb97-a1fc-4880-95d2-e55ab2f142b6]",
        "2019-01-15 11:45:02 - Detected anomalous mix of upper and lower case characters in command-line - (MSTICALERTSWIN1)  - [id:2518547480970182118_c0558adc-b4a9-4289-b9ad-7e7260f1cde0]",
        "2019-01-15 11:45:03 - Suspicious process executed - (MSTICALERTSWIN1)  - [id:2518547480968677354_88eb8a87-a876-46aa-b8ed-be7298929ea8]",
        "2019-01-15 11:45:04 - Random process name detected - (MSTICALERTSWIN1)  - [id:2518547480956885358_b66e93d7-b38b-4785-baa5-093edc18e649]",
        "2019-01-15 11:45:04 - Suspicious Volume Shadow Copy Activity - (nan)  - [id:2518547480955968326_fa350f8b-2c81-478c-a383-debe0ab0c892]",
        "2019-01-15 11:45:04 - Suspicious double extension file executed - (nan)  - [id:2518547480956378190_2b59c1d5-a815-4562-a8d4-36d9777e6546]",
        "2019-01-15 11:45:05 - Rare SVCHOST service group executed - (nan)  - [id:2518547480946682289_f83c0705-d2ff-4355-a25d-ae858ee39b2d]",
        "2019-01-15 11:45:05 - Suspicious SVCHOST process executed - (nan)  - [id:2518547480947565906_5c82cd9c-60f8-4056-bd39-8ccb2cdb7678]",
        "2019-01-15 11:45:05 - Azure Security Center test alert (not a threat) - (MSTICALERTSWIN1)  - [id:2518547480945920380_00d33245-c643-4155-8c05-6abc4ee3b3cd]",
        "2019-01-15 11:45:06 - Ransomware indicators detected - (MSTICALERTSWIN1)  - [id:2518547480937987105_ec1678a1-0fe8-44c5-91b5-621c40d2bb8c]",
        "2019-01-15 11:45:06 - Detected Petya ransomware indicators - (MSTICALERTSWIN1)  - [id:2518547480938543829_91a4f9a7-70ad-433b-a568-34314e3f467f]",
        "2019-01-15 13:15:10 - Suspiciously named process detected - (MSTICALERTSWIN1)  - [id:2518547426892072407_171b74b2-a431-4b55-8d69-128e5fb95329]",
        "2019-01-15 13:15:13 - Suspicious WindowPosition registry value detected - (MSTICALERTSWIN1)  - [id:2518547426863814510_75495c57-4fd6-4e27-b94c-c6f81f78bcb5]",
        "2019-01-15 13:15:13 - Suspicious system process executed - (nan)  - [id:2518547426862437699_184c075e-64ee-4901-bc37-6eb999e81a11]",
        "2019-01-15 13:15:14 - Suspicious process executed - (MSTICALERTSWIN1)  - [id:2518547426859453218_89d1850f-dccd-4d45-b194-650819d358d9]",
        "2019-01-15 13:15:14 - Executable found running from a suspicious location - (MSTICALERTSWIN1)  - [id:2518547426858055460_51b74398-40e2-4b1b-9d92-89c0004738c9]",
        "2019-01-15 13:15:15 - Suspicious process executed - (MSTICALERTSWIN1)  - [id:2518547426847947731_caa12d6c-4928-4787-90d4-cb27ff94373c]",
        "2019-01-15 13:15:16 - Suspicious SVCHOST process executed - (nan)  - [id:2518547426831794607_a513ab17-2b6a-4b1a-a925-a0b3c21ec38c]",
        "2019-01-15 13:15:16 - Rare SVCHOST service group executed - (nan)  - [id:2518547426830640211_88f9ae7a-e6b5-4b54-b967-08f3fc503d91]",
        "2019-01-15 13:15:16 - Suspicious Volume Shadow Copy Activity - (nan)  - [id:2518547426833434810_b6e594ea-16d3-480e-81a7-2f8fe3af64ba]",
        "2019-01-15 13:15:16 - Suspicious double extension file executed - (nan)  - [id:2518547426833838523_7b30c978-28d5-4a28-a4c2-0985f08ab1c6]",
        "2019-01-15 13:15:17 - Azure Security Center test alert (not a threat) - (MSTICALERTSWIN1)  - [id:2518547426829675756_846ec406-bb3e-451b-bf6f-9e1e17a69bd6]",
        "2019-01-15 13:15:18 - Ransomware indicators detected - (MSTICALERTSWIN1)  - [id:2518547426817428483_636ab38f-2528-4356-8602-d0910f8ac600]",
        "2019-01-15 13:15:18 - Detected Petya ransomware indicators - (MSTICALERTSWIN1)  - [id:2518547426817928329_a4aa878d-93b5-4cd1-931f-30f85b9e6db2]",
        "2019-01-15 17:15:03 - Suspicious Account Creation Detected - (MSTICALERTSWIN1)  - [id:2518547282966696689_3db7e1e7-2edc-4dd9-8c1d-d908f5b8a904]",
        "2019-01-15 17:15:10 - Potential attempt to bypass AppLocker detected - (MSTICALERTSWIN1)  - [id:2518547282896095305_82730ffa-b9ce-43f4-bf3c-a97113107cc5]",
        "2019-01-15 17:15:10 - Suspiciously named process detected - (MSTICALERTSWIN1)  - [id:2518547282892925953_0073e6d8-6c2e-42e4-8966-d1f5a3dd3517]",
        "2019-01-15 17:15:10 - Digital currency mining related behavior detected - (MSTICALERTSWIN1)  - [id:2518547282892925953_35c8d588-ddf7-46b5-a0bf-f47023f9343c]",
        "2019-01-15 17:15:11 - Suspicious Powershell Activity Detected - (MSTICALERTSWIN1)  - [id:2518547282880013417_d65aa787-e867-43b1-9182-025a1a38173a]",
        "2019-01-15 17:15:11 - Suspicious Powershell Activity Detected - (MSTICALERTSWIN1)  - [id:2518547282881581273_ed5bcf39-ffd3-468a-82e3-28e108d4f06f]",
        "2019-01-15 17:15:11 - Suspicious Powershell Activity Detected - (MSTICALERTSWIN1)  - [id:2518547282883193041_31ae6eeb-bd1d-4018-8df9-eeedd60bf1ab]",
        "2019-01-15 17:15:12 - Suspicious Powershell Activity Detected - (MSTICALERTSWIN1)  - [id:2518547282874783943_bd1a0865-a507-4e2b-b8df-613238a950df]",
        "2019-01-15 17:15:12 - Detected obfuscated command line. - (MSTICALERTSWIN1)  - [id:2518547282878855119_d89d1ab7-e5b7-426c-a98f-eab95deea3ad]",
        "2019-01-15 17:15:13 - Suspicious system process executed - (nan)  - [id:2518547282863799328_7e169933-4275-4b94-b37f-490417bcfc98]",
        "2019-01-15 17:15:13 - Suspicious WindowPosition registry value detected - (MSTICALERTSWIN1)  - [id:2518547282865194453_9895a5cc-6f49-45f5-a0eb-f05c1f11f264]",
        "2019-01-15 17:15:13 - Executable found running from a suspicious location - (MSTICALERTSWIN1)  - [id:2518547282863799328_84ea8dcd-9436-4b4d-82b2-36114028bd61]",
        "2019-01-15 17:15:14 - Suspicious process executed - (MSTICALERTSWIN1)  - [id:2518547282859754476_0c3ae402-a9ea-4d5c-9c09-4274b7847c2c]",
        "2019-01-15 17:15:14 - Detected anomalous mix of upper and lower case characters in command-line - (MSTICALERTSWIN1)  - [id:2518547282850984831_7f983018-fd59-4e9e-ba70-295f6beb0e9c]",
        "2019-01-15 17:15:14 - Executable found running from a suspicious location - (MSTICALERTSWIN1)  - [id:2518547282858353938_58851b10-8f5c-48f1-aade-b1529f4e2c7f]",
        "2019-01-15 17:15:15 - Suspicious process executed - (MSTICALERTSWIN1)  - [id:2518547282845656644_c7318da8-368f-47f8-bff5-e15600a3fb80]",
        "2019-01-15 17:15:17 - Suspicious double extension file executed - (nan)  - [id:2518547282825853773_e6c85135-2b91-4537-b9a0-dae7eabb8e9d]",
        "2019-01-15 17:15:17 - Suspicious Volume Shadow Copy Activity - (nan)  - [id:2518547282825448815_6a71b543-4832-4658-8467-825aeafbe031]",
        "2019-01-15 17:15:18 - Rare SVCHOST service group executed - (nan)  - [id:2518547282813841329_a7e8e8c1-4561-48ea-bf75-a22c7bfc2257]",
        "2019-01-15 17:15:18 - Azure Security Center test alert (not a threat) - (MSTICALERTSWIN1)  - [id:2518547282812706885_12ae1e22-347e-454c-ae0d-ebb48cdf189b]",
        "2019-01-15 17:15:18 - Suspicious SVCHOST process executed - (nan)  - [id:2518547282814913644_34cc156e-9179-44c4-bd60-89dd1812e9e7]",
        "2019-01-15 17:15:19 - Detected Petya ransomware indicators - (MSTICALERTSWIN1)  - [id:2518547282803821916_c76cdb6c-cea0-4b2b-9ab6-1442a5857ed8]",
        "2019-01-15 17:15:19 - Ransomware indicators detected - (MSTICALERTSWIN1)  - [id:2518547282802847718_4a524cc8-7613-4c42-93a9-8c1e466a4476]",
        "2019-01-15 21:18:10 - Suspicious Account Added - (nan)  - [id:cbdce694-666c-4844-a29c-e7f4b66e27d1]"
       ],
       "description": "Select alert :",
       "index": 18,
       "layout": "IPY_MODEL_e3784a60700b4b199005206fdd6f4e4d",
       "style": "IPY_MODEL_6d4323c322a84c208d25fcc5c97a5c4e"
      }
     },
     "53fd05d2bdb14280aa9b9b59ecf43eeb": {
      "model_module": "@jupyter-widgets/controls",
      "model_module_version": "1.5.0",
      "model_name": "VBoxModel",
      "state": {
       "children": [
        "IPY_MODEL_6540ecf149e647d38bfe1fea5f809b75",
        "IPY_MODEL_7e17da0df49d4bea9e559ec3c654e711"
       ],
       "layout": "IPY_MODEL_bb498a9ffb4140b09d3bf83ec1961bb1"
      }
     },
     "54e3a10827ae42b28f45bd085264c05c": {
      "model_module": "@jupyter-widgets/base",
      "model_module_version": "1.2.0",
      "model_name": "LayoutModel",
      "state": {}
     },
     "5693c4d504be4d1eab09043d4490a957": {
      "model_module": "@jupyter-widgets/controls",
      "model_module_version": "1.5.0",
      "model_name": "SelectModel",
      "state": {
       "_options_labels": [
        "host",
        "file",
        "process",
        "account",
        "host-logon-session"
       ],
       "description": "Select an item",
       "index": 4,
       "layout": "IPY_MODEL_c91ef62404ee44109259502e1b5c5120",
       "style": "IPY_MODEL_8c3c8e24421f47efb83b74a4f3665463"
      }
     },
     "571c4b575cb14c80b27eebb7ce4097e5": {
      "model_module": "@jupyter-widgets/base",
      "model_module_version": "1.2.0",
      "model_name": "LayoutModel",
      "state": {
       "width": "50%"
      }
     },
     "5766e92d81104279a0dc7f8f997a609d": {
      "model_module": "@jupyter-widgets/controls",
      "model_module_version": "1.5.0",
      "model_name": "ButtonStyleModel",
      "state": {}
     },
     "58d90bdd1fa947fa912c028bda5da06c": {
      "model_module": "@jupyter-widgets/controls",
      "model_module_version": "1.5.0",
      "model_name": "TextModel",
      "state": {
       "description": "Query end time (UTC) :  ",
       "layout": "IPY_MODEL_5a6fa76fcd3e4507af3d94430b34192e",
       "style": "IPY_MODEL_8c3773614d954732b88e5aead83a493c",
       "value": "2020-05-28 20:13:56.295512"
      }
     },
     "58e386d9ee4649d78185c78e91fe1d6f": {
      "model_module": "@jupyter-widgets/base",
      "model_module_version": "1.2.0",
      "model_name": "LayoutModel",
      "state": {}
     },
     "59f527357c044e57a57ad6d2ed4466dc": {
      "model_module": "@jupyter-widgets/base",
      "model_module_version": "1.2.0",
      "model_name": "LayoutModel",
      "state": {}
     },
     "5a6fa76fcd3e4507af3d94430b34192e": {
      "model_module": "@jupyter-widgets/base",
      "model_module_version": "1.2.0",
      "model_name": "LayoutModel",
      "state": {
       "width": "50%"
      }
     },
     "5b601873cb804740a32f53fe52c99a3d": {
      "model_module": "@jupyter-widgets/controls",
      "model_module_version": "1.5.0",
      "model_name": "DescriptionStyleModel",
      "state": {
       "description_width": "initial"
      }
     },
     "5b97e1f6fbbd4eca941c2ce4785568dc": {
      "model_module": "@jupyter-widgets/controls",
      "model_module_version": "1.5.0",
      "model_name": "TextModel",
      "state": {
       "description": "Filter alerts by title:",
       "layout": "IPY_MODEL_631ce30918064bf1b5e6dc468bc3b8d8",
       "style": "IPY_MODEL_d178bfa0d0704013ba5f681bccb0026d"
      }
     },
     "5c8f5f0602464fee81f9eac3f255fad6": {
      "model_module": "@jupyter-widgets/controls",
      "model_module_version": "1.5.0",
      "model_name": "VBoxModel",
      "state": {
       "children": [
        "IPY_MODEL_35799364a1604315b2d3b010a9aae16b",
        "IPY_MODEL_128cc24843434f73aff59dfb08c8064a"
       ],
       "layout": "IPY_MODEL_82cdcd5d3f4b4bb381d49a0203d4b8b2"
      }
     },
     "5d866745c0e343d989deff315d79e5bf": {
      "model_module": "@jupyter-widgets/controls",
      "model_module_version": "1.5.0",
      "model_name": "DescriptionStyleModel",
      "state": {
       "description_width": "initial"
      }
     },
     "5dd7337e49a34770b931ebce764aa5e5": {
      "model_module": "@jupyter-widgets/controls",
      "model_module_version": "1.5.0",
      "model_name": "DescriptionStyleModel",
      "state": {
       "description_width": "initial"
      }
     },
     "5e236b5e9e5e417094e0954d10d40449": {
      "model_module": "@jupyter-widgets/base",
      "model_module_version": "1.2.0",
      "model_name": "LayoutModel",
      "state": {}
     },
     "5e3c7989837d4014941f8d76dbe7b995": {
      "model_module": "@jupyter-widgets/controls",
      "model_module_version": "1.5.0",
      "model_name": "SelectModel",
      "state": {
       "_options_labels": [
        "ip",
        "host",
        "account"
       ],
       "description": "Select an item",
       "index": 0,
       "layout": "IPY_MODEL_8606c83133d049bb9bf5cdff5a278b79",
       "style": "IPY_MODEL_e2d3377e84b84a17b8885f0b23b0f8b9"
      }
     },
     "5ec44c39329f4f6cbc0abae4cdbb504c": {
      "model_module": "@jupyter-widgets/controls",
      "model_module_version": "1.5.0",
      "model_name": "DescriptionStyleModel",
      "state": {
       "description_width": ""
      }
     },
     "600909862fa64fca90e35132c976b51b": {
      "model_module": "@jupyter-widgets/controls",
      "model_module_version": "1.5.0",
      "model_name": "DescriptionStyleModel",
      "state": {
       "description_width": "initial"
      }
     },
     "608a2314ef9c46d8a7d679382e4cf8ae": {
      "model_module": "@jupyter-widgets/controls",
      "model_module_version": "1.5.0",
      "model_name": "ProgressStyleModel",
      "state": {
       "description_width": ""
      }
     },
     "6142f51ad5e94ee9a813dba474b41012": {
      "model_module": "@jupyter-widgets/controls",
      "model_module_version": "1.5.0",
      "model_name": "DescriptionStyleModel",
      "state": {
       "description_width": "initial"
      }
     },
     "6247f03c1a2f4740a210e5ab108daf38": {
      "model_module": "@jupyter-widgets/controls",
      "model_module_version": "1.5.0",
      "model_name": "TextModel",
      "state": {
       "description": "Filter alerts by title:",
       "layout": "IPY_MODEL_22bfb1985b58412fae8cd49444efecd5",
       "style": "IPY_MODEL_f446cc83d1b04c56ab5e05fb18117611"
      }
     },
     "6293dddeb0d94278ad416cea6da60ddf": {
      "model_module": "@jupyter-widgets/controls",
      "model_module_version": "1.5.0",
      "model_name": "VBoxModel",
      "state": {
       "children": [
        "IPY_MODEL_e37ef889bb5947da96ff6380c03124b5",
        "IPY_MODEL_2a602e8a1ae94e72ad943971bf681832"
       ],
       "layout": "IPY_MODEL_dc723d6485384c4e83b99725fb89c1be"
      }
     },
     "6309e8711dfd48f9b11d4607c12cca66": {
      "model_module": "@jupyter-widgets/base",
      "model_module_version": "1.2.0",
      "model_name": "LayoutModel",
      "state": {
       "width": "50%"
      }
     },
     "631ce30918064bf1b5e6dc468bc3b8d8": {
      "model_module": "@jupyter-widgets/base",
      "model_module_version": "1.2.0",
      "model_name": "LayoutModel",
      "state": {}
     },
     "63dc1a99f3e34599845691ed53d9db29": {
      "model_module": "@jupyter-widgets/controls",
      "model_module_version": "1.5.0",
      "model_name": "VBoxModel",
      "state": {
       "children": [
        "IPY_MODEL_33fad2f1e46b4415b6796da10a98606b",
        "IPY_MODEL_2ac7fe2d45cd4853bc65ea68f26b3259",
        "IPY_MODEL_ff8b9833a5a340ff9a442212f568d76b"
       ],
       "layout": "IPY_MODEL_379b620b90df4889a245d094c940831f"
      }
     },
     "63e17606f1a0498284c4658fb7aa1ba9": {
      "model_module": "@jupyter-widgets/base",
      "model_module_version": "1.2.0",
      "model_name": "LayoutModel",
      "state": {}
     },
     "6405e8b155d34bfc81f26adf2fe647c8": {
      "model_module": "@jupyter-widgets/base",
      "model_module_version": "1.2.0",
      "model_name": "LayoutModel",
      "state": {}
     },
     "642a70eb0206464786f3f1b93a593615": {
      "model_module": "@jupyter-widgets/base",
      "model_module_version": "1.2.0",
      "model_name": "LayoutModel",
      "state": {}
     },
     "647d55d17e064983891872c82d5c4361": {
      "model_module": "@jupyter-widgets/controls",
      "model_module_version": "1.5.0",
      "model_name": "TextModel",
      "state": {
       "description": "Enter the value: ",
       "layout": "IPY_MODEL_6309e8711dfd48f9b11d4607c12cca66",
       "style": "IPY_MODEL_276831529d8641168593efa2458324d8",
       "value": "C:\\Users\\Ian"
      }
     },
     "64f4c7db6b71427595fdac82e407ab41": {
      "model_module": "@jupyter-widgets/controls",
      "model_module_version": "1.5.0",
      "model_name": "TextModel",
      "state": {
       "description": "Filter alerts by title:",
       "layout": "IPY_MODEL_63e17606f1a0498284c4658fb7aa1ba9",
       "style": "IPY_MODEL_8fab56603f74436aa4078298cd61ed8e"
      }
     },
     "6540ecf149e647d38bfe1fea5f809b75": {
      "model_module": "@jupyter-widgets/controls",
      "model_module_version": "1.5.0",
      "model_name": "TextModel",
      "state": {
       "description": "Filter alerts by title:",
       "layout": "IPY_MODEL_33c9a10604044bd48a99f078ec5807fb",
       "style": "IPY_MODEL_44fb4b24f44940d18806f0938012332a"
      }
     },
     "657033fa03704fc88f2e1ed13bae0c22": {
      "model_module": "@jupyter-widgets/controls",
      "model_module_version": "1.5.0",
      "model_name": "HBoxModel",
      "state": {
       "children": [
        "IPY_MODEL_ce44afe37aaa42e49d03861a08c481b9",
        "IPY_MODEL_0f7969f1221b4b519decd5276c4df09d"
       ],
       "layout": "IPY_MODEL_ae565229d307492cbd39770ea920d84d"
      }
     },
     "658f32130f114189a2fde8a99a5a51a1": {
      "model_module": "@jupyter-widgets/base",
      "model_module_version": "1.2.0",
      "model_name": "LayoutModel",
      "state": {}
     },
     "6743b62941a54b4a861970e90b068640": {
      "model_module": "@jupyter-widgets/controls",
      "model_module_version": "1.5.0",
      "model_name": "TextModel",
      "state": {
       "description": "Query start time (UTC):",
       "layout": "IPY_MODEL_fb0a61dd16134cbbb261cfb679b2c07c",
       "style": "IPY_MODEL_ed257781a28e49d393982373661ce196",
       "value": "2020-05-28 15:13:56.295512"
      }
     },
     "67832c55e42d46aca571eee22e1176f0": {
      "model_module": "@jupyter-widgets/base",
      "model_module_version": "1.2.0",
      "model_name": "LayoutModel",
      "state": {}
     },
     "679e43c8122f4dd8ada38d59798107ed": {
      "model_module": "@jupyter-widgets/controls",
      "model_module_version": "1.5.0",
      "model_name": "DescriptionStyleModel",
      "state": {
       "description_width": "initial"
      }
     },
     "681605cd70a74eb6b1d2564188e02712": {
      "model_module": "@jupyter-widgets/controls",
      "model_module_version": "1.5.0",
      "model_name": "SelectMultipleModel",
      "state": {
       "_options_labels": [
        "An event log was cleared",
        "Anomalous account creation detected",
        "Azure Security Center test alert (not a threat)",
        "DC local group addition - Demo",
        "DC with MS AM engine failure - Demo",
        "Deep Security Agent detected a malware",
        "Detected Petya ransomware indicators",
        "Detected actions indicative of disabling and deleting IIS log files.",
        "Detected anomalous mix of upper and lower case characters in command-line",
        "Detected change to a registry key that can be abused to bypass UAC",
        "Detected decoding of an executable using built-in certutil.exe tool",
        "Detected encoded executable in command line data",
        "Detected obfuscated command line.",
        "Detected possible execution of keygen executable",
        "Detected possible execution of malware dropper",
        "Detected possible local reconnaissance activity",
        "Detected potentially suspicious use of Telegram tool",
        "Detected suspicious Set-ExecutionPolicy and WinRM changes",
        "Detected suspicious commandline arguments",
        "Detected suspicious commandline used to start all executables in a directory",
        "Detected suspicious credentials in commandline",
        "Detected suspicious document credentials",
        "Detected suspicious execution of VBScript.Encode command",
        "Detected suspicious execution via rundll32.exe",
        "Detected suspicious file cleanup commands",
        "Detected suspicious file creation",
        "Detected suspicious named pipe communications",
        "Detected suspicious new firewall rule",
        "Detected suspicious use of Cacls to lower the security state of the system.",
        "Detected suspicious use of FTP -s Switch",
        "Detected suspicious use of Pcalua.exe to launch executable code",
        "Detected the disabling of critical services",
        "Digital currency mining related behavior detected",
        "Executable found running from a suspicious location",
        "Failed RDP Brute Force Attack",
        "Global domain trust creation - Demo",
        "High risk software detected",
        "Maliciuos IP communication",
        "Modified system binary discovered in dump file 5bd767e4-2d08-4714-b744-aaed04b57107__391365252.hdmp",
        "Multiple Domain Accounts Queried",
        "Network communication with a malicious machine detected",
        "Palo Alto admin logged on via SSH - Demo",
        "Possible compromised machine detected",
        "Possible credential dumping detected",
        "Possible outgoing spam activity detected",
        "Potential SQL Injection",
        "Potential attempt to bypass AppLocker detected",
        "Random process name detected",
        "Ransomware indicators detected",
        "Rare SVCHOST service group executed",
        "SQL injection blocked",
        "Sticky keys attack detected",
        "Successful RDP brute force attack",
        "Suspected Kerberos Golden Ticket attack parameters observed",
        "Suspicious Account Added",
        "Suspicious Account Creation Detected",
        "Suspicious Powershell Activity Detected",
        "Suspicious SVCHOST process executed",
        "Suspicious Volume Shadow Copy Activity",
        "Suspicious WindowPosition registry value detected",
        "Suspicious double extension file executed",
        "Suspicious download using Certutil detected",
        "Suspicious powershell cmdlets executed",
        "Suspicious process executed",
        "Suspicious system process executed",
        "Suspiciously named process detected"
       ],
       "description": "Source: ",
       "index": [],
       "layout": "IPY_MODEL_e02a25d2ce354019a78eafa243a93bc4",
       "rows": 5,
       "style": "IPY_MODEL_d111d1db00094bfcb6d61c1cf49c221c"
      }
     },
     "694135d92e9b46f7a3884400410d7864": {
      "model_module": "@jupyter-widgets/controls",
      "model_module_version": "1.5.0",
      "model_name": "DatePickerModel",
      "state": {
       "description": "Origin Date",
       "disabled": false,
       "layout": "IPY_MODEL_918d4afdea9145bab16df2f2d3f3a081",
       "style": "IPY_MODEL_b626cd1068ae442cb1d30926133eeee8",
       "value": {
        "date": 12,
        "month": 5,
        "year": 2020
       }
      }
     },
     "6b2c064cc752433bb7b44a66dbb24fa6": {
      "model_module": "@jupyter-widgets/controls",
      "model_module_version": "1.5.0",
      "model_name": "SliderStyleModel",
      "state": {
       "description_width": "initial"
      }
     },
     "6b51935e14cf46dd9afe607cacf1ae5c": {
      "model_module": "@jupyter-widgets/base",
      "model_module_version": "1.2.0",
      "model_name": "LayoutModel",
      "state": {}
     },
     "6bd6dda5e2d14a1ca986e723e624fe20": {
      "model_module": "@jupyter-widgets/controls",
      "model_module_version": "1.5.0",
      "model_name": "HTMLModel",
      "state": {
       "layout": "IPY_MODEL_8d711173bd2e453591719f7236a9ee33",
       "style": "IPY_MODEL_4519b3f42e284bb1befc0f966ac8818a",
       "value": "<h4>Set query time boundaries</h4>"
      }
     },
     "6c0a4165483a4078a619a692a09a2b12": {
      "model_module": "@jupyter-widgets/base",
      "model_module_version": "1.2.0",
      "model_name": "LayoutModel",
      "state": {}
     },
     "6d4323c322a84c208d25fcc5c97a5c4e": {
      "model_module": "@jupyter-widgets/controls",
      "model_module_version": "1.5.0",
      "model_name": "DescriptionStyleModel",
      "state": {
       "description_width": "initial"
      }
     },
     "6e41921f78844e2ab9dac27d3f896996": {
      "model_module": "@jupyter-widgets/controls",
      "model_module_version": "1.5.0",
      "model_name": "HBoxModel",
      "state": {
       "children": [
        "IPY_MODEL_647d55d17e064983891872c82d5c4361",
        "IPY_MODEL_ef382217a776457e860db94972a8e356",
        "IPY_MODEL_20d76c0464ee43af8af63e643722c7c4"
       ],
       "layout": "IPY_MODEL_658f32130f114189a2fde8a99a5a51a1"
      }
     },
     "6e6bd1984c0e44749e7ff792e662d07e": {
      "model_module": "@jupyter-widgets/controls",
      "model_module_version": "1.5.0",
      "model_name": "HBoxModel",
      "state": {
       "children": [
        "IPY_MODEL_727de854dc0a4d23a542cfcf671d6bf5",
        "IPY_MODEL_945e0d5ebc314506aac7f9ec6dfde454"
       ],
       "layout": "IPY_MODEL_67832c55e42d46aca571eee22e1176f0"
      }
     },
     "6f7a02cba7ad49a18c6f4c77feb54b05": {
      "model_module": "@jupyter-widgets/controls",
      "model_module_version": "1.5.0",
      "model_name": "IntRangeSliderModel",
      "state": {
       "_model_name": "IntRangeSliderModel",
       "_view_name": "IntRangeSliderView",
       "description": "Time Range (hour):",
       "layout": "IPY_MODEL_d2e76318c7f848f79b051d741c60006f",
       "max": 1,
       "min": -20,
       "style": "IPY_MODEL_e37a65fc707842cd84e2c9b449e8db84",
       "value": [
        -1,
        1
       ]
      }
     },
     "6fd4d979a255471e948da5053814c2fa": {
      "model_module": "@jupyter-widgets/base",
      "model_module_version": "1.2.0",
      "model_name": "LayoutModel",
      "state": {
       "width": "50%"
      }
     },
     "70c08cde47964e69baab0359a51caba4": {
      "model_module": "@jupyter-widgets/controls",
      "model_module_version": "1.5.0",
      "model_name": "VBoxModel",
      "state": {
       "children": [
        "IPY_MODEL_a451bccbca074f6697ecd56cdc3d25b0",
        "IPY_MODEL_331b08527acf45989785c73937244035"
       ],
       "layout": "IPY_MODEL_bf609e8769604507bb418ebbf54936ab"
      }
     },
     "70dc28945fb14bb68c6a32ae8981ce77": {
      "model_module": "@jupyter-widgets/base",
      "model_module_version": "1.2.0",
      "model_name": "LayoutModel",
      "state": {}
     },
     "727de854dc0a4d23a542cfcf671d6bf5": {
      "model_module": "@jupyter-widgets/controls",
      "model_module_version": "1.5.0",
      "model_name": "DatePickerModel",
      "state": {
       "description": "Origin Date",
       "disabled": false,
       "layout": "IPY_MODEL_58e386d9ee4649d78185c78e91fe1d6f",
       "style": "IPY_MODEL_d0a17d7c96334934b587dcd1a7a4bd8a",
       "value": {
        "date": 12,
        "month": 5,
        "year": 2020
       }
      }
     },
     "73a81457875b458f95c7700873fbecc4": {
      "model_module": "@jupyter-widgets/controls",
      "model_module_version": "1.5.0",
      "model_name": "HBoxModel",
      "state": {
       "children": [
        "IPY_MODEL_694135d92e9b46f7a3884400410d7864",
        "IPY_MODEL_ba1777746b624d2c80f26e0dba131fae"
       ],
       "layout": "IPY_MODEL_ad312e7f43a942ec91a4aa784d5c2533"
      }
     },
     "740f03ef81e74540afaf143400116b2c": {
      "model_module": "@jupyter-widgets/base",
      "model_module_version": "1.2.0",
      "model_name": "LayoutModel",
      "state": {
       "width": "80%"
      }
     },
     "743dc7d0d05c438b912d4fa3cc3b14be": {
      "model_module": "@jupyter-widgets/controls",
      "model_module_version": "1.5.0",
      "model_name": "VBoxModel",
      "state": {
       "children": [
        "IPY_MODEL_bb69a9ad71ca49e9947a791c346bef00",
        "IPY_MODEL_f7c7d662c1f641b392255cc2b9c7dacb",
        "IPY_MODEL_58d90bdd1fa947fa912c028bda5da06c"
       ],
       "layout": "IPY_MODEL_0df50a930b774a8095f33a3bcb0278f7"
      }
     },
     "745c66eaa32644fa949a4d4729bfb6b0": {
      "model_module": "@jupyter-widgets/controls",
      "model_module_version": "1.5.0",
      "model_name": "DescriptionStyleModel",
      "state": {
       "description_width": "initial"
      }
     },
     "749c0969b04d407ebfe1b509764aa54f": {
      "model_module": "@jupyter-widgets/base",
      "model_module_version": "1.2.0",
      "model_name": "LayoutModel",
      "state": {}
     },
     "75b1cb9211c0434697dc118f510c157b": {
      "model_module": "@jupyter-widgets/controls",
      "model_module_version": "1.5.0",
      "model_name": "VBoxModel",
      "state": {
       "children": [
        "IPY_MODEL_a1fc0fa737574daca35f73c3cb1552a7",
        "IPY_MODEL_03619e74e8f54ebb9b70c026dd36a4aa"
       ],
       "layout": "IPY_MODEL_94d734686e2b485db55084ad5fda9b12"
      }
     },
     "75c882936a4f472cb596d0051001deb3": {
      "model_module": "@jupyter-widgets/controls",
      "model_module_version": "1.5.0",
      "model_name": "VBoxModel",
      "state": {
       "children": [
        "IPY_MODEL_c179f898fb3c42679c4c8aa4cbd0fb0b",
        "IPY_MODEL_2e039ad64c6544fe9f8c9c73eeae1f5e"
       ],
       "layout": "IPY_MODEL_912858dc06ca41d2aa94e5c1b7d4ced7"
      }
     },
     "779f866a83ee4ba0af0a5fc43792aca2": {
      "model_module": "@jupyter-widgets/controls",
      "model_module_version": "1.5.0",
      "model_name": "VBoxModel",
      "state": {
       "children": [
        "IPY_MODEL_a0cee0cd8b6d4b1086406cbe456fef32",
        "IPY_MODEL_8e9ea15496654742b2ff97b8b4fc6374"
       ],
       "layout": "IPY_MODEL_d74210449b0f4deca8d880219dd2a40c"
      }
     },
     "792c79ca75f247fe8f4365841eae4037": {
      "model_module": "@jupyter-widgets/base",
      "model_module_version": "1.2.0",
      "model_name": "LayoutModel",
      "state": {}
     },
     "79bd0087cbf74916945870e284ef86a3": {
      "model_module": "@jupyter-widgets/controls",
      "model_module_version": "1.5.0",
      "model_name": "VBoxModel",
      "state": {
       "children": [
        "IPY_MODEL_81137def53b5452d8317668c2d9432f3",
        "IPY_MODEL_ab726bcc1b6e476ebdd1ca358e3ba25c"
       ],
       "layout": "IPY_MODEL_cf8f87ab568a4fb6ae1d22890df2f6a3"
      }
     },
     "7a0948f525484e3e996e64406797a583": {
      "model_module": "@jupyter-widgets/base",
      "model_module_version": "1.2.0",
      "model_name": "LayoutModel",
      "state": {}
     },
     "7a4439237fd34a7f8d3f773319c0508a": {
      "model_module": "@jupyter-widgets/controls",
      "model_module_version": "1.5.0",
      "model_name": "SliderStyleModel",
      "state": {
       "description_width": "initial"
      }
     },
     "7c2196f7a842435fb7fc762410017920": {
      "model_module": "@jupyter-widgets/controls",
      "model_module_version": "1.5.0",
      "model_name": "ButtonModel",
      "state": {
       "description": "Add All ⇾",
       "layout": "IPY_MODEL_eb7a0f20203a44dc9d9a21b04cd90137",
       "style": "IPY_MODEL_275e46ad1e3045f0aca00fa74bfba937"
      }
     },
     "7e17da0df49d4bea9e559ec3c654e711": {
      "model_module": "@jupyter-widgets/controls",
      "model_module_version": "1.5.0",
      "model_name": "SelectModel",
      "state": {
       "_options_labels": [
        "2018-12-30 00:02:00 - Network communication with a malicious machine detected - (nan)  - [id:a511e1bb-69e1-41a2-8054-c6fcb6aa2362]",
        "2019-01-01 00:02:00 - Possible compromised machine detected - (nan)  - [id:62ded865-938b-4bb3-afef-605d692607f1]",
        "2019-01-01 00:02:00 - An event log was cleared - (nan)  - [id:48facfa1-fe35-45ff-8c91-7a710cd462b9]",
        "2019-01-03 00:02:00 - Suspicious process executed - (nan)  - [id:a32adc3f-43f7-4e5d-b833-98baa71c2f51]",
        "2019-01-03 00:02:00 - Suspicious double extension file executed - (nan)  - [id:112dc225-bc2d-4328-97fd-a99e0b000b1f]",
        "2019-01-05 01:02:00 - SQL injection blocked - (nan)  - [id:0c68e539-f060-401f-b967-6b64b8f49198]",
        "2019-01-05 02:02:00 - Failed RDP Brute Force Attack - (nan)  - [id:8832e816-d634-4214-bb48-7a6678fdf0b7]",
        "2019-01-06 02:02:00 - Successful RDP brute force attack - (nan)  - [id:3b2b5ecc-ec29-4703-9450-29b29b937fd8]",
        "2019-01-06 03:02:00 - Suspicious SVCHOST process executed - (nan)  - [id:614ae18e-cd79-4d4c-97dc-24431be12b5b]",
        "2019-01-06 04:02:00 - Multiple Domain Accounts Queried - (vm1)  - [id:7b27ffab-7204-4856-a013-908de6c1804e]",
        "2019-01-06 05:02:00 - Network communication with a malicious machine detected - (nan)  - [id:98a6dea6-1b64-41d0-938e-0dec24b234ec]",
        "2019-01-07 05:02:00 - Modified system binary discovered in dump file 5bd767e4-2d08-4714-b744-aaed04b57107__391365252.hdmp - (nan)  - [id:775505ce-0ef9-4945-b697-303f7666d1b6]",
        "2019-01-08 05:02:00 - Possible outgoing spam activity detected - (vm1lin)  - [id:28f9b83a-33e6-44da-a002-0f48bff46a67]",
        "2019-01-09 05:02:00 - Deep Security Agent detected a malware - (nan)  - [id:5fc4f6a0-0687-4b93-998e-a230af39c10b]",
        "2019-01-09 05:38:06 - Global domain trust creation - Demo - (nan)  - [id:9740fe80-b642-4a38-8e86-05fa4d35508b]",
        "2019-01-09 06:25:57 - Maliciuos IP communication - (nan)  - [id:04e14d6f-6d4f-46d4-a5f6-2a26bcd34ce8]",
        "2019-01-09 06:31:40 - DC local group addition - Demo - (nan)  - [id:ace7fb98-ef96-46df-ba7b-9a15a141d368]",
        "2019-01-09 06:31:42 - Palo Alto admin logged on via SSH - Demo - (nan)  - [id:40a5916b-9697-423a-a5e4-95cca7c735e7]",
        "2019-01-09 06:33:55 - DC with MS AM engine failure - Demo - (nan)  - [id:78cc7e02-6116-459d-9cdc-a6dcc40ba937]",
        "2019-01-10 05:02:00 - Potential SQL Injection - (nan)  - [id:5365ee7a-f730-42d2-bcdf-b2e898ab98d7]",
        "2019-01-10 05:38:06 - Global domain trust creation - Demo - (nan)  - [id:401f2680-cc05-4e6f-a1f6-69cff2055cd9]",
        "2019-01-10 06:25:57 - Maliciuos IP communication - (nan)  - [id:b5786d68-7f5e-4be1-92e6-e255010d1d8c]",
        "2019-01-10 06:31:40 - DC local group addition - Demo - (nan)  - [id:01659bf1-1228-4e46-b73b-e7d173d365eb]",
        "2019-01-10 06:31:42 - Palo Alto admin logged on via SSH - Demo - (nan)  - [id:0ce6ad61-302a-4142-8eaa-4da9dfad9ca9]",
        "2019-01-10 06:33:55 - DC with MS AM engine failure - Demo - (nan)  - [id:df9f92cb-6fd2-469b-9b72-28f128df1adf]",
        "2019-01-10 19:18:10 - Suspicious Account Added - (nan)  - [id:b3f02c05-e844-4161-81d6-d736548d91ae]",
        "2019-01-11 05:38:06 - Global domain trust creation - Demo - (nan)  - [id:6b56aa8c-da76-4caf-b09d-8706292a8b89]",
        "2019-01-11 06:25:57 - Maliciuos IP communication - (nan)  - [id:4586bd9e-5c1e-4229-9a01-ecd84ad51448]",
        "2019-01-11 06:31:40 - DC local group addition - Demo - (nan)  - [id:047f47d6-79b7-4502-824b-97abc4905a73]",
        "2019-01-11 06:31:42 - Palo Alto admin logged on via SSH - Demo - (nan)  - [id:2d06cb42-bdff-426d-8091-ccc151bcbc94]",
        "2019-01-11 06:33:55 - DC with MS AM engine failure - Demo - (nan)  - [id:412ca580-63c8-4fd2-87e4-87b1ba4260b3]",
        "2019-01-11 19:18:10 - Suspicious Account Added - (nan)  - [id:42a8b425-1c41-4355-8343-18ad563c43b6]",
        "2019-01-12 05:38:06 - Global domain trust creation - Demo - (nan)  - [id:bc44b302-78c7-4be8-bf70-d39d6935fd74]",
        "2019-01-12 06:25:57 - Maliciuos IP communication - (nan)  - [id:c76f17e2-e739-4e7e-bf17-4dd163fc831f]",
        "2019-01-12 06:31:40 - DC local group addition - Demo - (nan)  - [id:07be11df-3dbf-49a5-8b5a-dcea75d89993]",
        "2019-01-12 06:31:42 - Palo Alto admin logged on via SSH - Demo - (nan)  - [id:09ec519f-96b0-4332-be30-b0379c8cbd04]",
        "2019-01-12 06:33:55 - DC with MS AM engine failure - Demo - (nan)  - [id:6a7aaa2e-a575-4e8b-87ed-0d964bf1005e]",
        "2019-01-12 19:18:10 - Suspicious Account Added - (nan)  - [id:d4638075-fed2-4031-8e52-d37c220b0fe4]",
        "2019-01-13 05:38:06 - Global domain trust creation - Demo - (nan)  - [id:5d733fc8-ff32-436d-a595-beaf8943bd63]",
        "2019-01-13 06:25:57 - Maliciuos IP communication - (nan)  - [id:54a8f6d8-f69b-4872-96f8-ef274d5fc8d4]",
        "2019-01-13 06:31:40 - DC local group addition - Demo - (nan)  - [id:47445dca-b87d-45f5-9073-b713e3c69a56]",
        "2019-01-13 06:31:42 - Palo Alto admin logged on via SSH - Demo - (nan)  - [id:45176796-d3f9-40ce-a8f2-aba9bb3c8063]",
        "2019-01-13 06:33:55 - DC with MS AM engine failure - Demo - (nan)  - [id:985be534-6f40-4b0c-a951-8f3915eacd61]",
        "2019-01-13 19:18:10 - Suspicious Account Added - (nan)  - [id:790217fc-9597-4159-b469-bb383c747435]",
        "2019-01-14 05:38:06 - Global domain trust creation - Demo - (nan)  - [id:fbaf48de-152a-4aa6-8a69-902b219bf972]",
        "2019-01-14 06:25:57 - Maliciuos IP communication - (nan)  - [id:1828afac-b4c2-41d9-acbd-7d23b7219557]",
        "2019-01-14 06:31:40 - DC local group addition - Demo - (nan)  - [id:b34d24c9-2223-4887-af93-7598abf28763]",
        "2019-01-14 06:31:42 - Palo Alto admin logged on via SSH - Demo - (nan)  - [id:9442245d-eaf6-47c5-b715-1c16b2c54fc4]",
        "2019-01-14 06:33:55 - DC with MS AM engine failure - Demo - (nan)  - [id:edc4065d-886f-4aff-b17d-f1397ce4baec]",
        "2019-01-14 21:18:10 - Suspicious Account Added - (nan)  - [id:1cca38a9-e0c5-4165-a78d-491ca2641c1c]",
        "2019-01-15 05:15:03 - Suspicious Account Creation Detected - (MSTICALERTSWIN1)  - [id:2518547714966107270_3c380601-b5ad-4fff-9cdb-24528a3a19fd]",
        "2019-01-15 05:15:03 - Anomalous account creation detected - (nan)  - [id:2518547714966107270_90beedae-1285-43d6-8f33-16bc542af39b]",
        "2019-01-15 05:15:10 - Potential attempt to bypass AppLocker detected - (MSTICALERTSWIN1)  - [id:2518547714892475358_9e449abd-e67b-4ec8-a191-e688d7d63e26]",
        "2019-01-15 05:15:11 - Detected decoding of an executable using built-in certutil.exe tool - (MSTICALERTSWIN1)  - [id:2518547714882331861_5c56421d-d894-4437-9b9a-a3b5c6b7e1df]",
        "2019-01-15 05:15:11 - Detected suspicious credentials in commandline - (MSTICALERTSWIN1)  - [id:2518547714880519889_9d6d471a-c94f-4706-b0ff-b2f0301495aa]",
        "2019-01-15 05:15:11 - Digital currency mining related behavior detected - (MSTICALERTSWIN1)  - [id:2518547714887413669_4fa0022e-f431-4ba1-ae5f-ee23247e0853]",
        "2019-01-15 05:15:11 - Suspiciously named process detected - (MSTICALERTSWIN1)  - [id:2518547714887413669_1c680842-2a1d-40c0-a6e4-32e5dd144647]",
        "2019-01-15 05:15:11 - Detected encoded executable in command line data - (MSTICALERTSWIN1)  - [id:2518547714885867955_290559aa-a3d0-425b-8ed2-e98ccc9f0aa0]",
        "2019-01-15 05:15:12 - Detected suspicious commandline arguments - (MSTICALERTSWIN1)  - [id:2518547714879317674_226cc394-fccf-483d-888a-beafad2ed4a4]",
        "2019-01-15 05:15:12 - Detected suspicious document credentials - (MSTICALERTSWIN1)  - [id:2518547714879970078_b080127b-d5c1-425e-a7ca-e4bbd873009d]",
        "2019-01-15 05:15:12 - Detected obfuscated command line. - (MSTICALERTSWIN1)  - [id:2518547714871530079_77211491-86de-4295-82bc-38e332fe1112]",
        "2019-01-15 05:15:12 - Suspicious powershell cmdlets executed - (MSTICALERTSWIN1)  - [id:2518547714874872692_3eb0eb4b-0536-430c-8ab6-cd48524c14b1]",
        "2019-01-15 05:15:12 - Suspicious Powershell Activity Detected - (MSTICALERTSWIN1)  - [id:2518547714874872692_30d988ff-b8d9-45df-8217-e56b0d4d591c]",
        "2019-01-15 05:15:12 - Suspicious Powershell Activity Detected - (MSTICALERTSWIN1)  - [id:2518547714873290756_df1b9eb2-05c4-4f7c-8540-cbb18ec5c608]",
        "2019-01-15 05:15:12 - Suspicious Powershell Activity Detected - (MSTICALERTSWIN1)  - [id:2518547714876077067_953def48-a24b-42a9-bd02-7221be90f84a]",
        "2019-01-15 05:15:13 - Suspicious Powershell Activity Detected - (MSTICALERTSWIN1)  - [id:2518547714867787710_76336679-bddf-460f-90fb-35a1386de7a6]",
        "2019-01-15 05:15:14 - Executable found running from a suspicious location - (MSTICALERTSWIN1)  - [id:2518547714857061520_f4324711-aeae-4912-a634-331b7e7456b6]",
        "2019-01-15 05:15:14 - Suspicious system process executed - (nan)  - [id:2518547714857061520_28f9a2e6-1925-455e-ad97-7af7f92f521d]",
        "2019-01-15 05:15:14 - Suspicious WindowPosition registry value detected - (MSTICALERTSWIN1)  - [id:2518547714858429362_9bfd0e4b-ec93-46bb-8eea-f72e8f1262f1]",
        "2019-01-15 05:15:14 - Suspicious process executed - (MSTICALERTSWIN1)  - [id:2518547714854375707_e2a60bd1-d7c8-466d-a176-4333d4e0d1d5]",
        "2019-01-15 05:15:14 - Detected suspicious named pipe communications - (MSTICALERTSWIN1)  - [id:2518547714859677078_9b4e4942-d564-4755-862c-7171d52921e3]",
        "2019-01-15 05:15:14 - Executable found running from a suspicious location - (MSTICALERTSWIN1)  - [id:2518547714853062206_f9ddd8b3-5fa8-4f2f-b811-bdca90091195]",
        "2019-01-15 05:15:15 - Detected change to a registry key that can be abused to bypass UAC - (MSTICALERTSWIN1)  - [id:2518547714844291280_8f71e695-ba9b-4c97-9770-63cdeb34b7b4]",
        "2019-01-15 05:15:15 - Detected anomalous mix of upper and lower case characters in command-line - (MSTICALERTSWIN1)  - [id:2518547714844457503_55cd3e12-3a91-4b06-9be6-833df3365142]",
        "2019-01-15 05:15:15 - Detected suspicious use of FTP -s Switch - (MSTICALERTSWIN1)  - [id:2518547714843218505_265472ff-3820-4dad-8da7-00e39e1a99fd]",
        "2019-01-15 05:15:15 - Sticky keys attack detected - (MSTICALERTSWIN1)  - [id:2518547714843796759_b3737297-038c-4514-a957-d591384b4256]",
        "2019-01-15 05:15:15 - Suspicious process executed - (MSTICALERTSWIN1)  - [id:2518547714842732992_ad5981a5-fdcc-406a-8742-e50bd7f84917]",
        "2019-01-15 05:15:16 - Detected suspicious new firewall rule - (MSTICALERTSWIN1)  - [id:2518547714839319574_33edaa83-fe35-47de-9486-fc9792c5b65b]",
        "2019-01-15 05:15:16 - Detected suspicious execution via rundll32.exe - (MSTICALERTSWIN1)  - [id:2518547714834806864_4bb2ecc3-f4aa-40cd-a3d7-802fc9086e89]",
        "2019-01-15 05:15:16 - Detected suspicious execution via rundll32.exe - (MSTICALERTSWIN1)  - [id:2518547714835690929_8e73946b-ebea-4625-aa60-d97b82dcfb07]",
        "2019-01-15 05:15:16 - Detected possible local reconnaissance activity - (MSTICALERTSWIN1)  - [id:2518547714837217151_f0d023fb-376f-46ab-9976-a5825d826bea]",
        "2019-01-15 05:15:16 - Detected suspicious Set-ExecutionPolicy and WinRM changes - (MSTICALERTSWIN1)  - [id:2518547714832788202_b56b9e61-fefb-47a3-a34f-7c1b44f8268a]",
        "2019-01-15 05:15:16 - Detected suspicious commandline used to start all executables in a directory - (MSTICALERTSWIN1)  - [id:2518547714833232927_0e8db234-9727-41f3-a6e0-0773519603d2]",
        "2019-01-15 05:15:16 - Detected potentially suspicious use of Telegram tool - (MSTICALERTSWIN1)  - [id:2518547714833859291_4fa26308-1daf-49ee-8880-b194f950d8b0]",
        "2019-01-15 05:15:16 - Suspected Kerberos Golden Ticket attack parameters observed - (MSTICALERTSWIN1)  - [id:2518547714838326136_e776fca2-4c01-43eb-ab97-b9845af3529c]",
        "2019-01-15 05:15:16 - Detected actions indicative of disabling and deleting IIS log files. - (MSTICALERTSWIN1)  - [id:2518547714831067013_8df27789-fb10-4035-ac48-cd0883b2e6b0]",
        "2019-01-15 05:15:17 - Azure Security Center test alert (not a threat) - (MSTICALERTSWIN1)  - [id:2518547714824290520_b2d9be9f-58e2-4174-8658-419670393253]",
        "2019-01-15 05:15:17 - Suspicious SVCHOST process executed - (nan)  - [id:2518547714825902697_fcbb6bb7-4c7c-488e-903c-f625e98db7c4]",
        "2019-01-15 05:15:17 - Random process name detected - (MSTICALERTSWIN1)  - [id:2518547714829244584_9984a237-2dd7-4932-bb8d-23ca535a6254]",
        "2019-01-15 05:15:17 - Rare SVCHOST service group executed - (nan)  - [id:2518547714825070946_58694b54-2bee-4160-9595-30903b466f6e]",
        "2019-01-15 05:15:17 - Suspicious double extension file executed - (nan)  - [id:2518547714828736209_2b2ff728-1a2a-46e8-a49a-6991e074a740]",
        "2019-01-15 05:15:17 - Suspicious Volume Shadow Copy Activity - (nan)  - [id:2518547714828638992_6c6836bb-23cd-4b31-b78e-08360c5a4f83]",
        "2019-01-15 05:15:18 - Detected suspicious execution of VBScript.Encode command - (MSTICALERTSWIN1)  - [id:2518547714811804858_5b42a152-64c2-4f16-8cc3-887b8b0161fc]",
        "2019-01-15 05:15:18 - Detected suspicious file cleanup commands - (MSTICALERTSWIN1)  - [id:2518547714814450855_c0822e2b-785b-41a8-8136-21b7430a0078]",
        "2019-01-15 05:15:18 - Detected Petya ransomware indicators - (MSTICALERTSWIN1)  - [id:2518547714812938298_fa4939d4-a20c-440a-839c-89c0c43e1ccc]",
        "2019-01-15 05:15:18 - Detected suspicious file creation - (MSTICALERTSWIN1)  - [id:2518547714816637303_3252483f-2fdb-411a-93f5-e268d5e56abf]",
        "2019-01-15 05:15:18 - Detected suspicious use of Pcalua.exe to launch executable code - (MSTICALERTSWIN1)  - [id:2518547714811337754_ad1fd62a-9565-41e4-b94a-6264942033f6]",
        "2019-01-15 05:15:18 - Detected possible execution of keygen executable - (MSTICALERTSWIN1)  - [id:2518547714814533914_38d53571-e98a-4bb6-a17f-0361a561019e]",
        "2019-01-15 05:15:18 - Detected suspicious use of Cacls to lower the security state of the system. - (MSTICALERTSWIN1)  - [id:2518547714815952205_1ba5718e-529b-441b-8036-ad06ee862e76]",
        "2019-01-15 05:15:18 - Detected the disabling of critical services - (MSTICALERTSWIN1)  - [id:2518547714813299511_a5df127a-f7e8-44ff-b404-6d5b37d06488]",
        "2019-01-15 05:15:18 - Ransomware indicators detected - (MSTICALERTSWIN1)  - [id:2518547714812286467_d5e026fa-6687-495e-878d-c4c93477cc78]",
        "2019-01-15 05:15:18 - Detected possible execution of malware dropper - (MSTICALERTSWIN1)  - [id:2518547714815009424_9a34d332-2fb6-4f3f-beb0-d9817dc9b7cd]",
        "2019-01-15 05:15:18 - High risk software detected - (MSTICALERTSWIN1)  - [id:2518547714813699414_d12ed618-567b-4b8f-8241-82ad4c1cb28e]",
        "2019-01-15 05:15:19 - Possible credential dumping detected - (MSTICALERTSWIN1)  - [id:2518547714809416002_76bf04a5-71fa-487a-9742-d54941a7a194]",
        "2019-01-15 05:15:19 - Suspicious download using Certutil detected - (MSTICALERTSWIN1)  - [id:2518547714805546049_03e7bf17-8f77-42ca-8ac1-af8258f4d1ca]",
        "2019-01-15 09:15:03 - Suspicious Account Creation Detected - (MSTICALERTSWIN1)  - [id:2518547570966661760_526e34b6-6578-4fc0-9db6-e126b4d673f0]",
        "2019-01-15 09:15:07 - Potential attempt to bypass AppLocker detected - (MSTICALERTSWIN1)  - [id:2518547570924760670_9868ed7d-397e-4aa4-8dbd-5a1c5f736c1e]",
        "2019-01-15 09:15:10 - Suspiciously named process detected - (MSTICALERTSWIN1)  - [id:2518547570895430544_4ea6c432-6d20-4986-9679-ecf58ac4854d]",
        "2019-01-15 09:15:10 - Digital currency mining related behavior detected - (MSTICALERTSWIN1)  - [id:2518547570895430544_72351be4-ae78-4cc6-9f6a-1ff87c31baeb]",
        "2019-01-15 09:15:11 - Detected obfuscated command line. - (MSTICALERTSWIN1)  - [id:2518547570880067443_c1a9004f-7f64-4144-8ce0-8f76f9041703]",
        "2019-01-15 09:15:11 - Suspicious Powershell Activity Detected - (MSTICALERTSWIN1)  - [id:2518547570883109415_c762b0f7-a0f5-4dda-ab48-54b5ae6eade4]",
        "2019-01-15 09:15:11 - Suspicious Powershell Activity Detected - (MSTICALERTSWIN1)  - [id:2518547570884378777_92a2f884-5827-4fb6-acf8-b0087b76aa73]",
        "2019-01-15 09:15:11 - Suspicious Powershell Activity Detected - (MSTICALERTSWIN1)  - [id:2518547570881721037_4ca5c629-673c-4372-9bd3-ab7bf6d6e6f0]",
        "2019-01-15 09:15:12 - Suspicious Powershell Activity Detected - (MSTICALERTSWIN1)  - [id:2518547570876432155_ce7c7361-8ac9-47be-b8fb-7a87c87ee178]",
        "2019-01-15 09:15:13 - Suspicious system process executed - (nan)  - [id:2518547570865502616_9d5e263f-55d2-441f-acf4-bf569b4cd976]",
        "2019-01-15 09:15:13 - Executable found running from a suspicious location - (MSTICALERTSWIN1)  - [id:2518547570865502616_c6f3dea2-fe36-4e65-b161-1b1cd1104eb3]",
        "2019-01-15 09:15:13 - Suspicious WindowPosition registry value detected - (MSTICALERTSWIN1)  - [id:2518547570866947129_1b074412-133c-4ac9-8e3f-24103159b03e]",
        "2019-01-15 09:15:13 - Executable found running from a suspicious location - (MSTICALERTSWIN1)  - [id:2518547570860979996_bddac8c5-cba5-4da2-a6dd-c0a39fc2b256]",
        "2019-01-15 09:15:13 - Suspicious process executed - (MSTICALERTSWIN1)  - [id:2518547570862568702_029c9c95-c1fe-4419-bc3b-a6d832c87e65]",
        "2019-01-15 09:15:14 - Suspicious process executed - (MSTICALERTSWIN1)  - [id:2518547570851316041_43f7d8f3-fea5-4fca-a884-713c2d65203c]",
        "2019-01-15 09:15:14 - Detected anomalous mix of upper and lower case characters in command-line - (MSTICALERTSWIN1)  - [id:2518547570852901341_3ca6ca5a-8bf2-417f-b8c9-3cea37c84f4b]",
        "2019-01-15 09:15:16 - Suspicious double extension file executed - (nan)  - [id:2518547570836535349_c45bcb62-9d89-44e8-bea9-7a9e35205576]",
        "2019-01-15 09:15:16 - Rare SVCHOST service group executed - (nan)  - [id:2518547570834399134_26ccc2ad-8ce0-4f60-8215-18f99377b547]",
        "2019-01-15 09:15:16 - Suspicious Volume Shadow Copy Activity - (nan)  - [id:2518547570836431794_b9d79b27-d725-4a87-b7ec-6fc9ec591e8c]",
        "2019-01-15 09:15:16 - Azure Security Center test alert (not a threat) - (MSTICALERTSWIN1)  - [id:2518547570833725387_2df8ae94-03fe-4b9f-a3a9-f3c6dab95c05]",
        "2019-01-15 09:15:16 - Suspicious SVCHOST process executed - (nan)  - [id:2518547570835168086_117b7a02-d1d0-4cf2-bc04-0b19a796b4d3]",
        "2019-01-15 09:15:17 - Ransomware indicators detected - (MSTICALERTSWIN1)  - [id:2518547570821365949_48327b74-c904-402d-a1d8-2b3a882924e7]",
        "2019-01-15 09:15:17 - Detected Petya ransomware indicators - (MSTICALERTSWIN1)  - [id:2518547570821871899_e647375c-9979-47b5-9f78-f414a1aad26d]",
        "2019-01-15 11:45:00 - Suspicious Account Creation Detected - (MSTICALERTSWIN1)  - [id:2518547480991748435_836318d1-0fa0-4cfe-a3d0-2b1fdbaf2216]",
        "2019-01-15 11:45:01 - Suspiciously named process detected - (MSTICALERTSWIN1)  - [id:2518547480988516756_54bb943e-7fe9-4146-a43e-4064c8e0049f]",
        "2019-01-15 11:45:01 - Digital currency mining related behavior detected - (MSTICALERTSWIN1)  - [id:2518547480988516756_668ed54c-9e73-4d4f-a9c2-b88fd1b13db0]",
        "2019-01-15 11:45:01 - Potential attempt to bypass AppLocker detected - (MSTICALERTSWIN1)  - [id:2518547480989617678_f3490cf7-a303-4001-b7d6-8acf7e83f191]",
        "2019-01-15 11:45:01 - Suspicious Powershell Activity Detected - (MSTICALERTSWIN1)  - [id:2518547480982973701_24a6d6f3-acf1-41bd-a11f-01a1369bac02]",
        "2019-01-15 11:45:01 - Suspicious Powershell Activity Detected - (MSTICALERTSWIN1)  - [id:2518547480984263491_d46877bd-e04d-401a-99bd-eec2a6b25663]",
        "2019-01-15 11:45:01 - Detected obfuscated command line. - (MSTICALERTSWIN1)  - [id:2518547480982511513_adfabbe0-fce0-44f3-be4b-17283bd03bed]",
        "2019-01-15 11:45:01 - Suspicious Powershell Activity Detected - (MSTICALERTSWIN1)  - [id:2518547480980813134_5cb7ab95-6017-4031-afb2-e11518b0f5cc]",
        "2019-01-15 11:45:01 - Suspicious Powershell Activity Detected - (MSTICALERTSWIN1)  - [id:2518547480983467170_9da8e3df-9c3b-4e20-8bd0-ace00aff9def]",
        "2019-01-15 11:45:02 - Executable found running from a suspicious location - (MSTICALERTSWIN1)  - [id:2518547480975043692_7e663699-5412-496f-ac91-e21a7b6f0be5]",
        "2019-01-15 11:45:02 - Executable found running from a suspicious location - (MSTICALERTSWIN1)  - [id:2518547480977057409_ed9d92ac-0ab8-4a2e-a1dd-f70ee30a9af1]",
        "2019-01-15 11:45:02 - Suspicious WindowPosition registry value detected - (MSTICALERTSWIN1)  - [id:2518547480977469312_e9ff6947-fd12-42d2-bb63-2d814f04482a]",
        "2019-01-15 11:45:02 - Suspicious process executed - (MSTICALERTSWIN1)  - [id:2518547480976076338_2a106d12-acd8-4dd7-9e1c-3c20b4eaa320]",
        "2019-01-15 11:45:02 - Suspicious system process executed - (nan)  - [id:2518547480977057409_492fbb97-a1fc-4880-95d2-e55ab2f142b6]",
        "2019-01-15 11:45:02 - Detected anomalous mix of upper and lower case characters in command-line - (MSTICALERTSWIN1)  - [id:2518547480970182118_c0558adc-b4a9-4289-b9ad-7e7260f1cde0]",
        "2019-01-15 11:45:03 - Suspicious process executed - (MSTICALERTSWIN1)  - [id:2518547480968677354_88eb8a87-a876-46aa-b8ed-be7298929ea8]",
        "2019-01-15 11:45:04 - Random process name detected - (MSTICALERTSWIN1)  - [id:2518547480956885358_b66e93d7-b38b-4785-baa5-093edc18e649]",
        "2019-01-15 11:45:04 - Suspicious Volume Shadow Copy Activity - (nan)  - [id:2518547480955968326_fa350f8b-2c81-478c-a383-debe0ab0c892]",
        "2019-01-15 11:45:04 - Suspicious double extension file executed - (nan)  - [id:2518547480956378190_2b59c1d5-a815-4562-a8d4-36d9777e6546]",
        "2019-01-15 11:45:05 - Rare SVCHOST service group executed - (nan)  - [id:2518547480946682289_f83c0705-d2ff-4355-a25d-ae858ee39b2d]",
        "2019-01-15 11:45:05 - Suspicious SVCHOST process executed - (nan)  - [id:2518547480947565906_5c82cd9c-60f8-4056-bd39-8ccb2cdb7678]",
        "2019-01-15 11:45:05 - Azure Security Center test alert (not a threat) - (MSTICALERTSWIN1)  - [id:2518547480945920380_00d33245-c643-4155-8c05-6abc4ee3b3cd]",
        "2019-01-15 11:45:06 - Ransomware indicators detected - (MSTICALERTSWIN1)  - [id:2518547480937987105_ec1678a1-0fe8-44c5-91b5-621c40d2bb8c]",
        "2019-01-15 11:45:06 - Detected Petya ransomware indicators - (MSTICALERTSWIN1)  - [id:2518547480938543829_91a4f9a7-70ad-433b-a568-34314e3f467f]",
        "2019-01-15 13:15:10 - Suspiciously named process detected - (MSTICALERTSWIN1)  - [id:2518547426892072407_171b74b2-a431-4b55-8d69-128e5fb95329]",
        "2019-01-15 13:15:13 - Suspicious WindowPosition registry value detected - (MSTICALERTSWIN1)  - [id:2518547426863814510_75495c57-4fd6-4e27-b94c-c6f81f78bcb5]",
        "2019-01-15 13:15:13 - Suspicious system process executed - (nan)  - [id:2518547426862437699_184c075e-64ee-4901-bc37-6eb999e81a11]",
        "2019-01-15 13:15:14 - Suspicious process executed - (MSTICALERTSWIN1)  - [id:2518547426859453218_89d1850f-dccd-4d45-b194-650819d358d9]",
        "2019-01-15 13:15:14 - Executable found running from a suspicious location - (MSTICALERTSWIN1)  - [id:2518547426858055460_51b74398-40e2-4b1b-9d92-89c0004738c9]",
        "2019-01-15 13:15:15 - Suspicious process executed - (MSTICALERTSWIN1)  - [id:2518547426847947731_caa12d6c-4928-4787-90d4-cb27ff94373c]",
        "2019-01-15 13:15:16 - Suspicious SVCHOST process executed - (nan)  - [id:2518547426831794607_a513ab17-2b6a-4b1a-a925-a0b3c21ec38c]",
        "2019-01-15 13:15:16 - Rare SVCHOST service group executed - (nan)  - [id:2518547426830640211_88f9ae7a-e6b5-4b54-b967-08f3fc503d91]",
        "2019-01-15 13:15:16 - Suspicious Volume Shadow Copy Activity - (nan)  - [id:2518547426833434810_b6e594ea-16d3-480e-81a7-2f8fe3af64ba]",
        "2019-01-15 13:15:16 - Suspicious double extension file executed - (nan)  - [id:2518547426833838523_7b30c978-28d5-4a28-a4c2-0985f08ab1c6]",
        "2019-01-15 13:15:17 - Azure Security Center test alert (not a threat) - (MSTICALERTSWIN1)  - [id:2518547426829675756_846ec406-bb3e-451b-bf6f-9e1e17a69bd6]",
        "2019-01-15 13:15:18 - Ransomware indicators detected - (MSTICALERTSWIN1)  - [id:2518547426817428483_636ab38f-2528-4356-8602-d0910f8ac600]",
        "2019-01-15 13:15:18 - Detected Petya ransomware indicators - (MSTICALERTSWIN1)  - [id:2518547426817928329_a4aa878d-93b5-4cd1-931f-30f85b9e6db2]",
        "2019-01-15 17:15:03 - Suspicious Account Creation Detected - (MSTICALERTSWIN1)  - [id:2518547282966696689_3db7e1e7-2edc-4dd9-8c1d-d908f5b8a904]",
        "2019-01-15 17:15:10 - Potential attempt to bypass AppLocker detected - (MSTICALERTSWIN1)  - [id:2518547282896095305_82730ffa-b9ce-43f4-bf3c-a97113107cc5]",
        "2019-01-15 17:15:10 - Suspiciously named process detected - (MSTICALERTSWIN1)  - [id:2518547282892925953_0073e6d8-6c2e-42e4-8966-d1f5a3dd3517]",
        "2019-01-15 17:15:10 - Digital currency mining related behavior detected - (MSTICALERTSWIN1)  - [id:2518547282892925953_35c8d588-ddf7-46b5-a0bf-f47023f9343c]",
        "2019-01-15 17:15:11 - Suspicious Powershell Activity Detected - (MSTICALERTSWIN1)  - [id:2518547282880013417_d65aa787-e867-43b1-9182-025a1a38173a]",
        "2019-01-15 17:15:11 - Suspicious Powershell Activity Detected - (MSTICALERTSWIN1)  - [id:2518547282881581273_ed5bcf39-ffd3-468a-82e3-28e108d4f06f]",
        "2019-01-15 17:15:11 - Suspicious Powershell Activity Detected - (MSTICALERTSWIN1)  - [id:2518547282883193041_31ae6eeb-bd1d-4018-8df9-eeedd60bf1ab]",
        "2019-01-15 17:15:12 - Suspicious Powershell Activity Detected - (MSTICALERTSWIN1)  - [id:2518547282874783943_bd1a0865-a507-4e2b-b8df-613238a950df]",
        "2019-01-15 17:15:12 - Detected obfuscated command line. - (MSTICALERTSWIN1)  - [id:2518547282878855119_d89d1ab7-e5b7-426c-a98f-eab95deea3ad]",
        "2019-01-15 17:15:13 - Suspicious system process executed - (nan)  - [id:2518547282863799328_7e169933-4275-4b94-b37f-490417bcfc98]",
        "2019-01-15 17:15:13 - Suspicious WindowPosition registry value detected - (MSTICALERTSWIN1)  - [id:2518547282865194453_9895a5cc-6f49-45f5-a0eb-f05c1f11f264]",
        "2019-01-15 17:15:13 - Executable found running from a suspicious location - (MSTICALERTSWIN1)  - [id:2518547282863799328_84ea8dcd-9436-4b4d-82b2-36114028bd61]",
        "2019-01-15 17:15:14 - Suspicious process executed - (MSTICALERTSWIN1)  - [id:2518547282859754476_0c3ae402-a9ea-4d5c-9c09-4274b7847c2c]",
        "2019-01-15 17:15:14 - Detected anomalous mix of upper and lower case characters in command-line - (MSTICALERTSWIN1)  - [id:2518547282850984831_7f983018-fd59-4e9e-ba70-295f6beb0e9c]",
        "2019-01-15 17:15:14 - Executable found running from a suspicious location - (MSTICALERTSWIN1)  - [id:2518547282858353938_58851b10-8f5c-48f1-aade-b1529f4e2c7f]",
        "2019-01-15 17:15:15 - Suspicious process executed - (MSTICALERTSWIN1)  - [id:2518547282845656644_c7318da8-368f-47f8-bff5-e15600a3fb80]",
        "2019-01-15 17:15:17 - Suspicious double extension file executed - (nan)  - [id:2518547282825853773_e6c85135-2b91-4537-b9a0-dae7eabb8e9d]",
        "2019-01-15 17:15:17 - Suspicious Volume Shadow Copy Activity - (nan)  - [id:2518547282825448815_6a71b543-4832-4658-8467-825aeafbe031]",
        "2019-01-15 17:15:18 - Rare SVCHOST service group executed - (nan)  - [id:2518547282813841329_a7e8e8c1-4561-48ea-bf75-a22c7bfc2257]",
        "2019-01-15 17:15:18 - Azure Security Center test alert (not a threat) - (MSTICALERTSWIN1)  - [id:2518547282812706885_12ae1e22-347e-454c-ae0d-ebb48cdf189b]",
        "2019-01-15 17:15:18 - Suspicious SVCHOST process executed - (nan)  - [id:2518547282814913644_34cc156e-9179-44c4-bd60-89dd1812e9e7]",
        "2019-01-15 17:15:19 - Detected Petya ransomware indicators - (MSTICALERTSWIN1)  - [id:2518547282803821916_c76cdb6c-cea0-4b2b-9ab6-1442a5857ed8]",
        "2019-01-15 17:15:19 - Ransomware indicators detected - (MSTICALERTSWIN1)  - [id:2518547282802847718_4a524cc8-7613-4c42-93a9-8c1e466a4476]",
        "2019-01-15 21:18:10 - Suspicious Account Added - (nan)  - [id:cbdce694-666c-4844-a29c-e7f4b66e27d1]"
       ],
       "description": "Select alert :",
       "index": 0,
       "layout": "IPY_MODEL_d69d318c40cc400fb4256e7ec060cc60",
       "style": "IPY_MODEL_490f9f961e57492f9056c28ecf704a91"
      }
     },
     "7ee315c78a7741c4ba33e3db2f268b62": {
      "model_module": "@jupyter-widgets/base",
      "model_module_version": "1.2.0",
      "model_name": "LayoutModel",
      "state": {}
     },
     "7f07739dda504579a8c3911f36c3229f": {
      "model_module": "@jupyter-widgets/controls",
      "model_module_version": "1.5.0",
      "model_name": "DescriptionStyleModel",
      "state": {
       "description_width": ""
      }
     },
     "81137def53b5452d8317668c2d9432f3": {
      "model_module": "@jupyter-widgets/controls",
      "model_module_version": "1.5.0",
      "model_name": "TextModel",
      "state": {
       "description": "Filter:",
       "layout": "IPY_MODEL_e7ee95bd3aee4507b39bdea0a78ba8df",
       "style": "IPY_MODEL_455c07c286e64a17858631d5e623f22e"
      }
     },
     "82cdcd5d3f4b4bb381d49a0203d4b8b2": {
      "model_module": "@jupyter-widgets/base",
      "model_module_version": "1.2.0",
      "model_name": "LayoutModel",
      "state": {}
     },
     "84c9d14250f840a094a5281ca22f43cc": {
      "model_module": "@jupyter-widgets/base",
      "model_module_version": "1.2.0",
      "model_name": "LayoutModel",
      "state": {}
     },
     "8606c83133d049bb9bf5cdff5a278b79": {
      "model_module": "@jupyter-widgets/base",
      "model_module_version": "1.2.0",
      "model_name": "LayoutModel",
      "state": {
       "height": "100px",
       "width": "50%"
      }
     },
     "86a472d8b5ee4a8695396e4646618a5e": {
      "model_module": "@jupyter-widgets/controls",
      "model_module_version": "1.5.0",
      "model_name": "DescriptionStyleModel",
      "state": {
       "description_width": "initial"
      }
     },
     "873f261e69584f66b94a10201eface74": {
      "model_module": "@jupyter-widgets/base",
      "model_module_version": "1.2.0",
      "model_name": "LayoutModel",
      "state": {
       "height": "100px",
       "width": "50%"
      }
     },
     "8854732a30de409694cfbb7432d4f2ee": {
      "model_module": "@jupyter-widgets/base",
      "model_module_version": "1.2.0",
      "model_name": "LayoutModel",
      "state": {
       "height": "300px",
       "width": "95%"
      }
     },
     "887aad7c0b9e44a39829111dbec5959a": {
      "model_module": "@jupyter-widgets/base",
      "model_module_version": "1.2.0",
      "model_name": "LayoutModel",
      "state": {
       "height": "300px",
       "width": "95%"
      }
     },
     "88887110f5964708a94a79a9eafa27ea": {
      "model_module": "@jupyter-widgets/controls",
      "model_module_version": "1.5.0",
      "model_name": "DatePickerModel",
      "state": {
       "description": "Origin Date",
       "disabled": false,
       "layout": "IPY_MODEL_2de4160484324f8eb87fa3339ecc97c4",
       "style": "IPY_MODEL_b79f1e90d7a24605a7d77ed87ef9c0c7",
       "value": {
        "date": 28,
        "month": 4,
        "year": 2020
       }
      }
     },
     "891e60e117874b5b802e10bf7f99b34b": {
      "model_module": "@jupyter-widgets/controls",
      "model_module_version": "1.5.0",
      "model_name": "DescriptionStyleModel",
      "state": {
       "description_width": "initial"
      }
     },
     "8950dd42833e459ea9bc4403d09910fe": {
      "model_module": "@jupyter-widgets/controls",
      "model_module_version": "1.5.0",
      "model_name": "ButtonStyleModel",
      "state": {}
     },
     "8a45148ee9f84bf4a0d57958e56daba5": {
      "model_module": "@jupyter-widgets/controls",
      "model_module_version": "1.5.0",
      "model_name": "DescriptionStyleModel",
      "state": {
       "description_width": "initial"
      }
     },
     "8a47661da7a64b6f93aa8f54a8b683c1": {
      "model_module": "@jupyter-widgets/base",
      "model_module_version": "1.2.0",
      "model_name": "LayoutModel",
      "state": {}
     },
     "8aebb3457f35438591457955b4ed8b4a": {
      "model_module": "@jupyter-widgets/controls",
      "model_module_version": "1.5.0",
      "model_name": "HBoxModel",
      "state": {
       "children": [
        "IPY_MODEL_13e1901d338c4692b200cc1ca982ce34",
        "IPY_MODEL_e6331cc8bdd64e8495816e63f06a86e7"
       ],
       "layout": "IPY_MODEL_42e5f7854b1545b0b937ae7f2381a2fa"
      }
     },
     "8b85e5b0ebfa4e8c8b92589622fef5c0": {
      "model_module": "@jupyter-widgets/controls",
      "model_module_version": "1.5.0",
      "model_name": "DescriptionStyleModel",
      "state": {
       "description_width": "initial"
      }
     },
     "8c3773614d954732b88e5aead83a493c": {
      "model_module": "@jupyter-widgets/controls",
      "model_module_version": "1.5.0",
      "model_name": "DescriptionStyleModel",
      "state": {
       "description_width": "initial"
      }
     },
     "8c3c8e24421f47efb83b74a4f3665463": {
      "model_module": "@jupyter-widgets/controls",
      "model_module_version": "1.5.0",
      "model_name": "DescriptionStyleModel",
      "state": {
       "description_width": "initial"
      }
     },
     "8d711173bd2e453591719f7236a9ee33": {
      "model_module": "@jupyter-widgets/base",
      "model_module_version": "1.2.0",
      "model_name": "LayoutModel",
      "state": {}
     },
     "8e5cf33477d24f71aaae8fd87b869d74": {
      "model_module": "@jupyter-widgets/base",
      "model_module_version": "1.2.0",
      "model_name": "LayoutModel",
      "state": {}
     },
     "8e9ea15496654742b2ff97b8b4fc6374": {
      "model_module": "@jupyter-widgets/controls",
      "model_module_version": "1.5.0",
      "model_name": "SelectModel",
      "state": {
       "_options_labels": [
        "ip",
        "host",
        "account"
       ],
       "description": "Select an item",
       "index": 2,
       "layout": "IPY_MODEL_277337aa8f6f4408b7da68359679717f",
       "style": "IPY_MODEL_891e60e117874b5b802e10bf7f99b34b"
      }
     },
     "8ea9be5c1f334d4893d4f6b3f214dea5": {
      "model_module": "@jupyter-widgets/controls",
      "model_module_version": "1.5.0",
      "model_name": "IntSliderModel",
      "state": {
       "description": "Select time (hour) to look back",
       "layout": "IPY_MODEL_1cf1a4d3f7f14c2db3decbc38b6c37ed",
       "max": 48,
       "min": 1,
       "style": "IPY_MODEL_3303219121d6479097bed3f6bad461d9",
       "value": 4
      }
     },
     "8f2d9f17c5744a43af94e3ba1560873c": {
      "model_module": "@jupyter-widgets/base",
      "model_module_version": "1.2.0",
      "model_name": "LayoutModel",
      "state": {
       "width": "80%"
      }
     },
     "8fab56603f74436aa4078298cd61ed8e": {
      "model_module": "@jupyter-widgets/controls",
      "model_module_version": "1.5.0",
      "model_name": "DescriptionStyleModel",
      "state": {
       "description_width": "initial"
      }
     },
     "902b96d869184265a024a31a16bf3ddf": {
      "model_module": "@jupyter-widgets/controls",
      "model_module_version": "1.5.0",
      "model_name": "SelectModel",
      "state": {
       "_options_labels": [
        "2018-12-30 00:02:00 - Network communication with a malicious machine detected - (nan)  - [id:a511e1bb-69e1-41a2-8054-c6fcb6aa2362]",
        "2019-01-01 00:02:00 - Possible compromised machine detected - (nan)  - [id:62ded865-938b-4bb3-afef-605d692607f1]",
        "2019-01-01 00:02:00 - An event log was cleared - (nan)  - [id:48facfa1-fe35-45ff-8c91-7a710cd462b9]",
        "2019-01-03 00:02:00 - Suspicious process executed - (nan)  - [id:a32adc3f-43f7-4e5d-b833-98baa71c2f51]",
        "2019-01-03 00:02:00 - Suspicious double extension file executed - (nan)  - [id:112dc225-bc2d-4328-97fd-a99e0b000b1f]",
        "2019-01-05 01:02:00 - SQL injection blocked - (nan)  - [id:0c68e539-f060-401f-b967-6b64b8f49198]",
        "2019-01-05 02:02:00 - Failed RDP Brute Force Attack - (nan)  - [id:8832e816-d634-4214-bb48-7a6678fdf0b7]",
        "2019-01-06 02:02:00 - Successful RDP brute force attack - (nan)  - [id:3b2b5ecc-ec29-4703-9450-29b29b937fd8]",
        "2019-01-06 03:02:00 - Suspicious SVCHOST process executed - (nan)  - [id:614ae18e-cd79-4d4c-97dc-24431be12b5b]",
        "2019-01-06 04:02:00 - Multiple Domain Accounts Queried - (vm1)  - [id:7b27ffab-7204-4856-a013-908de6c1804e]",
        "2019-01-06 05:02:00 - Network communication with a malicious machine detected - (nan)  - [id:98a6dea6-1b64-41d0-938e-0dec24b234ec]",
        "2019-01-07 05:02:00 - Modified system binary discovered in dump file 5bd767e4-2d08-4714-b744-aaed04b57107__391365252.hdmp - (nan)  - [id:775505ce-0ef9-4945-b697-303f7666d1b6]",
        "2019-01-08 05:02:00 - Possible outgoing spam activity detected - (vm1lin)  - [id:28f9b83a-33e6-44da-a002-0f48bff46a67]",
        "2019-01-09 05:02:00 - Deep Security Agent detected a malware - (nan)  - [id:5fc4f6a0-0687-4b93-998e-a230af39c10b]",
        "2019-01-09 05:38:06 - Global domain trust creation - Demo - (nan)  - [id:9740fe80-b642-4a38-8e86-05fa4d35508b]",
        "2019-01-09 06:25:57 - Maliciuos IP communication - (nan)  - [id:04e14d6f-6d4f-46d4-a5f6-2a26bcd34ce8]",
        "2019-01-09 06:31:40 - DC local group addition - Demo - (nan)  - [id:ace7fb98-ef96-46df-ba7b-9a15a141d368]",
        "2019-01-09 06:31:42 - Palo Alto admin logged on via SSH - Demo - (nan)  - [id:40a5916b-9697-423a-a5e4-95cca7c735e7]",
        "2019-01-09 06:33:55 - DC with MS AM engine failure - Demo - (nan)  - [id:78cc7e02-6116-459d-9cdc-a6dcc40ba937]",
        "2019-01-10 05:02:00 - Potential SQL Injection - (nan)  - [id:5365ee7a-f730-42d2-bcdf-b2e898ab98d7]",
        "2019-01-10 05:38:06 - Global domain trust creation - Demo - (nan)  - [id:401f2680-cc05-4e6f-a1f6-69cff2055cd9]",
        "2019-01-10 06:25:57 - Maliciuos IP communication - (nan)  - [id:b5786d68-7f5e-4be1-92e6-e255010d1d8c]",
        "2019-01-10 06:31:40 - DC local group addition - Demo - (nan)  - [id:01659bf1-1228-4e46-b73b-e7d173d365eb]",
        "2019-01-10 06:31:42 - Palo Alto admin logged on via SSH - Demo - (nan)  - [id:0ce6ad61-302a-4142-8eaa-4da9dfad9ca9]",
        "2019-01-10 06:33:55 - DC with MS AM engine failure - Demo - (nan)  - [id:df9f92cb-6fd2-469b-9b72-28f128df1adf]",
        "2019-01-10 19:18:10 - Suspicious Account Added - (nan)  - [id:b3f02c05-e844-4161-81d6-d736548d91ae]",
        "2019-01-11 05:38:06 - Global domain trust creation - Demo - (nan)  - [id:6b56aa8c-da76-4caf-b09d-8706292a8b89]",
        "2019-01-11 06:25:57 - Maliciuos IP communication - (nan)  - [id:4586bd9e-5c1e-4229-9a01-ecd84ad51448]",
        "2019-01-11 06:31:40 - DC local group addition - Demo - (nan)  - [id:047f47d6-79b7-4502-824b-97abc4905a73]",
        "2019-01-11 06:31:42 - Palo Alto admin logged on via SSH - Demo - (nan)  - [id:2d06cb42-bdff-426d-8091-ccc151bcbc94]",
        "2019-01-11 06:33:55 - DC with MS AM engine failure - Demo - (nan)  - [id:412ca580-63c8-4fd2-87e4-87b1ba4260b3]",
        "2019-01-11 19:18:10 - Suspicious Account Added - (nan)  - [id:42a8b425-1c41-4355-8343-18ad563c43b6]",
        "2019-01-12 05:38:06 - Global domain trust creation - Demo - (nan)  - [id:bc44b302-78c7-4be8-bf70-d39d6935fd74]",
        "2019-01-12 06:25:57 - Maliciuos IP communication - (nan)  - [id:c76f17e2-e739-4e7e-bf17-4dd163fc831f]",
        "2019-01-12 06:31:40 - DC local group addition - Demo - (nan)  - [id:07be11df-3dbf-49a5-8b5a-dcea75d89993]",
        "2019-01-12 06:31:42 - Palo Alto admin logged on via SSH - Demo - (nan)  - [id:09ec519f-96b0-4332-be30-b0379c8cbd04]",
        "2019-01-12 06:33:55 - DC with MS AM engine failure - Demo - (nan)  - [id:6a7aaa2e-a575-4e8b-87ed-0d964bf1005e]",
        "2019-01-12 19:18:10 - Suspicious Account Added - (nan)  - [id:d4638075-fed2-4031-8e52-d37c220b0fe4]",
        "2019-01-13 05:38:06 - Global domain trust creation - Demo - (nan)  - [id:5d733fc8-ff32-436d-a595-beaf8943bd63]",
        "2019-01-13 06:25:57 - Maliciuos IP communication - (nan)  - [id:54a8f6d8-f69b-4872-96f8-ef274d5fc8d4]",
        "2019-01-13 06:31:40 - DC local group addition - Demo - (nan)  - [id:47445dca-b87d-45f5-9073-b713e3c69a56]",
        "2019-01-13 06:31:42 - Palo Alto admin logged on via SSH - Demo - (nan)  - [id:45176796-d3f9-40ce-a8f2-aba9bb3c8063]",
        "2019-01-13 06:33:55 - DC with MS AM engine failure - Demo - (nan)  - [id:985be534-6f40-4b0c-a951-8f3915eacd61]",
        "2019-01-13 19:18:10 - Suspicious Account Added - (nan)  - [id:790217fc-9597-4159-b469-bb383c747435]",
        "2019-01-14 05:38:06 - Global domain trust creation - Demo - (nan)  - [id:fbaf48de-152a-4aa6-8a69-902b219bf972]",
        "2019-01-14 06:25:57 - Maliciuos IP communication - (nan)  - [id:1828afac-b4c2-41d9-acbd-7d23b7219557]",
        "2019-01-14 06:31:40 - DC local group addition - Demo - (nan)  - [id:b34d24c9-2223-4887-af93-7598abf28763]",
        "2019-01-14 06:31:42 - Palo Alto admin logged on via SSH - Demo - (nan)  - [id:9442245d-eaf6-47c5-b715-1c16b2c54fc4]",
        "2019-01-14 06:33:55 - DC with MS AM engine failure - Demo - (nan)  - [id:edc4065d-886f-4aff-b17d-f1397ce4baec]",
        "2019-01-14 21:18:10 - Suspicious Account Added - (nan)  - [id:1cca38a9-e0c5-4165-a78d-491ca2641c1c]",
        "2019-01-15 05:15:03 - Suspicious Account Creation Detected - (MSTICALERTSWIN1)  - [id:2518547714966107270_3c380601-b5ad-4fff-9cdb-24528a3a19fd]",
        "2019-01-15 05:15:03 - Anomalous account creation detected - (nan)  - [id:2518547714966107270_90beedae-1285-43d6-8f33-16bc542af39b]",
        "2019-01-15 05:15:10 - Potential attempt to bypass AppLocker detected - (MSTICALERTSWIN1)  - [id:2518547714892475358_9e449abd-e67b-4ec8-a191-e688d7d63e26]",
        "2019-01-15 05:15:11 - Detected decoding of an executable using built-in certutil.exe tool - (MSTICALERTSWIN1)  - [id:2518547714882331861_5c56421d-d894-4437-9b9a-a3b5c6b7e1df]",
        "2019-01-15 05:15:11 - Detected suspicious credentials in commandline - (MSTICALERTSWIN1)  - [id:2518547714880519889_9d6d471a-c94f-4706-b0ff-b2f0301495aa]",
        "2019-01-15 05:15:11 - Digital currency mining related behavior detected - (MSTICALERTSWIN1)  - [id:2518547714887413669_4fa0022e-f431-4ba1-ae5f-ee23247e0853]",
        "2019-01-15 05:15:11 - Suspiciously named process detected - (MSTICALERTSWIN1)  - [id:2518547714887413669_1c680842-2a1d-40c0-a6e4-32e5dd144647]",
        "2019-01-15 05:15:11 - Detected encoded executable in command line data - (MSTICALERTSWIN1)  - [id:2518547714885867955_290559aa-a3d0-425b-8ed2-e98ccc9f0aa0]",
        "2019-01-15 05:15:12 - Detected suspicious commandline arguments - (MSTICALERTSWIN1)  - [id:2518547714879317674_226cc394-fccf-483d-888a-beafad2ed4a4]",
        "2019-01-15 05:15:12 - Detected suspicious document credentials - (MSTICALERTSWIN1)  - [id:2518547714879970078_b080127b-d5c1-425e-a7ca-e4bbd873009d]",
        "2019-01-15 05:15:12 - Detected obfuscated command line. - (MSTICALERTSWIN1)  - [id:2518547714871530079_77211491-86de-4295-82bc-38e332fe1112]",
        "2019-01-15 05:15:12 - Suspicious powershell cmdlets executed - (MSTICALERTSWIN1)  - [id:2518547714874872692_3eb0eb4b-0536-430c-8ab6-cd48524c14b1]",
        "2019-01-15 05:15:12 - Suspicious Powershell Activity Detected - (MSTICALERTSWIN1)  - [id:2518547714874872692_30d988ff-b8d9-45df-8217-e56b0d4d591c]",
        "2019-01-15 05:15:12 - Suspicious Powershell Activity Detected - (MSTICALERTSWIN1)  - [id:2518547714873290756_df1b9eb2-05c4-4f7c-8540-cbb18ec5c608]",
        "2019-01-15 05:15:12 - Suspicious Powershell Activity Detected - (MSTICALERTSWIN1)  - [id:2518547714876077067_953def48-a24b-42a9-bd02-7221be90f84a]",
        "2019-01-15 05:15:13 - Suspicious Powershell Activity Detected - (MSTICALERTSWIN1)  - [id:2518547714867787710_76336679-bddf-460f-90fb-35a1386de7a6]",
        "2019-01-15 05:15:14 - Executable found running from a suspicious location - (MSTICALERTSWIN1)  - [id:2518547714857061520_f4324711-aeae-4912-a634-331b7e7456b6]",
        "2019-01-15 05:15:14 - Suspicious system process executed - (nan)  - [id:2518547714857061520_28f9a2e6-1925-455e-ad97-7af7f92f521d]",
        "2019-01-15 05:15:14 - Suspicious WindowPosition registry value detected - (MSTICALERTSWIN1)  - [id:2518547714858429362_9bfd0e4b-ec93-46bb-8eea-f72e8f1262f1]",
        "2019-01-15 05:15:14 - Suspicious process executed - (MSTICALERTSWIN1)  - [id:2518547714854375707_e2a60bd1-d7c8-466d-a176-4333d4e0d1d5]",
        "2019-01-15 05:15:14 - Detected suspicious named pipe communications - (MSTICALERTSWIN1)  - [id:2518547714859677078_9b4e4942-d564-4755-862c-7171d52921e3]",
        "2019-01-15 05:15:14 - Executable found running from a suspicious location - (MSTICALERTSWIN1)  - [id:2518547714853062206_f9ddd8b3-5fa8-4f2f-b811-bdca90091195]",
        "2019-01-15 05:15:15 - Detected change to a registry key that can be abused to bypass UAC - (MSTICALERTSWIN1)  - [id:2518547714844291280_8f71e695-ba9b-4c97-9770-63cdeb34b7b4]",
        "2019-01-15 05:15:15 - Detected anomalous mix of upper and lower case characters in command-line - (MSTICALERTSWIN1)  - [id:2518547714844457503_55cd3e12-3a91-4b06-9be6-833df3365142]",
        "2019-01-15 05:15:15 - Detected suspicious use of FTP -s Switch - (MSTICALERTSWIN1)  - [id:2518547714843218505_265472ff-3820-4dad-8da7-00e39e1a99fd]",
        "2019-01-15 05:15:15 - Sticky keys attack detected - (MSTICALERTSWIN1)  - [id:2518547714843796759_b3737297-038c-4514-a957-d591384b4256]",
        "2019-01-15 05:15:15 - Suspicious process executed - (MSTICALERTSWIN1)  - [id:2518547714842732992_ad5981a5-fdcc-406a-8742-e50bd7f84917]",
        "2019-01-15 05:15:16 - Detected suspicious new firewall rule - (MSTICALERTSWIN1)  - [id:2518547714839319574_33edaa83-fe35-47de-9486-fc9792c5b65b]",
        "2019-01-15 05:15:16 - Detected suspicious execution via rundll32.exe - (MSTICALERTSWIN1)  - [id:2518547714834806864_4bb2ecc3-f4aa-40cd-a3d7-802fc9086e89]",
        "2019-01-15 05:15:16 - Detected suspicious execution via rundll32.exe - (MSTICALERTSWIN1)  - [id:2518547714835690929_8e73946b-ebea-4625-aa60-d97b82dcfb07]",
        "2019-01-15 05:15:16 - Detected possible local reconnaissance activity - (MSTICALERTSWIN1)  - [id:2518547714837217151_f0d023fb-376f-46ab-9976-a5825d826bea]",
        "2019-01-15 05:15:16 - Detected suspicious Set-ExecutionPolicy and WinRM changes - (MSTICALERTSWIN1)  - [id:2518547714832788202_b56b9e61-fefb-47a3-a34f-7c1b44f8268a]",
        "2019-01-15 05:15:16 - Detected suspicious commandline used to start all executables in a directory - (MSTICALERTSWIN1)  - [id:2518547714833232927_0e8db234-9727-41f3-a6e0-0773519603d2]",
        "2019-01-15 05:15:16 - Detected potentially suspicious use of Telegram tool - (MSTICALERTSWIN1)  - [id:2518547714833859291_4fa26308-1daf-49ee-8880-b194f950d8b0]",
        "2019-01-15 05:15:16 - Suspected Kerberos Golden Ticket attack parameters observed - (MSTICALERTSWIN1)  - [id:2518547714838326136_e776fca2-4c01-43eb-ab97-b9845af3529c]",
        "2019-01-15 05:15:16 - Detected actions indicative of disabling and deleting IIS log files. - (MSTICALERTSWIN1)  - [id:2518547714831067013_8df27789-fb10-4035-ac48-cd0883b2e6b0]",
        "2019-01-15 05:15:17 - Azure Security Center test alert (not a threat) - (MSTICALERTSWIN1)  - [id:2518547714824290520_b2d9be9f-58e2-4174-8658-419670393253]",
        "2019-01-15 05:15:17 - Suspicious SVCHOST process executed - (nan)  - [id:2518547714825902697_fcbb6bb7-4c7c-488e-903c-f625e98db7c4]",
        "2019-01-15 05:15:17 - Random process name detected - (MSTICALERTSWIN1)  - [id:2518547714829244584_9984a237-2dd7-4932-bb8d-23ca535a6254]",
        "2019-01-15 05:15:17 - Rare SVCHOST service group executed - (nan)  - [id:2518547714825070946_58694b54-2bee-4160-9595-30903b466f6e]",
        "2019-01-15 05:15:17 - Suspicious double extension file executed - (nan)  - [id:2518547714828736209_2b2ff728-1a2a-46e8-a49a-6991e074a740]",
        "2019-01-15 05:15:17 - Suspicious Volume Shadow Copy Activity - (nan)  - [id:2518547714828638992_6c6836bb-23cd-4b31-b78e-08360c5a4f83]",
        "2019-01-15 05:15:18 - Detected suspicious execution of VBScript.Encode command - (MSTICALERTSWIN1)  - [id:2518547714811804858_5b42a152-64c2-4f16-8cc3-887b8b0161fc]",
        "2019-01-15 05:15:18 - Detected suspicious file cleanup commands - (MSTICALERTSWIN1)  - [id:2518547714814450855_c0822e2b-785b-41a8-8136-21b7430a0078]",
        "2019-01-15 05:15:18 - Detected Petya ransomware indicators - (MSTICALERTSWIN1)  - [id:2518547714812938298_fa4939d4-a20c-440a-839c-89c0c43e1ccc]",
        "2019-01-15 05:15:18 - Detected suspicious file creation - (MSTICALERTSWIN1)  - [id:2518547714816637303_3252483f-2fdb-411a-93f5-e268d5e56abf]",
        "2019-01-15 05:15:18 - Detected suspicious use of Pcalua.exe to launch executable code - (MSTICALERTSWIN1)  - [id:2518547714811337754_ad1fd62a-9565-41e4-b94a-6264942033f6]",
        "2019-01-15 05:15:18 - Detected possible execution of keygen executable - (MSTICALERTSWIN1)  - [id:2518547714814533914_38d53571-e98a-4bb6-a17f-0361a561019e]",
        "2019-01-15 05:15:18 - Detected suspicious use of Cacls to lower the security state of the system. - (MSTICALERTSWIN1)  - [id:2518547714815952205_1ba5718e-529b-441b-8036-ad06ee862e76]",
        "2019-01-15 05:15:18 - Detected the disabling of critical services - (MSTICALERTSWIN1)  - [id:2518547714813299511_a5df127a-f7e8-44ff-b404-6d5b37d06488]",
        "2019-01-15 05:15:18 - Ransomware indicators detected - (MSTICALERTSWIN1)  - [id:2518547714812286467_d5e026fa-6687-495e-878d-c4c93477cc78]",
        "2019-01-15 05:15:18 - Detected possible execution of malware dropper - (MSTICALERTSWIN1)  - [id:2518547714815009424_9a34d332-2fb6-4f3f-beb0-d9817dc9b7cd]",
        "2019-01-15 05:15:18 - High risk software detected - (MSTICALERTSWIN1)  - [id:2518547714813699414_d12ed618-567b-4b8f-8241-82ad4c1cb28e]",
        "2019-01-15 05:15:19 - Possible credential dumping detected - (MSTICALERTSWIN1)  - [id:2518547714809416002_76bf04a5-71fa-487a-9742-d54941a7a194]",
        "2019-01-15 05:15:19 - Suspicious download using Certutil detected - (MSTICALERTSWIN1)  - [id:2518547714805546049_03e7bf17-8f77-42ca-8ac1-af8258f4d1ca]",
        "2019-01-15 09:15:03 - Suspicious Account Creation Detected - (MSTICALERTSWIN1)  - [id:2518547570966661760_526e34b6-6578-4fc0-9db6-e126b4d673f0]",
        "2019-01-15 09:15:07 - Potential attempt to bypass AppLocker detected - (MSTICALERTSWIN1)  - [id:2518547570924760670_9868ed7d-397e-4aa4-8dbd-5a1c5f736c1e]",
        "2019-01-15 09:15:10 - Suspiciously named process detected - (MSTICALERTSWIN1)  - [id:2518547570895430544_4ea6c432-6d20-4986-9679-ecf58ac4854d]",
        "2019-01-15 09:15:10 - Digital currency mining related behavior detected - (MSTICALERTSWIN1)  - [id:2518547570895430544_72351be4-ae78-4cc6-9f6a-1ff87c31baeb]",
        "2019-01-15 09:15:11 - Detected obfuscated command line. - (MSTICALERTSWIN1)  - [id:2518547570880067443_c1a9004f-7f64-4144-8ce0-8f76f9041703]",
        "2019-01-15 09:15:11 - Suspicious Powershell Activity Detected - (MSTICALERTSWIN1)  - [id:2518547570883109415_c762b0f7-a0f5-4dda-ab48-54b5ae6eade4]",
        "2019-01-15 09:15:11 - Suspicious Powershell Activity Detected - (MSTICALERTSWIN1)  - [id:2518547570884378777_92a2f884-5827-4fb6-acf8-b0087b76aa73]",
        "2019-01-15 09:15:11 - Suspicious Powershell Activity Detected - (MSTICALERTSWIN1)  - [id:2518547570881721037_4ca5c629-673c-4372-9bd3-ab7bf6d6e6f0]",
        "2019-01-15 09:15:12 - Suspicious Powershell Activity Detected - (MSTICALERTSWIN1)  - [id:2518547570876432155_ce7c7361-8ac9-47be-b8fb-7a87c87ee178]",
        "2019-01-15 09:15:13 - Suspicious system process executed - (nan)  - [id:2518547570865502616_9d5e263f-55d2-441f-acf4-bf569b4cd976]",
        "2019-01-15 09:15:13 - Executable found running from a suspicious location - (MSTICALERTSWIN1)  - [id:2518547570865502616_c6f3dea2-fe36-4e65-b161-1b1cd1104eb3]",
        "2019-01-15 09:15:13 - Suspicious WindowPosition registry value detected - (MSTICALERTSWIN1)  - [id:2518547570866947129_1b074412-133c-4ac9-8e3f-24103159b03e]",
        "2019-01-15 09:15:13 - Executable found running from a suspicious location - (MSTICALERTSWIN1)  - [id:2518547570860979996_bddac8c5-cba5-4da2-a6dd-c0a39fc2b256]",
        "2019-01-15 09:15:13 - Suspicious process executed - (MSTICALERTSWIN1)  - [id:2518547570862568702_029c9c95-c1fe-4419-bc3b-a6d832c87e65]",
        "2019-01-15 09:15:14 - Suspicious process executed - (MSTICALERTSWIN1)  - [id:2518547570851316041_43f7d8f3-fea5-4fca-a884-713c2d65203c]",
        "2019-01-15 09:15:14 - Detected anomalous mix of upper and lower case characters in command-line - (MSTICALERTSWIN1)  - [id:2518547570852901341_3ca6ca5a-8bf2-417f-b8c9-3cea37c84f4b]",
        "2019-01-15 09:15:16 - Suspicious double extension file executed - (nan)  - [id:2518547570836535349_c45bcb62-9d89-44e8-bea9-7a9e35205576]",
        "2019-01-15 09:15:16 - Rare SVCHOST service group executed - (nan)  - [id:2518547570834399134_26ccc2ad-8ce0-4f60-8215-18f99377b547]",
        "2019-01-15 09:15:16 - Suspicious Volume Shadow Copy Activity - (nan)  - [id:2518547570836431794_b9d79b27-d725-4a87-b7ec-6fc9ec591e8c]",
        "2019-01-15 09:15:16 - Azure Security Center test alert (not a threat) - (MSTICALERTSWIN1)  - [id:2518547570833725387_2df8ae94-03fe-4b9f-a3a9-f3c6dab95c05]",
        "2019-01-15 09:15:16 - Suspicious SVCHOST process executed - (nan)  - [id:2518547570835168086_117b7a02-d1d0-4cf2-bc04-0b19a796b4d3]",
        "2019-01-15 09:15:17 - Ransomware indicators detected - (MSTICALERTSWIN1)  - [id:2518547570821365949_48327b74-c904-402d-a1d8-2b3a882924e7]",
        "2019-01-15 09:15:17 - Detected Petya ransomware indicators - (MSTICALERTSWIN1)  - [id:2518547570821871899_e647375c-9979-47b5-9f78-f414a1aad26d]",
        "2019-01-15 11:45:00 - Suspicious Account Creation Detected - (MSTICALERTSWIN1)  - [id:2518547480991748435_836318d1-0fa0-4cfe-a3d0-2b1fdbaf2216]",
        "2019-01-15 11:45:01 - Suspiciously named process detected - (MSTICALERTSWIN1)  - [id:2518547480988516756_54bb943e-7fe9-4146-a43e-4064c8e0049f]",
        "2019-01-15 11:45:01 - Digital currency mining related behavior detected - (MSTICALERTSWIN1)  - [id:2518547480988516756_668ed54c-9e73-4d4f-a9c2-b88fd1b13db0]",
        "2019-01-15 11:45:01 - Potential attempt to bypass AppLocker detected - (MSTICALERTSWIN1)  - [id:2518547480989617678_f3490cf7-a303-4001-b7d6-8acf7e83f191]",
        "2019-01-15 11:45:01 - Suspicious Powershell Activity Detected - (MSTICALERTSWIN1)  - [id:2518547480982973701_24a6d6f3-acf1-41bd-a11f-01a1369bac02]",
        "2019-01-15 11:45:01 - Suspicious Powershell Activity Detected - (MSTICALERTSWIN1)  - [id:2518547480984263491_d46877bd-e04d-401a-99bd-eec2a6b25663]",
        "2019-01-15 11:45:01 - Detected obfuscated command line. - (MSTICALERTSWIN1)  - [id:2518547480982511513_adfabbe0-fce0-44f3-be4b-17283bd03bed]",
        "2019-01-15 11:45:01 - Suspicious Powershell Activity Detected - (MSTICALERTSWIN1)  - [id:2518547480980813134_5cb7ab95-6017-4031-afb2-e11518b0f5cc]",
        "2019-01-15 11:45:01 - Suspicious Powershell Activity Detected - (MSTICALERTSWIN1)  - [id:2518547480983467170_9da8e3df-9c3b-4e20-8bd0-ace00aff9def]",
        "2019-01-15 11:45:02 - Executable found running from a suspicious location - (MSTICALERTSWIN1)  - [id:2518547480975043692_7e663699-5412-496f-ac91-e21a7b6f0be5]",
        "2019-01-15 11:45:02 - Executable found running from a suspicious location - (MSTICALERTSWIN1)  - [id:2518547480977057409_ed9d92ac-0ab8-4a2e-a1dd-f70ee30a9af1]",
        "2019-01-15 11:45:02 - Suspicious WindowPosition registry value detected - (MSTICALERTSWIN1)  - [id:2518547480977469312_e9ff6947-fd12-42d2-bb63-2d814f04482a]",
        "2019-01-15 11:45:02 - Suspicious process executed - (MSTICALERTSWIN1)  - [id:2518547480976076338_2a106d12-acd8-4dd7-9e1c-3c20b4eaa320]",
        "2019-01-15 11:45:02 - Suspicious system process executed - (nan)  - [id:2518547480977057409_492fbb97-a1fc-4880-95d2-e55ab2f142b6]",
        "2019-01-15 11:45:02 - Detected anomalous mix of upper and lower case characters in command-line - (MSTICALERTSWIN1)  - [id:2518547480970182118_c0558adc-b4a9-4289-b9ad-7e7260f1cde0]",
        "2019-01-15 11:45:03 - Suspicious process executed - (MSTICALERTSWIN1)  - [id:2518547480968677354_88eb8a87-a876-46aa-b8ed-be7298929ea8]",
        "2019-01-15 11:45:04 - Random process name detected - (MSTICALERTSWIN1)  - [id:2518547480956885358_b66e93d7-b38b-4785-baa5-093edc18e649]",
        "2019-01-15 11:45:04 - Suspicious Volume Shadow Copy Activity - (nan)  - [id:2518547480955968326_fa350f8b-2c81-478c-a383-debe0ab0c892]",
        "2019-01-15 11:45:04 - Suspicious double extension file executed - (nan)  - [id:2518547480956378190_2b59c1d5-a815-4562-a8d4-36d9777e6546]",
        "2019-01-15 11:45:05 - Rare SVCHOST service group executed - (nan)  - [id:2518547480946682289_f83c0705-d2ff-4355-a25d-ae858ee39b2d]",
        "2019-01-15 11:45:05 - Suspicious SVCHOST process executed - (nan)  - [id:2518547480947565906_5c82cd9c-60f8-4056-bd39-8ccb2cdb7678]",
        "2019-01-15 11:45:05 - Azure Security Center test alert (not a threat) - (MSTICALERTSWIN1)  - [id:2518547480945920380_00d33245-c643-4155-8c05-6abc4ee3b3cd]",
        "2019-01-15 11:45:06 - Ransomware indicators detected - (MSTICALERTSWIN1)  - [id:2518547480937987105_ec1678a1-0fe8-44c5-91b5-621c40d2bb8c]",
        "2019-01-15 11:45:06 - Detected Petya ransomware indicators - (MSTICALERTSWIN1)  - [id:2518547480938543829_91a4f9a7-70ad-433b-a568-34314e3f467f]",
        "2019-01-15 13:15:10 - Suspiciously named process detected - (MSTICALERTSWIN1)  - [id:2518547426892072407_171b74b2-a431-4b55-8d69-128e5fb95329]",
        "2019-01-15 13:15:13 - Suspicious WindowPosition registry value detected - (MSTICALERTSWIN1)  - [id:2518547426863814510_75495c57-4fd6-4e27-b94c-c6f81f78bcb5]",
        "2019-01-15 13:15:13 - Suspicious system process executed - (nan)  - [id:2518547426862437699_184c075e-64ee-4901-bc37-6eb999e81a11]",
        "2019-01-15 13:15:14 - Suspicious process executed - (MSTICALERTSWIN1)  - [id:2518547426859453218_89d1850f-dccd-4d45-b194-650819d358d9]",
        "2019-01-15 13:15:14 - Executable found running from a suspicious location - (MSTICALERTSWIN1)  - [id:2518547426858055460_51b74398-40e2-4b1b-9d92-89c0004738c9]",
        "2019-01-15 13:15:15 - Suspicious process executed - (MSTICALERTSWIN1)  - [id:2518547426847947731_caa12d6c-4928-4787-90d4-cb27ff94373c]",
        "2019-01-15 13:15:16 - Suspicious SVCHOST process executed - (nan)  - [id:2518547426831794607_a513ab17-2b6a-4b1a-a925-a0b3c21ec38c]",
        "2019-01-15 13:15:16 - Rare SVCHOST service group executed - (nan)  - [id:2518547426830640211_88f9ae7a-e6b5-4b54-b967-08f3fc503d91]",
        "2019-01-15 13:15:16 - Suspicious Volume Shadow Copy Activity - (nan)  - [id:2518547426833434810_b6e594ea-16d3-480e-81a7-2f8fe3af64ba]",
        "2019-01-15 13:15:16 - Suspicious double extension file executed - (nan)  - [id:2518547426833838523_7b30c978-28d5-4a28-a4c2-0985f08ab1c6]",
        "2019-01-15 13:15:17 - Azure Security Center test alert (not a threat) - (MSTICALERTSWIN1)  - [id:2518547426829675756_846ec406-bb3e-451b-bf6f-9e1e17a69bd6]",
        "2019-01-15 13:15:18 - Ransomware indicators detected - (MSTICALERTSWIN1)  - [id:2518547426817428483_636ab38f-2528-4356-8602-d0910f8ac600]",
        "2019-01-15 13:15:18 - Detected Petya ransomware indicators - (MSTICALERTSWIN1)  - [id:2518547426817928329_a4aa878d-93b5-4cd1-931f-30f85b9e6db2]",
        "2019-01-15 17:15:03 - Suspicious Account Creation Detected - (MSTICALERTSWIN1)  - [id:2518547282966696689_3db7e1e7-2edc-4dd9-8c1d-d908f5b8a904]",
        "2019-01-15 17:15:10 - Potential attempt to bypass AppLocker detected - (MSTICALERTSWIN1)  - [id:2518547282896095305_82730ffa-b9ce-43f4-bf3c-a97113107cc5]",
        "2019-01-15 17:15:10 - Suspiciously named process detected - (MSTICALERTSWIN1)  - [id:2518547282892925953_0073e6d8-6c2e-42e4-8966-d1f5a3dd3517]",
        "2019-01-15 17:15:10 - Digital currency mining related behavior detected - (MSTICALERTSWIN1)  - [id:2518547282892925953_35c8d588-ddf7-46b5-a0bf-f47023f9343c]",
        "2019-01-15 17:15:11 - Suspicious Powershell Activity Detected - (MSTICALERTSWIN1)  - [id:2518547282880013417_d65aa787-e867-43b1-9182-025a1a38173a]",
        "2019-01-15 17:15:11 - Suspicious Powershell Activity Detected - (MSTICALERTSWIN1)  - [id:2518547282881581273_ed5bcf39-ffd3-468a-82e3-28e108d4f06f]",
        "2019-01-15 17:15:11 - Suspicious Powershell Activity Detected - (MSTICALERTSWIN1)  - [id:2518547282883193041_31ae6eeb-bd1d-4018-8df9-eeedd60bf1ab]",
        "2019-01-15 17:15:12 - Suspicious Powershell Activity Detected - (MSTICALERTSWIN1)  - [id:2518547282874783943_bd1a0865-a507-4e2b-b8df-613238a950df]",
        "2019-01-15 17:15:12 - Detected obfuscated command line. - (MSTICALERTSWIN1)  - [id:2518547282878855119_d89d1ab7-e5b7-426c-a98f-eab95deea3ad]",
        "2019-01-15 17:15:13 - Suspicious system process executed - (nan)  - [id:2518547282863799328_7e169933-4275-4b94-b37f-490417bcfc98]",
        "2019-01-15 17:15:13 - Suspicious WindowPosition registry value detected - (MSTICALERTSWIN1)  - [id:2518547282865194453_9895a5cc-6f49-45f5-a0eb-f05c1f11f264]",
        "2019-01-15 17:15:13 - Executable found running from a suspicious location - (MSTICALERTSWIN1)  - [id:2518547282863799328_84ea8dcd-9436-4b4d-82b2-36114028bd61]",
        "2019-01-15 17:15:14 - Suspicious process executed - (MSTICALERTSWIN1)  - [id:2518547282859754476_0c3ae402-a9ea-4d5c-9c09-4274b7847c2c]",
        "2019-01-15 17:15:14 - Detected anomalous mix of upper and lower case characters in command-line - (MSTICALERTSWIN1)  - [id:2518547282850984831_7f983018-fd59-4e9e-ba70-295f6beb0e9c]",
        "2019-01-15 17:15:14 - Executable found running from a suspicious location - (MSTICALERTSWIN1)  - [id:2518547282858353938_58851b10-8f5c-48f1-aade-b1529f4e2c7f]",
        "2019-01-15 17:15:15 - Suspicious process executed - (MSTICALERTSWIN1)  - [id:2518547282845656644_c7318da8-368f-47f8-bff5-e15600a3fb80]",
        "2019-01-15 17:15:17 - Suspicious double extension file executed - (nan)  - [id:2518547282825853773_e6c85135-2b91-4537-b9a0-dae7eabb8e9d]",
        "2019-01-15 17:15:17 - Suspicious Volume Shadow Copy Activity - (nan)  - [id:2518547282825448815_6a71b543-4832-4658-8467-825aeafbe031]",
        "2019-01-15 17:15:18 - Rare SVCHOST service group executed - (nan)  - [id:2518547282813841329_a7e8e8c1-4561-48ea-bf75-a22c7bfc2257]",
        "2019-01-15 17:15:18 - Azure Security Center test alert (not a threat) - (MSTICALERTSWIN1)  - [id:2518547282812706885_12ae1e22-347e-454c-ae0d-ebb48cdf189b]",
        "2019-01-15 17:15:18 - Suspicious SVCHOST process executed - (nan)  - [id:2518547282814913644_34cc156e-9179-44c4-bd60-89dd1812e9e7]",
        "2019-01-15 17:15:19 - Detected Petya ransomware indicators - (MSTICALERTSWIN1)  - [id:2518547282803821916_c76cdb6c-cea0-4b2b-9ab6-1442a5857ed8]",
        "2019-01-15 17:15:19 - Ransomware indicators detected - (MSTICALERTSWIN1)  - [id:2518547282802847718_4a524cc8-7613-4c42-93a9-8c1e466a4476]",
        "2019-01-15 21:18:10 - Suspicious Account Added - (nan)  - [id:cbdce694-666c-4844-a29c-e7f4b66e27d1]"
       ],
       "description": "Select alert :",
       "index": 0,
       "layout": "IPY_MODEL_1c608206d9434bd2aff155d997870885",
       "style": "IPY_MODEL_8b85e5b0ebfa4e8c8b92589622fef5c0"
      }
     },
     "9033e797157346c49d366377dd7b1ecf": {
      "model_module": "@jupyter-widgets/controls",
      "model_module_version": "1.5.0",
      "model_name": "HTMLModel",
      "state": {
       "layout": "IPY_MODEL_41f6a8baec434b8183b55876ddcb195e",
       "style": "IPY_MODEL_a16190df9f614c209507c4fd12a9358f",
       "value": "<h4>Set query time boundaries</h4>"
      }
     },
     "912858dc06ca41d2aa94e5c1b7d4ced7": {
      "model_module": "@jupyter-widgets/base",
      "model_module_version": "1.2.0",
      "model_name": "LayoutModel",
      "state": {}
     },
     "918d4afdea9145bab16df2f2d3f3a081": {
      "model_module": "@jupyter-widgets/base",
      "model_module_version": "1.2.0",
      "model_name": "LayoutModel",
      "state": {}
     },
     "932c6ac7d3724f6d8b6f84f1a1d97de8": {
      "model_module": "@jupyter-widgets/base",
      "model_module_version": "1.2.0",
      "model_name": "LayoutModel",
      "state": {}
     },
     "93f75b5b46aa40318484971235bad849": {
      "model_module": "@jupyter-widgets/controls",
      "model_module_version": "1.5.0",
      "model_name": "SliderStyleModel",
      "state": {
       "description_width": "initial"
      }
     },
     "945e0d5ebc314506aac7f9ec6dfde454": {
      "model_module": "@jupyter-widgets/controls",
      "model_module_version": "1.5.0",
      "model_name": "TextModel",
      "state": {
       "description": "Time (24hr)",
       "layout": "IPY_MODEL_b70e0fa6b50442209f4b09dc20524dce",
       "style": "IPY_MODEL_4c8a5bf1cb5b42de8bb15d989533bbe2",
       "value": "19:13:56.437039"
      }
     },
     "949c1d46ddb44f69a152493aa047499c": {
      "model_module": "@jupyter-widgets/base",
      "model_module_version": "1.2.0",
      "model_name": "LayoutModel",
      "state": {
       "height": "300px",
       "width": "95%"
      }
     },
     "94d734686e2b485db55084ad5fda9b12": {
      "model_module": "@jupyter-widgets/base",
      "model_module_version": "1.2.0",
      "model_name": "LayoutModel",
      "state": {}
     },
     "95a99ec934d74b129b1c5a680636022c": {
      "model_module": "@jupyter-widgets/controls",
      "model_module_version": "1.5.0",
      "model_name": "TextModel",
      "state": {
       "description": "Filter alerts by title:",
       "layout": "IPY_MODEL_a92f937abf054d32a224c9028a9f8a21",
       "style": "IPY_MODEL_1fe716215acf434caad779a1d2f2eb17"
      }
     },
     "95ca9870bb6e49419f399d4c3e871a50": {
      "model_module": "@jupyter-widgets/base",
      "model_module_version": "1.2.0",
      "model_name": "LayoutModel",
      "state": {}
     },
     "95e600efb00e4b50a614cfd459834991": {
      "model_module": "@jupyter-widgets/base",
      "model_module_version": "1.2.0",
      "model_name": "LayoutModel",
      "state": {}
     },
     "99e98487f7084c678b1640207927d121": {
      "model_module": "@jupyter-widgets/controls",
      "model_module_version": "1.5.0",
      "model_name": "HBoxModel",
      "state": {
       "children": [
        "IPY_MODEL_b7dab361dd244d35b76a2b17e8237e24",
        "IPY_MODEL_f4ee4649368e481ca0211fef04f01d0d"
       ],
       "layout": "IPY_MODEL_70dc28945fb14bb68c6a32ae8981ce77"
      }
     },
     "9a285c03336c41b2bca5483fc90c84ce": {
      "model_module": "@jupyter-widgets/controls",
      "model_module_version": "1.5.0",
      "model_name": "TextModel",
      "state": {
       "description": "Filter:",
       "layout": "IPY_MODEL_f6e6b0cd38bf4c9fa1e63588674e6418",
       "style": "IPY_MODEL_c07fdc75a20d44c7b26ff58b6a324c18"
      }
     },
     "9a3482788b0b4c4d9b26592de6c32ea1": {
      "model_module": "@jupyter-widgets/base",
      "model_module_version": "1.2.0",
      "model_name": "LayoutModel",
      "state": {}
     },
     "9cc81d0a8fcd4662b9779234d1121097": {
      "model_module": "@jupyter-widgets/controls",
      "model_module_version": "1.5.0",
      "model_name": "ProgressStyleModel",
      "state": {
       "description_width": ""
      }
     },
     "9e23290c05b64df28380598337a184ee": {
      "model_module": "@jupyter-widgets/controls",
      "model_module_version": "1.5.0",
      "model_name": "DescriptionStyleModel",
      "state": {
       "description_width": ""
      }
     },
     "a0cee0cd8b6d4b1086406cbe456fef32": {
      "model_module": "@jupyter-widgets/controls",
      "model_module_version": "1.5.0",
      "model_name": "TextModel",
      "state": {
       "description": "Filter:",
       "layout": "IPY_MODEL_d33adc9db91d43c49a489a10a1f14979",
       "style": "IPY_MODEL_1812e71289f843eda822913715620c0c"
      }
     },
     "a16190df9f614c209507c4fd12a9358f": {
      "model_module": "@jupyter-widgets/controls",
      "model_module_version": "1.5.0",
      "model_name": "DescriptionStyleModel",
      "state": {
       "description_width": ""
      }
     },
     "a1fc0fa737574daca35f73c3cb1552a7": {
      "model_module": "@jupyter-widgets/controls",
      "model_module_version": "1.5.0",
      "model_name": "TextModel",
      "state": {
       "description": "Filter:",
       "layout": "IPY_MODEL_95e600efb00e4b50a614cfd459834991",
       "style": "IPY_MODEL_600909862fa64fca90e35132c976b51b"
      }
     },
     "a3c817cc985949a388672006cf8e1377": {
      "model_module": "@jupyter-widgets/base",
      "model_module_version": "1.2.0",
      "model_name": "LayoutModel",
      "state": {}
     },
     "a451bccbca074f6697ecd56cdc3d25b0": {
      "model_module": "@jupyter-widgets/controls",
      "model_module_version": "1.5.0",
      "model_name": "TextModel",
      "state": {
       "description": "Filter alerts by title:",
       "layout": "IPY_MODEL_ca5dc492643849cca9a3fd4ea7542899",
       "style": "IPY_MODEL_5dd7337e49a34770b931ebce764aa5e5"
      }
     },
     "a51815a9163b40e596e4e34d8caa5a21": {
      "model_module": "@jupyter-widgets/controls",
      "model_module_version": "1.5.0",
      "model_name": "DescriptionStyleModel",
      "state": {
       "description_width": "initial"
      }
     },
     "a55071a3a5c64767a6225ab64f2deee1": {
      "model_module": "@jupyter-widgets/controls",
      "model_module_version": "1.5.0",
      "model_name": "DescriptionStyleModel",
      "state": {
       "description_width": "initial"
      }
     },
     "a569c7b1f1ad4da2a50f30462e6a91b0": {
      "model_module": "@jupyter-widgets/controls",
      "model_module_version": "1.5.0",
      "model_name": "DescriptionStyleModel",
      "state": {
       "description_width": "initial"
      }
     },
     "a73adde6bb35421191d7fe278cc888a6": {
      "model_module": "@jupyter-widgets/controls",
      "model_module_version": "1.5.0",
      "model_name": "DescriptionStyleModel",
      "state": {
       "description_width": ""
      }
     },
     "a7441d04e9cb4aff80c0eef643aaac53": {
      "model_module": "@jupyter-widgets/controls",
      "model_module_version": "1.5.0",
      "model_name": "TextModel",
      "state": {
       "description": "Query start time (UTC):",
       "layout": "IPY_MODEL_6fd4d979a255471e948da5053814c2fa",
       "style": "IPY_MODEL_b62d85a1dee640c1a368d903ee7de084",
       "value": "2020-06-07 19:13:56.217508"
      }
     },
     "a84c769522224b19bb2c0a7c8c0cc284": {
      "model_module": "@jupyter-widgets/controls",
      "model_module_version": "1.5.0",
      "model_name": "TextModel",
      "state": {
       "description": "Query end time (UTC) :  ",
       "layout": "IPY_MODEL_35efbab1418f4bee8ee3ab8942895bc8",
       "style": "IPY_MODEL_bd936033e720493ebd499abcacbfbd4e",
       "value": "2020-05-28 21:13:56.295512"
      }
     },
     "a8ffd301732f40ea9aaaa112c36178bf": {
      "model_module": "@jupyter-widgets/base",
      "model_module_version": "1.2.0",
      "model_name": "LayoutModel",
      "state": {
       "width": "10%"
      }
     },
     "a92f937abf054d32a224c9028a9f8a21": {
      "model_module": "@jupyter-widgets/base",
      "model_module_version": "1.2.0",
      "model_name": "LayoutModel",
      "state": {}
     },
     "a943f362f3034a569448fd3fa3d647ef": {
      "model_module": "@jupyter-widgets/base",
      "model_module_version": "1.2.0",
      "model_name": "LayoutModel",
      "state": {}
     },
     "a9b852e0071949828a109185eeb46fea": {
      "model_module": "@jupyter-widgets/controls",
      "model_module_version": "1.5.0",
      "model_name": "TextModel",
      "state": {
       "description": "Filter:",
       "layout": "IPY_MODEL_25e399692d9f416cbcfbc3e7509c0f12",
       "style": "IPY_MODEL_5d866745c0e343d989deff315d79e5bf"
      }
     },
     "ab726bcc1b6e476ebdd1ca358e3ba25c": {
      "model_module": "@jupyter-widgets/controls",
      "model_module_version": "1.5.0",
      "model_name": "HBoxModel",
      "state": {
       "children": [
        "IPY_MODEL_e62e5076296f4c9d858721c20893dab4",
        "IPY_MODEL_2115e2b86307455398fdba107efc8575",
        "IPY_MODEL_441026f8df1e42a4a4e3a1449ff7eea8"
       ],
       "layout": "IPY_MODEL_84c9d14250f840a094a5281ca22f43cc"
      }
     },
     "ad312e7f43a942ec91a4aa784d5c2533": {
      "model_module": "@jupyter-widgets/base",
      "model_module_version": "1.2.0",
      "model_name": "LayoutModel",
      "state": {}
     },
     "ae565229d307492cbd39770ea920d84d": {
      "model_module": "@jupyter-widgets/base",
      "model_module_version": "1.2.0",
      "model_name": "LayoutModel",
      "state": {}
     },
     "ae7819f979314bc0a3c03a1ff243e0a9": {
      "model_module": "@jupyter-widgets/base",
      "model_module_version": "1.2.0",
      "model_name": "LayoutModel",
      "state": {
       "height": "100px",
       "width": "50%"
      }
     },
     "b1a165a70fe94ff8af727201da25a0c6": {
      "model_module": "@jupyter-widgets/base",
      "model_module_version": "1.2.0",
      "model_name": "LayoutModel",
      "state": {
       "height": "100px",
       "width": "50%"
      }
     },
     "b2a335b7f2764a8d994376d8f6b44cec": {
      "model_module": "@jupyter-widgets/controls",
      "model_module_version": "1.5.0",
      "model_name": "HTMLModel",
      "state": {
       "layout": "IPY_MODEL_5e236b5e9e5e417094e0954d10d40449",
       "style": "IPY_MODEL_a73adde6bb35421191d7fe278cc888a6",
       "value": "<h4>Set query time boundaries</h4>"
      }
     },
     "b3cecd3212b14b519350bfb49b46596d": {
      "model_module": "@jupyter-widgets/controls",
      "model_module_version": "1.5.0",
      "model_name": "DescriptionStyleModel",
      "state": {
       "description_width": ""
      }
     },
     "b626cd1068ae442cb1d30926133eeee8": {
      "model_module": "@jupyter-widgets/controls",
      "model_module_version": "1.5.0",
      "model_name": "DescriptionStyleModel",
      "state": {
       "description_width": ""
      }
     },
     "b62d85a1dee640c1a368d903ee7de084": {
      "model_module": "@jupyter-widgets/controls",
      "model_module_version": "1.5.0",
      "model_name": "DescriptionStyleModel",
      "state": {
       "description_width": "initial"
      }
     },
     "b70e0fa6b50442209f4b09dc20524dce": {
      "model_module": "@jupyter-widgets/base",
      "model_module_version": "1.2.0",
      "model_name": "LayoutModel",
      "state": {}
     },
     "b79f1e90d7a24605a7d77ed87ef9c0c7": {
      "model_module": "@jupyter-widgets/controls",
      "model_module_version": "1.5.0",
      "model_name": "DescriptionStyleModel",
      "state": {
       "description_width": ""
      }
     },
     "b7dab361dd244d35b76a2b17e8237e24": {
      "model_module": "@jupyter-widgets/controls",
      "model_module_version": "1.5.0",
      "model_name": "IntProgressModel",
      "state": {
       "bar_style": "info",
       "description": "Progress:",
       "layout": "IPY_MODEL_932c6ac7d3724f6d8b6f84f1a1d97de8",
       "style": "IPY_MODEL_608a2314ef9c46d8a7d679382e4cf8ae",
       "value": 100
      }
     },
     "b82ac6a97a93459e961054429ac63bbe": {
      "model_module": "@jupyter-widgets/controls",
      "model_module_version": "1.5.0",
      "model_name": "ButtonModel",
      "state": {
       "description": "⇽ Remove",
       "layout": "IPY_MODEL_8e5cf33477d24f71aaae8fd87b869d74",
       "style": "IPY_MODEL_26864270c0fe44d8aeb676da54020b81"
      }
     },
     "ba1777746b624d2c80f26e0dba131fae": {
      "model_module": "@jupyter-widgets/controls",
      "model_module_version": "1.5.0",
      "model_name": "TextModel",
      "state": {
       "description": "Time (24hr)",
       "layout": "IPY_MODEL_6c0a4165483a4078a619a692a09a2b12",
       "style": "IPY_MODEL_e24a1c904d7347728423e6a37f8af399",
       "value": "19:13:56.217508"
      }
     },
     "ba819ce52e1c40ab837ecf2f763d2bd9": {
      "model_module": "@jupyter-widgets/controls",
      "model_module_version": "1.5.0",
      "model_name": "HBoxModel",
      "state": {
       "children": [
        "IPY_MODEL_ed02175275a2444996d99dc0132a8ee9",
        "IPY_MODEL_d65367cdaa624cd4ad8611e60a7835fc"
       ],
       "layout": "IPY_MODEL_e7794012afce427b8c1044490502ef63"
      }
     },
     "bb498a9ffb4140b09d3bf83ec1961bb1": {
      "model_module": "@jupyter-widgets/base",
      "model_module_version": "1.2.0",
      "model_name": "LayoutModel",
      "state": {}
     },
     "bb69a9ad71ca49e9947a791c346bef00": {
      "model_module": "@jupyter-widgets/controls",
      "model_module_version": "1.5.0",
      "model_name": "IntRangeSliderModel",
      "state": {
       "_model_name": "IntRangeSliderModel",
       "_view_name": "IntRangeSliderView",
       "description": "Time Range (hour):",
       "layout": "IPY_MODEL_8f2d9f17c5744a43af94e3ba1560873c",
       "max": 1,
       "min": -20,
       "style": "IPY_MODEL_6b2c064cc752433bb7b44a66dbb24fa6",
       "value": [
        -1,
        1
       ]
      }
     },
     "bd936033e720493ebd499abcacbfbd4e": {
      "model_module": "@jupyter-widgets/controls",
      "model_module_version": "1.5.0",
      "model_name": "DescriptionStyleModel",
      "state": {
       "description_width": "initial"
      }
     },
     "be11f0ad5c2a41c7b9a34a95a6f4864f": {
      "model_module": "@jupyter-widgets/controls",
      "model_module_version": "1.5.0",
      "model_name": "TextModel",
      "state": {
       "description": "Query end time (UTC) :  ",
       "layout": "IPY_MODEL_42b719c63b5e48fe9d890fc02620af07",
       "style": "IPY_MODEL_48c613879ea2499ebf61984e30fdb726",
       "value": "2020-06-12 20:13:56.437039"
      }
     },
     "be137b0303f34ed59fceaee5e796dd31": {
      "model_module": "@jupyter-widgets/controls",
      "model_module_version": "1.5.0",
      "model_name": "DescriptionStyleModel",
      "state": {
       "description_width": "initial"
      }
     },
     "bf609e8769604507bb418ebbf54936ab": {
      "model_module": "@jupyter-widgets/base",
      "model_module_version": "1.2.0",
      "model_name": "LayoutModel",
      "state": {}
     },
     "c07fdc75a20d44c7b26ff58b6a324c18": {
      "model_module": "@jupyter-widgets/controls",
      "model_module_version": "1.5.0",
      "model_name": "DescriptionStyleModel",
      "state": {
       "description_width": "initial"
      }
     },
     "c11dcf85f3b5471dadd1e2e190f772cf": {
      "model_module": "@jupyter-widgets/controls",
      "model_module_version": "1.5.0",
      "model_name": "VBoxModel",
      "state": {
       "children": [
        "IPY_MODEL_db0e8a5eb9844df086dda9ef29c94de9",
        "IPY_MODEL_fbf9d5d697c94465890d4c7a5c19f018"
       ],
       "layout": "IPY_MODEL_642a70eb0206464786f3f1b93a593615"
      }
     },
     "c13125efe82b457583f84c9baf422b84": {
      "model_module": "@jupyter-widgets/controls",
      "model_module_version": "1.5.0",
      "model_name": "SelectMultipleModel",
      "state": {
       "description": "Selected: ",
       "index": [],
       "layout": "IPY_MODEL_e02a25d2ce354019a78eafa243a93bc4",
       "rows": 5,
       "style": "IPY_MODEL_9e23290c05b64df28380598337a184ee"
      }
     },
     "c157a8e9f6ff4fcdae87bf534fdac0ac": {
      "model_module": "@jupyter-widgets/base",
      "model_module_version": "1.2.0",
      "model_name": "LayoutModel",
      "state": {}
     },
     "c179f898fb3c42679c4c8aa4cbd0fb0b": {
      "model_module": "@jupyter-widgets/controls",
      "model_module_version": "1.5.0",
      "model_name": "TextModel",
      "state": {
       "description": "Filter:",
       "layout": "IPY_MODEL_2e365231c5c34cfb9db03194e28e61f4",
       "style": "IPY_MODEL_14ba34f8563d4cc990408fff61e5b3f2"
      }
     },
     "c1e5f6f28b6641e4906f954e45701465": {
      "model_module": "@jupyter-widgets/controls",
      "model_module_version": "1.5.0",
      "model_name": "DescriptionStyleModel",
      "state": {
       "description_width": "initial"
      }
     },
     "c29656c3376d45b0a18f996fb72133ed": {
      "model_module": "@jupyter-widgets/controls",
      "model_module_version": "1.5.0",
      "model_name": "TextModel",
      "state": {
       "description": "Query end time (UTC) :  ",
       "layout": "IPY_MODEL_ec108e0a02d1415884e31347e397d88c",
       "style": "IPY_MODEL_508de392a84f441191d36389ed838f55",
       "value": "2020-06-13 19:13:56.217508"
      }
     },
     "c2d3bb215600446882ef674e07d101b0": {
      "model_module": "@jupyter-widgets/base",
      "model_module_version": "1.2.0",
      "model_name": "LayoutModel",
      "state": {}
     },
     "c35fc8b0ab6248e39edf23a0322af835": {
      "model_module": "@jupyter-widgets/base",
      "model_module_version": "1.2.0",
      "model_name": "LayoutModel",
      "state": {}
     },
     "c5184c4097d14a4fbad60c9cc914c682": {
      "model_module": "@jupyter-widgets/controls",
      "model_module_version": "1.5.0",
      "model_name": "VBoxModel",
      "state": {
       "children": [
        "IPY_MODEL_6f7a02cba7ad49a18c6f4c77feb54b05",
        "IPY_MODEL_f6aa78b6acfb46298abcfd8e704dbe17",
        "IPY_MODEL_be11f0ad5c2a41c7b9a34a95a6f4864f"
       ],
       "layout": "IPY_MODEL_a3c817cc985949a388672006cf8e1377"
      }
     },
     "c5807dcba0c24ed182db51dfb7a4c1f8": {
      "model_module": "@jupyter-widgets/controls",
      "model_module_version": "1.5.0",
      "model_name": "VBoxModel",
      "state": {
       "children": [
        "IPY_MODEL_0bb85c6a880b48cb9be750da806876c2",
        "IPY_MODEL_3384926f5f45432a8e37912aa043d0aa"
       ],
       "layout": "IPY_MODEL_2c0e6550e8ee43cc9fc45f6e6a7843ca"
      }
     },
     "c6d79722e0e546848e41b521243f92f9": {
      "model_module": "@jupyter-widgets/controls",
      "model_module_version": "1.5.0",
      "model_name": "IntRangeSliderModel",
      "state": {
       "_model_name": "IntRangeSliderModel",
       "_view_name": "IntRangeSliderView",
       "description": "Time Range (hour):",
       "layout": "IPY_MODEL_14655716cb5446f4a43ed85ea6ff2362",
       "max": 2,
       "min": -20,
       "style": "IPY_MODEL_93f75b5b46aa40318484971235bad849",
       "value": [
        -4,
        2
       ]
      }
     },
     "c7f8b858c69d47f7904b3bdeb11db572": {
      "model_module": "@jupyter-widgets/base",
      "model_module_version": "1.2.0",
      "model_name": "LayoutModel",
      "state": {}
     },
     "c87e23db5d564065a7520f688a8a7a5c": {
      "model_module": "@jupyter-widgets/controls",
      "model_module_version": "1.5.0",
      "model_name": "DescriptionStyleModel",
      "state": {
       "description_width": "initial"
      }
     },
     "c8988196513c47d8807436cf196b5066": {
      "model_module": "@jupyter-widgets/controls",
      "model_module_version": "1.5.0",
      "model_name": "VBoxModel",
      "state": {
       "children": [
        "IPY_MODEL_95a99ec934d74b129b1c5a680636022c",
        "IPY_MODEL_0bed31eacbe14555bd0463368ef988de"
       ],
       "layout": "IPY_MODEL_f5d2d9b145f44c85a7007e2190c78dce"
      }
     },
     "c91ef62404ee44109259502e1b5c5120": {
      "model_module": "@jupyter-widgets/base",
      "model_module_version": "1.2.0",
      "model_name": "LayoutModel",
      "state": {
       "height": "100px",
       "width": "50%"
      }
     },
     "c9ffae77fa0a4155aef00b74e0dee0cd": {
      "model_module": "@jupyter-widgets/controls",
      "model_module_version": "1.5.0",
      "model_name": "IntRangeSliderModel",
      "state": {
       "_model_name": "IntRangeSliderModel",
       "_view_name": "IntRangeSliderView",
       "description": "Time Range (day):",
       "layout": "IPY_MODEL_740f03ef81e74540afaf143400116b2c",
       "max": 1,
       "min": -20,
       "style": "IPY_MODEL_e066bc0e643847a8ad0458ac8975b9e7",
       "value": [
        -5,
        1
       ]
      }
     },
     "ca454163fc0e48d8b71c6f64400b8665": {
      "model_module": "@jupyter-widgets/base",
      "model_module_version": "1.2.0",
      "model_name": "LayoutModel",
      "state": {}
     },
     "ca5dc492643849cca9a3fd4ea7542899": {
      "model_module": "@jupyter-widgets/base",
      "model_module_version": "1.2.0",
      "model_name": "LayoutModel",
      "state": {}
     },
     "cc04dc6778494d3fb21bdbce0165989d": {
      "model_module": "@jupyter-widgets/base",
      "model_module_version": "1.2.0",
      "model_name": "LayoutModel",
      "state": {}
     },
     "ce44afe37aaa42e49d03861a08c481b9": {
      "model_module": "@jupyter-widgets/controls",
      "model_module_version": "1.5.0",
      "model_name": "DatePickerModel",
      "state": {
       "description": "Origin Date",
       "disabled": false,
       "layout": "IPY_MODEL_1ed201285a6045ad8d7f80e8a8a3ecc5",
       "style": "IPY_MODEL_18aa8d6f58154cfcb3eb5315938664b7",
       "value": {
        "date": 28,
        "month": 4,
        "year": 2020
       }
      }
     },
     "ceafcdc94ab04bce856715bdbb43fb76": {
      "model_module": "@jupyter-widgets/controls",
      "model_module_version": "1.5.0",
      "model_name": "DescriptionStyleModel",
      "state": {
       "description_width": "initial"
      }
     },
     "cf6c9324e51347eb9d15a112f861264a": {
      "model_module": "@jupyter-widgets/controls",
      "model_module_version": "1.5.0",
      "model_name": "SelectModel",
      "state": {
       "_options_labels": [
        "2018-12-30 00:02:00 - Network communication with a malicious machine detected - (nan)  - [id:a511e1bb-69e1-41a2-8054-c6fcb6aa2362]",
        "2019-01-01 00:02:00 - Possible compromised machine detected - (nan)  - [id:62ded865-938b-4bb3-afef-605d692607f1]",
        "2019-01-01 00:02:00 - An event log was cleared - (nan)  - [id:48facfa1-fe35-45ff-8c91-7a710cd462b9]",
        "2019-01-03 00:02:00 - Suspicious process executed - (nan)  - [id:a32adc3f-43f7-4e5d-b833-98baa71c2f51]",
        "2019-01-03 00:02:00 - Suspicious double extension file executed - (nan)  - [id:112dc225-bc2d-4328-97fd-a99e0b000b1f]",
        "2019-01-05 01:02:00 - SQL injection blocked - (nan)  - [id:0c68e539-f060-401f-b967-6b64b8f49198]",
        "2019-01-05 02:02:00 - Failed RDP Brute Force Attack - (nan)  - [id:8832e816-d634-4214-bb48-7a6678fdf0b7]",
        "2019-01-06 02:02:00 - Successful RDP brute force attack - (nan)  - [id:3b2b5ecc-ec29-4703-9450-29b29b937fd8]",
        "2019-01-06 03:02:00 - Suspicious SVCHOST process executed - (nan)  - [id:614ae18e-cd79-4d4c-97dc-24431be12b5b]",
        "2019-01-06 04:02:00 - Multiple Domain Accounts Queried - (vm1)  - [id:7b27ffab-7204-4856-a013-908de6c1804e]",
        "2019-01-06 05:02:00 - Network communication with a malicious machine detected - (nan)  - [id:98a6dea6-1b64-41d0-938e-0dec24b234ec]",
        "2019-01-07 05:02:00 - Modified system binary discovered in dump file 5bd767e4-2d08-4714-b744-aaed04b57107__391365252.hdmp - (nan)  - [id:775505ce-0ef9-4945-b697-303f7666d1b6]",
        "2019-01-08 05:02:00 - Possible outgoing spam activity detected - (vm1lin)  - [id:28f9b83a-33e6-44da-a002-0f48bff46a67]",
        "2019-01-09 05:02:00 - Deep Security Agent detected a malware - (nan)  - [id:5fc4f6a0-0687-4b93-998e-a230af39c10b]",
        "2019-01-09 05:38:06 - Global domain trust creation - Demo - (nan)  - [id:9740fe80-b642-4a38-8e86-05fa4d35508b]",
        "2019-01-09 06:25:57 - Maliciuos IP communication - (nan)  - [id:04e14d6f-6d4f-46d4-a5f6-2a26bcd34ce8]",
        "2019-01-09 06:31:40 - DC local group addition - Demo - (nan)  - [id:ace7fb98-ef96-46df-ba7b-9a15a141d368]",
        "2019-01-09 06:31:42 - Palo Alto admin logged on via SSH - Demo - (nan)  - [id:40a5916b-9697-423a-a5e4-95cca7c735e7]",
        "2019-01-09 06:33:55 - DC with MS AM engine failure - Demo - (nan)  - [id:78cc7e02-6116-459d-9cdc-a6dcc40ba937]",
        "2019-01-10 05:02:00 - Potential SQL Injection - (nan)  - [id:5365ee7a-f730-42d2-bcdf-b2e898ab98d7]",
        "2019-01-10 05:38:06 - Global domain trust creation - Demo - (nan)  - [id:401f2680-cc05-4e6f-a1f6-69cff2055cd9]",
        "2019-01-10 06:25:57 - Maliciuos IP communication - (nan)  - [id:b5786d68-7f5e-4be1-92e6-e255010d1d8c]",
        "2019-01-10 06:31:40 - DC local group addition - Demo - (nan)  - [id:01659bf1-1228-4e46-b73b-e7d173d365eb]",
        "2019-01-10 06:31:42 - Palo Alto admin logged on via SSH - Demo - (nan)  - [id:0ce6ad61-302a-4142-8eaa-4da9dfad9ca9]",
        "2019-01-10 06:33:55 - DC with MS AM engine failure - Demo - (nan)  - [id:df9f92cb-6fd2-469b-9b72-28f128df1adf]",
        "2019-01-10 19:18:10 - Suspicious Account Added - (nan)  - [id:b3f02c05-e844-4161-81d6-d736548d91ae]",
        "2019-01-11 05:38:06 - Global domain trust creation - Demo - (nan)  - [id:6b56aa8c-da76-4caf-b09d-8706292a8b89]",
        "2019-01-11 06:25:57 - Maliciuos IP communication - (nan)  - [id:4586bd9e-5c1e-4229-9a01-ecd84ad51448]",
        "2019-01-11 06:31:40 - DC local group addition - Demo - (nan)  - [id:047f47d6-79b7-4502-824b-97abc4905a73]",
        "2019-01-11 06:31:42 - Palo Alto admin logged on via SSH - Demo - (nan)  - [id:2d06cb42-bdff-426d-8091-ccc151bcbc94]",
        "2019-01-11 06:33:55 - DC with MS AM engine failure - Demo - (nan)  - [id:412ca580-63c8-4fd2-87e4-87b1ba4260b3]",
        "2019-01-11 19:18:10 - Suspicious Account Added - (nan)  - [id:42a8b425-1c41-4355-8343-18ad563c43b6]",
        "2019-01-12 05:38:06 - Global domain trust creation - Demo - (nan)  - [id:bc44b302-78c7-4be8-bf70-d39d6935fd74]",
        "2019-01-12 06:25:57 - Maliciuos IP communication - (nan)  - [id:c76f17e2-e739-4e7e-bf17-4dd163fc831f]",
        "2019-01-12 06:31:40 - DC local group addition - Demo - (nan)  - [id:07be11df-3dbf-49a5-8b5a-dcea75d89993]",
        "2019-01-12 06:31:42 - Palo Alto admin logged on via SSH - Demo - (nan)  - [id:09ec519f-96b0-4332-be30-b0379c8cbd04]",
        "2019-01-12 06:33:55 - DC with MS AM engine failure - Demo - (nan)  - [id:6a7aaa2e-a575-4e8b-87ed-0d964bf1005e]",
        "2019-01-12 19:18:10 - Suspicious Account Added - (nan)  - [id:d4638075-fed2-4031-8e52-d37c220b0fe4]",
        "2019-01-13 05:38:06 - Global domain trust creation - Demo - (nan)  - [id:5d733fc8-ff32-436d-a595-beaf8943bd63]",
        "2019-01-13 06:25:57 - Maliciuos IP communication - (nan)  - [id:54a8f6d8-f69b-4872-96f8-ef274d5fc8d4]",
        "2019-01-13 06:31:40 - DC local group addition - Demo - (nan)  - [id:47445dca-b87d-45f5-9073-b713e3c69a56]",
        "2019-01-13 06:31:42 - Palo Alto admin logged on via SSH - Demo - (nan)  - [id:45176796-d3f9-40ce-a8f2-aba9bb3c8063]",
        "2019-01-13 06:33:55 - DC with MS AM engine failure - Demo - (nan)  - [id:985be534-6f40-4b0c-a951-8f3915eacd61]",
        "2019-01-13 19:18:10 - Suspicious Account Added - (nan)  - [id:790217fc-9597-4159-b469-bb383c747435]",
        "2019-01-14 05:38:06 - Global domain trust creation - Demo - (nan)  - [id:fbaf48de-152a-4aa6-8a69-902b219bf972]",
        "2019-01-14 06:25:57 - Maliciuos IP communication - (nan)  - [id:1828afac-b4c2-41d9-acbd-7d23b7219557]",
        "2019-01-14 06:31:40 - DC local group addition - Demo - (nan)  - [id:b34d24c9-2223-4887-af93-7598abf28763]",
        "2019-01-14 06:31:42 - Palo Alto admin logged on via SSH - Demo - (nan)  - [id:9442245d-eaf6-47c5-b715-1c16b2c54fc4]",
        "2019-01-14 06:33:55 - DC with MS AM engine failure - Demo - (nan)  - [id:edc4065d-886f-4aff-b17d-f1397ce4baec]",
        "2019-01-14 21:18:10 - Suspicious Account Added - (nan)  - [id:1cca38a9-e0c5-4165-a78d-491ca2641c1c]",
        "2019-01-15 05:15:03 - Suspicious Account Creation Detected - (MSTICALERTSWIN1)  - [id:2518547714966107270_3c380601-b5ad-4fff-9cdb-24528a3a19fd]",
        "2019-01-15 05:15:03 - Anomalous account creation detected - (nan)  - [id:2518547714966107270_90beedae-1285-43d6-8f33-16bc542af39b]",
        "2019-01-15 05:15:10 - Potential attempt to bypass AppLocker detected - (MSTICALERTSWIN1)  - [id:2518547714892475358_9e449abd-e67b-4ec8-a191-e688d7d63e26]",
        "2019-01-15 05:15:11 - Detected decoding of an executable using built-in certutil.exe tool - (MSTICALERTSWIN1)  - [id:2518547714882331861_5c56421d-d894-4437-9b9a-a3b5c6b7e1df]",
        "2019-01-15 05:15:11 - Detected suspicious credentials in commandline - (MSTICALERTSWIN1)  - [id:2518547714880519889_9d6d471a-c94f-4706-b0ff-b2f0301495aa]",
        "2019-01-15 05:15:11 - Digital currency mining related behavior detected - (MSTICALERTSWIN1)  - [id:2518547714887413669_4fa0022e-f431-4ba1-ae5f-ee23247e0853]",
        "2019-01-15 05:15:11 - Suspiciously named process detected - (MSTICALERTSWIN1)  - [id:2518547714887413669_1c680842-2a1d-40c0-a6e4-32e5dd144647]",
        "2019-01-15 05:15:11 - Detected encoded executable in command line data - (MSTICALERTSWIN1)  - [id:2518547714885867955_290559aa-a3d0-425b-8ed2-e98ccc9f0aa0]",
        "2019-01-15 05:15:12 - Detected suspicious commandline arguments - (MSTICALERTSWIN1)  - [id:2518547714879317674_226cc394-fccf-483d-888a-beafad2ed4a4]",
        "2019-01-15 05:15:12 - Detected suspicious document credentials - (MSTICALERTSWIN1)  - [id:2518547714879970078_b080127b-d5c1-425e-a7ca-e4bbd873009d]",
        "2019-01-15 05:15:12 - Detected obfuscated command line. - (MSTICALERTSWIN1)  - [id:2518547714871530079_77211491-86de-4295-82bc-38e332fe1112]",
        "2019-01-15 05:15:12 - Suspicious powershell cmdlets executed - (MSTICALERTSWIN1)  - [id:2518547714874872692_3eb0eb4b-0536-430c-8ab6-cd48524c14b1]",
        "2019-01-15 05:15:12 - Suspicious Powershell Activity Detected - (MSTICALERTSWIN1)  - [id:2518547714874872692_30d988ff-b8d9-45df-8217-e56b0d4d591c]",
        "2019-01-15 05:15:12 - Suspicious Powershell Activity Detected - (MSTICALERTSWIN1)  - [id:2518547714873290756_df1b9eb2-05c4-4f7c-8540-cbb18ec5c608]",
        "2019-01-15 05:15:12 - Suspicious Powershell Activity Detected - (MSTICALERTSWIN1)  - [id:2518547714876077067_953def48-a24b-42a9-bd02-7221be90f84a]",
        "2019-01-15 05:15:13 - Suspicious Powershell Activity Detected - (MSTICALERTSWIN1)  - [id:2518547714867787710_76336679-bddf-460f-90fb-35a1386de7a6]",
        "2019-01-15 05:15:14 - Executable found running from a suspicious location - (MSTICALERTSWIN1)  - [id:2518547714857061520_f4324711-aeae-4912-a634-331b7e7456b6]",
        "2019-01-15 05:15:14 - Suspicious system process executed - (nan)  - [id:2518547714857061520_28f9a2e6-1925-455e-ad97-7af7f92f521d]",
        "2019-01-15 05:15:14 - Suspicious WindowPosition registry value detected - (MSTICALERTSWIN1)  - [id:2518547714858429362_9bfd0e4b-ec93-46bb-8eea-f72e8f1262f1]",
        "2019-01-15 05:15:14 - Suspicious process executed - (MSTICALERTSWIN1)  - [id:2518547714854375707_e2a60bd1-d7c8-466d-a176-4333d4e0d1d5]",
        "2019-01-15 05:15:14 - Detected suspicious named pipe communications - (MSTICALERTSWIN1)  - [id:2518547714859677078_9b4e4942-d564-4755-862c-7171d52921e3]",
        "2019-01-15 05:15:14 - Executable found running from a suspicious location - (MSTICALERTSWIN1)  - [id:2518547714853062206_f9ddd8b3-5fa8-4f2f-b811-bdca90091195]",
        "2019-01-15 05:15:15 - Detected change to a registry key that can be abused to bypass UAC - (MSTICALERTSWIN1)  - [id:2518547714844291280_8f71e695-ba9b-4c97-9770-63cdeb34b7b4]",
        "2019-01-15 05:15:15 - Detected anomalous mix of upper and lower case characters in command-line - (MSTICALERTSWIN1)  - [id:2518547714844457503_55cd3e12-3a91-4b06-9be6-833df3365142]",
        "2019-01-15 05:15:15 - Detected suspicious use of FTP -s Switch - (MSTICALERTSWIN1)  - [id:2518547714843218505_265472ff-3820-4dad-8da7-00e39e1a99fd]",
        "2019-01-15 05:15:15 - Sticky keys attack detected - (MSTICALERTSWIN1)  - [id:2518547714843796759_b3737297-038c-4514-a957-d591384b4256]",
        "2019-01-15 05:15:15 - Suspicious process executed - (MSTICALERTSWIN1)  - [id:2518547714842732992_ad5981a5-fdcc-406a-8742-e50bd7f84917]",
        "2019-01-15 05:15:16 - Detected suspicious new firewall rule - (MSTICALERTSWIN1)  - [id:2518547714839319574_33edaa83-fe35-47de-9486-fc9792c5b65b]",
        "2019-01-15 05:15:16 - Detected suspicious execution via rundll32.exe - (MSTICALERTSWIN1)  - [id:2518547714834806864_4bb2ecc3-f4aa-40cd-a3d7-802fc9086e89]",
        "2019-01-15 05:15:16 - Detected suspicious execution via rundll32.exe - (MSTICALERTSWIN1)  - [id:2518547714835690929_8e73946b-ebea-4625-aa60-d97b82dcfb07]",
        "2019-01-15 05:15:16 - Detected possible local reconnaissance activity - (MSTICALERTSWIN1)  - [id:2518547714837217151_f0d023fb-376f-46ab-9976-a5825d826bea]",
        "2019-01-15 05:15:16 - Detected suspicious Set-ExecutionPolicy and WinRM changes - (MSTICALERTSWIN1)  - [id:2518547714832788202_b56b9e61-fefb-47a3-a34f-7c1b44f8268a]",
        "2019-01-15 05:15:16 - Detected suspicious commandline used to start all executables in a directory - (MSTICALERTSWIN1)  - [id:2518547714833232927_0e8db234-9727-41f3-a6e0-0773519603d2]",
        "2019-01-15 05:15:16 - Detected potentially suspicious use of Telegram tool - (MSTICALERTSWIN1)  - [id:2518547714833859291_4fa26308-1daf-49ee-8880-b194f950d8b0]",
        "2019-01-15 05:15:16 - Suspected Kerberos Golden Ticket attack parameters observed - (MSTICALERTSWIN1)  - [id:2518547714838326136_e776fca2-4c01-43eb-ab97-b9845af3529c]",
        "2019-01-15 05:15:16 - Detected actions indicative of disabling and deleting IIS log files. - (MSTICALERTSWIN1)  - [id:2518547714831067013_8df27789-fb10-4035-ac48-cd0883b2e6b0]",
        "2019-01-15 05:15:17 - Azure Security Center test alert (not a threat) - (MSTICALERTSWIN1)  - [id:2518547714824290520_b2d9be9f-58e2-4174-8658-419670393253]",
        "2019-01-15 05:15:17 - Suspicious SVCHOST process executed - (nan)  - [id:2518547714825902697_fcbb6bb7-4c7c-488e-903c-f625e98db7c4]",
        "2019-01-15 05:15:17 - Random process name detected - (MSTICALERTSWIN1)  - [id:2518547714829244584_9984a237-2dd7-4932-bb8d-23ca535a6254]",
        "2019-01-15 05:15:17 - Rare SVCHOST service group executed - (nan)  - [id:2518547714825070946_58694b54-2bee-4160-9595-30903b466f6e]",
        "2019-01-15 05:15:17 - Suspicious double extension file executed - (nan)  - [id:2518547714828736209_2b2ff728-1a2a-46e8-a49a-6991e074a740]",
        "2019-01-15 05:15:17 - Suspicious Volume Shadow Copy Activity - (nan)  - [id:2518547714828638992_6c6836bb-23cd-4b31-b78e-08360c5a4f83]",
        "2019-01-15 05:15:18 - Detected suspicious execution of VBScript.Encode command - (MSTICALERTSWIN1)  - [id:2518547714811804858_5b42a152-64c2-4f16-8cc3-887b8b0161fc]",
        "2019-01-15 05:15:18 - Detected suspicious file cleanup commands - (MSTICALERTSWIN1)  - [id:2518547714814450855_c0822e2b-785b-41a8-8136-21b7430a0078]",
        "2019-01-15 05:15:18 - Detected Petya ransomware indicators - (MSTICALERTSWIN1)  - [id:2518547714812938298_fa4939d4-a20c-440a-839c-89c0c43e1ccc]",
        "2019-01-15 05:15:18 - Detected suspicious file creation - (MSTICALERTSWIN1)  - [id:2518547714816637303_3252483f-2fdb-411a-93f5-e268d5e56abf]",
        "2019-01-15 05:15:18 - Detected suspicious use of Pcalua.exe to launch executable code - (MSTICALERTSWIN1)  - [id:2518547714811337754_ad1fd62a-9565-41e4-b94a-6264942033f6]",
        "2019-01-15 05:15:18 - Detected possible execution of keygen executable - (MSTICALERTSWIN1)  - [id:2518547714814533914_38d53571-e98a-4bb6-a17f-0361a561019e]",
        "2019-01-15 05:15:18 - Detected suspicious use of Cacls to lower the security state of the system. - (MSTICALERTSWIN1)  - [id:2518547714815952205_1ba5718e-529b-441b-8036-ad06ee862e76]",
        "2019-01-15 05:15:18 - Detected the disabling of critical services - (MSTICALERTSWIN1)  - [id:2518547714813299511_a5df127a-f7e8-44ff-b404-6d5b37d06488]",
        "2019-01-15 05:15:18 - Ransomware indicators detected - (MSTICALERTSWIN1)  - [id:2518547714812286467_d5e026fa-6687-495e-878d-c4c93477cc78]",
        "2019-01-15 05:15:18 - Detected possible execution of malware dropper - (MSTICALERTSWIN1)  - [id:2518547714815009424_9a34d332-2fb6-4f3f-beb0-d9817dc9b7cd]",
        "2019-01-15 05:15:18 - High risk software detected - (MSTICALERTSWIN1)  - [id:2518547714813699414_d12ed618-567b-4b8f-8241-82ad4c1cb28e]",
        "2019-01-15 05:15:19 - Possible credential dumping detected - (MSTICALERTSWIN1)  - [id:2518547714809416002_76bf04a5-71fa-487a-9742-d54941a7a194]",
        "2019-01-15 05:15:19 - Suspicious download using Certutil detected - (MSTICALERTSWIN1)  - [id:2518547714805546049_03e7bf17-8f77-42ca-8ac1-af8258f4d1ca]",
        "2019-01-15 09:15:03 - Suspicious Account Creation Detected - (MSTICALERTSWIN1)  - [id:2518547570966661760_526e34b6-6578-4fc0-9db6-e126b4d673f0]",
        "2019-01-15 09:15:07 - Potential attempt to bypass AppLocker detected - (MSTICALERTSWIN1)  - [id:2518547570924760670_9868ed7d-397e-4aa4-8dbd-5a1c5f736c1e]",
        "2019-01-15 09:15:10 - Suspiciously named process detected - (MSTICALERTSWIN1)  - [id:2518547570895430544_4ea6c432-6d20-4986-9679-ecf58ac4854d]",
        "2019-01-15 09:15:10 - Digital currency mining related behavior detected - (MSTICALERTSWIN1)  - [id:2518547570895430544_72351be4-ae78-4cc6-9f6a-1ff87c31baeb]",
        "2019-01-15 09:15:11 - Detected obfuscated command line. - (MSTICALERTSWIN1)  - [id:2518547570880067443_c1a9004f-7f64-4144-8ce0-8f76f9041703]",
        "2019-01-15 09:15:11 - Suspicious Powershell Activity Detected - (MSTICALERTSWIN1)  - [id:2518547570883109415_c762b0f7-a0f5-4dda-ab48-54b5ae6eade4]",
        "2019-01-15 09:15:11 - Suspicious Powershell Activity Detected - (MSTICALERTSWIN1)  - [id:2518547570884378777_92a2f884-5827-4fb6-acf8-b0087b76aa73]",
        "2019-01-15 09:15:11 - Suspicious Powershell Activity Detected - (MSTICALERTSWIN1)  - [id:2518547570881721037_4ca5c629-673c-4372-9bd3-ab7bf6d6e6f0]",
        "2019-01-15 09:15:12 - Suspicious Powershell Activity Detected - (MSTICALERTSWIN1)  - [id:2518547570876432155_ce7c7361-8ac9-47be-b8fb-7a87c87ee178]",
        "2019-01-15 09:15:13 - Suspicious system process executed - (nan)  - [id:2518547570865502616_9d5e263f-55d2-441f-acf4-bf569b4cd976]",
        "2019-01-15 09:15:13 - Executable found running from a suspicious location - (MSTICALERTSWIN1)  - [id:2518547570865502616_c6f3dea2-fe36-4e65-b161-1b1cd1104eb3]",
        "2019-01-15 09:15:13 - Suspicious WindowPosition registry value detected - (MSTICALERTSWIN1)  - [id:2518547570866947129_1b074412-133c-4ac9-8e3f-24103159b03e]",
        "2019-01-15 09:15:13 - Executable found running from a suspicious location - (MSTICALERTSWIN1)  - [id:2518547570860979996_bddac8c5-cba5-4da2-a6dd-c0a39fc2b256]",
        "2019-01-15 09:15:13 - Suspicious process executed - (MSTICALERTSWIN1)  - [id:2518547570862568702_029c9c95-c1fe-4419-bc3b-a6d832c87e65]",
        "2019-01-15 09:15:14 - Suspicious process executed - (MSTICALERTSWIN1)  - [id:2518547570851316041_43f7d8f3-fea5-4fca-a884-713c2d65203c]",
        "2019-01-15 09:15:14 - Detected anomalous mix of upper and lower case characters in command-line - (MSTICALERTSWIN1)  - [id:2518547570852901341_3ca6ca5a-8bf2-417f-b8c9-3cea37c84f4b]",
        "2019-01-15 09:15:16 - Suspicious double extension file executed - (nan)  - [id:2518547570836535349_c45bcb62-9d89-44e8-bea9-7a9e35205576]",
        "2019-01-15 09:15:16 - Rare SVCHOST service group executed - (nan)  - [id:2518547570834399134_26ccc2ad-8ce0-4f60-8215-18f99377b547]",
        "2019-01-15 09:15:16 - Suspicious Volume Shadow Copy Activity - (nan)  - [id:2518547570836431794_b9d79b27-d725-4a87-b7ec-6fc9ec591e8c]",
        "2019-01-15 09:15:16 - Azure Security Center test alert (not a threat) - (MSTICALERTSWIN1)  - [id:2518547570833725387_2df8ae94-03fe-4b9f-a3a9-f3c6dab95c05]",
        "2019-01-15 09:15:16 - Suspicious SVCHOST process executed - (nan)  - [id:2518547570835168086_117b7a02-d1d0-4cf2-bc04-0b19a796b4d3]",
        "2019-01-15 09:15:17 - Ransomware indicators detected - (MSTICALERTSWIN1)  - [id:2518547570821365949_48327b74-c904-402d-a1d8-2b3a882924e7]",
        "2019-01-15 09:15:17 - Detected Petya ransomware indicators - (MSTICALERTSWIN1)  - [id:2518547570821871899_e647375c-9979-47b5-9f78-f414a1aad26d]",
        "2019-01-15 11:45:00 - Suspicious Account Creation Detected - (MSTICALERTSWIN1)  - [id:2518547480991748435_836318d1-0fa0-4cfe-a3d0-2b1fdbaf2216]",
        "2019-01-15 11:45:01 - Suspiciously named process detected - (MSTICALERTSWIN1)  - [id:2518547480988516756_54bb943e-7fe9-4146-a43e-4064c8e0049f]",
        "2019-01-15 11:45:01 - Digital currency mining related behavior detected - (MSTICALERTSWIN1)  - [id:2518547480988516756_668ed54c-9e73-4d4f-a9c2-b88fd1b13db0]",
        "2019-01-15 11:45:01 - Potential attempt to bypass AppLocker detected - (MSTICALERTSWIN1)  - [id:2518547480989617678_f3490cf7-a303-4001-b7d6-8acf7e83f191]",
        "2019-01-15 11:45:01 - Suspicious Powershell Activity Detected - (MSTICALERTSWIN1)  - [id:2518547480982973701_24a6d6f3-acf1-41bd-a11f-01a1369bac02]",
        "2019-01-15 11:45:01 - Suspicious Powershell Activity Detected - (MSTICALERTSWIN1)  - [id:2518547480984263491_d46877bd-e04d-401a-99bd-eec2a6b25663]",
        "2019-01-15 11:45:01 - Detected obfuscated command line. - (MSTICALERTSWIN1)  - [id:2518547480982511513_adfabbe0-fce0-44f3-be4b-17283bd03bed]",
        "2019-01-15 11:45:01 - Suspicious Powershell Activity Detected - (MSTICALERTSWIN1)  - [id:2518547480980813134_5cb7ab95-6017-4031-afb2-e11518b0f5cc]",
        "2019-01-15 11:45:01 - Suspicious Powershell Activity Detected - (MSTICALERTSWIN1)  - [id:2518547480983467170_9da8e3df-9c3b-4e20-8bd0-ace00aff9def]",
        "2019-01-15 11:45:02 - Executable found running from a suspicious location - (MSTICALERTSWIN1)  - [id:2518547480975043692_7e663699-5412-496f-ac91-e21a7b6f0be5]",
        "2019-01-15 11:45:02 - Executable found running from a suspicious location - (MSTICALERTSWIN1)  - [id:2518547480977057409_ed9d92ac-0ab8-4a2e-a1dd-f70ee30a9af1]",
        "2019-01-15 11:45:02 - Suspicious WindowPosition registry value detected - (MSTICALERTSWIN1)  - [id:2518547480977469312_e9ff6947-fd12-42d2-bb63-2d814f04482a]",
        "2019-01-15 11:45:02 - Suspicious process executed - (MSTICALERTSWIN1)  - [id:2518547480976076338_2a106d12-acd8-4dd7-9e1c-3c20b4eaa320]",
        "2019-01-15 11:45:02 - Suspicious system process executed - (nan)  - [id:2518547480977057409_492fbb97-a1fc-4880-95d2-e55ab2f142b6]",
        "2019-01-15 11:45:02 - Detected anomalous mix of upper and lower case characters in command-line - (MSTICALERTSWIN1)  - [id:2518547480970182118_c0558adc-b4a9-4289-b9ad-7e7260f1cde0]",
        "2019-01-15 11:45:03 - Suspicious process executed - (MSTICALERTSWIN1)  - [id:2518547480968677354_88eb8a87-a876-46aa-b8ed-be7298929ea8]",
        "2019-01-15 11:45:04 - Random process name detected - (MSTICALERTSWIN1)  - [id:2518547480956885358_b66e93d7-b38b-4785-baa5-093edc18e649]",
        "2019-01-15 11:45:04 - Suspicious Volume Shadow Copy Activity - (nan)  - [id:2518547480955968326_fa350f8b-2c81-478c-a383-debe0ab0c892]",
        "2019-01-15 11:45:04 - Suspicious double extension file executed - (nan)  - [id:2518547480956378190_2b59c1d5-a815-4562-a8d4-36d9777e6546]",
        "2019-01-15 11:45:05 - Rare SVCHOST service group executed - (nan)  - [id:2518547480946682289_f83c0705-d2ff-4355-a25d-ae858ee39b2d]",
        "2019-01-15 11:45:05 - Suspicious SVCHOST process executed - (nan)  - [id:2518547480947565906_5c82cd9c-60f8-4056-bd39-8ccb2cdb7678]",
        "2019-01-15 11:45:05 - Azure Security Center test alert (not a threat) - (MSTICALERTSWIN1)  - [id:2518547480945920380_00d33245-c643-4155-8c05-6abc4ee3b3cd]",
        "2019-01-15 11:45:06 - Ransomware indicators detected - (MSTICALERTSWIN1)  - [id:2518547480937987105_ec1678a1-0fe8-44c5-91b5-621c40d2bb8c]",
        "2019-01-15 11:45:06 - Detected Petya ransomware indicators - (MSTICALERTSWIN1)  - [id:2518547480938543829_91a4f9a7-70ad-433b-a568-34314e3f467f]",
        "2019-01-15 13:15:10 - Suspiciously named process detected - (MSTICALERTSWIN1)  - [id:2518547426892072407_171b74b2-a431-4b55-8d69-128e5fb95329]",
        "2019-01-15 13:15:13 - Suspicious WindowPosition registry value detected - (MSTICALERTSWIN1)  - [id:2518547426863814510_75495c57-4fd6-4e27-b94c-c6f81f78bcb5]",
        "2019-01-15 13:15:13 - Suspicious system process executed - (nan)  - [id:2518547426862437699_184c075e-64ee-4901-bc37-6eb999e81a11]",
        "2019-01-15 13:15:14 - Suspicious process executed - (MSTICALERTSWIN1)  - [id:2518547426859453218_89d1850f-dccd-4d45-b194-650819d358d9]",
        "2019-01-15 13:15:14 - Executable found running from a suspicious location - (MSTICALERTSWIN1)  - [id:2518547426858055460_51b74398-40e2-4b1b-9d92-89c0004738c9]",
        "2019-01-15 13:15:15 - Suspicious process executed - (MSTICALERTSWIN1)  - [id:2518547426847947731_caa12d6c-4928-4787-90d4-cb27ff94373c]",
        "2019-01-15 13:15:16 - Suspicious SVCHOST process executed - (nan)  - [id:2518547426831794607_a513ab17-2b6a-4b1a-a925-a0b3c21ec38c]",
        "2019-01-15 13:15:16 - Rare SVCHOST service group executed - (nan)  - [id:2518547426830640211_88f9ae7a-e6b5-4b54-b967-08f3fc503d91]",
        "2019-01-15 13:15:16 - Suspicious Volume Shadow Copy Activity - (nan)  - [id:2518547426833434810_b6e594ea-16d3-480e-81a7-2f8fe3af64ba]",
        "2019-01-15 13:15:16 - Suspicious double extension file executed - (nan)  - [id:2518547426833838523_7b30c978-28d5-4a28-a4c2-0985f08ab1c6]",
        "2019-01-15 13:15:17 - Azure Security Center test alert (not a threat) - (MSTICALERTSWIN1)  - [id:2518547426829675756_846ec406-bb3e-451b-bf6f-9e1e17a69bd6]",
        "2019-01-15 13:15:18 - Ransomware indicators detected - (MSTICALERTSWIN1)  - [id:2518547426817428483_636ab38f-2528-4356-8602-d0910f8ac600]",
        "2019-01-15 13:15:18 - Detected Petya ransomware indicators - (MSTICALERTSWIN1)  - [id:2518547426817928329_a4aa878d-93b5-4cd1-931f-30f85b9e6db2]",
        "2019-01-15 17:15:03 - Suspicious Account Creation Detected - (MSTICALERTSWIN1)  - [id:2518547282966696689_3db7e1e7-2edc-4dd9-8c1d-d908f5b8a904]",
        "2019-01-15 17:15:10 - Potential attempt to bypass AppLocker detected - (MSTICALERTSWIN1)  - [id:2518547282896095305_82730ffa-b9ce-43f4-bf3c-a97113107cc5]",
        "2019-01-15 17:15:10 - Suspiciously named process detected - (MSTICALERTSWIN1)  - [id:2518547282892925953_0073e6d8-6c2e-42e4-8966-d1f5a3dd3517]",
        "2019-01-15 17:15:10 - Digital currency mining related behavior detected - (MSTICALERTSWIN1)  - [id:2518547282892925953_35c8d588-ddf7-46b5-a0bf-f47023f9343c]",
        "2019-01-15 17:15:11 - Suspicious Powershell Activity Detected - (MSTICALERTSWIN1)  - [id:2518547282880013417_d65aa787-e867-43b1-9182-025a1a38173a]",
        "2019-01-15 17:15:11 - Suspicious Powershell Activity Detected - (MSTICALERTSWIN1)  - [id:2518547282881581273_ed5bcf39-ffd3-468a-82e3-28e108d4f06f]",
        "2019-01-15 17:15:11 - Suspicious Powershell Activity Detected - (MSTICALERTSWIN1)  - [id:2518547282883193041_31ae6eeb-bd1d-4018-8df9-eeedd60bf1ab]",
        "2019-01-15 17:15:12 - Suspicious Powershell Activity Detected - (MSTICALERTSWIN1)  - [id:2518547282874783943_bd1a0865-a507-4e2b-b8df-613238a950df]",
        "2019-01-15 17:15:12 - Detected obfuscated command line. - (MSTICALERTSWIN1)  - [id:2518547282878855119_d89d1ab7-e5b7-426c-a98f-eab95deea3ad]",
        "2019-01-15 17:15:13 - Suspicious system process executed - (nan)  - [id:2518547282863799328_7e169933-4275-4b94-b37f-490417bcfc98]",
        "2019-01-15 17:15:13 - Suspicious WindowPosition registry value detected - (MSTICALERTSWIN1)  - [id:2518547282865194453_9895a5cc-6f49-45f5-a0eb-f05c1f11f264]",
        "2019-01-15 17:15:13 - Executable found running from a suspicious location - (MSTICALERTSWIN1)  - [id:2518547282863799328_84ea8dcd-9436-4b4d-82b2-36114028bd61]",
        "2019-01-15 17:15:14 - Suspicious process executed - (MSTICALERTSWIN1)  - [id:2518547282859754476_0c3ae402-a9ea-4d5c-9c09-4274b7847c2c]",
        "2019-01-15 17:15:14 - Detected anomalous mix of upper and lower case characters in command-line - (MSTICALERTSWIN1)  - [id:2518547282850984831_7f983018-fd59-4e9e-ba70-295f6beb0e9c]",
        "2019-01-15 17:15:14 - Executable found running from a suspicious location - (MSTICALERTSWIN1)  - [id:2518547282858353938_58851b10-8f5c-48f1-aade-b1529f4e2c7f]",
        "2019-01-15 17:15:15 - Suspicious process executed - (MSTICALERTSWIN1)  - [id:2518547282845656644_c7318da8-368f-47f8-bff5-e15600a3fb80]",
        "2019-01-15 17:15:17 - Suspicious double extension file executed - (nan)  - [id:2518547282825853773_e6c85135-2b91-4537-b9a0-dae7eabb8e9d]",
        "2019-01-15 17:15:17 - Suspicious Volume Shadow Copy Activity - (nan)  - [id:2518547282825448815_6a71b543-4832-4658-8467-825aeafbe031]",
        "2019-01-15 17:15:18 - Rare SVCHOST service group executed - (nan)  - [id:2518547282813841329_a7e8e8c1-4561-48ea-bf75-a22c7bfc2257]",
        "2019-01-15 17:15:18 - Azure Security Center test alert (not a threat) - (MSTICALERTSWIN1)  - [id:2518547282812706885_12ae1e22-347e-454c-ae0d-ebb48cdf189b]",
        "2019-01-15 17:15:18 - Suspicious SVCHOST process executed - (nan)  - [id:2518547282814913644_34cc156e-9179-44c4-bd60-89dd1812e9e7]",
        "2019-01-15 17:15:19 - Detected Petya ransomware indicators - (MSTICALERTSWIN1)  - [id:2518547282803821916_c76cdb6c-cea0-4b2b-9ab6-1442a5857ed8]",
        "2019-01-15 17:15:19 - Ransomware indicators detected - (MSTICALERTSWIN1)  - [id:2518547282802847718_4a524cc8-7613-4c42-93a9-8c1e466a4476]",
        "2019-01-15 21:18:10 - Suspicious Account Added - (nan)  - [id:cbdce694-666c-4844-a29c-e7f4b66e27d1]"
       ],
       "description": "Select alert :",
       "index": 0,
       "layout": "IPY_MODEL_43f72bf4fa994156a22655dffb2b45e9",
       "style": "IPY_MODEL_c87e23db5d564065a7520f688a8a7a5c"
      }
     },
     "cf8f87ab568a4fb6ae1d22890df2f6a3": {
      "model_module": "@jupyter-widgets/base",
      "model_module_version": "1.2.0",
      "model_name": "LayoutModel",
      "state": {}
     },
     "cf98d68a87c64b408f789c7395821b9e": {
      "model_module": "@jupyter-widgets/controls",
      "model_module_version": "1.5.0",
      "model_name": "SelectModel",
      "state": {
       "_options_labels": [
        "ip",
        "host",
        "account"
       ],
       "description": "Select an item",
       "index": 0,
       "layout": "IPY_MODEL_ae7819f979314bc0a3c03a1ff243e0a9",
       "style": "IPY_MODEL_ceafcdc94ab04bce856715bdbb43fb76"
      }
     },
     "cfe37e3196c847b3b21ee90d4e19d269": {
      "model_module": "@jupyter-widgets/base",
      "model_module_version": "1.2.0",
      "model_name": "LayoutModel",
      "state": {
       "height": "300px",
       "width": "95%"
      }
     },
     "cffef514231e4c3c8303552e3c0dac21": {
      "model_module": "@jupyter-widgets/controls",
      "model_module_version": "1.5.0",
      "model_name": "ButtonStyleModel",
      "state": {}
     },
     "d032459906814007a890e948c0daa849": {
      "model_module": "@jupyter-widgets/base",
      "model_module_version": "1.2.0",
      "model_name": "LayoutModel",
      "state": {
       "width": "80%"
      }
     },
     "d0a17d7c96334934b587dcd1a7a4bd8a": {
      "model_module": "@jupyter-widgets/controls",
      "model_module_version": "1.5.0",
      "model_name": "DescriptionStyleModel",
      "state": {
       "description_width": ""
      }
     },
     "d111d1db00094bfcb6d61c1cf49c221c": {
      "model_module": "@jupyter-widgets/controls",
      "model_module_version": "1.5.0",
      "model_name": "DescriptionStyleModel",
      "state": {
       "description_width": ""
      }
     },
     "d178bfa0d0704013ba5f681bccb0026d": {
      "model_module": "@jupyter-widgets/controls",
      "model_module_version": "1.5.0",
      "model_name": "DescriptionStyleModel",
      "state": {
       "description_width": "initial"
      }
     },
     "d1c5a7b006c041c885f3ebf2b9323569": {
      "model_module": "@jupyter-widgets/controls",
      "model_module_version": "1.5.0",
      "model_name": "HTMLModel",
      "state": {
       "layout": "IPY_MODEL_fbd81dca888848e3ad20121bd8f98bd4",
       "style": "IPY_MODEL_fea23e3c1f4c49ce92a622194cda6dbe",
       "value": "<h4>Set query time boundaries</h4>"
      }
     },
     "d1ee889afe85482d9f199a507f45a9f0": {
      "model_module": "@jupyter-widgets/controls",
      "model_module_version": "1.5.0",
      "model_name": "DescriptionStyleModel",
      "state": {
       "description_width": ""
      }
     },
     "d2e76318c7f848f79b051d741c60006f": {
      "model_module": "@jupyter-widgets/base",
      "model_module_version": "1.2.0",
      "model_name": "LayoutModel",
      "state": {
       "width": "80%"
      }
     },
     "d33adc9db91d43c49a489a10a1f14979": {
      "model_module": "@jupyter-widgets/base",
      "model_module_version": "1.2.0",
      "model_name": "LayoutModel",
      "state": {}
     },
     "d4fa0d6ea67342d7bbb27bf4183ffdad": {
      "model_module": "@jupyter-widgets/controls",
      "model_module_version": "1.5.0",
      "model_name": "VBoxModel",
      "state": {
       "children": [
        "IPY_MODEL_a9b852e0071949828a109185eeb46fea",
        "IPY_MODEL_5693c4d504be4d1eab09043d4490a957"
       ],
       "layout": "IPY_MODEL_9a3482788b0b4c4d9b26592de6c32ea1"
      }
     },
     "d65367cdaa624cd4ad8611e60a7835fc": {
      "model_module": "@jupyter-widgets/controls",
      "model_module_version": "1.5.0",
      "model_name": "TextModel",
      "state": {
       "description": "Time (24hr)",
       "layout": "IPY_MODEL_c157a8e9f6ff4fcdae87bf534fdac0ac",
       "style": "IPY_MODEL_1536f828dc534696a9dfefb3b1f8955b",
       "value": "19:13:56.295512"
      }
     },
     "d657c93d00aa4677902ddb2679d3d761": {
      "model_module": "@jupyter-widgets/controls",
      "model_module_version": "1.5.0",
      "model_name": "DescriptionStyleModel",
      "state": {
       "description_width": "initial"
      }
     },
     "d69d318c40cc400fb4256e7ec060cc60": {
      "model_module": "@jupyter-widgets/base",
      "model_module_version": "1.2.0",
      "model_name": "LayoutModel",
      "state": {
       "height": "300px",
       "width": "95%"
      }
     },
     "d72d82cff20d4926822ae8ee73bbd6a7": {
      "model_module": "@jupyter-widgets/controls",
      "model_module_version": "1.5.0",
      "model_name": "TextModel",
      "state": {
       "description": "Filter alerts by title:",
       "layout": "IPY_MODEL_227a09b641d84825b39efa3647865fff",
       "style": "IPY_MODEL_e066e07926c742b98ad36c223dea1cff"
      }
     },
     "d74210449b0f4deca8d880219dd2a40c": {
      "model_module": "@jupyter-widgets/base",
      "model_module_version": "1.2.0",
      "model_name": "LayoutModel",
      "state": {}
     },
     "d759197c6cee421780659adfcb88db3e": {
      "model_module": "@jupyter-widgets/controls",
      "model_module_version": "1.5.0",
      "model_name": "DescriptionStyleModel",
      "state": {
       "description_width": ""
      }
     },
     "d8b49e746854491c80ed740c3ccf32a5": {
      "model_module": "@jupyter-widgets/base",
      "model_module_version": "1.2.0",
      "model_name": "LayoutModel",
      "state": {}
     },
     "d949b9da416f4c7185cc11b6bc4b85d6": {
      "model_module": "@jupyter-widgets/controls",
      "model_module_version": "1.5.0",
      "model_name": "VBoxModel",
      "state": {
       "children": [
        "IPY_MODEL_d72d82cff20d4926822ae8ee73bbd6a7",
        "IPY_MODEL_902b96d869184265a024a31a16bf3ddf"
       ],
       "layout": "IPY_MODEL_e2a72debabc74fd5af701943190ce9f1"
      }
     },
     "da667a89c4814a87a8abf35b71509edf": {
      "model_module": "@jupyter-widgets/controls",
      "model_module_version": "1.5.0",
      "model_name": "TextModel",
      "state": {
       "description": "Time (24hr)",
       "layout": "IPY_MODEL_792c79ca75f247fe8f4365841eae4037",
       "style": "IPY_MODEL_5ec44c39329f4f6cbc0abae4cdbb504c",
       "value": "19:13:56.295512"
      }
     },
     "db0e8a5eb9844df086dda9ef29c94de9": {
      "model_module": "@jupyter-widgets/controls",
      "model_module_version": "1.5.0",
      "model_name": "TextModel",
      "state": {
       "description": "Filter alerts by title:",
       "layout": "IPY_MODEL_59f527357c044e57a57ad6d2ed4466dc",
       "style": "IPY_MODEL_8a45148ee9f84bf4a0d57958e56daba5"
      }
     },
     "db537e5bf2714c009e08f84fcd9df364": {
      "model_module": "@jupyter-widgets/controls",
      "model_module_version": "1.5.0",
      "model_name": "VBoxModel",
      "state": {
       "children": [
        "IPY_MODEL_5b97e1f6fbbd4eca941c2ce4785568dc",
        "IPY_MODEL_1b43caaa78f6480ca0f100aa18a0ba43"
       ],
       "layout": "IPY_MODEL_21657702f0124d4d8f6b45e79755fbf2"
      }
     },
     "dc723d6485384c4e83b99725fb89c1be": {
      "model_module": "@jupyter-widgets/base",
      "model_module_version": "1.2.0",
      "model_name": "LayoutModel",
      "state": {}
     },
     "e02a25d2ce354019a78eafa243a93bc4": {
      "model_module": "@jupyter-widgets/base",
      "model_module_version": "1.2.0",
      "model_name": "LayoutModel",
      "state": {
       "height": "200px",
       "width": "40%"
      }
     },
     "e066bc0e643847a8ad0458ac8975b9e7": {
      "model_module": "@jupyter-widgets/controls",
      "model_module_version": "1.5.0",
      "model_name": "SliderStyleModel",
      "state": {
       "description_width": "initial"
      }
     },
     "e066e07926c742b98ad36c223dea1cff": {
      "model_module": "@jupyter-widgets/controls",
      "model_module_version": "1.5.0",
      "model_name": "DescriptionStyleModel",
      "state": {
       "description_width": "initial"
      }
     },
     "e1d8c257decb4efb9610232c8af8edd5": {
      "model_module": "@jupyter-widgets/base",
      "model_module_version": "1.2.0",
      "model_name": "LayoutModel",
      "state": {}
     },
     "e24a1c904d7347728423e6a37f8af399": {
      "model_module": "@jupyter-widgets/controls",
      "model_module_version": "1.5.0",
      "model_name": "DescriptionStyleModel",
      "state": {
       "description_width": ""
      }
     },
     "e2a72debabc74fd5af701943190ce9f1": {
      "model_module": "@jupyter-widgets/base",
      "model_module_version": "1.2.0",
      "model_name": "LayoutModel",
      "state": {}
     },
     "e2d3377e84b84a17b8885f0b23b0f8b9": {
      "model_module": "@jupyter-widgets/controls",
      "model_module_version": "1.5.0",
      "model_name": "DescriptionStyleModel",
      "state": {
       "description_width": "initial"
      }
     },
     "e3784a60700b4b199005206fdd6f4e4d": {
      "model_module": "@jupyter-widgets/base",
      "model_module_version": "1.2.0",
      "model_name": "LayoutModel",
      "state": {
       "height": "300px",
       "width": "95%"
      }
     },
     "e37a65fc707842cd84e2c9b449e8db84": {
      "model_module": "@jupyter-widgets/controls",
      "model_module_version": "1.5.0",
      "model_name": "SliderStyleModel",
      "state": {
       "description_width": "initial"
      }
     },
     "e37ef889bb5947da96ff6380c03124b5": {
      "model_module": "@jupyter-widgets/controls",
      "model_module_version": "1.5.0",
      "model_name": "TextModel",
      "state": {
       "description": "Filter:",
       "layout": "IPY_MODEL_2df02707328d40d1afc180306add760d",
       "style": "IPY_MODEL_0aa29f9f7b3e40368e85a0e1a298d0c0"
      }
     },
     "e62e5076296f4c9d858721c20893dab4": {
      "model_module": "@jupyter-widgets/controls",
      "model_module_version": "1.5.0",
      "model_name": "SelectMultipleModel",
      "state": {
       "_options_labels": [
        "An event log was cleared",
        "Anomalous account creation detected",
        "Azure Security Center test alert (not a threat)",
        "DC local group addition - Demo",
        "DC with MS AM engine failure - Demo",
        "Deep Security Agent detected a malware",
        "Detected Petya ransomware indicators",
        "Detected actions indicative of disabling and deleting IIS log files.",
        "Detected anomalous mix of upper and lower case characters in command-line",
        "Detected change to a registry key that can be abused to bypass UAC",
        "Detected decoding of an executable using built-in certutil.exe tool",
        "Detected encoded executable in command line data",
        "Detected obfuscated command line.",
        "Detected possible execution of keygen executable",
        "Detected possible execution of malware dropper",
        "Detected possible local reconnaissance activity",
        "Detected potentially suspicious use of Telegram tool",
        "Detected suspicious Set-ExecutionPolicy and WinRM changes",
        "Detected suspicious commandline arguments",
        "Detected suspicious commandline used to start all executables in a directory",
        "Detected suspicious credentials in commandline",
        "Detected suspicious document credentials",
        "Detected suspicious execution of VBScript.Encode command",
        "Detected suspicious execution via rundll32.exe",
        "Detected suspicious file cleanup commands",
        "Detected suspicious file creation",
        "Detected suspicious named pipe communications",
        "Detected suspicious new firewall rule",
        "Detected suspicious use of Cacls to lower the security state of the system.",
        "Detected suspicious use of FTP -s Switch",
        "Detected suspicious use of Pcalua.exe to launch executable code",
        "Detected the disabling of critical services",
        "Digital currency mining related behavior detected",
        "Executable found running from a suspicious location",
        "Failed RDP Brute Force Attack",
        "Global domain trust creation - Demo",
        "High risk software detected",
        "Maliciuos IP communication",
        "Modified system binary discovered in dump file 5bd767e4-2d08-4714-b744-aaed04b57107__391365252.hdmp",
        "Multiple Domain Accounts Queried",
        "Network communication with a malicious machine detected",
        "Palo Alto admin logged on via SSH - Demo",
        "Possible compromised machine detected",
        "Possible credential dumping detected",
        "Possible outgoing spam activity detected",
        "Potential SQL Injection",
        "Potential attempt to bypass AppLocker detected",
        "Random process name detected",
        "Ransomware indicators detected",
        "Rare SVCHOST service group executed",
        "SQL injection blocked",
        "Sticky keys attack detected",
        "Successful RDP brute force attack",
        "Suspected Kerberos Golden Ticket attack parameters observed",
        "Suspicious Account Added",
        "Suspicious Account Creation Detected",
        "Suspicious Powershell Activity Detected",
        "Suspicious SVCHOST process executed",
        "Suspicious Volume Shadow Copy Activity",
        "Suspicious WindowPosition registry value detected",
        "Suspicious double extension file executed",
        "Suspicious download using Certutil detected",
        "Suspicious powershell cmdlets executed",
        "Suspicious process executed",
        "Suspicious system process executed",
        "Suspiciously named process detected"
       ],
       "description": "Source: ",
       "index": [],
       "layout": "IPY_MODEL_07def27e8507463ca4f6c37ade4a70bd",
       "rows": 5,
       "style": "IPY_MODEL_d759197c6cee421780659adfcb88db3e"
      }
     },
     "e6331cc8bdd64e8495816e63f06a86e7": {
      "model_module": "@jupyter-widgets/controls",
      "model_module_version": "1.5.0",
      "model_name": "LabelModel",
      "state": {
       "layout": "IPY_MODEL_749c0969b04d407ebfe1b509764aa54f",
       "style": "IPY_MODEL_34e6b357c4f64158be58dad0880a8e65",
       "value": "100%"
      }
     },
     "e64057054a3745a7bc71d2e4e0c274ba": {
      "model_module": "@jupyter-widgets/base",
      "model_module_version": "1.2.0",
      "model_name": "LayoutModel",
      "state": {
       "height": "100px",
       "width": "50%"
      }
     },
     "e73ac33599c649f49cded63f5bd5dc18": {
      "model_module": "@jupyter-widgets/controls",
      "model_module_version": "1.5.0",
      "model_name": "ButtonModel",
      "state": {
       "description": "Add All ⇾",
       "layout": "IPY_MODEL_f6037775dbbc4ed6a1c4160faf0cd80d",
       "style": "IPY_MODEL_5766e92d81104279a0dc7f8f997a609d"
      }
     },
     "e7794012afce427b8c1044490502ef63": {
      "model_module": "@jupyter-widgets/base",
      "model_module_version": "1.2.0",
      "model_name": "LayoutModel",
      "state": {}
     },
     "e7a3a3e4dc1243b7a9e3f45876d1cc01": {
      "model_module": "@jupyter-widgets/base",
      "model_module_version": "1.2.0",
      "model_name": "LayoutModel",
      "state": {}
     },
     "e7ee95bd3aee4507b39bdea0a78ba8df": {
      "model_module": "@jupyter-widgets/base",
      "model_module_version": "1.2.0",
      "model_name": "LayoutModel",
      "state": {}
     },
     "e893d7b85d194d259c64ebb5d6b2de2d": {
      "model_module": "@jupyter-widgets/controls",
      "model_module_version": "1.5.0",
      "model_name": "ButtonModel",
      "state": {
       "description": "⇽ Remove All",
       "layout": "IPY_MODEL_95ca9870bb6e49419f399d4c3e871a50",
       "style": "IPY_MODEL_41f4b70aeb204be1b258291b4c5092d8"
      }
     },
     "e9324f18c9bc42a091f24a8de5fc97e8": {
      "model_module": "@jupyter-widgets/controls",
      "model_module_version": "1.5.0",
      "model_name": "HTMLModel",
      "state": {
       "layout": "IPY_MODEL_7a0948f525484e3e996e64406797a583",
       "style": "IPY_MODEL_d1ee889afe85482d9f199a507f45a9f0",
       "value": "<h4>Set query time boundaries</h4>"
      }
     },
     "eb7a0f20203a44dc9d9a21b04cd90137": {
      "model_module": "@jupyter-widgets/base",
      "model_module_version": "1.2.0",
      "model_name": "LayoutModel",
      "state": {}
     },
     "ec108e0a02d1415884e31347e397d88c": {
      "model_module": "@jupyter-widgets/base",
      "model_module_version": "1.2.0",
      "model_name": "LayoutModel",
      "state": {
       "width": "50%"
      }
     },
     "ed02175275a2444996d99dc0132a8ee9": {
      "model_module": "@jupyter-widgets/controls",
      "model_module_version": "1.5.0",
      "model_name": "DatePickerModel",
      "state": {
       "description": "Origin Date",
       "disabled": false,
       "layout": "IPY_MODEL_4238d5e7c7d84585a9ead3ad461cc73f",
       "style": "IPY_MODEL_b3cecd3212b14b519350bfb49b46596d",
       "value": {
        "date": 28,
        "month": 4,
        "year": 2020
       }
      }
     },
     "ed257781a28e49d393982373661ce196": {
      "model_module": "@jupyter-widgets/controls",
      "model_module_version": "1.5.0",
      "model_name": "DescriptionStyleModel",
      "state": {
       "description_width": "initial"
      }
     },
     "edebaf405f8c497b8df970997fdce9c1": {
      "model_module": "@jupyter-widgets/controls",
      "model_module_version": "1.5.0",
      "model_name": "ButtonModel",
      "state": {
       "description": "⇽ Remove",
       "layout": "IPY_MODEL_8a47661da7a64b6f93aa8f54a8b683c1",
       "style": "IPY_MODEL_8950dd42833e459ea9bc4403d09910fe"
      }
     },
     "ef382217a776457e860db94972a8e356": {
      "model_module": "@jupyter-widgets/controls",
      "model_module_version": "1.5.0",
      "model_name": "ButtonModel",
      "state": {
       "description": "Set",
       "layout": "IPY_MODEL_a8ffd301732f40ea9aaaa112c36178bf",
       "style": "IPY_MODEL_164b05c3ce0f474d86e6cdd275fc03fc"
      }
     },
     "f1d749fa6fc64a85a53a6cfb85b257b3": {
      "model_module": "@jupyter-widgets/base",
      "model_module_version": "1.2.0",
      "model_name": "LayoutModel",
      "state": {
       "width": "50%"
      }
     },
     "f446cc83d1b04c56ab5e05fb18117611": {
      "model_module": "@jupyter-widgets/controls",
      "model_module_version": "1.5.0",
      "model_name": "DescriptionStyleModel",
      "state": {
       "description_width": "initial"
      }
     },
     "f4cb943ef3a8497c9417c241c9d0e4aa": {
      "model_module": "@jupyter-widgets/controls",
      "model_module_version": "1.5.0",
      "model_name": "DescriptionStyleModel",
      "state": {
       "description_width": ""
      }
     },
     "f4ee4649368e481ca0211fef04f01d0d": {
      "model_module": "@jupyter-widgets/controls",
      "model_module_version": "1.5.0",
      "model_name": "LabelModel",
      "state": {
       "layout": "IPY_MODEL_ca454163fc0e48d8b71c6f64400b8665",
       "style": "IPY_MODEL_7f07739dda504579a8c3911f36c3229f",
       "value": "110%"
      }
     },
     "f59bc6a568db4aa39ec7da5a158153c3": {
      "model_module": "@jupyter-widgets/base",
      "model_module_version": "1.2.0",
      "model_name": "LayoutModel",
      "state": {}
     },
     "f5d2d9b145f44c85a7007e2190c78dce": {
      "model_module": "@jupyter-widgets/base",
      "model_module_version": "1.2.0",
      "model_name": "LayoutModel",
      "state": {}
     },
     "f6037775dbbc4ed6a1c4160faf0cd80d": {
      "model_module": "@jupyter-widgets/base",
      "model_module_version": "1.2.0",
      "model_name": "LayoutModel",
      "state": {}
     },
     "f6aa78b6acfb46298abcfd8e704dbe17": {
      "model_module": "@jupyter-widgets/controls",
      "model_module_version": "1.5.0",
      "model_name": "TextModel",
      "state": {
       "description": "Query start time (UTC):",
       "layout": "IPY_MODEL_571c4b575cb14c80b27eebb7ce4097e5",
       "style": "IPY_MODEL_d657c93d00aa4677902ddb2679d3d761",
       "value": "2020-06-12 18:13:56.437039"
      }
     },
     "f6d44c766c49421f853350464bf14205": {
      "model_module": "@jupyter-widgets/base",
      "model_module_version": "1.2.0",
      "model_name": "LayoutModel",
      "state": {}
     },
     "f6e6b0cd38bf4c9fa1e63588674e6418": {
      "model_module": "@jupyter-widgets/base",
      "model_module_version": "1.2.0",
      "model_name": "LayoutModel",
      "state": {}
     },
     "f7c7d662c1f641b392255cc2b9c7dacb": {
      "model_module": "@jupyter-widgets/controls",
      "model_module_version": "1.5.0",
      "model_name": "TextModel",
      "state": {
       "description": "Query start time (UTC):",
       "layout": "IPY_MODEL_2c11a21566ed4b1c993007a42094a9ad",
       "style": "IPY_MODEL_2f23866ef96b407b9e750b58e1fdb568",
       "value": "2020-05-28 18:13:56.295512"
      }
     },
     "f80a595b408d4ccdb580e3a515e5df92": {
      "model_module": "@jupyter-widgets/base",
      "model_module_version": "1.2.0",
      "model_name": "LayoutModel",
      "state": {}
     },
     "f984568f1c95402c8d93a6a63e9c49be": {
      "model_module": "@jupyter-widgets/base",
      "model_module_version": "1.2.0",
      "model_name": "LayoutModel",
      "state": {
       "height": "100px",
       "width": "50%"
      }
     },
     "fb0a61dd16134cbbb261cfb679b2c07c": {
      "model_module": "@jupyter-widgets/base",
      "model_module_version": "1.2.0",
      "model_name": "LayoutModel",
      "state": {
       "width": "50%"
      }
     },
     "fb1e212bd3a94e419ea51bf048fdd385": {
      "model_module": "@jupyter-widgets/base",
      "model_module_version": "1.2.0",
      "model_name": "LayoutModel",
      "state": {}
     },
     "fbd81dca888848e3ad20121bd8f98bd4": {
      "model_module": "@jupyter-widgets/base",
      "model_module_version": "1.2.0",
      "model_name": "LayoutModel",
      "state": {}
     },
     "fbf9d5d697c94465890d4c7a5c19f018": {
      "model_module": "@jupyter-widgets/controls",
      "model_module_version": "1.5.0",
      "model_name": "SelectModel",
      "state": {
       "_options_labels": [
        "2018-12-30 00:02:00 - Network communication with a malicious machine detected - (nan)  - [id:a511e1bb-69e1-41a2-8054-c6fcb6aa2362]",
        "2019-01-01 00:02:00 - Possible compromised machine detected - (nan)  - [id:62ded865-938b-4bb3-afef-605d692607f1]",
        "2019-01-01 00:02:00 - An event log was cleared - (nan)  - [id:48facfa1-fe35-45ff-8c91-7a710cd462b9]",
        "2019-01-03 00:02:00 - Suspicious process executed - (nan)  - [id:a32adc3f-43f7-4e5d-b833-98baa71c2f51]",
        "2019-01-03 00:02:00 - Suspicious double extension file executed - (nan)  - [id:112dc225-bc2d-4328-97fd-a99e0b000b1f]",
        "2019-01-05 01:02:00 - SQL injection blocked - (nan)  - [id:0c68e539-f060-401f-b967-6b64b8f49198]",
        "2019-01-05 02:02:00 - Failed RDP Brute Force Attack - (nan)  - [id:8832e816-d634-4214-bb48-7a6678fdf0b7]",
        "2019-01-06 02:02:00 - Successful RDP brute force attack - (nan)  - [id:3b2b5ecc-ec29-4703-9450-29b29b937fd8]",
        "2019-01-06 03:02:00 - Suspicious SVCHOST process executed - (nan)  - [id:614ae18e-cd79-4d4c-97dc-24431be12b5b]",
        "2019-01-06 04:02:00 - Multiple Domain Accounts Queried - (vm1)  - [id:7b27ffab-7204-4856-a013-908de6c1804e]",
        "2019-01-06 05:02:00 - Network communication with a malicious machine detected - (nan)  - [id:98a6dea6-1b64-41d0-938e-0dec24b234ec]",
        "2019-01-07 05:02:00 - Modified system binary discovered in dump file 5bd767e4-2d08-4714-b744-aaed04b57107__391365252.hdmp - (nan)  - [id:775505ce-0ef9-4945-b697-303f7666d1b6]",
        "2019-01-08 05:02:00 - Possible outgoing spam activity detected - (vm1lin)  - [id:28f9b83a-33e6-44da-a002-0f48bff46a67]",
        "2019-01-09 05:02:00 - Deep Security Agent detected a malware - (nan)  - [id:5fc4f6a0-0687-4b93-998e-a230af39c10b]",
        "2019-01-09 05:38:06 - Global domain trust creation - Demo - (nan)  - [id:9740fe80-b642-4a38-8e86-05fa4d35508b]",
        "2019-01-09 06:25:57 - Maliciuos IP communication - (nan)  - [id:04e14d6f-6d4f-46d4-a5f6-2a26bcd34ce8]",
        "2019-01-09 06:31:40 - DC local group addition - Demo - (nan)  - [id:ace7fb98-ef96-46df-ba7b-9a15a141d368]",
        "2019-01-09 06:31:42 - Palo Alto admin logged on via SSH - Demo - (nan)  - [id:40a5916b-9697-423a-a5e4-95cca7c735e7]",
        "2019-01-09 06:33:55 - DC with MS AM engine failure - Demo - (nan)  - [id:78cc7e02-6116-459d-9cdc-a6dcc40ba937]",
        "2019-01-10 05:02:00 - Potential SQL Injection - (nan)  - [id:5365ee7a-f730-42d2-bcdf-b2e898ab98d7]",
        "2019-01-10 05:38:06 - Global domain trust creation - Demo - (nan)  - [id:401f2680-cc05-4e6f-a1f6-69cff2055cd9]",
        "2019-01-10 06:25:57 - Maliciuos IP communication - (nan)  - [id:b5786d68-7f5e-4be1-92e6-e255010d1d8c]",
        "2019-01-10 06:31:40 - DC local group addition - Demo - (nan)  - [id:01659bf1-1228-4e46-b73b-e7d173d365eb]",
        "2019-01-10 06:31:42 - Palo Alto admin logged on via SSH - Demo - (nan)  - [id:0ce6ad61-302a-4142-8eaa-4da9dfad9ca9]",
        "2019-01-10 06:33:55 - DC with MS AM engine failure - Demo - (nan)  - [id:df9f92cb-6fd2-469b-9b72-28f128df1adf]",
        "2019-01-10 19:18:10 - Suspicious Account Added - (nan)  - [id:b3f02c05-e844-4161-81d6-d736548d91ae]",
        "2019-01-11 05:38:06 - Global domain trust creation - Demo - (nan)  - [id:6b56aa8c-da76-4caf-b09d-8706292a8b89]",
        "2019-01-11 06:25:57 - Maliciuos IP communication - (nan)  - [id:4586bd9e-5c1e-4229-9a01-ecd84ad51448]",
        "2019-01-11 06:31:40 - DC local group addition - Demo - (nan)  - [id:047f47d6-79b7-4502-824b-97abc4905a73]",
        "2019-01-11 06:31:42 - Palo Alto admin logged on via SSH - Demo - (nan)  - [id:2d06cb42-bdff-426d-8091-ccc151bcbc94]",
        "2019-01-11 06:33:55 - DC with MS AM engine failure - Demo - (nan)  - [id:412ca580-63c8-4fd2-87e4-87b1ba4260b3]",
        "2019-01-11 19:18:10 - Suspicious Account Added - (nan)  - [id:42a8b425-1c41-4355-8343-18ad563c43b6]",
        "2019-01-12 05:38:06 - Global domain trust creation - Demo - (nan)  - [id:bc44b302-78c7-4be8-bf70-d39d6935fd74]",
        "2019-01-12 06:25:57 - Maliciuos IP communication - (nan)  - [id:c76f17e2-e739-4e7e-bf17-4dd163fc831f]",
        "2019-01-12 06:31:40 - DC local group addition - Demo - (nan)  - [id:07be11df-3dbf-49a5-8b5a-dcea75d89993]",
        "2019-01-12 06:31:42 - Palo Alto admin logged on via SSH - Demo - (nan)  - [id:09ec519f-96b0-4332-be30-b0379c8cbd04]",
        "2019-01-12 06:33:55 - DC with MS AM engine failure - Demo - (nan)  - [id:6a7aaa2e-a575-4e8b-87ed-0d964bf1005e]",
        "2019-01-12 19:18:10 - Suspicious Account Added - (nan)  - [id:d4638075-fed2-4031-8e52-d37c220b0fe4]",
        "2019-01-13 05:38:06 - Global domain trust creation - Demo - (nan)  - [id:5d733fc8-ff32-436d-a595-beaf8943bd63]",
        "2019-01-13 06:25:57 - Maliciuos IP communication - (nan)  - [id:54a8f6d8-f69b-4872-96f8-ef274d5fc8d4]",
        "2019-01-13 06:31:40 - DC local group addition - Demo - (nan)  - [id:47445dca-b87d-45f5-9073-b713e3c69a56]",
        "2019-01-13 06:31:42 - Palo Alto admin logged on via SSH - Demo - (nan)  - [id:45176796-d3f9-40ce-a8f2-aba9bb3c8063]",
        "2019-01-13 06:33:55 - DC with MS AM engine failure - Demo - (nan)  - [id:985be534-6f40-4b0c-a951-8f3915eacd61]",
        "2019-01-13 19:18:10 - Suspicious Account Added - (nan)  - [id:790217fc-9597-4159-b469-bb383c747435]",
        "2019-01-14 05:38:06 - Global domain trust creation - Demo - (nan)  - [id:fbaf48de-152a-4aa6-8a69-902b219bf972]",
        "2019-01-14 06:25:57 - Maliciuos IP communication - (nan)  - [id:1828afac-b4c2-41d9-acbd-7d23b7219557]",
        "2019-01-14 06:31:40 - DC local group addition - Demo - (nan)  - [id:b34d24c9-2223-4887-af93-7598abf28763]",
        "2019-01-14 06:31:42 - Palo Alto admin logged on via SSH - Demo - (nan)  - [id:9442245d-eaf6-47c5-b715-1c16b2c54fc4]",
        "2019-01-14 06:33:55 - DC with MS AM engine failure - Demo - (nan)  - [id:edc4065d-886f-4aff-b17d-f1397ce4baec]",
        "2019-01-14 21:18:10 - Suspicious Account Added - (nan)  - [id:1cca38a9-e0c5-4165-a78d-491ca2641c1c]",
        "2019-01-15 05:15:03 - Suspicious Account Creation Detected - (MSTICALERTSWIN1)  - [id:2518547714966107270_3c380601-b5ad-4fff-9cdb-24528a3a19fd]",
        "2019-01-15 05:15:03 - Anomalous account creation detected - (nan)  - [id:2518547714966107270_90beedae-1285-43d6-8f33-16bc542af39b]",
        "2019-01-15 05:15:10 - Potential attempt to bypass AppLocker detected - (MSTICALERTSWIN1)  - [id:2518547714892475358_9e449abd-e67b-4ec8-a191-e688d7d63e26]",
        "2019-01-15 05:15:11 - Detected decoding of an executable using built-in certutil.exe tool - (MSTICALERTSWIN1)  - [id:2518547714882331861_5c56421d-d894-4437-9b9a-a3b5c6b7e1df]",
        "2019-01-15 05:15:11 - Detected suspicious credentials in commandline - (MSTICALERTSWIN1)  - [id:2518547714880519889_9d6d471a-c94f-4706-b0ff-b2f0301495aa]",
        "2019-01-15 05:15:11 - Digital currency mining related behavior detected - (MSTICALERTSWIN1)  - [id:2518547714887413669_4fa0022e-f431-4ba1-ae5f-ee23247e0853]",
        "2019-01-15 05:15:11 - Suspiciously named process detected - (MSTICALERTSWIN1)  - [id:2518547714887413669_1c680842-2a1d-40c0-a6e4-32e5dd144647]",
        "2019-01-15 05:15:11 - Detected encoded executable in command line data - (MSTICALERTSWIN1)  - [id:2518547714885867955_290559aa-a3d0-425b-8ed2-e98ccc9f0aa0]",
        "2019-01-15 05:15:12 - Detected suspicious commandline arguments - (MSTICALERTSWIN1)  - [id:2518547714879317674_226cc394-fccf-483d-888a-beafad2ed4a4]",
        "2019-01-15 05:15:12 - Detected suspicious document credentials - (MSTICALERTSWIN1)  - [id:2518547714879970078_b080127b-d5c1-425e-a7ca-e4bbd873009d]",
        "2019-01-15 05:15:12 - Detected obfuscated command line. - (MSTICALERTSWIN1)  - [id:2518547714871530079_77211491-86de-4295-82bc-38e332fe1112]",
        "2019-01-15 05:15:12 - Suspicious powershell cmdlets executed - (MSTICALERTSWIN1)  - [id:2518547714874872692_3eb0eb4b-0536-430c-8ab6-cd48524c14b1]",
        "2019-01-15 05:15:12 - Suspicious Powershell Activity Detected - (MSTICALERTSWIN1)  - [id:2518547714874872692_30d988ff-b8d9-45df-8217-e56b0d4d591c]",
        "2019-01-15 05:15:12 - Suspicious Powershell Activity Detected - (MSTICALERTSWIN1)  - [id:2518547714873290756_df1b9eb2-05c4-4f7c-8540-cbb18ec5c608]",
        "2019-01-15 05:15:12 - Suspicious Powershell Activity Detected - (MSTICALERTSWIN1)  - [id:2518547714876077067_953def48-a24b-42a9-bd02-7221be90f84a]",
        "2019-01-15 05:15:13 - Suspicious Powershell Activity Detected - (MSTICALERTSWIN1)  - [id:2518547714867787710_76336679-bddf-460f-90fb-35a1386de7a6]",
        "2019-01-15 05:15:14 - Executable found running from a suspicious location - (MSTICALERTSWIN1)  - [id:2518547714857061520_f4324711-aeae-4912-a634-331b7e7456b6]",
        "2019-01-15 05:15:14 - Suspicious system process executed - (nan)  - [id:2518547714857061520_28f9a2e6-1925-455e-ad97-7af7f92f521d]",
        "2019-01-15 05:15:14 - Suspicious WindowPosition registry value detected - (MSTICALERTSWIN1)  - [id:2518547714858429362_9bfd0e4b-ec93-46bb-8eea-f72e8f1262f1]",
        "2019-01-15 05:15:14 - Suspicious process executed - (MSTICALERTSWIN1)  - [id:2518547714854375707_e2a60bd1-d7c8-466d-a176-4333d4e0d1d5]",
        "2019-01-15 05:15:14 - Detected suspicious named pipe communications - (MSTICALERTSWIN1)  - [id:2518547714859677078_9b4e4942-d564-4755-862c-7171d52921e3]",
        "2019-01-15 05:15:14 - Executable found running from a suspicious location - (MSTICALERTSWIN1)  - [id:2518547714853062206_f9ddd8b3-5fa8-4f2f-b811-bdca90091195]",
        "2019-01-15 05:15:15 - Detected change to a registry key that can be abused to bypass UAC - (MSTICALERTSWIN1)  - [id:2518547714844291280_8f71e695-ba9b-4c97-9770-63cdeb34b7b4]",
        "2019-01-15 05:15:15 - Detected anomalous mix of upper and lower case characters in command-line - (MSTICALERTSWIN1)  - [id:2518547714844457503_55cd3e12-3a91-4b06-9be6-833df3365142]",
        "2019-01-15 05:15:15 - Detected suspicious use of FTP -s Switch - (MSTICALERTSWIN1)  - [id:2518547714843218505_265472ff-3820-4dad-8da7-00e39e1a99fd]",
        "2019-01-15 05:15:15 - Sticky keys attack detected - (MSTICALERTSWIN1)  - [id:2518547714843796759_b3737297-038c-4514-a957-d591384b4256]",
        "2019-01-15 05:15:15 - Suspicious process executed - (MSTICALERTSWIN1)  - [id:2518547714842732992_ad5981a5-fdcc-406a-8742-e50bd7f84917]",
        "2019-01-15 05:15:16 - Detected suspicious new firewall rule - (MSTICALERTSWIN1)  - [id:2518547714839319574_33edaa83-fe35-47de-9486-fc9792c5b65b]",
        "2019-01-15 05:15:16 - Detected suspicious execution via rundll32.exe - (MSTICALERTSWIN1)  - [id:2518547714834806864_4bb2ecc3-f4aa-40cd-a3d7-802fc9086e89]",
        "2019-01-15 05:15:16 - Detected suspicious execution via rundll32.exe - (MSTICALERTSWIN1)  - [id:2518547714835690929_8e73946b-ebea-4625-aa60-d97b82dcfb07]",
        "2019-01-15 05:15:16 - Detected possible local reconnaissance activity - (MSTICALERTSWIN1)  - [id:2518547714837217151_f0d023fb-376f-46ab-9976-a5825d826bea]",
        "2019-01-15 05:15:16 - Detected suspicious Set-ExecutionPolicy and WinRM changes - (MSTICALERTSWIN1)  - [id:2518547714832788202_b56b9e61-fefb-47a3-a34f-7c1b44f8268a]",
        "2019-01-15 05:15:16 - Detected suspicious commandline used to start all executables in a directory - (MSTICALERTSWIN1)  - [id:2518547714833232927_0e8db234-9727-41f3-a6e0-0773519603d2]",
        "2019-01-15 05:15:16 - Detected potentially suspicious use of Telegram tool - (MSTICALERTSWIN1)  - [id:2518547714833859291_4fa26308-1daf-49ee-8880-b194f950d8b0]",
        "2019-01-15 05:15:16 - Suspected Kerberos Golden Ticket attack parameters observed - (MSTICALERTSWIN1)  - [id:2518547714838326136_e776fca2-4c01-43eb-ab97-b9845af3529c]",
        "2019-01-15 05:15:16 - Detected actions indicative of disabling and deleting IIS log files. - (MSTICALERTSWIN1)  - [id:2518547714831067013_8df27789-fb10-4035-ac48-cd0883b2e6b0]",
        "2019-01-15 05:15:17 - Azure Security Center test alert (not a threat) - (MSTICALERTSWIN1)  - [id:2518547714824290520_b2d9be9f-58e2-4174-8658-419670393253]",
        "2019-01-15 05:15:17 - Suspicious SVCHOST process executed - (nan)  - [id:2518547714825902697_fcbb6bb7-4c7c-488e-903c-f625e98db7c4]",
        "2019-01-15 05:15:17 - Random process name detected - (MSTICALERTSWIN1)  - [id:2518547714829244584_9984a237-2dd7-4932-bb8d-23ca535a6254]",
        "2019-01-15 05:15:17 - Rare SVCHOST service group executed - (nan)  - [id:2518547714825070946_58694b54-2bee-4160-9595-30903b466f6e]",
        "2019-01-15 05:15:17 - Suspicious double extension file executed - (nan)  - [id:2518547714828736209_2b2ff728-1a2a-46e8-a49a-6991e074a740]",
        "2019-01-15 05:15:17 - Suspicious Volume Shadow Copy Activity - (nan)  - [id:2518547714828638992_6c6836bb-23cd-4b31-b78e-08360c5a4f83]",
        "2019-01-15 05:15:18 - Detected suspicious execution of VBScript.Encode command - (MSTICALERTSWIN1)  - [id:2518547714811804858_5b42a152-64c2-4f16-8cc3-887b8b0161fc]",
        "2019-01-15 05:15:18 - Detected suspicious file cleanup commands - (MSTICALERTSWIN1)  - [id:2518547714814450855_c0822e2b-785b-41a8-8136-21b7430a0078]",
        "2019-01-15 05:15:18 - Detected Petya ransomware indicators - (MSTICALERTSWIN1)  - [id:2518547714812938298_fa4939d4-a20c-440a-839c-89c0c43e1ccc]",
        "2019-01-15 05:15:18 - Detected suspicious file creation - (MSTICALERTSWIN1)  - [id:2518547714816637303_3252483f-2fdb-411a-93f5-e268d5e56abf]",
        "2019-01-15 05:15:18 - Detected suspicious use of Pcalua.exe to launch executable code - (MSTICALERTSWIN1)  - [id:2518547714811337754_ad1fd62a-9565-41e4-b94a-6264942033f6]",
        "2019-01-15 05:15:18 - Detected possible execution of keygen executable - (MSTICALERTSWIN1)  - [id:2518547714814533914_38d53571-e98a-4bb6-a17f-0361a561019e]",
        "2019-01-15 05:15:18 - Detected suspicious use of Cacls to lower the security state of the system. - (MSTICALERTSWIN1)  - [id:2518547714815952205_1ba5718e-529b-441b-8036-ad06ee862e76]",
        "2019-01-15 05:15:18 - Detected the disabling of critical services - (MSTICALERTSWIN1)  - [id:2518547714813299511_a5df127a-f7e8-44ff-b404-6d5b37d06488]",
        "2019-01-15 05:15:18 - Ransomware indicators detected - (MSTICALERTSWIN1)  - [id:2518547714812286467_d5e026fa-6687-495e-878d-c4c93477cc78]",
        "2019-01-15 05:15:18 - Detected possible execution of malware dropper - (MSTICALERTSWIN1)  - [id:2518547714815009424_9a34d332-2fb6-4f3f-beb0-d9817dc9b7cd]",
        "2019-01-15 05:15:18 - High risk software detected - (MSTICALERTSWIN1)  - [id:2518547714813699414_d12ed618-567b-4b8f-8241-82ad4c1cb28e]",
        "2019-01-15 05:15:19 - Possible credential dumping detected - (MSTICALERTSWIN1)  - [id:2518547714809416002_76bf04a5-71fa-487a-9742-d54941a7a194]",
        "2019-01-15 05:15:19 - Suspicious download using Certutil detected - (MSTICALERTSWIN1)  - [id:2518547714805546049_03e7bf17-8f77-42ca-8ac1-af8258f4d1ca]",
        "2019-01-15 09:15:03 - Suspicious Account Creation Detected - (MSTICALERTSWIN1)  - [id:2518547570966661760_526e34b6-6578-4fc0-9db6-e126b4d673f0]",
        "2019-01-15 09:15:07 - Potential attempt to bypass AppLocker detected - (MSTICALERTSWIN1)  - [id:2518547570924760670_9868ed7d-397e-4aa4-8dbd-5a1c5f736c1e]",
        "2019-01-15 09:15:10 - Suspiciously named process detected - (MSTICALERTSWIN1)  - [id:2518547570895430544_4ea6c432-6d20-4986-9679-ecf58ac4854d]",
        "2019-01-15 09:15:10 - Digital currency mining related behavior detected - (MSTICALERTSWIN1)  - [id:2518547570895430544_72351be4-ae78-4cc6-9f6a-1ff87c31baeb]",
        "2019-01-15 09:15:11 - Detected obfuscated command line. - (MSTICALERTSWIN1)  - [id:2518547570880067443_c1a9004f-7f64-4144-8ce0-8f76f9041703]",
        "2019-01-15 09:15:11 - Suspicious Powershell Activity Detected - (MSTICALERTSWIN1)  - [id:2518547570883109415_c762b0f7-a0f5-4dda-ab48-54b5ae6eade4]",
        "2019-01-15 09:15:11 - Suspicious Powershell Activity Detected - (MSTICALERTSWIN1)  - [id:2518547570884378777_92a2f884-5827-4fb6-acf8-b0087b76aa73]",
        "2019-01-15 09:15:11 - Suspicious Powershell Activity Detected - (MSTICALERTSWIN1)  - [id:2518547570881721037_4ca5c629-673c-4372-9bd3-ab7bf6d6e6f0]",
        "2019-01-15 09:15:12 - Suspicious Powershell Activity Detected - (MSTICALERTSWIN1)  - [id:2518547570876432155_ce7c7361-8ac9-47be-b8fb-7a87c87ee178]",
        "2019-01-15 09:15:13 - Suspicious system process executed - (nan)  - [id:2518547570865502616_9d5e263f-55d2-441f-acf4-bf569b4cd976]",
        "2019-01-15 09:15:13 - Executable found running from a suspicious location - (MSTICALERTSWIN1)  - [id:2518547570865502616_c6f3dea2-fe36-4e65-b161-1b1cd1104eb3]",
        "2019-01-15 09:15:13 - Suspicious WindowPosition registry value detected - (MSTICALERTSWIN1)  - [id:2518547570866947129_1b074412-133c-4ac9-8e3f-24103159b03e]",
        "2019-01-15 09:15:13 - Executable found running from a suspicious location - (MSTICALERTSWIN1)  - [id:2518547570860979996_bddac8c5-cba5-4da2-a6dd-c0a39fc2b256]",
        "2019-01-15 09:15:13 - Suspicious process executed - (MSTICALERTSWIN1)  - [id:2518547570862568702_029c9c95-c1fe-4419-bc3b-a6d832c87e65]",
        "2019-01-15 09:15:14 - Suspicious process executed - (MSTICALERTSWIN1)  - [id:2518547570851316041_43f7d8f3-fea5-4fca-a884-713c2d65203c]",
        "2019-01-15 09:15:14 - Detected anomalous mix of upper and lower case characters in command-line - (MSTICALERTSWIN1)  - [id:2518547570852901341_3ca6ca5a-8bf2-417f-b8c9-3cea37c84f4b]",
        "2019-01-15 09:15:16 - Suspicious double extension file executed - (nan)  - [id:2518547570836535349_c45bcb62-9d89-44e8-bea9-7a9e35205576]",
        "2019-01-15 09:15:16 - Rare SVCHOST service group executed - (nan)  - [id:2518547570834399134_26ccc2ad-8ce0-4f60-8215-18f99377b547]",
        "2019-01-15 09:15:16 - Suspicious Volume Shadow Copy Activity - (nan)  - [id:2518547570836431794_b9d79b27-d725-4a87-b7ec-6fc9ec591e8c]",
        "2019-01-15 09:15:16 - Azure Security Center test alert (not a threat) - (MSTICALERTSWIN1)  - [id:2518547570833725387_2df8ae94-03fe-4b9f-a3a9-f3c6dab95c05]",
        "2019-01-15 09:15:16 - Suspicious SVCHOST process executed - (nan)  - [id:2518547570835168086_117b7a02-d1d0-4cf2-bc04-0b19a796b4d3]",
        "2019-01-15 09:15:17 - Ransomware indicators detected - (MSTICALERTSWIN1)  - [id:2518547570821365949_48327b74-c904-402d-a1d8-2b3a882924e7]",
        "2019-01-15 09:15:17 - Detected Petya ransomware indicators - (MSTICALERTSWIN1)  - [id:2518547570821871899_e647375c-9979-47b5-9f78-f414a1aad26d]",
        "2019-01-15 11:45:00 - Suspicious Account Creation Detected - (MSTICALERTSWIN1)  - [id:2518547480991748435_836318d1-0fa0-4cfe-a3d0-2b1fdbaf2216]",
        "2019-01-15 11:45:01 - Suspiciously named process detected - (MSTICALERTSWIN1)  - [id:2518547480988516756_54bb943e-7fe9-4146-a43e-4064c8e0049f]",
        "2019-01-15 11:45:01 - Digital currency mining related behavior detected - (MSTICALERTSWIN1)  - [id:2518547480988516756_668ed54c-9e73-4d4f-a9c2-b88fd1b13db0]",
        "2019-01-15 11:45:01 - Potential attempt to bypass AppLocker detected - (MSTICALERTSWIN1)  - [id:2518547480989617678_f3490cf7-a303-4001-b7d6-8acf7e83f191]",
        "2019-01-15 11:45:01 - Suspicious Powershell Activity Detected - (MSTICALERTSWIN1)  - [id:2518547480982973701_24a6d6f3-acf1-41bd-a11f-01a1369bac02]",
        "2019-01-15 11:45:01 - Suspicious Powershell Activity Detected - (MSTICALERTSWIN1)  - [id:2518547480984263491_d46877bd-e04d-401a-99bd-eec2a6b25663]",
        "2019-01-15 11:45:01 - Detected obfuscated command line. - (MSTICALERTSWIN1)  - [id:2518547480982511513_adfabbe0-fce0-44f3-be4b-17283bd03bed]",
        "2019-01-15 11:45:01 - Suspicious Powershell Activity Detected - (MSTICALERTSWIN1)  - [id:2518547480980813134_5cb7ab95-6017-4031-afb2-e11518b0f5cc]",
        "2019-01-15 11:45:01 - Suspicious Powershell Activity Detected - (MSTICALERTSWIN1)  - [id:2518547480983467170_9da8e3df-9c3b-4e20-8bd0-ace00aff9def]",
        "2019-01-15 11:45:02 - Executable found running from a suspicious location - (MSTICALERTSWIN1)  - [id:2518547480975043692_7e663699-5412-496f-ac91-e21a7b6f0be5]",
        "2019-01-15 11:45:02 - Executable found running from a suspicious location - (MSTICALERTSWIN1)  - [id:2518547480977057409_ed9d92ac-0ab8-4a2e-a1dd-f70ee30a9af1]",
        "2019-01-15 11:45:02 - Suspicious WindowPosition registry value detected - (MSTICALERTSWIN1)  - [id:2518547480977469312_e9ff6947-fd12-42d2-bb63-2d814f04482a]",
        "2019-01-15 11:45:02 - Suspicious process executed - (MSTICALERTSWIN1)  - [id:2518547480976076338_2a106d12-acd8-4dd7-9e1c-3c20b4eaa320]",
        "2019-01-15 11:45:02 - Suspicious system process executed - (nan)  - [id:2518547480977057409_492fbb97-a1fc-4880-95d2-e55ab2f142b6]",
        "2019-01-15 11:45:02 - Detected anomalous mix of upper and lower case characters in command-line - (MSTICALERTSWIN1)  - [id:2518547480970182118_c0558adc-b4a9-4289-b9ad-7e7260f1cde0]",
        "2019-01-15 11:45:03 - Suspicious process executed - (MSTICALERTSWIN1)  - [id:2518547480968677354_88eb8a87-a876-46aa-b8ed-be7298929ea8]",
        "2019-01-15 11:45:04 - Random process name detected - (MSTICALERTSWIN1)  - [id:2518547480956885358_b66e93d7-b38b-4785-baa5-093edc18e649]",
        "2019-01-15 11:45:04 - Suspicious Volume Shadow Copy Activity - (nan)  - [id:2518547480955968326_fa350f8b-2c81-478c-a383-debe0ab0c892]",
        "2019-01-15 11:45:04 - Suspicious double extension file executed - (nan)  - [id:2518547480956378190_2b59c1d5-a815-4562-a8d4-36d9777e6546]",
        "2019-01-15 11:45:05 - Rare SVCHOST service group executed - (nan)  - [id:2518547480946682289_f83c0705-d2ff-4355-a25d-ae858ee39b2d]",
        "2019-01-15 11:45:05 - Suspicious SVCHOST process executed - (nan)  - [id:2518547480947565906_5c82cd9c-60f8-4056-bd39-8ccb2cdb7678]",
        "2019-01-15 11:45:05 - Azure Security Center test alert (not a threat) - (MSTICALERTSWIN1)  - [id:2518547480945920380_00d33245-c643-4155-8c05-6abc4ee3b3cd]",
        "2019-01-15 11:45:06 - Ransomware indicators detected - (MSTICALERTSWIN1)  - [id:2518547480937987105_ec1678a1-0fe8-44c5-91b5-621c40d2bb8c]",
        "2019-01-15 11:45:06 - Detected Petya ransomware indicators - (MSTICALERTSWIN1)  - [id:2518547480938543829_91a4f9a7-70ad-433b-a568-34314e3f467f]",
        "2019-01-15 13:15:10 - Suspiciously named process detected - (MSTICALERTSWIN1)  - [id:2518547426892072407_171b74b2-a431-4b55-8d69-128e5fb95329]",
        "2019-01-15 13:15:13 - Suspicious WindowPosition registry value detected - (MSTICALERTSWIN1)  - [id:2518547426863814510_75495c57-4fd6-4e27-b94c-c6f81f78bcb5]",
        "2019-01-15 13:15:13 - Suspicious system process executed - (nan)  - [id:2518547426862437699_184c075e-64ee-4901-bc37-6eb999e81a11]",
        "2019-01-15 13:15:14 - Suspicious process executed - (MSTICALERTSWIN1)  - [id:2518547426859453218_89d1850f-dccd-4d45-b194-650819d358d9]",
        "2019-01-15 13:15:14 - Executable found running from a suspicious location - (MSTICALERTSWIN1)  - [id:2518547426858055460_51b74398-40e2-4b1b-9d92-89c0004738c9]",
        "2019-01-15 13:15:15 - Suspicious process executed - (MSTICALERTSWIN1)  - [id:2518547426847947731_caa12d6c-4928-4787-90d4-cb27ff94373c]",
        "2019-01-15 13:15:16 - Suspicious SVCHOST process executed - (nan)  - [id:2518547426831794607_a513ab17-2b6a-4b1a-a925-a0b3c21ec38c]",
        "2019-01-15 13:15:16 - Rare SVCHOST service group executed - (nan)  - [id:2518547426830640211_88f9ae7a-e6b5-4b54-b967-08f3fc503d91]",
        "2019-01-15 13:15:16 - Suspicious Volume Shadow Copy Activity - (nan)  - [id:2518547426833434810_b6e594ea-16d3-480e-81a7-2f8fe3af64ba]",
        "2019-01-15 13:15:16 - Suspicious double extension file executed - (nan)  - [id:2518547426833838523_7b30c978-28d5-4a28-a4c2-0985f08ab1c6]",
        "2019-01-15 13:15:17 - Azure Security Center test alert (not a threat) - (MSTICALERTSWIN1)  - [id:2518547426829675756_846ec406-bb3e-451b-bf6f-9e1e17a69bd6]",
        "2019-01-15 13:15:18 - Ransomware indicators detected - (MSTICALERTSWIN1)  - [id:2518547426817428483_636ab38f-2528-4356-8602-d0910f8ac600]",
        "2019-01-15 13:15:18 - Detected Petya ransomware indicators - (MSTICALERTSWIN1)  - [id:2518547426817928329_a4aa878d-93b5-4cd1-931f-30f85b9e6db2]",
        "2019-01-15 17:15:03 - Suspicious Account Creation Detected - (MSTICALERTSWIN1)  - [id:2518547282966696689_3db7e1e7-2edc-4dd9-8c1d-d908f5b8a904]",
        "2019-01-15 17:15:10 - Potential attempt to bypass AppLocker detected - (MSTICALERTSWIN1)  - [id:2518547282896095305_82730ffa-b9ce-43f4-bf3c-a97113107cc5]",
        "2019-01-15 17:15:10 - Suspiciously named process detected - (MSTICALERTSWIN1)  - [id:2518547282892925953_0073e6d8-6c2e-42e4-8966-d1f5a3dd3517]",
        "2019-01-15 17:15:10 - Digital currency mining related behavior detected - (MSTICALERTSWIN1)  - [id:2518547282892925953_35c8d588-ddf7-46b5-a0bf-f47023f9343c]",
        "2019-01-15 17:15:11 - Suspicious Powershell Activity Detected - (MSTICALERTSWIN1)  - [id:2518547282880013417_d65aa787-e867-43b1-9182-025a1a38173a]",
        "2019-01-15 17:15:11 - Suspicious Powershell Activity Detected - (MSTICALERTSWIN1)  - [id:2518547282881581273_ed5bcf39-ffd3-468a-82e3-28e108d4f06f]",
        "2019-01-15 17:15:11 - Suspicious Powershell Activity Detected - (MSTICALERTSWIN1)  - [id:2518547282883193041_31ae6eeb-bd1d-4018-8df9-eeedd60bf1ab]",
        "2019-01-15 17:15:12 - Suspicious Powershell Activity Detected - (MSTICALERTSWIN1)  - [id:2518547282874783943_bd1a0865-a507-4e2b-b8df-613238a950df]",
        "2019-01-15 17:15:12 - Detected obfuscated command line. - (MSTICALERTSWIN1)  - [id:2518547282878855119_d89d1ab7-e5b7-426c-a98f-eab95deea3ad]",
        "2019-01-15 17:15:13 - Suspicious system process executed - (nan)  - [id:2518547282863799328_7e169933-4275-4b94-b37f-490417bcfc98]",
        "2019-01-15 17:15:13 - Suspicious WindowPosition registry value detected - (MSTICALERTSWIN1)  - [id:2518547282865194453_9895a5cc-6f49-45f5-a0eb-f05c1f11f264]",
        "2019-01-15 17:15:13 - Executable found running from a suspicious location - (MSTICALERTSWIN1)  - [id:2518547282863799328_84ea8dcd-9436-4b4d-82b2-36114028bd61]",
        "2019-01-15 17:15:14 - Suspicious process executed - (MSTICALERTSWIN1)  - [id:2518547282859754476_0c3ae402-a9ea-4d5c-9c09-4274b7847c2c]",
        "2019-01-15 17:15:14 - Detected anomalous mix of upper and lower case characters in command-line - (MSTICALERTSWIN1)  - [id:2518547282850984831_7f983018-fd59-4e9e-ba70-295f6beb0e9c]",
        "2019-01-15 17:15:14 - Executable found running from a suspicious location - (MSTICALERTSWIN1)  - [id:2518547282858353938_58851b10-8f5c-48f1-aade-b1529f4e2c7f]",
        "2019-01-15 17:15:15 - Suspicious process executed - (MSTICALERTSWIN1)  - [id:2518547282845656644_c7318da8-368f-47f8-bff5-e15600a3fb80]",
        "2019-01-15 17:15:17 - Suspicious double extension file executed - (nan)  - [id:2518547282825853773_e6c85135-2b91-4537-b9a0-dae7eabb8e9d]",
        "2019-01-15 17:15:17 - Suspicious Volume Shadow Copy Activity - (nan)  - [id:2518547282825448815_6a71b543-4832-4658-8467-825aeafbe031]",
        "2019-01-15 17:15:18 - Rare SVCHOST service group executed - (nan)  - [id:2518547282813841329_a7e8e8c1-4561-48ea-bf75-a22c7bfc2257]",
        "2019-01-15 17:15:18 - Azure Security Center test alert (not a threat) - (MSTICALERTSWIN1)  - [id:2518547282812706885_12ae1e22-347e-454c-ae0d-ebb48cdf189b]",
        "2019-01-15 17:15:18 - Suspicious SVCHOST process executed - (nan)  - [id:2518547282814913644_34cc156e-9179-44c4-bd60-89dd1812e9e7]",
        "2019-01-15 17:15:19 - Detected Petya ransomware indicators - (MSTICALERTSWIN1)  - [id:2518547282803821916_c76cdb6c-cea0-4b2b-9ab6-1442a5857ed8]",
        "2019-01-15 17:15:19 - Ransomware indicators detected - (MSTICALERTSWIN1)  - [id:2518547282802847718_4a524cc8-7613-4c42-93a9-8c1e466a4476]",
        "2019-01-15 21:18:10 - Suspicious Account Added - (nan)  - [id:cbdce694-666c-4844-a29c-e7f4b66e27d1]"
       ],
       "description": "Select alert :",
       "index": 8,
       "layout": "IPY_MODEL_cfe37e3196c847b3b21ee90d4e19d269",
       "style": "IPY_MODEL_86a472d8b5ee4a8695396e4646618a5e"
      }
     },
     "fd58b07bece24fa79c50f8e2885eb57c": {
      "model_module": "@jupyter-widgets/controls",
      "model_module_version": "1.5.0",
      "model_name": "ButtonStyleModel",
      "state": {}
     },
     "fea23e3c1f4c49ce92a622194cda6dbe": {
      "model_module": "@jupyter-widgets/controls",
      "model_module_version": "1.5.0",
      "model_name": "DescriptionStyleModel",
      "state": {
       "description_width": ""
      }
     },
     "ff8b9833a5a340ff9a442212f568d76b": {
      "model_module": "@jupyter-widgets/controls",
      "model_module_version": "1.5.0",
      "model_name": "TextModel",
      "state": {
       "description": "Query end time (UTC) :  ",
       "layout": "IPY_MODEL_040ecb560135412999d5113f3dee2640",
       "style": "IPY_MODEL_34fe7ff875524dba86d9fd643902dbb1",
       "value": "2020-05-28 21:13:56.295512"
      }
     }
    },
    "version_major": 2,
    "version_minor": 0
   }
  }
 },
 "nbformat": 4,
 "nbformat_minor": 4
}
