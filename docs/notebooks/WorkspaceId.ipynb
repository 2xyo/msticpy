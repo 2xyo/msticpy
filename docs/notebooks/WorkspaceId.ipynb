{
 "cells": [
  {
   "cell_type": "markdown",
   "metadata": {},
   "source": [
    "# Extract workspace details from portal URI"
   ]
  },
  {
   "cell_type": "code",
   "execution_count": 101,
   "metadata": {},
   "outputs": [
    {
     "name": "stdout",
     "output_type": "stream",
     "text": [
      "microsoft.onmicrosoft.com /subscriptions/d1d8779d-38d7-4f06-91db-9cbc8de0176f/resourceGroups/soc/providers/Microsoft.OperationalInsights/workspaces/cybersecuritysoc/Overview\n"
     ]
    },
    {
     "data": {
      "text/plain": [
       "{'subscription': 'd1d8779d-38d7-4f06-91db-9cbc8de0176f',\n",
       " 'resource_group': 'soc',\n",
       " 'namespace': 'Microsoft.OperationalInsights',\n",
       " 'type': 'workspaces',\n",
       " 'name': 'cybersecuritysoc',\n",
       " 'children': '/Overview',\n",
       " 'resource_parent': '',\n",
       " 'resource_namespace': 'Microsoft.OperationalInsights',\n",
       " 'resource_type': 'workspaces',\n",
       " 'resource_name': 'cybersecuritysoc'}"
      ]
     },
     "execution_count": 101,
     "metadata": {},
     "output_type": "execute_result"
    }
   ],
   "source": [
    "# Ask the user to paste in the URL from the portal\n",
    "portal_ws_uri = (\n",
    "    \"https://ms.portal.azure.com/#@microsoft.onmicrosoft.com/resource/subscriptions/d1d8779d-38d7-4f06-91db-9cbc8de0176f/resourceGroups/soc/providers/Microsoft.OperationalInsights/workspaces/cybersecuritysoc/Overview\"\n",
    ")\n",
    "\n",
    "import re\n",
    "\n",
    "resid_pattern = (\n",
    "    r\"https://.*@(?P<tenantname>[^/]+)/resource(?P<res_id>/subscriptions/.*)\"\n",
    ")\n",
    "ws_match = re.search(resid_pattern, portal_ws_uri)\n",
    "if ws_match:\n",
    "    tenant_name = ws_match.groupdict().get(\"tenantname\")\n",
    "    ws_res_id = ws_match.groupdict().get(\"res_id\")\n",
    "\n",
    "print(tenant_name, ws_res_id)\n",
    "from msrestazure.tools import parse_resource_id, resource_id\n",
    "\n",
    "# parse resource id into components\n",
    "ws_props = parse_resource_id(ws_res_id)\n",
    "ws_props"
   ]
  },
  {
   "cell_type": "code",
   "execution_count": 100,
   "metadata": {},
   "outputs": [
    {
     "data": {
      "text/plain": [
       "True"
      ]
     },
     "execution_count": 100,
     "metadata": {},
     "output_type": "execute_result"
    }
   ],
   "source": [
    "from msrestazure.tools import parse_resource_id, resource_id, is_valid_resource_id\n",
    "# Can we convert back and is resource ID valid?\n",
    "print(resource_id(**ws_props))\n",
    "is_valid_resource_id(resource_id(**ws_props))"
   ]
  },
  {
   "cell_type": "markdown",
   "metadata": {},
   "source": [
    "## Queries to get workspace details from Resource graph\n"
   ]
  },
  {
   "cell_type": "code",
   "execution_count": 102,
   "metadata": {},
   "outputs": [
    {
     "data": {
      "text/plain": [
       "True"
      ]
     },
     "execution_count": 102,
     "metadata": {},
     "output_type": "execute_result"
    }
   ],
   "source": [
    "import msticpy\n",
    "\n",
    "msticpy.init_notebook(verbosity=0)\n",
    "az_qry = QueryProvider(\"ResourceGraph\")\n",
    "az_qry.connect()"
   ]
  },
  {
   "cell_type": "code",
   "execution_count": 99,
   "metadata": {},
   "outputs": [
    {
     "data": {
      "text/plain": [
       "{'workspaceName': 'CyberSecuritySOC',\n",
       " 'workspaceId': '8ecf8077-cf51-4820-aadd-14040956f35d',\n",
       " 'tenantId': '4b2462a4-bbee-495a-a0e1-f23ae524cc9c',\n",
       " 'subscriptionId': 'd1d8779d-38d7-4f06-91db-9cbc8de0176f',\n",
       " 'resourceGroup': 'soc',\n",
       " 'id': '/subscriptions/d1d8779d-38d7-4f06-91db-9cbc8de0176f/resourceGroups/soc/providers/Microsoft.OperationalInsights/workspaces/cybersecuritysoc'}"
      ]
     },
     "execution_count": 99,
     "metadata": {},
     "output_type": "execute_result"
    }
   ],
   "source": [
    "ws_details_by_id = \"\"\"\n",
    "Resources\n",
    "| where type == \"microsoft.operationalinsights/workspaces\"\n",
    "| where id =~ \"{resource_id}\"\n",
    "| extend workspaceId = tostring(properties[\"customerId\"])\n",
    "| project-rename workspaceName = name\n",
    "| project workspaceName, workspaceId, tenantId, subscriptionId, resourceGroup, id\n",
    "\"\"\"\n",
    "ws_resource_details = (\n",
    "    az_qry.exec_query(ws_details_by_id.format(resource_id=resource_id(**ws_props)))\n",
    "    .iloc[0]\n",
    "    .to_dict()\n",
    ")\n",
    "ws_resource_details"
   ]
  },
  {
   "cell_type": "code",
   "execution_count": 97,
   "metadata": {},
   "outputs": [
    {
     "data": {
      "text/plain": [
       "{'workspaceName': 'CyberSecuritySOC',\n",
       " 'workspaceId': '8ecf8077-cf51-4820-aadd-14040956f35d',\n",
       " 'tenantId': '4b2462a4-bbee-495a-a0e1-f23ae524cc9c',\n",
       " 'subscriptionId': 'd1d8779d-38d7-4f06-91db-9cbc8de0176f',\n",
       " 'resourceGroup': 'soc',\n",
       " 'id': '/subscriptions/d1d8779d-38d7-4f06-91db-9cbc8de0176f/resourceGroups/soc/providers/Microsoft.OperationalInsights/workspaces/cybersecuritysoc'}"
      ]
     },
     "execution_count": 97,
     "metadata": {},
     "output_type": "execute_result"
    }
   ],
   "source": [
    "ws_details_by_name = \"\"\"\n",
    "Resources\n",
    "| where type == \"microsoft.operationalinsights/workspaces\"\n",
    "| where name =~ \"{resource_name}\"\n",
    "  and (\"{resource_group}\" == \"\" or resourceGroup =~ \"{resource_group}\")\n",
    "  and (\"{subscription_id}\" == \"\" or subscriptionId =~ \"{subscription_id}\")\n",
    "| extend workspaceId = tostring(properties[\"customerId\"])\n",
    "| project-rename workspaceName = name\n",
    "| project workspaceName, workspaceId, tenantId, subscriptionId, resourceGroup, id\n",
    "\"\"\"\n",
    "ws_resource_details = (\n",
    "    az_qry.exec_query(\n",
    "        ws_details_by_name.format(\n",
    "            resource_name=ws_props[\"resource_name\"],\n",
    "            resource_group=ws_props[\"resource_group\"],\n",
    "            subscription_id=\"\",\n",
    "        )\n",
    "    )\n",
    "    .iloc[0]\n",
    "    .to_dict()\n",
    ")\n",
    "# Note this query can return multiple rows - should check for that\n",
    "ws_resource_details"
   ]
  },
  {
   "cell_type": "code",
   "execution_count": null,
   "metadata": {},
   "outputs": [
    {
     "data": {
      "text/plain": [
       "{'workspaceName': 'CyberSecuritySOC',\n",
       " 'workspaceId': '8ecf8077-cf51-4820-aadd-14040956f35d',\n",
       " 'tenantId': '4b2462a4-bbee-495a-a0e1-f23ae524cc9c',\n",
       " 'subscriptionId': 'd1d8779d-38d7-4f06-91db-9cbc8de0176f',\n",
       " 'resourceGroup': 'soc'}"
      ]
     },
     "metadata": {},
     "output_type": "display_data"
    }
   ],
   "source": [
    "ws_details_qry = \"\"\"\n",
    "Resources\n",
    "| where type == \"microsoft.operationalinsights/workspaces\"\n",
    "| extend workspaceId = tostring(properties[\"customerId\"])\n",
    "| where workspaceId =~ \"{workspace_id}\"\n",
    "| project-rename workspaceName = name\n",
    "| project workspaceName, workspaceId, tenantId, subscriptionId, resourceGroup, id\n",
    "\"\"\"\n",
    "ws_resource_details = (\n",
    "    az_qry.exec_query(\n",
    "        ws_details_qry.format(\n",
    "            resource_name=ws_props[\"resource_name\"],\n",
    "            resource_group=ws_props[\"resource_group\"],\n",
    "        )\n",
    "    )\n",
    "    .iloc[0]\n",
    "    .to_dict()\n",
    ")\n",
    "ws_resource_details"
   ]
  },
  {
   "cell_type": "markdown",
   "metadata": {},
   "source": [
    "# Get the tenant ID of the user (not necessarily the workspace)"
   ]
  },
  {
   "cell_type": "code",
   "execution_count": 88,
   "metadata": {},
   "outputs": [
    {
     "data": {
      "text/plain": [
       "{'endpoint': 'https://login.microsoftonline.com',\n",
       " 'tenant_id': '72f988bf-86f1-41af-91ab-2d7cd011db47'}"
      ]
     },
     "execution_count": 88,
     "metadata": {},
     "output_type": "execute_result"
    }
   ],
   "source": [
    "tenant_uri = (\n",
    "    \"https://login.microsoftonline.com/{tenant_name}/.well-known/openid-configuration\"\n",
    ")\n",
    "\n",
    "t_resp = requests.get(tenant_uri.format(tenant_name=tenant_name))\n",
    "tenant_details = t_resp.json()\n",
    "\n",
    "tenant_ep_rgx = r\"(?P<endpoint>https://[^/]+)/(?P<tenant_id>[^/]+).*\"\n",
    "tenant_match = re.search(\n",
    "    tenant_ep_rgx, tenant_details.get(\"token_endpoint\")\n",
    ").groupdict()\n",
    "tenant_match"
   ]
  },
  {
   "cell_type": "markdown",
   "metadata": {},
   "source": [
    "## Get the cloud for the tenant endpoint"
   ]
  },
  {
   "cell_type": "code",
   "execution_count": 95,
   "metadata": {},
   "outputs": [],
   "source": [
    "from msrestazure import azure_cloud\n",
    "from msticpy.auth.cloud_mappings import create_cloud_ep_dict\n",
    "\n",
    "azure_cloud.AZURE_PUBLIC_CLOUD.endpoints\n",
    "\n",
    "tenant_cloud = next(\n",
    "    iter(\n",
    "        cloud\n",
    "        for cloud, aad in create_cloud_ep_dict(\"active_directory\").items()\n",
    "        if aad.casefold() == tenant_match[\"endpoint\"].casefold()\n",
    "    )\n",
    ")\n"
   ]
  },
  {
   "cell_type": "markdown",
   "metadata": {},
   "source": [
    "# Build settings for workspace and Azure\n",
    "\n",
    "We'll use these to populate the config"
   ]
  },
  {
   "cell_type": "code",
   "execution_count": null,
   "metadata": {},
   "outputs": [],
   "source": [
    "ws_settings = {\n",
    "    \"AzureSentinel\": {\n",
    "        \"Workspaces\": {\n",
    "            ws_resource_details['workspaceName']: {\n",
    "                \"WorkspaceId\": ws_resource_details['workspaceId'],\n",
    "                \"TenantId\": tenant_match[\"tenant_id\"],\n",
    "                \"SubscriptionId\": ws_props[\"subscription\"],\n",
    "                \"ResourceGroup\": ws_props[\"resource_group\"],\n",
    "                \"WorkspaceName\": ws_resource_details['workspaceName']\n",
    "            }\n",
    "        }\n",
    "    }\n",
    "}\n",
    "\n",
    "azure_settings = {\n",
    "    \"Azure\": {\n",
    "        \"cloud\": tenant_cloud,\n",
    "        \"auth_methods\": [\"cli\", \"msi\"]\n",
    "    }\n",
    "}"
   ]
  }
 ],
 "metadata": {
  "kernelspec": {
   "display_name": "Python 3.9.7 ('msticpy')",
   "language": "python",
   "name": "python3"
  },
  "language_info": {
   "codemirror_mode": {
    "name": "ipython",
    "version": 3
   },
   "file_extension": ".py",
   "mimetype": "text/x-python",
   "name": "python",
   "nbconvert_exporter": "python",
   "pygments_lexer": "ipython3",
   "version": "3.9.7"
  },
  "orig_nbformat": 4,
  "vscode": {
   "interpreter": {
    "hash": "0f1a8e166ce5c1ec1911a36e4fdbd34b2f623e2a3442791008b8ac429a1d6070"
   }
  }
 },
 "nbformat": 4,
 "nbformat_minor": 2
}
